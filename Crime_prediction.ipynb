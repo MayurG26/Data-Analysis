{
 "cells": [
  {
   "cell_type": "code",
   "execution_count": 3,
   "outputs": [],
   "source": [
    "import pandas as pd\n",
    "import numpy as np\n",
    "from numpy import absolute\n",
    "import matplotlib.pyplot as plt\n",
    "import seaborn as sns\n",
    "import sklearn\n",
    "import warnings\n",
    "from sklearn.preprocessing import LabelEncoder\n",
    "\n",
    "from sklearn.metrics import mean_absolute_error, mean_squared_error, explained_variance_score,r2_score,accuracy_score"
   ],
   "metadata": {
    "collapsed": false,
    "ExecuteTime": {
     "start_time": "2023-10-17T22:39:12.217932Z",
     "end_time": "2023-10-17T22:39:12.223485Z"
    }
   }
  },
  {
   "cell_type": "code",
   "execution_count": 4,
   "metadata": {
    "collapsed": true,
    "ExecuteTime": {
     "start_time": "2023-10-17T22:39:13.150414Z",
     "end_time": "2023-10-17T22:39:14.097883Z"
    }
   },
   "outputs": [],
   "source": [
    "dataset = pd.read_csv(\"/Users/mayur/Desktop/ALDA Project/Crime_Data_from_2020_to_Present 2.csv\")\n",
    "dataset['DATE OCC'] = pd.to_datetime(dataset['DATE OCC'])"
   ]
  },
  {
   "cell_type": "code",
   "execution_count": 5,
   "outputs": [
    {
     "data": {
      "text/plain": "       DR_NO               Date Rptd   DATE OCC  TIME OCC  AREA    AREA NAME  \\\n0   10304468  01/08/2020 12:00:00 AM 2020-01-08      2230     3    Southwest   \n1  190101086  01/02/2020 12:00:00 AM 2020-01-01       330     1      Central   \n2  201220752  09/16/2020 12:00:00 AM 2020-09-16      1230    12  77th Street   \n3  191501505  01/01/2020 12:00:00 AM 2020-01-01      1730    15  N Hollywood   \n4  191921269  01/01/2020 12:00:00 AM 2020-01-01       415    19      Mission   \n\n   Rpt Dist No  Part 1-2  Crm Cd  \\\n0          377         2     624   \n1          163         2     624   \n2         1259         2     745   \n3         1543         2     745   \n4         1998         2     740   \n\n                                         Crm Cd Desc  ... Status  Status Desc  \\\n0                           BATTERY - SIMPLE ASSAULT  ...     AO  Adult Other   \n1                           BATTERY - SIMPLE ASSAULT  ...     IC  Invest Cont   \n2           VANDALISM - MISDEAMEANOR ($399 OR UNDER)  ...     IC  Invest Cont   \n3           VANDALISM - MISDEAMEANOR ($399 OR UNDER)  ...     IC  Invest Cont   \n4  VANDALISM - FELONY ($400 & OVER, ALL CHURCH VA...  ...     IC  Invest Cont   \n\n  Crm Cd 1 Crm Cd 2  Crm Cd 3 Crm Cd 4  \\\n0    624.0      NaN       NaN      NaN   \n1    624.0      NaN       NaN      NaN   \n2    745.0      NaN       NaN      NaN   \n3    745.0    998.0       NaN      NaN   \n4    740.0      NaN       NaN      NaN   \n\n                                   LOCATION Cross Street      LAT       LON  \n0   1100 W  39TH                         PL          NaN  34.0141 -118.2978  \n1    700 S  HILL                         ST          NaN  34.0459 -118.2545  \n2    700 E  73RD                         ST          NaN  33.9739 -118.2630  \n3   5400    CORTEEN                      PL          NaN  34.1685 -118.4019  \n4  14400    TITUS                        ST          NaN  34.2198 -118.4468  \n\n[5 rows x 28 columns]",
      "text/html": "<div>\n<style scoped>\n    .dataframe tbody tr th:only-of-type {\n        vertical-align: middle;\n    }\n\n    .dataframe tbody tr th {\n        vertical-align: top;\n    }\n\n    .dataframe thead th {\n        text-align: right;\n    }\n</style>\n<table border=\"1\" class=\"dataframe\">\n  <thead>\n    <tr style=\"text-align: right;\">\n      <th></th>\n      <th>DR_NO</th>\n      <th>Date Rptd</th>\n      <th>DATE OCC</th>\n      <th>TIME OCC</th>\n      <th>AREA</th>\n      <th>AREA NAME</th>\n      <th>Rpt Dist No</th>\n      <th>Part 1-2</th>\n      <th>Crm Cd</th>\n      <th>Crm Cd Desc</th>\n      <th>...</th>\n      <th>Status</th>\n      <th>Status Desc</th>\n      <th>Crm Cd 1</th>\n      <th>Crm Cd 2</th>\n      <th>Crm Cd 3</th>\n      <th>Crm Cd 4</th>\n      <th>LOCATION</th>\n      <th>Cross Street</th>\n      <th>LAT</th>\n      <th>LON</th>\n    </tr>\n  </thead>\n  <tbody>\n    <tr>\n      <th>0</th>\n      <td>10304468</td>\n      <td>01/08/2020 12:00:00 AM</td>\n      <td>2020-01-08</td>\n      <td>2230</td>\n      <td>3</td>\n      <td>Southwest</td>\n      <td>377</td>\n      <td>2</td>\n      <td>624</td>\n      <td>BATTERY - SIMPLE ASSAULT</td>\n      <td>...</td>\n      <td>AO</td>\n      <td>Adult Other</td>\n      <td>624.0</td>\n      <td>NaN</td>\n      <td>NaN</td>\n      <td>NaN</td>\n      <td>1100 W  39TH                         PL</td>\n      <td>NaN</td>\n      <td>34.0141</td>\n      <td>-118.2978</td>\n    </tr>\n    <tr>\n      <th>1</th>\n      <td>190101086</td>\n      <td>01/02/2020 12:00:00 AM</td>\n      <td>2020-01-01</td>\n      <td>330</td>\n      <td>1</td>\n      <td>Central</td>\n      <td>163</td>\n      <td>2</td>\n      <td>624</td>\n      <td>BATTERY - SIMPLE ASSAULT</td>\n      <td>...</td>\n      <td>IC</td>\n      <td>Invest Cont</td>\n      <td>624.0</td>\n      <td>NaN</td>\n      <td>NaN</td>\n      <td>NaN</td>\n      <td>700 S  HILL                         ST</td>\n      <td>NaN</td>\n      <td>34.0459</td>\n      <td>-118.2545</td>\n    </tr>\n    <tr>\n      <th>2</th>\n      <td>201220752</td>\n      <td>09/16/2020 12:00:00 AM</td>\n      <td>2020-09-16</td>\n      <td>1230</td>\n      <td>12</td>\n      <td>77th Street</td>\n      <td>1259</td>\n      <td>2</td>\n      <td>745</td>\n      <td>VANDALISM - MISDEAMEANOR ($399 OR UNDER)</td>\n      <td>...</td>\n      <td>IC</td>\n      <td>Invest Cont</td>\n      <td>745.0</td>\n      <td>NaN</td>\n      <td>NaN</td>\n      <td>NaN</td>\n      <td>700 E  73RD                         ST</td>\n      <td>NaN</td>\n      <td>33.9739</td>\n      <td>-118.2630</td>\n    </tr>\n    <tr>\n      <th>3</th>\n      <td>191501505</td>\n      <td>01/01/2020 12:00:00 AM</td>\n      <td>2020-01-01</td>\n      <td>1730</td>\n      <td>15</td>\n      <td>N Hollywood</td>\n      <td>1543</td>\n      <td>2</td>\n      <td>745</td>\n      <td>VANDALISM - MISDEAMEANOR ($399 OR UNDER)</td>\n      <td>...</td>\n      <td>IC</td>\n      <td>Invest Cont</td>\n      <td>745.0</td>\n      <td>998.0</td>\n      <td>NaN</td>\n      <td>NaN</td>\n      <td>5400    CORTEEN                      PL</td>\n      <td>NaN</td>\n      <td>34.1685</td>\n      <td>-118.4019</td>\n    </tr>\n    <tr>\n      <th>4</th>\n      <td>191921269</td>\n      <td>01/01/2020 12:00:00 AM</td>\n      <td>2020-01-01</td>\n      <td>415</td>\n      <td>19</td>\n      <td>Mission</td>\n      <td>1998</td>\n      <td>2</td>\n      <td>740</td>\n      <td>VANDALISM - FELONY ($400 &amp; OVER, ALL CHURCH VA...</td>\n      <td>...</td>\n      <td>IC</td>\n      <td>Invest Cont</td>\n      <td>740.0</td>\n      <td>NaN</td>\n      <td>NaN</td>\n      <td>NaN</td>\n      <td>14400    TITUS                        ST</td>\n      <td>NaN</td>\n      <td>34.2198</td>\n      <td>-118.4468</td>\n    </tr>\n  </tbody>\n</table>\n<p>5 rows × 28 columns</p>\n</div>"
     },
     "execution_count": 5,
     "metadata": {},
     "output_type": "execute_result"
    }
   ],
   "source": [
    "dataset.head()"
   ],
   "metadata": {
    "collapsed": false,
    "ExecuteTime": {
     "start_time": "2023-10-17T22:39:27.803938Z",
     "end_time": "2023-10-17T22:39:27.828451Z"
    }
   }
  },
  {
   "cell_type": "code",
   "execution_count": 6,
   "outputs": [
    {
     "data": {
      "text/plain": "              DR_NO       TIME OCC           AREA    Rpt Dist No  \\\ncount  3.178540e+05  317854.000000  317854.000000  317854.000000   \nmean   2.050625e+08    1352.762504      10.798860    1126.046200   \nstd    4.965168e+06     650.001432       6.039124     604.005822   \nmin    8.170000e+02       1.000000       1.000000     101.000000   \n25%    2.009132e+08     920.000000       6.000000     628.000000   \n50%    2.018096e+08    1430.000000      11.000000    1149.000000   \n75%    2.108086e+08    1900.000000      16.000000    1621.000000   \nmax    2.199178e+08    2359.000000      21.000000    2199.000000   \n\n            Part 1-2         Crm Cd       Vict Age      Premis Cd  \\\ncount  317854.000000  317854.000000  317854.000000  317849.000000   \nmean        1.412765     508.928842      30.073348     294.451117   \nstd         0.492332     210.338553      21.716577     212.949440   \nmin         1.000000     110.000000      -1.000000     101.000000   \n25%         1.000000     330.000000      12.000000     101.000000   \n50%         1.000000     510.000000      31.000000     203.000000   \n75%         2.000000     626.000000      45.000000     501.000000   \nmax         2.000000     956.000000     120.000000     971.000000   \n\n       Weapon Used Cd       Crm Cd 1      Crm Cd 2    Crm Cd 3    Crm Cd 4  \\\ncount   116477.000000  317851.000000  25981.000000  880.000000   30.000000   \nmean       362.523777     508.657604    955.427428  982.376136  989.866667   \nstd        123.158198     210.125700    116.066327   53.633150   34.225150   \nmin        101.000000     110.000000    210.000000  626.000000  821.000000   \n25%        308.000000     330.000000    998.000000  998.000000  998.000000   \n50%        400.000000     510.000000    998.000000  998.000000  998.000000   \n75%        400.000000     626.000000    998.000000  998.000000  998.000000   \nmax        516.000000     956.000000    999.000000  999.000000  999.000000   \n\n                 LAT            LON  \ncount  317854.000000  317854.000000  \nmean       33.825098    -117.495603  \nstd         2.893775      10.044824  \nmin         0.000000    -118.667600  \n25%        34.007800    -118.429600  \n50%        34.057400    -118.321300  \n75%        34.162900    -118.274000  \nmax        34.334300       0.000000  ",
      "text/html": "<div>\n<style scoped>\n    .dataframe tbody tr th:only-of-type {\n        vertical-align: middle;\n    }\n\n    .dataframe tbody tr th {\n        vertical-align: top;\n    }\n\n    .dataframe thead th {\n        text-align: right;\n    }\n</style>\n<table border=\"1\" class=\"dataframe\">\n  <thead>\n    <tr style=\"text-align: right;\">\n      <th></th>\n      <th>DR_NO</th>\n      <th>TIME OCC</th>\n      <th>AREA</th>\n      <th>Rpt Dist No</th>\n      <th>Part 1-2</th>\n      <th>Crm Cd</th>\n      <th>Vict Age</th>\n      <th>Premis Cd</th>\n      <th>Weapon Used Cd</th>\n      <th>Crm Cd 1</th>\n      <th>Crm Cd 2</th>\n      <th>Crm Cd 3</th>\n      <th>Crm Cd 4</th>\n      <th>LAT</th>\n      <th>LON</th>\n    </tr>\n  </thead>\n  <tbody>\n    <tr>\n      <th>count</th>\n      <td>3.178540e+05</td>\n      <td>317854.000000</td>\n      <td>317854.000000</td>\n      <td>317854.000000</td>\n      <td>317854.000000</td>\n      <td>317854.000000</td>\n      <td>317854.000000</td>\n      <td>317849.000000</td>\n      <td>116477.000000</td>\n      <td>317851.000000</td>\n      <td>25981.000000</td>\n      <td>880.000000</td>\n      <td>30.000000</td>\n      <td>317854.000000</td>\n      <td>317854.000000</td>\n    </tr>\n    <tr>\n      <th>mean</th>\n      <td>2.050625e+08</td>\n      <td>1352.762504</td>\n      <td>10.798860</td>\n      <td>1126.046200</td>\n      <td>1.412765</td>\n      <td>508.928842</td>\n      <td>30.073348</td>\n      <td>294.451117</td>\n      <td>362.523777</td>\n      <td>508.657604</td>\n      <td>955.427428</td>\n      <td>982.376136</td>\n      <td>989.866667</td>\n      <td>33.825098</td>\n      <td>-117.495603</td>\n    </tr>\n    <tr>\n      <th>std</th>\n      <td>4.965168e+06</td>\n      <td>650.001432</td>\n      <td>6.039124</td>\n      <td>604.005822</td>\n      <td>0.492332</td>\n      <td>210.338553</td>\n      <td>21.716577</td>\n      <td>212.949440</td>\n      <td>123.158198</td>\n      <td>210.125700</td>\n      <td>116.066327</td>\n      <td>53.633150</td>\n      <td>34.225150</td>\n      <td>2.893775</td>\n      <td>10.044824</td>\n    </tr>\n    <tr>\n      <th>min</th>\n      <td>8.170000e+02</td>\n      <td>1.000000</td>\n      <td>1.000000</td>\n      <td>101.000000</td>\n      <td>1.000000</td>\n      <td>110.000000</td>\n      <td>-1.000000</td>\n      <td>101.000000</td>\n      <td>101.000000</td>\n      <td>110.000000</td>\n      <td>210.000000</td>\n      <td>626.000000</td>\n      <td>821.000000</td>\n      <td>0.000000</td>\n      <td>-118.667600</td>\n    </tr>\n    <tr>\n      <th>25%</th>\n      <td>2.009132e+08</td>\n      <td>920.000000</td>\n      <td>6.000000</td>\n      <td>628.000000</td>\n      <td>1.000000</td>\n      <td>330.000000</td>\n      <td>12.000000</td>\n      <td>101.000000</td>\n      <td>308.000000</td>\n      <td>330.000000</td>\n      <td>998.000000</td>\n      <td>998.000000</td>\n      <td>998.000000</td>\n      <td>34.007800</td>\n      <td>-118.429600</td>\n    </tr>\n    <tr>\n      <th>50%</th>\n      <td>2.018096e+08</td>\n      <td>1430.000000</td>\n      <td>11.000000</td>\n      <td>1149.000000</td>\n      <td>1.000000</td>\n      <td>510.000000</td>\n      <td>31.000000</td>\n      <td>203.000000</td>\n      <td>400.000000</td>\n      <td>510.000000</td>\n      <td>998.000000</td>\n      <td>998.000000</td>\n      <td>998.000000</td>\n      <td>34.057400</td>\n      <td>-118.321300</td>\n    </tr>\n    <tr>\n      <th>75%</th>\n      <td>2.108086e+08</td>\n      <td>1900.000000</td>\n      <td>16.000000</td>\n      <td>1621.000000</td>\n      <td>2.000000</td>\n      <td>626.000000</td>\n      <td>45.000000</td>\n      <td>501.000000</td>\n      <td>400.000000</td>\n      <td>626.000000</td>\n      <td>998.000000</td>\n      <td>998.000000</td>\n      <td>998.000000</td>\n      <td>34.162900</td>\n      <td>-118.274000</td>\n    </tr>\n    <tr>\n      <th>max</th>\n      <td>2.199178e+08</td>\n      <td>2359.000000</td>\n      <td>21.000000</td>\n      <td>2199.000000</td>\n      <td>2.000000</td>\n      <td>956.000000</td>\n      <td>120.000000</td>\n      <td>971.000000</td>\n      <td>516.000000</td>\n      <td>956.000000</td>\n      <td>999.000000</td>\n      <td>999.000000</td>\n      <td>999.000000</td>\n      <td>34.334300</td>\n      <td>0.000000</td>\n    </tr>\n  </tbody>\n</table>\n</div>"
     },
     "execution_count": 6,
     "metadata": {},
     "output_type": "execute_result"
    }
   ],
   "source": [
    "dataset.describe()"
   ],
   "metadata": {
    "collapsed": false,
    "ExecuteTime": {
     "start_time": "2023-10-17T22:39:28.802173Z",
     "end_time": "2023-10-17T22:39:28.964799Z"
    }
   }
  },
  {
   "cell_type": "code",
   "execution_count": 7,
   "outputs": [
    {
     "data": {
      "text/plain": "<matplotlib.lines.Line2D at 0x7fca486fc940>"
     },
     "execution_count": 7,
     "metadata": {},
     "output_type": "execute_result"
    },
    {
     "data": {
      "text/plain": "<Figure size 963.875x800 with 1 Axes>",
      "image/png": "[encoded data removed]"
     },
     "metadata": {},
     "output_type": "display_data"
    }
   ],
   "source": [
    "# plt.figure(figsize=(18,8))\n",
    "df=dataset\n",
    "sns.displot(\n",
    "    data=df.isnull().melt(value_name='missing'),\n",
    "    y='variable',\n",
    "    hue='missing',\n",
    "    multiple='fill',\n",
    "    height=8,\n",
    "    aspect=1.1\n",
    ")\n",
    "\n",
    "# specifying a threshold value\n",
    "plt.axvline(0.4, color='r')"
   ],
   "metadata": {
    "collapsed": false,
    "ExecuteTime": {
     "start_time": "2023-10-17T22:39:33.179288Z",
     "end_time": "2023-10-17T22:39:42.084093Z"
    }
   }
  },
  {
   "cell_type": "code",
   "execution_count": 8,
   "outputs": [
    {
     "name": "stdout",
     "output_type": "stream",
     "text": [
      "<class 'pandas.core.frame.DataFrame'>\n",
      "RangeIndex: 317854 entries, 0 to 317853\n",
      "Data columns (total 28 columns):\n",
      " #   Column          Non-Null Count   Dtype         \n",
      "---  ------          --------------   -----         \n",
      " 0   DR_NO           317854 non-null  int64         \n",
      " 1   Date Rptd       317854 non-null  object        \n",
      " 2   DATE OCC        317854 non-null  datetime64[ns]\n",
      " 3   TIME OCC        317854 non-null  int64         \n",
      " 4   AREA            317854 non-null  int64         \n",
      " 5   AREA NAME       317854 non-null  object        \n",
      " 6   Rpt Dist No     317854 non-null  int64         \n",
      " 7   Part 1-2        317854 non-null  int64         \n",
      " 8   Crm Cd          317854 non-null  int64         \n",
      " 9   Crm Cd Desc     317854 non-null  object        \n",
      " 10  Mocodes         274531 non-null  object        \n",
      " 11  Vict Age        317854 non-null  int64         \n",
      " 12  Vict Sex        276448 non-null  object        \n",
      " 13  Vict Descent    276443 non-null  object        \n",
      " 14  Premis Cd       317849 non-null  float64       \n",
      " 15  Premis Desc     317746 non-null  object        \n",
      " 16  Weapon Used Cd  116477 non-null  float64       \n",
      " 17  Weapon Desc     116477 non-null  object        \n",
      " 18  Status          317854 non-null  object        \n",
      " 19  Status Desc     317854 non-null  object        \n",
      " 20  Crm Cd 1        317851 non-null  float64       \n",
      " 21  Crm Cd 2        25981 non-null   float64       \n",
      " 22  Crm Cd 3        880 non-null     float64       \n",
      " 23  Crm Cd 4        30 non-null      float64       \n",
      " 24  LOCATION        317854 non-null  object        \n",
      " 25  Cross Street    56977 non-null   object        \n",
      " 26  LAT             317854 non-null  float64       \n",
      " 27  LON             317854 non-null  float64       \n",
      "dtypes: datetime64[ns](1), float64(8), int64(7), object(12)\n",
      "memory usage: 67.9+ MB\n"
     ]
    }
   ],
   "source": [
    "dataset.info()"
   ],
   "metadata": {
    "collapsed": false,
    "ExecuteTime": {
     "start_time": "2023-10-17T22:40:06.900139Z",
     "end_time": "2023-10-17T22:40:07.260066Z"
    }
   }
  },
  {
   "cell_type": "code",
   "execution_count": 9,
   "outputs": [
    {
     "data": {
      "text/plain": "DR_NO                  0\nDate Rptd              0\nDATE OCC               0\nTIME OCC               0\nAREA                   0\nAREA NAME              0\nRpt Dist No            0\nPart 1-2               0\nCrm Cd                 0\nCrm Cd Desc            0\nMocodes            43323\nVict Age               0\nVict Sex           41406\nVict Descent       41411\nPremis Cd              5\nPremis Desc          108\nWeapon Used Cd    201377\nWeapon Desc       201377\nStatus                 0\nStatus Desc            0\nCrm Cd 1               3\nCrm Cd 2          291873\nCrm Cd 3          316974\nCrm Cd 4          317824\nLOCATION               0\nCross Street      260877\nLAT                    0\nLON                    0\ndtype: int64"
     },
     "execution_count": 9,
     "metadata": {},
     "output_type": "execute_result"
    }
   ],
   "source": [
    "dataset.isnull().sum()"
   ],
   "metadata": {
    "collapsed": false,
    "ExecuteTime": {
     "start_time": "2023-10-17T22:40:08.139150Z",
     "end_time": "2023-10-17T22:40:08.465754Z"
    }
   }
  },
  {
   "cell_type": "code",
   "execution_count": 10,
   "outputs": [],
   "source": [
    "dataset = dataset.drop(['Cross Street','Crm Cd 4','Crm Cd 3','Crm Cd 2','Weapon Desc','Vict Descent','Mocodes'],axis=1)"
   ],
   "metadata": {
    "collapsed": false,
    "ExecuteTime": {
     "start_time": "2023-10-17T22:40:09.431156Z",
     "end_time": "2023-10-17T22:40:09.436940Z"
    }
   }
  },
  {
   "cell_type": "code",
   "execution_count": 11,
   "outputs": [
    {
     "data": {
      "text/plain": "DR_NO                  0\nDATE OCC               0\nTIME OCC               0\nAREA                   0\nRpt Dist No            0\nPart 1-2               0\nCrm Cd                 0\nVict Age               0\nPremis Cd              5\nWeapon Used Cd    201377\nCrm Cd 1               3\nLAT                    0\nLON                    0\ndtype: int64"
     },
     "execution_count": 11,
     "metadata": {},
     "output_type": "execute_result"
    }
   ],
   "source": [
    "dataset.select_dtypes(exclude='object').isnull().sum()"
   ],
   "metadata": {
    "collapsed": false,
    "ExecuteTime": {
     "start_time": "2023-10-17T22:40:12.734517Z",
     "end_time": "2023-10-17T22:40:12.764156Z"
    }
   }
  },
  {
   "cell_type": "code",
   "execution_count": 12,
   "outputs": [],
   "source": [
    "median_value = dataset['Crm Cd 1'].median()\n",
    "dataset['Crm Cd 1'] = dataset['Crm Cd 1'].fillna(median_value)"
   ],
   "metadata": {
    "collapsed": false,
    "ExecuteTime": {
     "start_time": "2023-10-17T22:40:15.009439Z",
     "end_time": "2023-10-17T22:40:15.020611Z"
    }
   }
  },
  {
   "cell_type": "code",
   "execution_count": 13,
   "outputs": [
    {
     "data": {
      "text/plain": "Index(['DR_NO', 'Date Rptd', 'DATE OCC', 'TIME OCC', 'AREA', 'AREA NAME',\n       'Rpt Dist No', 'Part 1-2', 'Crm Cd', 'Crm Cd Desc', 'Vict Age',\n       'Vict Sex', 'Premis Cd', 'Premis Desc', 'Weapon Used Cd', 'Status',\n       'Status Desc', 'Crm Cd 1', 'LOCATION', 'LAT', 'LON'],\n      dtype='object')"
     },
     "execution_count": 13,
     "metadata": {},
     "output_type": "execute_result"
    }
   ],
   "source": [
    "dataset[\"Crm Cd\"].unique()\n",
    "dataset.columns"
   ],
   "metadata": {
    "collapsed": false,
    "ExecuteTime": {
     "start_time": "2023-10-17T22:40:16.391337Z",
     "end_time": "2023-10-17T22:40:16.402756Z"
    }
   }
  },
  {
   "cell_type": "code",
   "execution_count": 14,
   "outputs": [],
   "source": [
    "dataset['WEEKDAY'] = dataset['DATE OCC'].dt.dayofweek.astype(str).copy()\n",
    "dataset['HOUR'] = dataset['DATE OCC'].astype(str).str[11:13].copy()"
   ],
   "metadata": {
    "collapsed": false,
    "ExecuteTime": {
     "start_time": "2023-10-17T22:40:17.807501Z",
     "end_time": "2023-10-17T22:40:18.042837Z"
    }
   }
  },
  {
   "cell_type": "code",
   "execution_count": 15,
   "outputs": [
    {
     "data": {
      "text/plain": "            DR_NO               Date Rptd   DATE OCC  TIME OCC  AREA  \\\n0        10304468  01/08/2020 12:00:00 AM 2020-01-08      2230     3   \n1       190101086  01/02/2020 12:00:00 AM 2020-01-01       330     1   \n2       201220752  09/16/2020 12:00:00 AM 2020-09-16      1230    12   \n3       191501505  01/01/2020 12:00:00 AM 2020-01-01      1730    15   \n4       191921269  01/01/2020 12:00:00 AM 2020-01-01       415    19   \n...           ...                     ...        ...       ...   ...   \n317849  211208872  03/19/2021 12:00:00 AM 2021-03-19      1105    12   \n317850  210506531  03/04/2021 12:00:00 AM 2021-03-04      2210     5   \n317851  211710505  07/09/2021 12:00:00 AM 2021-07-09      1050    17   \n317852  210312887  07/12/2021 12:00:00 AM 2021-07-12      1200     3   \n317853  212005847  02/22/2021 12:00:00 AM 2021-02-22      1200    20   \n\n          AREA NAME  Rpt Dist No  Part 1-2  Crm Cd  \\\n0         Southwest          377         2     624   \n1           Central          163         2     624   \n2       77th Street         1259         2     745   \n3       N Hollywood         1543         2     745   \n4           Mission         1998         2     740   \n...             ...          ...       ...     ...   \n317849  77th Street         1218         1     510   \n317850       Harbor          564         2     434   \n317851   Devonshire         1798         2     624   \n317852    Southwest          363         1     350   \n317853      Olympic         2034         1     510   \n\n                                              Crm Cd Desc  ...  \\\n0                                BATTERY - SIMPLE ASSAULT  ...   \n1                                BATTERY - SIMPLE ASSAULT  ...   \n2                VANDALISM - MISDEAMEANOR ($399 OR UNDER)  ...   \n3                VANDALISM - MISDEAMEANOR ($399 OR UNDER)  ...   \n4       VANDALISM - FELONY ($400 & OVER, ALL CHURCH VA...  ...   \n...                                                   ...  ...   \n317849                                   VEHICLE - STOLEN  ...   \n317850                                 FALSE IMPRISONMENT  ...   \n317851                           BATTERY - SIMPLE ASSAULT  ...   \n317852                                      THEFT, PERSON  ...   \n317853                                   VEHICLE - STOLEN  ...   \n\n                                         Premis Desc Weapon Used Cd  Status  \\\n0                             SINGLE FAMILY DWELLING          400.0      AO   \n1                                           SIDEWALK          500.0      IC   \n2       MULTI-UNIT DWELLING (APARTMENT, DUPLEX, ETC)            NaN      IC   \n3       MULTI-UNIT DWELLING (APARTMENT, DUPLEX, ETC)            NaN      IC   \n4                                BEAUTY SUPPLY STORE            NaN      IC   \n...                                              ...            ...     ...   \n317849                                   PARKING LOT            NaN      IC   \n317850  MULTI-UNIT DWELLING (APARTMENT, DUPLEX, ETC)          200.0      AA   \n317851                        SINGLE FAMILY DWELLING          500.0      IC   \n317852                                        STREET            NaN      IC   \n317853                                        STREET            NaN      IC   \n\n         Status Desc  Crm Cd 1                                  LOCATION  \\\n0        Adult Other     624.0   1100 W  39TH                         PL   \n1        Invest Cont     624.0    700 S  HILL                         ST   \n2        Invest Cont     745.0    700 E  73RD                         ST   \n3        Invest Cont     745.0   5400    CORTEEN                      PL   \n4        Invest Cont     740.0  14400    TITUS                        ST   \n...              ...       ...                                       ...   \n317849   Invest Cont     510.0           58TH                         ST   \n317850  Adult Arrest     434.0    200 W  2ND                          ST   \n317851   Invest Cont     624.0   8800    DEMPSEY                      AV   \n317852   Invest Cont     350.0           CRENSHAW                     BL   \n317853   Invest Cont     510.0   3300 W  8TH                          ST   \n\n            LAT       LON WEEKDAY  HOUR  \n0       34.0141 -118.2978       2        \n1       34.0459 -118.2545       2        \n2       33.9739 -118.2630       2        \n3       34.1685 -118.4019       2        \n4       34.2198 -118.4468       2        \n...         ...       ...     ...   ...  \n317849  33.9897 -118.2827       4        \n317850  33.7424 -118.2814       3        \n317851  34.2302 -118.4775       4        \n317852  34.0088 -118.3351       0        \n317853  34.0596 -118.3022       0        \n\n[317854 rows x 23 columns]",
      "text/html": "<div>\n<style scoped>\n    .dataframe tbody tr th:only-of-type {\n        vertical-align: middle;\n    }\n\n    .dataframe tbody tr th {\n        vertical-align: top;\n    }\n\n    .dataframe thead th {\n        text-align: right;\n    }\n</style>\n<table border=\"1\" class=\"dataframe\">\n  <thead>\n    <tr style=\"text-align: right;\">\n      <th></th>\n      <th>DR_NO</th>\n      <th>Date Rptd</th>\n      <th>DATE OCC</th>\n      <th>TIME OCC</th>\n      <th>AREA</th>\n      <th>AREA NAME</th>\n      <th>Rpt Dist No</th>\n      <th>Part 1-2</th>\n      <th>Crm Cd</th>\n      <th>Crm Cd Desc</th>\n      <th>...</th>\n      <th>Premis Desc</th>\n      <th>Weapon Used Cd</th>\n      <th>Status</th>\n      <th>Status Desc</th>\n      <th>Crm Cd 1</th>\n      <th>LOCATION</th>\n      <th>LAT</th>\n      <th>LON</th>\n      <th>WEEKDAY</th>\n      <th>HOUR</th>\n    </tr>\n  </thead>\n  <tbody>\n    <tr>\n      <th>0</th>\n      <td>10304468</td>\n      <td>01/08/2020 12:00:00 AM</td>\n      <td>2020-01-08</td>\n      <td>2230</td>\n      <td>3</td>\n      <td>Southwest</td>\n      <td>377</td>\n      <td>2</td>\n      <td>624</td>\n      <td>BATTERY - SIMPLE ASSAULT</td>\n      <td>...</td>\n      <td>SINGLE FAMILY DWELLING</td>\n      <td>400.0</td>\n      <td>AO</td>\n      <td>Adult Other</td>\n      <td>624.0</td>\n      <td>1100 W  39TH                         PL</td>\n      <td>34.0141</td>\n      <td>-118.2978</td>\n      <td>2</td>\n      <td></td>\n    </tr>\n    <tr>\n      <th>1</th>\n      <td>190101086</td>\n      <td>01/02/2020 12:00:00 AM</td>\n      <td>2020-01-01</td>\n      <td>330</td>\n      <td>1</td>\n      <td>Central</td>\n      <td>163</td>\n      <td>2</td>\n      <td>624</td>\n      <td>BATTERY - SIMPLE ASSAULT</td>\n      <td>...</td>\n      <td>SIDEWALK</td>\n      <td>500.0</td>\n      <td>IC</td>\n      <td>Invest Cont</td>\n      <td>624.0</td>\n      <td>700 S  HILL                         ST</td>\n      <td>34.0459</td>\n      <td>-118.2545</td>\n      <td>2</td>\n      <td></td>\n    </tr>\n    <tr>\n      <th>2</th>\n      <td>201220752</td>\n      <td>09/16/2020 12:00:00 AM</td>\n      <td>2020-09-16</td>\n      <td>1230</td>\n      <td>12</td>\n      <td>77th Street</td>\n      <td>1259</td>\n      <td>2</td>\n      <td>745</td>\n      <td>VANDALISM - MISDEAMEANOR ($399 OR UNDER)</td>\n      <td>...</td>\n      <td>MULTI-UNIT DWELLING (APARTMENT, DUPLEX, ETC)</td>\n      <td>NaN</td>\n      <td>IC</td>\n      <td>Invest Cont</td>\n      <td>745.0</td>\n      <td>700 E  73RD                         ST</td>\n      <td>33.9739</td>\n      <td>-118.2630</td>\n      <td>2</td>\n      <td></td>\n    </tr>\n    <tr>\n      <th>3</th>\n      <td>191501505</td>\n      <td>01/01/2020 12:00:00 AM</td>\n      <td>2020-01-01</td>\n      <td>1730</td>\n      <td>15</td>\n      <td>N Hollywood</td>\n      <td>1543</td>\n      <td>2</td>\n      <td>745</td>\n      <td>VANDALISM - MISDEAMEANOR ($399 OR UNDER)</td>\n      <td>...</td>\n      <td>MULTI-UNIT DWELLING (APARTMENT, DUPLEX, ETC)</td>\n      <td>NaN</td>\n      <td>IC</td>\n      <td>Invest Cont</td>\n      <td>745.0</td>\n      <td>5400    CORTEEN                      PL</td>\n      <td>34.1685</td>\n      <td>-118.4019</td>\n      <td>2</td>\n      <td></td>\n    </tr>\n    <tr>\n      <th>4</th>\n      <td>191921269</td>\n      <td>01/01/2020 12:00:00 AM</td>\n      <td>2020-01-01</td>\n      <td>415</td>\n      <td>19</td>\n      <td>Mission</td>\n      <td>1998</td>\n      <td>2</td>\n      <td>740</td>\n      <td>VANDALISM - FELONY ($400 &amp; OVER, ALL CHURCH VA...</td>\n      <td>...</td>\n      <td>BEAUTY SUPPLY STORE</td>\n      <td>NaN</td>\n      <td>IC</td>\n      <td>Invest Cont</td>\n      <td>740.0</td>\n      <td>14400    TITUS                        ST</td>\n      <td>34.2198</td>\n      <td>-118.4468</td>\n      <td>2</td>\n      <td></td>\n    </tr>\n    <tr>\n      <th>...</th>\n      <td>...</td>\n      <td>...</td>\n      <td>...</td>\n      <td>...</td>\n      <td>...</td>\n      <td>...</td>\n      <td>...</td>\n      <td>...</td>\n      <td>...</td>\n      <td>...</td>\n      <td>...</td>\n      <td>...</td>\n      <td>...</td>\n      <td>...</td>\n      <td>...</td>\n      <td>...</td>\n      <td>...</td>\n      <td>...</td>\n      <td>...</td>\n      <td>...</td>\n      <td>...</td>\n    </tr>\n    <tr>\n      <th>317849</th>\n      <td>211208872</td>\n      <td>03/19/2021 12:00:00 AM</td>\n      <td>2021-03-19</td>\n      <td>1105</td>\n      <td>12</td>\n      <td>77th Street</td>\n      <td>1218</td>\n      <td>1</td>\n      <td>510</td>\n      <td>VEHICLE - STOLEN</td>\n      <td>...</td>\n      <td>PARKING LOT</td>\n      <td>NaN</td>\n      <td>IC</td>\n      <td>Invest Cont</td>\n      <td>510.0</td>\n      <td>58TH                         ST</td>\n      <td>33.9897</td>\n      <td>-118.2827</td>\n      <td>4</td>\n      <td></td>\n    </tr>\n    <tr>\n      <th>317850</th>\n      <td>210506531</td>\n      <td>03/04/2021 12:00:00 AM</td>\n      <td>2021-03-04</td>\n      <td>2210</td>\n      <td>5</td>\n      <td>Harbor</td>\n      <td>564</td>\n      <td>2</td>\n      <td>434</td>\n      <td>FALSE IMPRISONMENT</td>\n      <td>...</td>\n      <td>MULTI-UNIT DWELLING (APARTMENT, DUPLEX, ETC)</td>\n      <td>200.0</td>\n      <td>AA</td>\n      <td>Adult Arrest</td>\n      <td>434.0</td>\n      <td>200 W  2ND                          ST</td>\n      <td>33.7424</td>\n      <td>-118.2814</td>\n      <td>3</td>\n      <td></td>\n    </tr>\n    <tr>\n      <th>317851</th>\n      <td>211710505</td>\n      <td>07/09/2021 12:00:00 AM</td>\n      <td>2021-07-09</td>\n      <td>1050</td>\n      <td>17</td>\n      <td>Devonshire</td>\n      <td>1798</td>\n      <td>2</td>\n      <td>624</td>\n      <td>BATTERY - SIMPLE ASSAULT</td>\n      <td>...</td>\n      <td>SINGLE FAMILY DWELLING</td>\n      <td>500.0</td>\n      <td>IC</td>\n      <td>Invest Cont</td>\n      <td>624.0</td>\n      <td>8800    DEMPSEY                      AV</td>\n      <td>34.2302</td>\n      <td>-118.4775</td>\n      <td>4</td>\n      <td></td>\n    </tr>\n    <tr>\n      <th>317852</th>\n      <td>210312887</td>\n      <td>07/12/2021 12:00:00 AM</td>\n      <td>2021-07-12</td>\n      <td>1200</td>\n      <td>3</td>\n      <td>Southwest</td>\n      <td>363</td>\n      <td>1</td>\n      <td>350</td>\n      <td>THEFT, PERSON</td>\n      <td>...</td>\n      <td>STREET</td>\n      <td>NaN</td>\n      <td>IC</td>\n      <td>Invest Cont</td>\n      <td>350.0</td>\n      <td>CRENSHAW                     BL</td>\n      <td>34.0088</td>\n      <td>-118.3351</td>\n      <td>0</td>\n      <td></td>\n    </tr>\n    <tr>\n      <th>317853</th>\n      <td>212005847</td>\n      <td>02/22/2021 12:00:00 AM</td>\n      <td>2021-02-22</td>\n      <td>1200</td>\n      <td>20</td>\n      <td>Olympic</td>\n      <td>2034</td>\n      <td>1</td>\n      <td>510</td>\n      <td>VEHICLE - STOLEN</td>\n      <td>...</td>\n      <td>STREET</td>\n      <td>NaN</td>\n      <td>IC</td>\n      <td>Invest Cont</td>\n      <td>510.0</td>\n      <td>3300 W  8TH                          ST</td>\n      <td>34.0596</td>\n      <td>-118.3022</td>\n      <td>0</td>\n      <td></td>\n    </tr>\n  </tbody>\n</table>\n<p>317854 rows × 23 columns</p>\n</div>"
     },
     "execution_count": 15,
     "metadata": {},
     "output_type": "execute_result"
    }
   ],
   "source": [
    "dataset"
   ],
   "metadata": {
    "collapsed": false,
    "ExecuteTime": {
     "start_time": "2023-10-17T22:40:19.763623Z",
     "end_time": "2023-10-17T22:40:19.848303Z"
    }
   }
  },
  {
   "cell_type": "code",
   "execution_count": 16,
   "outputs": [],
   "source": [
    "dataset = dataset[dataset['Vict Sex'].notna()]"
   ],
   "metadata": {
    "collapsed": false,
    "ExecuteTime": {
     "start_time": "2023-10-17T22:40:22.827580Z",
     "end_time": "2023-10-17T22:40:22.928630Z"
    }
   }
  },
  {
   "cell_type": "code",
   "execution_count": 17,
   "outputs": [],
   "source": [
    "le = LabelEncoder()"
   ],
   "metadata": {
    "collapsed": false,
    "ExecuteTime": {
     "start_time": "2023-10-17T22:40:24.197052Z",
     "end_time": "2023-10-17T22:40:24.201693Z"
    }
   }
  },
  {
   "cell_type": "code",
   "execution_count": 18,
   "outputs": [
    {
     "name": "stderr",
     "output_type": "stream",
     "text": [
      "/var/folders/8t/cg46ygc52xq8ts0rysyjhfn40000gn/T/ipykernel_45409/907066800.py:1: SettingWithCopyWarning: \n",
      "A value is trying to be set on a copy of a slice from a DataFrame.\n",
      "Try using .loc[row_indexer,col_indexer] = value instead\n",
      "\n",
      "See the caveats in the documentation: https://pandas.pydata.org/pandas-docs/stable/user_guide/indexing.html#returning-a-view-versus-a-copy\n",
      "  dataset['Vict Sex'] = le.fit_transform(dataset['Vict Sex'])\n"
     ]
    }
   ],
   "source": [
    "dataset['Vict Sex'] = le.fit_transform(dataset['Vict Sex'])"
   ],
   "metadata": {
    "collapsed": false,
    "ExecuteTime": {
     "start_time": "2023-10-17T22:40:25.807924Z",
     "end_time": "2023-10-17T22:40:25.838764Z"
    }
   }
  },
  {
   "cell_type": "code",
   "execution_count": 18,
   "outputs": [],
   "source": [],
   "metadata": {
    "collapsed": false,
    "ExecuteTime": {
     "start_time": "2023-10-17T22:40:30.082946Z",
     "end_time": "2023-10-17T22:40:30.092905Z"
    }
   }
  },
  {
   "cell_type": "code",
   "execution_count": 18,
   "outputs": [],
   "source": [],
   "metadata": {
    "collapsed": false,
    "ExecuteTime": {
     "start_time": "2023-10-17T22:40:30.730578Z",
     "end_time": "2023-10-17T22:40:30.737341Z"
    }
   }
  },
  {
   "cell_type": "code",
   "execution_count": 21,
   "outputs": [],
   "source": [
    "from sklearn.model_selection import train_test_split\n",
    "x = dataset[['AREA', 'Vict Age','Vict Sex',\"WEEKDAY\", 'LAT',\"LON\",\"Weapon Used Cd\" ]]\n",
    "y= dataset[\"Crm Cd\"]\n",
    "x_train,x_test,y_train,y_test = train_test_split(x,y, test_size= 0.3)"
   ],
   "metadata": {
    "collapsed": false,
    "ExecuteTime": {
     "start_time": "2023-10-17T22:40:56.182251Z",
     "end_time": "2023-10-17T22:40:56.239342Z"
    }
   }
  },
  {
   "cell_type": "code",
   "execution_count": 22,
   "outputs": [
    {
     "name": "stdout",
     "output_type": "stream",
     "text": [
      "Training R_SQ:0.964\n"
     ]
    }
   ],
   "source": [
    "from sklearn.tree import DecisionTreeRegressor\n",
    "dec = DecisionTreeRegressor().fit(x_train,y_train)\n",
    "print('Training R_SQ:%.3f'% dec.score(x_train,y_train))"
   ],
   "metadata": {
    "collapsed": false,
    "ExecuteTime": {
     "start_time": "2023-10-17T22:40:57.176328Z",
     "end_time": "2023-10-17T22:40:58.187135Z"
    }
   }
  },
  {
   "cell_type": "code",
   "execution_count": 23,
   "outputs": [],
   "source": [
    "y_train_prd = dec.predict(x_train)"
   ],
   "metadata": {
    "collapsed": false,
    "ExecuteTime": {
     "start_time": "2023-10-17T22:40:59.925101Z",
     "end_time": "2023-10-17T22:41:00.051704Z"
    }
   }
  },
  {
   "cell_type": "code",
   "execution_count": 24,
   "outputs": [
    {
     "name": "stdout",
     "output_type": "stream",
     "text": [
      "Training R_SQ:1.000\n"
     ]
    }
   ],
   "source": [
    "y_test_pred = dec.predict(x_test)\n",
    "print('Training R_SQ:%.3f'% dec.score(x_test,y_test_pred))"
   ],
   "metadata": {
    "collapsed": false,
    "ExecuteTime": {
     "start_time": "2023-10-17T22:41:00.849163Z",
     "end_time": "2023-10-17T22:41:00.964254Z"
    }
   }
  },
  {
   "cell_type": "code",
   "execution_count": 25,
   "outputs": [
    {
     "name": "stdout",
     "output_type": "stream",
     "text": [
      "r_sq: 0.9638074359932064 the MAE: 9.2018199855027 the MsE: 1829.0938875922877 The EVS: 0.9638074359932064\n"
     ]
    }
   ],
   "source": [
    "print('r_sq:',r2_score(y_train,y_train_prd),\n",
    "      'the MAE:',mean_absolute_error(y_train,y_train_prd),\n",
    "      'the MsE:',mean_squared_error(y_train,y_train_prd),\n",
    "      'The EVS:',explained_variance_score(y_train,y_train_prd))"
   ],
   "metadata": {
    "collapsed": false,
    "ExecuteTime": {
     "start_time": "2023-10-17T22:41:02.193974Z",
     "end_time": "2023-10-17T22:41:02.208050Z"
    }
   }
  },
  {
   "cell_type": "code",
   "execution_count": 26,
   "outputs": [
    {
     "ename": "ValueError",
     "evalue": "Classification metrics can't handle a mix of continuous and multiclass targets",
     "output_type": "error",
     "traceback": [
      "\u001B[0;31m---------------------------------------------------------------------------\u001B[0m",
      "\u001B[0;31mValueError\u001B[0m                                Traceback (most recent call last)",
      "Cell \u001B[0;32mIn[26], line 1\u001B[0m\n\u001B[0;32m----> 1\u001B[0m \u001B[38;5;28mprint\u001B[39m(\u001B[38;5;124m'\u001B[39m\u001B[38;5;124mr_sq:\u001B[39m\u001B[38;5;124m'\u001B[39m,\u001B[43maccuracy_score\u001B[49m\u001B[43m(\u001B[49m\u001B[43my_test_pred\u001B[49m\u001B[43m,\u001B[49m\u001B[43my_test\u001B[49m\u001B[43m)\u001B[49m,\n\u001B[1;32m      2\u001B[0m       \u001B[38;5;124m'\u001B[39m\u001B[38;5;124mthe MAE:\u001B[39m\u001B[38;5;124m'\u001B[39m,mean_absolute_error(y_test,y_test_pred),\n\u001B[1;32m      3\u001B[0m       \u001B[38;5;124m'\u001B[39m\u001B[38;5;124mthe MsE:\u001B[39m\u001B[38;5;124m'\u001B[39m,mean_squared_error(y_test,y_test_pred),\n\u001B[1;32m      4\u001B[0m       \u001B[38;5;124m'\u001B[39m\u001B[38;5;124mThe EVS:\u001B[39m\u001B[38;5;124m'\u001B[39m,explained_variance_score(y_test,y_test_pred))\n",
      "File \u001B[0;32m~/anaconda3/lib/python3.10/site-packages/sklearn/utils/_param_validation.py:192\u001B[0m, in \u001B[0;36mvalidate_params.<locals>.decorator.<locals>.wrapper\u001B[0;34m(*args, **kwargs)\u001B[0m\n\u001B[1;32m    187\u001B[0m validate_parameter_constraints(\n\u001B[1;32m    188\u001B[0m     parameter_constraints, params, caller_name\u001B[38;5;241m=\u001B[39mfunc\u001B[38;5;241m.\u001B[39m\u001B[38;5;18m__qualname__\u001B[39m\n\u001B[1;32m    189\u001B[0m )\n\u001B[1;32m    191\u001B[0m \u001B[38;5;28;01mtry\u001B[39;00m:\n\u001B[0;32m--> 192\u001B[0m     \u001B[38;5;28;01mreturn\u001B[39;00m \u001B[43mfunc\u001B[49m\u001B[43m(\u001B[49m\u001B[38;5;241;43m*\u001B[39;49m\u001B[43margs\u001B[49m\u001B[43m,\u001B[49m\u001B[43m \u001B[49m\u001B[38;5;241;43m*\u001B[39;49m\u001B[38;5;241;43m*\u001B[39;49m\u001B[43mkwargs\u001B[49m\u001B[43m)\u001B[49m\n\u001B[1;32m    193\u001B[0m \u001B[38;5;28;01mexcept\u001B[39;00m InvalidParameterError \u001B[38;5;28;01mas\u001B[39;00m e:\n\u001B[1;32m    194\u001B[0m     \u001B[38;5;66;03m# When the function is just a wrapper around an estimator, we allow\u001B[39;00m\n\u001B[1;32m    195\u001B[0m     \u001B[38;5;66;03m# the function to delegate validation to the estimator, but we replace\u001B[39;00m\n\u001B[1;32m    196\u001B[0m     \u001B[38;5;66;03m# the name of the estimator by the name of the function in the error\u001B[39;00m\n\u001B[1;32m    197\u001B[0m     \u001B[38;5;66;03m# message to avoid confusion.\u001B[39;00m\n\u001B[1;32m    198\u001B[0m     msg \u001B[38;5;241m=\u001B[39m re\u001B[38;5;241m.\u001B[39msub(\n\u001B[1;32m    199\u001B[0m         \u001B[38;5;124mr\u001B[39m\u001B[38;5;124m\"\u001B[39m\u001B[38;5;124mparameter of \u001B[39m\u001B[38;5;124m\\\u001B[39m\u001B[38;5;124mw+ must be\u001B[39m\u001B[38;5;124m\"\u001B[39m,\n\u001B[1;32m    200\u001B[0m         \u001B[38;5;124mf\u001B[39m\u001B[38;5;124m\"\u001B[39m\u001B[38;5;124mparameter of \u001B[39m\u001B[38;5;132;01m{\u001B[39;00mfunc\u001B[38;5;241m.\u001B[39m\u001B[38;5;18m__qualname__\u001B[39m\u001B[38;5;132;01m}\u001B[39;00m\u001B[38;5;124m must be\u001B[39m\u001B[38;5;124m\"\u001B[39m,\n\u001B[1;32m    201\u001B[0m         \u001B[38;5;28mstr\u001B[39m(e),\n\u001B[1;32m    202\u001B[0m     )\n",
      "File \u001B[0;32m~/anaconda3/lib/python3.10/site-packages/sklearn/metrics/_classification.py:221\u001B[0m, in \u001B[0;36maccuracy_score\u001B[0;34m(y_true, y_pred, normalize, sample_weight)\u001B[0m\n\u001B[1;32m    155\u001B[0m \u001B[38;5;124;03m\"\"\"Accuracy classification score.\u001B[39;00m\n\u001B[1;32m    156\u001B[0m \n\u001B[1;32m    157\u001B[0m \u001B[38;5;124;03mIn multilabel classification, this function computes subset accuracy:\u001B[39;00m\n\u001B[0;32m   (...)\u001B[0m\n\u001B[1;32m    217\u001B[0m \u001B[38;5;124;03m0.5\u001B[39;00m\n\u001B[1;32m    218\u001B[0m \u001B[38;5;124;03m\"\"\"\u001B[39;00m\n\u001B[1;32m    220\u001B[0m \u001B[38;5;66;03m# Compute accuracy for each possible representation\u001B[39;00m\n\u001B[0;32m--> 221\u001B[0m y_type, y_true, y_pred \u001B[38;5;241m=\u001B[39m \u001B[43m_check_targets\u001B[49m\u001B[43m(\u001B[49m\u001B[43my_true\u001B[49m\u001B[43m,\u001B[49m\u001B[43m \u001B[49m\u001B[43my_pred\u001B[49m\u001B[43m)\u001B[49m\n\u001B[1;32m    222\u001B[0m check_consistent_length(y_true, y_pred, sample_weight)\n\u001B[1;32m    223\u001B[0m \u001B[38;5;28;01mif\u001B[39;00m y_type\u001B[38;5;241m.\u001B[39mstartswith(\u001B[38;5;124m\"\u001B[39m\u001B[38;5;124mmultilabel\u001B[39m\u001B[38;5;124m\"\u001B[39m):\n",
      "File \u001B[0;32m~/anaconda3/lib/python3.10/site-packages/sklearn/metrics/_classification.py:95\u001B[0m, in \u001B[0;36m_check_targets\u001B[0;34m(y_true, y_pred)\u001B[0m\n\u001B[1;32m     92\u001B[0m     y_type \u001B[38;5;241m=\u001B[39m {\u001B[38;5;124m\"\u001B[39m\u001B[38;5;124mmulticlass\u001B[39m\u001B[38;5;124m\"\u001B[39m}\n\u001B[1;32m     94\u001B[0m \u001B[38;5;28;01mif\u001B[39;00m \u001B[38;5;28mlen\u001B[39m(y_type) \u001B[38;5;241m>\u001B[39m \u001B[38;5;241m1\u001B[39m:\n\u001B[0;32m---> 95\u001B[0m     \u001B[38;5;28;01mraise\u001B[39;00m \u001B[38;5;167;01mValueError\u001B[39;00m(\n\u001B[1;32m     96\u001B[0m         \u001B[38;5;124m\"\u001B[39m\u001B[38;5;124mClassification metrics can\u001B[39m\u001B[38;5;124m'\u001B[39m\u001B[38;5;124mt handle a mix of \u001B[39m\u001B[38;5;132;01m{0}\u001B[39;00m\u001B[38;5;124m and \u001B[39m\u001B[38;5;132;01m{1}\u001B[39;00m\u001B[38;5;124m targets\u001B[39m\u001B[38;5;124m\"\u001B[39m\u001B[38;5;241m.\u001B[39mformat(\n\u001B[1;32m     97\u001B[0m             type_true, type_pred\n\u001B[1;32m     98\u001B[0m         )\n\u001B[1;32m     99\u001B[0m     )\n\u001B[1;32m    101\u001B[0m \u001B[38;5;66;03m# We can't have more than one value on y_type => The set is no more needed\u001B[39;00m\n\u001B[1;32m    102\u001B[0m y_type \u001B[38;5;241m=\u001B[39m y_type\u001B[38;5;241m.\u001B[39mpop()\n",
      "\u001B[0;31mValueError\u001B[0m: Classification metrics can't handle a mix of continuous and multiclass targets"
     ]
    }
   ],
   "source": [
    "print('r_sq:',accuracy_score(y_test_pred,y_test),\n",
    "      'the MAE:',mean_absolute_error(y_test,y_test_pred),\n",
    "      'the MsE:',mean_squared_error(y_test,y_test_pred),\n",
    "      'The EVS:',explained_variance_score(y_test,y_test_pred))"
   ],
   "metadata": {
    "collapsed": false,
    "ExecuteTime": {
     "start_time": "2023-10-17T19:35:25.738120Z",
     "end_time": "2023-10-17T19:35:25.746403Z"
    }
   }
  },
  {
   "cell_type": "code",
   "execution_count": 142,
   "outputs": [],
   "source": [],
   "metadata": {
    "collapsed": false,
    "ExecuteTime": {
     "start_time": "2023-10-17T19:35:27.165401Z",
     "end_time": "2023-10-17T19:35:27.189335Z"
    }
   }
  },
  {
   "cell_type": "code",
   "execution_count": null,
   "outputs": [],
   "source": [],
   "metadata": {
    "collapsed": false
   }
  }
 ],
 "metadata": {
  "kernelspec": {
   "display_name": "Python 3",
   "language": "python",
   "name": "python3"
  },
  "language_info": {
   "codemirror_mode": {
    "name": "ipython",
    "version": 2
   },
   "file_extension": ".py",
   "mimetype": "text/x-python",
   "name": "python",
   "nbconvert_exporter": "python",
   "pygments_lexer": "ipython2",
   "version": "2.7.6"
  }
 },
 "nbformat": 4,
 "nbformat_minor": 0
}
