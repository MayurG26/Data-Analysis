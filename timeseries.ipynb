{
 "cells": [
  {
   "cell_type": "code",
   "execution_count": 151,
   "metadata": {
    "collapsed": true,
    "ExecuteTime": {
     "end_time": "2023-12-05T07:39:48.991368Z",
     "start_time": "2023-12-05T07:39:48.532705Z"
    }
   },
   "outputs": [],
   "source": [
    "import pandas as pd\n",
    "import numpy as np\n",
    "from sklearn.preprocessing import MinMaxScaler\n",
    "\n",
    "from keras.models import Sequential\n",
    "from keras.layers import Dense, LSTM\n",
    "from skimage.metrics import mean_squared_error\n",
    "import math\n",
    "import plotly.graph_objects as go"
   ]
  },
  {
   "cell_type": "code",
   "execution_count": 152,
   "outputs": [
    {
     "name": "stdout",
     "output_type": "stream",
     "text": [
      "       DR_NO               Date Rptd                DATE OCC  TIME OCC  AREA  \\\n",
      "0   10304468  01/08/2020 12:00:00 AM  01/08/2020 12:00:00 AM      2230     3   \n",
      "1  190101086  01/02/2020 12:00:00 AM  01/01/2020 12:00:00 AM       330     1   \n",
      "2  200110444  04/14/2020 12:00:00 AM  02/13/2020 12:00:00 AM      1200     1   \n",
      "3  191501505  01/01/2020 12:00:00 AM  01/01/2020 12:00:00 AM      1730    15   \n",
      "4  191921269  01/01/2020 12:00:00 AM  01/01/2020 12:00:00 AM       415    19   \n",
      "\n",
      "     AREA NAME  Rpt Dist No  Part 1-2  Crm Cd  \\\n",
      "0    Southwest          377         2     624   \n",
      "1      Central          163         2     624   \n",
      "2      Central          155         2     845   \n",
      "3  N Hollywood         1543         2     745   \n",
      "4      Mission         1998         2     740   \n",
      "\n",
      "                                         Crm Cd Desc  ... Status  \\\n",
      "0                           BATTERY - SIMPLE ASSAULT  ...     AO   \n",
      "1                           BATTERY - SIMPLE ASSAULT  ...     IC   \n",
      "2          SEX OFFENDER REGISTRANT OUT OF COMPLIANCE  ...     AA   \n",
      "3           VANDALISM - MISDEAMEANOR ($399 OR UNDER)  ...     IC   \n",
      "4  VANDALISM - FELONY ($400 & OVER, ALL CHURCH VA...  ...     IC   \n",
      "\n",
      "    Status Desc Crm Cd 1 Crm Cd 2  Crm Cd 3 Crm Cd 4  \\\n",
      "0   Adult Other    624.0      NaN       NaN      NaN   \n",
      "1   Invest Cont    624.0      NaN       NaN      NaN   \n",
      "2  Adult Arrest    845.0      NaN       NaN      NaN   \n",
      "3   Invest Cont    745.0    998.0       NaN      NaN   \n",
      "4   Invest Cont    740.0      NaN       NaN      NaN   \n",
      "\n",
      "                                   LOCATION Cross Street      LAT       LON  \n",
      "0   1100 W  39TH                         PL          NaN  34.0141 -118.2978  \n",
      "1    700 S  HILL                         ST          NaN  34.0459 -118.2545  \n",
      "2    200 E  6TH                          ST          NaN  34.0448 -118.2474  \n",
      "3   5400    CORTEEN                      PL          NaN  34.1685 -118.4019  \n",
      "4  14400    TITUS                        ST          NaN  34.2198 -118.4468  \n",
      "\n",
      "[5 rows x 28 columns]\n",
      "510    90464\n",
      "624    67300\n",
      "354    53026\n",
      "330    51906\n",
      "310    51363\n",
      "740    51318\n",
      "230    48470\n",
      "440    42818\n",
      "626    42363\n",
      "420    32534\n",
      "Name: Crm Cd, dtype: int64\n"
     ]
    },
    {
     "data": {
      "text/plain": "        DR_NO               Date Rptd                DATE OCC  TIME OCC  AREA  \\\n0    10304468  01/08/2020 12:00:00 AM  01/08/2020 12:00:00 AM      2230     3   \n1   190101086  01/02/2020 12:00:00 AM  01/01/2020 12:00:00 AM       330     1   \n4   191921269  01/01/2020 12:00:00 AM  01/01/2020 12:00:00 AM       415    19   \n10  200100509  01/04/2020 12:00:00 AM  01/04/2020 12:00:00 AM      2200     1   \n15  211916029  11/26/2021 12:00:00 AM  11/30/2020 12:00:00 AM       730    19   \n\n    AREA NAME  Rpt Dist No  Part 1-2  Crm Cd  \\\n0   Southwest          377         2     624   \n1     Central          163         2     624   \n4     Mission         1998         2     740   \n10    Central          192         1     330   \n15    Mission         1916         2     626   \n\n                                          Crm Cd Desc  ... Status  \\\n0                            BATTERY - SIMPLE ASSAULT  ...     AO   \n1                            BATTERY - SIMPLE ASSAULT  ...     IC   \n4   VANDALISM - FELONY ($400 & OVER, ALL CHURCH VA...  ...     IC   \n10                              BURGLARY FROM VEHICLE  ...     IC   \n15                  INTIMATE PARTNER - SIMPLE ASSAULT  ...     IC   \n\n    Status Desc Crm Cd 1 Crm Cd 2  Crm Cd 3 Crm Cd 4  \\\n0   Adult Other    624.0      NaN       NaN      NaN   \n1   Invest Cont    624.0      NaN       NaN      NaN   \n4   Invest Cont    740.0      NaN       NaN      NaN   \n10  Invest Cont    330.0      NaN       NaN      NaN   \n15  Invest Cont    626.0      NaN       NaN      NaN   \n\n                                    LOCATION Cross Street      LAT       LON  \n0    1100 W  39TH                         PL          NaN  34.0141 -118.2978  \n1     700 S  HILL                         ST          NaN  34.0459 -118.2545  \n4   14400    TITUS                        ST          NaN  34.2198 -118.4468  \n10                                      15TH        OLIVE  34.0359 -118.2648  \n15  14200    BERG                         ST          NaN  34.3055 -118.4439  \n\n[5 rows x 28 columns]",
      "text/html": "<div>\n<style scoped>\n    .dataframe tbody tr th:only-of-type {\n        vertical-align: middle;\n    }\n\n    .dataframe tbody tr th {\n        vertical-align: top;\n    }\n\n    .dataframe thead th {\n        text-align: right;\n    }\n</style>\n<table border=\"1\" class=\"dataframe\">\n  <thead>\n    <tr style=\"text-align: right;\">\n      <th></th>\n      <th>DR_NO</th>\n      <th>Date Rptd</th>\n      <th>DATE OCC</th>\n      <th>TIME OCC</th>\n      <th>AREA</th>\n      <th>AREA NAME</th>\n      <th>Rpt Dist No</th>\n      <th>Part 1-2</th>\n      <th>Crm Cd</th>\n      <th>Crm Cd Desc</th>\n      <th>...</th>\n      <th>Status</th>\n      <th>Status Desc</th>\n      <th>Crm Cd 1</th>\n      <th>Crm Cd 2</th>\n      <th>Crm Cd 3</th>\n      <th>Crm Cd 4</th>\n      <th>LOCATION</th>\n      <th>Cross Street</th>\n      <th>LAT</th>\n      <th>LON</th>\n    </tr>\n  </thead>\n  <tbody>\n    <tr>\n      <th>0</th>\n      <td>10304468</td>\n      <td>01/08/2020 12:00:00 AM</td>\n      <td>01/08/2020 12:00:00 AM</td>\n      <td>2230</td>\n      <td>3</td>\n      <td>Southwest</td>\n      <td>377</td>\n      <td>2</td>\n      <td>624</td>\n      <td>BATTERY - SIMPLE ASSAULT</td>\n      <td>...</td>\n      <td>AO</td>\n      <td>Adult Other</td>\n      <td>624.0</td>\n      <td>NaN</td>\n      <td>NaN</td>\n      <td>NaN</td>\n      <td>1100 W  39TH                         PL</td>\n      <td>NaN</td>\n      <td>34.0141</td>\n      <td>-118.2978</td>\n    </tr>\n    <tr>\n      <th>1</th>\n      <td>190101086</td>\n      <td>01/02/2020 12:00:00 AM</td>\n      <td>01/01/2020 12:00:00 AM</td>\n      <td>330</td>\n      <td>1</td>\n      <td>Central</td>\n      <td>163</td>\n      <td>2</td>\n      <td>624</td>\n      <td>BATTERY - SIMPLE ASSAULT</td>\n      <td>...</td>\n      <td>IC</td>\n      <td>Invest Cont</td>\n      <td>624.0</td>\n      <td>NaN</td>\n      <td>NaN</td>\n      <td>NaN</td>\n      <td>700 S  HILL                         ST</td>\n      <td>NaN</td>\n      <td>34.0459</td>\n      <td>-118.2545</td>\n    </tr>\n    <tr>\n      <th>4</th>\n      <td>191921269</td>\n      <td>01/01/2020 12:00:00 AM</td>\n      <td>01/01/2020 12:00:00 AM</td>\n      <td>415</td>\n      <td>19</td>\n      <td>Mission</td>\n      <td>1998</td>\n      <td>2</td>\n      <td>740</td>\n      <td>VANDALISM - FELONY ($400 &amp; OVER, ALL CHURCH VA...</td>\n      <td>...</td>\n      <td>IC</td>\n      <td>Invest Cont</td>\n      <td>740.0</td>\n      <td>NaN</td>\n      <td>NaN</td>\n      <td>NaN</td>\n      <td>14400    TITUS                        ST</td>\n      <td>NaN</td>\n      <td>34.2198</td>\n      <td>-118.4468</td>\n    </tr>\n    <tr>\n      <th>10</th>\n      <td>200100509</td>\n      <td>01/04/2020 12:00:00 AM</td>\n      <td>01/04/2020 12:00:00 AM</td>\n      <td>2200</td>\n      <td>1</td>\n      <td>Central</td>\n      <td>192</td>\n      <td>1</td>\n      <td>330</td>\n      <td>BURGLARY FROM VEHICLE</td>\n      <td>...</td>\n      <td>IC</td>\n      <td>Invest Cont</td>\n      <td>330.0</td>\n      <td>NaN</td>\n      <td>NaN</td>\n      <td>NaN</td>\n      <td>15TH</td>\n      <td>OLIVE</td>\n      <td>34.0359</td>\n      <td>-118.2648</td>\n    </tr>\n    <tr>\n      <th>15</th>\n      <td>211916029</td>\n      <td>11/26/2021 12:00:00 AM</td>\n      <td>11/30/2020 12:00:00 AM</td>\n      <td>730</td>\n      <td>19</td>\n      <td>Mission</td>\n      <td>1916</td>\n      <td>2</td>\n      <td>626</td>\n      <td>INTIMATE PARTNER - SIMPLE ASSAULT</td>\n      <td>...</td>\n      <td>IC</td>\n      <td>Invest Cont</td>\n      <td>626.0</td>\n      <td>NaN</td>\n      <td>NaN</td>\n      <td>NaN</td>\n      <td>14200    BERG                         ST</td>\n      <td>NaN</td>\n      <td>34.3055</td>\n      <td>-118.4439</td>\n    </tr>\n  </tbody>\n</table>\n<p>5 rows × 28 columns</p>\n</div>"
     },
     "execution_count": 152,
     "metadata": {},
     "output_type": "execute_result"
    }
   ],
   "source": [
    "original_crime_df = pd.read_csv(\"Crime_Data_from_2020_to_Present 2.csv\")\n",
    "print(original_crime_df.head())\n",
    "print(original_crime_df['Crm Cd'].value_counts()[:10])\n",
    "new_dataset = original_crime_df[original_crime_df[\"Crm Cd\"].isin([510,624,740,330,310,230,626,440,420,354]) ]\n",
    "new_dataset.head()"
   ],
   "metadata": {
    "collapsed": false,
    "ExecuteTime": {
     "end_time": "2023-12-05T07:39:54.583835Z",
     "start_time": "2023-12-05T07:39:49.036990Z"
    }
   }
  },
  {
   "cell_type": "code",
   "execution_count": 153,
   "outputs": [
    {
     "data": {
      "text/plain": "            DR_NO               Date Rptd                DATE OCC  TIME OCC  \\\n33      200117988  09/15/2020 12:00:00 AM  09/03/2020 12:00:00 AM      2000   \n78      200104073  01/02/2020 12:00:00 AM  01/02/2020 12:00:00 AM       345   \n104     200516527  11/12/2020 12:00:00 AM  11/12/2020 12:00:00 AM       430   \n105     200609101  04/15/2020 12:00:00 AM  04/12/2020 12:00:00 AM      1300   \n135     200306227  02/07/2020 12:00:00 AM  02/06/2020 12:00:00 AM      1800   \n...           ...                     ...                     ...       ...   \n843455  230915370  10/17/2023 12:00:00 AM  10/17/2023 12:00:00 AM      1000   \n843465  230713941  08/30/2023 12:00:00 AM  08/30/2023 12:00:00 AM       245   \n843481  231309462  04/20/2023 12:00:00 AM  04/20/2023 12:00:00 AM       900   \n843491  230406516  03/19/2023 12:00:00 AM  03/19/2023 12:00:00 AM       122   \n843493  230609209  05/01/2023 12:00:00 AM  04/29/2023 12:00:00 AM       600   \n\n        AREA   AREA NAME  Rpt Dist No  Part 1-2  Crm Cd       Crm Cd Desc  \\\n33         1     Central          111         1     510  VEHICLE - STOLEN   \n78         1     Central          143         1     510  VEHICLE - STOLEN   \n104        5      Harbor          508         1     510  VEHICLE - STOLEN   \n105        6   Hollywood          648         1     510  VEHICLE - STOLEN   \n135        3   Southwest          397         1     510  VEHICLE - STOLEN   \n...      ...         ...          ...       ...     ...               ...   \n843455     9    Van Nuys          935         1     510  VEHICLE - STOLEN   \n843465     7    Wilshire          745         1     510  VEHICLE - STOLEN   \n843481    13      Newton         1343         1     510  VEHICLE - STOLEN   \n843491     4  Hollenbeck          488         1     510  VEHICLE - STOLEN   \n843493     6   Hollywood          639         1     510  VEHICLE - STOLEN   \n\n        ... Status  Status Desc Crm Cd 1 Crm Cd 2  Crm Cd 3 Crm Cd 4  \\\n33      ...     IC  Invest Cont    510.0      NaN       NaN      NaN   \n78      ...     IC  Invest Cont    510.0      NaN       NaN      NaN   \n104     ...     IC  Invest Cont    510.0      NaN       NaN      NaN   \n105     ...     AO  Adult Other    510.0      NaN       NaN      NaN   \n135     ...     IC  Invest Cont    510.0      NaN       NaN      NaN   \n...     ...    ...          ...      ...      ...       ...      ...   \n843455  ...     IC  Invest Cont    510.0      NaN       NaN      NaN   \n843465  ...     IC  Invest Cont    510.0      NaN       NaN      NaN   \n843481  ...     IC  Invest Cont    510.0      NaN       NaN      NaN   \n843491  ...     IC  Invest Cont    510.0      NaN       NaN      NaN   \n843493  ...     IC  Invest Cont    510.0      NaN       NaN      NaN   \n\n                                        LOCATION  \\\n33        500 N  FIGUEROA                     ST   \n78        400 S  SPRING                       ST   \n104     23400    PRESIDENT                    AV   \n105      5700    HOLLYWOOD                    BL   \n135              43RD                         ST   \n...                                          ...   \n843455           CALVERT                      ST   \n843465   1000 S  RIDGELEY                     DR   \n843481    900 E  JEFFERSON                    BL   \n843491   3200    GARNET                       ST   \n843493   1800    WINONA                       BL   \n\n                           Cross Street      LAT       LON  \n33                                  NaN  34.0615 -118.2470  \n78                                  NaN  34.0488 -118.2500  \n104                                 NaN  33.8129 -118.3071  \n105                                 NaN  34.1017 -118.3136  \n135                               MENLO  34.0073 -118.2980  \n...                                 ...      ...       ...  \n843455  VAN NUYS                     BL  34.1816 -118.4487  \n843465                              NaN  34.0574 -118.3525  \n843481                              NaN  34.0136 -118.2611  \n843491                              NaN  34.0248 -118.2076  \n843493                              NaN  34.1038 -118.3020  \n\n[90464 rows x 28 columns]",
      "text/html": "<div>\n<style scoped>\n    .dataframe tbody tr th:only-of-type {\n        vertical-align: middle;\n    }\n\n    .dataframe tbody tr th {\n        vertical-align: top;\n    }\n\n    .dataframe thead th {\n        text-align: right;\n    }\n</style>\n<table border=\"1\" class=\"dataframe\">\n  <thead>\n    <tr style=\"text-align: right;\">\n      <th></th>\n      <th>DR_NO</th>\n      <th>Date Rptd</th>\n      <th>DATE OCC</th>\n      <th>TIME OCC</th>\n      <th>AREA</th>\n      <th>AREA NAME</th>\n      <th>Rpt Dist No</th>\n      <th>Part 1-2</th>\n      <th>Crm Cd</th>\n      <th>Crm Cd Desc</th>\n      <th>...</th>\n      <th>Status</th>\n      <th>Status Desc</th>\n      <th>Crm Cd 1</th>\n      <th>Crm Cd 2</th>\n      <th>Crm Cd 3</th>\n      <th>Crm Cd 4</th>\n      <th>LOCATION</th>\n      <th>Cross Street</th>\n      <th>LAT</th>\n      <th>LON</th>\n    </tr>\n  </thead>\n  <tbody>\n    <tr>\n      <th>33</th>\n      <td>200117988</td>\n      <td>09/15/2020 12:00:00 AM</td>\n      <td>09/03/2020 12:00:00 AM</td>\n      <td>2000</td>\n      <td>1</td>\n      <td>Central</td>\n      <td>111</td>\n      <td>1</td>\n      <td>510</td>\n      <td>VEHICLE - STOLEN</td>\n      <td>...</td>\n      <td>IC</td>\n      <td>Invest Cont</td>\n      <td>510.0</td>\n      <td>NaN</td>\n      <td>NaN</td>\n      <td>NaN</td>\n      <td>500 N  FIGUEROA                     ST</td>\n      <td>NaN</td>\n      <td>34.0615</td>\n      <td>-118.2470</td>\n    </tr>\n    <tr>\n      <th>78</th>\n      <td>200104073</td>\n      <td>01/02/2020 12:00:00 AM</td>\n      <td>01/02/2020 12:00:00 AM</td>\n      <td>345</td>\n      <td>1</td>\n      <td>Central</td>\n      <td>143</td>\n      <td>1</td>\n      <td>510</td>\n      <td>VEHICLE - STOLEN</td>\n      <td>...</td>\n      <td>IC</td>\n      <td>Invest Cont</td>\n      <td>510.0</td>\n      <td>NaN</td>\n      <td>NaN</td>\n      <td>NaN</td>\n      <td>400 S  SPRING                       ST</td>\n      <td>NaN</td>\n      <td>34.0488</td>\n      <td>-118.2500</td>\n    </tr>\n    <tr>\n      <th>104</th>\n      <td>200516527</td>\n      <td>11/12/2020 12:00:00 AM</td>\n      <td>11/12/2020 12:00:00 AM</td>\n      <td>430</td>\n      <td>5</td>\n      <td>Harbor</td>\n      <td>508</td>\n      <td>1</td>\n      <td>510</td>\n      <td>VEHICLE - STOLEN</td>\n      <td>...</td>\n      <td>IC</td>\n      <td>Invest Cont</td>\n      <td>510.0</td>\n      <td>NaN</td>\n      <td>NaN</td>\n      <td>NaN</td>\n      <td>23400    PRESIDENT                    AV</td>\n      <td>NaN</td>\n      <td>33.8129</td>\n      <td>-118.3071</td>\n    </tr>\n    <tr>\n      <th>105</th>\n      <td>200609101</td>\n      <td>04/15/2020 12:00:00 AM</td>\n      <td>04/12/2020 12:00:00 AM</td>\n      <td>1300</td>\n      <td>6</td>\n      <td>Hollywood</td>\n      <td>648</td>\n      <td>1</td>\n      <td>510</td>\n      <td>VEHICLE - STOLEN</td>\n      <td>...</td>\n      <td>AO</td>\n      <td>Adult Other</td>\n      <td>510.0</td>\n      <td>NaN</td>\n      <td>NaN</td>\n      <td>NaN</td>\n      <td>5700    HOLLYWOOD                    BL</td>\n      <td>NaN</td>\n      <td>34.1017</td>\n      <td>-118.3136</td>\n    </tr>\n    <tr>\n      <th>135</th>\n      <td>200306227</td>\n      <td>02/07/2020 12:00:00 AM</td>\n      <td>02/06/2020 12:00:00 AM</td>\n      <td>1800</td>\n      <td>3</td>\n      <td>Southwest</td>\n      <td>397</td>\n      <td>1</td>\n      <td>510</td>\n      <td>VEHICLE - STOLEN</td>\n      <td>...</td>\n      <td>IC</td>\n      <td>Invest Cont</td>\n      <td>510.0</td>\n      <td>NaN</td>\n      <td>NaN</td>\n      <td>NaN</td>\n      <td>43RD                         ST</td>\n      <td>MENLO</td>\n      <td>34.0073</td>\n      <td>-118.2980</td>\n    </tr>\n    <tr>\n      <th>...</th>\n      <td>...</td>\n      <td>...</td>\n      <td>...</td>\n      <td>...</td>\n      <td>...</td>\n      <td>...</td>\n      <td>...</td>\n      <td>...</td>\n      <td>...</td>\n      <td>...</td>\n      <td>...</td>\n      <td>...</td>\n      <td>...</td>\n      <td>...</td>\n      <td>...</td>\n      <td>...</td>\n      <td>...</td>\n      <td>...</td>\n      <td>...</td>\n      <td>...</td>\n      <td>...</td>\n    </tr>\n    <tr>\n      <th>843455</th>\n      <td>230915370</td>\n      <td>10/17/2023 12:00:00 AM</td>\n      <td>10/17/2023 12:00:00 AM</td>\n      <td>1000</td>\n      <td>9</td>\n      <td>Van Nuys</td>\n      <td>935</td>\n      <td>1</td>\n      <td>510</td>\n      <td>VEHICLE - STOLEN</td>\n      <td>...</td>\n      <td>IC</td>\n      <td>Invest Cont</td>\n      <td>510.0</td>\n      <td>NaN</td>\n      <td>NaN</td>\n      <td>NaN</td>\n      <td>CALVERT                      ST</td>\n      <td>VAN NUYS                     BL</td>\n      <td>34.1816</td>\n      <td>-118.4487</td>\n    </tr>\n    <tr>\n      <th>843465</th>\n      <td>230713941</td>\n      <td>08/30/2023 12:00:00 AM</td>\n      <td>08/30/2023 12:00:00 AM</td>\n      <td>245</td>\n      <td>7</td>\n      <td>Wilshire</td>\n      <td>745</td>\n      <td>1</td>\n      <td>510</td>\n      <td>VEHICLE - STOLEN</td>\n      <td>...</td>\n      <td>IC</td>\n      <td>Invest Cont</td>\n      <td>510.0</td>\n      <td>NaN</td>\n      <td>NaN</td>\n      <td>NaN</td>\n      <td>1000 S  RIDGELEY                     DR</td>\n      <td>NaN</td>\n      <td>34.0574</td>\n      <td>-118.3525</td>\n    </tr>\n    <tr>\n      <th>843481</th>\n      <td>231309462</td>\n      <td>04/20/2023 12:00:00 AM</td>\n      <td>04/20/2023 12:00:00 AM</td>\n      <td>900</td>\n      <td>13</td>\n      <td>Newton</td>\n      <td>1343</td>\n      <td>1</td>\n      <td>510</td>\n      <td>VEHICLE - STOLEN</td>\n      <td>...</td>\n      <td>IC</td>\n      <td>Invest Cont</td>\n      <td>510.0</td>\n      <td>NaN</td>\n      <td>NaN</td>\n      <td>NaN</td>\n      <td>900 E  JEFFERSON                    BL</td>\n      <td>NaN</td>\n      <td>34.0136</td>\n      <td>-118.2611</td>\n    </tr>\n    <tr>\n      <th>843491</th>\n      <td>230406516</td>\n      <td>03/19/2023 12:00:00 AM</td>\n      <td>03/19/2023 12:00:00 AM</td>\n      <td>122</td>\n      <td>4</td>\n      <td>Hollenbeck</td>\n      <td>488</td>\n      <td>1</td>\n      <td>510</td>\n      <td>VEHICLE - STOLEN</td>\n      <td>...</td>\n      <td>IC</td>\n      <td>Invest Cont</td>\n      <td>510.0</td>\n      <td>NaN</td>\n      <td>NaN</td>\n      <td>NaN</td>\n      <td>3200    GARNET                       ST</td>\n      <td>NaN</td>\n      <td>34.0248</td>\n      <td>-118.2076</td>\n    </tr>\n    <tr>\n      <th>843493</th>\n      <td>230609209</td>\n      <td>05/01/2023 12:00:00 AM</td>\n      <td>04/29/2023 12:00:00 AM</td>\n      <td>600</td>\n      <td>6</td>\n      <td>Hollywood</td>\n      <td>639</td>\n      <td>1</td>\n      <td>510</td>\n      <td>VEHICLE - STOLEN</td>\n      <td>...</td>\n      <td>IC</td>\n      <td>Invest Cont</td>\n      <td>510.0</td>\n      <td>NaN</td>\n      <td>NaN</td>\n      <td>NaN</td>\n      <td>1800    WINONA                       BL</td>\n      <td>NaN</td>\n      <td>34.1038</td>\n      <td>-118.3020</td>\n    </tr>\n  </tbody>\n</table>\n<p>90464 rows × 28 columns</p>\n</div>"
     },
     "execution_count": 153,
     "metadata": {},
     "output_type": "execute_result"
    }
   ],
   "source": [
    "dataset_510 = original_crime_df[original_crime_df[\"Crm Cd\"].isin([510]) ]\n",
    "dataset_624 = original_crime_df[original_crime_df[\"Crm Cd\"].isin([624])]\n",
    "\n",
    "dataset_510"
   ],
   "metadata": {
    "collapsed": false,
    "ExecuteTime": {
     "end_time": "2023-12-05T07:39:54.733555Z",
     "start_time": "2023-12-05T07:39:54.588637Z"
    }
   }
  },
  {
   "cell_type": "code",
   "execution_count": 154,
   "outputs": [
    {
     "name": "stderr",
     "output_type": "stream",
     "text": [
      "/var/folders/8g/z0__2mts0rnbjh3kq8zsfz2w0000gn/T/ipykernel_6574/214316822.py:1: SettingWithCopyWarning:\n",
      "\n",
      "\n",
      "A value is trying to be set on a copy of a slice from a DataFrame.\n",
      "Try using .loc[row_indexer,col_indexer] = value instead\n",
      "\n",
      "See the caveats in the documentation: https://pandas.pydata.org/pandas-docs/stable/user_guide/indexing.html#returning-a-view-versus-a-copy\n",
      "\n",
      "/var/folders/8g/z0__2mts0rnbjh3kq8zsfz2w0000gn/T/ipykernel_6574/214316822.py:2: SettingWithCopyWarning:\n",
      "\n",
      "\n",
      "A value is trying to be set on a copy of a slice from a DataFrame.\n",
      "Try using .loc[row_indexer,col_indexer] = value instead\n",
      "\n",
      "See the caveats in the documentation: https://pandas.pydata.org/pandas-docs/stable/user_guide/indexing.html#returning-a-view-versus-a-copy\n",
      "\n"
     ]
    },
    {
     "data": {
      "text/plain": "            DR_NO  Date Rptd   DATE OCC  TIME OCC  AREA    AREA NAME  \\\n189498  201205133 2020-01-17 2020-01-01      1400    12  77th Street   \n142704  201804050 2020-01-02 2020-01-01      1600    18    Southeast   \n59855   200313800 2020-07-07 2020-01-01       800     3    Southwest   \n1592    200204391 2020-01-09 2020-01-01      2300     2      Rampart   \n30211   200207801 2020-03-16 2020-01-01      1500     2      Rampart   \n...           ...        ...        ...       ...   ...          ...   \n800095  230515996 2023-11-20 2023-11-20       510     5       Harbor   \n695708  231717853 2023-11-20 2023-11-20      1120    17   Devonshire   \n677441  231223417 2023-11-20 2023-11-20       300    12  77th Street   \n842487  232018061 2023-11-20 2023-11-20       200    20      Olympic   \n814308  230717322 2023-11-20 2023-11-20         5     7     Wilshire   \n\n        Rpt Dist No  Part 1-2  Crm Cd       Crm Cd Desc  ... Status  \\\n189498         1256         1     510  VEHICLE - STOLEN  ...     IC   \n142704         1863         1     510  VEHICLE - STOLEN  ...     IC   \n59855           392         1     510  VEHICLE - STOLEN  ...     IC   \n1592            219         1     510  VEHICLE - STOLEN  ...     IC   \n30211           279         1     510  VEHICLE - STOLEN  ...     IC   \n...             ...       ...     ...               ...  ...    ...   \n800095          567         1     510  VEHICLE - STOLEN  ...     IC   \n695708         1785         1     510  VEHICLE - STOLEN  ...     IC   \n677441         1239         1     510  VEHICLE - STOLEN  ...     IC   \n842487         2004         1     510  VEHICLE - STOLEN  ...     IC   \n814308          753         1     510  VEHICLE - STOLEN  ...     IC   \n\n        Status Desc Crm Cd 1 Crm Cd 2  Crm Cd 3 Crm Cd 4  \\\n189498  Invest Cont    510.0      NaN       NaN      NaN   \n142704  Invest Cont    510.0      NaN       NaN      NaN   \n59855   Invest Cont    510.0      NaN       NaN      NaN   \n1592    Invest Cont    510.0      NaN       NaN      NaN   \n30211   Invest Cont    510.0      NaN       NaN      NaN   \n...             ...      ...      ...       ...      ...   \n800095  Invest Cont    510.0      NaN       NaN      NaN   \n695708  Invest Cont    510.0      NaN       NaN      NaN   \n677441  Invest Cont    510.0      NaN       NaN      NaN   \n842487  Invest Cont    510.0      NaN       NaN      NaN   \n814308  Invest Cont    510.0      NaN       NaN      NaN   \n\n                                       LOCATION  \\\n189498   900 W  74TH                         ST   \n142704          IMPERIAL                     HY   \n59855   3000 W  48TH                         ST   \n1592     900 E  EDGEWARE                     RD   \n30211    900 S  UNION                        AV   \n...                                         ...   \n800095  2000 S  PACIFIC                      AV   \n695708  8800    DARBY                        AV   \n677441                                  VERMONT   \n842487   300 N  OXFORD                       AV   \n814308  1100 S  CURSON                       AV   \n\n                           Cross Street      LAT       LON  \n189498                              NaN  33.9727 -118.2893  \n142704  AVALON                       BL  33.9311 -118.2652  \n59855                               NaN  34.0000 -118.3269  \n1592                                NaN  34.0698 -118.2528  \n30211                               NaN  34.0508 -118.2731  \n...                                 ...      ...       ...  \n800095                              NaN  33.7261 -118.2880  \n695708                              NaN  34.2308 -118.5336  \n677441  60TH                         ST  33.9855 -118.2915  \n842487                              NaN  34.0763 -118.3079  \n814308                              NaN  34.0551 -118.3581  \n\n[90464 rows x 28 columns]",
      "text/html": "<div>\n<style scoped>\n    .dataframe tbody tr th:only-of-type {\n        vertical-align: middle;\n    }\n\n    .dataframe tbody tr th {\n        vertical-align: top;\n    }\n\n    .dataframe thead th {\n        text-align: right;\n    }\n</style>\n<table border=\"1\" class=\"dataframe\">\n  <thead>\n    <tr style=\"text-align: right;\">\n      <th></th>\n      <th>DR_NO</th>\n      <th>Date Rptd</th>\n      <th>DATE OCC</th>\n      <th>TIME OCC</th>\n      <th>AREA</th>\n      <th>AREA NAME</th>\n      <th>Rpt Dist No</th>\n      <th>Part 1-2</th>\n      <th>Crm Cd</th>\n      <th>Crm Cd Desc</th>\n      <th>...</th>\n      <th>Status</th>\n      <th>Status Desc</th>\n      <th>Crm Cd 1</th>\n      <th>Crm Cd 2</th>\n      <th>Crm Cd 3</th>\n      <th>Crm Cd 4</th>\n      <th>LOCATION</th>\n      <th>Cross Street</th>\n      <th>LAT</th>\n      <th>LON</th>\n    </tr>\n  </thead>\n  <tbody>\n    <tr>\n      <th>189498</th>\n      <td>201205133</td>\n      <td>2020-01-17</td>\n      <td>2020-01-01</td>\n      <td>1400</td>\n      <td>12</td>\n      <td>77th Street</td>\n      <td>1256</td>\n      <td>1</td>\n      <td>510</td>\n      <td>VEHICLE - STOLEN</td>\n      <td>...</td>\n      <td>IC</td>\n      <td>Invest Cont</td>\n      <td>510.0</td>\n      <td>NaN</td>\n      <td>NaN</td>\n      <td>NaN</td>\n      <td>900 W  74TH                         ST</td>\n      <td>NaN</td>\n      <td>33.9727</td>\n      <td>-118.2893</td>\n    </tr>\n    <tr>\n      <th>142704</th>\n      <td>201804050</td>\n      <td>2020-01-02</td>\n      <td>2020-01-01</td>\n      <td>1600</td>\n      <td>18</td>\n      <td>Southeast</td>\n      <td>1863</td>\n      <td>1</td>\n      <td>510</td>\n      <td>VEHICLE - STOLEN</td>\n      <td>...</td>\n      <td>IC</td>\n      <td>Invest Cont</td>\n      <td>510.0</td>\n      <td>NaN</td>\n      <td>NaN</td>\n      <td>NaN</td>\n      <td>IMPERIAL                     HY</td>\n      <td>AVALON                       BL</td>\n      <td>33.9311</td>\n      <td>-118.2652</td>\n    </tr>\n    <tr>\n      <th>59855</th>\n      <td>200313800</td>\n      <td>2020-07-07</td>\n      <td>2020-01-01</td>\n      <td>800</td>\n      <td>3</td>\n      <td>Southwest</td>\n      <td>392</td>\n      <td>1</td>\n      <td>510</td>\n      <td>VEHICLE - STOLEN</td>\n      <td>...</td>\n      <td>IC</td>\n      <td>Invest Cont</td>\n      <td>510.0</td>\n      <td>NaN</td>\n      <td>NaN</td>\n      <td>NaN</td>\n      <td>3000 W  48TH                         ST</td>\n      <td>NaN</td>\n      <td>34.0000</td>\n      <td>-118.3269</td>\n    </tr>\n    <tr>\n      <th>1592</th>\n      <td>200204391</td>\n      <td>2020-01-09</td>\n      <td>2020-01-01</td>\n      <td>2300</td>\n      <td>2</td>\n      <td>Rampart</td>\n      <td>219</td>\n      <td>1</td>\n      <td>510</td>\n      <td>VEHICLE - STOLEN</td>\n      <td>...</td>\n      <td>IC</td>\n      <td>Invest Cont</td>\n      <td>510.0</td>\n      <td>NaN</td>\n      <td>NaN</td>\n      <td>NaN</td>\n      <td>900 E  EDGEWARE                     RD</td>\n      <td>NaN</td>\n      <td>34.0698</td>\n      <td>-118.2528</td>\n    </tr>\n    <tr>\n      <th>30211</th>\n      <td>200207801</td>\n      <td>2020-03-16</td>\n      <td>2020-01-01</td>\n      <td>1500</td>\n      <td>2</td>\n      <td>Rampart</td>\n      <td>279</td>\n      <td>1</td>\n      <td>510</td>\n      <td>VEHICLE - STOLEN</td>\n      <td>...</td>\n      <td>IC</td>\n      <td>Invest Cont</td>\n      <td>510.0</td>\n      <td>NaN</td>\n      <td>NaN</td>\n      <td>NaN</td>\n      <td>900 S  UNION                        AV</td>\n      <td>NaN</td>\n      <td>34.0508</td>\n      <td>-118.2731</td>\n    </tr>\n    <tr>\n      <th>...</th>\n      <td>...</td>\n      <td>...</td>\n      <td>...</td>\n      <td>...</td>\n      <td>...</td>\n      <td>...</td>\n      <td>...</td>\n      <td>...</td>\n      <td>...</td>\n      <td>...</td>\n      <td>...</td>\n      <td>...</td>\n      <td>...</td>\n      <td>...</td>\n      <td>...</td>\n      <td>...</td>\n      <td>...</td>\n      <td>...</td>\n      <td>...</td>\n      <td>...</td>\n      <td>...</td>\n    </tr>\n    <tr>\n      <th>800095</th>\n      <td>230515996</td>\n      <td>2023-11-20</td>\n      <td>2023-11-20</td>\n      <td>510</td>\n      <td>5</td>\n      <td>Harbor</td>\n      <td>567</td>\n      <td>1</td>\n      <td>510</td>\n      <td>VEHICLE - STOLEN</td>\n      <td>...</td>\n      <td>IC</td>\n      <td>Invest Cont</td>\n      <td>510.0</td>\n      <td>NaN</td>\n      <td>NaN</td>\n      <td>NaN</td>\n      <td>2000 S  PACIFIC                      AV</td>\n      <td>NaN</td>\n      <td>33.7261</td>\n      <td>-118.2880</td>\n    </tr>\n    <tr>\n      <th>695708</th>\n      <td>231717853</td>\n      <td>2023-11-20</td>\n      <td>2023-11-20</td>\n      <td>1120</td>\n      <td>17</td>\n      <td>Devonshire</td>\n      <td>1785</td>\n      <td>1</td>\n      <td>510</td>\n      <td>VEHICLE - STOLEN</td>\n      <td>...</td>\n      <td>IC</td>\n      <td>Invest Cont</td>\n      <td>510.0</td>\n      <td>NaN</td>\n      <td>NaN</td>\n      <td>NaN</td>\n      <td>8800    DARBY                        AV</td>\n      <td>NaN</td>\n      <td>34.2308</td>\n      <td>-118.5336</td>\n    </tr>\n    <tr>\n      <th>677441</th>\n      <td>231223417</td>\n      <td>2023-11-20</td>\n      <td>2023-11-20</td>\n      <td>300</td>\n      <td>12</td>\n      <td>77th Street</td>\n      <td>1239</td>\n      <td>1</td>\n      <td>510</td>\n      <td>VEHICLE - STOLEN</td>\n      <td>...</td>\n      <td>IC</td>\n      <td>Invest Cont</td>\n      <td>510.0</td>\n      <td>NaN</td>\n      <td>NaN</td>\n      <td>NaN</td>\n      <td>VERMONT</td>\n      <td>60TH                         ST</td>\n      <td>33.9855</td>\n      <td>-118.2915</td>\n    </tr>\n    <tr>\n      <th>842487</th>\n      <td>232018061</td>\n      <td>2023-11-20</td>\n      <td>2023-11-20</td>\n      <td>200</td>\n      <td>20</td>\n      <td>Olympic</td>\n      <td>2004</td>\n      <td>1</td>\n      <td>510</td>\n      <td>VEHICLE - STOLEN</td>\n      <td>...</td>\n      <td>IC</td>\n      <td>Invest Cont</td>\n      <td>510.0</td>\n      <td>NaN</td>\n      <td>NaN</td>\n      <td>NaN</td>\n      <td>300 N  OXFORD                       AV</td>\n      <td>NaN</td>\n      <td>34.0763</td>\n      <td>-118.3079</td>\n    </tr>\n    <tr>\n      <th>814308</th>\n      <td>230717322</td>\n      <td>2023-11-20</td>\n      <td>2023-11-20</td>\n      <td>5</td>\n      <td>7</td>\n      <td>Wilshire</td>\n      <td>753</td>\n      <td>1</td>\n      <td>510</td>\n      <td>VEHICLE - STOLEN</td>\n      <td>...</td>\n      <td>IC</td>\n      <td>Invest Cont</td>\n      <td>510.0</td>\n      <td>NaN</td>\n      <td>NaN</td>\n      <td>NaN</td>\n      <td>1100 S  CURSON                       AV</td>\n      <td>NaN</td>\n      <td>34.0551</td>\n      <td>-118.3581</td>\n    </tr>\n  </tbody>\n</table>\n<p>90464 rows × 28 columns</p>\n</div>"
     },
     "execution_count": 154,
     "metadata": {},
     "output_type": "execute_result"
    }
   ],
   "source": [
    "dataset_510['Date Rptd'] = pd.to_datetime(dataset_510['Date Rptd'])\n",
    "dataset_510['DATE OCC'] = pd.to_datetime(dataset_510['DATE OCC'])\n",
    "\n",
    "dataset_510.sort_values(by=\"DATE OCC\")"
   ],
   "metadata": {
    "collapsed": false,
    "ExecuteTime": {
     "end_time": "2023-12-05T07:39:54.900666Z",
     "start_time": "2023-12-05T07:39:54.696377Z"
    }
   }
  },
  {
   "cell_type": "code",
   "execution_count": 155,
   "outputs": [
    {
     "data": {
      "text/plain": "array([[196],\n       [346],\n       [308],\n       [317],\n       [343],\n       [312],\n       [310],\n       [307],\n       [306],\n       [322],\n       [337],\n       [307],\n       [363],\n       [413],\n       [416],\n       [412],\n       [443],\n       [394],\n       [450],\n       [414],\n       [435],\n       [400],\n       [460],\n       [468],\n       [495],\n       [513],\n       [523],\n       [432],\n       [439],\n       [439],\n       [441],\n       [415],\n       [421],\n       [382],\n       [430],\n       [386],\n       [375],\n       [389],\n       [372],\n       [388],\n       [416],\n       [383],\n       [442],\n       [412],\n       [411],\n       [409],\n       [425],\n       [398],\n       [414],\n       [403],\n       [393],\n       [390],\n       [421],\n       [408],\n       [412],\n       [448],\n       [435],\n       [488],\n       [460],\n       [470],\n       [415],\n       [440],\n       [412],\n       [395],\n       [397],\n       [409],\n       [386],\n       [400],\n       [441],\n       [463],\n       [409],\n       [409],\n       [405],\n       [438],\n       [412],\n       [429],\n       [421],\n       [417],\n       [452],\n       [421],\n       [372],\n       [398],\n       [441],\n       [378],\n       [433],\n       [478],\n       [474],\n       [450],\n       [460],\n       [474],\n       [512],\n       [491],\n       [547],\n       [513],\n       [492],\n       [559],\n       [547],\n       [508],\n       [522],\n       [508],\n       [528],\n       [519],\n       [510],\n       [535],\n       [490],\n       [460],\n       [522],\n       [468],\n       [450],\n       [485],\n       [481],\n       [482],\n       [467],\n       [472],\n       [463],\n       [488],\n       [492],\n       [486],\n       [516],\n       [508],\n       [508],\n       [543],\n       [516],\n       [518],\n       [517],\n       [476],\n       [483],\n       [448],\n       [463],\n       [485],\n       [471],\n       [477],\n       [473],\n       [501],\n       [460],\n       [550],\n       [482],\n       [475],\n       [479],\n       [471],\n       [464],\n       [511],\n       [474],\n       [466],\n       [459],\n       [479],\n       [468],\n       [434],\n       [458],\n       [417],\n       [469],\n       [425],\n       [411],\n       [373],\n       [411],\n       [438],\n       [467],\n       [405],\n       [467],\n       [413],\n       [455],\n       [476],\n       [454],\n       [449],\n       [422],\n       [451],\n       [491],\n       [421],\n       [448],\n       [417],\n       [403],\n       [435],\n       [407],\n       [437],\n       [428],\n       [375],\n       [441],\n       [465],\n       [429],\n       [428],\n       [439],\n       [457],\n       [467],\n       [471],\n       [487],\n       [513],\n       [474],\n       [455],\n       [490],\n       [535],\n       [486],\n       [495],\n       [443],\n       [473],\n       [494],\n       [509],\n       [511],\n       [528],\n       [493],\n       [507],\n       [497],\n       [494],\n       [483],\n       [ 19]], dtype=int32)"
     },
     "execution_count": 155,
     "metadata": {},
     "output_type": "execute_result"
    }
   ],
   "source": [
    "df1 = dataset_510['DATE OCC'].dt.date.value_counts().sort_index().reset_index()\n",
    "df1.columns = ['DATE','Count']\n",
    "\n",
    "df1['DATE'] = pd.to_datetime(df1['DATE']) - pd.to_timedelta(7, unit='d')\n",
    "df1= df1.groupby([pd.Grouper(key='DATE', freq='W')])['Count'].sum()\n",
    "\n",
    "df1 = pd.DataFrame(data=df1.values, columns=['Count'])\n",
    "df1 = df1.values\n",
    "df1 = df1.astype('int32')\n",
    "df1"
   ],
   "metadata": {
    "collapsed": false,
    "ExecuteTime": {
     "end_time": "2023-12-05T07:39:54.980752Z",
     "start_time": "2023-12-05T07:39:54.916708Z"
    }
   }
  },
  {
   "cell_type": "code",
   "execution_count": 156,
   "outputs": [],
   "source": [
    "def formatNumber(n):\n",
    "    return '{:,}'.format(n).replace(\",\",\" \")\n",
    "def highlight_diag(df):\n",
    "    a = np.full(df.shape, '', dtype='<U24')\n",
    "    np.fill_diagonal(a, 'background-color: yellow')\n",
    "    return pd.DataFrame(a, index=df.index, columns=df.columns)\n",
    "def moving_average(a, n=3) :\n",
    "    ret = np.cumsum(a, dtype=float)\n",
    "    ret[n:] = ret[n:] - ret[:-n]\n",
    "    return ret[n - 1:] / n"
   ],
   "metadata": {
    "collapsed": false,
    "ExecuteTime": {
     "end_time": "2023-12-05T07:39:54.980923Z",
     "start_time": "2023-12-05T07:39:54.948029Z"
    }
   }
  },
  {
   "cell_type": "code",
   "execution_count": 157,
   "outputs": [
    {
     "data": {
      "application/vnd.plotly.v1+json": {
       "data": [
        {
         "name": "Dataset",
         "x": [
          0,
          1,
          2,
          3,
          4,
          5,
          6,
          7,
          8,
          9,
          10,
          11,
          12,
          13,
          14,
          15,
          16,
          17,
          18,
          19,
          20,
          21,
          22,
          23,
          24,
          25,
          26,
          27,
          28,
          29,
          30,
          31,
          32,
          33,
          34,
          35,
          36,
          37,
          38,
          39,
          40,
          41,
          42,
          43,
          44,
          45,
          46,
          47,
          48,
          49,
          50,
          51,
          52,
          53,
          54,
          55,
          56,
          57,
          58,
          59,
          60,
          61,
          62,
          63,
          64,
          65,
          66,
          67,
          68,
          69,
          70,
          71,
          72,
          73,
          74,
          75,
          76,
          77,
          78,
          79,
          80,
          81,
          82,
          83,
          84,
          85,
          86,
          87,
          88,
          89,
          90,
          91,
          92,
          93,
          94,
          95,
          96,
          97,
          98,
          99,
          100,
          101,
          102,
          103,
          104,
          105,
          106,
          107,
          108,
          109,
          110,
          111,
          112,
          113,
          114,
          115,
          116,
          117,
          118,
          119,
          120,
          121,
          122,
          123,
          124,
          125,
          126,
          127,
          128,
          129,
          130,
          131,
          132,
          133,
          134,
          135,
          136,
          137,
          138,
          139,
          140,
          141,
          142,
          143,
          144,
          145,
          146,
          147,
          148,
          149,
          150,
          151,
          152,
          153,
          154,
          155,
          156,
          157,
          158,
          159,
          160,
          161,
          162,
          163,
          164,
          165,
          166,
          167,
          168,
          169,
          170,
          171,
          172,
          173,
          174,
          175,
          176,
          177,
          178,
          179,
          180,
          181,
          182,
          183,
          184,
          185,
          186,
          187,
          188,
          189,
          190,
          191,
          192,
          193,
          194,
          195,
          196,
          197,
          198,
          199,
          200,
          201,
          202,
          203
         ],
         "y": [
          196,
          346,
          308,
          317,
          343,
          312,
          310,
          307,
          306,
          322,
          337,
          307,
          363,
          413,
          416,
          412,
          443,
          394,
          450,
          414,
          435,
          400,
          460,
          468,
          495,
          513,
          523,
          432,
          439,
          439,
          441,
          415,
          421,
          382,
          430,
          386,
          375,
          389,
          372,
          388,
          416,
          383,
          442,
          412,
          411,
          409,
          425,
          398,
          414,
          403,
          393,
          390,
          421,
          408,
          412,
          448,
          435,
          488,
          460,
          470,
          415,
          440,
          412,
          395,
          397,
          409,
          386,
          400,
          441,
          463,
          409,
          409,
          405,
          438,
          412,
          429,
          421,
          417,
          452,
          421,
          372,
          398,
          441,
          378,
          433,
          478,
          474,
          450,
          460,
          474,
          512,
          491,
          547,
          513,
          492,
          559,
          547,
          508,
          522,
          508,
          528,
          519,
          510,
          535,
          490,
          460,
          522,
          468,
          450,
          485,
          481,
          482,
          467,
          472,
          463,
          488,
          492,
          486,
          516,
          508,
          508,
          543,
          516,
          518,
          517,
          476,
          483,
          448,
          463,
          485,
          471,
          477,
          473,
          501,
          460,
          550,
          482,
          475,
          479,
          471,
          464,
          511,
          474,
          466,
          459,
          479,
          468,
          434,
          458,
          417,
          469,
          425,
          411,
          373,
          411,
          438,
          467,
          405,
          467,
          413,
          455,
          476,
          454,
          449,
          422,
          451,
          491,
          421,
          448,
          417,
          403,
          435,
          407,
          437,
          428,
          375,
          441,
          465,
          429,
          428,
          439,
          457,
          467,
          471,
          487,
          513,
          474,
          455,
          490,
          535,
          486,
          495,
          443,
          473,
          494,
          509,
          511,
          528,
          493,
          507,
          497,
          494,
          483,
          19
         ],
         "type": "scatter"
        },
        {
         "name": "Average",
         "x": [
          0,
          1,
          2,
          3,
          4,
          5,
          6,
          7,
          8,
          9,
          10,
          11,
          12,
          13,
          14,
          15,
          16,
          17,
          18,
          19,
          20,
          21,
          22,
          23,
          24,
          25,
          26,
          27,
          28,
          29,
          30,
          31,
          32,
          33,
          34,
          35,
          36,
          37,
          38,
          39,
          40,
          41,
          42,
          43,
          44,
          45,
          46,
          47,
          48,
          49,
          50,
          51,
          52,
          53,
          54,
          55,
          56,
          57,
          58,
          59,
          60,
          61,
          62,
          63,
          64,
          65,
          66,
          67,
          68,
          69,
          70,
          71,
          72,
          73,
          74,
          75,
          76,
          77,
          78,
          79,
          80,
          81,
          82,
          83,
          84,
          85,
          86,
          87,
          88,
          89,
          90,
          91,
          92,
          93,
          94,
          95,
          96,
          97,
          98,
          99,
          100,
          101,
          102,
          103,
          104,
          105,
          106,
          107,
          108,
          109,
          110,
          111,
          112,
          113,
          114,
          115,
          116,
          117,
          118,
          119,
          120,
          121,
          122,
          123,
          124,
          125,
          126,
          127,
          128,
          129,
          130,
          131,
          132,
          133,
          134,
          135,
          136,
          137,
          138,
          139,
          140,
          141,
          142,
          143,
          144,
          145,
          146,
          147,
          148,
          149,
          150,
          151,
          152,
          153,
          154,
          155,
          156,
          157,
          158,
          159,
          160,
          161,
          162,
          163,
          164,
          165,
          166,
          167,
          168,
          169,
          170,
          171,
          172,
          173,
          174,
          175,
          176,
          177,
          178,
          179,
          180,
          181,
          182,
          183,
          184,
          185,
          186,
          187,
          188,
          189,
          190,
          191,
          192,
          193,
          194,
          195,
          196,
          197,
          198,
          199,
          200,
          201,
          202,
          203
         ],
         "y": [
          283.3333333333333,
          323.6666666666667,
          322.6666666666667,
          324.0,
          321.6666666666667,
          309.6666666666667,
          307.6666666666667,
          311.6666666666667,
          321.6666666666667,
          322.0,
          335.6666666666667,
          361.0,
          397.3333333333333,
          413.6666666666667,
          423.6666666666667,
          416.3333333333333,
          429.0,
          419.3333333333333,
          433.0,
          416.3333333333333,
          431.6666666666667,
          442.6666666666667,
          474.3333333333333,
          492.0,
          510.3333333333333,
          489.3333333333333,
          464.6666666666667,
          436.6666666666667,
          439.6666666666667,
          431.6666666666667,
          425.6666666666667,
          406.0,
          411.0,
          399.3333333333333,
          397.0,
          383.3333333333333,
          378.6666666666667,
          383.0,
          392.0,
          395.6666666666667,
          413.6666666666667,
          412.3333333333333,
          421.6666666666667,
          410.6666666666667,
          415.0,
          410.6666666666667,
          412.3333333333333,
          405.0,
          403.3333333333333,
          395.3333333333333,
          401.3333333333333,
          406.3333333333333,
          413.6666666666667,
          422.6666666666667,
          431.6666666666667,
          457.0,
          461.0,
          472.6666666666667,
          448.3333333333333,
          441.6666666666667,
          422.3333333333333,
          415.6666666666667,
          401.3333333333333,
          400.3333333333333,
          397.3333333333333,
          398.3333333333333,
          409.0,
          434.6666666666667,
          437.6666666666667,
          427.0,
          407.6666666666667,
          417.3333333333333,
          418.3333333333333,
          426.3333333333333,
          420.6666666666667,
          422.3333333333333,
          430.0,
          430.0,
          415.0,
          397.0,
          403.6666666666667,
          405.6666666666667,
          417.3333333333333,
          429.6666666666667,
          461.6666666666667,
          467.3333333333333,
          461.3333333333333,
          461.3333333333333,
          482.0,
          492.3333333333333,
          516.6666666666666,
          517.0,
          517.3333333333334,
          521.3333333333334,
          532.6666666666666,
          538.0,
          525.6666666666666,
          512.6666666666666,
          519.3333333333334,
          518.3333333333334,
          519.0,
          521.3333333333334,
          511.6666666666667,
          495.0,
          490.6666666666667,
          483.3333333333333,
          480.0,
          467.6666666666667,
          472.0,
          482.6666666666667,
          476.6666666666667,
          473.6666666666667,
          467.3333333333333,
          474.3333333333333,
          481.0,
          488.6666666666667,
          498.0,
          503.3333333333333,
          510.6666666666667,
          519.6666666666666,
          522.3333333333334,
          525.6666666666666,
          517.0,
          503.6666666666667,
          492.0,
          469.0,
          464.6666666666667,
          465.3333333333333,
          473.0,
          477.6666666666667,
          473.6666666666667,
          483.6666666666667,
          478.0,
          503.6666666666667,
          497.3333333333333,
          502.3333333333333,
          478.6666666666667,
          475.0,
          471.3333333333333,
          482.0,
          483.0,
          483.6666666666667,
          466.3333333333333,
          468.0,
          468.6666666666667,
          460.3333333333333,
          453.3333333333333,
          436.3333333333333,
          448.0,
          437.0,
          435.0,
          403.0,
          398.3333333333333,
          407.3333333333333,
          438.6666666666667,
          436.6666666666667,
          446.3333333333333,
          428.3333333333333,
          445.0,
          448.0,
          461.6666666666667,
          459.6666666666667,
          441.6666666666667,
          440.6666666666667,
          454.6666666666667,
          454.3333333333333,
          453.3333333333333,
          428.6666666666667,
          422.6666666666667,
          418.3333333333333,
          415.0,
          426.3333333333333,
          424.0,
          413.3333333333333,
          414.6666666666667,
          427.0,
          445.0,
          440.6666666666667,
          432.0,
          441.3333333333333,
          454.3333333333333,
          465.0,
          475.0,
          490.3333333333333,
          491.3333333333333,
          480.6666666666667,
          473.0,
          493.3333333333333,
          503.6666666666667,
          505.3333333333333,
          474.6666666666667,
          470.3333333333333,
          470.0,
          492.0,
          504.6666666666667,
          516.0,
          510.6666666666667,
          509.3333333333333,
          499.0,
          499.3333333333333,
          491.3333333333333,
          332.0
         ],
         "type": "scatter"
        }
       ],
       "layout": {
        "template": {
         "data": {
          "histogram2dcontour": [
           {
            "type": "histogram2dcontour",
            "colorbar": {
             "outlinewidth": 0,
             "ticks": ""
            },
            "colorscale": [
             [
              0.0,
              "#0d0887"
             ],
             [
              0.1111111111111111,
              "#46039f"
             ],
             [
              0.2222222222222222,
              "#7201a8"
             ],
             [
              0.3333333333333333,
              "#9c179e"
             ],
             [
              0.4444444444444444,
              "#bd3786"
             ],
             [
              0.5555555555555556,
              "#d8576b"
             ],
             [
              0.6666666666666666,
              "#ed7953"
             ],
             [
              0.7777777777777778,
              "#fb9f3a"
             ],
             [
              0.8888888888888888,
              "#fdca26"
             ],
             [
              1.0,
              "#f0f921"
             ]
            ]
           }
          ],
          "choropleth": [
           {
            "type": "choropleth",
            "colorbar": {
             "outlinewidth": 0,
             "ticks": ""
            }
           }
          ],
          "histogram2d": [
           {
            "type": "histogram2d",
            "colorbar": {
             "outlinewidth": 0,
             "ticks": ""
            },
            "colorscale": [
             [
              0.0,
              "#0d0887"
             ],
             [
              0.1111111111111111,
              "#46039f"
             ],
             [
              0.2222222222222222,
              "#7201a8"
             ],
             [
              0.3333333333333333,
              "#9c179e"
             ],
             [
              0.4444444444444444,
              "#bd3786"
             ],
             [
              0.5555555555555556,
              "#d8576b"
             ],
             [
              0.6666666666666666,
              "#ed7953"
             ],
             [
              0.7777777777777778,
              "#fb9f3a"
             ],
             [
              0.8888888888888888,
              "#fdca26"
             ],
             [
              1.0,
              "#f0f921"
             ]
            ]
           }
          ],
          "heatmap": [
           {
            "type": "heatmap",
            "colorbar": {
             "outlinewidth": 0,
             "ticks": ""
            },
            "colorscale": [
             [
              0.0,
              "#0d0887"
             ],
             [
              0.1111111111111111,
              "#46039f"
             ],
             [
              0.2222222222222222,
              "#7201a8"
             ],
             [
              0.3333333333333333,
              "#9c179e"
             ],
             [
              0.4444444444444444,
              "#bd3786"
             ],
             [
              0.5555555555555556,
              "#d8576b"
             ],
             [
              0.6666666666666666,
              "#ed7953"
             ],
             [
              0.7777777777777778,
              "#fb9f3a"
             ],
             [
              0.8888888888888888,
              "#fdca26"
             ],
             [
              1.0,
              "#f0f921"
             ]
            ]
           }
          ],
          "heatmapgl": [
           {
            "type": "heatmapgl",
            "colorbar": {
             "outlinewidth": 0,
             "ticks": ""
            },
            "colorscale": [
             [
              0.0,
              "#0d0887"
             ],
             [
              0.1111111111111111,
              "#46039f"
             ],
             [
              0.2222222222222222,
              "#7201a8"
             ],
             [
              0.3333333333333333,
              "#9c179e"
             ],
             [
              0.4444444444444444,
              "#bd3786"
             ],
             [
              0.5555555555555556,
              "#d8576b"
             ],
             [
              0.6666666666666666,
              "#ed7953"
             ],
             [
              0.7777777777777778,
              "#fb9f3a"
             ],
             [
              0.8888888888888888,
              "#fdca26"
             ],
             [
              1.0,
              "#f0f921"
             ]
            ]
           }
          ],
          "contourcarpet": [
           {
            "type": "contourcarpet",
            "colorbar": {
             "outlinewidth": 0,
             "ticks": ""
            }
           }
          ],
          "contour": [
           {
            "type": "contour",
            "colorbar": {
             "outlinewidth": 0,
             "ticks": ""
            },
            "colorscale": [
             [
              0.0,
              "#0d0887"
             ],
             [
              0.1111111111111111,
              "#46039f"
             ],
             [
              0.2222222222222222,
              "#7201a8"
             ],
             [
              0.3333333333333333,
              "#9c179e"
             ],
             [
              0.4444444444444444,
              "#bd3786"
             ],
             [
              0.5555555555555556,
              "#d8576b"
             ],
             [
              0.6666666666666666,
              "#ed7953"
             ],
             [
              0.7777777777777778,
              "#fb9f3a"
             ],
             [
              0.8888888888888888,
              "#fdca26"
             ],
             [
              1.0,
              "#f0f921"
             ]
            ]
           }
          ],
          "surface": [
           {
            "type": "surface",
            "colorbar": {
             "outlinewidth": 0,
             "ticks": ""
            },
            "colorscale": [
             [
              0.0,
              "#0d0887"
             ],
             [
              0.1111111111111111,
              "#46039f"
             ],
             [
              0.2222222222222222,
              "#7201a8"
             ],
             [
              0.3333333333333333,
              "#9c179e"
             ],
             [
              0.4444444444444444,
              "#bd3786"
             ],
             [
              0.5555555555555556,
              "#d8576b"
             ],
             [
              0.6666666666666666,
              "#ed7953"
             ],
             [
              0.7777777777777778,
              "#fb9f3a"
             ],
             [
              0.8888888888888888,
              "#fdca26"
             ],
             [
              1.0,
              "#f0f921"
             ]
            ]
           }
          ],
          "mesh3d": [
           {
            "type": "mesh3d",
            "colorbar": {
             "outlinewidth": 0,
             "ticks": ""
            }
           }
          ],
          "scatter": [
           {
            "marker": {
             "line": {
              "color": "#283442"
             }
            },
            "type": "scatter"
           }
          ],
          "parcoords": [
           {
            "type": "parcoords",
            "line": {
             "colorbar": {
              "outlinewidth": 0,
              "ticks": ""
             }
            }
           }
          ],
          "scatterpolargl": [
           {
            "type": "scatterpolargl",
            "marker": {
             "colorbar": {
              "outlinewidth": 0,
              "ticks": ""
             }
            }
           }
          ],
          "bar": [
           {
            "error_x": {
             "color": "#f2f5fa"
            },
            "error_y": {
             "color": "#f2f5fa"
            },
            "marker": {
             "line": {
              "color": "rgb(17,17,17)",
              "width": 0.5
             },
             "pattern": {
              "fillmode": "overlay",
              "size": 10,
              "solidity": 0.2
             }
            },
            "type": "bar"
           }
          ],
          "scattergeo": [
           {
            "type": "scattergeo",
            "marker": {
             "colorbar": {
              "outlinewidth": 0,
              "ticks": ""
             }
            }
           }
          ],
          "scatterpolar": [
           {
            "type": "scatterpolar",
            "marker": {
             "colorbar": {
              "outlinewidth": 0,
              "ticks": ""
             }
            }
           }
          ],
          "histogram": [
           {
            "marker": {
             "pattern": {
              "fillmode": "overlay",
              "size": 10,
              "solidity": 0.2
             }
            },
            "type": "histogram"
           }
          ],
          "scattergl": [
           {
            "marker": {
             "line": {
              "color": "#283442"
             }
            },
            "type": "scattergl"
           }
          ],
          "scatter3d": [
           {
            "type": "scatter3d",
            "line": {
             "colorbar": {
              "outlinewidth": 0,
              "ticks": ""
             }
            },
            "marker": {
             "colorbar": {
              "outlinewidth": 0,
              "ticks": ""
             }
            }
           }
          ],
          "scattermapbox": [
           {
            "type": "scattermapbox",
            "marker": {
             "colorbar": {
              "outlinewidth": 0,
              "ticks": ""
             }
            }
           }
          ],
          "scatterternary": [
           {
            "type": "scatterternary",
            "marker": {
             "colorbar": {
              "outlinewidth": 0,
              "ticks": ""
             }
            }
           }
          ],
          "scattercarpet": [
           {
            "type": "scattercarpet",
            "marker": {
             "colorbar": {
              "outlinewidth": 0,
              "ticks": ""
             }
            }
           }
          ],
          "carpet": [
           {
            "aaxis": {
             "endlinecolor": "#A2B1C6",
             "gridcolor": "#506784",
             "linecolor": "#506784",
             "minorgridcolor": "#506784",
             "startlinecolor": "#A2B1C6"
            },
            "baxis": {
             "endlinecolor": "#A2B1C6",
             "gridcolor": "#506784",
             "linecolor": "#506784",
             "minorgridcolor": "#506784",
             "startlinecolor": "#A2B1C6"
            },
            "type": "carpet"
           }
          ],
          "table": [
           {
            "cells": {
             "fill": {
              "color": "#506784"
             },
             "line": {
              "color": "rgb(17,17,17)"
             }
            },
            "header": {
             "fill": {
              "color": "#2a3f5f"
             },
             "line": {
              "color": "rgb(17,17,17)"
             }
            },
            "type": "table"
           }
          ],
          "barpolar": [
           {
            "marker": {
             "line": {
              "color": "rgb(17,17,17)",
              "width": 0.5
             },
             "pattern": {
              "fillmode": "overlay",
              "size": 10,
              "solidity": 0.2
             }
            },
            "type": "barpolar"
           }
          ],
          "pie": [
           {
            "automargin": true,
            "type": "pie"
           }
          ]
         },
         "layout": {
          "autotypenumbers": "strict",
          "colorway": [
           "#636efa",
           "#EF553B",
           "#00cc96",
           "#ab63fa",
           "#FFA15A",
           "#19d3f3",
           "#FF6692",
           "#B6E880",
           "#FF97FF",
           "#FECB52"
          ],
          "font": {
           "color": "#f2f5fa"
          },
          "hovermode": "closest",
          "hoverlabel": {
           "align": "left"
          },
          "paper_bgcolor": "rgb(17,17,17)",
          "plot_bgcolor": "rgb(17,17,17)",
          "polar": {
           "bgcolor": "rgb(17,17,17)",
           "angularaxis": {
            "gridcolor": "#506784",
            "linecolor": "#506784",
            "ticks": ""
           },
           "radialaxis": {
            "gridcolor": "#506784",
            "linecolor": "#506784",
            "ticks": ""
           }
          },
          "ternary": {
           "bgcolor": "rgb(17,17,17)",
           "aaxis": {
            "gridcolor": "#506784",
            "linecolor": "#506784",
            "ticks": ""
           },
           "baxis": {
            "gridcolor": "#506784",
            "linecolor": "#506784",
            "ticks": ""
           },
           "caxis": {
            "gridcolor": "#506784",
            "linecolor": "#506784",
            "ticks": ""
           }
          },
          "coloraxis": {
           "colorbar": {
            "outlinewidth": 0,
            "ticks": ""
           }
          },
          "colorscale": {
           "sequential": [
            [
             0.0,
             "#0d0887"
            ],
            [
             0.1111111111111111,
             "#46039f"
            ],
            [
             0.2222222222222222,
             "#7201a8"
            ],
            [
             0.3333333333333333,
             "#9c179e"
            ],
            [
             0.4444444444444444,
             "#bd3786"
            ],
            [
             0.5555555555555556,
             "#d8576b"
            ],
            [
             0.6666666666666666,
             "#ed7953"
            ],
            [
             0.7777777777777778,
             "#fb9f3a"
            ],
            [
             0.8888888888888888,
             "#fdca26"
            ],
            [
             1.0,
             "#f0f921"
            ]
           ],
           "sequentialminus": [
            [
             0.0,
             "#0d0887"
            ],
            [
             0.1111111111111111,
             "#46039f"
            ],
            [
             0.2222222222222222,
             "#7201a8"
            ],
            [
             0.3333333333333333,
             "#9c179e"
            ],
            [
             0.4444444444444444,
             "#bd3786"
            ],
            [
             0.5555555555555556,
             "#d8576b"
            ],
            [
             0.6666666666666666,
             "#ed7953"
            ],
            [
             0.7777777777777778,
             "#fb9f3a"
            ],
            [
             0.8888888888888888,
             "#fdca26"
            ],
            [
             1.0,
             "#f0f921"
            ]
           ],
           "diverging": [
            [
             0,
             "#8e0152"
            ],
            [
             0.1,
             "#c51b7d"
            ],
            [
             0.2,
             "#de77ae"
            ],
            [
             0.3,
             "#f1b6da"
            ],
            [
             0.4,
             "#fde0ef"
            ],
            [
             0.5,
             "#f7f7f7"
            ],
            [
             0.6,
             "#e6f5d0"
            ],
            [
             0.7,
             "#b8e186"
            ],
            [
             0.8,
             "#7fbc41"
            ],
            [
             0.9,
             "#4d9221"
            ],
            [
             1,
             "#276419"
            ]
           ]
          },
          "xaxis": {
           "gridcolor": "#283442",
           "linecolor": "#506784",
           "ticks": "",
           "title": {
            "standoff": 15
           },
           "zerolinecolor": "#283442",
           "automargin": true,
           "zerolinewidth": 2
          },
          "yaxis": {
           "gridcolor": "#283442",
           "linecolor": "#506784",
           "ticks": "",
           "title": {
            "standoff": 15
           },
           "zerolinecolor": "#283442",
           "automargin": true,
           "zerolinewidth": 2
          },
          "scene": {
           "xaxis": {
            "backgroundcolor": "rgb(17,17,17)",
            "gridcolor": "#506784",
            "linecolor": "#506784",
            "showbackground": true,
            "ticks": "",
            "zerolinecolor": "#C8D4E3",
            "gridwidth": 2
           },
           "yaxis": {
            "backgroundcolor": "rgb(17,17,17)",
            "gridcolor": "#506784",
            "linecolor": "#506784",
            "showbackground": true,
            "ticks": "",
            "zerolinecolor": "#C8D4E3",
            "gridwidth": 2
           },
           "zaxis": {
            "backgroundcolor": "rgb(17,17,17)",
            "gridcolor": "#506784",
            "linecolor": "#506784",
            "showbackground": true,
            "ticks": "",
            "zerolinecolor": "#C8D4E3",
            "gridwidth": 2
           }
          },
          "shapedefaults": {
           "line": {
            "color": "#f2f5fa"
           }
          },
          "annotationdefaults": {
           "arrowcolor": "#f2f5fa",
           "arrowhead": 0,
           "arrowwidth": 1
          },
          "geo": {
           "bgcolor": "rgb(17,17,17)",
           "landcolor": "rgb(17,17,17)",
           "subunitcolor": "#506784",
           "showland": true,
           "showlakes": true,
           "lakecolor": "rgb(17,17,17)"
          },
          "title": {
           "x": 0.05
          },
          "updatemenudefaults": {
           "bgcolor": "#506784",
           "borderwidth": 0
          },
          "sliderdefaults": {
           "bgcolor": "#C8D4E3",
           "borderwidth": 1,
           "bordercolor": "rgb(17,17,17)",
           "tickwidth": 0
          },
          "mapbox": {
           "style": "dark"
          }
         }
        },
        "width": 1024,
        "height": 500,
        "title": {
         "text": "Dataset of crimes in "
        },
        "xaxis": {
         "title": {
          "text": "Weeks"
         }
        },
        "yaxis": {
         "title": {
          "text": "Number of crimes"
         }
        }
       },
       "config": {
        "plotlyServerURL": "https://plot.ly"
       }
      },
      "text/html": "<div>                            <div id=\"f0469c76-f420-4300-b160-aa1d29712782\" class=\"plotly-graph-div\" style=\"height:500px; width:1024px;\"></div>            <script type=\"text/javascript\">                require([\"plotly\"], function(Plotly) {                    window.PLOTLYENV=window.PLOTLYENV || {};                                    if (document.getElementById(\"f0469c76-f420-4300-b160-aa1d29712782\")) {                    Plotly.newPlot(                        \"f0469c76-f420-4300-b160-aa1d29712782\",                        [{\"name\":\"Dataset\",\"x\":[0,1,2,3,4,5,6,7,8,9,10,11,12,13,14,15,16,17,18,19,20,21,22,23,24,25,26,27,28,29,30,31,32,33,34,35,36,37,38,39,40,41,42,43,44,45,46,47,48,49,50,51,52,53,54,55,56,57,58,59,60,61,62,63,64,65,66,67,68,69,70,71,72,73,74,75,76,77,78,79,80,81,82,83,84,85,86,87,88,89,90,91,92,93,94,95,96,97,98,99,100,101,102,103,104,105,106,107,108,109,110,111,112,113,114,115,116,117,118,119,120,121,122,123,124,125,126,127,128,129,130,131,132,133,134,135,136,137,138,139,140,141,142,143,144,145,146,147,148,149,150,151,152,153,154,155,156,157,158,159,160,161,162,163,164,165,166,167,168,169,170,171,172,173,174,175,176,177,178,179,180,181,182,183,184,185,186,187,188,189,190,191,192,193,194,195,196,197,198,199,200,201,202,203],\"y\":[196,346,308,317,343,312,310,307,306,322,337,307,363,413,416,412,443,394,450,414,435,400,460,468,495,513,523,432,439,439,441,415,421,382,430,386,375,389,372,388,416,383,442,412,411,409,425,398,414,403,393,390,421,408,412,448,435,488,460,470,415,440,412,395,397,409,386,400,441,463,409,409,405,438,412,429,421,417,452,421,372,398,441,378,433,478,474,450,460,474,512,491,547,513,492,559,547,508,522,508,528,519,510,535,490,460,522,468,450,485,481,482,467,472,463,488,492,486,516,508,508,543,516,518,517,476,483,448,463,485,471,477,473,501,460,550,482,475,479,471,464,511,474,466,459,479,468,434,458,417,469,425,411,373,411,438,467,405,467,413,455,476,454,449,422,451,491,421,448,417,403,435,407,437,428,375,441,465,429,428,439,457,467,471,487,513,474,455,490,535,486,495,443,473,494,509,511,528,493,507,497,494,483,19],\"type\":\"scatter\"},{\"name\":\"Average\",\"x\":[0,1,2,3,4,5,6,7,8,9,10,11,12,13,14,15,16,17,18,19,20,21,22,23,24,25,26,27,28,29,30,31,32,33,34,35,36,37,38,39,40,41,42,43,44,45,46,47,48,49,50,51,52,53,54,55,56,57,58,59,60,61,62,63,64,65,66,67,68,69,70,71,72,73,74,75,76,77,78,79,80,81,82,83,84,85,86,87,88,89,90,91,92,93,94,95,96,97,98,99,100,101,102,103,104,105,106,107,108,109,110,111,112,113,114,115,116,117,118,119,120,121,122,123,124,125,126,127,128,129,130,131,132,133,134,135,136,137,138,139,140,141,142,143,144,145,146,147,148,149,150,151,152,153,154,155,156,157,158,159,160,161,162,163,164,165,166,167,168,169,170,171,172,173,174,175,176,177,178,179,180,181,182,183,184,185,186,187,188,189,190,191,192,193,194,195,196,197,198,199,200,201,202,203],\"y\":[283.3333333333333,323.6666666666667,322.6666666666667,324.0,321.6666666666667,309.6666666666667,307.6666666666667,311.6666666666667,321.6666666666667,322.0,335.6666666666667,361.0,397.3333333333333,413.6666666666667,423.6666666666667,416.3333333333333,429.0,419.3333333333333,433.0,416.3333333333333,431.6666666666667,442.6666666666667,474.3333333333333,492.0,510.3333333333333,489.3333333333333,464.6666666666667,436.6666666666667,439.6666666666667,431.6666666666667,425.6666666666667,406.0,411.0,399.3333333333333,397.0,383.3333333333333,378.6666666666667,383.0,392.0,395.6666666666667,413.6666666666667,412.3333333333333,421.6666666666667,410.6666666666667,415.0,410.6666666666667,412.3333333333333,405.0,403.3333333333333,395.3333333333333,401.3333333333333,406.3333333333333,413.6666666666667,422.6666666666667,431.6666666666667,457.0,461.0,472.6666666666667,448.3333333333333,441.6666666666667,422.3333333333333,415.6666666666667,401.3333333333333,400.3333333333333,397.3333333333333,398.3333333333333,409.0,434.6666666666667,437.6666666666667,427.0,407.6666666666667,417.3333333333333,418.3333333333333,426.3333333333333,420.6666666666667,422.3333333333333,430.0,430.0,415.0,397.0,403.6666666666667,405.6666666666667,417.3333333333333,429.6666666666667,461.6666666666667,467.3333333333333,461.3333333333333,461.3333333333333,482.0,492.3333333333333,516.6666666666666,517.0,517.3333333333334,521.3333333333334,532.6666666666666,538.0,525.6666666666666,512.6666666666666,519.3333333333334,518.3333333333334,519.0,521.3333333333334,511.6666666666667,495.0,490.6666666666667,483.3333333333333,480.0,467.6666666666667,472.0,482.6666666666667,476.6666666666667,473.6666666666667,467.3333333333333,474.3333333333333,481.0,488.6666666666667,498.0,503.3333333333333,510.6666666666667,519.6666666666666,522.3333333333334,525.6666666666666,517.0,503.6666666666667,492.0,469.0,464.6666666666667,465.3333333333333,473.0,477.6666666666667,473.6666666666667,483.6666666666667,478.0,503.6666666666667,497.3333333333333,502.3333333333333,478.6666666666667,475.0,471.3333333333333,482.0,483.0,483.6666666666667,466.3333333333333,468.0,468.6666666666667,460.3333333333333,453.3333333333333,436.3333333333333,448.0,437.0,435.0,403.0,398.3333333333333,407.3333333333333,438.6666666666667,436.6666666666667,446.3333333333333,428.3333333333333,445.0,448.0,461.6666666666667,459.6666666666667,441.6666666666667,440.6666666666667,454.6666666666667,454.3333333333333,453.3333333333333,428.6666666666667,422.6666666666667,418.3333333333333,415.0,426.3333333333333,424.0,413.3333333333333,414.6666666666667,427.0,445.0,440.6666666666667,432.0,441.3333333333333,454.3333333333333,465.0,475.0,490.3333333333333,491.3333333333333,480.6666666666667,473.0,493.3333333333333,503.6666666666667,505.3333333333333,474.6666666666667,470.3333333333333,470.0,492.0,504.6666666666667,516.0,510.6666666666667,509.3333333333333,499.0,499.3333333333333,491.3333333333333,332.0],\"type\":\"scatter\"}],                        {\"template\":{\"data\":{\"histogram2dcontour\":[{\"type\":\"histogram2dcontour\",\"colorbar\":{\"outlinewidth\":0,\"ticks\":\"\"},\"colorscale\":[[0.0,\"#0d0887\"],[0.1111111111111111,\"#46039f\"],[0.2222222222222222,\"#7201a8\"],[0.3333333333333333,\"#9c179e\"],[0.4444444444444444,\"#bd3786\"],[0.5555555555555556,\"#d8576b\"],[0.6666666666666666,\"#ed7953\"],[0.7777777777777778,\"#fb9f3a\"],[0.8888888888888888,\"#fdca26\"],[1.0,\"#f0f921\"]]}],\"choropleth\":[{\"type\":\"choropleth\",\"colorbar\":{\"outlinewidth\":0,\"ticks\":\"\"}}],\"histogram2d\":[{\"type\":\"histogram2d\",\"colorbar\":{\"outlinewidth\":0,\"ticks\":\"\"},\"colorscale\":[[0.0,\"#0d0887\"],[0.1111111111111111,\"#46039f\"],[0.2222222222222222,\"#7201a8\"],[0.3333333333333333,\"#9c179e\"],[0.4444444444444444,\"#bd3786\"],[0.5555555555555556,\"#d8576b\"],[0.6666666666666666,\"#ed7953\"],[0.7777777777777778,\"#fb9f3a\"],[0.8888888888888888,\"#fdca26\"],[1.0,\"#f0f921\"]]}],\"heatmap\":[{\"type\":\"heatmap\",\"colorbar\":{\"outlinewidth\":0,\"ticks\":\"\"},\"colorscale\":[[0.0,\"#0d0887\"],[0.1111111111111111,\"#46039f\"],[0.2222222222222222,\"#7201a8\"],[0.3333333333333333,\"#9c179e\"],[0.4444444444444444,\"#bd3786\"],[0.5555555555555556,\"#d8576b\"],[0.6666666666666666,\"#ed7953\"],[0.7777777777777778,\"#fb9f3a\"],[0.8888888888888888,\"#fdca26\"],[1.0,\"#f0f921\"]]}],\"heatmapgl\":[{\"type\":\"heatmapgl\",\"colorbar\":{\"outlinewidth\":0,\"ticks\":\"\"},\"colorscale\":[[0.0,\"#0d0887\"],[0.1111111111111111,\"#46039f\"],[0.2222222222222222,\"#7201a8\"],[0.3333333333333333,\"#9c179e\"],[0.4444444444444444,\"#bd3786\"],[0.5555555555555556,\"#d8576b\"],[0.6666666666666666,\"#ed7953\"],[0.7777777777777778,\"#fb9f3a\"],[0.8888888888888888,\"#fdca26\"],[1.0,\"#f0f921\"]]}],\"contourcarpet\":[{\"type\":\"contourcarpet\",\"colorbar\":{\"outlinewidth\":0,\"ticks\":\"\"}}],\"contour\":[{\"type\":\"contour\",\"colorbar\":{\"outlinewidth\":0,\"ticks\":\"\"},\"colorscale\":[[0.0,\"#0d0887\"],[0.1111111111111111,\"#46039f\"],[0.2222222222222222,\"#7201a8\"],[0.3333333333333333,\"#9c179e\"],[0.4444444444444444,\"#bd3786\"],[0.5555555555555556,\"#d8576b\"],[0.6666666666666666,\"#ed7953\"],[0.7777777777777778,\"#fb9f3a\"],[0.8888888888888888,\"#fdca26\"],[1.0,\"#f0f921\"]]}],\"surface\":[{\"type\":\"surface\",\"colorbar\":{\"outlinewidth\":0,\"ticks\":\"\"},\"colorscale\":[[0.0,\"#0d0887\"],[0.1111111111111111,\"#46039f\"],[0.2222222222222222,\"#7201a8\"],[0.3333333333333333,\"#9c179e\"],[0.4444444444444444,\"#bd3786\"],[0.5555555555555556,\"#d8576b\"],[0.6666666666666666,\"#ed7953\"],[0.7777777777777778,\"#fb9f3a\"],[0.8888888888888888,\"#fdca26\"],[1.0,\"#f0f921\"]]}],\"mesh3d\":[{\"type\":\"mesh3d\",\"colorbar\":{\"outlinewidth\":0,\"ticks\":\"\"}}],\"scatter\":[{\"marker\":{\"line\":{\"color\":\"#283442\"}},\"type\":\"scatter\"}],\"parcoords\":[{\"type\":\"parcoords\",\"line\":{\"colorbar\":{\"outlinewidth\":0,\"ticks\":\"\"}}}],\"scatterpolargl\":[{\"type\":\"scatterpolargl\",\"marker\":{\"colorbar\":{\"outlinewidth\":0,\"ticks\":\"\"}}}],\"bar\":[{\"error_x\":{\"color\":\"#f2f5fa\"},\"error_y\":{\"color\":\"#f2f5fa\"},\"marker\":{\"line\":{\"color\":\"rgb(17,17,17)\",\"width\":0.5},\"pattern\":{\"fillmode\":\"overlay\",\"size\":10,\"solidity\":0.2}},\"type\":\"bar\"}],\"scattergeo\":[{\"type\":\"scattergeo\",\"marker\":{\"colorbar\":{\"outlinewidth\":0,\"ticks\":\"\"}}}],\"scatterpolar\":[{\"type\":\"scatterpolar\",\"marker\":{\"colorbar\":{\"outlinewidth\":0,\"ticks\":\"\"}}}],\"histogram\":[{\"marker\":{\"pattern\":{\"fillmode\":\"overlay\",\"size\":10,\"solidity\":0.2}},\"type\":\"histogram\"}],\"scattergl\":[{\"marker\":{\"line\":{\"color\":\"#283442\"}},\"type\":\"scattergl\"}],\"scatter3d\":[{\"type\":\"scatter3d\",\"line\":{\"colorbar\":{\"outlinewidth\":0,\"ticks\":\"\"}},\"marker\":{\"colorbar\":{\"outlinewidth\":0,\"ticks\":\"\"}}}],\"scattermapbox\":[{\"type\":\"scattermapbox\",\"marker\":{\"colorbar\":{\"outlinewidth\":0,\"ticks\":\"\"}}}],\"scatterternary\":[{\"type\":\"scatterternary\",\"marker\":{\"colorbar\":{\"outlinewidth\":0,\"ticks\":\"\"}}}],\"scattercarpet\":[{\"type\":\"scattercarpet\",\"marker\":{\"colorbar\":{\"outlinewidth\":0,\"ticks\":\"\"}}}],\"carpet\":[{\"aaxis\":{\"endlinecolor\":\"#A2B1C6\",\"gridcolor\":\"#506784\",\"linecolor\":\"#506784\",\"minorgridcolor\":\"#506784\",\"startlinecolor\":\"#A2B1C6\"},\"baxis\":{\"endlinecolor\":\"#A2B1C6\",\"gridcolor\":\"#506784\",\"linecolor\":\"#506784\",\"minorgridcolor\":\"#506784\",\"startlinecolor\":\"#A2B1C6\"},\"type\":\"carpet\"}],\"table\":[{\"cells\":{\"fill\":{\"color\":\"#506784\"},\"line\":{\"color\":\"rgb(17,17,17)\"}},\"header\":{\"fill\":{\"color\":\"#2a3f5f\"},\"line\":{\"color\":\"rgb(17,17,17)\"}},\"type\":\"table\"}],\"barpolar\":[{\"marker\":{\"line\":{\"color\":\"rgb(17,17,17)\",\"width\":0.5},\"pattern\":{\"fillmode\":\"overlay\",\"size\":10,\"solidity\":0.2}},\"type\":\"barpolar\"}],\"pie\":[{\"automargin\":true,\"type\":\"pie\"}]},\"layout\":{\"autotypenumbers\":\"strict\",\"colorway\":[\"#636efa\",\"#EF553B\",\"#00cc96\",\"#ab63fa\",\"#FFA15A\",\"#19d3f3\",\"#FF6692\",\"#B6E880\",\"#FF97FF\",\"#FECB52\"],\"font\":{\"color\":\"#f2f5fa\"},\"hovermode\":\"closest\",\"hoverlabel\":{\"align\":\"left\"},\"paper_bgcolor\":\"rgb(17,17,17)\",\"plot_bgcolor\":\"rgb(17,17,17)\",\"polar\":{\"bgcolor\":\"rgb(17,17,17)\",\"angularaxis\":{\"gridcolor\":\"#506784\",\"linecolor\":\"#506784\",\"ticks\":\"\"},\"radialaxis\":{\"gridcolor\":\"#506784\",\"linecolor\":\"#506784\",\"ticks\":\"\"}},\"ternary\":{\"bgcolor\":\"rgb(17,17,17)\",\"aaxis\":{\"gridcolor\":\"#506784\",\"linecolor\":\"#506784\",\"ticks\":\"\"},\"baxis\":{\"gridcolor\":\"#506784\",\"linecolor\":\"#506784\",\"ticks\":\"\"},\"caxis\":{\"gridcolor\":\"#506784\",\"linecolor\":\"#506784\",\"ticks\":\"\"}},\"coloraxis\":{\"colorbar\":{\"outlinewidth\":0,\"ticks\":\"\"}},\"colorscale\":{\"sequential\":[[0.0,\"#0d0887\"],[0.1111111111111111,\"#46039f\"],[0.2222222222222222,\"#7201a8\"],[0.3333333333333333,\"#9c179e\"],[0.4444444444444444,\"#bd3786\"],[0.5555555555555556,\"#d8576b\"],[0.6666666666666666,\"#ed7953\"],[0.7777777777777778,\"#fb9f3a\"],[0.8888888888888888,\"#fdca26\"],[1.0,\"#f0f921\"]],\"sequentialminus\":[[0.0,\"#0d0887\"],[0.1111111111111111,\"#46039f\"],[0.2222222222222222,\"#7201a8\"],[0.3333333333333333,\"#9c179e\"],[0.4444444444444444,\"#bd3786\"],[0.5555555555555556,\"#d8576b\"],[0.6666666666666666,\"#ed7953\"],[0.7777777777777778,\"#fb9f3a\"],[0.8888888888888888,\"#fdca26\"],[1.0,\"#f0f921\"]],\"diverging\":[[0,\"#8e0152\"],[0.1,\"#c51b7d\"],[0.2,\"#de77ae\"],[0.3,\"#f1b6da\"],[0.4,\"#fde0ef\"],[0.5,\"#f7f7f7\"],[0.6,\"#e6f5d0\"],[0.7,\"#b8e186\"],[0.8,\"#7fbc41\"],[0.9,\"#4d9221\"],[1,\"#276419\"]]},\"xaxis\":{\"gridcolor\":\"#283442\",\"linecolor\":\"#506784\",\"ticks\":\"\",\"title\":{\"standoff\":15},\"zerolinecolor\":\"#283442\",\"automargin\":true,\"zerolinewidth\":2},\"yaxis\":{\"gridcolor\":\"#283442\",\"linecolor\":\"#506784\",\"ticks\":\"\",\"title\":{\"standoff\":15},\"zerolinecolor\":\"#283442\",\"automargin\":true,\"zerolinewidth\":2},\"scene\":{\"xaxis\":{\"backgroundcolor\":\"rgb(17,17,17)\",\"gridcolor\":\"#506784\",\"linecolor\":\"#506784\",\"showbackground\":true,\"ticks\":\"\",\"zerolinecolor\":\"#C8D4E3\",\"gridwidth\":2},\"yaxis\":{\"backgroundcolor\":\"rgb(17,17,17)\",\"gridcolor\":\"#506784\",\"linecolor\":\"#506784\",\"showbackground\":true,\"ticks\":\"\",\"zerolinecolor\":\"#C8D4E3\",\"gridwidth\":2},\"zaxis\":{\"backgroundcolor\":\"rgb(17,17,17)\",\"gridcolor\":\"#506784\",\"linecolor\":\"#506784\",\"showbackground\":true,\"ticks\":\"\",\"zerolinecolor\":\"#C8D4E3\",\"gridwidth\":2}},\"shapedefaults\":{\"line\":{\"color\":\"#f2f5fa\"}},\"annotationdefaults\":{\"arrowcolor\":\"#f2f5fa\",\"arrowhead\":0,\"arrowwidth\":1},\"geo\":{\"bgcolor\":\"rgb(17,17,17)\",\"landcolor\":\"rgb(17,17,17)\",\"subunitcolor\":\"#506784\",\"showland\":true,\"showlakes\":true,\"lakecolor\":\"rgb(17,17,17)\"},\"title\":{\"x\":0.05},\"updatemenudefaults\":{\"bgcolor\":\"#506784\",\"borderwidth\":0},\"sliderdefaults\":{\"bgcolor\":\"#C8D4E3\",\"borderwidth\":1,\"bordercolor\":\"rgb(17,17,17)\",\"tickwidth\":0},\"mapbox\":{\"style\":\"dark\"}}},\"width\":1024,\"height\":500,\"title\":{\"text\":\"Dataset of crimes in \"},\"xaxis\":{\"title\":{\"text\":\"Weeks\"}},\"yaxis\":{\"title\":{\"text\":\"Number of crimes\"}}},                        {\"responsive\": true}                    ).then(function(){\n                            \nvar gd = document.getElementById('f0469c76-f420-4300-b160-aa1d29712782');\nvar x = new MutationObserver(function (mutations, observer) {{\n        var display = window.getComputedStyle(gd).display;\n        if (!display || display === 'none') {{\n            console.log([gd, 'removed!']);\n            Plotly.purge(gd);\n            observer.disconnect();\n        }}\n}});\n\n// Listen for the removal of the full notebook cells\nvar notebookContainer = gd.closest('#notebook-container');\nif (notebookContainer) {{\n    x.observe(notebookContainer, {childList: true});\n}}\n\n// Listen for the clearing of the current output cell\nvar outputEl = gd.closest('.output');\nif (outputEl) {{\n    x.observe(outputEl, {childList: true});\n}}\n\n                        })                };                });            </script>        </div>"
     },
     "metadata": {},
     "output_type": "display_data"
    }
   ],
   "source": [
    "list_graphs = []\n",
    "graph_1 = go.Scatter(x=list(range(0,len(df1))),y=df1.flatten(),name=\"Dataset\")\n",
    "list_graphs.append(graph_1)\n",
    "average = moving_average(df1)\n",
    "graph_2 = go.Scatter(x=list(range(0,len(df1))),y=average,name=\"Average\")\n",
    "list_graphs.append(graph_2)\n",
    "fig = go.Figure(data=list_graphs)\n",
    "fig.update_layout(width=1024,height=500,title=\"Dataset of crimes in \",xaxis=dict(title='Weeks'),yaxis=dict(title='Number of crimes'))\n",
    "\n",
    "fig.show()"
   ],
   "metadata": {
    "collapsed": false,
    "ExecuteTime": {
     "end_time": "2023-12-05T07:39:54.992024Z",
     "start_time": "2023-12-05T07:39:54.955024Z"
    }
   }
  },
  {
   "cell_type": "code",
   "execution_count": 158,
   "outputs": [],
   "source": [
    "scaler = MinMaxScaler()\n",
    "df1 = scaler.fit_transform(df1)"
   ],
   "metadata": {
    "collapsed": false,
    "ExecuteTime": {
     "end_time": "2023-12-05T07:39:55.011288Z",
     "start_time": "2023-12-05T07:39:54.997580Z"
    }
   }
  },
  {
   "cell_type": "code",
   "execution_count": 159,
   "outputs": [
    {
     "name": "stdout",
     "output_type": "stream",
     "text": [
      "142\n",
      "62\n"
     ]
    }
   ],
   "source": [
    "df1\n",
    "train_size = int(len(df1) * 0.7)\n",
    "print(train_size)\n",
    "test_size = len(df1) - train_size\n",
    "print(test_size)\n",
    "train, test = df1[0:train_size,:], df1[train_size:len(df1),:]"
   ],
   "metadata": {
    "collapsed": false,
    "ExecuteTime": {
     "end_time": "2023-12-05T07:39:55.022969Z",
     "start_time": "2023-12-05T07:39:55.000924Z"
    }
   }
  },
  {
   "cell_type": "code",
   "execution_count": 160,
   "outputs": [],
   "source": [
    "def create_dataset(dataset, look_back=1):\n",
    "    dataX, dataY = [], []\n",
    "    for i in range(len(dataset)-look_back):\n",
    "        a = dataset[i:(i+look_back),0]\n",
    "        dataX.append(a)\n",
    "        dataY.append(dataset[i + look_back,0])\n",
    "    return np.array(dataX), np.array(dataY)"
   ],
   "metadata": {
    "collapsed": false,
    "ExecuteTime": {
     "end_time": "2023-12-05T07:39:55.023099Z",
     "start_time": "2023-12-05T07:39:55.008033Z"
    }
   }
  },
  {
   "cell_type": "code",
   "execution_count": 161,
   "outputs": [],
   "source": [
    "look_back = 2\n",
    "trainX, trainY = create_dataset(train, look_back)\n",
    "testX, testY = create_dataset(test, look_back)"
   ],
   "metadata": {
    "collapsed": false,
    "ExecuteTime": {
     "end_time": "2023-12-05T07:39:55.023413Z",
     "start_time": "2023-12-05T07:39:55.012653Z"
    }
   }
  },
  {
   "cell_type": "code",
   "execution_count": 162,
   "outputs": [
    {
     "data": {
      "text/plain": "((140, 2), (140,), (60, 2), (60,))"
     },
     "execution_count": 162,
     "metadata": {},
     "output_type": "execute_result"
    }
   ],
   "source": [
    "trainX.shape, trainY.shape, testX.shape, testY.shape"
   ],
   "metadata": {
    "collapsed": false,
    "ExecuteTime": {
     "end_time": "2023-12-05T07:39:55.023505Z",
     "start_time": "2023-12-05T07:39:55.016481Z"
    }
   }
  },
  {
   "cell_type": "code",
   "execution_count": 163,
   "outputs": [],
   "source": [
    "trainX = np.reshape(trainX, (trainX.shape[0],1, trainX.shape[1]))\n",
    "testX = np.reshape(testX, (testX.shape[0],1, testX.shape[1]))"
   ],
   "metadata": {
    "collapsed": false,
    "ExecuteTime": {
     "end_time": "2023-12-05T07:39:55.023748Z",
     "start_time": "2023-12-05T07:39:55.020502Z"
    }
   }
  },
  {
   "cell_type": "code",
   "execution_count": 164,
   "outputs": [
    {
     "name": "stdout",
     "output_type": "stream",
     "text": [
      "Epoch 1/500\n",
      "35/35 [==============================] - 1s 952us/step - loss: 0.5423\n",
      "Epoch 2/500\n",
      "35/35 [==============================] - 0s 702us/step - loss: 0.3879\n",
      "Epoch 3/500\n",
      "35/35 [==============================] - 0s 741us/step - loss: 0.2405\n",
      "Epoch 4/500\n",
      "35/35 [==============================] - 0s 569us/step - loss: 0.1131\n",
      "Epoch 5/500\n",
      "35/35 [==============================] - 0s 548us/step - loss: 0.0310\n",
      "Epoch 6/500\n",
      "35/35 [==============================] - 0s 620us/step - loss: 0.0061\n",
      "Epoch 7/500\n",
      "35/35 [==============================] - 0s 630us/step - loss: 0.0051\n",
      "Epoch 8/500\n",
      "35/35 [==============================] - 0s 538us/step - loss: 0.0049\n",
      "Epoch 9/500\n",
      "35/35 [==============================] - 0s 555us/step - loss: 0.0048\n",
      "Epoch 10/500\n",
      "35/35 [==============================] - 0s 595us/step - loss: 0.0047\n",
      "Epoch 11/500\n",
      "35/35 [==============================] - 0s 572us/step - loss: 0.0045\n",
      "Epoch 12/500\n",
      "35/35 [==============================] - 0s 665us/step - loss: 0.0044\n",
      "Epoch 13/500\n",
      "35/35 [==============================] - 0s 633us/step - loss: 0.0044\n",
      "Epoch 14/500\n",
      "35/35 [==============================] - 0s 670us/step - loss: 0.0041\n",
      "Epoch 15/500\n",
      "35/35 [==============================] - 0s 599us/step - loss: 0.0040\n",
      "Epoch 16/500\n",
      "35/35 [==============================] - 0s 608us/step - loss: 0.0040\n",
      "Epoch 17/500\n",
      "35/35 [==============================] - 0s 537us/step - loss: 0.0038\n",
      "Epoch 18/500\n",
      "35/35 [==============================] - 0s 598us/step - loss: 0.0037\n",
      "Epoch 19/500\n",
      "35/35 [==============================] - 0s 600us/step - loss: 0.0036\n",
      "Epoch 20/500\n",
      "35/35 [==============================] - 0s 589us/step - loss: 0.0036\n",
      "Epoch 21/500\n",
      "35/35 [==============================] - 0s 555us/step - loss: 0.0035\n",
      "Epoch 22/500\n",
      "35/35 [==============================] - 0s 530us/step - loss: 0.0034\n",
      "Epoch 23/500\n",
      "35/35 [==============================] - 0s 553us/step - loss: 0.0033\n",
      "Epoch 24/500\n",
      "35/35 [==============================] - 0s 652us/step - loss: 0.0032\n",
      "Epoch 25/500\n",
      "35/35 [==============================] - 0s 600us/step - loss: 0.0033\n",
      "Epoch 26/500\n",
      "35/35 [==============================] - 0s 583us/step - loss: 0.0032\n",
      "Epoch 27/500\n",
      "35/35 [==============================] - 0s 595us/step - loss: 0.0032\n",
      "Epoch 28/500\n",
      "35/35 [==============================] - 0s 587us/step - loss: 0.0031\n",
      "Epoch 29/500\n",
      "35/35 [==============================] - 0s 590us/step - loss: 0.0031\n",
      "Epoch 30/500\n",
      "35/35 [==============================] - 0s 589us/step - loss: 0.0031\n",
      "Epoch 31/500\n",
      "35/35 [==============================] - 0s 641us/step - loss: 0.0030\n",
      "Epoch 32/500\n",
      "35/35 [==============================] - 0s 589us/step - loss: 0.0030\n",
      "Epoch 33/500\n",
      "35/35 [==============================] - 0s 601us/step - loss: 0.0029\n",
      "Epoch 34/500\n",
      "35/35 [==============================] - 0s 611us/step - loss: 0.0029\n",
      "Epoch 35/500\n",
      "35/35 [==============================] - 0s 589us/step - loss: 0.0029\n",
      "Epoch 36/500\n",
      "35/35 [==============================] - 0s 590us/step - loss: 0.0029\n",
      "Epoch 37/500\n",
      "35/35 [==============================] - 0s 553us/step - loss: 0.0029\n",
      "Epoch 38/500\n",
      "35/35 [==============================] - 0s 560us/step - loss: 0.0028\n",
      "Epoch 39/500\n",
      "35/35 [==============================] - 0s 557us/step - loss: 0.0028\n",
      "Epoch 40/500\n",
      "35/35 [==============================] - 0s 593us/step - loss: 0.0028\n",
      "Epoch 41/500\n",
      "35/35 [==============================] - 0s 533us/step - loss: 0.0027\n",
      "Epoch 42/500\n",
      "35/35 [==============================] - 0s 600us/step - loss: 0.0028\n",
      "Epoch 43/500\n",
      "35/35 [==============================] - 0s 592us/step - loss: 0.0029\n",
      "Epoch 44/500\n",
      "35/35 [==============================] - 0s 518us/step - loss: 0.0028\n",
      "Epoch 45/500\n",
      "35/35 [==============================] - 0s 563us/step - loss: 0.0029\n",
      "Epoch 46/500\n",
      "35/35 [==============================] - 0s 588us/step - loss: 0.0027\n",
      "Epoch 47/500\n",
      "35/35 [==============================] - 0s 567us/step - loss: 0.0028\n",
      "Epoch 48/500\n",
      "35/35 [==============================] - 0s 540us/step - loss: 0.0028\n",
      "Epoch 49/500\n",
      "35/35 [==============================] - 0s 583us/step - loss: 0.0028\n",
      "Epoch 50/500\n",
      "35/35 [==============================] - 0s 571us/step - loss: 0.0028\n",
      "Epoch 51/500\n",
      "35/35 [==============================] - 0s 523us/step - loss: 0.0027\n",
      "Epoch 52/500\n",
      "35/35 [==============================] - 0s 569us/step - loss: 0.0027\n",
      "Epoch 53/500\n",
      "35/35 [==============================] - 0s 593us/step - loss: 0.0028\n",
      "Epoch 54/500\n",
      "35/35 [==============================] - 0s 544us/step - loss: 0.0028\n",
      "Epoch 55/500\n",
      "35/35 [==============================] - 0s 552us/step - loss: 0.0028\n",
      "Epoch 56/500\n",
      "35/35 [==============================] - 0s 512us/step - loss: 0.0027\n",
      "Epoch 57/500\n",
      "35/35 [==============================] - 0s 520us/step - loss: 0.0027\n",
      "Epoch 58/500\n",
      "35/35 [==============================] - 0s 527us/step - loss: 0.0028\n",
      "Epoch 59/500\n",
      "35/35 [==============================] - 0s 520us/step - loss: 0.0028\n",
      "Epoch 60/500\n",
      "35/35 [==============================] - 0s 522us/step - loss: 0.0027\n",
      "Epoch 61/500\n",
      "35/35 [==============================] - 0s 522us/step - loss: 0.0028\n",
      "Epoch 62/500\n",
      "35/35 [==============================] - 0s 509us/step - loss: 0.0028\n",
      "Epoch 63/500\n",
      "35/35 [==============================] - 0s 525us/step - loss: 0.0028\n",
      "Epoch 64/500\n",
      "35/35 [==============================] - 0s 534us/step - loss: 0.0028\n",
      "Epoch 65/500\n",
      "35/35 [==============================] - 0s 537us/step - loss: 0.0028\n",
      "Epoch 66/500\n",
      "35/35 [==============================] - 0s 531us/step - loss: 0.0029\n",
      "Epoch 67/500\n",
      "35/35 [==============================] - 0s 536us/step - loss: 0.0028\n",
      "Epoch 68/500\n",
      "35/35 [==============================] - 0s 513us/step - loss: 0.0027\n",
      "Epoch 69/500\n",
      "35/35 [==============================] - 0s 520us/step - loss: 0.0027\n",
      "Epoch 70/500\n",
      "35/35 [==============================] - 0s 515us/step - loss: 0.0028\n",
      "Epoch 71/500\n",
      "35/35 [==============================] - 0s 537us/step - loss: 0.0028\n",
      "Epoch 72/500\n",
      "35/35 [==============================] - 0s 521us/step - loss: 0.0028\n",
      "Epoch 73/500\n",
      "35/35 [==============================] - 0s 515us/step - loss: 0.0028\n",
      "Epoch 74/500\n",
      "35/35 [==============================] - 0s 514us/step - loss: 0.0027\n",
      "Epoch 75/500\n",
      "35/35 [==============================] - 0s 559us/step - loss: 0.0028\n",
      "Epoch 76/500\n",
      "35/35 [==============================] - 0s 519us/step - loss: 0.0027\n",
      "Epoch 77/500\n",
      "35/35 [==============================] - 0s 544us/step - loss: 0.0028\n",
      "Epoch 78/500\n",
      "35/35 [==============================] - 0s 518us/step - loss: 0.0027\n",
      "Epoch 79/500\n",
      "35/35 [==============================] - 0s 521us/step - loss: 0.0028\n",
      "Epoch 80/500\n",
      "35/35 [==============================] - 0s 544us/step - loss: 0.0028\n",
      "Epoch 81/500\n",
      "35/35 [==============================] - 0s 530us/step - loss: 0.0028\n",
      "Epoch 82/500\n",
      "35/35 [==============================] - 0s 527us/step - loss: 0.0027\n",
      "Epoch 83/500\n",
      "35/35 [==============================] - 0s 544us/step - loss: 0.0027\n",
      "Epoch 84/500\n",
      "35/35 [==============================] - 0s 525us/step - loss: 0.0027\n",
      "Epoch 85/500\n",
      "35/35 [==============================] - 0s 519us/step - loss: 0.0028\n",
      "Epoch 86/500\n",
      "35/35 [==============================] - 0s 522us/step - loss: 0.0026\n",
      "Epoch 87/500\n",
      "35/35 [==============================] - 0s 523us/step - loss: 0.0028\n",
      "Epoch 88/500\n",
      "35/35 [==============================] - 0s 542us/step - loss: 0.0028\n",
      "Epoch 89/500\n",
      "35/35 [==============================] - 0s 525us/step - loss: 0.0028\n",
      "Epoch 90/500\n",
      "35/35 [==============================] - 0s 521us/step - loss: 0.0026\n",
      "Epoch 91/500\n",
      "35/35 [==============================] - 0s 525us/step - loss: 0.0029\n",
      "Epoch 92/500\n",
      "35/35 [==============================] - 0s 539us/step - loss: 0.0028\n",
      "Epoch 93/500\n",
      "35/35 [==============================] - 0s 523us/step - loss: 0.0027\n",
      "Epoch 94/500\n",
      "35/35 [==============================] - 0s 536us/step - loss: 0.0028\n",
      "Epoch 95/500\n",
      "35/35 [==============================] - 0s 545us/step - loss: 0.0027\n",
      "Epoch 96/500\n",
      "35/35 [==============================] - 0s 527us/step - loss: 0.0027\n",
      "Epoch 97/500\n",
      "35/35 [==============================] - 0s 529us/step - loss: 0.0026\n",
      "Epoch 98/500\n",
      "35/35 [==============================] - 0s 512us/step - loss: 0.0028\n",
      "Epoch 99/500\n",
      "35/35 [==============================] - 0s 611us/step - loss: 0.0028\n",
      "Epoch 100/500\n",
      "35/35 [==============================] - 0s 968us/step - loss: 0.0028\n",
      "Epoch 101/500\n",
      "35/35 [==============================] - 0s 1ms/step - loss: 0.0027\n",
      "Epoch 102/500\n",
      "35/35 [==============================] - 0s 554us/step - loss: 0.0028\n",
      "Epoch 103/500\n",
      "35/35 [==============================] - 0s 551us/step - loss: 0.0028\n",
      "Epoch 104/500\n",
      "35/35 [==============================] - 0s 573us/step - loss: 0.0027\n",
      "Epoch 105/500\n",
      "35/35 [==============================] - 0s 673us/step - loss: 0.0027\n",
      "Epoch 106/500\n",
      "35/35 [==============================] - 0s 634us/step - loss: 0.0028\n",
      "Epoch 107/500\n",
      "35/35 [==============================] - 0s 616us/step - loss: 0.0028\n",
      "Epoch 108/500\n",
      "35/35 [==============================] - 0s 621us/step - loss: 0.0028\n",
      "Epoch 109/500\n",
      "35/35 [==============================] - 0s 585us/step - loss: 0.0028\n",
      "Epoch 110/500\n",
      "35/35 [==============================] - 0s 563us/step - loss: 0.0027\n",
      "Epoch 111/500\n",
      "35/35 [==============================] - 0s 554us/step - loss: 0.0027\n",
      "Epoch 112/500\n",
      "35/35 [==============================] - 0s 537us/step - loss: 0.0028\n",
      "Epoch 113/500\n",
      "35/35 [==============================] - 0s 644us/step - loss: 0.0028\n",
      "Epoch 114/500\n",
      "35/35 [==============================] - 0s 690us/step - loss: 0.0028\n",
      "Epoch 115/500\n",
      "35/35 [==============================] - 0s 560us/step - loss: 0.0027\n",
      "Epoch 116/500\n",
      "35/35 [==============================] - 0s 617us/step - loss: 0.0027\n",
      "Epoch 117/500\n",
      "35/35 [==============================] - 0s 622us/step - loss: 0.0028\n",
      "Epoch 118/500\n",
      "35/35 [==============================] - 0s 575us/step - loss: 0.0028\n",
      "Epoch 119/500\n",
      "35/35 [==============================] - 0s 909us/step - loss: 0.0027\n",
      "Epoch 120/500\n",
      "35/35 [==============================] - 0s 592us/step - loss: 0.0028\n",
      "Epoch 121/500\n",
      "35/35 [==============================] - 0s 550us/step - loss: 0.0027\n",
      "Epoch 122/500\n",
      "35/35 [==============================] - 0s 540us/step - loss: 0.0028\n",
      "Epoch 123/500\n",
      "35/35 [==============================] - 0s 539us/step - loss: 0.0027\n",
      "Epoch 124/500\n",
      "35/35 [==============================] - 0s 567us/step - loss: 0.0028\n",
      "Epoch 125/500\n",
      "35/35 [==============================] - 0s 514us/step - loss: 0.0027\n",
      "Epoch 126/500\n",
      "35/35 [==============================] - 0s 566us/step - loss: 0.0027\n",
      "Epoch 127/500\n",
      "35/35 [==============================] - 0s 559us/step - loss: 0.0027\n",
      "Epoch 128/500\n",
      "35/35 [==============================] - 0s 547us/step - loss: 0.0027\n",
      "Epoch 129/500\n",
      "35/35 [==============================] - 0s 533us/step - loss: 0.0028\n",
      "Epoch 130/500\n",
      "35/35 [==============================] - 0s 513us/step - loss: 0.0027\n",
      "Epoch 131/500\n",
      "35/35 [==============================] - 0s 533us/step - loss: 0.0027\n",
      "Epoch 132/500\n",
      "35/35 [==============================] - 0s 515us/step - loss: 0.0027\n",
      "Epoch 133/500\n",
      "35/35 [==============================] - 0s 551us/step - loss: 0.0028\n",
      "Epoch 134/500\n",
      "35/35 [==============================] - 0s 515us/step - loss: 0.0027\n",
      "Epoch 135/500\n",
      "35/35 [==============================] - 0s 545us/step - loss: 0.0028\n",
      "Epoch 136/500\n",
      "35/35 [==============================] - 0s 516us/step - loss: 0.0027\n",
      "Epoch 137/500\n",
      "35/35 [==============================] - 0s 531us/step - loss: 0.0028\n",
      "Epoch 138/500\n",
      "35/35 [==============================] - 0s 558us/step - loss: 0.0027\n",
      "Epoch 139/500\n",
      "35/35 [==============================] - 0s 516us/step - loss: 0.0029\n",
      "Epoch 140/500\n",
      "35/35 [==============================] - 0s 618us/step - loss: 0.0027\n",
      "Epoch 141/500\n",
      "35/35 [==============================] - 0s 546us/step - loss: 0.0027\n",
      "Epoch 142/500\n",
      "35/35 [==============================] - 0s 617us/step - loss: 0.0028\n",
      "Epoch 143/500\n",
      "35/35 [==============================] - 0s 633us/step - loss: 0.0027\n",
      "Epoch 144/500\n",
      "35/35 [==============================] - 0s 584us/step - loss: 0.0026\n",
      "Epoch 145/500\n",
      "35/35 [==============================] - 0s 645us/step - loss: 0.0027\n",
      "Epoch 146/500\n",
      "35/35 [==============================] - 0s 582us/step - loss: 0.0028\n",
      "Epoch 147/500\n",
      "35/35 [==============================] - 0s 519us/step - loss: 0.0027\n",
      "Epoch 148/500\n",
      "35/35 [==============================] - 0s 550us/step - loss: 0.0028\n",
      "Epoch 149/500\n",
      "35/35 [==============================] - 0s 516us/step - loss: 0.0027\n",
      "Epoch 150/500\n",
      "35/35 [==============================] - 0s 550us/step - loss: 0.0028\n",
      "Epoch 151/500\n",
      "35/35 [==============================] - 0s 528us/step - loss: 0.0027\n",
      "Epoch 152/500\n",
      "35/35 [==============================] - 0s 594us/step - loss: 0.0027\n",
      "Epoch 153/500\n",
      "35/35 [==============================] - 0s 542us/step - loss: 0.0028\n",
      "Epoch 154/500\n",
      "35/35 [==============================] - 0s 521us/step - loss: 0.0027\n",
      "Epoch 155/500\n",
      "35/35 [==============================] - 0s 547us/step - loss: 0.0026\n",
      "Epoch 156/500\n",
      "35/35 [==============================] - 0s 560us/step - loss: 0.0027\n",
      "Epoch 157/500\n",
      "35/35 [==============================] - 0s 538us/step - loss: 0.0026\n",
      "Epoch 158/500\n",
      "35/35 [==============================] - 0s 543us/step - loss: 0.0027\n",
      "Epoch 159/500\n",
      "35/35 [==============================] - 0s 519us/step - loss: 0.0028\n",
      "Epoch 160/500\n",
      "35/35 [==============================] - 0s 541us/step - loss: 0.0027\n",
      "Epoch 161/500\n",
      "35/35 [==============================] - 0s 512us/step - loss: 0.0027\n",
      "Epoch 162/500\n",
      "35/35 [==============================] - 0s 544us/step - loss: 0.0028\n",
      "Epoch 163/500\n",
      "35/35 [==============================] - 0s 550us/step - loss: 0.0028\n",
      "Epoch 164/500\n",
      "35/35 [==============================] - 0s 516us/step - loss: 0.0028\n",
      "Epoch 165/500\n",
      "35/35 [==============================] - 0s 550us/step - loss: 0.0027\n",
      "Epoch 166/500\n",
      "35/35 [==============================] - 0s 524us/step - loss: 0.0028\n",
      "Epoch 167/500\n",
      "35/35 [==============================] - 0s 539us/step - loss: 0.0027\n",
      "Epoch 168/500\n",
      "35/35 [==============================] - 0s 521us/step - loss: 0.0028\n",
      "Epoch 169/500\n",
      "35/35 [==============================] - 0s 543us/step - loss: 0.0027\n",
      "Epoch 170/500\n",
      "35/35 [==============================] - 0s 521us/step - loss: 0.0027\n",
      "Epoch 171/500\n",
      "35/35 [==============================] - 0s 540us/step - loss: 0.0026\n",
      "Epoch 172/500\n",
      "35/35 [==============================] - 0s 574us/step - loss: 0.0027\n",
      "Epoch 173/500\n",
      "35/35 [==============================] - 0s 512us/step - loss: 0.0028\n",
      "Epoch 174/500\n",
      "35/35 [==============================] - 0s 585us/step - loss: 0.0027\n",
      "Epoch 175/500\n",
      "35/35 [==============================] - 0s 545us/step - loss: 0.0027\n",
      "Epoch 176/500\n",
      "35/35 [==============================] - 0s 548us/step - loss: 0.0028\n",
      "Epoch 177/500\n",
      "35/35 [==============================] - 0s 631us/step - loss: 0.0027\n",
      "Epoch 178/500\n",
      "35/35 [==============================] - 0s 549us/step - loss: 0.0027\n",
      "Epoch 179/500\n",
      "35/35 [==============================] - 0s 602us/step - loss: 0.0027\n",
      "Epoch 180/500\n",
      "35/35 [==============================] - 0s 587us/step - loss: 0.0027\n",
      "Epoch 181/500\n",
      "35/35 [==============================] - 0s 519us/step - loss: 0.0027\n",
      "Epoch 182/500\n",
      "35/35 [==============================] - 0s 617us/step - loss: 0.0028\n",
      "Epoch 183/500\n",
      "35/35 [==============================] - 0s 517us/step - loss: 0.0027\n",
      "Epoch 184/500\n",
      "35/35 [==============================] - 0s 628us/step - loss: 0.0027\n",
      "Epoch 185/500\n",
      "35/35 [==============================] - 0s 533us/step - loss: 0.0027\n",
      "Epoch 186/500\n",
      "35/35 [==============================] - 0s 603us/step - loss: 0.0027\n",
      "Epoch 187/500\n",
      "35/35 [==============================] - 0s 630us/step - loss: 0.0027\n",
      "Epoch 188/500\n",
      "35/35 [==============================] - 0s 548us/step - loss: 0.0027\n",
      "Epoch 189/500\n",
      "35/35 [==============================] - 0s 574us/step - loss: 0.0028\n",
      "Epoch 190/500\n",
      "35/35 [==============================] - 0s 521us/step - loss: 0.0027\n",
      "Epoch 191/500\n",
      "35/35 [==============================] - 0s 552us/step - loss: 0.0028\n",
      "Epoch 192/500\n",
      "35/35 [==============================] - 0s 531us/step - loss: 0.0028\n",
      "Epoch 193/500\n",
      "35/35 [==============================] - 0s 548us/step - loss: 0.0027\n",
      "Epoch 194/500\n",
      "35/35 [==============================] - 0s 550us/step - loss: 0.0027\n",
      "Epoch 195/500\n",
      "35/35 [==============================] - 0s 550us/step - loss: 0.0027\n",
      "Epoch 196/500\n",
      "35/35 [==============================] - 0s 622us/step - loss: 0.0028\n",
      "Epoch 197/500\n",
      "35/35 [==============================] - 0s 519us/step - loss: 0.0027\n",
      "Epoch 198/500\n",
      "35/35 [==============================] - 0s 590us/step - loss: 0.0028\n",
      "Epoch 199/500\n",
      "35/35 [==============================] - 0s 519us/step - loss: 0.0026\n",
      "Epoch 200/500\n",
      "35/35 [==============================] - 0s 541us/step - loss: 0.0027\n",
      "Epoch 201/500\n",
      "35/35 [==============================] - 0s 514us/step - loss: 0.0027\n",
      "Epoch 202/500\n",
      "35/35 [==============================] - 0s 543us/step - loss: 0.0027\n",
      "Epoch 203/500\n",
      "35/35 [==============================] - 0s 520us/step - loss: 0.0028\n",
      "Epoch 204/500\n",
      "35/35 [==============================] - 0s 548us/step - loss: 0.0027\n",
      "Epoch 205/500\n",
      "35/35 [==============================] - 0s 517us/step - loss: 0.0028\n",
      "Epoch 206/500\n",
      "35/35 [==============================] - 0s 559us/step - loss: 0.0028\n",
      "Epoch 207/500\n",
      "35/35 [==============================] - 0s 548us/step - loss: 0.0027\n",
      "Epoch 208/500\n",
      "35/35 [==============================] - 0s 608us/step - loss: 0.0026\n",
      "Epoch 209/500\n",
      "35/35 [==============================] - 0s 570us/step - loss: 0.0027\n",
      "Epoch 210/500\n",
      "35/35 [==============================] - 0s 522us/step - loss: 0.0028\n",
      "Epoch 211/500\n",
      "35/35 [==============================] - 0s 532us/step - loss: 0.0028\n",
      "Epoch 212/500\n",
      "35/35 [==============================] - 0s 518us/step - loss: 0.0027\n",
      "Epoch 213/500\n",
      "35/35 [==============================] - 0s 545us/step - loss: 0.0027\n",
      "Epoch 214/500\n",
      "35/35 [==============================] - 0s 524us/step - loss: 0.0027\n",
      "Epoch 215/500\n",
      "35/35 [==============================] - 0s 543us/step - loss: 0.0027\n",
      "Epoch 216/500\n",
      "35/35 [==============================] - 0s 503us/step - loss: 0.0027\n",
      "Epoch 217/500\n",
      "35/35 [==============================] - 0s 548us/step - loss: 0.0026\n",
      "Epoch 218/500\n",
      "35/35 [==============================] - 0s 521us/step - loss: 0.0027\n",
      "Epoch 219/500\n",
      "35/35 [==============================] - 0s 552us/step - loss: 0.0027\n",
      "Epoch 220/500\n",
      "35/35 [==============================] - 0s 863us/step - loss: 0.0027\n",
      "Epoch 221/500\n",
      "35/35 [==============================] - 0s 543us/step - loss: 0.0027\n",
      "Epoch 222/500\n",
      "35/35 [==============================] - 0s 612us/step - loss: 0.0027\n",
      "Epoch 223/500\n",
      "35/35 [==============================] - 0s 515us/step - loss: 0.0027\n",
      "Epoch 224/500\n",
      "35/35 [==============================] - 0s 558us/step - loss: 0.0027\n",
      "Epoch 225/500\n",
      "35/35 [==============================] - 0s 520us/step - loss: 0.0027\n",
      "Epoch 226/500\n",
      "35/35 [==============================] - 0s 574us/step - loss: 0.0027\n",
      "Epoch 227/500\n",
      "35/35 [==============================] - 0s 535us/step - loss: 0.0028\n",
      "Epoch 228/500\n",
      "35/35 [==============================] - 0s 661us/step - loss: 0.0027\n",
      "Epoch 229/500\n",
      "35/35 [==============================] - 0s 568us/step - loss: 0.0027\n",
      "Epoch 230/500\n",
      "35/35 [==============================] - 0s 561us/step - loss: 0.0027\n",
      "Epoch 231/500\n",
      "35/35 [==============================] - 0s 531us/step - loss: 0.0027\n",
      "Epoch 232/500\n",
      "35/35 [==============================] - 0s 532us/step - loss: 0.0026\n",
      "Epoch 233/500\n",
      "35/35 [==============================] - 0s 542us/step - loss: 0.0027\n",
      "Epoch 234/500\n",
      "35/35 [==============================] - 0s 527us/step - loss: 0.0027\n",
      "Epoch 235/500\n",
      "35/35 [==============================] - 0s 540us/step - loss: 0.0028\n",
      "Epoch 236/500\n",
      "35/35 [==============================] - 0s 526us/step - loss: 0.0027\n",
      "Epoch 237/500\n",
      "35/35 [==============================] - 0s 602us/step - loss: 0.0027\n",
      "Epoch 238/500\n",
      "35/35 [==============================] - 0s 522us/step - loss: 0.0027\n",
      "Epoch 239/500\n",
      "35/35 [==============================] - 0s 555us/step - loss: 0.0026\n",
      "Epoch 240/500\n",
      "35/35 [==============================] - 0s 510us/step - loss: 0.0027\n",
      "Epoch 241/500\n",
      "35/35 [==============================] - 0s 600us/step - loss: 0.0028\n",
      "Epoch 242/500\n",
      "35/35 [==============================] - 0s 530us/step - loss: 0.0027\n",
      "Epoch 243/500\n",
      "35/35 [==============================] - 0s 541us/step - loss: 0.0028\n",
      "Epoch 244/500\n",
      "35/35 [==============================] - 0s 545us/step - loss: 0.0027\n",
      "Epoch 245/500\n",
      "35/35 [==============================] - 0s 522us/step - loss: 0.0027\n",
      "Epoch 246/500\n",
      "35/35 [==============================] - 0s 535us/step - loss: 0.0026\n",
      "Epoch 247/500\n",
      "35/35 [==============================] - 0s 516us/step - loss: 0.0028\n",
      "Epoch 248/500\n",
      "35/35 [==============================] - 0s 545us/step - loss: 0.0027\n",
      "Epoch 249/500\n",
      "35/35 [==============================] - 0s 521us/step - loss: 0.0028\n",
      "Epoch 250/500\n",
      "35/35 [==============================] - 0s 544us/step - loss: 0.0028\n",
      "Epoch 251/500\n",
      "35/35 [==============================] - 0s 625us/step - loss: 0.0028\n",
      "Epoch 252/500\n",
      "35/35 [==============================] - 0s 670us/step - loss: 0.0028\n",
      "Epoch 253/500\n",
      "35/35 [==============================] - 0s 739us/step - loss: 0.0026\n",
      "Epoch 254/500\n",
      "35/35 [==============================] - 0s 817us/step - loss: 0.0028\n",
      "Epoch 255/500\n",
      "35/35 [==============================] - 0s 730us/step - loss: 0.0026\n",
      "Epoch 256/500\n",
      "35/35 [==============================] - 0s 895us/step - loss: 0.0028\n",
      "Epoch 257/500\n",
      "35/35 [==============================] - 0s 660us/step - loss: 0.0026\n",
      "Epoch 258/500\n",
      "35/35 [==============================] - 0s 628us/step - loss: 0.0027\n",
      "Epoch 259/500\n",
      "35/35 [==============================] - 0s 557us/step - loss: 0.0027\n",
      "Epoch 260/500\n",
      "35/35 [==============================] - 0s 530us/step - loss: 0.0027\n",
      "Epoch 261/500\n",
      "35/35 [==============================] - 0s 569us/step - loss: 0.0027\n",
      "Epoch 262/500\n",
      "35/35 [==============================] - 0s 563us/step - loss: 0.0028\n",
      "Epoch 263/500\n",
      "35/35 [==============================] - 0s 551us/step - loss: 0.0027\n",
      "Epoch 264/500\n",
      "35/35 [==============================] - 0s 630us/step - loss: 0.0027\n",
      "Epoch 265/500\n",
      "35/35 [==============================] - 0s 663us/step - loss: 0.0026\n",
      "Epoch 266/500\n",
      "35/35 [==============================] - 0s 660us/step - loss: 0.0028\n",
      "Epoch 267/500\n",
      "35/35 [==============================] - 0s 735us/step - loss: 0.0027\n",
      "Epoch 268/500\n",
      "35/35 [==============================] - 0s 661us/step - loss: 0.0026\n",
      "Epoch 269/500\n",
      "35/35 [==============================] - 0s 569us/step - loss: 0.0028\n",
      "Epoch 270/500\n",
      "35/35 [==============================] - 0s 673us/step - loss: 0.0028\n",
      "Epoch 271/500\n",
      "35/35 [==============================] - 0s 639us/step - loss: 0.0027\n",
      "Epoch 272/500\n",
      "35/35 [==============================] - 0s 643us/step - loss: 0.0028\n",
      "Epoch 273/500\n",
      "35/35 [==============================] - 0s 758us/step - loss: 0.0027\n",
      "Epoch 274/500\n",
      "35/35 [==============================] - 0s 886us/step - loss: 0.0028\n",
      "Epoch 275/500\n",
      "35/35 [==============================] - 0s 855us/step - loss: 0.0028\n",
      "Epoch 276/500\n",
      "35/35 [==============================] - 0s 869us/step - loss: 0.0026\n",
      "Epoch 277/500\n",
      "35/35 [==============================] - 0s 784us/step - loss: 0.0027\n",
      "Epoch 278/500\n",
      "35/35 [==============================] - 0s 842us/step - loss: 0.0027\n",
      "Epoch 279/500\n",
      "35/35 [==============================] - 0s 835us/step - loss: 0.0027\n",
      "Epoch 280/500\n",
      "35/35 [==============================] - 0s 783us/step - loss: 0.0027\n",
      "Epoch 281/500\n",
      "35/35 [==============================] - 0s 805us/step - loss: 0.0027\n",
      "Epoch 282/500\n",
      "35/35 [==============================] - 0s 690us/step - loss: 0.0027\n",
      "Epoch 283/500\n",
      "35/35 [==============================] - 0s 796us/step - loss: 0.0027\n",
      "Epoch 284/500\n",
      "35/35 [==============================] - 0s 705us/step - loss: 0.0029\n",
      "Epoch 285/500\n",
      "35/35 [==============================] - 0s 637us/step - loss: 0.0026\n",
      "Epoch 286/500\n",
      "35/35 [==============================] - 0s 618us/step - loss: 0.0027\n",
      "Epoch 287/500\n",
      "35/35 [==============================] - 0s 620us/step - loss: 0.0026\n",
      "Epoch 288/500\n",
      "35/35 [==============================] - 0s 652us/step - loss: 0.0028\n",
      "Epoch 289/500\n",
      "35/35 [==============================] - 0s 754us/step - loss: 0.0027\n",
      "Epoch 290/500\n",
      "35/35 [==============================] - 0s 733us/step - loss: 0.0027\n",
      "Epoch 291/500\n",
      "35/35 [==============================] - 0s 962us/step - loss: 0.0027\n",
      "Epoch 292/500\n",
      "35/35 [==============================] - 0s 773us/step - loss: 0.0027\n",
      "Epoch 293/500\n",
      "35/35 [==============================] - 0s 631us/step - loss: 0.0028\n",
      "Epoch 294/500\n",
      "35/35 [==============================] - 0s 681us/step - loss: 0.0027\n",
      "Epoch 295/500\n",
      "35/35 [==============================] - 0s 639us/step - loss: 0.0027\n",
      "Epoch 296/500\n",
      "35/35 [==============================] - 0s 597us/step - loss: 0.0027\n",
      "Epoch 297/500\n",
      "35/35 [==============================] - 0s 675us/step - loss: 0.0027\n",
      "Epoch 298/500\n",
      "35/35 [==============================] - 0s 609us/step - loss: 0.0028\n",
      "Epoch 299/500\n",
      "35/35 [==============================] - 0s 607us/step - loss: 0.0027\n",
      "Epoch 300/500\n",
      "35/35 [==============================] - 0s 633us/step - loss: 0.0028\n",
      "Epoch 301/500\n",
      "35/35 [==============================] - 0s 626us/step - loss: 0.0027\n",
      "Epoch 302/500\n",
      "35/35 [==============================] - 0s 620us/step - loss: 0.0027\n",
      "Epoch 303/500\n",
      "35/35 [==============================] - 0s 614us/step - loss: 0.0028\n",
      "Epoch 304/500\n",
      "35/35 [==============================] - 0s 667us/step - loss: 0.0027\n",
      "Epoch 305/500\n",
      "35/35 [==============================] - 0s 650us/step - loss: 0.0028\n",
      "Epoch 306/500\n",
      "35/35 [==============================] - 0s 576us/step - loss: 0.0028\n",
      "Epoch 307/500\n",
      "35/35 [==============================] - 0s 616us/step - loss: 0.0027\n",
      "Epoch 308/500\n",
      "35/35 [==============================] - 0s 638us/step - loss: 0.0027\n",
      "Epoch 309/500\n",
      "35/35 [==============================] - 0s 759us/step - loss: 0.0027\n",
      "Epoch 310/500\n",
      "35/35 [==============================] - 0s 727us/step - loss: 0.0027\n",
      "Epoch 311/500\n",
      "35/35 [==============================] - 0s 701us/step - loss: 0.0027\n",
      "Epoch 312/500\n",
      "35/35 [==============================] - 0s 729us/step - loss: 0.0027\n",
      "Epoch 313/500\n",
      "35/35 [==============================] - 0s 852us/step - loss: 0.0027\n",
      "Epoch 314/500\n",
      "35/35 [==============================] - 0s 999us/step - loss: 0.0027\n",
      "Epoch 315/500\n",
      "35/35 [==============================] - 0s 976us/step - loss: 0.0026\n",
      "Epoch 316/500\n",
      "35/35 [==============================] - 0s 916us/step - loss: 0.0028\n",
      "Epoch 317/500\n",
      "35/35 [==============================] - 0s 873us/step - loss: 0.0027\n",
      "Epoch 318/500\n",
      "35/35 [==============================] - 0s 718us/step - loss: 0.0028\n",
      "Epoch 319/500\n",
      "35/35 [==============================] - 0s 686us/step - loss: 0.0027\n",
      "Epoch 320/500\n",
      "35/35 [==============================] - 0s 653us/step - loss: 0.0027\n",
      "Epoch 321/500\n",
      "35/35 [==============================] - 0s 697us/step - loss: 0.0026\n",
      "Epoch 322/500\n",
      "35/35 [==============================] - 0s 636us/step - loss: 0.0027\n",
      "Epoch 323/500\n",
      "35/35 [==============================] - 0s 749us/step - loss: 0.0026\n",
      "Epoch 324/500\n",
      "35/35 [==============================] - 0s 593us/step - loss: 0.0027\n",
      "Epoch 325/500\n",
      "35/35 [==============================] - 0s 591us/step - loss: 0.0027\n",
      "Epoch 326/500\n",
      "35/35 [==============================] - 0s 565us/step - loss: 0.0027\n",
      "Epoch 327/500\n",
      "35/35 [==============================] - 0s 580us/step - loss: 0.0027\n",
      "Epoch 328/500\n",
      "35/35 [==============================] - 0s 590us/step - loss: 0.0027\n",
      "Epoch 329/500\n",
      "35/35 [==============================] - 0s 591us/step - loss: 0.0027\n",
      "Epoch 330/500\n",
      "35/35 [==============================] - 0s 617us/step - loss: 0.0027\n",
      "Epoch 331/500\n",
      "35/35 [==============================] - 0s 584us/step - loss: 0.0028\n",
      "Epoch 332/500\n",
      "35/35 [==============================] - 0s 563us/step - loss: 0.0027\n",
      "Epoch 333/500\n",
      "35/35 [==============================] - 0s 568us/step - loss: 0.0026\n",
      "Epoch 334/500\n",
      "35/35 [==============================] - 0s 582us/step - loss: 0.0027\n",
      "Epoch 335/500\n",
      "35/35 [==============================] - 0s 564us/step - loss: 0.0028\n",
      "Epoch 336/500\n",
      "35/35 [==============================] - 0s 567us/step - loss: 0.0027\n",
      "Epoch 337/500\n",
      "35/35 [==============================] - 0s 568us/step - loss: 0.0027\n",
      "Epoch 338/500\n",
      "35/35 [==============================] - 0s 568us/step - loss: 0.0027\n",
      "Epoch 339/500\n",
      "35/35 [==============================] - 0s 570us/step - loss: 0.0027\n",
      "Epoch 340/500\n",
      "35/35 [==============================] - 0s 565us/step - loss: 0.0027\n",
      "Epoch 341/500\n",
      "35/35 [==============================] - 0s 563us/step - loss: 0.0028\n",
      "Epoch 342/500\n",
      "35/35 [==============================] - 0s 562us/step - loss: 0.0028\n",
      "Epoch 343/500\n",
      "35/35 [==============================] - 0s 562us/step - loss: 0.0028\n",
      "Epoch 344/500\n",
      "35/35 [==============================] - 0s 547us/step - loss: 0.0027\n",
      "Epoch 345/500\n",
      "35/35 [==============================] - 0s 563us/step - loss: 0.0027\n",
      "Epoch 346/500\n",
      "35/35 [==============================] - 0s 581us/step - loss: 0.0027\n",
      "Epoch 347/500\n",
      "35/35 [==============================] - 0s 560us/step - loss: 0.0027\n",
      "Epoch 348/500\n",
      "35/35 [==============================] - 0s 555us/step - loss: 0.0027\n",
      "Epoch 349/500\n",
      "35/35 [==============================] - 0s 561us/step - loss: 0.0027\n",
      "Epoch 350/500\n",
      "35/35 [==============================] - 0s 555us/step - loss: 0.0026\n",
      "Epoch 351/500\n",
      "35/35 [==============================] - 0s 563us/step - loss: 0.0027\n",
      "Epoch 352/500\n",
      "35/35 [==============================] - 0s 566us/step - loss: 0.0027\n",
      "Epoch 353/500\n",
      "35/35 [==============================] - 0s 560us/step - loss: 0.0026\n",
      "Epoch 354/500\n",
      "35/35 [==============================] - 0s 2ms/step - loss: 0.0028\n",
      "Epoch 355/500\n",
      "35/35 [==============================] - 0s 1ms/step - loss: 0.0027\n",
      "Epoch 356/500\n",
      "35/35 [==============================] - 0s 1ms/step - loss: 0.0028\n",
      "Epoch 357/500\n",
      "35/35 [==============================] - 0s 809us/step - loss: 0.0027\n",
      "Epoch 358/500\n",
      "35/35 [==============================] - 0s 766us/step - loss: 0.0027\n",
      "Epoch 359/500\n",
      "35/35 [==============================] - 0s 587us/step - loss: 0.0027\n",
      "Epoch 360/500\n",
      "35/35 [==============================] - 0s 576us/step - loss: 0.0027\n",
      "Epoch 361/500\n",
      "35/35 [==============================] - 0s 557us/step - loss: 0.0028\n",
      "Epoch 362/500\n",
      "35/35 [==============================] - 0s 584us/step - loss: 0.0027\n",
      "Epoch 363/500\n",
      "35/35 [==============================] - 0s 567us/step - loss: 0.0026\n",
      "Epoch 364/500\n",
      "35/35 [==============================] - 0s 574us/step - loss: 0.0028\n",
      "Epoch 365/500\n",
      "35/35 [==============================] - 0s 566us/step - loss: 0.0027\n",
      "Epoch 366/500\n",
      "35/35 [==============================] - 0s 561us/step - loss: 0.0027\n",
      "Epoch 367/500\n",
      "35/35 [==============================] - 0s 574us/step - loss: 0.0027\n",
      "Epoch 368/500\n",
      "35/35 [==============================] - 0s 563us/step - loss: 0.0027\n",
      "Epoch 369/500\n",
      "35/35 [==============================] - 0s 569us/step - loss: 0.0027\n",
      "Epoch 370/500\n",
      "35/35 [==============================] - 0s 565us/step - loss: 0.0028\n",
      "Epoch 371/500\n",
      "35/35 [==============================] - 0s 570us/step - loss: 0.0027\n",
      "Epoch 372/500\n",
      "35/35 [==============================] - 0s 570us/step - loss: 0.0027\n",
      "Epoch 373/500\n",
      "35/35 [==============================] - 0s 561us/step - loss: 0.0026\n",
      "Epoch 374/500\n",
      "35/35 [==============================] - 0s 565us/step - loss: 0.0027\n",
      "Epoch 375/500\n",
      "35/35 [==============================] - 0s 567us/step - loss: 0.0027\n",
      "Epoch 376/500\n",
      "35/35 [==============================] - 0s 559us/step - loss: 0.0027\n",
      "Epoch 377/500\n",
      "35/35 [==============================] - 0s 565us/step - loss: 0.0028\n",
      "Epoch 378/500\n",
      "35/35 [==============================] - 0s 547us/step - loss: 0.0025\n",
      "Epoch 379/500\n",
      "35/35 [==============================] - 0s 519us/step - loss: 0.0027\n",
      "Epoch 380/500\n",
      "35/35 [==============================] - 0s 531us/step - loss: 0.0027\n",
      "Epoch 381/500\n",
      "35/35 [==============================] - 0s 533us/step - loss: 0.0025\n",
      "Epoch 382/500\n",
      "35/35 [==============================] - 0s 538us/step - loss: 0.0027\n",
      "Epoch 383/500\n",
      "35/35 [==============================] - 0s 526us/step - loss: 0.0027\n",
      "Epoch 384/500\n",
      "35/35 [==============================] - 0s 530us/step - loss: 0.0028\n",
      "Epoch 385/500\n",
      "35/35 [==============================] - 0s 533us/step - loss: 0.0026\n",
      "Epoch 386/500\n",
      "35/35 [==============================] - 0s 533us/step - loss: 0.0026\n",
      "Epoch 387/500\n",
      "35/35 [==============================] - 0s 533us/step - loss: 0.0028\n",
      "Epoch 388/500\n",
      "35/35 [==============================] - 0s 529us/step - loss: 0.0026\n",
      "Epoch 389/500\n",
      "35/35 [==============================] - 0s 533us/step - loss: 0.0026\n",
      "Epoch 390/500\n",
      "35/35 [==============================] - 0s 528us/step - loss: 0.0027\n",
      "Epoch 391/500\n",
      "35/35 [==============================] - 0s 542us/step - loss: 0.0027\n",
      "Epoch 392/500\n",
      "35/35 [==============================] - 0s 548us/step - loss: 0.0027\n",
      "Epoch 393/500\n",
      "35/35 [==============================] - 0s 567us/step - loss: 0.0027\n",
      "Epoch 394/500\n",
      "35/35 [==============================] - 0s 512us/step - loss: 0.0028\n",
      "Epoch 395/500\n",
      "35/35 [==============================] - 0s 573us/step - loss: 0.0028\n",
      "Epoch 396/500\n",
      "35/35 [==============================] - 0s 573us/step - loss: 0.0028\n",
      "Epoch 397/500\n",
      "35/35 [==============================] - 0s 569us/step - loss: 0.0027\n",
      "Epoch 398/500\n",
      "35/35 [==============================] - 0s 569us/step - loss: 0.0027\n",
      "Epoch 399/500\n",
      "35/35 [==============================] - 0s 576us/step - loss: 0.0027\n",
      "Epoch 400/500\n",
      "35/35 [==============================] - 0s 570us/step - loss: 0.0027\n",
      "Epoch 401/500\n",
      "35/35 [==============================] - 0s 566us/step - loss: 0.0027\n",
      "Epoch 402/500\n",
      "35/35 [==============================] - 0s 571us/step - loss: 0.0027\n",
      "Epoch 403/500\n",
      "35/35 [==============================] - 0s 582us/step - loss: 0.0027\n",
      "Epoch 404/500\n",
      "35/35 [==============================] - 0s 571us/step - loss: 0.0027\n",
      "Epoch 405/500\n",
      "35/35 [==============================] - 0s 561us/step - loss: 0.0027\n",
      "Epoch 406/500\n",
      "35/35 [==============================] - 0s 572us/step - loss: 0.0026\n",
      "Epoch 407/500\n",
      "35/35 [==============================] - 0s 574us/step - loss: 0.0028\n",
      "Epoch 408/500\n",
      "35/35 [==============================] - 0s 587us/step - loss: 0.0027\n",
      "Epoch 409/500\n",
      "35/35 [==============================] - 0s 577us/step - loss: 0.0027\n",
      "Epoch 410/500\n",
      "35/35 [==============================] - 0s 577us/step - loss: 0.0027\n",
      "Epoch 411/500\n",
      "35/35 [==============================] - 0s 565us/step - loss: 0.0027\n",
      "Epoch 412/500\n",
      "35/35 [==============================] - 0s 581us/step - loss: 0.0027\n",
      "Epoch 413/500\n",
      "35/35 [==============================] - 0s 569us/step - loss: 0.0026\n",
      "Epoch 414/500\n",
      "35/35 [==============================] - 0s 564us/step - loss: 0.0027\n",
      "Epoch 415/500\n",
      "35/35 [==============================] - 0s 571us/step - loss: 0.0028\n",
      "Epoch 416/500\n",
      "35/35 [==============================] - 0s 571us/step - loss: 0.0027\n",
      "Epoch 417/500\n",
      "35/35 [==============================] - 0s 574us/step - loss: 0.0027\n",
      "Epoch 418/500\n",
      "35/35 [==============================] - 0s 568us/step - loss: 0.0027\n",
      "Epoch 419/500\n",
      "35/35 [==============================] - 0s 567us/step - loss: 0.0026\n",
      "Epoch 420/500\n",
      "35/35 [==============================] - 0s 567us/step - loss: 0.0027\n",
      "Epoch 421/500\n",
      "35/35 [==============================] - 0s 563us/step - loss: 0.0027\n",
      "Epoch 422/500\n",
      "35/35 [==============================] - 0s 559us/step - loss: 0.0025\n",
      "Epoch 423/500\n",
      "35/35 [==============================] - 0s 570us/step - loss: 0.0027\n",
      "Epoch 424/500\n",
      "35/35 [==============================] - 0s 570us/step - loss: 0.0026\n",
      "Epoch 425/500\n",
      "35/35 [==============================] - 0s 564us/step - loss: 0.0028\n",
      "Epoch 426/500\n",
      "35/35 [==============================] - 0s 568us/step - loss: 0.0027\n",
      "Epoch 427/500\n",
      "35/35 [==============================] - 0s 567us/step - loss: 0.0028\n",
      "Epoch 428/500\n",
      "35/35 [==============================] - 0s 571us/step - loss: 0.0027\n",
      "Epoch 429/500\n",
      "35/35 [==============================] - 0s 565us/step - loss: 0.0028\n",
      "Epoch 430/500\n",
      "35/35 [==============================] - 0s 567us/step - loss: 0.0026\n",
      "Epoch 431/500\n",
      "35/35 [==============================] - 0s 570us/step - loss: 0.0025\n",
      "Epoch 432/500\n",
      "35/35 [==============================] - 0s 569us/step - loss: 0.0027\n",
      "Epoch 433/500\n",
      "35/35 [==============================] - 0s 550us/step - loss: 0.0028\n",
      "Epoch 434/500\n",
      "35/35 [==============================] - 0s 566us/step - loss: 0.0027\n",
      "Epoch 435/500\n",
      "35/35 [==============================] - 0s 611us/step - loss: 0.0027\n",
      "Epoch 436/500\n",
      "35/35 [==============================] - 0s 608us/step - loss: 0.0028\n",
      "Epoch 437/500\n",
      "35/35 [==============================] - 0s 609us/step - loss: 0.0027\n",
      "Epoch 438/500\n",
      "35/35 [==============================] - 0s 608us/step - loss: 0.0027\n",
      "Epoch 439/500\n",
      "35/35 [==============================] - 0s 623us/step - loss: 0.0027\n",
      "Epoch 440/500\n",
      "35/35 [==============================] - 0s 599us/step - loss: 0.0027\n",
      "Epoch 441/500\n",
      "35/35 [==============================] - 0s 611us/step - loss: 0.0028\n",
      "Epoch 442/500\n",
      "35/35 [==============================] - 0s 626us/step - loss: 0.0027\n",
      "Epoch 443/500\n",
      "35/35 [==============================] - 0s 607us/step - loss: 0.0027\n",
      "Epoch 444/500\n",
      "35/35 [==============================] - 0s 586us/step - loss: 0.0026\n",
      "Epoch 445/500\n",
      "35/35 [==============================] - 0s 579us/step - loss: 0.0027\n",
      "Epoch 446/500\n",
      "35/35 [==============================] - 0s 683us/step - loss: 0.0027\n",
      "Epoch 447/500\n",
      "35/35 [==============================] - 0s 594us/step - loss: 0.0028\n",
      "Epoch 448/500\n",
      "35/35 [==============================] - 0s 664us/step - loss: 0.0027\n",
      "Epoch 449/500\n",
      "35/35 [==============================] - 0s 599us/step - loss: 0.0027\n",
      "Epoch 450/500\n",
      "35/35 [==============================] - 0s 604us/step - loss: 0.0028\n",
      "Epoch 451/500\n",
      "35/35 [==============================] - 0s 612us/step - loss: 0.0027\n",
      "Epoch 452/500\n",
      "35/35 [==============================] - 0s 608us/step - loss: 0.0027\n",
      "Epoch 453/500\n",
      "35/35 [==============================] - 0s 599us/step - loss: 0.0027\n",
      "Epoch 454/500\n",
      "35/35 [==============================] - 0s 598us/step - loss: 0.0028\n",
      "Epoch 455/500\n",
      "35/35 [==============================] - 0s 617us/step - loss: 0.0027\n",
      "Epoch 456/500\n",
      "35/35 [==============================] - 0s 596us/step - loss: 0.0027\n",
      "Epoch 457/500\n",
      "35/35 [==============================] - 0s 580us/step - loss: 0.0027\n",
      "Epoch 458/500\n",
      "35/35 [==============================] - 0s 599us/step - loss: 0.0028\n",
      "Epoch 459/500\n",
      "35/35 [==============================] - 0s 618us/step - loss: 0.0027\n",
      "Epoch 460/500\n",
      "35/35 [==============================] - 0s 571us/step - loss: 0.0027\n",
      "Epoch 461/500\n",
      "35/35 [==============================] - 0s 579us/step - loss: 0.0027\n",
      "Epoch 462/500\n",
      "35/35 [==============================] - 0s 566us/step - loss: 0.0027\n",
      "Epoch 463/500\n",
      "35/35 [==============================] - 0s 574us/step - loss: 0.0028\n",
      "Epoch 464/500\n",
      "35/35 [==============================] - 0s 566us/step - loss: 0.0026\n",
      "Epoch 465/500\n",
      "35/35 [==============================] - 0s 573us/step - loss: 0.0027\n",
      "Epoch 466/500\n",
      "35/35 [==============================] - 0s 590us/step - loss: 0.0027\n",
      "Epoch 467/500\n",
      "35/35 [==============================] - 0s 575us/step - loss: 0.0026\n",
      "Epoch 468/500\n",
      "35/35 [==============================] - 0s 581us/step - loss: 0.0027\n",
      "Epoch 469/500\n",
      "35/35 [==============================] - 0s 594us/step - loss: 0.0027\n",
      "Epoch 470/500\n",
      "35/35 [==============================] - 0s 581us/step - loss: 0.0027\n",
      "Epoch 471/500\n",
      "35/35 [==============================] - 0s 578us/step - loss: 0.0026\n",
      "Epoch 472/500\n",
      "35/35 [==============================] - 0s 581us/step - loss: 0.0027\n",
      "Epoch 473/500\n",
      "35/35 [==============================] - 0s 586us/step - loss: 0.0027\n",
      "Epoch 474/500\n",
      "35/35 [==============================] - 0s 574us/step - loss: 0.0026\n",
      "Epoch 475/500\n",
      "35/35 [==============================] - 0s 599us/step - loss: 0.0027\n",
      "Epoch 476/500\n",
      "35/35 [==============================] - 0s 577us/step - loss: 0.0027\n",
      "Epoch 477/500\n",
      "35/35 [==============================] - 0s 582us/step - loss: 0.0028\n",
      "Epoch 478/500\n",
      "35/35 [==============================] - 0s 576us/step - loss: 0.0027\n",
      "Epoch 479/500\n",
      "35/35 [==============================] - 0s 558us/step - loss: 0.0027\n",
      "Epoch 480/500\n",
      "35/35 [==============================] - 0s 576us/step - loss: 0.0028\n",
      "Epoch 481/500\n",
      "35/35 [==============================] - 0s 567us/step - loss: 0.0026\n",
      "Epoch 482/500\n",
      "35/35 [==============================] - 0s 571us/step - loss: 0.0027\n",
      "Epoch 483/500\n",
      "35/35 [==============================] - 0s 570us/step - loss: 0.0027\n",
      "Epoch 484/500\n",
      "35/35 [==============================] - 0s 567us/step - loss: 0.0027\n",
      "Epoch 485/500\n",
      "35/35 [==============================] - 0s 564us/step - loss: 0.0028\n",
      "Epoch 486/500\n",
      "35/35 [==============================] - 0s 568us/step - loss: 0.0026\n",
      "Epoch 487/500\n",
      "35/35 [==============================] - 0s 566us/step - loss: 0.0027\n",
      "Epoch 488/500\n",
      "35/35 [==============================] - 0s 567us/step - loss: 0.0027\n",
      "Epoch 489/500\n",
      "35/35 [==============================] - 0s 571us/step - loss: 0.0028\n",
      "Epoch 490/500\n",
      "35/35 [==============================] - 0s 569us/step - loss: 0.0027\n",
      "Epoch 491/500\n",
      "35/35 [==============================] - 0s 574us/step - loss: 0.0027\n",
      "Epoch 492/500\n",
      "35/35 [==============================] - 0s 572us/step - loss: 0.0027\n",
      "Epoch 493/500\n",
      "35/35 [==============================] - 0s 568us/step - loss: 0.0027\n",
      "Epoch 494/500\n",
      "35/35 [==============================] - 0s 560us/step - loss: 0.0027\n",
      "Epoch 495/500\n",
      "35/35 [==============================] - 0s 563us/step - loss: 0.0026\n",
      "Epoch 496/500\n",
      "35/35 [==============================] - 0s 564us/step - loss: 0.0027\n",
      "Epoch 497/500\n",
      "35/35 [==============================] - 0s 592us/step - loss: 0.0028\n",
      "Epoch 498/500\n",
      "35/35 [==============================] - 0s 559us/step - loss: 0.0027\n",
      "Epoch 499/500\n",
      "35/35 [==============================] - 0s 564us/step - loss: 0.0026\n",
      "Epoch 500/500\n",
      "35/35 [==============================] - 0s 553us/step - loss: 0.0027\n"
     ]
    },
    {
     "data": {
      "text/plain": "<keras.src.callbacks.History at 0x169e9e0e0>"
     },
     "execution_count": 164,
     "metadata": {},
     "output_type": "execute_result"
    }
   ],
   "source": [
    "model = Sequential()\n",
    "model.add(LSTM(8,activation='tanh',return_sequences=True, input_shape=(1,look_back)))\n",
    "model.add(LSTM(4,activation='tanh',return_sequences=False, input_shape=(1,look_back)))\n",
    "model.add(Dense(1))\n",
    "model.compile(loss='mean_squared_error', optimizer='rmsprop')\n",
    "model.fit(trainX, trainY, epochs=500, batch_size=4, verbose=1)"
   ],
   "metadata": {
    "collapsed": false,
    "ExecuteTime": {
     "end_time": "2023-12-05T07:40:09.624026Z",
     "start_time": "2023-12-05T07:39:55.052293Z"
    }
   }
  },
  {
   "cell_type": "code",
   "execution_count": 165,
   "outputs": [
    {
     "name": "stdout",
     "output_type": "stream",
     "text": [
      "5/5 [==============================] - 0s 952us/step\n",
      "2/2 [==============================] - 0s 1ms/step\n"
     ]
    }
   ],
   "source": [
    "trainPredict = model.predict(trainX)\n",
    "testPredict = model.predict(testX)"
   ],
   "metadata": {
    "collapsed": false,
    "ExecuteTime": {
     "end_time": "2023-12-05T07:40:09.626073Z",
     "start_time": "2023-12-05T07:40:08.338246Z"
    }
   }
  },
  {
   "cell_type": "code",
   "execution_count": 166,
   "outputs": [],
   "source": [
    "trainPredict.shape, trainY.shape\n",
    "trainPredict = scaler.inverse_transform(trainPredict)\n",
    "trainY = scaler.inverse_transform([trainY])\n",
    "testPredict = scaler.inverse_transform(testPredict)\n",
    "testY = scaler.inverse_transform([testY])"
   ],
   "metadata": {
    "collapsed": false,
    "ExecuteTime": {
     "end_time": "2023-12-05T07:40:09.626136Z",
     "start_time": "2023-12-05T07:40:08.702588Z"
    }
   }
  },
  {
   "cell_type": "code",
   "execution_count": 167,
   "outputs": [
    {
     "name": "stdout",
     "output_type": "stream",
     "text": [
      "Train Score: 27.34 RMSE\n",
      "Test Score: 66.45 RMSE\n"
     ]
    }
   ],
   "source": [
    "trainScore = math.sqrt(mean_squared_error(trainY[0], trainPredict[:,0]))\n",
    "print('Train Score: %.2f RMSE' % (trainScore))\n",
    "testScore = math.sqrt(mean_squared_error(testY[0], testPredict[:,0]))\n",
    "print('Test Score: %.2f RMSE' % (testScore))\n",
    "\n",
    "results= [{ \"Models\": \"LSTM\",\n",
    "            \"RMSE\": testScore}]\n",
    "\n",
    "results = pd.DataFrame(results,columns=['Models','RMSE'])"
   ],
   "metadata": {
    "collapsed": false,
    "ExecuteTime": {
     "end_time": "2023-12-05T07:40:09.626184Z",
     "start_time": "2023-12-05T07:40:08.706128Z"
    }
   }
  },
  {
   "cell_type": "code",
   "execution_count": 168,
   "outputs": [],
   "source": [
    "trainPredictPlot = np.empty_like(df1)\n",
    "trainPredictPlot[:, :] = np.nan\n",
    "trainPredictPlot[look_back:len(trainPredict)+look_back, :] = trainPredict"
   ],
   "metadata": {
    "collapsed": false,
    "ExecuteTime": {
     "end_time": "2023-12-05T07:40:09.626215Z",
     "start_time": "2023-12-05T07:40:08.712636Z"
    }
   }
  },
  {
   "cell_type": "code",
   "execution_count": 169,
   "outputs": [],
   "source": [
    "testPredictPlot = np.empty_like(df1)\n",
    "testPredictPlot[:, :] = np.nan\n",
    "testPredictPlot[len(trainPredict)+look_back+1:len(df1)-1, :] = testPredict"
   ],
   "metadata": {
    "collapsed": false,
    "ExecuteTime": {
     "end_time": "2023-12-05T07:40:09.626241Z",
     "start_time": "2023-12-05T07:40:08.714064Z"
    }
   }
  },
  {
   "cell_type": "code",
   "execution_count": 170,
   "outputs": [
    {
     "data": {
      "application/vnd.plotly.v1+json": {
       "data": [
        {
         "name": "Original dataset",
         "x": [
          0,
          1,
          2,
          3,
          4,
          5,
          6,
          7,
          8,
          9,
          10,
          11,
          12,
          13,
          14,
          15,
          16,
          17,
          18,
          19,
          20,
          21,
          22,
          23,
          24,
          25,
          26,
          27,
          28,
          29,
          30,
          31,
          32,
          33,
          34,
          35,
          36,
          37,
          38,
          39,
          40,
          41,
          42,
          43,
          44,
          45,
          46,
          47,
          48,
          49,
          50,
          51,
          52,
          53,
          54,
          55,
          56,
          57,
          58,
          59,
          60,
          61,
          62,
          63,
          64,
          65,
          66,
          67,
          68,
          69,
          70,
          71,
          72,
          73,
          74,
          75,
          76,
          77,
          78,
          79,
          80,
          81,
          82,
          83,
          84,
          85,
          86,
          87,
          88,
          89,
          90,
          91,
          92,
          93,
          94,
          95,
          96,
          97,
          98,
          99,
          100,
          101,
          102,
          103,
          104,
          105,
          106,
          107,
          108,
          109,
          110,
          111,
          112,
          113,
          114,
          115,
          116,
          117,
          118,
          119,
          120,
          121,
          122,
          123,
          124,
          125,
          126,
          127,
          128,
          129,
          130,
          131,
          132,
          133,
          134,
          135,
          136,
          137,
          138,
          139,
          140,
          141,
          142,
          143,
          144,
          145,
          146,
          147,
          148,
          149,
          150,
          151,
          152,
          153,
          154,
          155,
          156,
          157,
          158,
          159,
          160,
          161,
          162,
          163,
          164,
          165,
          166,
          167,
          168,
          169,
          170,
          171,
          172,
          173,
          174,
          175,
          176,
          177,
          178,
          179,
          180,
          181,
          182,
          183,
          184,
          185,
          186,
          187,
          188,
          189,
          190,
          191,
          192,
          193,
          194,
          195,
          196,
          197,
          198,
          199,
          200,
          201,
          202,
          203
         ],
         "y": [
          196.0,
          346.0,
          308.0,
          317.0,
          343.0,
          312.0,
          310.0,
          307.0,
          306.0,
          322.0,
          337.0,
          307.0,
          363.0,
          413.0,
          416.0,
          412.0,
          443.0,
          394.0,
          450.0,
          414.0,
          435.0,
          400.0,
          460.0,
          468.0,
          495.0,
          513.0,
          523.0,
          432.0,
          439.0,
          439.0,
          441.0,
          415.00000000000006,
          421.0,
          382.0,
          430.0,
          386.0,
          375.0,
          389.0,
          372.0,
          388.0,
          416.0,
          383.0,
          442.0,
          412.0,
          411.0,
          409.0,
          425.0,
          398.0,
          414.0,
          403.0,
          393.0,
          390.0,
          421.0,
          408.0,
          412.0,
          448.00000000000006,
          435.0,
          488.0,
          460.0,
          469.99999999999994,
          415.00000000000006,
          440.0,
          412.0,
          395.0,
          397.0,
          409.0,
          386.0,
          400.0,
          441.0,
          463.0,
          409.0,
          409.0,
          405.0,
          438.0,
          412.0,
          429.0,
          421.0,
          417.0,
          452.0,
          421.0,
          372.0,
          398.0,
          441.0,
          378.0,
          433.0,
          478.0,
          474.0,
          450.0,
          460.0,
          474.0,
          512.0,
          491.0,
          547.0,
          513.0,
          492.0,
          559.0,
          547.0,
          508.0,
          522.0,
          508.0,
          528.0,
          519.0,
          510.0,
          535.0,
          490.0,
          460.0,
          522.0,
          468.0,
          450.0,
          485.0,
          480.99999999999994,
          482.0,
          467.0,
          472.0,
          463.0,
          488.0,
          492.0,
          486.0,
          516.0,
          508.0,
          508.0,
          543.0,
          516.0,
          518.0,
          517.0,
          476.0,
          483.0,
          448.00000000000006,
          463.0,
          485.0,
          471.0,
          477.0,
          473.0,
          501.0,
          460.0,
          550.0,
          482.0,
          475.0,
          479.0,
          471.0,
          464.0,
          511.0,
          474.0,
          466.0,
          458.99999999999994,
          479.0,
          468.0,
          434.0,
          458.0,
          417.0,
          469.0,
          425.0,
          411.0,
          373.0,
          411.0,
          438.0,
          467.0,
          405.0,
          467.0,
          413.0,
          455.0,
          476.0,
          454.0,
          449.0,
          422.0,
          451.0,
          491.0,
          421.0,
          448.00000000000006,
          417.0,
          403.0,
          435.0,
          407.0,
          437.00000000000006,
          428.0,
          375.0,
          441.0,
          465.0,
          429.0,
          428.0,
          439.0,
          457.0,
          467.0,
          471.0,
          487.0,
          513.0,
          474.0,
          455.0,
          490.0,
          535.0,
          486.0,
          495.0,
          443.0,
          473.0,
          494.0,
          509.0,
          511.0,
          528.0,
          493.0,
          507.0,
          497.0,
          494.0,
          483.0,
          19.0
         ],
         "type": "scatter"
        },
        {
         "name": "Predict with Train set",
         "x": [
          0,
          1,
          2,
          3,
          4,
          5,
          6,
          7,
          8,
          9,
          10,
          11,
          12,
          13,
          14,
          15,
          16,
          17,
          18,
          19,
          20,
          21,
          22,
          23,
          24,
          25,
          26,
          27,
          28,
          29,
          30,
          31,
          32,
          33,
          34,
          35,
          36,
          37,
          38,
          39,
          40,
          41,
          42,
          43,
          44,
          45,
          46,
          47,
          48,
          49,
          50,
          51,
          52,
          53,
          54,
          55,
          56,
          57,
          58,
          59,
          60,
          61,
          62,
          63,
          64,
          65,
          66,
          67,
          68,
          69,
          70,
          71,
          72,
          73,
          74,
          75,
          76,
          77,
          78,
          79,
          80,
          81,
          82,
          83,
          84,
          85,
          86,
          87,
          88,
          89,
          90,
          91,
          92,
          93,
          94,
          95,
          96,
          97,
          98,
          99,
          100,
          101,
          102,
          103,
          104,
          105,
          106,
          107,
          108,
          109,
          110,
          111,
          112,
          113,
          114,
          115,
          116,
          117,
          118,
          119,
          120,
          121,
          122,
          123,
          124,
          125,
          126,
          127,
          128,
          129,
          130,
          131,
          132,
          133,
          134,
          135,
          136,
          137,
          138,
          139,
          140,
          141,
          142,
          143,
          144,
          145,
          146,
          147,
          148,
          149,
          150,
          151,
          152,
          153,
          154,
          155,
          156,
          157,
          158,
          159,
          160,
          161,
          162,
          163,
          164,
          165,
          166,
          167,
          168,
          169,
          170,
          171,
          172,
          173,
          174,
          175,
          176,
          177,
          178,
          179,
          180,
          181,
          182,
          183,
          184,
          185,
          186,
          187,
          188,
          189,
          190,
          191,
          192,
          193,
          194,
          195,
          196,
          197,
          198,
          199,
          200,
          201,
          202,
          203
         ],
         "y": [
          null,
          null,
          301.0643615722656,
          338.8944091796875,
          329.07086181640625,
          345.8732604980469,
          339.81231689453125,
          327.0162353515625,
          324.7281188964844,
          323.0817565917969,
          330.86676025390625,
          344.6893310546875,
          334.9681396484375,
          352.3827209472656,
          400.0120849609375,
          420.5484313964844,
          419.5915222167969,
          434.2146301269531,
          420.3192138671875,
          431.0902099609375,
          433.3166198730469,
          430.809814453125,
          420.45849609375,
          438.5334777832031,
          464.8028564453125,
          481.3960876464844,
          499.95318603515625,
          511.12164306640625,
          469.0699462890625,
          439.5980224609375,
          442.1931457519531,
          443.2270812988281,
          430.4964599609375,
          423.90374755859375,
          405.8205261230469,
          416.13641357421875,
          411.2888488769531,
          388.918701171875,
          392.04632568359375,
          388.4917297363281,
          390.3785400390625,
          411.1056213378906,
          404.4598388671875,
          422.7723083496094,
          429.30987548828125,
          417.56622314453125,
          416.1467590332031,
          423.73211669921875,
          415.6724853515625,
          413.8494567871094,
          414.1466369628906,
          404.7747802734375,
          399.4183654785156,
          414.47418212890625,
          419.3844909667969,
          416.5811767578125,
          436.807861328125,
          443.4512023925781,
          465.904296875,
          470.8287658691406,
          465.82391357421875,
          441.20697021484375,
          433.78045654296875,
          428.5660705566406,
          409.218017578125,
          403.8351745605469,
          410.86114501953125,
          403.3858337402344,
          401.9863586425781,
          428.6714782714844,
          455.3016357421875,
          435.5270080566406,
          415.39324951171875,
          413.30633544921875,
          428.99212646484375,
          427.821533203125,
          426.9407958984375,
          429.1438903808594,
          424.0718078613281,
          440.7464599609375,
          437.6849670410156,
          400.5986022949219,
          395.6072998046875,
          427.91839599609375,
          411.2338562011719,
          416.18243408203125,
          460.0582580566406,
          474.3538513183594,
          460.6784973144531,
          457.06158447265625,
          467.8639221191406,
          492.0717468261719,
          494.93853759765625,
          515.3129272460938,
          517.793701171875,
          495.7857360839844,
          521.4976806640625,
          538.1570434570312,
          515.3533935546875,
          508.9106140136719,
          506.8332214355469,
          511.8580627441406,
          514.2887573242188,
          506.7876892089844,
          515.9690551757812,
          502.4067077636719,
          471.5453796386719,
          492.10479736328125,
          486.9217224121094,
          458.49981689453125,
          469.8397521972656,
          480.3993225097656,
          479.4779968261719,
          472.2350158691406,
          469.37774658203125,
          466.59783935546875,
          476.0621337890625,
          487.0047607421875,
          485.4051513671875,
          498.29449462890625,
          504.7666320800781,
          501.9981384277344,
          519.1856079101562,
          517.9071655273438,
          509.69537353515625,
          509.8902893066406,
          489.1852111816406,
          478.1965637207031,
          462.9112854003906,
          457.8685607910156,
          474.54119873046875,
          475.3397521972656,
          473.3617248535156,
          473.4875183105469,
          486.2022399902344,
          475.47186279296875,
          506.0109558105469,
          503.5877380371094,
          476.2936706542969,
          475.81298828125,
          473.1900329589844,
          466.7464599609375,
          null,
          null,
          null,
          null,
          null,
          null,
          null,
          null,
          null,
          null,
          null,
          null,
          null,
          null,
          null,
          null,
          null,
          null,
          null,
          null,
          null,
          null,
          null,
          null,
          null,
          null,
          null,
          null,
          null,
          null,
          null,
          null,
          null,
          null,
          null,
          null,
          null,
          null,
          null,
          null,
          null,
          null,
          null,
          null,
          null,
          null,
          null,
          null,
          null,
          null,
          null,
          null,
          null,
          null,
          null,
          null,
          null,
          null,
          null,
          null,
          null,
          null
         ],
         "type": "scatter"
        },
        {
         "name": "Predict with Test set",
         "x": [
          0,
          1,
          2,
          3,
          4,
          5,
          6,
          7,
          8,
          9,
          10,
          11,
          12,
          13,
          14,
          15,
          16,
          17,
          18,
          19,
          20,
          21,
          22,
          23,
          24,
          25,
          26,
          27,
          28,
          29,
          30,
          31,
          32,
          33,
          34,
          35,
          36,
          37,
          38,
          39,
          40,
          41,
          42,
          43,
          44,
          45,
          46,
          47,
          48,
          49,
          50,
          51,
          52,
          53,
          54,
          55,
          56,
          57,
          58,
          59,
          60,
          61,
          62,
          63,
          64,
          65,
          66,
          67,
          68,
          69,
          70,
          71,
          72,
          73,
          74,
          75,
          76,
          77,
          78,
          79,
          80,
          81,
          82,
          83,
          84,
          85,
          86,
          87,
          88,
          89,
          90,
          91,
          92,
          93,
          94,
          95,
          96,
          97,
          98,
          99,
          100,
          101,
          102,
          103,
          104,
          105,
          106,
          107,
          108,
          109,
          110,
          111,
          112,
          113,
          114,
          115,
          116,
          117,
          118,
          119,
          120,
          121,
          122,
          123,
          124,
          125,
          126,
          127,
          128,
          129,
          130,
          131,
          132,
          133,
          134,
          135,
          136,
          137,
          138,
          139,
          140,
          141,
          142,
          143,
          144,
          145,
          146,
          147,
          148,
          149,
          150,
          151,
          152,
          153,
          154,
          155,
          156,
          157,
          158,
          159,
          160,
          161,
          162,
          163,
          164,
          165,
          166,
          167,
          168,
          169,
          170,
          171,
          172,
          173,
          174,
          175,
          176,
          177,
          178,
          179,
          180,
          181,
          182,
          183,
          184,
          185,
          186,
          187,
          188,
          189,
          190,
          191,
          192,
          193,
          194,
          195,
          196,
          197,
          198,
          199,
          200,
          201,
          202,
          203
         ],
         "y": [
          null,
          null,
          null,
          null,
          null,
          null,
          null,
          null,
          null,
          null,
          null,
          null,
          null,
          null,
          null,
          null,
          null,
          null,
          null,
          null,
          null,
          null,
          null,
          null,
          null,
          null,
          null,
          null,
          null,
          null,
          null,
          null,
          null,
          null,
          null,
          null,
          null,
          null,
          null,
          null,
          null,
          null,
          null,
          null,
          null,
          null,
          null,
          null,
          null,
          null,
          null,
          null,
          null,
          null,
          null,
          null,
          null,
          null,
          null,
          null,
          null,
          null,
          null,
          null,
          null,
          null,
          null,
          null,
          null,
          null,
          null,
          null,
          null,
          null,
          null,
          null,
          null,
          null,
          null,
          null,
          null,
          null,
          null,
          null,
          null,
          null,
          null,
          null,
          null,
          null,
          null,
          null,
          null,
          null,
          null,
          null,
          null,
          null,
          null,
          null,
          null,
          null,
          null,
          null,
          null,
          null,
          null,
          null,
          null,
          null,
          null,
          null,
          null,
          null,
          null,
          null,
          null,
          null,
          null,
          null,
          null,
          null,
          null,
          null,
          null,
          null,
          null,
          null,
          null,
          null,
          null,
          null,
          null,
          null,
          null,
          null,
          null,
          null,
          null,
          null,
          null,
          null,
          null,
          468.8487854003906,
          462.3815612792969,
          470.0481872558594,
          471.666015625,
          450.2789001464844,
          450.1514892578125,
          437.8280029296875,
          449.5263977050781,
          446.0055847167969,
          422.4465026855469,
          397.3498840332031,
          402.78631591796875,
          431.2441101074219,
          456.25360107421875,
          434.92755126953125,
          444.0264892578125,
          439.07080078125,
          440.80718994140625,
          467.0698547363281,
          463.44873046875,
          452.8752746582031,
          437.0940246582031,
          442.09088134765625,
          473.2524108886719,
          451.9600830078125,
          440.16644287109375,
          434.1320495605469,
          415.275390625,
          426.6798400878906,
          424.10260009765625,
          429.2236328125,
          435.7560119628906,
          404.7974548339844,
          419.21539306640625,
          456.3287658691406,
          446.6041259765625,
          432.7795715332031,
          438.11138916015625,
          451.48046875,
          463.20147705078125,
          468.86859130859375,
          478.4291076660156,
          497.1529541015625,
          486.77886962890625,
          463.2362976074219,
          474.1914367675781,
          509.08526611328125,
          500.4237976074219,
          487.80303955078125,
          464.6782531738281,
          461.1630554199219,
          482.6788330078125,
          497.6156921386719,
          503.8297424316406,
          512.8875732421875,
          501.48284912109375,
          496.2697448730469,
          496.1847839355469,
          491.1831970214844,
          484.6039123535156,
          null
         ],
         "type": "scatter"
        }
       ],
       "layout": {
        "template": {
         "data": {
          "histogram2dcontour": [
           {
            "type": "histogram2dcontour",
            "colorbar": {
             "outlinewidth": 0,
             "ticks": ""
            },
            "colorscale": [
             [
              0.0,
              "#0d0887"
             ],
             [
              0.1111111111111111,
              "#46039f"
             ],
             [
              0.2222222222222222,
              "#7201a8"
             ],
             [
              0.3333333333333333,
              "#9c179e"
             ],
             [
              0.4444444444444444,
              "#bd3786"
             ],
             [
              0.5555555555555556,
              "#d8576b"
             ],
             [
              0.6666666666666666,
              "#ed7953"
             ],
             [
              0.7777777777777778,
              "#fb9f3a"
             ],
             [
              0.8888888888888888,
              "#fdca26"
             ],
             [
              1.0,
              "#f0f921"
             ]
            ]
           }
          ],
          "choropleth": [
           {
            "type": "choropleth",
            "colorbar": {
             "outlinewidth": 0,
             "ticks": ""
            }
           }
          ],
          "histogram2d": [
           {
            "type": "histogram2d",
            "colorbar": {
             "outlinewidth": 0,
             "ticks": ""
            },
            "colorscale": [
             [
              0.0,
              "#0d0887"
             ],
             [
              0.1111111111111111,
              "#46039f"
             ],
             [
              0.2222222222222222,
              "#7201a8"
             ],
             [
              0.3333333333333333,
              "#9c179e"
             ],
             [
              0.4444444444444444,
              "#bd3786"
             ],
             [
              0.5555555555555556,
              "#d8576b"
             ],
             [
              0.6666666666666666,
              "#ed7953"
             ],
             [
              0.7777777777777778,
              "#fb9f3a"
             ],
             [
              0.8888888888888888,
              "#fdca26"
             ],
             [
              1.0,
              "#f0f921"
             ]
            ]
           }
          ],
          "heatmap": [
           {
            "type": "heatmap",
            "colorbar": {
             "outlinewidth": 0,
             "ticks": ""
            },
            "colorscale": [
             [
              0.0,
              "#0d0887"
             ],
             [
              0.1111111111111111,
              "#46039f"
             ],
             [
              0.2222222222222222,
              "#7201a8"
             ],
             [
              0.3333333333333333,
              "#9c179e"
             ],
             [
              0.4444444444444444,
              "#bd3786"
             ],
             [
              0.5555555555555556,
              "#d8576b"
             ],
             [
              0.6666666666666666,
              "#ed7953"
             ],
             [
              0.7777777777777778,
              "#fb9f3a"
             ],
             [
              0.8888888888888888,
              "#fdca26"
             ],
             [
              1.0,
              "#f0f921"
             ]
            ]
           }
          ],
          "heatmapgl": [
           {
            "type": "heatmapgl",
            "colorbar": {
             "outlinewidth": 0,
             "ticks": ""
            },
            "colorscale": [
             [
              0.0,
              "#0d0887"
             ],
             [
              0.1111111111111111,
              "#46039f"
             ],
             [
              0.2222222222222222,
              "#7201a8"
             ],
             [
              0.3333333333333333,
              "#9c179e"
             ],
             [
              0.4444444444444444,
              "#bd3786"
             ],
             [
              0.5555555555555556,
              "#d8576b"
             ],
             [
              0.6666666666666666,
              "#ed7953"
             ],
             [
              0.7777777777777778,
              "#fb9f3a"
             ],
             [
              0.8888888888888888,
              "#fdca26"
             ],
             [
              1.0,
              "#f0f921"
             ]
            ]
           }
          ],
          "contourcarpet": [
           {
            "type": "contourcarpet",
            "colorbar": {
             "outlinewidth": 0,
             "ticks": ""
            }
           }
          ],
          "contour": [
           {
            "type": "contour",
            "colorbar": {
             "outlinewidth": 0,
             "ticks": ""
            },
            "colorscale": [
             [
              0.0,
              "#0d0887"
             ],
             [
              0.1111111111111111,
              "#46039f"
             ],
             [
              0.2222222222222222,
              "#7201a8"
             ],
             [
              0.3333333333333333,
              "#9c179e"
             ],
             [
              0.4444444444444444,
              "#bd3786"
             ],
             [
              0.5555555555555556,
              "#d8576b"
             ],
             [
              0.6666666666666666,
              "#ed7953"
             ],
             [
              0.7777777777777778,
              "#fb9f3a"
             ],
             [
              0.8888888888888888,
              "#fdca26"
             ],
             [
              1.0,
              "#f0f921"
             ]
            ]
           }
          ],
          "surface": [
           {
            "type": "surface",
            "colorbar": {
             "outlinewidth": 0,
             "ticks": ""
            },
            "colorscale": [
             [
              0.0,
              "#0d0887"
             ],
             [
              0.1111111111111111,
              "#46039f"
             ],
             [
              0.2222222222222222,
              "#7201a8"
             ],
             [
              0.3333333333333333,
              "#9c179e"
             ],
             [
              0.4444444444444444,
              "#bd3786"
             ],
             [
              0.5555555555555556,
              "#d8576b"
             ],
             [
              0.6666666666666666,
              "#ed7953"
             ],
             [
              0.7777777777777778,
              "#fb9f3a"
             ],
             [
              0.8888888888888888,
              "#fdca26"
             ],
             [
              1.0,
              "#f0f921"
             ]
            ]
           }
          ],
          "mesh3d": [
           {
            "type": "mesh3d",
            "colorbar": {
             "outlinewidth": 0,
             "ticks": ""
            }
           }
          ],
          "scatter": [
           {
            "marker": {
             "line": {
              "color": "#283442"
             }
            },
            "type": "scatter"
           }
          ],
          "parcoords": [
           {
            "type": "parcoords",
            "line": {
             "colorbar": {
              "outlinewidth": 0,
              "ticks": ""
             }
            }
           }
          ],
          "scatterpolargl": [
           {
            "type": "scatterpolargl",
            "marker": {
             "colorbar": {
              "outlinewidth": 0,
              "ticks": ""
             }
            }
           }
          ],
          "bar": [
           {
            "error_x": {
             "color": "#f2f5fa"
            },
            "error_y": {
             "color": "#f2f5fa"
            },
            "marker": {
             "line": {
              "color": "rgb(17,17,17)",
              "width": 0.5
             },
             "pattern": {
              "fillmode": "overlay",
              "size": 10,
              "solidity": 0.2
             }
            },
            "type": "bar"
           }
          ],
          "scattergeo": [
           {
            "type": "scattergeo",
            "marker": {
             "colorbar": {
              "outlinewidth": 0,
              "ticks": ""
             }
            }
           }
          ],
          "scatterpolar": [
           {
            "type": "scatterpolar",
            "marker": {
             "colorbar": {
              "outlinewidth": 0,
              "ticks": ""
             }
            }
           }
          ],
          "histogram": [
           {
            "marker": {
             "pattern": {
              "fillmode": "overlay",
              "size": 10,
              "solidity": 0.2
             }
            },
            "type": "histogram"
           }
          ],
          "scattergl": [
           {
            "marker": {
             "line": {
              "color": "#283442"
             }
            },
            "type": "scattergl"
           }
          ],
          "scatter3d": [
           {
            "type": "scatter3d",
            "line": {
             "colorbar": {
              "outlinewidth": 0,
              "ticks": ""
             }
            },
            "marker": {
             "colorbar": {
              "outlinewidth": 0,
              "ticks": ""
             }
            }
           }
          ],
          "scattermapbox": [
           {
            "type": "scattermapbox",
            "marker": {
             "colorbar": {
              "outlinewidth": 0,
              "ticks": ""
             }
            }
           }
          ],
          "scatterternary": [
           {
            "type": "scatterternary",
            "marker": {
             "colorbar": {
              "outlinewidth": 0,
              "ticks": ""
             }
            }
           }
          ],
          "scattercarpet": [
           {
            "type": "scattercarpet",
            "marker": {
             "colorbar": {
              "outlinewidth": 0,
              "ticks": ""
             }
            }
           }
          ],
          "carpet": [
           {
            "aaxis": {
             "endlinecolor": "#A2B1C6",
             "gridcolor": "#506784",
             "linecolor": "#506784",
             "minorgridcolor": "#506784",
             "startlinecolor": "#A2B1C6"
            },
            "baxis": {
             "endlinecolor": "#A2B1C6",
             "gridcolor": "#506784",
             "linecolor": "#506784",
             "minorgridcolor": "#506784",
             "startlinecolor": "#A2B1C6"
            },
            "type": "carpet"
           }
          ],
          "table": [
           {
            "cells": {
             "fill": {
              "color": "#506784"
             },
             "line": {
              "color": "rgb(17,17,17)"
             }
            },
            "header": {
             "fill": {
              "color": "#2a3f5f"
             },
             "line": {
              "color": "rgb(17,17,17)"
             }
            },
            "type": "table"
           }
          ],
          "barpolar": [
           {
            "marker": {
             "line": {
              "color": "rgb(17,17,17)",
              "width": 0.5
             },
             "pattern": {
              "fillmode": "overlay",
              "size": 10,
              "solidity": 0.2
             }
            },
            "type": "barpolar"
           }
          ],
          "pie": [
           {
            "automargin": true,
            "type": "pie"
           }
          ]
         },
         "layout": {
          "autotypenumbers": "strict",
          "colorway": [
           "#636efa",
           "#EF553B",
           "#00cc96",
           "#ab63fa",
           "#FFA15A",
           "#19d3f3",
           "#FF6692",
           "#B6E880",
           "#FF97FF",
           "#FECB52"
          ],
          "font": {
           "color": "#f2f5fa"
          },
          "hovermode": "closest",
          "hoverlabel": {
           "align": "left"
          },
          "paper_bgcolor": "rgb(17,17,17)",
          "plot_bgcolor": "rgb(17,17,17)",
          "polar": {
           "bgcolor": "rgb(17,17,17)",
           "angularaxis": {
            "gridcolor": "#506784",
            "linecolor": "#506784",
            "ticks": ""
           },
           "radialaxis": {
            "gridcolor": "#506784",
            "linecolor": "#506784",
            "ticks": ""
           }
          },
          "ternary": {
           "bgcolor": "rgb(17,17,17)",
           "aaxis": {
            "gridcolor": "#506784",
            "linecolor": "#506784",
            "ticks": ""
           },
           "baxis": {
            "gridcolor": "#506784",
            "linecolor": "#506784",
            "ticks": ""
           },
           "caxis": {
            "gridcolor": "#506784",
            "linecolor": "#506784",
            "ticks": ""
           }
          },
          "coloraxis": {
           "colorbar": {
            "outlinewidth": 0,
            "ticks": ""
           }
          },
          "colorscale": {
           "sequential": [
            [
             0.0,
             "#0d0887"
            ],
            [
             0.1111111111111111,
             "#46039f"
            ],
            [
             0.2222222222222222,
             "#7201a8"
            ],
            [
             0.3333333333333333,
             "#9c179e"
            ],
            [
             0.4444444444444444,
             "#bd3786"
            ],
            [
             0.5555555555555556,
             "#d8576b"
            ],
            [
             0.6666666666666666,
             "#ed7953"
            ],
            [
             0.7777777777777778,
             "#fb9f3a"
            ],
            [
             0.8888888888888888,
             "#fdca26"
            ],
            [
             1.0,
             "#f0f921"
            ]
           ],
           "sequentialminus": [
            [
             0.0,
             "#0d0887"
            ],
            [
             0.1111111111111111,
             "#46039f"
            ],
            [
             0.2222222222222222,
             "#7201a8"
            ],
            [
             0.3333333333333333,
             "#9c179e"
            ],
            [
             0.4444444444444444,
             "#bd3786"
            ],
            [
             0.5555555555555556,
             "#d8576b"
            ],
            [
             0.6666666666666666,
             "#ed7953"
            ],
            [
             0.7777777777777778,
             "#fb9f3a"
            ],
            [
             0.8888888888888888,
             "#fdca26"
            ],
            [
             1.0,
             "#f0f921"
            ]
           ],
           "diverging": [
            [
             0,
             "#8e0152"
            ],
            [
             0.1,
             "#c51b7d"
            ],
            [
             0.2,
             "#de77ae"
            ],
            [
             0.3,
             "#f1b6da"
            ],
            [
             0.4,
             "#fde0ef"
            ],
            [
             0.5,
             "#f7f7f7"
            ],
            [
             0.6,
             "#e6f5d0"
            ],
            [
             0.7,
             "#b8e186"
            ],
            [
             0.8,
             "#7fbc41"
            ],
            [
             0.9,
             "#4d9221"
            ],
            [
             1,
             "#276419"
            ]
           ]
          },
          "xaxis": {
           "gridcolor": "#283442",
           "linecolor": "#506784",
           "ticks": "",
           "title": {
            "standoff": 15
           },
           "zerolinecolor": "#283442",
           "automargin": true,
           "zerolinewidth": 2
          },
          "yaxis": {
           "gridcolor": "#283442",
           "linecolor": "#506784",
           "ticks": "",
           "title": {
            "standoff": 15
           },
           "zerolinecolor": "#283442",
           "automargin": true,
           "zerolinewidth": 2
          },
          "scene": {
           "xaxis": {
            "backgroundcolor": "rgb(17,17,17)",
            "gridcolor": "#506784",
            "linecolor": "#506784",
            "showbackground": true,
            "ticks": "",
            "zerolinecolor": "#C8D4E3",
            "gridwidth": 2
           },
           "yaxis": {
            "backgroundcolor": "rgb(17,17,17)",
            "gridcolor": "#506784",
            "linecolor": "#506784",
            "showbackground": true,
            "ticks": "",
            "zerolinecolor": "#C8D4E3",
            "gridwidth": 2
           },
           "zaxis": {
            "backgroundcolor": "rgb(17,17,17)",
            "gridcolor": "#506784",
            "linecolor": "#506784",
            "showbackground": true,
            "ticks": "",
            "zerolinecolor": "#C8D4E3",
            "gridwidth": 2
           }
          },
          "shapedefaults": {
           "line": {
            "color": "#f2f5fa"
           }
          },
          "annotationdefaults": {
           "arrowcolor": "#f2f5fa",
           "arrowhead": 0,
           "arrowwidth": 1
          },
          "geo": {
           "bgcolor": "rgb(17,17,17)",
           "landcolor": "rgb(17,17,17)",
           "subunitcolor": "#506784",
           "showland": true,
           "showlakes": true,
           "lakecolor": "rgb(17,17,17)"
          },
          "title": {
           "x": 0.05
          },
          "updatemenudefaults": {
           "bgcolor": "#506784",
           "borderwidth": 0
          },
          "sliderdefaults": {
           "bgcolor": "#C8D4E3",
           "borderwidth": 1,
           "bordercolor": "rgb(17,17,17)",
           "tickwidth": 0
          },
          "mapbox": {
           "style": "dark"
          }
         }
        },
        "width": 1024,
        "height": 500,
        "title": {
         "text": "[LSTM] Prediction for Stolen Vehicle (Code 510)"
        },
        "xaxis": {
         "title": {
          "text": "Weeks"
         }
        },
        "yaxis": {
         "title": {
          "text": "Number of crimes"
         }
        }
       },
       "config": {
        "plotlyServerURL": "https://plot.ly"
       }
      },
      "text/html": "<div>                            <div id=\"e0165be3-1333-4e8c-8b9f-fa2004cc17ca\" class=\"plotly-graph-div\" style=\"height:500px; width:1024px;\"></div>            <script type=\"text/javascript\">                require([\"plotly\"], function(Plotly) {                    window.PLOTLYENV=window.PLOTLYENV || {};                                    if (document.getElementById(\"e0165be3-1333-4e8c-8b9f-fa2004cc17ca\")) {                    Plotly.newPlot(                        \"e0165be3-1333-4e8c-8b9f-fa2004cc17ca\",                        [{\"name\":\"Original dataset\",\"x\":[0,1,2,3,4,5,6,7,8,9,10,11,12,13,14,15,16,17,18,19,20,21,22,23,24,25,26,27,28,29,30,31,32,33,34,35,36,37,38,39,40,41,42,43,44,45,46,47,48,49,50,51,52,53,54,55,56,57,58,59,60,61,62,63,64,65,66,67,68,69,70,71,72,73,74,75,76,77,78,79,80,81,82,83,84,85,86,87,88,89,90,91,92,93,94,95,96,97,98,99,100,101,102,103,104,105,106,107,108,109,110,111,112,113,114,115,116,117,118,119,120,121,122,123,124,125,126,127,128,129,130,131,132,133,134,135,136,137,138,139,140,141,142,143,144,145,146,147,148,149,150,151,152,153,154,155,156,157,158,159,160,161,162,163,164,165,166,167,168,169,170,171,172,173,174,175,176,177,178,179,180,181,182,183,184,185,186,187,188,189,190,191,192,193,194,195,196,197,198,199,200,201,202,203],\"y\":[196.0,346.0,308.0,317.0,343.0,312.0,310.0,307.0,306.0,322.0,337.0,307.0,363.0,413.0,416.0,412.0,443.0,394.0,450.0,414.0,435.0,400.0,460.0,468.0,495.0,513.0,523.0,432.0,439.0,439.0,441.0,415.00000000000006,421.0,382.0,430.0,386.0,375.0,389.0,372.0,388.0,416.0,383.0,442.0,412.0,411.0,409.0,425.0,398.0,414.0,403.0,393.0,390.0,421.0,408.0,412.0,448.00000000000006,435.0,488.0,460.0,469.99999999999994,415.00000000000006,440.0,412.0,395.0,397.0,409.0,386.0,400.0,441.0,463.0,409.0,409.0,405.0,438.0,412.0,429.0,421.0,417.0,452.0,421.0,372.0,398.0,441.0,378.0,433.0,478.0,474.0,450.0,460.0,474.0,512.0,491.0,547.0,513.0,492.0,559.0,547.0,508.0,522.0,508.0,528.0,519.0,510.0,535.0,490.0,460.0,522.0,468.0,450.0,485.0,480.99999999999994,482.0,467.0,472.0,463.0,488.0,492.0,486.0,516.0,508.0,508.0,543.0,516.0,518.0,517.0,476.0,483.0,448.00000000000006,463.0,485.0,471.0,477.0,473.0,501.0,460.0,550.0,482.0,475.0,479.0,471.0,464.0,511.0,474.0,466.0,458.99999999999994,479.0,468.0,434.0,458.0,417.0,469.0,425.0,411.0,373.0,411.0,438.0,467.0,405.0,467.0,413.0,455.0,476.0,454.0,449.0,422.0,451.0,491.0,421.0,448.00000000000006,417.0,403.0,435.0,407.0,437.00000000000006,428.0,375.0,441.0,465.0,429.0,428.0,439.0,457.0,467.0,471.0,487.0,513.0,474.0,455.0,490.0,535.0,486.0,495.0,443.0,473.0,494.0,509.0,511.0,528.0,493.0,507.0,497.0,494.0,483.0,19.0],\"type\":\"scatter\"},{\"name\":\"Predict with Train set\",\"x\":[0,1,2,3,4,5,6,7,8,9,10,11,12,13,14,15,16,17,18,19,20,21,22,23,24,25,26,27,28,29,30,31,32,33,34,35,36,37,38,39,40,41,42,43,44,45,46,47,48,49,50,51,52,53,54,55,56,57,58,59,60,61,62,63,64,65,66,67,68,69,70,71,72,73,74,75,76,77,78,79,80,81,82,83,84,85,86,87,88,89,90,91,92,93,94,95,96,97,98,99,100,101,102,103,104,105,106,107,108,109,110,111,112,113,114,115,116,117,118,119,120,121,122,123,124,125,126,127,128,129,130,131,132,133,134,135,136,137,138,139,140,141,142,143,144,145,146,147,148,149,150,151,152,153,154,155,156,157,158,159,160,161,162,163,164,165,166,167,168,169,170,171,172,173,174,175,176,177,178,179,180,181,182,183,184,185,186,187,188,189,190,191,192,193,194,195,196,197,198,199,200,201,202,203],\"y\":[null,null,301.0643615722656,338.8944091796875,329.07086181640625,345.8732604980469,339.81231689453125,327.0162353515625,324.7281188964844,323.0817565917969,330.86676025390625,344.6893310546875,334.9681396484375,352.3827209472656,400.0120849609375,420.5484313964844,419.5915222167969,434.2146301269531,420.3192138671875,431.0902099609375,433.3166198730469,430.809814453125,420.45849609375,438.5334777832031,464.8028564453125,481.3960876464844,499.95318603515625,511.12164306640625,469.0699462890625,439.5980224609375,442.1931457519531,443.2270812988281,430.4964599609375,423.90374755859375,405.8205261230469,416.13641357421875,411.2888488769531,388.918701171875,392.04632568359375,388.4917297363281,390.3785400390625,411.1056213378906,404.4598388671875,422.7723083496094,429.30987548828125,417.56622314453125,416.1467590332031,423.73211669921875,415.6724853515625,413.8494567871094,414.1466369628906,404.7747802734375,399.4183654785156,414.47418212890625,419.3844909667969,416.5811767578125,436.807861328125,443.4512023925781,465.904296875,470.8287658691406,465.82391357421875,441.20697021484375,433.78045654296875,428.5660705566406,409.218017578125,403.8351745605469,410.86114501953125,403.3858337402344,401.9863586425781,428.6714782714844,455.3016357421875,435.5270080566406,415.39324951171875,413.30633544921875,428.99212646484375,427.821533203125,426.9407958984375,429.1438903808594,424.0718078613281,440.7464599609375,437.6849670410156,400.5986022949219,395.6072998046875,427.91839599609375,411.2338562011719,416.18243408203125,460.0582580566406,474.3538513183594,460.6784973144531,457.06158447265625,467.8639221191406,492.0717468261719,494.93853759765625,515.3129272460938,517.793701171875,495.7857360839844,521.4976806640625,538.1570434570312,515.3533935546875,508.9106140136719,506.8332214355469,511.8580627441406,514.2887573242188,506.7876892089844,515.9690551757812,502.4067077636719,471.5453796386719,492.10479736328125,486.9217224121094,458.49981689453125,469.8397521972656,480.3993225097656,479.4779968261719,472.2350158691406,469.37774658203125,466.59783935546875,476.0621337890625,487.0047607421875,485.4051513671875,498.29449462890625,504.7666320800781,501.9981384277344,519.1856079101562,517.9071655273438,509.69537353515625,509.8902893066406,489.1852111816406,478.1965637207031,462.9112854003906,457.8685607910156,474.54119873046875,475.3397521972656,473.3617248535156,473.4875183105469,486.2022399902344,475.47186279296875,506.0109558105469,503.5877380371094,476.2936706542969,475.81298828125,473.1900329589844,466.7464599609375,null,null,null,null,null,null,null,null,null,null,null,null,null,null,null,null,null,null,null,null,null,null,null,null,null,null,null,null,null,null,null,null,null,null,null,null,null,null,null,null,null,null,null,null,null,null,null,null,null,null,null,null,null,null,null,null,null,null,null,null,null,null],\"type\":\"scatter\"},{\"name\":\"Predict with Test set\",\"x\":[0,1,2,3,4,5,6,7,8,9,10,11,12,13,14,15,16,17,18,19,20,21,22,23,24,25,26,27,28,29,30,31,32,33,34,35,36,37,38,39,40,41,42,43,44,45,46,47,48,49,50,51,52,53,54,55,56,57,58,59,60,61,62,63,64,65,66,67,68,69,70,71,72,73,74,75,76,77,78,79,80,81,82,83,84,85,86,87,88,89,90,91,92,93,94,95,96,97,98,99,100,101,102,103,104,105,106,107,108,109,110,111,112,113,114,115,116,117,118,119,120,121,122,123,124,125,126,127,128,129,130,131,132,133,134,135,136,137,138,139,140,141,142,143,144,145,146,147,148,149,150,151,152,153,154,155,156,157,158,159,160,161,162,163,164,165,166,167,168,169,170,171,172,173,174,175,176,177,178,179,180,181,182,183,184,185,186,187,188,189,190,191,192,193,194,195,196,197,198,199,200,201,202,203],\"y\":[null,null,null,null,null,null,null,null,null,null,null,null,null,null,null,null,null,null,null,null,null,null,null,null,null,null,null,null,null,null,null,null,null,null,null,null,null,null,null,null,null,null,null,null,null,null,null,null,null,null,null,null,null,null,null,null,null,null,null,null,null,null,null,null,null,null,null,null,null,null,null,null,null,null,null,null,null,null,null,null,null,null,null,null,null,null,null,null,null,null,null,null,null,null,null,null,null,null,null,null,null,null,null,null,null,null,null,null,null,null,null,null,null,null,null,null,null,null,null,null,null,null,null,null,null,null,null,null,null,null,null,null,null,null,null,null,null,null,null,null,null,null,null,468.8487854003906,462.3815612792969,470.0481872558594,471.666015625,450.2789001464844,450.1514892578125,437.8280029296875,449.5263977050781,446.0055847167969,422.4465026855469,397.3498840332031,402.78631591796875,431.2441101074219,456.25360107421875,434.92755126953125,444.0264892578125,439.07080078125,440.80718994140625,467.0698547363281,463.44873046875,452.8752746582031,437.0940246582031,442.09088134765625,473.2524108886719,451.9600830078125,440.16644287109375,434.1320495605469,415.275390625,426.6798400878906,424.10260009765625,429.2236328125,435.7560119628906,404.7974548339844,419.21539306640625,456.3287658691406,446.6041259765625,432.7795715332031,438.11138916015625,451.48046875,463.20147705078125,468.86859130859375,478.4291076660156,497.1529541015625,486.77886962890625,463.2362976074219,474.1914367675781,509.08526611328125,500.4237976074219,487.80303955078125,464.6782531738281,461.1630554199219,482.6788330078125,497.6156921386719,503.8297424316406,512.8875732421875,501.48284912109375,496.2697448730469,496.1847839355469,491.1831970214844,484.6039123535156,null],\"type\":\"scatter\"}],                        {\"template\":{\"data\":{\"histogram2dcontour\":[{\"type\":\"histogram2dcontour\",\"colorbar\":{\"outlinewidth\":0,\"ticks\":\"\"},\"colorscale\":[[0.0,\"#0d0887\"],[0.1111111111111111,\"#46039f\"],[0.2222222222222222,\"#7201a8\"],[0.3333333333333333,\"#9c179e\"],[0.4444444444444444,\"#bd3786\"],[0.5555555555555556,\"#d8576b\"],[0.6666666666666666,\"#ed7953\"],[0.7777777777777778,\"#fb9f3a\"],[0.8888888888888888,\"#fdca26\"],[1.0,\"#f0f921\"]]}],\"choropleth\":[{\"type\":\"choropleth\",\"colorbar\":{\"outlinewidth\":0,\"ticks\":\"\"}}],\"histogram2d\":[{\"type\":\"histogram2d\",\"colorbar\":{\"outlinewidth\":0,\"ticks\":\"\"},\"colorscale\":[[0.0,\"#0d0887\"],[0.1111111111111111,\"#46039f\"],[0.2222222222222222,\"#7201a8\"],[0.3333333333333333,\"#9c179e\"],[0.4444444444444444,\"#bd3786\"],[0.5555555555555556,\"#d8576b\"],[0.6666666666666666,\"#ed7953\"],[0.7777777777777778,\"#fb9f3a\"],[0.8888888888888888,\"#fdca26\"],[1.0,\"#f0f921\"]]}],\"heatmap\":[{\"type\":\"heatmap\",\"colorbar\":{\"outlinewidth\":0,\"ticks\":\"\"},\"colorscale\":[[0.0,\"#0d0887\"],[0.1111111111111111,\"#46039f\"],[0.2222222222222222,\"#7201a8\"],[0.3333333333333333,\"#9c179e\"],[0.4444444444444444,\"#bd3786\"],[0.5555555555555556,\"#d8576b\"],[0.6666666666666666,\"#ed7953\"],[0.7777777777777778,\"#fb9f3a\"],[0.8888888888888888,\"#fdca26\"],[1.0,\"#f0f921\"]]}],\"heatmapgl\":[{\"type\":\"heatmapgl\",\"colorbar\":{\"outlinewidth\":0,\"ticks\":\"\"},\"colorscale\":[[0.0,\"#0d0887\"],[0.1111111111111111,\"#46039f\"],[0.2222222222222222,\"#7201a8\"],[0.3333333333333333,\"#9c179e\"],[0.4444444444444444,\"#bd3786\"],[0.5555555555555556,\"#d8576b\"],[0.6666666666666666,\"#ed7953\"],[0.7777777777777778,\"#fb9f3a\"],[0.8888888888888888,\"#fdca26\"],[1.0,\"#f0f921\"]]}],\"contourcarpet\":[{\"type\":\"contourcarpet\",\"colorbar\":{\"outlinewidth\":0,\"ticks\":\"\"}}],\"contour\":[{\"type\":\"contour\",\"colorbar\":{\"outlinewidth\":0,\"ticks\":\"\"},\"colorscale\":[[0.0,\"#0d0887\"],[0.1111111111111111,\"#46039f\"],[0.2222222222222222,\"#7201a8\"],[0.3333333333333333,\"#9c179e\"],[0.4444444444444444,\"#bd3786\"],[0.5555555555555556,\"#d8576b\"],[0.6666666666666666,\"#ed7953\"],[0.7777777777777778,\"#fb9f3a\"],[0.8888888888888888,\"#fdca26\"],[1.0,\"#f0f921\"]]}],\"surface\":[{\"type\":\"surface\",\"colorbar\":{\"outlinewidth\":0,\"ticks\":\"\"},\"colorscale\":[[0.0,\"#0d0887\"],[0.1111111111111111,\"#46039f\"],[0.2222222222222222,\"#7201a8\"],[0.3333333333333333,\"#9c179e\"],[0.4444444444444444,\"#bd3786\"],[0.5555555555555556,\"#d8576b\"],[0.6666666666666666,\"#ed7953\"],[0.7777777777777778,\"#fb9f3a\"],[0.8888888888888888,\"#fdca26\"],[1.0,\"#f0f921\"]]}],\"mesh3d\":[{\"type\":\"mesh3d\",\"colorbar\":{\"outlinewidth\":0,\"ticks\":\"\"}}],\"scatter\":[{\"marker\":{\"line\":{\"color\":\"#283442\"}},\"type\":\"scatter\"}],\"parcoords\":[{\"type\":\"parcoords\",\"line\":{\"colorbar\":{\"outlinewidth\":0,\"ticks\":\"\"}}}],\"scatterpolargl\":[{\"type\":\"scatterpolargl\",\"marker\":{\"colorbar\":{\"outlinewidth\":0,\"ticks\":\"\"}}}],\"bar\":[{\"error_x\":{\"color\":\"#f2f5fa\"},\"error_y\":{\"color\":\"#f2f5fa\"},\"marker\":{\"line\":{\"color\":\"rgb(17,17,17)\",\"width\":0.5},\"pattern\":{\"fillmode\":\"overlay\",\"size\":10,\"solidity\":0.2}},\"type\":\"bar\"}],\"scattergeo\":[{\"type\":\"scattergeo\",\"marker\":{\"colorbar\":{\"outlinewidth\":0,\"ticks\":\"\"}}}],\"scatterpolar\":[{\"type\":\"scatterpolar\",\"marker\":{\"colorbar\":{\"outlinewidth\":0,\"ticks\":\"\"}}}],\"histogram\":[{\"marker\":{\"pattern\":{\"fillmode\":\"overlay\",\"size\":10,\"solidity\":0.2}},\"type\":\"histogram\"}],\"scattergl\":[{\"marker\":{\"line\":{\"color\":\"#283442\"}},\"type\":\"scattergl\"}],\"scatter3d\":[{\"type\":\"scatter3d\",\"line\":{\"colorbar\":{\"outlinewidth\":0,\"ticks\":\"\"}},\"marker\":{\"colorbar\":{\"outlinewidth\":0,\"ticks\":\"\"}}}],\"scattermapbox\":[{\"type\":\"scattermapbox\",\"marker\":{\"colorbar\":{\"outlinewidth\":0,\"ticks\":\"\"}}}],\"scatterternary\":[{\"type\":\"scatterternary\",\"marker\":{\"colorbar\":{\"outlinewidth\":0,\"ticks\":\"\"}}}],\"scattercarpet\":[{\"type\":\"scattercarpet\",\"marker\":{\"colorbar\":{\"outlinewidth\":0,\"ticks\":\"\"}}}],\"carpet\":[{\"aaxis\":{\"endlinecolor\":\"#A2B1C6\",\"gridcolor\":\"#506784\",\"linecolor\":\"#506784\",\"minorgridcolor\":\"#506784\",\"startlinecolor\":\"#A2B1C6\"},\"baxis\":{\"endlinecolor\":\"#A2B1C6\",\"gridcolor\":\"#506784\",\"linecolor\":\"#506784\",\"minorgridcolor\":\"#506784\",\"startlinecolor\":\"#A2B1C6\"},\"type\":\"carpet\"}],\"table\":[{\"cells\":{\"fill\":{\"color\":\"#506784\"},\"line\":{\"color\":\"rgb(17,17,17)\"}},\"header\":{\"fill\":{\"color\":\"#2a3f5f\"},\"line\":{\"color\":\"rgb(17,17,17)\"}},\"type\":\"table\"}],\"barpolar\":[{\"marker\":{\"line\":{\"color\":\"rgb(17,17,17)\",\"width\":0.5},\"pattern\":{\"fillmode\":\"overlay\",\"size\":10,\"solidity\":0.2}},\"type\":\"barpolar\"}],\"pie\":[{\"automargin\":true,\"type\":\"pie\"}]},\"layout\":{\"autotypenumbers\":\"strict\",\"colorway\":[\"#636efa\",\"#EF553B\",\"#00cc96\",\"#ab63fa\",\"#FFA15A\",\"#19d3f3\",\"#FF6692\",\"#B6E880\",\"#FF97FF\",\"#FECB52\"],\"font\":{\"color\":\"#f2f5fa\"},\"hovermode\":\"closest\",\"hoverlabel\":{\"align\":\"left\"},\"paper_bgcolor\":\"rgb(17,17,17)\",\"plot_bgcolor\":\"rgb(17,17,17)\",\"polar\":{\"bgcolor\":\"rgb(17,17,17)\",\"angularaxis\":{\"gridcolor\":\"#506784\",\"linecolor\":\"#506784\",\"ticks\":\"\"},\"radialaxis\":{\"gridcolor\":\"#506784\",\"linecolor\":\"#506784\",\"ticks\":\"\"}},\"ternary\":{\"bgcolor\":\"rgb(17,17,17)\",\"aaxis\":{\"gridcolor\":\"#506784\",\"linecolor\":\"#506784\",\"ticks\":\"\"},\"baxis\":{\"gridcolor\":\"#506784\",\"linecolor\":\"#506784\",\"ticks\":\"\"},\"caxis\":{\"gridcolor\":\"#506784\",\"linecolor\":\"#506784\",\"ticks\":\"\"}},\"coloraxis\":{\"colorbar\":{\"outlinewidth\":0,\"ticks\":\"\"}},\"colorscale\":{\"sequential\":[[0.0,\"#0d0887\"],[0.1111111111111111,\"#46039f\"],[0.2222222222222222,\"#7201a8\"],[0.3333333333333333,\"#9c179e\"],[0.4444444444444444,\"#bd3786\"],[0.5555555555555556,\"#d8576b\"],[0.6666666666666666,\"#ed7953\"],[0.7777777777777778,\"#fb9f3a\"],[0.8888888888888888,\"#fdca26\"],[1.0,\"#f0f921\"]],\"sequentialminus\":[[0.0,\"#0d0887\"],[0.1111111111111111,\"#46039f\"],[0.2222222222222222,\"#7201a8\"],[0.3333333333333333,\"#9c179e\"],[0.4444444444444444,\"#bd3786\"],[0.5555555555555556,\"#d8576b\"],[0.6666666666666666,\"#ed7953\"],[0.7777777777777778,\"#fb9f3a\"],[0.8888888888888888,\"#fdca26\"],[1.0,\"#f0f921\"]],\"diverging\":[[0,\"#8e0152\"],[0.1,\"#c51b7d\"],[0.2,\"#de77ae\"],[0.3,\"#f1b6da\"],[0.4,\"#fde0ef\"],[0.5,\"#f7f7f7\"],[0.6,\"#e6f5d0\"],[0.7,\"#b8e186\"],[0.8,\"#7fbc41\"],[0.9,\"#4d9221\"],[1,\"#276419\"]]},\"xaxis\":{\"gridcolor\":\"#283442\",\"linecolor\":\"#506784\",\"ticks\":\"\",\"title\":{\"standoff\":15},\"zerolinecolor\":\"#283442\",\"automargin\":true,\"zerolinewidth\":2},\"yaxis\":{\"gridcolor\":\"#283442\",\"linecolor\":\"#506784\",\"ticks\":\"\",\"title\":{\"standoff\":15},\"zerolinecolor\":\"#283442\",\"automargin\":true,\"zerolinewidth\":2},\"scene\":{\"xaxis\":{\"backgroundcolor\":\"rgb(17,17,17)\",\"gridcolor\":\"#506784\",\"linecolor\":\"#506784\",\"showbackground\":true,\"ticks\":\"\",\"zerolinecolor\":\"#C8D4E3\",\"gridwidth\":2},\"yaxis\":{\"backgroundcolor\":\"rgb(17,17,17)\",\"gridcolor\":\"#506784\",\"linecolor\":\"#506784\",\"showbackground\":true,\"ticks\":\"\",\"zerolinecolor\":\"#C8D4E3\",\"gridwidth\":2},\"zaxis\":{\"backgroundcolor\":\"rgb(17,17,17)\",\"gridcolor\":\"#506784\",\"linecolor\":\"#506784\",\"showbackground\":true,\"ticks\":\"\",\"zerolinecolor\":\"#C8D4E3\",\"gridwidth\":2}},\"shapedefaults\":{\"line\":{\"color\":\"#f2f5fa\"}},\"annotationdefaults\":{\"arrowcolor\":\"#f2f5fa\",\"arrowhead\":0,\"arrowwidth\":1},\"geo\":{\"bgcolor\":\"rgb(17,17,17)\",\"landcolor\":\"rgb(17,17,17)\",\"subunitcolor\":\"#506784\",\"showland\":true,\"showlakes\":true,\"lakecolor\":\"rgb(17,17,17)\"},\"title\":{\"x\":0.05},\"updatemenudefaults\":{\"bgcolor\":\"#506784\",\"borderwidth\":0},\"sliderdefaults\":{\"bgcolor\":\"#C8D4E3\",\"borderwidth\":1,\"bordercolor\":\"rgb(17,17,17)\",\"tickwidth\":0},\"mapbox\":{\"style\":\"dark\"}}},\"width\":1024,\"height\":500,\"title\":{\"text\":\"[LSTM] Prediction for Stolen Vehicle (Code 510)\"},\"xaxis\":{\"title\":{\"text\":\"Weeks\"}},\"yaxis\":{\"title\":{\"text\":\"Number of crimes\"}}},                        {\"responsive\": true}                    ).then(function(){\n                            \nvar gd = document.getElementById('e0165be3-1333-4e8c-8b9f-fa2004cc17ca');\nvar x = new MutationObserver(function (mutations, observer) {{\n        var display = window.getComputedStyle(gd).display;\n        if (!display || display === 'none') {{\n            console.log([gd, 'removed!']);\n            Plotly.purge(gd);\n            observer.disconnect();\n        }}\n}});\n\n// Listen for the removal of the full notebook cells\nvar notebookContainer = gd.closest('#notebook-container');\nif (notebookContainer) {{\n    x.observe(notebookContainer, {childList: true});\n}}\n\n// Listen for the clearing of the current output cell\nvar outputEl = gd.closest('.output');\nif (outputEl) {{\n    x.observe(outputEl, {childList: true});\n}}\n\n                        })                };                });            </script>        </div>"
     },
     "metadata": {},
     "output_type": "display_data"
    }
   ],
   "source": [
    "listGraph = []\n",
    "listGraph.append(go.Scatter(x=list(range(0,len(df1))),y=scaler.inverse_transform(df1).flatten(),name=\"Original dataset\"))\n",
    "listGraph.append(go.Scatter(x=list(range(0,len(trainPredictPlot))),y=trainPredictPlot.flatten(),name=\"Predict with Train set\"))\n",
    "listGraph.append(go.Scatter(x=list(range(0,len(testPredictPlot))),y=testPredictPlot.flatten(),name=\"Predict with Test set\"))\n",
    "\n",
    "fig = go.Figure(data=listGraph)\n",
    "fig.update_layout(width=1024,height=500,title=\"[LSTM] Prediction for Stolen Vehicle (Code 510)\",xaxis=dict(title='Weeks'),yaxis=dict(title='Number of crimes'))\n",
    "\n",
    "fig.show()"
   ],
   "metadata": {
    "collapsed": false,
    "ExecuteTime": {
     "end_time": "2023-12-05T07:40:09.626360Z",
     "start_time": "2023-12-05T07:40:08.728315Z"
    }
   }
  },
  {
   "cell_type": "code",
   "execution_count": 171,
   "outputs": [
    {
     "name": "stderr",
     "output_type": "stream",
     "text": [
      "/var/folders/8g/z0__2mts0rnbjh3kq8zsfz2w0000gn/T/ipykernel_6574/2714906879.py:1: SettingWithCopyWarning:\n",
      "\n",
      "\n",
      "A value is trying to be set on a copy of a slice from a DataFrame.\n",
      "Try using .loc[row_indexer,col_indexer] = value instead\n",
      "\n",
      "See the caveats in the documentation: https://pandas.pydata.org/pandas-docs/stable/user_guide/indexing.html#returning-a-view-versus-a-copy\n",
      "\n",
      "/var/folders/8g/z0__2mts0rnbjh3kq8zsfz2w0000gn/T/ipykernel_6574/2714906879.py:2: SettingWithCopyWarning:\n",
      "\n",
      "\n",
      "A value is trying to be set on a copy of a slice from a DataFrame.\n",
      "Try using .loc[row_indexer,col_indexer] = value instead\n",
      "\n",
      "See the caveats in the documentation: https://pandas.pydata.org/pandas-docs/stable/user_guide/indexing.html#returning-a-view-versus-a-copy\n",
      "\n"
     ]
    },
    {
     "data": {
      "text/plain": "            DR_NO  Date Rptd   DATE OCC  TIME OCC  AREA   AREA NAME  \\\n101031  201904016 2020-01-01 2020-01-01       300    19     Mission   \n129754  201704020 2020-01-01 2020-01-01        15    17  Devonshire   \n44085   200204049 2020-01-01 2020-01-01      1830     2     Rampart   \n180309  201704356 2020-01-01 2020-01-01      1600    17  Devonshire   \n130229  202004026 2020-01-01 2020-01-01       430    20     Olympic   \n...           ...        ...        ...       ...   ...         ...   \n732158  230221254 2023-11-20 2023-11-20       200     2     Rampart   \n762894  231320891 2023-11-20 2023-11-20       100    13      Newton   \n841814  231916845 2023-11-20 2023-11-20      1515    19     Mission   \n690389  230124448 2023-11-20 2023-11-20       230     1     Central   \n806670  230717325 2023-11-20 2023-11-20       100     7    Wilshire   \n\n        Rpt Dist No  Part 1-2  Crm Cd               Crm Cd Desc  ... Status  \\\n101031         1982         2     624  BATTERY - SIMPLE ASSAULT  ...     IC   \n129754         1785         2     624  BATTERY - SIMPLE ASSAULT  ...     AO   \n44085           269         2     624  BATTERY - SIMPLE ASSAULT  ...     AO   \n180309         1768         2     624  BATTERY - SIMPLE ASSAULT  ...     AO   \n130229         2002         2     624  BATTERY - SIMPLE ASSAULT  ...     AO   \n...             ...       ...     ...                       ...  ...    ...   \n732158          257         2     624  BATTERY - SIMPLE ASSAULT  ...     IC   \n762894         1343         2     624  BATTERY - SIMPLE ASSAULT  ...     IC   \n841814         1998         2     624  BATTERY - SIMPLE ASSAULT  ...     IC   \n690389          156         2     624  BATTERY - SIMPLE ASSAULT  ...     IC   \n806670          762         2     624  BATTERY - SIMPLE ASSAULT  ...     IC   \n\n        Status Desc Crm Cd 1 Crm Cd 2  Crm Cd 3 Crm Cd 4  \\\n101031  Invest Cont    624.0      NaN       NaN      NaN   \n129754  Adult Other    624.0      NaN       NaN      NaN   \n44085   Adult Other    624.0      NaN       NaN      NaN   \n180309  Adult Other    624.0      NaN       NaN      NaN   \n130229  Adult Other    624.0      NaN       NaN      NaN   \n...             ...      ...      ...       ...      ...   \n732158  Invest Cont    624.0      NaN       NaN      NaN   \n762894  Invest Cont    624.0      NaN       NaN      NaN   \n841814  Invest Cont    624.0      NaN       NaN      NaN   \n690389  Invest Cont    624.0      NaN       NaN      NaN   \n806670  Invest Cont    624.0      NaN       NaN      NaN   \n\n                                        LOCATION Cross Street      LAT  \\\n101031  15200    ACRE                         ST          NaN  34.2300   \n129754  18700    SUNBURST                     ST          NaN  34.2346   \n44085    1400    JAMES M WOOD                 BL          NaN  34.0508   \n180309   9800    WISH                         AV          NaN  34.2484   \n130229    600 N  SAINT ANDREWS                PL          NaN  34.0817   \n...                                          ...          ...      ...   \n732158   1200    WILSHIRE                     BL          NaN  34.0530   \n762894    600 E  38TH                         ST          NaN  34.0120   \n841814                                  VAN NUYS       ROSCOE  34.2215   \n690389    500 S  SAN JULIAN                   ST          NaN  34.0446   \n806670   5900 W  PICO                         BL          NaN  34.0517   \n\n             LON  \n101031 -118.4644  \n129754 -118.5403  \n44085  -118.2683  \n180309 -118.5079  \n130229 -118.3112  \n...          ...  \n732158 -118.2649  \n762894 -118.2653  \n841814 -118.4488  \n690389 -118.2450  \n806670 -118.3676  \n\n[67300 rows x 28 columns]",
      "text/html": "<div>\n<style scoped>\n    .dataframe tbody tr th:only-of-type {\n        vertical-align: middle;\n    }\n\n    .dataframe tbody tr th {\n        vertical-align: top;\n    }\n\n    .dataframe thead th {\n        text-align: right;\n    }\n</style>\n<table border=\"1\" class=\"dataframe\">\n  <thead>\n    <tr style=\"text-align: right;\">\n      <th></th>\n      <th>DR_NO</th>\n      <th>Date Rptd</th>\n      <th>DATE OCC</th>\n      <th>TIME OCC</th>\n      <th>AREA</th>\n      <th>AREA NAME</th>\n      <th>Rpt Dist No</th>\n      <th>Part 1-2</th>\n      <th>Crm Cd</th>\n      <th>Crm Cd Desc</th>\n      <th>...</th>\n      <th>Status</th>\n      <th>Status Desc</th>\n      <th>Crm Cd 1</th>\n      <th>Crm Cd 2</th>\n      <th>Crm Cd 3</th>\n      <th>Crm Cd 4</th>\n      <th>LOCATION</th>\n      <th>Cross Street</th>\n      <th>LAT</th>\n      <th>LON</th>\n    </tr>\n  </thead>\n  <tbody>\n    <tr>\n      <th>101031</th>\n      <td>201904016</td>\n      <td>2020-01-01</td>\n      <td>2020-01-01</td>\n      <td>300</td>\n      <td>19</td>\n      <td>Mission</td>\n      <td>1982</td>\n      <td>2</td>\n      <td>624</td>\n      <td>BATTERY - SIMPLE ASSAULT</td>\n      <td>...</td>\n      <td>IC</td>\n      <td>Invest Cont</td>\n      <td>624.0</td>\n      <td>NaN</td>\n      <td>NaN</td>\n      <td>NaN</td>\n      <td>15200    ACRE                         ST</td>\n      <td>NaN</td>\n      <td>34.2300</td>\n      <td>-118.4644</td>\n    </tr>\n    <tr>\n      <th>129754</th>\n      <td>201704020</td>\n      <td>2020-01-01</td>\n      <td>2020-01-01</td>\n      <td>15</td>\n      <td>17</td>\n      <td>Devonshire</td>\n      <td>1785</td>\n      <td>2</td>\n      <td>624</td>\n      <td>BATTERY - SIMPLE ASSAULT</td>\n      <td>...</td>\n      <td>AO</td>\n      <td>Adult Other</td>\n      <td>624.0</td>\n      <td>NaN</td>\n      <td>NaN</td>\n      <td>NaN</td>\n      <td>18700    SUNBURST                     ST</td>\n      <td>NaN</td>\n      <td>34.2346</td>\n      <td>-118.5403</td>\n    </tr>\n    <tr>\n      <th>44085</th>\n      <td>200204049</td>\n      <td>2020-01-01</td>\n      <td>2020-01-01</td>\n      <td>1830</td>\n      <td>2</td>\n      <td>Rampart</td>\n      <td>269</td>\n      <td>2</td>\n      <td>624</td>\n      <td>BATTERY - SIMPLE ASSAULT</td>\n      <td>...</td>\n      <td>AO</td>\n      <td>Adult Other</td>\n      <td>624.0</td>\n      <td>NaN</td>\n      <td>NaN</td>\n      <td>NaN</td>\n      <td>1400    JAMES M WOOD                 BL</td>\n      <td>NaN</td>\n      <td>34.0508</td>\n      <td>-118.2683</td>\n    </tr>\n    <tr>\n      <th>180309</th>\n      <td>201704356</td>\n      <td>2020-01-01</td>\n      <td>2020-01-01</td>\n      <td>1600</td>\n      <td>17</td>\n      <td>Devonshire</td>\n      <td>1768</td>\n      <td>2</td>\n      <td>624</td>\n      <td>BATTERY - SIMPLE ASSAULT</td>\n      <td>...</td>\n      <td>AO</td>\n      <td>Adult Other</td>\n      <td>624.0</td>\n      <td>NaN</td>\n      <td>NaN</td>\n      <td>NaN</td>\n      <td>9800    WISH                         AV</td>\n      <td>NaN</td>\n      <td>34.2484</td>\n      <td>-118.5079</td>\n    </tr>\n    <tr>\n      <th>130229</th>\n      <td>202004026</td>\n      <td>2020-01-01</td>\n      <td>2020-01-01</td>\n      <td>430</td>\n      <td>20</td>\n      <td>Olympic</td>\n      <td>2002</td>\n      <td>2</td>\n      <td>624</td>\n      <td>BATTERY - SIMPLE ASSAULT</td>\n      <td>...</td>\n      <td>AO</td>\n      <td>Adult Other</td>\n      <td>624.0</td>\n      <td>NaN</td>\n      <td>NaN</td>\n      <td>NaN</td>\n      <td>600 N  SAINT ANDREWS                PL</td>\n      <td>NaN</td>\n      <td>34.0817</td>\n      <td>-118.3112</td>\n    </tr>\n    <tr>\n      <th>...</th>\n      <td>...</td>\n      <td>...</td>\n      <td>...</td>\n      <td>...</td>\n      <td>...</td>\n      <td>...</td>\n      <td>...</td>\n      <td>...</td>\n      <td>...</td>\n      <td>...</td>\n      <td>...</td>\n      <td>...</td>\n      <td>...</td>\n      <td>...</td>\n      <td>...</td>\n      <td>...</td>\n      <td>...</td>\n      <td>...</td>\n      <td>...</td>\n      <td>...</td>\n      <td>...</td>\n    </tr>\n    <tr>\n      <th>732158</th>\n      <td>230221254</td>\n      <td>2023-11-20</td>\n      <td>2023-11-20</td>\n      <td>200</td>\n      <td>2</td>\n      <td>Rampart</td>\n      <td>257</td>\n      <td>2</td>\n      <td>624</td>\n      <td>BATTERY - SIMPLE ASSAULT</td>\n      <td>...</td>\n      <td>IC</td>\n      <td>Invest Cont</td>\n      <td>624.0</td>\n      <td>NaN</td>\n      <td>NaN</td>\n      <td>NaN</td>\n      <td>1200    WILSHIRE                     BL</td>\n      <td>NaN</td>\n      <td>34.0530</td>\n      <td>-118.2649</td>\n    </tr>\n    <tr>\n      <th>762894</th>\n      <td>231320891</td>\n      <td>2023-11-20</td>\n      <td>2023-11-20</td>\n      <td>100</td>\n      <td>13</td>\n      <td>Newton</td>\n      <td>1343</td>\n      <td>2</td>\n      <td>624</td>\n      <td>BATTERY - SIMPLE ASSAULT</td>\n      <td>...</td>\n      <td>IC</td>\n      <td>Invest Cont</td>\n      <td>624.0</td>\n      <td>NaN</td>\n      <td>NaN</td>\n      <td>NaN</td>\n      <td>600 E  38TH                         ST</td>\n      <td>NaN</td>\n      <td>34.0120</td>\n      <td>-118.2653</td>\n    </tr>\n    <tr>\n      <th>841814</th>\n      <td>231916845</td>\n      <td>2023-11-20</td>\n      <td>2023-11-20</td>\n      <td>1515</td>\n      <td>19</td>\n      <td>Mission</td>\n      <td>1998</td>\n      <td>2</td>\n      <td>624</td>\n      <td>BATTERY - SIMPLE ASSAULT</td>\n      <td>...</td>\n      <td>IC</td>\n      <td>Invest Cont</td>\n      <td>624.0</td>\n      <td>NaN</td>\n      <td>NaN</td>\n      <td>NaN</td>\n      <td>VAN NUYS</td>\n      <td>ROSCOE</td>\n      <td>34.2215</td>\n      <td>-118.4488</td>\n    </tr>\n    <tr>\n      <th>690389</th>\n      <td>230124448</td>\n      <td>2023-11-20</td>\n      <td>2023-11-20</td>\n      <td>230</td>\n      <td>1</td>\n      <td>Central</td>\n      <td>156</td>\n      <td>2</td>\n      <td>624</td>\n      <td>BATTERY - SIMPLE ASSAULT</td>\n      <td>...</td>\n      <td>IC</td>\n      <td>Invest Cont</td>\n      <td>624.0</td>\n      <td>NaN</td>\n      <td>NaN</td>\n      <td>NaN</td>\n      <td>500 S  SAN JULIAN                   ST</td>\n      <td>NaN</td>\n      <td>34.0446</td>\n      <td>-118.2450</td>\n    </tr>\n    <tr>\n      <th>806670</th>\n      <td>230717325</td>\n      <td>2023-11-20</td>\n      <td>2023-11-20</td>\n      <td>100</td>\n      <td>7</td>\n      <td>Wilshire</td>\n      <td>762</td>\n      <td>2</td>\n      <td>624</td>\n      <td>BATTERY - SIMPLE ASSAULT</td>\n      <td>...</td>\n      <td>IC</td>\n      <td>Invest Cont</td>\n      <td>624.0</td>\n      <td>NaN</td>\n      <td>NaN</td>\n      <td>NaN</td>\n      <td>5900 W  PICO                         BL</td>\n      <td>NaN</td>\n      <td>34.0517</td>\n      <td>-118.3676</td>\n    </tr>\n  </tbody>\n</table>\n<p>67300 rows × 28 columns</p>\n</div>"
     },
     "execution_count": 171,
     "metadata": {},
     "output_type": "execute_result"
    }
   ],
   "source": [
    "dataset_624['Date Rptd'] = pd.to_datetime(dataset_624['Date Rptd'])\n",
    "dataset_624['DATE OCC'] = pd.to_datetime(dataset_624['DATE OCC'])\n",
    "\n",
    "dataset_624.sort_values(by=\"DATE OCC\")"
   ],
   "metadata": {
    "collapsed": false,
    "ExecuteTime": {
     "end_time": "2023-12-05T07:40:09.626484Z",
     "start_time": "2023-12-05T07:40:08.737381Z"
    }
   }
  },
  {
   "cell_type": "code",
   "execution_count": 172,
   "outputs": [],
   "source": [
    "df1 = dataset_624['DATE OCC'].dt.date.value_counts().sort_index().reset_index()\n",
    "df1.columns = ['DATE','Count']\n",
    "\n",
    "df1['DATE'] = pd.to_datetime(df1['DATE']) - pd.to_timedelta(7, unit='d')\n",
    "df1= df1.groupby([pd.Grouper(key='DATE', freq='W')])['Count'].sum()\n",
    "\n",
    "df1 = pd.DataFrame(data=df1.values, columns=['Count'])\n",
    "df1 = df1.values\n",
    "df1 = df1.astype('int32')"
   ],
   "metadata": {
    "collapsed": false,
    "ExecuteTime": {
     "end_time": "2023-12-05T07:40:09.626520Z",
     "start_time": "2023-12-05T07:40:08.966420Z"
    }
   }
  },
  {
   "cell_type": "code",
   "execution_count": 173,
   "outputs": [
    {
     "data": {
      "application/vnd.plotly.v1+json": {
       "data": [
        {
         "name": "Dataset",
         "x": [
          0,
          1,
          2,
          3,
          4,
          5,
          6,
          7,
          8,
          9,
          10,
          11,
          12,
          13,
          14,
          15,
          16,
          17,
          18,
          19,
          20,
          21,
          22,
          23,
          24,
          25,
          26,
          27,
          28,
          29,
          30,
          31,
          32,
          33,
          34,
          35,
          36,
          37,
          38,
          39,
          40,
          41,
          42,
          43,
          44,
          45,
          46,
          47,
          48,
          49,
          50,
          51,
          52,
          53,
          54,
          55,
          56,
          57,
          58,
          59,
          60,
          61,
          62,
          63,
          64,
          65,
          66,
          67,
          68,
          69,
          70,
          71,
          72,
          73,
          74,
          75,
          76,
          77,
          78,
          79,
          80,
          81,
          82,
          83,
          84,
          85,
          86,
          87,
          88,
          89,
          90,
          91,
          92,
          93,
          94,
          95,
          96,
          97,
          98,
          99,
          100,
          101,
          102,
          103,
          104,
          105,
          106,
          107,
          108,
          109,
          110,
          111,
          112,
          113,
          114,
          115,
          116,
          117,
          118,
          119,
          120,
          121,
          122,
          123,
          124,
          125,
          126,
          127,
          128,
          129,
          130,
          131,
          132,
          133,
          134,
          135,
          136,
          137,
          138,
          139,
          140,
          141,
          142,
          143,
          144,
          145,
          146,
          147,
          148,
          149,
          150,
          151,
          152,
          153,
          154,
          155,
          156,
          157,
          158,
          159,
          160,
          161,
          162,
          163,
          164,
          165,
          166,
          167,
          168,
          169,
          170,
          171,
          172,
          173,
          174,
          175,
          176,
          177,
          178,
          179,
          180,
          181,
          182,
          183,
          184,
          185,
          186,
          187,
          188,
          189,
          190,
          191,
          192,
          193,
          194,
          195,
          196,
          197,
          198,
          199,
          200,
          201,
          202,
          203
         ],
         "y": [
          267,
          335,
          332,
          351,
          360,
          354,
          354,
          328,
          351,
          384,
          315,
          289,
          248,
          262,
          230,
          277,
          304,
          333,
          313,
          274,
          326,
          267,
          277,
          322,
          362,
          345,
          329,
          298,
          344,
          360,
          340,
          330,
          330,
          367,
          325,
          314,
          302,
          334,
          304,
          326,
          291,
          316,
          310,
          272,
          284,
          295,
          305,
          274,
          274,
          278,
          287,
          243,
          259,
          251,
          264,
          283,
          247,
          288,
          269,
          277,
          267,
          294,
          244,
          268,
          292,
          312,
          278,
          257,
          272,
          286,
          293,
          296,
          314,
          306,
          315,
          342,
          338,
          311,
          390,
          350,
          361,
          359,
          337,
          337,
          322,
          336,
          366,
          350,
          390,
          315,
          344,
          383,
          363,
          293,
          329,
          354,
          344,
          301,
          298,
          290,
          307,
          310,
          307,
          285,
          285,
          270,
          288,
          375,
          291,
          338,
          373,
          341,
          311,
          333,
          291,
          369,
          326,
          320,
          408,
          319,
          334,
          339,
          397,
          362,
          367,
          353,
          337,
          376,
          353,
          364,
          350,
          334,
          362,
          379,
          416,
          351,
          362,
          344,
          397,
          361,
          348,
          325,
          354,
          390,
          403,
          346,
          393,
          339,
          388,
          333,
          313,
          326,
          291,
          312,
          333,
          322,
          299,
          274,
          306,
          344,
          364,
          328,
          303,
          325,
          312,
          315,
          309,
          360,
          369,
          331,
          337,
          349,
          367,
          425,
          398,
          359,
          369,
          374,
          399,
          369,
          350,
          344,
          374,
          384,
          398,
          319,
          404,
          356,
          407,
          329,
          402,
          417,
          417,
          375,
          360,
          393,
          378,
          396,
          374,
          402,
          410,
          331,
          353,
          14
         ],
         "type": "scatter"
        },
        {
         "name": "Average",
         "x": [
          0,
          1,
          2,
          3,
          4,
          5,
          6,
          7,
          8,
          9,
          10,
          11,
          12,
          13,
          14,
          15,
          16,
          17,
          18,
          19,
          20,
          21,
          22,
          23,
          24,
          25,
          26,
          27,
          28,
          29,
          30,
          31,
          32,
          33,
          34,
          35,
          36,
          37,
          38,
          39,
          40,
          41,
          42,
          43,
          44,
          45,
          46,
          47,
          48,
          49,
          50,
          51,
          52,
          53,
          54,
          55,
          56,
          57,
          58,
          59,
          60,
          61,
          62,
          63,
          64,
          65,
          66,
          67,
          68,
          69,
          70,
          71,
          72,
          73,
          74,
          75,
          76,
          77,
          78,
          79,
          80,
          81,
          82,
          83,
          84,
          85,
          86,
          87,
          88,
          89,
          90,
          91,
          92,
          93,
          94,
          95,
          96,
          97,
          98,
          99,
          100,
          101,
          102,
          103,
          104,
          105,
          106,
          107,
          108,
          109,
          110,
          111,
          112,
          113,
          114,
          115,
          116,
          117,
          118,
          119,
          120,
          121,
          122,
          123,
          124,
          125,
          126,
          127,
          128,
          129,
          130,
          131,
          132,
          133,
          134,
          135,
          136,
          137,
          138,
          139,
          140,
          141,
          142,
          143,
          144,
          145,
          146,
          147,
          148,
          149,
          150,
          151,
          152,
          153,
          154,
          155,
          156,
          157,
          158,
          159,
          160,
          161,
          162,
          163,
          164,
          165,
          166,
          167,
          168,
          169,
          170,
          171,
          172,
          173,
          174,
          175,
          176,
          177,
          178,
          179,
          180,
          181,
          182,
          183,
          184,
          185,
          186,
          187,
          188,
          189,
          190,
          191,
          192,
          193,
          194,
          195,
          196,
          197,
          198,
          199,
          200,
          201,
          202,
          203
         ],
         "y": [
          311.3333333333333,
          339.3333333333333,
          347.6666666666667,
          355.0,
          356.0,
          345.3333333333333,
          344.3333333333333,
          354.3333333333333,
          350.0,
          329.3333333333333,
          284.0,
          266.3333333333333,
          246.66666666666666,
          256.3333333333333,
          270.3333333333333,
          304.6666666666667,
          316.6666666666667,
          306.6666666666667,
          304.3333333333333,
          289.0,
          290.0,
          288.6666666666667,
          320.3333333333333,
          343.0,
          345.3333333333333,
          324.0,
          323.6666666666667,
          334.0,
          348.0,
          343.3333333333333,
          333.3333333333333,
          342.3333333333333,
          340.6666666666667,
          335.3333333333333,
          313.6666666666667,
          316.6666666666667,
          313.3333333333333,
          321.3333333333333,
          307.0,
          311.0,
          305.6666666666667,
          299.3333333333333,
          288.6666666666667,
          283.6666666666667,
          294.6666666666667,
          291.3333333333333,
          284.3333333333333,
          275.3333333333333,
          279.6666666666667,
          269.3333333333333,
          263.0,
          251.0,
          258.0,
          266.0,
          264.6666666666667,
          272.6666666666667,
          268.0,
          278.0,
          271.0,
          279.3333333333333,
          268.3333333333333,
          268.6666666666667,
          268.0,
          290.6666666666667,
          294.0,
          282.3333333333333,
          269.0,
          271.6666666666667,
          283.6666666666667,
          291.6666666666667,
          301.0,
          305.3333333333333,
          311.6666666666667,
          321.0,
          331.6666666666667,
          330.3333333333333,
          346.3333333333333,
          350.3333333333333,
          367.0,
          356.6666666666667,
          352.3333333333333,
          344.3333333333333,
          332.0,
          331.6666666666667,
          341.3333333333333,
          350.6666666666667,
          368.6666666666667,
          351.6666666666667,
          349.6666666666667,
          347.3333333333333,
          363.3333333333333,
          346.3333333333333,
          328.3333333333333,
          325.3333333333333,
          342.3333333333333,
          333.0,
          314.3333333333333,
          296.3333333333333,
          298.3333333333333,
          302.3333333333333,
          308.0,
          300.6666666666667,
          292.3333333333333,
          280.0,
          281.0,
          311.0,
          318.0,
          334.6666666666667,
          334.0,
          350.6666666666667,
          341.6666666666667,
          328.3333333333333,
          311.6666666666667,
          331.0,
          328.6666666666667,
          338.3333333333333,
          351.3333333333333,
          349.0,
          353.6666666666667,
          330.6666666666667,
          356.6666666666667,
          366.0,
          375.3333333333333,
          360.6666666666667,
          352.3333333333333,
          355.3333333333333,
          355.3333333333333,
          364.3333333333333,
          355.6666666666667,
          349.3333333333333,
          348.6666666666667,
          358.3333333333333,
          385.6666666666667,
          382.0,
          376.3333333333333,
          352.3333333333333,
          367.6666666666667,
          367.3333333333333,
          368.6666666666667,
          344.6666666666667,
          342.3333333333333,
          356.3333333333333,
          382.3333333333333,
          379.6666666666667,
          380.6666666666667,
          359.3333333333333,
          373.3333333333333,
          353.3333333333333,
          344.6666666666667,
          324.0,
          310.0,
          309.6666666666667,
          312.0,
          322.3333333333333,
          318.0,
          298.3333333333333,
          293.0,
          308.0,
          338.0,
          345.3333333333333,
          331.6666666666667,
          318.6666666666667,
          313.3333333333333,
          317.3333333333333,
          312.0,
          328.0,
          346.0,
          353.3333333333333,
          345.6666666666667,
          339.0,
          351.0,
          380.3333333333333,
          396.6666666666667,
          394.0,
          375.3333333333333,
          367.3333333333333,
          380.6666666666667,
          380.6666666666667,
          372.6666666666667,
          354.3333333333333,
          356.0,
          367.3333333333333,
          385.3333333333333,
          367.0,
          373.6666666666667,
          359.6666666666667,
          389.0,
          364.0,
          379.3333333333333,
          382.6666666666667,
          412.0,
          403.0,
          384.0,
          376.0,
          377.0,
          389.0,
          382.6666666666667,
          390.6666666666667,
          395.3333333333333,
          381.0,
          364.6666666666667,
          232.66666666666666
         ],
         "type": "scatter"
        }
       ],
       "layout": {
        "template": {
         "data": {
          "histogram2dcontour": [
           {
            "type": "histogram2dcontour",
            "colorbar": {
             "outlinewidth": 0,
             "ticks": ""
            },
            "colorscale": [
             [
              0.0,
              "#0d0887"
             ],
             [
              0.1111111111111111,
              "#46039f"
             ],
             [
              0.2222222222222222,
              "#7201a8"
             ],
             [
              0.3333333333333333,
              "#9c179e"
             ],
             [
              0.4444444444444444,
              "#bd3786"
             ],
             [
              0.5555555555555556,
              "#d8576b"
             ],
             [
              0.6666666666666666,
              "#ed7953"
             ],
             [
              0.7777777777777778,
              "#fb9f3a"
             ],
             [
              0.8888888888888888,
              "#fdca26"
             ],
             [
              1.0,
              "#f0f921"
             ]
            ]
           }
          ],
          "choropleth": [
           {
            "type": "choropleth",
            "colorbar": {
             "outlinewidth": 0,
             "ticks": ""
            }
           }
          ],
          "histogram2d": [
           {
            "type": "histogram2d",
            "colorbar": {
             "outlinewidth": 0,
             "ticks": ""
            },
            "colorscale": [
             [
              0.0,
              "#0d0887"
             ],
             [
              0.1111111111111111,
              "#46039f"
             ],
             [
              0.2222222222222222,
              "#7201a8"
             ],
             [
              0.3333333333333333,
              "#9c179e"
             ],
             [
              0.4444444444444444,
              "#bd3786"
             ],
             [
              0.5555555555555556,
              "#d8576b"
             ],
             [
              0.6666666666666666,
              "#ed7953"
             ],
             [
              0.7777777777777778,
              "#fb9f3a"
             ],
             [
              0.8888888888888888,
              "#fdca26"
             ],
             [
              1.0,
              "#f0f921"
             ]
            ]
           }
          ],
          "heatmap": [
           {
            "type": "heatmap",
            "colorbar": {
             "outlinewidth": 0,
             "ticks": ""
            },
            "colorscale": [
             [
              0.0,
              "#0d0887"
             ],
             [
              0.1111111111111111,
              "#46039f"
             ],
             [
              0.2222222222222222,
              "#7201a8"
             ],
             [
              0.3333333333333333,
              "#9c179e"
             ],
             [
              0.4444444444444444,
              "#bd3786"
             ],
             [
              0.5555555555555556,
              "#d8576b"
             ],
             [
              0.6666666666666666,
              "#ed7953"
             ],
             [
              0.7777777777777778,
              "#fb9f3a"
             ],
             [
              0.8888888888888888,
              "#fdca26"
             ],
             [
              1.0,
              "#f0f921"
             ]
            ]
           }
          ],
          "heatmapgl": [
           {
            "type": "heatmapgl",
            "colorbar": {
             "outlinewidth": 0,
             "ticks": ""
            },
            "colorscale": [
             [
              0.0,
              "#0d0887"
             ],
             [
              0.1111111111111111,
              "#46039f"
             ],
             [
              0.2222222222222222,
              "#7201a8"
             ],
             [
              0.3333333333333333,
              "#9c179e"
             ],
             [
              0.4444444444444444,
              "#bd3786"
             ],
             [
              0.5555555555555556,
              "#d8576b"
             ],
             [
              0.6666666666666666,
              "#ed7953"
             ],
             [
              0.7777777777777778,
              "#fb9f3a"
             ],
             [
              0.8888888888888888,
              "#fdca26"
             ],
             [
              1.0,
              "#f0f921"
             ]
            ]
           }
          ],
          "contourcarpet": [
           {
            "type": "contourcarpet",
            "colorbar": {
             "outlinewidth": 0,
             "ticks": ""
            }
           }
          ],
          "contour": [
           {
            "type": "contour",
            "colorbar": {
             "outlinewidth": 0,
             "ticks": ""
            },
            "colorscale": [
             [
              0.0,
              "#0d0887"
             ],
             [
              0.1111111111111111,
              "#46039f"
             ],
             [
              0.2222222222222222,
              "#7201a8"
             ],
             [
              0.3333333333333333,
              "#9c179e"
             ],
             [
              0.4444444444444444,
              "#bd3786"
             ],
             [
              0.5555555555555556,
              "#d8576b"
             ],
             [
              0.6666666666666666,
              "#ed7953"
             ],
             [
              0.7777777777777778,
              "#fb9f3a"
             ],
             [
              0.8888888888888888,
              "#fdca26"
             ],
             [
              1.0,
              "#f0f921"
             ]
            ]
           }
          ],
          "surface": [
           {
            "type": "surface",
            "colorbar": {
             "outlinewidth": 0,
             "ticks": ""
            },
            "colorscale": [
             [
              0.0,
              "#0d0887"
             ],
             [
              0.1111111111111111,
              "#46039f"
             ],
             [
              0.2222222222222222,
              "#7201a8"
             ],
             [
              0.3333333333333333,
              "#9c179e"
             ],
             [
              0.4444444444444444,
              "#bd3786"
             ],
             [
              0.5555555555555556,
              "#d8576b"
             ],
             [
              0.6666666666666666,
              "#ed7953"
             ],
             [
              0.7777777777777778,
              "#fb9f3a"
             ],
             [
              0.8888888888888888,
              "#fdca26"
             ],
             [
              1.0,
              "#f0f921"
             ]
            ]
           }
          ],
          "mesh3d": [
           {
            "type": "mesh3d",
            "colorbar": {
             "outlinewidth": 0,
             "ticks": ""
            }
           }
          ],
          "scatter": [
           {
            "marker": {
             "line": {
              "color": "#283442"
             }
            },
            "type": "scatter"
           }
          ],
          "parcoords": [
           {
            "type": "parcoords",
            "line": {
             "colorbar": {
              "outlinewidth": 0,
              "ticks": ""
             }
            }
           }
          ],
          "scatterpolargl": [
           {
            "type": "scatterpolargl",
            "marker": {
             "colorbar": {
              "outlinewidth": 0,
              "ticks": ""
             }
            }
           }
          ],
          "bar": [
           {
            "error_x": {
             "color": "#f2f5fa"
            },
            "error_y": {
             "color": "#f2f5fa"
            },
            "marker": {
             "line": {
              "color": "rgb(17,17,17)",
              "width": 0.5
             },
             "pattern": {
              "fillmode": "overlay",
              "size": 10,
              "solidity": 0.2
             }
            },
            "type": "bar"
           }
          ],
          "scattergeo": [
           {
            "type": "scattergeo",
            "marker": {
             "colorbar": {
              "outlinewidth": 0,
              "ticks": ""
             }
            }
           }
          ],
          "scatterpolar": [
           {
            "type": "scatterpolar",
            "marker": {
             "colorbar": {
              "outlinewidth": 0,
              "ticks": ""
             }
            }
           }
          ],
          "histogram": [
           {
            "marker": {
             "pattern": {
              "fillmode": "overlay",
              "size": 10,
              "solidity": 0.2
             }
            },
            "type": "histogram"
           }
          ],
          "scattergl": [
           {
            "marker": {
             "line": {
              "color": "#283442"
             }
            },
            "type": "scattergl"
           }
          ],
          "scatter3d": [
           {
            "type": "scatter3d",
            "line": {
             "colorbar": {
              "outlinewidth": 0,
              "ticks": ""
             }
            },
            "marker": {
             "colorbar": {
              "outlinewidth": 0,
              "ticks": ""
             }
            }
           }
          ],
          "scattermapbox": [
           {
            "type": "scattermapbox",
            "marker": {
             "colorbar": {
              "outlinewidth": 0,
              "ticks": ""
             }
            }
           }
          ],
          "scatterternary": [
           {
            "type": "scatterternary",
            "marker": {
             "colorbar": {
              "outlinewidth": 0,
              "ticks": ""
             }
            }
           }
          ],
          "scattercarpet": [
           {
            "type": "scattercarpet",
            "marker": {
             "colorbar": {
              "outlinewidth": 0,
              "ticks": ""
             }
            }
           }
          ],
          "carpet": [
           {
            "aaxis": {
             "endlinecolor": "#A2B1C6",
             "gridcolor": "#506784",
             "linecolor": "#506784",
             "minorgridcolor": "#506784",
             "startlinecolor": "#A2B1C6"
            },
            "baxis": {
             "endlinecolor": "#A2B1C6",
             "gridcolor": "#506784",
             "linecolor": "#506784",
             "minorgridcolor": "#506784",
             "startlinecolor": "#A2B1C6"
            },
            "type": "carpet"
           }
          ],
          "table": [
           {
            "cells": {
             "fill": {
              "color": "#506784"
             },
             "line": {
              "color": "rgb(17,17,17)"
             }
            },
            "header": {
             "fill": {
              "color": "#2a3f5f"
             },
             "line": {
              "color": "rgb(17,17,17)"
             }
            },
            "type": "table"
           }
          ],
          "barpolar": [
           {
            "marker": {
             "line": {
              "color": "rgb(17,17,17)",
              "width": 0.5
             },
             "pattern": {
              "fillmode": "overlay",
              "size": 10,
              "solidity": 0.2
             }
            },
            "type": "barpolar"
           }
          ],
          "pie": [
           {
            "automargin": true,
            "type": "pie"
           }
          ]
         },
         "layout": {
          "autotypenumbers": "strict",
          "colorway": [
           "#636efa",
           "#EF553B",
           "#00cc96",
           "#ab63fa",
           "#FFA15A",
           "#19d3f3",
           "#FF6692",
           "#B6E880",
           "#FF97FF",
           "#FECB52"
          ],
          "font": {
           "color": "#f2f5fa"
          },
          "hovermode": "closest",
          "hoverlabel": {
           "align": "left"
          },
          "paper_bgcolor": "rgb(17,17,17)",
          "plot_bgcolor": "rgb(17,17,17)",
          "polar": {
           "bgcolor": "rgb(17,17,17)",
           "angularaxis": {
            "gridcolor": "#506784",
            "linecolor": "#506784",
            "ticks": ""
           },
           "radialaxis": {
            "gridcolor": "#506784",
            "linecolor": "#506784",
            "ticks": ""
           }
          },
          "ternary": {
           "bgcolor": "rgb(17,17,17)",
           "aaxis": {
            "gridcolor": "#506784",
            "linecolor": "#506784",
            "ticks": ""
           },
           "baxis": {
            "gridcolor": "#506784",
            "linecolor": "#506784",
            "ticks": ""
           },
           "caxis": {
            "gridcolor": "#506784",
            "linecolor": "#506784",
            "ticks": ""
           }
          },
          "coloraxis": {
           "colorbar": {
            "outlinewidth": 0,
            "ticks": ""
           }
          },
          "colorscale": {
           "sequential": [
            [
             0.0,
             "#0d0887"
            ],
            [
             0.1111111111111111,
             "#46039f"
            ],
            [
             0.2222222222222222,
             "#7201a8"
            ],
            [
             0.3333333333333333,
             "#9c179e"
            ],
            [
             0.4444444444444444,
             "#bd3786"
            ],
            [
             0.5555555555555556,
             "#d8576b"
            ],
            [
             0.6666666666666666,
             "#ed7953"
            ],
            [
             0.7777777777777778,
             "#fb9f3a"
            ],
            [
             0.8888888888888888,
             "#fdca26"
            ],
            [
             1.0,
             "#f0f921"
            ]
           ],
           "sequentialminus": [
            [
             0.0,
             "#0d0887"
            ],
            [
             0.1111111111111111,
             "#46039f"
            ],
            [
             0.2222222222222222,
             "#7201a8"
            ],
            [
             0.3333333333333333,
             "#9c179e"
            ],
            [
             0.4444444444444444,
             "#bd3786"
            ],
            [
             0.5555555555555556,
             "#d8576b"
            ],
            [
             0.6666666666666666,
             "#ed7953"
            ],
            [
             0.7777777777777778,
             "#fb9f3a"
            ],
            [
             0.8888888888888888,
             "#fdca26"
            ],
            [
             1.0,
             "#f0f921"
            ]
           ],
           "diverging": [
            [
             0,
             "#8e0152"
            ],
            [
             0.1,
             "#c51b7d"
            ],
            [
             0.2,
             "#de77ae"
            ],
            [
             0.3,
             "#f1b6da"
            ],
            [
             0.4,
             "#fde0ef"
            ],
            [
             0.5,
             "#f7f7f7"
            ],
            [
             0.6,
             "#e6f5d0"
            ],
            [
             0.7,
             "#b8e186"
            ],
            [
             0.8,
             "#7fbc41"
            ],
            [
             0.9,
             "#4d9221"
            ],
            [
             1,
             "#276419"
            ]
           ]
          },
          "xaxis": {
           "gridcolor": "#283442",
           "linecolor": "#506784",
           "ticks": "",
           "title": {
            "standoff": 15
           },
           "zerolinecolor": "#283442",
           "automargin": true,
           "zerolinewidth": 2
          },
          "yaxis": {
           "gridcolor": "#283442",
           "linecolor": "#506784",
           "ticks": "",
           "title": {
            "standoff": 15
           },
           "zerolinecolor": "#283442",
           "automargin": true,
           "zerolinewidth": 2
          },
          "scene": {
           "xaxis": {
            "backgroundcolor": "rgb(17,17,17)",
            "gridcolor": "#506784",
            "linecolor": "#506784",
            "showbackground": true,
            "ticks": "",
            "zerolinecolor": "#C8D4E3",
            "gridwidth": 2
           },
           "yaxis": {
            "backgroundcolor": "rgb(17,17,17)",
            "gridcolor": "#506784",
            "linecolor": "#506784",
            "showbackground": true,
            "ticks": "",
            "zerolinecolor": "#C8D4E3",
            "gridwidth": 2
           },
           "zaxis": {
            "backgroundcolor": "rgb(17,17,17)",
            "gridcolor": "#506784",
            "linecolor": "#506784",
            "showbackground": true,
            "ticks": "",
            "zerolinecolor": "#C8D4E3",
            "gridwidth": 2
           }
          },
          "shapedefaults": {
           "line": {
            "color": "#f2f5fa"
           }
          },
          "annotationdefaults": {
           "arrowcolor": "#f2f5fa",
           "arrowhead": 0,
           "arrowwidth": 1
          },
          "geo": {
           "bgcolor": "rgb(17,17,17)",
           "landcolor": "rgb(17,17,17)",
           "subunitcolor": "#506784",
           "showland": true,
           "showlakes": true,
           "lakecolor": "rgb(17,17,17)"
          },
          "title": {
           "x": 0.05
          },
          "updatemenudefaults": {
           "bgcolor": "#506784",
           "borderwidth": 0
          },
          "sliderdefaults": {
           "bgcolor": "#C8D4E3",
           "borderwidth": 1,
           "bordercolor": "rgb(17,17,17)",
           "tickwidth": 0
          },
          "mapbox": {
           "style": "dark"
          }
         }
        },
        "width": 1024,
        "height": 500,
        "title": {
         "text": "Dataset of crimes in "
        },
        "xaxis": {
         "title": {
          "text": "Weeks"
         }
        },
        "yaxis": {
         "title": {
          "text": "Number of crimes"
         }
        }
       },
       "config": {
        "plotlyServerURL": "https://plot.ly"
       }
      },
      "text/html": "<div>                            <div id=\"f42dcfed-1686-479c-9ed5-c97c1de3ced7\" class=\"plotly-graph-div\" style=\"height:500px; width:1024px;\"></div>            <script type=\"text/javascript\">                require([\"plotly\"], function(Plotly) {                    window.PLOTLYENV=window.PLOTLYENV || {};                                    if (document.getElementById(\"f42dcfed-1686-479c-9ed5-c97c1de3ced7\")) {                    Plotly.newPlot(                        \"f42dcfed-1686-479c-9ed5-c97c1de3ced7\",                        [{\"name\":\"Dataset\",\"x\":[0,1,2,3,4,5,6,7,8,9,10,11,12,13,14,15,16,17,18,19,20,21,22,23,24,25,26,27,28,29,30,31,32,33,34,35,36,37,38,39,40,41,42,43,44,45,46,47,48,49,50,51,52,53,54,55,56,57,58,59,60,61,62,63,64,65,66,67,68,69,70,71,72,73,74,75,76,77,78,79,80,81,82,83,84,85,86,87,88,89,90,91,92,93,94,95,96,97,98,99,100,101,102,103,104,105,106,107,108,109,110,111,112,113,114,115,116,117,118,119,120,121,122,123,124,125,126,127,128,129,130,131,132,133,134,135,136,137,138,139,140,141,142,143,144,145,146,147,148,149,150,151,152,153,154,155,156,157,158,159,160,161,162,163,164,165,166,167,168,169,170,171,172,173,174,175,176,177,178,179,180,181,182,183,184,185,186,187,188,189,190,191,192,193,194,195,196,197,198,199,200,201,202,203],\"y\":[267,335,332,351,360,354,354,328,351,384,315,289,248,262,230,277,304,333,313,274,326,267,277,322,362,345,329,298,344,360,340,330,330,367,325,314,302,334,304,326,291,316,310,272,284,295,305,274,274,278,287,243,259,251,264,283,247,288,269,277,267,294,244,268,292,312,278,257,272,286,293,296,314,306,315,342,338,311,390,350,361,359,337,337,322,336,366,350,390,315,344,383,363,293,329,354,344,301,298,290,307,310,307,285,285,270,288,375,291,338,373,341,311,333,291,369,326,320,408,319,334,339,397,362,367,353,337,376,353,364,350,334,362,379,416,351,362,344,397,361,348,325,354,390,403,346,393,339,388,333,313,326,291,312,333,322,299,274,306,344,364,328,303,325,312,315,309,360,369,331,337,349,367,425,398,359,369,374,399,369,350,344,374,384,398,319,404,356,407,329,402,417,417,375,360,393,378,396,374,402,410,331,353,14],\"type\":\"scatter\"},{\"name\":\"Average\",\"x\":[0,1,2,3,4,5,6,7,8,9,10,11,12,13,14,15,16,17,18,19,20,21,22,23,24,25,26,27,28,29,30,31,32,33,34,35,36,37,38,39,40,41,42,43,44,45,46,47,48,49,50,51,52,53,54,55,56,57,58,59,60,61,62,63,64,65,66,67,68,69,70,71,72,73,74,75,76,77,78,79,80,81,82,83,84,85,86,87,88,89,90,91,92,93,94,95,96,97,98,99,100,101,102,103,104,105,106,107,108,109,110,111,112,113,114,115,116,117,118,119,120,121,122,123,124,125,126,127,128,129,130,131,132,133,134,135,136,137,138,139,140,141,142,143,144,145,146,147,148,149,150,151,152,153,154,155,156,157,158,159,160,161,162,163,164,165,166,167,168,169,170,171,172,173,174,175,176,177,178,179,180,181,182,183,184,185,186,187,188,189,190,191,192,193,194,195,196,197,198,199,200,201,202,203],\"y\":[311.3333333333333,339.3333333333333,347.6666666666667,355.0,356.0,345.3333333333333,344.3333333333333,354.3333333333333,350.0,329.3333333333333,284.0,266.3333333333333,246.66666666666666,256.3333333333333,270.3333333333333,304.6666666666667,316.6666666666667,306.6666666666667,304.3333333333333,289.0,290.0,288.6666666666667,320.3333333333333,343.0,345.3333333333333,324.0,323.6666666666667,334.0,348.0,343.3333333333333,333.3333333333333,342.3333333333333,340.6666666666667,335.3333333333333,313.6666666666667,316.6666666666667,313.3333333333333,321.3333333333333,307.0,311.0,305.6666666666667,299.3333333333333,288.6666666666667,283.6666666666667,294.6666666666667,291.3333333333333,284.3333333333333,275.3333333333333,279.6666666666667,269.3333333333333,263.0,251.0,258.0,266.0,264.6666666666667,272.6666666666667,268.0,278.0,271.0,279.3333333333333,268.3333333333333,268.6666666666667,268.0,290.6666666666667,294.0,282.3333333333333,269.0,271.6666666666667,283.6666666666667,291.6666666666667,301.0,305.3333333333333,311.6666666666667,321.0,331.6666666666667,330.3333333333333,346.3333333333333,350.3333333333333,367.0,356.6666666666667,352.3333333333333,344.3333333333333,332.0,331.6666666666667,341.3333333333333,350.6666666666667,368.6666666666667,351.6666666666667,349.6666666666667,347.3333333333333,363.3333333333333,346.3333333333333,328.3333333333333,325.3333333333333,342.3333333333333,333.0,314.3333333333333,296.3333333333333,298.3333333333333,302.3333333333333,308.0,300.6666666666667,292.3333333333333,280.0,281.0,311.0,318.0,334.6666666666667,334.0,350.6666666666667,341.6666666666667,328.3333333333333,311.6666666666667,331.0,328.6666666666667,338.3333333333333,351.3333333333333,349.0,353.6666666666667,330.6666666666667,356.6666666666667,366.0,375.3333333333333,360.6666666666667,352.3333333333333,355.3333333333333,355.3333333333333,364.3333333333333,355.6666666666667,349.3333333333333,348.6666666666667,358.3333333333333,385.6666666666667,382.0,376.3333333333333,352.3333333333333,367.6666666666667,367.3333333333333,368.6666666666667,344.6666666666667,342.3333333333333,356.3333333333333,382.3333333333333,379.6666666666667,380.6666666666667,359.3333333333333,373.3333333333333,353.3333333333333,344.6666666666667,324.0,310.0,309.6666666666667,312.0,322.3333333333333,318.0,298.3333333333333,293.0,308.0,338.0,345.3333333333333,331.6666666666667,318.6666666666667,313.3333333333333,317.3333333333333,312.0,328.0,346.0,353.3333333333333,345.6666666666667,339.0,351.0,380.3333333333333,396.6666666666667,394.0,375.3333333333333,367.3333333333333,380.6666666666667,380.6666666666667,372.6666666666667,354.3333333333333,356.0,367.3333333333333,385.3333333333333,367.0,373.6666666666667,359.6666666666667,389.0,364.0,379.3333333333333,382.6666666666667,412.0,403.0,384.0,376.0,377.0,389.0,382.6666666666667,390.6666666666667,395.3333333333333,381.0,364.6666666666667,232.66666666666666],\"type\":\"scatter\"}],                        {\"template\":{\"data\":{\"histogram2dcontour\":[{\"type\":\"histogram2dcontour\",\"colorbar\":{\"outlinewidth\":0,\"ticks\":\"\"},\"colorscale\":[[0.0,\"#0d0887\"],[0.1111111111111111,\"#46039f\"],[0.2222222222222222,\"#7201a8\"],[0.3333333333333333,\"#9c179e\"],[0.4444444444444444,\"#bd3786\"],[0.5555555555555556,\"#d8576b\"],[0.6666666666666666,\"#ed7953\"],[0.7777777777777778,\"#fb9f3a\"],[0.8888888888888888,\"#fdca26\"],[1.0,\"#f0f921\"]]}],\"choropleth\":[{\"type\":\"choropleth\",\"colorbar\":{\"outlinewidth\":0,\"ticks\":\"\"}}],\"histogram2d\":[{\"type\":\"histogram2d\",\"colorbar\":{\"outlinewidth\":0,\"ticks\":\"\"},\"colorscale\":[[0.0,\"#0d0887\"],[0.1111111111111111,\"#46039f\"],[0.2222222222222222,\"#7201a8\"],[0.3333333333333333,\"#9c179e\"],[0.4444444444444444,\"#bd3786\"],[0.5555555555555556,\"#d8576b\"],[0.6666666666666666,\"#ed7953\"],[0.7777777777777778,\"#fb9f3a\"],[0.8888888888888888,\"#fdca26\"],[1.0,\"#f0f921\"]]}],\"heatmap\":[{\"type\":\"heatmap\",\"colorbar\":{\"outlinewidth\":0,\"ticks\":\"\"},\"colorscale\":[[0.0,\"#0d0887\"],[0.1111111111111111,\"#46039f\"],[0.2222222222222222,\"#7201a8\"],[0.3333333333333333,\"#9c179e\"],[0.4444444444444444,\"#bd3786\"],[0.5555555555555556,\"#d8576b\"],[0.6666666666666666,\"#ed7953\"],[0.7777777777777778,\"#fb9f3a\"],[0.8888888888888888,\"#fdca26\"],[1.0,\"#f0f921\"]]}],\"heatmapgl\":[{\"type\":\"heatmapgl\",\"colorbar\":{\"outlinewidth\":0,\"ticks\":\"\"},\"colorscale\":[[0.0,\"#0d0887\"],[0.1111111111111111,\"#46039f\"],[0.2222222222222222,\"#7201a8\"],[0.3333333333333333,\"#9c179e\"],[0.4444444444444444,\"#bd3786\"],[0.5555555555555556,\"#d8576b\"],[0.6666666666666666,\"#ed7953\"],[0.7777777777777778,\"#fb9f3a\"],[0.8888888888888888,\"#fdca26\"],[1.0,\"#f0f921\"]]}],\"contourcarpet\":[{\"type\":\"contourcarpet\",\"colorbar\":{\"outlinewidth\":0,\"ticks\":\"\"}}],\"contour\":[{\"type\":\"contour\",\"colorbar\":{\"outlinewidth\":0,\"ticks\":\"\"},\"colorscale\":[[0.0,\"#0d0887\"],[0.1111111111111111,\"#46039f\"],[0.2222222222222222,\"#7201a8\"],[0.3333333333333333,\"#9c179e\"],[0.4444444444444444,\"#bd3786\"],[0.5555555555555556,\"#d8576b\"],[0.6666666666666666,\"#ed7953\"],[0.7777777777777778,\"#fb9f3a\"],[0.8888888888888888,\"#fdca26\"],[1.0,\"#f0f921\"]]}],\"surface\":[{\"type\":\"surface\",\"colorbar\":{\"outlinewidth\":0,\"ticks\":\"\"},\"colorscale\":[[0.0,\"#0d0887\"],[0.1111111111111111,\"#46039f\"],[0.2222222222222222,\"#7201a8\"],[0.3333333333333333,\"#9c179e\"],[0.4444444444444444,\"#bd3786\"],[0.5555555555555556,\"#d8576b\"],[0.6666666666666666,\"#ed7953\"],[0.7777777777777778,\"#fb9f3a\"],[0.8888888888888888,\"#fdca26\"],[1.0,\"#f0f921\"]]}],\"mesh3d\":[{\"type\":\"mesh3d\",\"colorbar\":{\"outlinewidth\":0,\"ticks\":\"\"}}],\"scatter\":[{\"marker\":{\"line\":{\"color\":\"#283442\"}},\"type\":\"scatter\"}],\"parcoords\":[{\"type\":\"parcoords\",\"line\":{\"colorbar\":{\"outlinewidth\":0,\"ticks\":\"\"}}}],\"scatterpolargl\":[{\"type\":\"scatterpolargl\",\"marker\":{\"colorbar\":{\"outlinewidth\":0,\"ticks\":\"\"}}}],\"bar\":[{\"error_x\":{\"color\":\"#f2f5fa\"},\"error_y\":{\"color\":\"#f2f5fa\"},\"marker\":{\"line\":{\"color\":\"rgb(17,17,17)\",\"width\":0.5},\"pattern\":{\"fillmode\":\"overlay\",\"size\":10,\"solidity\":0.2}},\"type\":\"bar\"}],\"scattergeo\":[{\"type\":\"scattergeo\",\"marker\":{\"colorbar\":{\"outlinewidth\":0,\"ticks\":\"\"}}}],\"scatterpolar\":[{\"type\":\"scatterpolar\",\"marker\":{\"colorbar\":{\"outlinewidth\":0,\"ticks\":\"\"}}}],\"histogram\":[{\"marker\":{\"pattern\":{\"fillmode\":\"overlay\",\"size\":10,\"solidity\":0.2}},\"type\":\"histogram\"}],\"scattergl\":[{\"marker\":{\"line\":{\"color\":\"#283442\"}},\"type\":\"scattergl\"}],\"scatter3d\":[{\"type\":\"scatter3d\",\"line\":{\"colorbar\":{\"outlinewidth\":0,\"ticks\":\"\"}},\"marker\":{\"colorbar\":{\"outlinewidth\":0,\"ticks\":\"\"}}}],\"scattermapbox\":[{\"type\":\"scattermapbox\",\"marker\":{\"colorbar\":{\"outlinewidth\":0,\"ticks\":\"\"}}}],\"scatterternary\":[{\"type\":\"scatterternary\",\"marker\":{\"colorbar\":{\"outlinewidth\":0,\"ticks\":\"\"}}}],\"scattercarpet\":[{\"type\":\"scattercarpet\",\"marker\":{\"colorbar\":{\"outlinewidth\":0,\"ticks\":\"\"}}}],\"carpet\":[{\"aaxis\":{\"endlinecolor\":\"#A2B1C6\",\"gridcolor\":\"#506784\",\"linecolor\":\"#506784\",\"minorgridcolor\":\"#506784\",\"startlinecolor\":\"#A2B1C6\"},\"baxis\":{\"endlinecolor\":\"#A2B1C6\",\"gridcolor\":\"#506784\",\"linecolor\":\"#506784\",\"minorgridcolor\":\"#506784\",\"startlinecolor\":\"#A2B1C6\"},\"type\":\"carpet\"}],\"table\":[{\"cells\":{\"fill\":{\"color\":\"#506784\"},\"line\":{\"color\":\"rgb(17,17,17)\"}},\"header\":{\"fill\":{\"color\":\"#2a3f5f\"},\"line\":{\"color\":\"rgb(17,17,17)\"}},\"type\":\"table\"}],\"barpolar\":[{\"marker\":{\"line\":{\"color\":\"rgb(17,17,17)\",\"width\":0.5},\"pattern\":{\"fillmode\":\"overlay\",\"size\":10,\"solidity\":0.2}},\"type\":\"barpolar\"}],\"pie\":[{\"automargin\":true,\"type\":\"pie\"}]},\"layout\":{\"autotypenumbers\":\"strict\",\"colorway\":[\"#636efa\",\"#EF553B\",\"#00cc96\",\"#ab63fa\",\"#FFA15A\",\"#19d3f3\",\"#FF6692\",\"#B6E880\",\"#FF97FF\",\"#FECB52\"],\"font\":{\"color\":\"#f2f5fa\"},\"hovermode\":\"closest\",\"hoverlabel\":{\"align\":\"left\"},\"paper_bgcolor\":\"rgb(17,17,17)\",\"plot_bgcolor\":\"rgb(17,17,17)\",\"polar\":{\"bgcolor\":\"rgb(17,17,17)\",\"angularaxis\":{\"gridcolor\":\"#506784\",\"linecolor\":\"#506784\",\"ticks\":\"\"},\"radialaxis\":{\"gridcolor\":\"#506784\",\"linecolor\":\"#506784\",\"ticks\":\"\"}},\"ternary\":{\"bgcolor\":\"rgb(17,17,17)\",\"aaxis\":{\"gridcolor\":\"#506784\",\"linecolor\":\"#506784\",\"ticks\":\"\"},\"baxis\":{\"gridcolor\":\"#506784\",\"linecolor\":\"#506784\",\"ticks\":\"\"},\"caxis\":{\"gridcolor\":\"#506784\",\"linecolor\":\"#506784\",\"ticks\":\"\"}},\"coloraxis\":{\"colorbar\":{\"outlinewidth\":0,\"ticks\":\"\"}},\"colorscale\":{\"sequential\":[[0.0,\"#0d0887\"],[0.1111111111111111,\"#46039f\"],[0.2222222222222222,\"#7201a8\"],[0.3333333333333333,\"#9c179e\"],[0.4444444444444444,\"#bd3786\"],[0.5555555555555556,\"#d8576b\"],[0.6666666666666666,\"#ed7953\"],[0.7777777777777778,\"#fb9f3a\"],[0.8888888888888888,\"#fdca26\"],[1.0,\"#f0f921\"]],\"sequentialminus\":[[0.0,\"#0d0887\"],[0.1111111111111111,\"#46039f\"],[0.2222222222222222,\"#7201a8\"],[0.3333333333333333,\"#9c179e\"],[0.4444444444444444,\"#bd3786\"],[0.5555555555555556,\"#d8576b\"],[0.6666666666666666,\"#ed7953\"],[0.7777777777777778,\"#fb9f3a\"],[0.8888888888888888,\"#fdca26\"],[1.0,\"#f0f921\"]],\"diverging\":[[0,\"#8e0152\"],[0.1,\"#c51b7d\"],[0.2,\"#de77ae\"],[0.3,\"#f1b6da\"],[0.4,\"#fde0ef\"],[0.5,\"#f7f7f7\"],[0.6,\"#e6f5d0\"],[0.7,\"#b8e186\"],[0.8,\"#7fbc41\"],[0.9,\"#4d9221\"],[1,\"#276419\"]]},\"xaxis\":{\"gridcolor\":\"#283442\",\"linecolor\":\"#506784\",\"ticks\":\"\",\"title\":{\"standoff\":15},\"zerolinecolor\":\"#283442\",\"automargin\":true,\"zerolinewidth\":2},\"yaxis\":{\"gridcolor\":\"#283442\",\"linecolor\":\"#506784\",\"ticks\":\"\",\"title\":{\"standoff\":15},\"zerolinecolor\":\"#283442\",\"automargin\":true,\"zerolinewidth\":2},\"scene\":{\"xaxis\":{\"backgroundcolor\":\"rgb(17,17,17)\",\"gridcolor\":\"#506784\",\"linecolor\":\"#506784\",\"showbackground\":true,\"ticks\":\"\",\"zerolinecolor\":\"#C8D4E3\",\"gridwidth\":2},\"yaxis\":{\"backgroundcolor\":\"rgb(17,17,17)\",\"gridcolor\":\"#506784\",\"linecolor\":\"#506784\",\"showbackground\":true,\"ticks\":\"\",\"zerolinecolor\":\"#C8D4E3\",\"gridwidth\":2},\"zaxis\":{\"backgroundcolor\":\"rgb(17,17,17)\",\"gridcolor\":\"#506784\",\"linecolor\":\"#506784\",\"showbackground\":true,\"ticks\":\"\",\"zerolinecolor\":\"#C8D4E3\",\"gridwidth\":2}},\"shapedefaults\":{\"line\":{\"color\":\"#f2f5fa\"}},\"annotationdefaults\":{\"arrowcolor\":\"#f2f5fa\",\"arrowhead\":0,\"arrowwidth\":1},\"geo\":{\"bgcolor\":\"rgb(17,17,17)\",\"landcolor\":\"rgb(17,17,17)\",\"subunitcolor\":\"#506784\",\"showland\":true,\"showlakes\":true,\"lakecolor\":\"rgb(17,17,17)\"},\"title\":{\"x\":0.05},\"updatemenudefaults\":{\"bgcolor\":\"#506784\",\"borderwidth\":0},\"sliderdefaults\":{\"bgcolor\":\"#C8D4E3\",\"borderwidth\":1,\"bordercolor\":\"rgb(17,17,17)\",\"tickwidth\":0},\"mapbox\":{\"style\":\"dark\"}}},\"width\":1024,\"height\":500,\"title\":{\"text\":\"Dataset of crimes in \"},\"xaxis\":{\"title\":{\"text\":\"Weeks\"}},\"yaxis\":{\"title\":{\"text\":\"Number of crimes\"}}},                        {\"responsive\": true}                    ).then(function(){\n                            \nvar gd = document.getElementById('f42dcfed-1686-479c-9ed5-c97c1de3ced7');\nvar x = new MutationObserver(function (mutations, observer) {{\n        var display = window.getComputedStyle(gd).display;\n        if (!display || display === 'none') {{\n            console.log([gd, 'removed!']);\n            Plotly.purge(gd);\n            observer.disconnect();\n        }}\n}});\n\n// Listen for the removal of the full notebook cells\nvar notebookContainer = gd.closest('#notebook-container');\nif (notebookContainer) {{\n    x.observe(notebookContainer, {childList: true});\n}}\n\n// Listen for the clearing of the current output cell\nvar outputEl = gd.closest('.output');\nif (outputEl) {{\n    x.observe(outputEl, {childList: true});\n}}\n\n                        })                };                });            </script>        </div>"
     },
     "metadata": {},
     "output_type": "display_data"
    }
   ],
   "source": [
    "list_graphs = []\n",
    "graph_1 = go.Scatter(x=list(range(0,len(df1))),y=df1.flatten(),name=\"Dataset\")\n",
    "list_graphs.append(graph_1)\n",
    "average = moving_average(df1)\n",
    "graph_2 = go.Scatter(x=list(range(0,len(df1))),y=average,name=\"Average\")\n",
    "list_graphs.append(graph_2)\n",
    "fig = go.Figure(data=list_graphs)\n",
    "fig.update_layout(width=1024,height=500,title=\"Dataset of crimes in \",xaxis=dict(title='Weeks'),yaxis=dict(title='Number of crimes'))\n",
    "\n",
    "fig.show()"
   ],
   "metadata": {
    "collapsed": false,
    "ExecuteTime": {
     "end_time": "2023-12-05T07:40:09.626569Z",
     "start_time": "2023-12-05T07:40:08.987177Z"
    }
   }
  },
  {
   "cell_type": "code",
   "execution_count": 174,
   "outputs": [],
   "source": [
    "scaler = MinMaxScaler()\n",
    "df1 = scaler.fit_transform(df1)"
   ],
   "metadata": {
    "collapsed": false,
    "ExecuteTime": {
     "end_time": "2023-12-05T07:40:09.626597Z",
     "start_time": "2023-12-05T07:40:08.996596Z"
    }
   }
  },
  {
   "cell_type": "code",
   "execution_count": 175,
   "outputs": [
    {
     "name": "stdout",
     "output_type": "stream",
     "text": [
      "142\n",
      "62\n"
     ]
    }
   ],
   "source": [
    "train_size = int(len(df1) * 0.7)\n",
    "print(train_size)\n",
    "test_size = len(df1) - train_size\n",
    "print(test_size)\n",
    "train, test = df1[0:train_size,:], df1[train_size:len(df1),:]"
   ],
   "metadata": {
    "collapsed": false,
    "ExecuteTime": {
     "end_time": "2023-12-05T07:40:09.626640Z",
     "start_time": "2023-12-05T07:40:09.000220Z"
    }
   }
  },
  {
   "cell_type": "code",
   "execution_count": 176,
   "outputs": [],
   "source": [
    "look_back = 2\n",
    "trainX, trainY = create_dataset(train, look_back)\n",
    "testX, testY = create_dataset(test, look_back)"
   ],
   "metadata": {
    "collapsed": false,
    "ExecuteTime": {
     "end_time": "2023-12-05T07:40:09.626669Z",
     "start_time": "2023-12-05T07:40:09.002640Z"
    }
   }
  },
  {
   "cell_type": "code",
   "execution_count": 177,
   "outputs": [
    {
     "data": {
      "text/plain": "((140, 2), (140,), (60, 2), (60,))"
     },
     "execution_count": 177,
     "metadata": {},
     "output_type": "execute_result"
    }
   ],
   "source": [
    "trainX.shape, trainY.shape, testX.shape, testY.shape"
   ],
   "metadata": {
    "collapsed": false,
    "ExecuteTime": {
     "end_time": "2023-12-05T07:40:09.626719Z",
     "start_time": "2023-12-05T07:40:09.005215Z"
    }
   }
  },
  {
   "cell_type": "code",
   "execution_count": 178,
   "outputs": [],
   "source": [
    "trainX = np.reshape(trainX, (trainX.shape[0],1, trainX.shape[1]))\n",
    "testX = np.reshape(testX, (testX.shape[0],1, testX.shape[1]))"
   ],
   "metadata": {
    "collapsed": false,
    "ExecuteTime": {
     "end_time": "2023-12-05T07:40:09.626750Z",
     "start_time": "2023-12-05T07:40:09.014680Z"
    }
   }
  },
  {
   "cell_type": "code",
   "execution_count": 179,
   "outputs": [
    {
     "name": "stdout",
     "output_type": "stream",
     "text": [
      "Epoch 1/500\n",
      "35/35 [==============================] - 2s 1ms/step - loss: 0.4841 - accuracy: 0.0000e+00\n",
      "Epoch 2/500\n",
      "35/35 [==============================] - 0s 1ms/step - loss: 0.3396 - accuracy: 0.0000e+00\n",
      "Epoch 3/500\n",
      "35/35 [==============================] - 0s 1ms/step - loss: 0.1778 - accuracy: 0.0000e+00\n",
      "Epoch 4/500\n",
      "35/35 [==============================] - 0s 833us/step - loss: 0.0466 - accuracy: 0.0000e+00\n",
      "Epoch 5/500\n",
      "35/35 [==============================] - 0s 843us/step - loss: 0.0071 - accuracy: 0.0000e+00\n",
      "Epoch 6/500\n",
      "35/35 [==============================] - 0s 816us/step - loss: 0.0065 - accuracy: 0.0000e+00\n",
      "Epoch 7/500\n",
      "35/35 [==============================] - 0s 802us/step - loss: 0.0062 - accuracy: 0.0000e+00\n",
      "Epoch 8/500\n",
      "35/35 [==============================] - 0s 767us/step - loss: 0.0063 - accuracy: 0.0000e+00\n",
      "Epoch 9/500\n",
      "35/35 [==============================] - 0s 804us/step - loss: 0.0062 - accuracy: 0.0000e+00\n",
      "Epoch 10/500\n",
      "35/35 [==============================] - 0s 790us/step - loss: 0.0062 - accuracy: 0.0000e+00\n",
      "Epoch 11/500\n",
      "35/35 [==============================] - 0s 1ms/step - loss: 0.0062 - accuracy: 0.0000e+00\n",
      "Epoch 12/500\n",
      "35/35 [==============================] - 0s 925us/step - loss: 0.0058 - accuracy: 0.0000e+00\n",
      "Epoch 13/500\n",
      "35/35 [==============================] - 0s 834us/step - loss: 0.0060 - accuracy: 0.0000e+00\n",
      "Epoch 14/500\n",
      "35/35 [==============================] - 0s 943us/step - loss: 0.0060 - accuracy: 0.0000e+00\n",
      "Epoch 15/500\n",
      "35/35 [==============================] - 0s 963us/step - loss: 0.0059 - accuracy: 0.0000e+00\n",
      "Epoch 16/500\n",
      "35/35 [==============================] - 0s 932us/step - loss: 0.0058 - accuracy: 0.0000e+00\n",
      "Epoch 17/500\n",
      "35/35 [==============================] - 0s 941us/step - loss: 0.0059 - accuracy: 0.0000e+00\n",
      "Epoch 18/500\n",
      "35/35 [==============================] - 0s 958us/step - loss: 0.0058 - accuracy: 0.0000e+00\n",
      "Epoch 19/500\n",
      "35/35 [==============================] - 0s 836us/step - loss: 0.0058 - accuracy: 0.0000e+00\n",
      "Epoch 20/500\n",
      "35/35 [==============================] - 0s 890us/step - loss: 0.0057 - accuracy: 0.0000e+00\n",
      "Epoch 21/500\n",
      "35/35 [==============================] - 0s 697us/step - loss: 0.0056 - accuracy: 0.0000e+00\n",
      "Epoch 22/500\n",
      "35/35 [==============================] - 0s 703us/step - loss: 0.0056 - accuracy: 0.0000e+00\n",
      "Epoch 23/500\n",
      "35/35 [==============================] - 0s 1ms/step - loss: 0.0058 - accuracy: 0.0000e+00\n",
      "Epoch 24/500\n",
      "35/35 [==============================] - 0s 881us/step - loss: 0.0056 - accuracy: 0.0000e+00\n",
      "Epoch 25/500\n",
      "35/35 [==============================] - 0s 998us/step - loss: 0.0056 - accuracy: 0.0000e+00\n",
      "Epoch 26/500\n",
      "35/35 [==============================] - 0s 2ms/step - loss: 0.0054 - accuracy: 0.0000e+00\n",
      "Epoch 27/500\n",
      "35/35 [==============================] - 0s 891us/step - loss: 0.0055 - accuracy: 0.0000e+00\n",
      "Epoch 28/500\n",
      "35/35 [==============================] - 0s 948us/step - loss: 0.0055 - accuracy: 0.0000e+00\n",
      "Epoch 29/500\n",
      "35/35 [==============================] - 0s 1ms/step - loss: 0.0056 - accuracy: 0.0000e+00\n",
      "Epoch 30/500\n",
      "35/35 [==============================] - 0s 1ms/step - loss: 0.0054 - accuracy: 0.0000e+00\n",
      "Epoch 31/500\n",
      "35/35 [==============================] - 0s 1ms/step - loss: 0.0055 - accuracy: 0.0000e+00\n",
      "Epoch 32/500\n",
      "35/35 [==============================] - 0s 1ms/step - loss: 0.0054 - accuracy: 0.0000e+00\n",
      "Epoch 33/500\n",
      "35/35 [==============================] - 0s 1ms/step - loss: 0.0054 - accuracy: 0.0000e+00\n",
      "Epoch 34/500\n",
      "35/35 [==============================] - 0s 977us/step - loss: 0.0054 - accuracy: 0.0000e+00\n",
      "Epoch 35/500\n",
      "35/35 [==============================] - 0s 955us/step - loss: 0.0053 - accuracy: 0.0000e+00\n",
      "Epoch 36/500\n",
      "35/35 [==============================] - 0s 1ms/step - loss: 0.0055 - accuracy: 0.0000e+00\n",
      "Epoch 37/500\n",
      "35/35 [==============================] - 0s 1ms/step - loss: 0.0053 - accuracy: 0.0000e+00\n",
      "Epoch 38/500\n",
      "35/35 [==============================] - 0s 1ms/step - loss: 0.0055 - accuracy: 0.0000e+00\n",
      "Epoch 39/500\n",
      "35/35 [==============================] - 0s 1ms/step - loss: 0.0053 - accuracy: 0.0000e+00\n",
      "Epoch 40/500\n",
      "35/35 [==============================] - 0s 1ms/step - loss: 0.0054 - accuracy: 0.0000e+00\n",
      "Epoch 41/500\n",
      "35/35 [==============================] - 0s 906us/step - loss: 0.0053 - accuracy: 0.0000e+00\n",
      "Epoch 42/500\n",
      "35/35 [==============================] - 0s 851us/step - loss: 0.0052 - accuracy: 0.0000e+00\n",
      "Epoch 43/500\n",
      "35/35 [==============================] - 0s 862us/step - loss: 0.0053 - accuracy: 0.0000e+00\n",
      "Epoch 44/500\n",
      "35/35 [==============================] - 0s 805us/step - loss: 0.0054 - accuracy: 0.0000e+00\n",
      "Epoch 45/500\n",
      "35/35 [==============================] - 0s 866us/step - loss: 0.0053 - accuracy: 0.0000e+00\n",
      "Epoch 46/500\n",
      "35/35 [==============================] - 0s 881us/step - loss: 0.0053 - accuracy: 0.0000e+00\n",
      "Epoch 47/500\n",
      "35/35 [==============================] - 0s 1ms/step - loss: 0.0053 - accuracy: 0.0000e+00\n",
      "Epoch 48/500\n",
      "35/35 [==============================] - 0s 862us/step - loss: 0.0052 - accuracy: 0.0000e+00\n",
      "Epoch 49/500\n",
      "35/35 [==============================] - 0s 829us/step - loss: 0.0053 - accuracy: 0.0000e+00\n",
      "Epoch 50/500\n",
      "35/35 [==============================] - 0s 842us/step - loss: 0.0053 - accuracy: 0.0000e+00\n",
      "Epoch 51/500\n",
      "35/35 [==============================] - 0s 811us/step - loss: 0.0052 - accuracy: 0.0000e+00\n",
      "Epoch 52/500\n",
      "35/35 [==============================] - 0s 786us/step - loss: 0.0052 - accuracy: 0.0000e+00\n",
      "Epoch 53/500\n",
      "35/35 [==============================] - 0s 782us/step - loss: 0.0054 - accuracy: 0.0000e+00\n",
      "Epoch 54/500\n",
      "35/35 [==============================] - 0s 765us/step - loss: 0.0052 - accuracy: 0.0000e+00\n",
      "Epoch 55/500\n",
      "35/35 [==============================] - 0s 684us/step - loss: 0.0052 - accuracy: 0.0000e+00\n",
      "Epoch 56/500\n",
      "35/35 [==============================] - 0s 690us/step - loss: 0.0052 - accuracy: 0.0000e+00\n",
      "Epoch 57/500\n",
      "35/35 [==============================] - 0s 693us/step - loss: 0.0054 - accuracy: 0.0000e+00\n",
      "Epoch 58/500\n",
      "35/35 [==============================] - 0s 754us/step - loss: 0.0053 - accuracy: 0.0000e+00\n",
      "Epoch 59/500\n",
      "35/35 [==============================] - 0s 793us/step - loss: 0.0053 - accuracy: 0.0000e+00\n",
      "Epoch 60/500\n",
      "35/35 [==============================] - 0s 911us/step - loss: 0.0052 - accuracy: 0.0000e+00\n",
      "Epoch 61/500\n",
      "35/35 [==============================] - 0s 772us/step - loss: 0.0052 - accuracy: 0.0000e+00\n",
      "Epoch 62/500\n",
      "35/35 [==============================] - 0s 710us/step - loss: 0.0050 - accuracy: 0.0000e+00\n",
      "Epoch 63/500\n",
      "35/35 [==============================] - 0s 751us/step - loss: 0.0052 - accuracy: 0.0000e+00\n",
      "Epoch 64/500\n",
      "35/35 [==============================] - 0s 754us/step - loss: 0.0053 - accuracy: 0.0000e+00\n",
      "Epoch 65/500\n",
      "35/35 [==============================] - 0s 720us/step - loss: 0.0051 - accuracy: 0.0000e+00\n",
      "Epoch 66/500\n",
      "35/35 [==============================] - 0s 712us/step - loss: 0.0053 - accuracy: 0.0000e+00\n",
      "Epoch 67/500\n",
      "35/35 [==============================] - 0s 728us/step - loss: 0.0052 - accuracy: 0.0000e+00\n",
      "Epoch 68/500\n",
      "35/35 [==============================] - 0s 701us/step - loss: 0.0053 - accuracy: 0.0000e+00\n",
      "Epoch 69/500\n",
      "35/35 [==============================] - 0s 720us/step - loss: 0.0054 - accuracy: 0.0000e+00\n",
      "Epoch 70/500\n",
      "35/35 [==============================] - 0s 760us/step - loss: 0.0050 - accuracy: 0.0000e+00\n",
      "Epoch 71/500\n",
      "35/35 [==============================] - 0s 754us/step - loss: 0.0054 - accuracy: 0.0000e+00\n",
      "Epoch 72/500\n",
      "35/35 [==============================] - 0s 687us/step - loss: 0.0052 - accuracy: 0.0000e+00\n",
      "Epoch 73/500\n",
      "35/35 [==============================] - 0s 722us/step - loss: 0.0052 - accuracy: 0.0000e+00\n",
      "Epoch 74/500\n",
      "35/35 [==============================] - 0s 697us/step - loss: 0.0051 - accuracy: 0.0000e+00\n",
      "Epoch 75/500\n",
      "35/35 [==============================] - 0s 699us/step - loss: 0.0052 - accuracy: 0.0000e+00\n",
      "Epoch 76/500\n",
      "35/35 [==============================] - 0s 803us/step - loss: 0.0052 - accuracy: 0.0000e+00\n",
      "Epoch 77/500\n",
      "35/35 [==============================] - 0s 832us/step - loss: 0.0053 - accuracy: 0.0000e+00\n",
      "Epoch 78/500\n",
      "35/35 [==============================] - 0s 850us/step - loss: 0.0053 - accuracy: 0.0000e+00\n",
      "Epoch 79/500\n",
      "35/35 [==============================] - 0s 793us/step - loss: 0.0052 - accuracy: 0.0000e+00\n",
      "Epoch 80/500\n",
      "35/35 [==============================] - 0s 703us/step - loss: 0.0051 - accuracy: 0.0000e+00\n",
      "Epoch 81/500\n",
      "35/35 [==============================] - 0s 696us/step - loss: 0.0053 - accuracy: 0.0000e+00\n",
      "Epoch 82/500\n",
      "35/35 [==============================] - 0s 726us/step - loss: 0.0051 - accuracy: 0.0000e+00\n",
      "Epoch 83/500\n",
      "35/35 [==============================] - 0s 705us/step - loss: 0.0052 - accuracy: 0.0000e+00\n",
      "Epoch 84/500\n",
      "35/35 [==============================] - 0s 746us/step - loss: 0.0053 - accuracy: 0.0000e+00\n",
      "Epoch 85/500\n",
      "35/35 [==============================] - 0s 716us/step - loss: 0.0053 - accuracy: 0.0000e+00\n",
      "Epoch 86/500\n",
      "35/35 [==============================] - 0s 691us/step - loss: 0.0053 - accuracy: 0.0000e+00\n",
      "Epoch 87/500\n",
      "35/35 [==============================] - 0s 693us/step - loss: 0.0052 - accuracy: 0.0000e+00\n",
      "Epoch 88/500\n",
      "35/35 [==============================] - 0s 706us/step - loss: 0.0054 - accuracy: 0.0000e+00\n",
      "Epoch 89/500\n",
      "35/35 [==============================] - 0s 769us/step - loss: 0.0053 - accuracy: 0.0000e+00\n",
      "Epoch 90/500\n",
      "35/35 [==============================] - 0s 756us/step - loss: 0.0051 - accuracy: 0.0000e+00\n",
      "Epoch 91/500\n",
      "35/35 [==============================] - 0s 714us/step - loss: 0.0052 - accuracy: 0.0000e+00\n",
      "Epoch 92/500\n",
      "35/35 [==============================] - 0s 690us/step - loss: 0.0051 - accuracy: 0.0000e+00\n",
      "Epoch 93/500\n",
      "35/35 [==============================] - 0s 710us/step - loss: 0.0051 - accuracy: 0.0000e+00\n",
      "Epoch 94/500\n",
      "35/35 [==============================] - 0s 748us/step - loss: 0.0050 - accuracy: 0.0000e+00\n",
      "Epoch 95/500\n",
      "35/35 [==============================] - 0s 819us/step - loss: 0.0052 - accuracy: 0.0000e+00\n",
      "Epoch 96/500\n",
      "35/35 [==============================] - 0s 732us/step - loss: 0.0054 - accuracy: 0.0000e+00\n",
      "Epoch 97/500\n",
      "35/35 [==============================] - 0s 737us/step - loss: 0.0052 - accuracy: 0.0000e+00\n",
      "Epoch 98/500\n",
      "35/35 [==============================] - 0s 698us/step - loss: 0.0052 - accuracy: 0.0000e+00\n",
      "Epoch 99/500\n",
      "35/35 [==============================] - 0s 722us/step - loss: 0.0053 - accuracy: 0.0000e+00\n",
      "Epoch 100/500\n",
      "35/35 [==============================] - 0s 701us/step - loss: 0.0052 - accuracy: 0.0000e+00\n",
      "Epoch 101/500\n",
      "35/35 [==============================] - 0s 704us/step - loss: 0.0052 - accuracy: 0.0000e+00\n",
      "Epoch 102/500\n",
      "35/35 [==============================] - 0s 726us/step - loss: 0.0052 - accuracy: 0.0000e+00\n",
      "Epoch 103/500\n",
      "35/35 [==============================] - 0s 680us/step - loss: 0.0053 - accuracy: 0.0000e+00\n",
      "Epoch 104/500\n",
      "35/35 [==============================] - 0s 703us/step - loss: 0.0052 - accuracy: 0.0000e+00\n",
      "Epoch 105/500\n",
      "35/35 [==============================] - 0s 701us/step - loss: 0.0052 - accuracy: 0.0000e+00\n",
      "Epoch 106/500\n",
      "35/35 [==============================] - 0s 707us/step - loss: 0.0053 - accuracy: 0.0000e+00\n",
      "Epoch 107/500\n",
      "35/35 [==============================] - 0s 667us/step - loss: 0.0053 - accuracy: 0.0000e+00\n",
      "Epoch 108/500\n",
      "35/35 [==============================] - 0s 878us/step - loss: 0.0053 - accuracy: 0.0000e+00\n",
      "Epoch 109/500\n",
      "35/35 [==============================] - 0s 691us/step - loss: 0.0052 - accuracy: 0.0000e+00\n",
      "Epoch 110/500\n",
      "35/35 [==============================] - 0s 720us/step - loss: 0.0050 - accuracy: 0.0000e+00\n",
      "Epoch 111/500\n",
      "35/35 [==============================] - 0s 708us/step - loss: 0.0052 - accuracy: 0.0000e+00\n",
      "Epoch 112/500\n",
      "35/35 [==============================] - 0s 709us/step - loss: 0.0052 - accuracy: 0.0000e+00\n",
      "Epoch 113/500\n",
      "35/35 [==============================] - 0s 707us/step - loss: 0.0053 - accuracy: 0.0000e+00\n",
      "Epoch 114/500\n",
      "35/35 [==============================] - 0s 683us/step - loss: 0.0052 - accuracy: 0.0000e+00\n",
      "Epoch 115/500\n",
      "35/35 [==============================] - 0s 700us/step - loss: 0.0053 - accuracy: 0.0000e+00\n",
      "Epoch 116/500\n",
      "35/35 [==============================] - 0s 700us/step - loss: 0.0053 - accuracy: 0.0000e+00\n",
      "Epoch 117/500\n",
      "35/35 [==============================] - 0s 667us/step - loss: 0.0054 - accuracy: 0.0000e+00\n",
      "Epoch 118/500\n",
      "35/35 [==============================] - 0s 795us/step - loss: 0.0052 - accuracy: 0.0000e+00\n",
      "Epoch 119/500\n",
      "35/35 [==============================] - 0s 784us/step - loss: 0.0052 - accuracy: 0.0000e+00\n",
      "Epoch 120/500\n",
      "35/35 [==============================] - 0s 720us/step - loss: 0.0051 - accuracy: 0.0000e+00\n",
      "Epoch 121/500\n",
      "35/35 [==============================] - 0s 693us/step - loss: 0.0051 - accuracy: 0.0000e+00\n",
      "Epoch 122/500\n",
      "35/35 [==============================] - 0s 683us/step - loss: 0.0052 - accuracy: 0.0000e+00\n",
      "Epoch 123/500\n",
      "35/35 [==============================] - 0s 683us/step - loss: 0.0052 - accuracy: 0.0000e+00\n",
      "Epoch 124/500\n",
      "35/35 [==============================] - 0s 689us/step - loss: 0.0054 - accuracy: 0.0000e+00\n",
      "Epoch 125/500\n",
      "35/35 [==============================] - 0s 715us/step - loss: 0.0051 - accuracy: 0.0000e+00\n",
      "Epoch 126/500\n",
      "35/35 [==============================] - 0s 696us/step - loss: 0.0051 - accuracy: 0.0000e+00\n",
      "Epoch 127/500\n",
      "35/35 [==============================] - 0s 692us/step - loss: 0.0054 - accuracy: 0.0000e+00\n",
      "Epoch 128/500\n",
      "35/35 [==============================] - 0s 684us/step - loss: 0.0052 - accuracy: 0.0000e+00\n",
      "Epoch 129/500\n",
      "35/35 [==============================] - 0s 692us/step - loss: 0.0051 - accuracy: 0.0000e+00\n",
      "Epoch 130/500\n",
      "35/35 [==============================] - 0s 709us/step - loss: 0.0052 - accuracy: 0.0000e+00\n",
      "Epoch 131/500\n",
      "35/35 [==============================] - 0s 694us/step - loss: 0.0052 - accuracy: 0.0000e+00\n",
      "Epoch 132/500\n",
      "35/35 [==============================] - 0s 701us/step - loss: 0.0053 - accuracy: 0.0000e+00\n",
      "Epoch 133/500\n",
      "35/35 [==============================] - 0s 714us/step - loss: 0.0052 - accuracy: 0.0000e+00\n",
      "Epoch 134/500\n",
      "35/35 [==============================] - 0s 662us/step - loss: 0.0050 - accuracy: 0.0000e+00\n",
      "Epoch 135/500\n",
      "35/35 [==============================] - 0s 688us/step - loss: 0.0052 - accuracy: 0.0000e+00\n",
      "Epoch 136/500\n",
      "35/35 [==============================] - 0s 1ms/step - loss: 0.0052 - accuracy: 0.0000e+00\n",
      "Epoch 137/500\n",
      "35/35 [==============================] - 0s 1ms/step - loss: 0.0051 - accuracy: 0.0000e+00\n",
      "Epoch 138/500\n",
      "35/35 [==============================] - 0s 1ms/step - loss: 0.0052 - accuracy: 0.0000e+00\n",
      "Epoch 139/500\n",
      "35/35 [==============================] - 0s 950us/step - loss: 0.0052 - accuracy: 0.0000e+00\n",
      "Epoch 140/500\n",
      "35/35 [==============================] - 0s 1ms/step - loss: 0.0051 - accuracy: 0.0000e+00\n",
      "Epoch 141/500\n",
      "35/35 [==============================] - 0s 935us/step - loss: 0.0054 - accuracy: 0.0000e+00\n",
      "Epoch 142/500\n",
      "35/35 [==============================] - 0s 991us/step - loss: 0.0051 - accuracy: 0.0000e+00\n",
      "Epoch 143/500\n",
      "35/35 [==============================] - 0s 1ms/step - loss: 0.0052 - accuracy: 0.0000e+00\n",
      "Epoch 144/500\n",
      "35/35 [==============================] - 0s 3ms/step - loss: 0.0053 - accuracy: 0.0000e+00\n",
      "Epoch 145/500\n",
      "35/35 [==============================] - 0s 2ms/step - loss: 0.0052 - accuracy: 0.0000e+00\n",
      "Epoch 146/500\n",
      "35/35 [==============================] - 0s 1ms/step - loss: 0.0052 - accuracy: 0.0000e+00\n",
      "Epoch 147/500\n",
      "35/35 [==============================] - 0s 1ms/step - loss: 0.0052 - accuracy: 0.0000e+00\n",
      "Epoch 148/500\n",
      "35/35 [==============================] - 0s 867us/step - loss: 0.0052 - accuracy: 0.0000e+00\n",
      "Epoch 149/500\n",
      "35/35 [==============================] - 0s 699us/step - loss: 0.0051 - accuracy: 0.0000e+00\n",
      "Epoch 150/500\n",
      "35/35 [==============================] - 0s 702us/step - loss: 0.0051 - accuracy: 0.0000e+00\n",
      "Epoch 151/500\n",
      "35/35 [==============================] - 0s 769us/step - loss: 0.0052 - accuracy: 0.0000e+00\n",
      "Epoch 152/500\n",
      "35/35 [==============================] - 0s 714us/step - loss: 0.0053 - accuracy: 0.0000e+00\n",
      "Epoch 153/500\n",
      "35/35 [==============================] - 0s 699us/step - loss: 0.0050 - accuracy: 0.0000e+00\n",
      "Epoch 154/500\n",
      "35/35 [==============================] - 0s 696us/step - loss: 0.0051 - accuracy: 0.0000e+00\n",
      "Epoch 155/500\n",
      "35/35 [==============================] - 0s 681us/step - loss: 0.0053 - accuracy: 0.0000e+00\n",
      "Epoch 156/500\n",
      "35/35 [==============================] - 0s 712us/step - loss: 0.0050 - accuracy: 0.0000e+00\n",
      "Epoch 157/500\n",
      "35/35 [==============================] - 0s 696us/step - loss: 0.0053 - accuracy: 0.0000e+00\n",
      "Epoch 158/500\n",
      "35/35 [==============================] - 0s 670us/step - loss: 0.0051 - accuracy: 0.0000e+00\n",
      "Epoch 159/500\n",
      "35/35 [==============================] - 0s 669us/step - loss: 0.0054 - accuracy: 0.0000e+00\n",
      "Epoch 160/500\n",
      "35/35 [==============================] - 0s 682us/step - loss: 0.0051 - accuracy: 0.0000e+00\n",
      "Epoch 161/500\n",
      "35/35 [==============================] - 0s 662us/step - loss: 0.0051 - accuracy: 0.0000e+00\n",
      "Epoch 162/500\n",
      "35/35 [==============================] - 0s 674us/step - loss: 0.0053 - accuracy: 0.0000e+00\n",
      "Epoch 163/500\n",
      "35/35 [==============================] - 0s 691us/step - loss: 0.0051 - accuracy: 0.0000e+00\n",
      "Epoch 164/500\n",
      "35/35 [==============================] - 0s 694us/step - loss: 0.0052 - accuracy: 0.0000e+00\n",
      "Epoch 165/500\n",
      "35/35 [==============================] - 0s 685us/step - loss: 0.0052 - accuracy: 0.0000e+00\n",
      "Epoch 166/500\n",
      "35/35 [==============================] - 0s 698us/step - loss: 0.0052 - accuracy: 0.0000e+00\n",
      "Epoch 167/500\n",
      "35/35 [==============================] - 0s 662us/step - loss: 0.0051 - accuracy: 0.0000e+00\n",
      "Epoch 168/500\n",
      "35/35 [==============================] - 0s 745us/step - loss: 0.0053 - accuracy: 0.0000e+00\n",
      "Epoch 169/500\n",
      "35/35 [==============================] - 0s 693us/step - loss: 0.0052 - accuracy: 0.0000e+00\n",
      "Epoch 170/500\n",
      "35/35 [==============================] - 0s 660us/step - loss: 0.0052 - accuracy: 0.0000e+00\n",
      "Epoch 171/500\n",
      "35/35 [==============================] - 0s 749us/step - loss: 0.0053 - accuracy: 0.0000e+00\n",
      "Epoch 172/500\n",
      "35/35 [==============================] - 0s 768us/step - loss: 0.0052 - accuracy: 0.0000e+00\n",
      "Epoch 173/500\n",
      "35/35 [==============================] - 0s 770us/step - loss: 0.0052 - accuracy: 0.0000e+00\n",
      "Epoch 174/500\n",
      "35/35 [==============================] - 0s 773us/step - loss: 0.0052 - accuracy: 0.0000e+00\n",
      "Epoch 175/500\n",
      "35/35 [==============================] - 0s 718us/step - loss: 0.0053 - accuracy: 0.0000e+00\n",
      "Epoch 176/500\n",
      "35/35 [==============================] - 0s 714us/step - loss: 0.0053 - accuracy: 0.0000e+00\n",
      "Epoch 177/500\n",
      "35/35 [==============================] - 0s 888us/step - loss: 0.0051 - accuracy: 0.0000e+00\n",
      "Epoch 178/500\n",
      "35/35 [==============================] - 0s 782us/step - loss: 0.0052 - accuracy: 0.0000e+00\n",
      "Epoch 179/500\n",
      "35/35 [==============================] - 0s 774us/step - loss: 0.0053 - accuracy: 0.0000e+00\n",
      "Epoch 180/500\n",
      "35/35 [==============================] - 0s 779us/step - loss: 0.0052 - accuracy: 0.0000e+00\n",
      "Epoch 181/500\n",
      "35/35 [==============================] - 0s 683us/step - loss: 0.0052 - accuracy: 0.0000e+00\n",
      "Epoch 182/500\n",
      "35/35 [==============================] - 0s 690us/step - loss: 0.0053 - accuracy: 0.0000e+00\n",
      "Epoch 183/500\n",
      "35/35 [==============================] - 0s 693us/step - loss: 0.0052 - accuracy: 0.0000e+00\n",
      "Epoch 184/500\n",
      "35/35 [==============================] - 0s 740us/step - loss: 0.0054 - accuracy: 0.0000e+00\n",
      "Epoch 185/500\n",
      "35/35 [==============================] - 0s 731us/step - loss: 0.0051 - accuracy: 0.0000e+00\n",
      "Epoch 186/500\n",
      "35/35 [==============================] - 0s 722us/step - loss: 0.0052 - accuracy: 0.0000e+00\n",
      "Epoch 187/500\n",
      "35/35 [==============================] - 0s 704us/step - loss: 0.0052 - accuracy: 0.0000e+00\n",
      "Epoch 188/500\n",
      "35/35 [==============================] - 0s 684us/step - loss: 0.0051 - accuracy: 0.0000e+00\n",
      "Epoch 189/500\n",
      "35/35 [==============================] - 0s 728us/step - loss: 0.0052 - accuracy: 0.0000e+00\n",
      "Epoch 190/500\n",
      "35/35 [==============================] - 0s 681us/step - loss: 0.0051 - accuracy: 0.0000e+00\n",
      "Epoch 191/500\n",
      "35/35 [==============================] - 0s 675us/step - loss: 0.0052 - accuracy: 0.0000e+00\n",
      "Epoch 192/500\n",
      "35/35 [==============================] - 0s 713us/step - loss: 0.0051 - accuracy: 0.0000e+00\n",
      "Epoch 193/500\n",
      "35/35 [==============================] - 0s 700us/step - loss: 0.0053 - accuracy: 0.0000e+00\n",
      "Epoch 194/500\n",
      "35/35 [==============================] - 0s 656us/step - loss: 0.0052 - accuracy: 0.0000e+00\n",
      "Epoch 195/500\n",
      "35/35 [==============================] - 0s 685us/step - loss: 0.0053 - accuracy: 0.0000e+00\n",
      "Epoch 196/500\n",
      "35/35 [==============================] - 0s 694us/step - loss: 0.0051 - accuracy: 0.0000e+00\n",
      "Epoch 197/500\n",
      "35/35 [==============================] - 0s 679us/step - loss: 0.0052 - accuracy: 0.0000e+00\n",
      "Epoch 198/500\n",
      "35/35 [==============================] - 0s 685us/step - loss: 0.0051 - accuracy: 0.0000e+00\n",
      "Epoch 199/500\n",
      "35/35 [==============================] - 0s 705us/step - loss: 0.0051 - accuracy: 0.0000e+00\n",
      "Epoch 200/500\n",
      "35/35 [==============================] - 0s 692us/step - loss: 0.0051 - accuracy: 0.0000e+00\n",
      "Epoch 201/500\n",
      "35/35 [==============================] - 0s 703us/step - loss: 0.0053 - accuracy: 0.0000e+00\n",
      "Epoch 202/500\n",
      "35/35 [==============================] - 0s 811us/step - loss: 0.0051 - accuracy: 0.0000e+00\n",
      "Epoch 203/500\n",
      "35/35 [==============================] - 0s 654us/step - loss: 0.0050 - accuracy: 0.0000e+00\n",
      "Epoch 204/500\n",
      "35/35 [==============================] - 0s 692us/step - loss: 0.0052 - accuracy: 0.0000e+00\n",
      "Epoch 205/500\n",
      "35/35 [==============================] - 0s 867us/step - loss: 0.0052 - accuracy: 0.0000e+00\n",
      "Epoch 206/500\n",
      "35/35 [==============================] - 0s 807us/step - loss: 0.0052 - accuracy: 0.0000e+00\n",
      "Epoch 207/500\n",
      "35/35 [==============================] - 0s 714us/step - loss: 0.0053 - accuracy: 0.0000e+00\n",
      "Epoch 208/500\n",
      "35/35 [==============================] - 0s 756us/step - loss: 0.0052 - accuracy: 0.0000e+00\n",
      "Epoch 209/500\n",
      "35/35 [==============================] - 0s 842us/step - loss: 0.0052 - accuracy: 0.0000e+00\n",
      "Epoch 210/500\n",
      "35/35 [==============================] - 0s 764us/step - loss: 0.0052 - accuracy: 0.0000e+00\n",
      "Epoch 211/500\n",
      "35/35 [==============================] - 0s 691us/step - loss: 0.0052 - accuracy: 0.0000e+00\n",
      "Epoch 212/500\n",
      "35/35 [==============================] - 0s 763us/step - loss: 0.0052 - accuracy: 0.0000e+00\n",
      "Epoch 213/500\n",
      "35/35 [==============================] - 0s 657us/step - loss: 0.0053 - accuracy: 0.0000e+00\n",
      "Epoch 214/500\n",
      "35/35 [==============================] - 0s 688us/step - loss: 0.0050 - accuracy: 0.0000e+00\n",
      "Epoch 215/500\n",
      "35/35 [==============================] - 0s 712us/step - loss: 0.0053 - accuracy: 0.0000e+00\n",
      "Epoch 216/500\n",
      "35/35 [==============================] - 0s 711us/step - loss: 0.0051 - accuracy: 0.0000e+00\n",
      "Epoch 217/500\n",
      "35/35 [==============================] - 0s 697us/step - loss: 0.0053 - accuracy: 0.0000e+00\n",
      "Epoch 218/500\n",
      "35/35 [==============================] - 0s 659us/step - loss: 0.0051 - accuracy: 0.0000e+00\n",
      "Epoch 219/500\n",
      "35/35 [==============================] - 0s 687us/step - loss: 0.0052 - accuracy: 0.0000e+00\n",
      "Epoch 220/500\n",
      "35/35 [==============================] - 0s 800us/step - loss: 0.0052 - accuracy: 0.0000e+00\n",
      "Epoch 221/500\n",
      "35/35 [==============================] - 0s 759us/step - loss: 0.0050 - accuracy: 0.0000e+00\n",
      "Epoch 222/500\n",
      "35/35 [==============================] - 0s 731us/step - loss: 0.0053 - accuracy: 0.0000e+00\n",
      "Epoch 223/500\n",
      "35/35 [==============================] - 0s 751us/step - loss: 0.0052 - accuracy: 0.0000e+00\n",
      "Epoch 224/500\n",
      "35/35 [==============================] - 0s 805us/step - loss: 0.0052 - accuracy: 0.0000e+00\n",
      "Epoch 225/500\n",
      "35/35 [==============================] - 0s 714us/step - loss: 0.0053 - accuracy: 0.0000e+00\n",
      "Epoch 226/500\n",
      "35/35 [==============================] - 0s 749us/step - loss: 0.0050 - accuracy: 0.0000e+00\n",
      "Epoch 227/500\n",
      "35/35 [==============================] - 0s 685us/step - loss: 0.0052 - accuracy: 0.0000e+00\n",
      "Epoch 228/500\n",
      "35/35 [==============================] - 0s 709us/step - loss: 0.0053 - accuracy: 0.0000e+00\n",
      "Epoch 229/500\n",
      "35/35 [==============================] - 0s 749us/step - loss: 0.0051 - accuracy: 0.0000e+00\n",
      "Epoch 230/500\n",
      "35/35 [==============================] - 0s 687us/step - loss: 0.0052 - accuracy: 0.0000e+00\n",
      "Epoch 231/500\n",
      "35/35 [==============================] - 0s 689us/step - loss: 0.0050 - accuracy: 0.0000e+00\n",
      "Epoch 232/500\n",
      "35/35 [==============================] - 0s 692us/step - loss: 0.0051 - accuracy: 0.0000e+00\n",
      "Epoch 233/500\n",
      "35/35 [==============================] - 0s 669us/step - loss: 0.0051 - accuracy: 0.0000e+00\n",
      "Epoch 234/500\n",
      "35/35 [==============================] - 0s 688us/step - loss: 0.0053 - accuracy: 0.0000e+00\n",
      "Epoch 235/500\n",
      "35/35 [==============================] - 0s 681us/step - loss: 0.0052 - accuracy: 0.0000e+00\n",
      "Epoch 236/500\n",
      "35/35 [==============================] - 0s 1ms/step - loss: 0.0052 - accuracy: 0.0000e+00\n",
      "Epoch 237/500\n",
      "35/35 [==============================] - 0s 773us/step - loss: 0.0050 - accuracy: 0.0000e+00\n",
      "Epoch 238/500\n",
      "35/35 [==============================] - 0s 680us/step - loss: 0.0050 - accuracy: 0.0000e+00\n",
      "Epoch 239/500\n",
      "35/35 [==============================] - 0s 738us/step - loss: 0.0052 - accuracy: 0.0000e+00\n",
      "Epoch 240/500\n",
      "35/35 [==============================] - 0s 751us/step - loss: 0.0051 - accuracy: 0.0000e+00\n",
      "Epoch 241/500\n",
      "35/35 [==============================] - 0s 866us/step - loss: 0.0053 - accuracy: 0.0000e+00\n",
      "Epoch 242/500\n",
      "35/35 [==============================] - 0s 944us/step - loss: 0.0050 - accuracy: 0.0000e+00\n",
      "Epoch 243/500\n",
      "35/35 [==============================] - 0s 838us/step - loss: 0.0051 - accuracy: 0.0000e+00\n",
      "Epoch 244/500\n",
      "35/35 [==============================] - 0s 840us/step - loss: 0.0049 - accuracy: 0.0000e+00\n",
      "Epoch 245/500\n",
      "35/35 [==============================] - 0s 811us/step - loss: 0.0054 - accuracy: 0.0000e+00\n",
      "Epoch 246/500\n",
      "35/35 [==============================] - 0s 777us/step - loss: 0.0052 - accuracy: 0.0000e+00\n",
      "Epoch 247/500\n",
      "35/35 [==============================] - 0s 812us/step - loss: 0.0052 - accuracy: 0.0000e+00\n",
      "Epoch 248/500\n",
      "35/35 [==============================] - 0s 868us/step - loss: 0.0053 - accuracy: 0.0000e+00\n",
      "Epoch 249/500\n",
      "35/35 [==============================] - 0s 882us/step - loss: 0.0051 - accuracy: 0.0000e+00\n",
      "Epoch 250/500\n",
      "35/35 [==============================] - 0s 1ms/step - loss: 0.0053 - accuracy: 0.0000e+00\n",
      "Epoch 251/500\n",
      "35/35 [==============================] - 0s 1ms/step - loss: 0.0052 - accuracy: 0.0000e+00\n",
      "Epoch 252/500\n",
      "35/35 [==============================] - 0s 809us/step - loss: 0.0052 - accuracy: 0.0000e+00\n",
      "Epoch 253/500\n",
      "35/35 [==============================] - 0s 788us/step - loss: 0.0052 - accuracy: 0.0000e+00\n",
      "Epoch 254/500\n",
      "35/35 [==============================] - 0s 838us/step - loss: 0.0051 - accuracy: 0.0000e+00\n",
      "Epoch 255/500\n",
      "35/35 [==============================] - 0s 832us/step - loss: 0.0051 - accuracy: 0.0000e+00\n",
      "Epoch 256/500\n",
      "35/35 [==============================] - 0s 817us/step - loss: 0.0052 - accuracy: 0.0000e+00\n",
      "Epoch 257/500\n",
      "35/35 [==============================] - 0s 779us/step - loss: 0.0052 - accuracy: 0.0000e+00\n",
      "Epoch 258/500\n",
      "35/35 [==============================] - 0s 810us/step - loss: 0.0050 - accuracy: 0.0000e+00\n",
      "Epoch 259/500\n",
      "35/35 [==============================] - 0s 859us/step - loss: 0.0053 - accuracy: 0.0000e+00\n",
      "Epoch 260/500\n",
      "35/35 [==============================] - 0s 865us/step - loss: 0.0052 - accuracy: 0.0000e+00\n",
      "Epoch 261/500\n",
      "35/35 [==============================] - 0s 831us/step - loss: 0.0050 - accuracy: 0.0000e+00\n",
      "Epoch 262/500\n",
      "35/35 [==============================] - 0s 809us/step - loss: 0.0051 - accuracy: 0.0000e+00\n",
      "Epoch 263/500\n",
      "35/35 [==============================] - 0s 825us/step - loss: 0.0051 - accuracy: 0.0000e+00\n",
      "Epoch 264/500\n",
      "35/35 [==============================] - 0s 827us/step - loss: 0.0050 - accuracy: 0.0000e+00\n",
      "Epoch 265/500\n",
      "35/35 [==============================] - 0s 836us/step - loss: 0.0052 - accuracy: 0.0000e+00\n",
      "Epoch 266/500\n",
      "35/35 [==============================] - 0s 857us/step - loss: 0.0051 - accuracy: 0.0000e+00\n",
      "Epoch 267/500\n",
      "35/35 [==============================] - 0s 1ms/step - loss: 0.0052 - accuracy: 0.0000e+00\n",
      "Epoch 268/500\n",
      "35/35 [==============================] - 0s 873us/step - loss: 0.0052 - accuracy: 0.0000e+00\n",
      "Epoch 269/500\n",
      "35/35 [==============================] - 0s 945us/step - loss: 0.0052 - accuracy: 0.0000e+00\n",
      "Epoch 270/500\n",
      "35/35 [==============================] - 0s 843us/step - loss: 0.0052 - accuracy: 0.0000e+00\n",
      "Epoch 271/500\n",
      "35/35 [==============================] - 0s 867us/step - loss: 0.0051 - accuracy: 0.0000e+00\n",
      "Epoch 272/500\n",
      "35/35 [==============================] - 0s 861us/step - loss: 0.0052 - accuracy: 0.0000e+00\n",
      "Epoch 273/500\n",
      "35/35 [==============================] - 0s 901us/step - loss: 0.0052 - accuracy: 0.0000e+00\n",
      "Epoch 274/500\n",
      "35/35 [==============================] - 0s 841us/step - loss: 0.0050 - accuracy: 0.0000e+00\n",
      "Epoch 275/500\n",
      "35/35 [==============================] - 0s 782us/step - loss: 0.0051 - accuracy: 0.0000e+00\n",
      "Epoch 276/500\n",
      "35/35 [==============================] - 0s 847us/step - loss: 0.0052 - accuracy: 0.0000e+00\n",
      "Epoch 277/500\n",
      "35/35 [==============================] - 0s 857us/step - loss: 0.0052 - accuracy: 0.0000e+00\n",
      "Epoch 278/500\n",
      "35/35 [==============================] - 0s 858us/step - loss: 0.0052 - accuracy: 0.0000e+00\n",
      "Epoch 279/500\n",
      "35/35 [==============================] - 0s 930us/step - loss: 0.0050 - accuracy: 0.0000e+00\n",
      "Epoch 280/500\n",
      "35/35 [==============================] - 0s 838us/step - loss: 0.0051 - accuracy: 0.0000e+00\n",
      "Epoch 281/500\n",
      "35/35 [==============================] - 0s 911us/step - loss: 0.0051 - accuracy: 0.0000e+00\n",
      "Epoch 282/500\n",
      "35/35 [==============================] - 0s 872us/step - loss: 0.0048 - accuracy: 0.0000e+00\n",
      "Epoch 283/500\n",
      "35/35 [==============================] - 0s 856us/step - loss: 0.0052 - accuracy: 0.0000e+00\n",
      "Epoch 284/500\n",
      "35/35 [==============================] - 0s 892us/step - loss: 0.0053 - accuracy: 0.0000e+00\n",
      "Epoch 285/500\n",
      "35/35 [==============================] - 0s 847us/step - loss: 0.0052 - accuracy: 0.0000e+00\n",
      "Epoch 286/500\n",
      "35/35 [==============================] - 0s 818us/step - loss: 0.0051 - accuracy: 0.0000e+00\n",
      "Epoch 287/500\n",
      "35/35 [==============================] - 0s 774us/step - loss: 0.0053 - accuracy: 0.0000e+00\n",
      "Epoch 288/500\n",
      "35/35 [==============================] - 0s 819us/step - loss: 0.0050 - accuracy: 0.0000e+00\n",
      "Epoch 289/500\n",
      "35/35 [==============================] - 0s 967us/step - loss: 0.0052 - accuracy: 0.0000e+00\n",
      "Epoch 290/500\n",
      "35/35 [==============================] - 0s 983us/step - loss: 0.0052 - accuracy: 0.0000e+00\n",
      "Epoch 291/500\n",
      "35/35 [==============================] - 0s 963us/step - loss: 0.0052 - accuracy: 0.0000e+00\n",
      "Epoch 292/500\n",
      "35/35 [==============================] - 0s 964us/step - loss: 0.0052 - accuracy: 0.0000e+00\n",
      "Epoch 293/500\n",
      "35/35 [==============================] - 0s 980us/step - loss: 0.0051 - accuracy: 0.0000e+00\n",
      "Epoch 294/500\n",
      "35/35 [==============================] - 0s 889us/step - loss: 0.0051 - accuracy: 0.0000e+00\n",
      "Epoch 295/500\n",
      "35/35 [==============================] - 0s 890us/step - loss: 0.0051 - accuracy: 0.0000e+00\n",
      "Epoch 296/500\n",
      "35/35 [==============================] - 0s 827us/step - loss: 0.0053 - accuracy: 0.0000e+00\n",
      "Epoch 297/500\n",
      "35/35 [==============================] - 0s 803us/step - loss: 0.0050 - accuracy: 0.0000e+00\n",
      "Epoch 298/500\n",
      "35/35 [==============================] - 0s 1ms/step - loss: 0.0053 - accuracy: 0.0000e+00\n",
      "Epoch 299/500\n",
      "35/35 [==============================] - 0s 920us/step - loss: 0.0052 - accuracy: 0.0000e+00\n",
      "Epoch 300/500\n",
      "35/35 [==============================] - 0s 976us/step - loss: 0.0052 - accuracy: 0.0000e+00\n",
      "Epoch 301/500\n",
      "35/35 [==============================] - 0s 859us/step - loss: 0.0051 - accuracy: 0.0000e+00\n",
      "Epoch 302/500\n",
      "35/35 [==============================] - 0s 900us/step - loss: 0.0050 - accuracy: 0.0000e+00\n",
      "Epoch 303/500\n",
      "35/35 [==============================] - 0s 877us/step - loss: 0.0052 - accuracy: 0.0000e+00\n",
      "Epoch 304/500\n",
      "35/35 [==============================] - 0s 897us/step - loss: 0.0050 - accuracy: 0.0000e+00\n",
      "Epoch 305/500\n",
      "35/35 [==============================] - 0s 723us/step - loss: 0.0051 - accuracy: 0.0000e+00\n",
      "Epoch 306/500\n",
      "35/35 [==============================] - 0s 667us/step - loss: 0.0052 - accuracy: 0.0000e+00\n",
      "Epoch 307/500\n",
      "35/35 [==============================] - 0s 643us/step - loss: 0.0051 - accuracy: 0.0000e+00\n",
      "Epoch 308/500\n",
      "35/35 [==============================] - 0s 872us/step - loss: 0.0052 - accuracy: 0.0000e+00\n",
      "Epoch 309/500\n",
      "35/35 [==============================] - 0s 1ms/step - loss: 0.0050 - accuracy: 0.0000e+00\n",
      "Epoch 310/500\n",
      "35/35 [==============================] - 0s 1ms/step - loss: 0.0049 - accuracy: 0.0000e+00\n",
      "Epoch 311/500\n",
      "35/35 [==============================] - 0s 1ms/step - loss: 0.0050 - accuracy: 0.0000e+00\n",
      "Epoch 312/500\n",
      "35/35 [==============================] - 0s 1ms/step - loss: 0.0052 - accuracy: 0.0000e+00\n",
      "Epoch 313/500\n",
      "35/35 [==============================] - 0s 1ms/step - loss: 0.0053 - accuracy: 0.0000e+00\n",
      "Epoch 314/500\n",
      "35/35 [==============================] - 0s 972us/step - loss: 0.0051 - accuracy: 0.0000e+00\n",
      "Epoch 315/500\n",
      "35/35 [==============================] - 0s 937us/step - loss: 0.0052 - accuracy: 0.0000e+00\n",
      "Epoch 316/500\n",
      "35/35 [==============================] - 0s 951us/step - loss: 0.0052 - accuracy: 0.0000e+00\n",
      "Epoch 317/500\n",
      "35/35 [==============================] - 0s 1ms/step - loss: 0.0052 - accuracy: 0.0000e+00\n",
      "Epoch 318/500\n",
      "35/35 [==============================] - 0s 918us/step - loss: 0.0052 - accuracy: 0.0000e+00\n",
      "Epoch 319/500\n",
      "35/35 [==============================] - 0s 946us/step - loss: 0.0049 - accuracy: 0.0000e+00\n",
      "Epoch 320/500\n",
      "35/35 [==============================] - 0s 1ms/step - loss: 0.0053 - accuracy: 0.0000e+00\n",
      "Epoch 321/500\n",
      "35/35 [==============================] - 0s 910us/step - loss: 0.0052 - accuracy: 0.0000e+00\n",
      "Epoch 322/500\n",
      "35/35 [==============================] - 0s 892us/step - loss: 0.0052 - accuracy: 0.0000e+00\n",
      "Epoch 323/500\n",
      "35/35 [==============================] - 0s 893us/step - loss: 0.0052 - accuracy: 0.0000e+00\n",
      "Epoch 324/500\n",
      "35/35 [==============================] - 0s 828us/step - loss: 0.0051 - accuracy: 0.0000e+00\n",
      "Epoch 325/500\n",
      "35/35 [==============================] - 0s 821us/step - loss: 0.0052 - accuracy: 0.0000e+00\n",
      "Epoch 326/500\n",
      "35/35 [==============================] - 0s 817us/step - loss: 0.0051 - accuracy: 0.0000e+00\n",
      "Epoch 327/500\n",
      "35/35 [==============================] - 0s 745us/step - loss: 0.0053 - accuracy: 0.0000e+00\n",
      "Epoch 328/500\n",
      "35/35 [==============================] - 0s 1ms/step - loss: 0.0052 - accuracy: 0.0000e+00\n",
      "Epoch 329/500\n",
      "35/35 [==============================] - 0s 862us/step - loss: 0.0053 - accuracy: 0.0000e+00\n",
      "Epoch 330/500\n",
      "35/35 [==============================] - 0s 825us/step - loss: 0.0051 - accuracy: 0.0000e+00\n",
      "Epoch 331/500\n",
      "35/35 [==============================] - 0s 1ms/step - loss: 0.0053 - accuracy: 0.0000e+00\n",
      "Epoch 332/500\n",
      "35/35 [==============================] - 0s 1ms/step - loss: 0.0052 - accuracy: 0.0000e+00\n",
      "Epoch 333/500\n",
      "35/35 [==============================] - 0s 961us/step - loss: 0.0053 - accuracy: 0.0000e+00\n",
      "Epoch 334/500\n",
      "35/35 [==============================] - 0s 882us/step - loss: 0.0052 - accuracy: 0.0000e+00\n",
      "Epoch 335/500\n",
      "35/35 [==============================] - 0s 866us/step - loss: 0.0050 - accuracy: 0.0000e+00\n",
      "Epoch 336/500\n",
      "35/35 [==============================] - 0s 949us/step - loss: 0.0050 - accuracy: 0.0000e+00\n",
      "Epoch 337/500\n",
      "35/35 [==============================] - 0s 889us/step - loss: 0.0052 - accuracy: 0.0000e+00\n",
      "Epoch 338/500\n",
      "35/35 [==============================] - 0s 914us/step - loss: 0.0051 - accuracy: 0.0000e+00\n",
      "Epoch 339/500\n",
      "35/35 [==============================] - 0s 966us/step - loss: 0.0050 - accuracy: 0.0000e+00\n",
      "Epoch 340/500\n",
      "35/35 [==============================] - 0s 923us/step - loss: 0.0050 - accuracy: 0.0000e+00\n",
      "Epoch 341/500\n",
      "35/35 [==============================] - 0s 846us/step - loss: 0.0052 - accuracy: 0.0000e+00\n",
      "Epoch 342/500\n",
      "35/35 [==============================] - 0s 882us/step - loss: 0.0051 - accuracy: 0.0000e+00\n",
      "Epoch 343/500\n",
      "35/35 [==============================] - 0s 917us/step - loss: 0.0053 - accuracy: 0.0000e+00\n",
      "Epoch 344/500\n",
      "35/35 [==============================] - 0s 835us/step - loss: 0.0051 - accuracy: 0.0000e+00\n",
      "Epoch 345/500\n",
      "35/35 [==============================] - 0s 816us/step - loss: 0.0052 - accuracy: 0.0000e+00\n",
      "Epoch 346/500\n",
      "35/35 [==============================] - 0s 873us/step - loss: 0.0051 - accuracy: 0.0000e+00\n",
      "Epoch 347/500\n",
      "35/35 [==============================] - 0s 907us/step - loss: 0.0051 - accuracy: 0.0000e+00\n",
      "Epoch 348/500\n",
      "35/35 [==============================] - 0s 987us/step - loss: 0.0051 - accuracy: 0.0000e+00\n",
      "Epoch 349/500\n",
      "35/35 [==============================] - 0s 825us/step - loss: 0.0052 - accuracy: 0.0000e+00\n",
      "Epoch 350/500\n",
      "35/35 [==============================] - 0s 865us/step - loss: 0.0052 - accuracy: 0.0000e+00\n",
      "Epoch 351/500\n",
      "35/35 [==============================] - 0s 832us/step - loss: 0.0052 - accuracy: 0.0000e+00\n",
      "Epoch 352/500\n",
      "35/35 [==============================] - 0s 1ms/step - loss: 0.0052 - accuracy: 0.0000e+00\n",
      "Epoch 353/500\n",
      "35/35 [==============================] - 0s 877us/step - loss: 0.0052 - accuracy: 0.0000e+00\n",
      "Epoch 354/500\n",
      "35/35 [==============================] - 0s 900us/step - loss: 0.0050 - accuracy: 0.0000e+00\n",
      "Epoch 355/500\n",
      "35/35 [==============================] - 0s 918us/step - loss: 0.0052 - accuracy: 0.0000e+00\n",
      "Epoch 356/500\n",
      "35/35 [==============================] - 0s 897us/step - loss: 0.0053 - accuracy: 0.0000e+00\n",
      "Epoch 357/500\n",
      "35/35 [==============================] - 0s 932us/step - loss: 0.0051 - accuracy: 0.0000e+00\n",
      "Epoch 358/500\n",
      "35/35 [==============================] - 0s 996us/step - loss: 0.0052 - accuracy: 0.0000e+00\n",
      "Epoch 359/500\n",
      "35/35 [==============================] - 0s 862us/step - loss: 0.0052 - accuracy: 0.0000e+00\n",
      "Epoch 360/500\n",
      "35/35 [==============================] - 0s 927us/step - loss: 0.0052 - accuracy: 0.0000e+00\n",
      "Epoch 361/500\n",
      "35/35 [==============================] - 0s 843us/step - loss: 0.0050 - accuracy: 0.0000e+00\n",
      "Epoch 362/500\n",
      "35/35 [==============================] - 0s 957us/step - loss: 0.0051 - accuracy: 0.0000e+00\n",
      "Epoch 363/500\n",
      "35/35 [==============================] - 0s 872us/step - loss: 0.0052 - accuracy: 0.0000e+00\n",
      "Epoch 364/500\n",
      "35/35 [==============================] - 0s 881us/step - loss: 0.0051 - accuracy: 0.0000e+00\n",
      "Epoch 365/500\n",
      "35/35 [==============================] - 0s 850us/step - loss: 0.0052 - accuracy: 0.0000e+00\n",
      "Epoch 366/500\n",
      "35/35 [==============================] - 0s 845us/step - loss: 0.0052 - accuracy: 0.0000e+00\n",
      "Epoch 367/500\n",
      "35/35 [==============================] - 0s 847us/step - loss: 0.0051 - accuracy: 0.0000e+00\n",
      "Epoch 368/500\n",
      "35/35 [==============================] - 0s 812us/step - loss: 0.0052 - accuracy: 0.0000e+00\n",
      "Epoch 369/500\n",
      "35/35 [==============================] - 0s 825us/step - loss: 0.0052 - accuracy: 0.0000e+00\n",
      "Epoch 370/500\n",
      "35/35 [==============================] - 0s 1ms/step - loss: 0.0051 - accuracy: 0.0000e+00\n",
      "Epoch 371/500\n",
      "35/35 [==============================] - 0s 910us/step - loss: 0.0049 - accuracy: 0.0000e+00\n",
      "Epoch 372/500\n",
      "35/35 [==============================] - 0s 1ms/step - loss: 0.0052 - accuracy: 0.0000e+00\n",
      "Epoch 373/500\n",
      "35/35 [==============================] - 0s 1ms/step - loss: 0.0051 - accuracy: 0.0000e+00\n",
      "Epoch 374/500\n",
      "35/35 [==============================] - 0s 1ms/step - loss: 0.0051 - accuracy: 0.0000e+00\n",
      "Epoch 375/500\n",
      "35/35 [==============================] - 0s 2ms/step - loss: 0.0052 - accuracy: 0.0000e+00\n",
      "Epoch 376/500\n",
      "35/35 [==============================] - 0s 2ms/step - loss: 0.0050 - accuracy: 0.0000e+00\n",
      "Epoch 377/500\n",
      "35/35 [==============================] - 0s 2ms/step - loss: 0.0051 - accuracy: 0.0000e+00\n",
      "Epoch 378/500\n",
      "35/35 [==============================] - 0s 1ms/step - loss: 0.0052 - accuracy: 0.0000e+00\n",
      "Epoch 379/500\n",
      "35/35 [==============================] - 0s 943us/step - loss: 0.0052 - accuracy: 0.0000e+00\n",
      "Epoch 380/500\n",
      "35/35 [==============================] - 0s 897us/step - loss: 0.0051 - accuracy: 0.0000e+00\n",
      "Epoch 381/500\n",
      "35/35 [==============================] - 0s 877us/step - loss: 0.0052 - accuracy: 0.0000e+00\n",
      "Epoch 382/500\n",
      "35/35 [==============================] - 0s 1ms/step - loss: 0.0052 - accuracy: 0.0000e+00\n",
      "Epoch 383/500\n",
      "35/35 [==============================] - 0s 932us/step - loss: 0.0052 - accuracy: 0.0000e+00\n",
      "Epoch 384/500\n",
      "35/35 [==============================] - 0s 849us/step - loss: 0.0052 - accuracy: 0.0000e+00\n",
      "Epoch 385/500\n",
      "35/35 [==============================] - 0s 1ms/step - loss: 0.0052 - accuracy: 0.0000e+00\n",
      "Epoch 386/500\n",
      "35/35 [==============================] - 0s 1ms/step - loss: 0.0049 - accuracy: 0.0000e+00\n",
      "Epoch 387/500\n",
      "35/35 [==============================] - 0s 1ms/step - loss: 0.0051 - accuracy: 0.0000e+00\n",
      "Epoch 388/500\n",
      "35/35 [==============================] - 0s 1ms/step - loss: 0.0052 - accuracy: 0.0000e+00\n",
      "Epoch 389/500\n",
      "35/35 [==============================] - 0s 1ms/step - loss: 0.0052 - accuracy: 0.0000e+00\n",
      "Epoch 390/500\n",
      "35/35 [==============================] - 0s 926us/step - loss: 0.0051 - accuracy: 0.0000e+00\n",
      "Epoch 391/500\n",
      "35/35 [==============================] - 0s 1ms/step - loss: 0.0052 - accuracy: 0.0000e+00\n",
      "Epoch 392/500\n",
      "35/35 [==============================] - 0s 676us/step - loss: 0.0052 - accuracy: 0.0000e+00\n",
      "Epoch 393/500\n",
      "35/35 [==============================] - 0s 996us/step - loss: 0.0052 - accuracy: 0.0000e+00\n",
      "Epoch 394/500\n",
      "35/35 [==============================] - 0s 1ms/step - loss: 0.0051 - accuracy: 0.0000e+00\n",
      "Epoch 395/500\n",
      "35/35 [==============================] - 0s 1ms/step - loss: 0.0052 - accuracy: 0.0000e+00\n",
      "Epoch 396/500\n",
      "35/35 [==============================] - 0s 1ms/step - loss: 0.0052 - accuracy: 0.0000e+00\n",
      "Epoch 397/500\n",
      "35/35 [==============================] - 0s 1ms/step - loss: 0.0052 - accuracy: 0.0000e+00\n",
      "Epoch 398/500\n",
      "35/35 [==============================] - 0s 1ms/step - loss: 0.0050 - accuracy: 0.0000e+00\n",
      "Epoch 399/500\n",
      "35/35 [==============================] - 0s 1ms/step - loss: 0.0051 - accuracy: 0.0000e+00\n",
      "Epoch 400/500\n",
      "35/35 [==============================] - 0s 2ms/step - loss: 0.0050 - accuracy: 0.0000e+00\n",
      "Epoch 401/500\n",
      "35/35 [==============================] - 0s 1ms/step - loss: 0.0051 - accuracy: 0.0000e+00\n",
      "Epoch 402/500\n",
      "35/35 [==============================] - 0s 2ms/step - loss: 0.0051 - accuracy: 0.0000e+00\n",
      "Epoch 403/500\n",
      "35/35 [==============================] - 0s 2ms/step - loss: 0.0051 - accuracy: 0.0000e+00\n",
      "Epoch 404/500\n",
      "35/35 [==============================] - 0s 1ms/step - loss: 0.0051 - accuracy: 0.0000e+00\n",
      "Epoch 405/500\n",
      "35/35 [==============================] - 0s 1ms/step - loss: 0.0051 - accuracy: 0.0000e+00\n",
      "Epoch 406/500\n",
      "35/35 [==============================] - 0s 1ms/step - loss: 0.0052 - accuracy: 0.0000e+00\n",
      "Epoch 407/500\n",
      "35/35 [==============================] - 0s 2ms/step - loss: 0.0050 - accuracy: 0.0000e+00\n",
      "Epoch 408/500\n",
      "35/35 [==============================] - 0s 2ms/step - loss: 0.0050 - accuracy: 0.0000e+00\n",
      "Epoch 409/500\n",
      "35/35 [==============================] - 0s 2ms/step - loss: 0.0053 - accuracy: 0.0000e+00\n",
      "Epoch 410/500\n",
      "35/35 [==============================] - 0s 1ms/step - loss: 0.0051 - accuracy: 0.0000e+00\n",
      "Epoch 411/500\n",
      "35/35 [==============================] - 0s 1ms/step - loss: 0.0052 - accuracy: 0.0000e+00\n",
      "Epoch 412/500\n",
      "35/35 [==============================] - 0s 1ms/step - loss: 0.0052 - accuracy: 0.0000e+00\n",
      "Epoch 413/500\n",
      "35/35 [==============================] - 0s 1ms/step - loss: 0.0052 - accuracy: 0.0000e+00\n",
      "Epoch 414/500\n",
      "35/35 [==============================] - 0s 1ms/step - loss: 0.0051 - accuracy: 0.0000e+00\n",
      "Epoch 415/500\n",
      "35/35 [==============================] - 0s 1ms/step - loss: 0.0050 - accuracy: 0.0000e+00\n",
      "Epoch 416/500\n",
      "35/35 [==============================] - 0s 1ms/step - loss: 0.0052 - accuracy: 0.0000e+00\n",
      "Epoch 417/500\n",
      "35/35 [==============================] - 0s 1ms/step - loss: 0.0051 - accuracy: 0.0000e+00\n",
      "Epoch 418/500\n",
      "35/35 [==============================] - 0s 1ms/step - loss: 0.0050 - accuracy: 0.0000e+00\n",
      "Epoch 419/500\n",
      "35/35 [==============================] - 0s 915us/step - loss: 0.0051 - accuracy: 0.0000e+00\n",
      "Epoch 420/500\n",
      "35/35 [==============================] - 0s 1ms/step - loss: 0.0052 - accuracy: 0.0000e+00\n",
      "Epoch 421/500\n",
      "35/35 [==============================] - 0s 1ms/step - loss: 0.0051 - accuracy: 0.0000e+00\n",
      "Epoch 422/500\n",
      "35/35 [==============================] - 0s 1ms/step - loss: 0.0052 - accuracy: 0.0000e+00\n",
      "Epoch 423/500\n",
      "35/35 [==============================] - 0s 1ms/step - loss: 0.0052 - accuracy: 0.0000e+00\n",
      "Epoch 424/500\n",
      "35/35 [==============================] - 0s 1ms/step - loss: 0.0051 - accuracy: 0.0000e+00\n",
      "Epoch 425/500\n",
      "35/35 [==============================] - 0s 1ms/step - loss: 0.0052 - accuracy: 0.0000e+00\n",
      "Epoch 426/500\n",
      "35/35 [==============================] - 0s 1ms/step - loss: 0.0050 - accuracy: 0.0000e+00\n",
      "Epoch 427/500\n",
      "35/35 [==============================] - 0s 1ms/step - loss: 0.0051 - accuracy: 0.0000e+00\n",
      "Epoch 428/500\n",
      "35/35 [==============================] - 0s 1ms/step - loss: 0.0051 - accuracy: 0.0000e+00\n",
      "Epoch 429/500\n",
      "35/35 [==============================] - 0s 1ms/step - loss: 0.0052 - accuracy: 0.0000e+00\n",
      "Epoch 430/500\n",
      "35/35 [==============================] - 0s 1ms/step - loss: 0.0052 - accuracy: 0.0000e+00\n",
      "Epoch 431/500\n",
      "35/35 [==============================] - 0s 1ms/step - loss: 0.0051 - accuracy: 0.0000e+00\n",
      "Epoch 432/500\n",
      "35/35 [==============================] - 0s 1ms/step - loss: 0.0052 - accuracy: 0.0000e+00\n",
      "Epoch 433/500\n",
      "35/35 [==============================] - 0s 1ms/step - loss: 0.0052 - accuracy: 0.0000e+00\n",
      "Epoch 434/500\n",
      "35/35 [==============================] - 0s 1ms/step - loss: 0.0051 - accuracy: 0.0000e+00\n",
      "Epoch 435/500\n",
      "35/35 [==============================] - 0s 2ms/step - loss: 0.0052 - accuracy: 0.0000e+00\n",
      "Epoch 436/500\n",
      "35/35 [==============================] - 0s 1ms/step - loss: 0.0052 - accuracy: 0.0000e+00\n",
      "Epoch 437/500\n",
      "35/35 [==============================] - 0s 2ms/step - loss: 0.0051 - accuracy: 0.0000e+00\n",
      "Epoch 438/500\n",
      "35/35 [==============================] - 0s 1ms/step - loss: 0.0052 - accuracy: 0.0000e+00\n",
      "Epoch 439/500\n",
      "35/35 [==============================] - 0s 1ms/step - loss: 0.0051 - accuracy: 0.0000e+00\n",
      "Epoch 440/500\n",
      "35/35 [==============================] - 0s 1ms/step - loss: 0.0050 - accuracy: 0.0000e+00\n",
      "Epoch 441/500\n",
      "35/35 [==============================] - 0s 1ms/step - loss: 0.0052 - accuracy: 0.0000e+00\n",
      "Epoch 442/500\n",
      "35/35 [==============================] - 0s 2ms/step - loss: 0.0051 - accuracy: 0.0000e+00\n",
      "Epoch 443/500\n",
      "35/35 [==============================] - 0s 1ms/step - loss: 0.0050 - accuracy: 0.0000e+00\n",
      "Epoch 444/500\n",
      "35/35 [==============================] - 0s 1ms/step - loss: 0.0048 - accuracy: 0.0000e+00\n",
      "Epoch 445/500\n",
      "35/35 [==============================] - 0s 2ms/step - loss: 0.0052 - accuracy: 0.0000e+00\n",
      "Epoch 446/500\n",
      "35/35 [==============================] - 0s 1ms/step - loss: 0.0051 - accuracy: 0.0000e+00\n",
      "Epoch 447/500\n",
      "35/35 [==============================] - 0s 2ms/step - loss: 0.0052 - accuracy: 0.0000e+00\n",
      "Epoch 448/500\n",
      "35/35 [==============================] - 0s 1ms/step - loss: 0.0050 - accuracy: 0.0000e+00\n",
      "Epoch 449/500\n",
      "35/35 [==============================] - 0s 1ms/step - loss: 0.0051 - accuracy: 0.0000e+00\n",
      "Epoch 450/500\n",
      "35/35 [==============================] - 0s 2ms/step - loss: 0.0052 - accuracy: 0.0000e+00\n",
      "Epoch 451/500\n",
      "35/35 [==============================] - 0s 1ms/step - loss: 0.0052 - accuracy: 0.0000e+00\n",
      "Epoch 452/500\n",
      "35/35 [==============================] - 0s 1ms/step - loss: 0.0051 - accuracy: 0.0000e+00\n",
      "Epoch 453/500\n",
      "35/35 [==============================] - 0s 1ms/step - loss: 0.0051 - accuracy: 0.0000e+00\n",
      "Epoch 454/500\n",
      "35/35 [==============================] - 0s 1ms/step - loss: 0.0053 - accuracy: 0.0000e+00\n",
      "Epoch 455/500\n",
      "35/35 [==============================] - 0s 1ms/step - loss: 0.0051 - accuracy: 0.0000e+00\n",
      "Epoch 456/500\n",
      "35/35 [==============================] - 0s 1ms/step - loss: 0.0051 - accuracy: 0.0000e+00\n",
      "Epoch 457/500\n",
      "35/35 [==============================] - 0s 1ms/step - loss: 0.0052 - accuracy: 0.0000e+00\n",
      "Epoch 458/500\n",
      "35/35 [==============================] - 0s 1ms/step - loss: 0.0051 - accuracy: 0.0000e+00\n",
      "Epoch 459/500\n",
      "35/35 [==============================] - 0s 1ms/step - loss: 0.0053 - accuracy: 0.0000e+00\n",
      "Epoch 460/500\n",
      "35/35 [==============================] - 0s 1ms/step - loss: 0.0050 - accuracy: 0.0000e+00\n",
      "Epoch 461/500\n",
      "35/35 [==============================] - 0s 1ms/step - loss: 0.0053 - accuracy: 0.0000e+00\n",
      "Epoch 462/500\n",
      "35/35 [==============================] - 0s 1ms/step - loss: 0.0052 - accuracy: 0.0000e+00\n",
      "Epoch 463/500\n",
      "35/35 [==============================] - 0s 1ms/step - loss: 0.0052 - accuracy: 0.0000e+00\n",
      "Epoch 464/500\n",
      "35/35 [==============================] - 0s 1ms/step - loss: 0.0051 - accuracy: 0.0000e+00\n",
      "Epoch 465/500\n",
      "35/35 [==============================] - 0s 2ms/step - loss: 0.0051 - accuracy: 0.0000e+00\n",
      "Epoch 466/500\n",
      "35/35 [==============================] - 0s 1ms/step - loss: 0.0051 - accuracy: 0.0000e+00\n",
      "Epoch 467/500\n",
      "35/35 [==============================] - 0s 1ms/step - loss: 0.0051 - accuracy: 0.0000e+00\n",
      "Epoch 468/500\n",
      "35/35 [==============================] - 0s 1ms/step - loss: 0.0051 - accuracy: 0.0000e+00\n",
      "Epoch 469/500\n",
      "35/35 [==============================] - 0s 1ms/step - loss: 0.0053 - accuracy: 0.0000e+00\n",
      "Epoch 470/500\n",
      "35/35 [==============================] - 0s 1ms/step - loss: 0.0050 - accuracy: 0.0000e+00\n",
      "Epoch 471/500\n",
      "35/35 [==============================] - 0s 1ms/step - loss: 0.0052 - accuracy: 0.0000e+00\n",
      "Epoch 472/500\n",
      "35/35 [==============================] - 0s 1ms/step - loss: 0.0051 - accuracy: 0.0000e+00\n",
      "Epoch 473/500\n",
      "35/35 [==============================] - 0s 1ms/step - loss: 0.0052 - accuracy: 0.0000e+00\n",
      "Epoch 474/500\n",
      "35/35 [==============================] - 0s 1ms/step - loss: 0.0051 - accuracy: 0.0000e+00\n",
      "Epoch 475/500\n",
      "35/35 [==============================] - 0s 1ms/step - loss: 0.0053 - accuracy: 0.0000e+00\n",
      "Epoch 476/500\n",
      "35/35 [==============================] - 0s 1ms/step - loss: 0.0052 - accuracy: 0.0000e+00\n",
      "Epoch 477/500\n",
      "35/35 [==============================] - 0s 2ms/step - loss: 0.0051 - accuracy: 0.0000e+00\n",
      "Epoch 478/500\n",
      "35/35 [==============================] - 0s 2ms/step - loss: 0.0051 - accuracy: 0.0000e+00\n",
      "Epoch 479/500\n",
      "35/35 [==============================] - 0s 2ms/step - loss: 0.0051 - accuracy: 0.0000e+00\n",
      "Epoch 480/500\n",
      "35/35 [==============================] - 0s 2ms/step - loss: 0.0051 - accuracy: 0.0000e+00\n",
      "Epoch 481/500\n",
      "35/35 [==============================] - 0s 3ms/step - loss: 0.0053 - accuracy: 0.0000e+00\n",
      "Epoch 482/500\n",
      "35/35 [==============================] - 0s 3ms/step - loss: 0.0052 - accuracy: 0.0000e+00\n",
      "Epoch 483/500\n",
      "35/35 [==============================] - 0s 2ms/step - loss: 0.0051 - accuracy: 0.0000e+00\n",
      "Epoch 484/500\n",
      "35/35 [==============================] - 0s 2ms/step - loss: 0.0051 - accuracy: 0.0000e+00\n",
      "Epoch 485/500\n",
      "35/35 [==============================] - 0s 1ms/step - loss: 0.0050 - accuracy: 0.0000e+00\n",
      "Epoch 486/500\n",
      "35/35 [==============================] - 0s 2ms/step - loss: 0.0049 - accuracy: 0.0000e+00\n",
      "Epoch 487/500\n",
      "35/35 [==============================] - 0s 2ms/step - loss: 0.0052 - accuracy: 0.0000e+00\n",
      "Epoch 488/500\n",
      "35/35 [==============================] - 0s 2ms/step - loss: 0.0051 - accuracy: 0.0000e+00\n",
      "Epoch 489/500\n",
      "35/35 [==============================] - 0s 1ms/step - loss: 0.0052 - accuracy: 0.0000e+00\n",
      "Epoch 490/500\n",
      "35/35 [==============================] - 0s 1ms/step - loss: 0.0049 - accuracy: 0.0000e+00\n",
      "Epoch 491/500\n",
      "35/35 [==============================] - 0s 1ms/step - loss: 0.0051 - accuracy: 0.0000e+00\n",
      "Epoch 492/500\n",
      "35/35 [==============================] - 0s 979us/step - loss: 0.0052 - accuracy: 0.0000e+00\n",
      "Epoch 493/500\n",
      "35/35 [==============================] - 0s 966us/step - loss: 0.0051 - accuracy: 0.0000e+00\n",
      "Epoch 494/500\n",
      "35/35 [==============================] - 0s 936us/step - loss: 0.0051 - accuracy: 0.0000e+00\n",
      "Epoch 495/500\n",
      "35/35 [==============================] - 0s 1ms/step - loss: 0.0052 - accuracy: 0.0000e+00\n",
      "Epoch 496/500\n",
      "35/35 [==============================] - 0s 1ms/step - loss: 0.0052 - accuracy: 0.0000e+00\n",
      "Epoch 497/500\n",
      "35/35 [==============================] - 0s 857us/step - loss: 0.0050 - accuracy: 0.0000e+00\n",
      "Epoch 498/500\n",
      "35/35 [==============================] - 0s 937us/step - loss: 0.0052 - accuracy: 0.0000e+00\n",
      "Epoch 499/500\n",
      "35/35 [==============================] - 0s 933us/step - loss: 0.0050 - accuracy: 0.0000e+00\n",
      "Epoch 500/500\n",
      "35/35 [==============================] - 0s 1ms/step - loss: 0.0052 - accuracy: 0.0000e+00\n"
     ]
    },
    {
     "data": {
      "text/plain": "<keras.src.callbacks.History at 0x169d52980>"
     },
     "execution_count": 179,
     "metadata": {},
     "output_type": "execute_result"
    }
   ],
   "source": [
    "from keras.models import Sequential\n",
    "from keras.layers import Dense, LSTM\n",
    "\n",
    "model = Sequential()\n",
    "model.add(LSTM(16,activation='tanh',return_sequences=True, input_shape=(1,look_back)))\n",
    "model.add(LSTM(8,activation='tanh',return_sequences=True, input_shape=(1,look_back)))\n",
    "model.add(LSTM(4,activation='tanh',return_sequences=False, input_shape=(1,look_back)))\n",
    "model.add(Dense(1))\n",
    "model.compile(loss='mean_squared_error', optimizer='rmsprop', metrics=['accuracy'])\n",
    "model.fit(trainX, trainY, epochs=500, batch_size=4, verbose=1)"
   ],
   "metadata": {
    "collapsed": false,
    "ExecuteTime": {
     "end_time": "2023-12-05T07:40:29.882521Z",
     "start_time": "2023-12-05T07:40:09.021839Z"
    }
   }
  },
  {
   "cell_type": "code",
   "execution_count": 180,
   "outputs": [
    {
     "name": "stdout",
     "output_type": "stream",
     "text": [
      "5/5 [==============================] - 1s 4ms/step\n",
      "2/2 [==============================] - 0s 2ms/step\n"
     ]
    }
   ],
   "source": [
    "trainPredict = model.predict(trainX)\n",
    "testPredict = model.predict(testX)"
   ],
   "metadata": {
    "collapsed": false,
    "ExecuteTime": {
     "end_time": "2023-12-05T07:40:33.146338Z",
     "start_time": "2023-12-05T07:40:29.898848Z"
    }
   }
  },
  {
   "cell_type": "code",
   "execution_count": 181,
   "outputs": [],
   "source": [
    "trainPredict.shape, trainY.shape\n",
    "trainPredict = scaler.inverse_transform(trainPredict)\n",
    "trainY = scaler.inverse_transform([trainY])\n",
    "testPredict = scaler.inverse_transform(testPredict)\n",
    "testY = scaler.inverse_transform([testY])"
   ],
   "metadata": {
    "collapsed": false,
    "ExecuteTime": {
     "end_time": "2023-12-05T07:40:33.146836Z",
     "start_time": "2023-12-05T07:40:30.856597Z"
    }
   }
  },
  {
   "cell_type": "code",
   "execution_count": 182,
   "outputs": [
    {
     "name": "stdout",
     "output_type": "stream",
     "text": [
      "Train Score: 29.05 RMSE\n",
      "Test Score: 53.30 RMSE\n"
     ]
    }
   ],
   "source": [
    "trainScore = math.sqrt(mean_squared_error(trainY[0], trainPredict[:,0]))\n",
    "print('Train Score: %.2f RMSE' % (trainScore))\n",
    "testScore = math.sqrt(mean_squared_error(testY[0], testPredict[:,0]))\n",
    "print('Test Score: %.2f RMSE' % (testScore))"
   ],
   "metadata": {
    "collapsed": false,
    "ExecuteTime": {
     "end_time": "2023-12-05T07:40:33.147012Z",
     "start_time": "2023-12-05T07:40:30.872323Z"
    }
   }
  },
  {
   "cell_type": "code",
   "execution_count": 183,
   "outputs": [],
   "source": [
    "trainPredictPlot = np.empty_like(df1)\n",
    "trainPredictPlot[:, :] = np.nan\n",
    "trainPredictPlot[look_back:len(trainPredict)+look_back, :] = trainPredict"
   ],
   "metadata": {
    "collapsed": false,
    "ExecuteTime": {
     "end_time": "2023-12-05T07:40:33.147085Z",
     "start_time": "2023-12-05T07:40:30.878803Z"
    }
   }
  },
  {
   "cell_type": "code",
   "execution_count": 184,
   "outputs": [],
   "source": [
    "testPredictPlot = np.empty_like(df1)\n",
    "testPredictPlot[:, :] = np.nan\n",
    "testPredictPlot[len(trainPredict) + look_back + 1:len(df1) - 1, :] = testPredict"
   ],
   "metadata": {
    "collapsed": false,
    "ExecuteTime": {
     "end_time": "2023-12-05T07:40:33.147147Z",
     "start_time": "2023-12-05T07:40:30.881386Z"
    }
   }
  },
  {
   "cell_type": "code",
   "execution_count": 185,
   "outputs": [
    {
     "data": {
      "application/vnd.plotly.v1+json": {
       "data": [
        {
         "name": "Original dataset",
         "x": [
          0,
          1,
          2,
          3,
          4,
          5,
          6,
          7,
          8,
          9,
          10,
          11,
          12,
          13,
          14,
          15,
          16,
          17,
          18,
          19,
          20,
          21,
          22,
          23,
          24,
          25,
          26,
          27,
          28,
          29,
          30,
          31,
          32,
          33,
          34,
          35,
          36,
          37,
          38,
          39,
          40,
          41,
          42,
          43,
          44,
          45,
          46,
          47,
          48,
          49,
          50,
          51,
          52,
          53,
          54,
          55,
          56,
          57,
          58,
          59,
          60,
          61,
          62,
          63,
          64,
          65,
          66,
          67,
          68,
          69,
          70,
          71,
          72,
          73,
          74,
          75,
          76,
          77,
          78,
          79,
          80,
          81,
          82,
          83,
          84,
          85,
          86,
          87,
          88,
          89,
          90,
          91,
          92,
          93,
          94,
          95,
          96,
          97,
          98,
          99,
          100,
          101,
          102,
          103,
          104,
          105,
          106,
          107,
          108,
          109,
          110,
          111,
          112,
          113,
          114,
          115,
          116,
          117,
          118,
          119,
          120,
          121,
          122,
          123,
          124,
          125,
          126,
          127,
          128,
          129,
          130,
          131,
          132,
          133,
          134,
          135,
          136,
          137,
          138,
          139,
          140,
          141,
          142,
          143,
          144,
          145,
          146,
          147,
          148,
          149,
          150,
          151,
          152,
          153,
          154,
          155,
          156,
          157,
          158,
          159,
          160,
          161,
          162,
          163,
          164,
          165,
          166,
          167,
          168,
          169,
          170,
          171,
          172,
          173,
          174,
          175,
          176,
          177,
          178,
          179,
          180,
          181,
          182,
          183,
          184,
          185,
          186,
          187,
          188,
          189,
          190,
          191,
          192,
          193,
          194,
          195,
          196,
          197,
          198,
          199,
          200,
          201,
          202,
          203
         ],
         "y": [
          267.0,
          335.0,
          332.0,
          351.0,
          360.0,
          354.0,
          354.0,
          328.0,
          351.0,
          384.0,
          315.0,
          289.0,
          248.0,
          262.0,
          230.0,
          277.0,
          304.0,
          333.0,
          313.0,
          274.0,
          326.0,
          267.0,
          277.0,
          322.0,
          362.0,
          345.0,
          329.0,
          298.0,
          344.0,
          360.0,
          340.0,
          330.0,
          330.0,
          367.0,
          325.0,
          314.0,
          302.0,
          334.0,
          304.0,
          326.0,
          291.0,
          316.0,
          310.0,
          272.0,
          284.0,
          295.0,
          305.0,
          274.0,
          274.0,
          278.0,
          287.0,
          243.00000000000003,
          259.0,
          251.0,
          264.0,
          283.0,
          247.0,
          288.0,
          269.0,
          277.0,
          267.0,
          294.0,
          244.00000000000003,
          268.0,
          292.0,
          312.0,
          278.0,
          257.0,
          272.0,
          286.0,
          293.0,
          296.0,
          314.0,
          306.0,
          315.0,
          342.0,
          338.0,
          311.0,
          390.0,
          350.0,
          361.0,
          359.0,
          337.0,
          337.0,
          322.0,
          336.0,
          366.0,
          350.0,
          390.0,
          315.0,
          344.0,
          383.0,
          363.0,
          293.0,
          329.0,
          354.0,
          344.0,
          301.0,
          298.0,
          290.0,
          307.0,
          310.0,
          307.0,
          285.0,
          285.0,
          270.0,
          288.0,
          375.0,
          291.0,
          338.0,
          373.0,
          341.0,
          311.0,
          333.0,
          291.0,
          369.0,
          326.0,
          320.0,
          408.0,
          319.0,
          334.0,
          339.0,
          397.0,
          362.0,
          367.0,
          353.0,
          337.0,
          376.0,
          353.0,
          364.0,
          350.0,
          334.0,
          362.0,
          379.0,
          416.00000000000006,
          351.0,
          362.0,
          344.0,
          397.0,
          361.0,
          348.0,
          325.0,
          354.0,
          390.0,
          403.0,
          346.0,
          393.0,
          339.0,
          388.0,
          333.0,
          313.0,
          326.0,
          291.0,
          312.0,
          333.0,
          322.0,
          299.0,
          274.0,
          306.0,
          344.0,
          364.0,
          328.0,
          303.0,
          325.0,
          312.0,
          315.0,
          309.0,
          360.0,
          369.0,
          331.0,
          337.0,
          349.0,
          367.0,
          425.0,
          398.0,
          359.0,
          369.0,
          374.0,
          399.0,
          369.0,
          350.0,
          344.0,
          374.0,
          384.0,
          398.0,
          319.0,
          404.0,
          356.0,
          407.0,
          329.0,
          402.0,
          417.0,
          417.0,
          375.0,
          360.0,
          393.0,
          378.0,
          396.0,
          374.0,
          402.0,
          410.0,
          331.0,
          353.0,
          14.0
         ],
         "type": "scatter"
        },
        {
         "name": "Predict with Train set",
         "x": [
          0,
          1,
          2,
          3,
          4,
          5,
          6,
          7,
          8,
          9,
          10,
          11,
          12,
          13,
          14,
          15,
          16,
          17,
          18,
          19,
          20,
          21,
          22,
          23,
          24,
          25,
          26,
          27,
          28,
          29,
          30,
          31,
          32,
          33,
          34,
          35,
          36,
          37,
          38,
          39,
          40,
          41,
          42,
          43,
          44,
          45,
          46,
          47,
          48,
          49,
          50,
          51,
          52,
          53,
          54,
          55,
          56,
          57,
          58,
          59,
          60,
          61,
          62,
          63,
          64,
          65,
          66,
          67,
          68,
          69,
          70,
          71,
          72,
          73,
          74,
          75,
          76,
          77,
          78,
          79,
          80,
          81,
          82,
          83,
          84,
          85,
          86,
          87,
          88,
          89,
          90,
          91,
          92,
          93,
          94,
          95,
          96,
          97,
          98,
          99,
          100,
          101,
          102,
          103,
          104,
          105,
          106,
          107,
          108,
          109,
          110,
          111,
          112,
          113,
          114,
          115,
          116,
          117,
          118,
          119,
          120,
          121,
          122,
          123,
          124,
          125,
          126,
          127,
          128,
          129,
          130,
          131,
          132,
          133,
          134,
          135,
          136,
          137,
          138,
          139,
          140,
          141,
          142,
          143,
          144,
          145,
          146,
          147,
          148,
          149,
          150,
          151,
          152,
          153,
          154,
          155,
          156,
          157,
          158,
          159,
          160,
          161,
          162,
          163,
          164,
          165,
          166,
          167,
          168,
          169,
          170,
          171,
          172,
          173,
          174,
          175,
          176,
          177,
          178,
          179,
          180,
          181,
          182,
          183,
          184,
          185,
          186,
          187,
          188,
          189,
          190,
          191,
          192,
          193,
          194,
          195,
          196,
          197,
          198,
          199,
          200,
          201,
          202,
          203
         ],
         "y": [
          null,
          null,
          310.8155517578125,
          326.1925964355469,
          333.9718933105469,
          342.1556091308594,
          341.61968994140625,
          340.27972412109375,
          328.890869140625,
          333.0444641113281,
          352.02545166015625,
          330.0876770019531,
          300.69573974609375,
          272.5152587890625,
          268.5115661621094,
          255.20225524902344,
          271.4520568847656,
          298.212158203125,
          319.1340637207031,
          316.9095458984375,
          292.61376953125,
          308.26458740234375,
          292.5096740722656,
          281.7151184082031,
          307.0932922363281,
          336.4650573730469,
          338.22265625,
          327.21337890625,
          308.7275390625,
          322.75927734375,
          340.5930480957031,
          335.5998840332031,
          326.4771423339844,
          324.0807189941406,
          340.42681884765625,
          330.5947265625,
          315.3977966308594,
          306.84600830078125,
          319.10797119140625,
          312.8824462890625,
          315.8475341796875,
          304.53765869140625,
          307.77032470703125,
          311.2311096191406,
          290.7912292480469,
          286.7106018066406,
          295.5438537597656,
          303.4183349609375,
          290.4749450683594,
          282.0697937011719,
          284.1506042480469,
          289.8742980957031,
          269.289794921875,
          265.4962158203125,
          265.7138366699219,
          270.4206848144531,
          284.0151062011719,
          270.3087158203125,
          281.9566345214844,
          283.29364013671875,
          282.2634582519531,
          279.2322692871094,
          290.49151611328125,
          271.7780456542969,
          270.5894775390625,
          289.738525390625,
          306.07830810546875,
          294.3802185058594,
          274.23492431640625,
          276.333984375,
          287.7408142089844,
          295.0655517578125,
          298.4250183105469,
          308.0790710449219,
          308.7921142578125,
          311.1067199707031,
          325.9500427246094,
          330.5496520996094,
          317.20208740234375,
          345.8385314941406,
          346.5255432128906,
          342.3553466796875,
          343.9466552734375,
          334.0567321777344,
          328.92596435546875,
          322.0912170410156,
          324.8990478515625,
          341.3479309082031,
          341.2587890625,
          354.2017822265625,
          331.48272705078125,
          326.8564758300781,
          350.1338195800781,
          350.3498229980469,
          314.8627014160156,
          314.5191955566406,
          334.5927429199219,
          335.9714050292969,
          313.9495544433594,
          301.5171813964844,
          296.7328186035156,
          303.1062316894531,
          308.9476623535156,
          308.25750732421875,
          296.59320068359375,
          290.7339172363281,
          282.9949951171875,
          288.22772216796875,
          334.2701110839844,
          316.8768310546875,
          318.2604064941406,
          344.7298583984375,
          338.98077392578125,
          317.94158935546875,
          320.8517761230469,
          306.33551025390625,
          332.33953857421875,
          331.5065002441406,
          318.47283935546875,
          355.0129089355469,
          337.3538513183594,
          323.259521484375,
          329.1153259277344,
          354.6634521484375,
          352.8960876464844,
          347.4829406738281,
          342.749755859375,
          332.6701354980469,
          345.75531005859375,
          344.7285461425781,
          344.2774658203125,
          340.8128967285156,
          330.63897705078125,
          339.1957092285156,
          352.34808349609375,
          369.795654296875,
          352.45733642578125,
          342.9981384277344,
          337.7912902832031,
          355.7052917480469,
          352.4958190917969,
          339.2865905761719,
          null,
          null,
          null,
          null,
          null,
          null,
          null,
          null,
          null,
          null,
          null,
          null,
          null,
          null,
          null,
          null,
          null,
          null,
          null,
          null,
          null,
          null,
          null,
          null,
          null,
          null,
          null,
          null,
          null,
          null,
          null,
          null,
          null,
          null,
          null,
          null,
          null,
          null,
          null,
          null,
          null,
          null,
          null,
          null,
          null,
          null,
          null,
          null,
          null,
          null,
          null,
          null,
          null,
          null,
          null,
          null,
          null,
          null,
          null,
          null,
          null,
          null
         ],
         "type": "scatter"
        },
        {
         "name": "Predict with Test set",
         "x": [
          0,
          1,
          2,
          3,
          4,
          5,
          6,
          7,
          8,
          9,
          10,
          11,
          12,
          13,
          14,
          15,
          16,
          17,
          18,
          19,
          20,
          21,
          22,
          23,
          24,
          25,
          26,
          27,
          28,
          29,
          30,
          31,
          32,
          33,
          34,
          35,
          36,
          37,
          38,
          39,
          40,
          41,
          42,
          43,
          44,
          45,
          46,
          47,
          48,
          49,
          50,
          51,
          52,
          53,
          54,
          55,
          56,
          57,
          58,
          59,
          60,
          61,
          62,
          63,
          64,
          65,
          66,
          67,
          68,
          69,
          70,
          71,
          72,
          73,
          74,
          75,
          76,
          77,
          78,
          79,
          80,
          81,
          82,
          83,
          84,
          85,
          86,
          87,
          88,
          89,
          90,
          91,
          92,
          93,
          94,
          95,
          96,
          97,
          98,
          99,
          100,
          101,
          102,
          103,
          104,
          105,
          106,
          107,
          108,
          109,
          110,
          111,
          112,
          113,
          114,
          115,
          116,
          117,
          118,
          119,
          120,
          121,
          122,
          123,
          124,
          125,
          126,
          127,
          128,
          129,
          130,
          131,
          132,
          133,
          134,
          135,
          136,
          137,
          138,
          139,
          140,
          141,
          142,
          143,
          144,
          145,
          146,
          147,
          148,
          149,
          150,
          151,
          152,
          153,
          154,
          155,
          156,
          157,
          158,
          159,
          160,
          161,
          162,
          163,
          164,
          165,
          166,
          167,
          168,
          169,
          170,
          171,
          172,
          173,
          174,
          175,
          176,
          177,
          178,
          179,
          180,
          181,
          182,
          183,
          184,
          185,
          186,
          187,
          188,
          189,
          190,
          191,
          192,
          193,
          194,
          195,
          196,
          197,
          198,
          199,
          200,
          201,
          202,
          203
         ],
         "y": [
          null,
          null,
          null,
          null,
          null,
          null,
          null,
          null,
          null,
          null,
          null,
          null,
          null,
          null,
          null,
          null,
          null,
          null,
          null,
          null,
          null,
          null,
          null,
          null,
          null,
          null,
          null,
          null,
          null,
          null,
          null,
          null,
          null,
          null,
          null,
          null,
          null,
          null,
          null,
          null,
          null,
          null,
          null,
          null,
          null,
          null,
          null,
          null,
          null,
          null,
          null,
          null,
          null,
          null,
          null,
          null,
          null,
          null,
          null,
          null,
          null,
          null,
          null,
          null,
          null,
          null,
          null,
          null,
          null,
          null,
          null,
          null,
          null,
          null,
          null,
          null,
          null,
          null,
          null,
          null,
          null,
          null,
          null,
          null,
          null,
          null,
          null,
          null,
          null,
          null,
          null,
          null,
          null,
          null,
          null,
          null,
          null,
          null,
          null,
          null,
          null,
          null,
          null,
          null,
          null,
          null,
          null,
          null,
          null,
          null,
          null,
          null,
          null,
          null,
          null,
          null,
          null,
          null,
          null,
          null,
          null,
          null,
          null,
          null,
          null,
          null,
          null,
          null,
          null,
          null,
          null,
          null,
          null,
          null,
          null,
          null,
          null,
          null,
          null,
          null,
          null,
          null,
          null,
          355.0364074707031,
          367.18701171875,
          347.6736145019531,
          354.550048828125,
          342.5795593261719,
          351.0823059082031,
          338.909423828125,
          316.9095458984375,
          318.079833984375,
          304.53765869140625,
          305.8207092285156,
          321.0961608886719,
          321.1190185546875,
          307.4297790527344,
          288.8624572753906,
          298.4209289550781,
          324.6965637207031,
          342.28692626953125,
          331.2332458496094,
          310.892578125,
          315.125,
          314.4481506347656,
          312.6208190917969,
          310.4967041015625,
          332.5840759277344,
          347.8717956542969,
          333.71990966796875,
          327.5046081542969,
          334.2503967285156,
          344.649658203125,
          370.740478515625,
          372.0071716308594,
          351.90264892578125,
          347.6557922363281,
          351.8217468261719,
          362.5699157714844,
          356.0838928222656,
          341.9256286621094,
          335.0550231933594,
          346.45794677734375,
          356.8204040527344,
          364.1715393066406,
          335.0889892578125,
          353.22540283203125,
          351.9554443359375,
          361.995849609375,
          341.4283142089844,
          354.5395202636719,
          374.4464111328125,
          377.1717224121094,
          362.0273132324219,
          347.4124755859375,
          357.44866943359375,
          358.3678283691406,
          362.23443603515625,
          357.4250793457031,
          363.6955261230469,
          371.98516845703125,
          342.9364318847656,
          334.616943359375,
          null
         ],
         "type": "scatter"
        }
       ],
       "layout": {
        "template": {
         "data": {
          "histogram2dcontour": [
           {
            "type": "histogram2dcontour",
            "colorbar": {
             "outlinewidth": 0,
             "ticks": ""
            },
            "colorscale": [
             [
              0.0,
              "#0d0887"
             ],
             [
              0.1111111111111111,
              "#46039f"
             ],
             [
              0.2222222222222222,
              "#7201a8"
             ],
             [
              0.3333333333333333,
              "#9c179e"
             ],
             [
              0.4444444444444444,
              "#bd3786"
             ],
             [
              0.5555555555555556,
              "#d8576b"
             ],
             [
              0.6666666666666666,
              "#ed7953"
             ],
             [
              0.7777777777777778,
              "#fb9f3a"
             ],
             [
              0.8888888888888888,
              "#fdca26"
             ],
             [
              1.0,
              "#f0f921"
             ]
            ]
           }
          ],
          "choropleth": [
           {
            "type": "choropleth",
            "colorbar": {
             "outlinewidth": 0,
             "ticks": ""
            }
           }
          ],
          "histogram2d": [
           {
            "type": "histogram2d",
            "colorbar": {
             "outlinewidth": 0,
             "ticks": ""
            },
            "colorscale": [
             [
              0.0,
              "#0d0887"
             ],
             [
              0.1111111111111111,
              "#46039f"
             ],
             [
              0.2222222222222222,
              "#7201a8"
             ],
             [
              0.3333333333333333,
              "#9c179e"
             ],
             [
              0.4444444444444444,
              "#bd3786"
             ],
             [
              0.5555555555555556,
              "#d8576b"
             ],
             [
              0.6666666666666666,
              "#ed7953"
             ],
             [
              0.7777777777777778,
              "#fb9f3a"
             ],
             [
              0.8888888888888888,
              "#fdca26"
             ],
             [
              1.0,
              "#f0f921"
             ]
            ]
           }
          ],
          "heatmap": [
           {
            "type": "heatmap",
            "colorbar": {
             "outlinewidth": 0,
             "ticks": ""
            },
            "colorscale": [
             [
              0.0,
              "#0d0887"
             ],
             [
              0.1111111111111111,
              "#46039f"
             ],
             [
              0.2222222222222222,
              "#7201a8"
             ],
             [
              0.3333333333333333,
              "#9c179e"
             ],
             [
              0.4444444444444444,
              "#bd3786"
             ],
             [
              0.5555555555555556,
              "#d8576b"
             ],
             [
              0.6666666666666666,
              "#ed7953"
             ],
             [
              0.7777777777777778,
              "#fb9f3a"
             ],
             [
              0.8888888888888888,
              "#fdca26"
             ],
             [
              1.0,
              "#f0f921"
             ]
            ]
           }
          ],
          "heatmapgl": [
           {
            "type": "heatmapgl",
            "colorbar": {
             "outlinewidth": 0,
             "ticks": ""
            },
            "colorscale": [
             [
              0.0,
              "#0d0887"
             ],
             [
              0.1111111111111111,
              "#46039f"
             ],
             [
              0.2222222222222222,
              "#7201a8"
             ],
             [
              0.3333333333333333,
              "#9c179e"
             ],
             [
              0.4444444444444444,
              "#bd3786"
             ],
             [
              0.5555555555555556,
              "#d8576b"
             ],
             [
              0.6666666666666666,
              "#ed7953"
             ],
             [
              0.7777777777777778,
              "#fb9f3a"
             ],
             [
              0.8888888888888888,
              "#fdca26"
             ],
             [
              1.0,
              "#f0f921"
             ]
            ]
           }
          ],
          "contourcarpet": [
           {
            "type": "contourcarpet",
            "colorbar": {
             "outlinewidth": 0,
             "ticks": ""
            }
           }
          ],
          "contour": [
           {
            "type": "contour",
            "colorbar": {
             "outlinewidth": 0,
             "ticks": ""
            },
            "colorscale": [
             [
              0.0,
              "#0d0887"
             ],
             [
              0.1111111111111111,
              "#46039f"
             ],
             [
              0.2222222222222222,
              "#7201a8"
             ],
             [
              0.3333333333333333,
              "#9c179e"
             ],
             [
              0.4444444444444444,
              "#bd3786"
             ],
             [
              0.5555555555555556,
              "#d8576b"
             ],
             [
              0.6666666666666666,
              "#ed7953"
             ],
             [
              0.7777777777777778,
              "#fb9f3a"
             ],
             [
              0.8888888888888888,
              "#fdca26"
             ],
             [
              1.0,
              "#f0f921"
             ]
            ]
           }
          ],
          "surface": [
           {
            "type": "surface",
            "colorbar": {
             "outlinewidth": 0,
             "ticks": ""
            },
            "colorscale": [
             [
              0.0,
              "#0d0887"
             ],
             [
              0.1111111111111111,
              "#46039f"
             ],
             [
              0.2222222222222222,
              "#7201a8"
             ],
             [
              0.3333333333333333,
              "#9c179e"
             ],
             [
              0.4444444444444444,
              "#bd3786"
             ],
             [
              0.5555555555555556,
              "#d8576b"
             ],
             [
              0.6666666666666666,
              "#ed7953"
             ],
             [
              0.7777777777777778,
              "#fb9f3a"
             ],
             [
              0.8888888888888888,
              "#fdca26"
             ],
             [
              1.0,
              "#f0f921"
             ]
            ]
           }
          ],
          "mesh3d": [
           {
            "type": "mesh3d",
            "colorbar": {
             "outlinewidth": 0,
             "ticks": ""
            }
           }
          ],
          "scatter": [
           {
            "marker": {
             "line": {
              "color": "#283442"
             }
            },
            "type": "scatter"
           }
          ],
          "parcoords": [
           {
            "type": "parcoords",
            "line": {
             "colorbar": {
              "outlinewidth": 0,
              "ticks": ""
             }
            }
           }
          ],
          "scatterpolargl": [
           {
            "type": "scatterpolargl",
            "marker": {
             "colorbar": {
              "outlinewidth": 0,
              "ticks": ""
             }
            }
           }
          ],
          "bar": [
           {
            "error_x": {
             "color": "#f2f5fa"
            },
            "error_y": {
             "color": "#f2f5fa"
            },
            "marker": {
             "line": {
              "color": "rgb(17,17,17)",
              "width": 0.5
             },
             "pattern": {
              "fillmode": "overlay",
              "size": 10,
              "solidity": 0.2
             }
            },
            "type": "bar"
           }
          ],
          "scattergeo": [
           {
            "type": "scattergeo",
            "marker": {
             "colorbar": {
              "outlinewidth": 0,
              "ticks": ""
             }
            }
           }
          ],
          "scatterpolar": [
           {
            "type": "scatterpolar",
            "marker": {
             "colorbar": {
              "outlinewidth": 0,
              "ticks": ""
             }
            }
           }
          ],
          "histogram": [
           {
            "marker": {
             "pattern": {
              "fillmode": "overlay",
              "size": 10,
              "solidity": 0.2
             }
            },
            "type": "histogram"
           }
          ],
          "scattergl": [
           {
            "marker": {
             "line": {
              "color": "#283442"
             }
            },
            "type": "scattergl"
           }
          ],
          "scatter3d": [
           {
            "type": "scatter3d",
            "line": {
             "colorbar": {
              "outlinewidth": 0,
              "ticks": ""
             }
            },
            "marker": {
             "colorbar": {
              "outlinewidth": 0,
              "ticks": ""
             }
            }
           }
          ],
          "scattermapbox": [
           {
            "type": "scattermapbox",
            "marker": {
             "colorbar": {
              "outlinewidth": 0,
              "ticks": ""
             }
            }
           }
          ],
          "scatterternary": [
           {
            "type": "scatterternary",
            "marker": {
             "colorbar": {
              "outlinewidth": 0,
              "ticks": ""
             }
            }
           }
          ],
          "scattercarpet": [
           {
            "type": "scattercarpet",
            "marker": {
             "colorbar": {
              "outlinewidth": 0,
              "ticks": ""
             }
            }
           }
          ],
          "carpet": [
           {
            "aaxis": {
             "endlinecolor": "#A2B1C6",
             "gridcolor": "#506784",
             "linecolor": "#506784",
             "minorgridcolor": "#506784",
             "startlinecolor": "#A2B1C6"
            },
            "baxis": {
             "endlinecolor": "#A2B1C6",
             "gridcolor": "#506784",
             "linecolor": "#506784",
             "minorgridcolor": "#506784",
             "startlinecolor": "#A2B1C6"
            },
            "type": "carpet"
           }
          ],
          "table": [
           {
            "cells": {
             "fill": {
              "color": "#506784"
             },
             "line": {
              "color": "rgb(17,17,17)"
             }
            },
            "header": {
             "fill": {
              "color": "#2a3f5f"
             },
             "line": {
              "color": "rgb(17,17,17)"
             }
            },
            "type": "table"
           }
          ],
          "barpolar": [
           {
            "marker": {
             "line": {
              "color": "rgb(17,17,17)",
              "width": 0.5
             },
             "pattern": {
              "fillmode": "overlay",
              "size": 10,
              "solidity": 0.2
             }
            },
            "type": "barpolar"
           }
          ],
          "pie": [
           {
            "automargin": true,
            "type": "pie"
           }
          ]
         },
         "layout": {
          "autotypenumbers": "strict",
          "colorway": [
           "#636efa",
           "#EF553B",
           "#00cc96",
           "#ab63fa",
           "#FFA15A",
           "#19d3f3",
           "#FF6692",
           "#B6E880",
           "#FF97FF",
           "#FECB52"
          ],
          "font": {
           "color": "#f2f5fa"
          },
          "hovermode": "closest",
          "hoverlabel": {
           "align": "left"
          },
          "paper_bgcolor": "rgb(17,17,17)",
          "plot_bgcolor": "rgb(17,17,17)",
          "polar": {
           "bgcolor": "rgb(17,17,17)",
           "angularaxis": {
            "gridcolor": "#506784",
            "linecolor": "#506784",
            "ticks": ""
           },
           "radialaxis": {
            "gridcolor": "#506784",
            "linecolor": "#506784",
            "ticks": ""
           }
          },
          "ternary": {
           "bgcolor": "rgb(17,17,17)",
           "aaxis": {
            "gridcolor": "#506784",
            "linecolor": "#506784",
            "ticks": ""
           },
           "baxis": {
            "gridcolor": "#506784",
            "linecolor": "#506784",
            "ticks": ""
           },
           "caxis": {
            "gridcolor": "#506784",
            "linecolor": "#506784",
            "ticks": ""
           }
          },
          "coloraxis": {
           "colorbar": {
            "outlinewidth": 0,
            "ticks": ""
           }
          },
          "colorscale": {
           "sequential": [
            [
             0.0,
             "#0d0887"
            ],
            [
             0.1111111111111111,
             "#46039f"
            ],
            [
             0.2222222222222222,
             "#7201a8"
            ],
            [
             0.3333333333333333,
             "#9c179e"
            ],
            [
             0.4444444444444444,
             "#bd3786"
            ],
            [
             0.5555555555555556,
             "#d8576b"
            ],
            [
             0.6666666666666666,
             "#ed7953"
            ],
            [
             0.7777777777777778,
             "#fb9f3a"
            ],
            [
             0.8888888888888888,
             "#fdca26"
            ],
            [
             1.0,
             "#f0f921"
            ]
           ],
           "sequentialminus": [
            [
             0.0,
             "#0d0887"
            ],
            [
             0.1111111111111111,
             "#46039f"
            ],
            [
             0.2222222222222222,
             "#7201a8"
            ],
            [
             0.3333333333333333,
             "#9c179e"
            ],
            [
             0.4444444444444444,
             "#bd3786"
            ],
            [
             0.5555555555555556,
             "#d8576b"
            ],
            [
             0.6666666666666666,
             "#ed7953"
            ],
            [
             0.7777777777777778,
             "#fb9f3a"
            ],
            [
             0.8888888888888888,
             "#fdca26"
            ],
            [
             1.0,
             "#f0f921"
            ]
           ],
           "diverging": [
            [
             0,
             "#8e0152"
            ],
            [
             0.1,
             "#c51b7d"
            ],
            [
             0.2,
             "#de77ae"
            ],
            [
             0.3,
             "#f1b6da"
            ],
            [
             0.4,
             "#fde0ef"
            ],
            [
             0.5,
             "#f7f7f7"
            ],
            [
             0.6,
             "#e6f5d0"
            ],
            [
             0.7,
             "#b8e186"
            ],
            [
             0.8,
             "#7fbc41"
            ],
            [
             0.9,
             "#4d9221"
            ],
            [
             1,
             "#276419"
            ]
           ]
          },
          "xaxis": {
           "gridcolor": "#283442",
           "linecolor": "#506784",
           "ticks": "",
           "title": {
            "standoff": 15
           },
           "zerolinecolor": "#283442",
           "automargin": true,
           "zerolinewidth": 2
          },
          "yaxis": {
           "gridcolor": "#283442",
           "linecolor": "#506784",
           "ticks": "",
           "title": {
            "standoff": 15
           },
           "zerolinecolor": "#283442",
           "automargin": true,
           "zerolinewidth": 2
          },
          "scene": {
           "xaxis": {
            "backgroundcolor": "rgb(17,17,17)",
            "gridcolor": "#506784",
            "linecolor": "#506784",
            "showbackground": true,
            "ticks": "",
            "zerolinecolor": "#C8D4E3",
            "gridwidth": 2
           },
           "yaxis": {
            "backgroundcolor": "rgb(17,17,17)",
            "gridcolor": "#506784",
            "linecolor": "#506784",
            "showbackground": true,
            "ticks": "",
            "zerolinecolor": "#C8D4E3",
            "gridwidth": 2
           },
           "zaxis": {
            "backgroundcolor": "rgb(17,17,17)",
            "gridcolor": "#506784",
            "linecolor": "#506784",
            "showbackground": true,
            "ticks": "",
            "zerolinecolor": "#C8D4E3",
            "gridwidth": 2
           }
          },
          "shapedefaults": {
           "line": {
            "color": "#f2f5fa"
           }
          },
          "annotationdefaults": {
           "arrowcolor": "#f2f5fa",
           "arrowhead": 0,
           "arrowwidth": 1
          },
          "geo": {
           "bgcolor": "rgb(17,17,17)",
           "landcolor": "rgb(17,17,17)",
           "subunitcolor": "#506784",
           "showland": true,
           "showlakes": true,
           "lakecolor": "rgb(17,17,17)"
          },
          "title": {
           "x": 0.05
          },
          "updatemenudefaults": {
           "bgcolor": "#506784",
           "borderwidth": 0
          },
          "sliderdefaults": {
           "bgcolor": "#C8D4E3",
           "borderwidth": 1,
           "bordercolor": "rgb(17,17,17)",
           "tickwidth": 0
          },
          "mapbox": {
           "style": "dark"
          }
         }
        },
        "width": 1024,
        "height": 500,
        "title": {
         "text": "[LSTM] Prediction for Battery - Simple Assault (Code 624)"
        },
        "xaxis": {
         "title": {
          "text": "Weeks"
         }
        },
        "yaxis": {
         "title": {
          "text": "Number of crimes"
         }
        }
       },
       "config": {
        "plotlyServerURL": "https://plot.ly"
       }
      },
      "text/html": "<div>                            <div id=\"53e3dc81-31d6-4ef7-8f88-0a357207d191\" class=\"plotly-graph-div\" style=\"height:500px; width:1024px;\"></div>            <script type=\"text/javascript\">                require([\"plotly\"], function(Plotly) {                    window.PLOTLYENV=window.PLOTLYENV || {};                                    if (document.getElementById(\"53e3dc81-31d6-4ef7-8f88-0a357207d191\")) {                    Plotly.newPlot(                        \"53e3dc81-31d6-4ef7-8f88-0a357207d191\",                        [{\"name\":\"Original dataset\",\"x\":[0,1,2,3,4,5,6,7,8,9,10,11,12,13,14,15,16,17,18,19,20,21,22,23,24,25,26,27,28,29,30,31,32,33,34,35,36,37,38,39,40,41,42,43,44,45,46,47,48,49,50,51,52,53,54,55,56,57,58,59,60,61,62,63,64,65,66,67,68,69,70,71,72,73,74,75,76,77,78,79,80,81,82,83,84,85,86,87,88,89,90,91,92,93,94,95,96,97,98,99,100,101,102,103,104,105,106,107,108,109,110,111,112,113,114,115,116,117,118,119,120,121,122,123,124,125,126,127,128,129,130,131,132,133,134,135,136,137,138,139,140,141,142,143,144,145,146,147,148,149,150,151,152,153,154,155,156,157,158,159,160,161,162,163,164,165,166,167,168,169,170,171,172,173,174,175,176,177,178,179,180,181,182,183,184,185,186,187,188,189,190,191,192,193,194,195,196,197,198,199,200,201,202,203],\"y\":[267.0,335.0,332.0,351.0,360.0,354.0,354.0,328.0,351.0,384.0,315.0,289.0,248.0,262.0,230.0,277.0,304.0,333.0,313.0,274.0,326.0,267.0,277.0,322.0,362.0,345.0,329.0,298.0,344.0,360.0,340.0,330.0,330.0,367.0,325.0,314.0,302.0,334.0,304.0,326.0,291.0,316.0,310.0,272.0,284.0,295.0,305.0,274.0,274.0,278.0,287.0,243.00000000000003,259.0,251.0,264.0,283.0,247.0,288.0,269.0,277.0,267.0,294.0,244.00000000000003,268.0,292.0,312.0,278.0,257.0,272.0,286.0,293.0,296.0,314.0,306.0,315.0,342.0,338.0,311.0,390.0,350.0,361.0,359.0,337.0,337.0,322.0,336.0,366.0,350.0,390.0,315.0,344.0,383.0,363.0,293.0,329.0,354.0,344.0,301.0,298.0,290.0,307.0,310.0,307.0,285.0,285.0,270.0,288.0,375.0,291.0,338.0,373.0,341.0,311.0,333.0,291.0,369.0,326.0,320.0,408.0,319.0,334.0,339.0,397.0,362.0,367.0,353.0,337.0,376.0,353.0,364.0,350.0,334.0,362.0,379.0,416.00000000000006,351.0,362.0,344.0,397.0,361.0,348.0,325.0,354.0,390.0,403.0,346.0,393.0,339.0,388.0,333.0,313.0,326.0,291.0,312.0,333.0,322.0,299.0,274.0,306.0,344.0,364.0,328.0,303.0,325.0,312.0,315.0,309.0,360.0,369.0,331.0,337.0,349.0,367.0,425.0,398.0,359.0,369.0,374.0,399.0,369.0,350.0,344.0,374.0,384.0,398.0,319.0,404.0,356.0,407.0,329.0,402.0,417.0,417.0,375.0,360.0,393.0,378.0,396.0,374.0,402.0,410.0,331.0,353.0,14.0],\"type\":\"scatter\"},{\"name\":\"Predict with Train set\",\"x\":[0,1,2,3,4,5,6,7,8,9,10,11,12,13,14,15,16,17,18,19,20,21,22,23,24,25,26,27,28,29,30,31,32,33,34,35,36,37,38,39,40,41,42,43,44,45,46,47,48,49,50,51,52,53,54,55,56,57,58,59,60,61,62,63,64,65,66,67,68,69,70,71,72,73,74,75,76,77,78,79,80,81,82,83,84,85,86,87,88,89,90,91,92,93,94,95,96,97,98,99,100,101,102,103,104,105,106,107,108,109,110,111,112,113,114,115,116,117,118,119,120,121,122,123,124,125,126,127,128,129,130,131,132,133,134,135,136,137,138,139,140,141,142,143,144,145,146,147,148,149,150,151,152,153,154,155,156,157,158,159,160,161,162,163,164,165,166,167,168,169,170,171,172,173,174,175,176,177,178,179,180,181,182,183,184,185,186,187,188,189,190,191,192,193,194,195,196,197,198,199,200,201,202,203],\"y\":[null,null,310.8155517578125,326.1925964355469,333.9718933105469,342.1556091308594,341.61968994140625,340.27972412109375,328.890869140625,333.0444641113281,352.02545166015625,330.0876770019531,300.69573974609375,272.5152587890625,268.5115661621094,255.20225524902344,271.4520568847656,298.212158203125,319.1340637207031,316.9095458984375,292.61376953125,308.26458740234375,292.5096740722656,281.7151184082031,307.0932922363281,336.4650573730469,338.22265625,327.21337890625,308.7275390625,322.75927734375,340.5930480957031,335.5998840332031,326.4771423339844,324.0807189941406,340.42681884765625,330.5947265625,315.3977966308594,306.84600830078125,319.10797119140625,312.8824462890625,315.8475341796875,304.53765869140625,307.77032470703125,311.2311096191406,290.7912292480469,286.7106018066406,295.5438537597656,303.4183349609375,290.4749450683594,282.0697937011719,284.1506042480469,289.8742980957031,269.289794921875,265.4962158203125,265.7138366699219,270.4206848144531,284.0151062011719,270.3087158203125,281.9566345214844,283.29364013671875,282.2634582519531,279.2322692871094,290.49151611328125,271.7780456542969,270.5894775390625,289.738525390625,306.07830810546875,294.3802185058594,274.23492431640625,276.333984375,287.7408142089844,295.0655517578125,298.4250183105469,308.0790710449219,308.7921142578125,311.1067199707031,325.9500427246094,330.5496520996094,317.20208740234375,345.8385314941406,346.5255432128906,342.3553466796875,343.9466552734375,334.0567321777344,328.92596435546875,322.0912170410156,324.8990478515625,341.3479309082031,341.2587890625,354.2017822265625,331.48272705078125,326.8564758300781,350.1338195800781,350.3498229980469,314.8627014160156,314.5191955566406,334.5927429199219,335.9714050292969,313.9495544433594,301.5171813964844,296.7328186035156,303.1062316894531,308.9476623535156,308.25750732421875,296.59320068359375,290.7339172363281,282.9949951171875,288.22772216796875,334.2701110839844,316.8768310546875,318.2604064941406,344.7298583984375,338.98077392578125,317.94158935546875,320.8517761230469,306.33551025390625,332.33953857421875,331.5065002441406,318.47283935546875,355.0129089355469,337.3538513183594,323.259521484375,329.1153259277344,354.6634521484375,352.8960876464844,347.4829406738281,342.749755859375,332.6701354980469,345.75531005859375,344.7285461425781,344.2774658203125,340.8128967285156,330.63897705078125,339.1957092285156,352.34808349609375,369.795654296875,352.45733642578125,342.9981384277344,337.7912902832031,355.7052917480469,352.4958190917969,339.2865905761719,null,null,null,null,null,null,null,null,null,null,null,null,null,null,null,null,null,null,null,null,null,null,null,null,null,null,null,null,null,null,null,null,null,null,null,null,null,null,null,null,null,null,null,null,null,null,null,null,null,null,null,null,null,null,null,null,null,null,null,null,null,null],\"type\":\"scatter\"},{\"name\":\"Predict with Test set\",\"x\":[0,1,2,3,4,5,6,7,8,9,10,11,12,13,14,15,16,17,18,19,20,21,22,23,24,25,26,27,28,29,30,31,32,33,34,35,36,37,38,39,40,41,42,43,44,45,46,47,48,49,50,51,52,53,54,55,56,57,58,59,60,61,62,63,64,65,66,67,68,69,70,71,72,73,74,75,76,77,78,79,80,81,82,83,84,85,86,87,88,89,90,91,92,93,94,95,96,97,98,99,100,101,102,103,104,105,106,107,108,109,110,111,112,113,114,115,116,117,118,119,120,121,122,123,124,125,126,127,128,129,130,131,132,133,134,135,136,137,138,139,140,141,142,143,144,145,146,147,148,149,150,151,152,153,154,155,156,157,158,159,160,161,162,163,164,165,166,167,168,169,170,171,172,173,174,175,176,177,178,179,180,181,182,183,184,185,186,187,188,189,190,191,192,193,194,195,196,197,198,199,200,201,202,203],\"y\":[null,null,null,null,null,null,null,null,null,null,null,null,null,null,null,null,null,null,null,null,null,null,null,null,null,null,null,null,null,null,null,null,null,null,null,null,null,null,null,null,null,null,null,null,null,null,null,null,null,null,null,null,null,null,null,null,null,null,null,null,null,null,null,null,null,null,null,null,null,null,null,null,null,null,null,null,null,null,null,null,null,null,null,null,null,null,null,null,null,null,null,null,null,null,null,null,null,null,null,null,null,null,null,null,null,null,null,null,null,null,null,null,null,null,null,null,null,null,null,null,null,null,null,null,null,null,null,null,null,null,null,null,null,null,null,null,null,null,null,null,null,null,null,355.0364074707031,367.18701171875,347.6736145019531,354.550048828125,342.5795593261719,351.0823059082031,338.909423828125,316.9095458984375,318.079833984375,304.53765869140625,305.8207092285156,321.0961608886719,321.1190185546875,307.4297790527344,288.8624572753906,298.4209289550781,324.6965637207031,342.28692626953125,331.2332458496094,310.892578125,315.125,314.4481506347656,312.6208190917969,310.4967041015625,332.5840759277344,347.8717956542969,333.71990966796875,327.5046081542969,334.2503967285156,344.649658203125,370.740478515625,372.0071716308594,351.90264892578125,347.6557922363281,351.8217468261719,362.5699157714844,356.0838928222656,341.9256286621094,335.0550231933594,346.45794677734375,356.8204040527344,364.1715393066406,335.0889892578125,353.22540283203125,351.9554443359375,361.995849609375,341.4283142089844,354.5395202636719,374.4464111328125,377.1717224121094,362.0273132324219,347.4124755859375,357.44866943359375,358.3678283691406,362.23443603515625,357.4250793457031,363.6955261230469,371.98516845703125,342.9364318847656,334.616943359375,null],\"type\":\"scatter\"}],                        {\"template\":{\"data\":{\"histogram2dcontour\":[{\"type\":\"histogram2dcontour\",\"colorbar\":{\"outlinewidth\":0,\"ticks\":\"\"},\"colorscale\":[[0.0,\"#0d0887\"],[0.1111111111111111,\"#46039f\"],[0.2222222222222222,\"#7201a8\"],[0.3333333333333333,\"#9c179e\"],[0.4444444444444444,\"#bd3786\"],[0.5555555555555556,\"#d8576b\"],[0.6666666666666666,\"#ed7953\"],[0.7777777777777778,\"#fb9f3a\"],[0.8888888888888888,\"#fdca26\"],[1.0,\"#f0f921\"]]}],\"choropleth\":[{\"type\":\"choropleth\",\"colorbar\":{\"outlinewidth\":0,\"ticks\":\"\"}}],\"histogram2d\":[{\"type\":\"histogram2d\",\"colorbar\":{\"outlinewidth\":0,\"ticks\":\"\"},\"colorscale\":[[0.0,\"#0d0887\"],[0.1111111111111111,\"#46039f\"],[0.2222222222222222,\"#7201a8\"],[0.3333333333333333,\"#9c179e\"],[0.4444444444444444,\"#bd3786\"],[0.5555555555555556,\"#d8576b\"],[0.6666666666666666,\"#ed7953\"],[0.7777777777777778,\"#fb9f3a\"],[0.8888888888888888,\"#fdca26\"],[1.0,\"#f0f921\"]]}],\"heatmap\":[{\"type\":\"heatmap\",\"colorbar\":{\"outlinewidth\":0,\"ticks\":\"\"},\"colorscale\":[[0.0,\"#0d0887\"],[0.1111111111111111,\"#46039f\"],[0.2222222222222222,\"#7201a8\"],[0.3333333333333333,\"#9c179e\"],[0.4444444444444444,\"#bd3786\"],[0.5555555555555556,\"#d8576b\"],[0.6666666666666666,\"#ed7953\"],[0.7777777777777778,\"#fb9f3a\"],[0.8888888888888888,\"#fdca26\"],[1.0,\"#f0f921\"]]}],\"heatmapgl\":[{\"type\":\"heatmapgl\",\"colorbar\":{\"outlinewidth\":0,\"ticks\":\"\"},\"colorscale\":[[0.0,\"#0d0887\"],[0.1111111111111111,\"#46039f\"],[0.2222222222222222,\"#7201a8\"],[0.3333333333333333,\"#9c179e\"],[0.4444444444444444,\"#bd3786\"],[0.5555555555555556,\"#d8576b\"],[0.6666666666666666,\"#ed7953\"],[0.7777777777777778,\"#fb9f3a\"],[0.8888888888888888,\"#fdca26\"],[1.0,\"#f0f921\"]]}],\"contourcarpet\":[{\"type\":\"contourcarpet\",\"colorbar\":{\"outlinewidth\":0,\"ticks\":\"\"}}],\"contour\":[{\"type\":\"contour\",\"colorbar\":{\"outlinewidth\":0,\"ticks\":\"\"},\"colorscale\":[[0.0,\"#0d0887\"],[0.1111111111111111,\"#46039f\"],[0.2222222222222222,\"#7201a8\"],[0.3333333333333333,\"#9c179e\"],[0.4444444444444444,\"#bd3786\"],[0.5555555555555556,\"#d8576b\"],[0.6666666666666666,\"#ed7953\"],[0.7777777777777778,\"#fb9f3a\"],[0.8888888888888888,\"#fdca26\"],[1.0,\"#f0f921\"]]}],\"surface\":[{\"type\":\"surface\",\"colorbar\":{\"outlinewidth\":0,\"ticks\":\"\"},\"colorscale\":[[0.0,\"#0d0887\"],[0.1111111111111111,\"#46039f\"],[0.2222222222222222,\"#7201a8\"],[0.3333333333333333,\"#9c179e\"],[0.4444444444444444,\"#bd3786\"],[0.5555555555555556,\"#d8576b\"],[0.6666666666666666,\"#ed7953\"],[0.7777777777777778,\"#fb9f3a\"],[0.8888888888888888,\"#fdca26\"],[1.0,\"#f0f921\"]]}],\"mesh3d\":[{\"type\":\"mesh3d\",\"colorbar\":{\"outlinewidth\":0,\"ticks\":\"\"}}],\"scatter\":[{\"marker\":{\"line\":{\"color\":\"#283442\"}},\"type\":\"scatter\"}],\"parcoords\":[{\"type\":\"parcoords\",\"line\":{\"colorbar\":{\"outlinewidth\":0,\"ticks\":\"\"}}}],\"scatterpolargl\":[{\"type\":\"scatterpolargl\",\"marker\":{\"colorbar\":{\"outlinewidth\":0,\"ticks\":\"\"}}}],\"bar\":[{\"error_x\":{\"color\":\"#f2f5fa\"},\"error_y\":{\"color\":\"#f2f5fa\"},\"marker\":{\"line\":{\"color\":\"rgb(17,17,17)\",\"width\":0.5},\"pattern\":{\"fillmode\":\"overlay\",\"size\":10,\"solidity\":0.2}},\"type\":\"bar\"}],\"scattergeo\":[{\"type\":\"scattergeo\",\"marker\":{\"colorbar\":{\"outlinewidth\":0,\"ticks\":\"\"}}}],\"scatterpolar\":[{\"type\":\"scatterpolar\",\"marker\":{\"colorbar\":{\"outlinewidth\":0,\"ticks\":\"\"}}}],\"histogram\":[{\"marker\":{\"pattern\":{\"fillmode\":\"overlay\",\"size\":10,\"solidity\":0.2}},\"type\":\"histogram\"}],\"scattergl\":[{\"marker\":{\"line\":{\"color\":\"#283442\"}},\"type\":\"scattergl\"}],\"scatter3d\":[{\"type\":\"scatter3d\",\"line\":{\"colorbar\":{\"outlinewidth\":0,\"ticks\":\"\"}},\"marker\":{\"colorbar\":{\"outlinewidth\":0,\"ticks\":\"\"}}}],\"scattermapbox\":[{\"type\":\"scattermapbox\",\"marker\":{\"colorbar\":{\"outlinewidth\":0,\"ticks\":\"\"}}}],\"scatterternary\":[{\"type\":\"scatterternary\",\"marker\":{\"colorbar\":{\"outlinewidth\":0,\"ticks\":\"\"}}}],\"scattercarpet\":[{\"type\":\"scattercarpet\",\"marker\":{\"colorbar\":{\"outlinewidth\":0,\"ticks\":\"\"}}}],\"carpet\":[{\"aaxis\":{\"endlinecolor\":\"#A2B1C6\",\"gridcolor\":\"#506784\",\"linecolor\":\"#506784\",\"minorgridcolor\":\"#506784\",\"startlinecolor\":\"#A2B1C6\"},\"baxis\":{\"endlinecolor\":\"#A2B1C6\",\"gridcolor\":\"#506784\",\"linecolor\":\"#506784\",\"minorgridcolor\":\"#506784\",\"startlinecolor\":\"#A2B1C6\"},\"type\":\"carpet\"}],\"table\":[{\"cells\":{\"fill\":{\"color\":\"#506784\"},\"line\":{\"color\":\"rgb(17,17,17)\"}},\"header\":{\"fill\":{\"color\":\"#2a3f5f\"},\"line\":{\"color\":\"rgb(17,17,17)\"}},\"type\":\"table\"}],\"barpolar\":[{\"marker\":{\"line\":{\"color\":\"rgb(17,17,17)\",\"width\":0.5},\"pattern\":{\"fillmode\":\"overlay\",\"size\":10,\"solidity\":0.2}},\"type\":\"barpolar\"}],\"pie\":[{\"automargin\":true,\"type\":\"pie\"}]},\"layout\":{\"autotypenumbers\":\"strict\",\"colorway\":[\"#636efa\",\"#EF553B\",\"#00cc96\",\"#ab63fa\",\"#FFA15A\",\"#19d3f3\",\"#FF6692\",\"#B6E880\",\"#FF97FF\",\"#FECB52\"],\"font\":{\"color\":\"#f2f5fa\"},\"hovermode\":\"closest\",\"hoverlabel\":{\"align\":\"left\"},\"paper_bgcolor\":\"rgb(17,17,17)\",\"plot_bgcolor\":\"rgb(17,17,17)\",\"polar\":{\"bgcolor\":\"rgb(17,17,17)\",\"angularaxis\":{\"gridcolor\":\"#506784\",\"linecolor\":\"#506784\",\"ticks\":\"\"},\"radialaxis\":{\"gridcolor\":\"#506784\",\"linecolor\":\"#506784\",\"ticks\":\"\"}},\"ternary\":{\"bgcolor\":\"rgb(17,17,17)\",\"aaxis\":{\"gridcolor\":\"#506784\",\"linecolor\":\"#506784\",\"ticks\":\"\"},\"baxis\":{\"gridcolor\":\"#506784\",\"linecolor\":\"#506784\",\"ticks\":\"\"},\"caxis\":{\"gridcolor\":\"#506784\",\"linecolor\":\"#506784\",\"ticks\":\"\"}},\"coloraxis\":{\"colorbar\":{\"outlinewidth\":0,\"ticks\":\"\"}},\"colorscale\":{\"sequential\":[[0.0,\"#0d0887\"],[0.1111111111111111,\"#46039f\"],[0.2222222222222222,\"#7201a8\"],[0.3333333333333333,\"#9c179e\"],[0.4444444444444444,\"#bd3786\"],[0.5555555555555556,\"#d8576b\"],[0.6666666666666666,\"#ed7953\"],[0.7777777777777778,\"#fb9f3a\"],[0.8888888888888888,\"#fdca26\"],[1.0,\"#f0f921\"]],\"sequentialminus\":[[0.0,\"#0d0887\"],[0.1111111111111111,\"#46039f\"],[0.2222222222222222,\"#7201a8\"],[0.3333333333333333,\"#9c179e\"],[0.4444444444444444,\"#bd3786\"],[0.5555555555555556,\"#d8576b\"],[0.6666666666666666,\"#ed7953\"],[0.7777777777777778,\"#fb9f3a\"],[0.8888888888888888,\"#fdca26\"],[1.0,\"#f0f921\"]],\"diverging\":[[0,\"#8e0152\"],[0.1,\"#c51b7d\"],[0.2,\"#de77ae\"],[0.3,\"#f1b6da\"],[0.4,\"#fde0ef\"],[0.5,\"#f7f7f7\"],[0.6,\"#e6f5d0\"],[0.7,\"#b8e186\"],[0.8,\"#7fbc41\"],[0.9,\"#4d9221\"],[1,\"#276419\"]]},\"xaxis\":{\"gridcolor\":\"#283442\",\"linecolor\":\"#506784\",\"ticks\":\"\",\"title\":{\"standoff\":15},\"zerolinecolor\":\"#283442\",\"automargin\":true,\"zerolinewidth\":2},\"yaxis\":{\"gridcolor\":\"#283442\",\"linecolor\":\"#506784\",\"ticks\":\"\",\"title\":{\"standoff\":15},\"zerolinecolor\":\"#283442\",\"automargin\":true,\"zerolinewidth\":2},\"scene\":{\"xaxis\":{\"backgroundcolor\":\"rgb(17,17,17)\",\"gridcolor\":\"#506784\",\"linecolor\":\"#506784\",\"showbackground\":true,\"ticks\":\"\",\"zerolinecolor\":\"#C8D4E3\",\"gridwidth\":2},\"yaxis\":{\"backgroundcolor\":\"rgb(17,17,17)\",\"gridcolor\":\"#506784\",\"linecolor\":\"#506784\",\"showbackground\":true,\"ticks\":\"\",\"zerolinecolor\":\"#C8D4E3\",\"gridwidth\":2},\"zaxis\":{\"backgroundcolor\":\"rgb(17,17,17)\",\"gridcolor\":\"#506784\",\"linecolor\":\"#506784\",\"showbackground\":true,\"ticks\":\"\",\"zerolinecolor\":\"#C8D4E3\",\"gridwidth\":2}},\"shapedefaults\":{\"line\":{\"color\":\"#f2f5fa\"}},\"annotationdefaults\":{\"arrowcolor\":\"#f2f5fa\",\"arrowhead\":0,\"arrowwidth\":1},\"geo\":{\"bgcolor\":\"rgb(17,17,17)\",\"landcolor\":\"rgb(17,17,17)\",\"subunitcolor\":\"#506784\",\"showland\":true,\"showlakes\":true,\"lakecolor\":\"rgb(17,17,17)\"},\"title\":{\"x\":0.05},\"updatemenudefaults\":{\"bgcolor\":\"#506784\",\"borderwidth\":0},\"sliderdefaults\":{\"bgcolor\":\"#C8D4E3\",\"borderwidth\":1,\"bordercolor\":\"rgb(17,17,17)\",\"tickwidth\":0},\"mapbox\":{\"style\":\"dark\"}}},\"width\":1024,\"height\":500,\"title\":{\"text\":\"[LSTM] Prediction for Battery - Simple Assault (Code 624)\"},\"xaxis\":{\"title\":{\"text\":\"Weeks\"}},\"yaxis\":{\"title\":{\"text\":\"Number of crimes\"}}},                        {\"responsive\": true}                    ).then(function(){\n                            \nvar gd = document.getElementById('53e3dc81-31d6-4ef7-8f88-0a357207d191');\nvar x = new MutationObserver(function (mutations, observer) {{\n        var display = window.getComputedStyle(gd).display;\n        if (!display || display === 'none') {{\n            console.log([gd, 'removed!']);\n            Plotly.purge(gd);\n            observer.disconnect();\n        }}\n}});\n\n// Listen for the removal of the full notebook cells\nvar notebookContainer = gd.closest('#notebook-container');\nif (notebookContainer) {{\n    x.observe(notebookContainer, {childList: true});\n}}\n\n// Listen for the clearing of the current output cell\nvar outputEl = gd.closest('.output');\nif (outputEl) {{\n    x.observe(outputEl, {childList: true});\n}}\n\n                        })                };                });            </script>        </div>"
     },
     "metadata": {},
     "output_type": "display_data"
    }
   ],
   "source": [
    "listGraph = []\n",
    "listGraph.append(go.Scatter(x=list(range(0,len(df1))),y=scaler.inverse_transform(df1).flatten(),name=\"Original dataset\"))\n",
    "listGraph.append(go.Scatter(x=list(range(0,len(trainPredictPlot))),y=trainPredictPlot.flatten(),name=\"Predict with Train set\"))\n",
    "listGraph.append(go.Scatter(x=list(range(0,len(testPredictPlot))),y=testPredictPlot.flatten(),name=\"Predict with Test set\"))\n",
    "\n",
    "fig = go.Figure(data=listGraph)\n",
    "fig.update_layout(width=1024,height=500,title=\"[LSTM] Prediction for Battery - Simple Assault (Code 624)\",xaxis=dict(title='Weeks'),yaxis=dict(title='Number of crimes'))\n",
    "\n",
    "fig.show()"
   ],
   "metadata": {
    "collapsed": false,
    "ExecuteTime": {
     "end_time": "2023-12-05T07:40:33.147286Z",
     "start_time": "2023-12-05T07:40:30.922184Z"
    }
   }
  },
  {
   "cell_type": "code",
   "execution_count": 186,
   "outputs": [],
   "source": [
    "df3 = dataset_510['DATE OCC'].dt.date.value_counts().sort_index().reset_index()\n",
    "df3.columns = ['DATE','Count']\n",
    "\n",
    "df3['DATE'] = pd.to_datetime(df3['DATE']) - pd.to_timedelta(7, unit='d')\n",
    "df3= df3.groupby([pd.Grouper(key='DATE', freq='W')])['Count'].sum()"
   ],
   "metadata": {
    "collapsed": false,
    "ExecuteTime": {
     "end_time": "2023-12-05T07:40:33.147367Z",
     "start_time": "2023-12-05T07:40:30.953169Z"
    }
   }
  },
  {
   "cell_type": "code",
   "execution_count": 187,
   "outputs": [],
   "source": [
    "df3 = pd.DataFrame(data=df3.values, columns=['Count'])\n",
    "df3 = df3.values\n",
    "df3 = df3.astype('int32')"
   ],
   "metadata": {
    "collapsed": false,
    "ExecuteTime": {
     "end_time": "2023-12-05T07:40:33.147556Z",
     "start_time": "2023-12-05T07:40:31.032544Z"
    }
   }
  },
  {
   "cell_type": "code",
   "execution_count": 188,
   "outputs": [
    {
     "name": "stdout",
     "output_type": "stream",
     "text": [
      "142\n",
      "62\n"
     ]
    }
   ],
   "source": [
    "train_size = int(len(df3) * 0.7)\n",
    "print(train_size)\n",
    "test_size = len(df3) - train_size\n",
    "print(test_size)\n",
    "train, test = df3[0:train_size,:], df3[train_size:len(df3),:]"
   ],
   "metadata": {
    "collapsed": false,
    "ExecuteTime": {
     "end_time": "2023-12-05T07:40:33.147660Z",
     "start_time": "2023-12-05T07:40:31.035473Z"
    }
   }
  },
  {
   "cell_type": "code",
   "execution_count": 189,
   "outputs": [
    {
     "name": "stdout",
     "output_type": "stream",
     "text": [
      "Performing stepwise search to minimize aic\n",
      " ARIMA(0,1,3)(1,0,1)[12] intercept   : AIC=1371.216, Time=0.86 sec\n",
      " ARIMA(0,1,0)(0,0,0)[12] intercept   : AIC=1393.165, Time=0.01 sec\n",
      " ARIMA(1,1,0)(1,0,0)[12] intercept   : AIC=1369.702, Time=0.11 sec\n",
      " ARIMA(0,1,1)(0,0,1)[12] intercept   : AIC=1367.379, Time=0.13 sec\n",
      " ARIMA(0,1,0)(0,0,0)[12]             : AIC=1391.796, Time=0.01 sec\n",
      " ARIMA(0,1,1)(0,0,0)[12] intercept   : AIC=1365.495, Time=0.04 sec\n",
      " ARIMA(0,1,1)(1,0,0)[12] intercept   : AIC=1367.383, Time=0.17 sec\n",
      " ARIMA(0,1,1)(1,0,1)[12] intercept   : AIC=1369.344, Time=0.30 sec\n",
      " ARIMA(1,1,1)(0,0,0)[12] intercept   : AIC=1366.041, Time=0.04 sec\n",
      " ARIMA(0,1,2)(0,0,0)[12] intercept   : AIC=1365.468, Time=0.03 sec\n",
      " ARIMA(0,1,2)(1,0,0)[12] intercept   : AIC=1367.380, Time=0.50 sec\n",
      " ARIMA(0,1,2)(0,0,1)[12] intercept   : AIC=1367.378, Time=0.32 sec\n",
      " ARIMA(0,1,2)(1,0,1)[12] intercept   : AIC=1369.380, Time=0.28 sec\n",
      " ARIMA(1,1,2)(0,0,0)[12] intercept   : AIC=1367.437, Time=0.08 sec\n",
      " ARIMA(0,1,3)(0,0,0)[12] intercept   : AIC=1367.375, Time=0.08 sec\n",
      " ARIMA(1,1,3)(0,0,0)[12] intercept   : AIC=inf, Time=0.13 sec\n",
      " ARIMA(0,1,2)(0,0,0)[12]             : AIC=1364.690, Time=0.01 sec\n",
      " ARIMA(0,1,2)(1,0,0)[12]             : AIC=1366.571, Time=0.05 sec\n",
      " ARIMA(0,1,2)(0,0,1)[12]             : AIC=1366.569, Time=0.05 sec\n",
      " ARIMA(0,1,2)(1,0,1)[12]             : AIC=1368.568, Time=0.07 sec\n",
      " ARIMA(0,1,1)(0,0,0)[12]             : AIC=1365.017, Time=0.02 sec\n",
      " ARIMA(1,1,2)(0,0,0)[12]             : AIC=1366.631, Time=0.03 sec\n",
      " ARIMA(0,1,3)(0,0,0)[12]             : AIC=1366.527, Time=0.03 sec\n",
      " ARIMA(1,1,1)(0,0,0)[12]             : AIC=1365.412, Time=0.03 sec\n",
      " ARIMA(1,1,3)(0,0,0)[12]             : AIC=inf, Time=0.10 sec\n",
      "\n",
      "Best model:  ARIMA(0,1,2)(0,0,0)[12]          \n",
      "Total fit time: 3.596 seconds\n"
     ]
    }
   ],
   "source": [
    "from pmdarima.arima import auto_arima\n",
    "predictions=[]\n",
    "\n",
    "model = auto_arima(train,m=12,start_p=0,start_q=3, max_order=5,\n",
    "                   error_action='ignore',test='adf',seasonal=True,\n",
    "                   trace=True,stepwise=True)\n",
    "model_fit = model.fit(train)\n",
    "output = model_fit.predict(n_periods=len(test))"
   ],
   "metadata": {
    "collapsed": false,
    "ExecuteTime": {
     "end_time": "2023-12-05T07:40:35.601311Z",
     "start_time": "2023-12-05T07:40:31.043645Z"
    }
   }
  },
  {
   "cell_type": "code",
   "execution_count": 190,
   "outputs": [
    {
     "name": "stdout",
     "output_type": "stream",
     "text": [
      "RMSE For ARIMA model : 78.60141533983035\n"
     ]
    },
    {
     "name": "stderr",
     "output_type": "stream",
     "text": [
      "/var/folders/8g/z0__2mts0rnbjh3kq8zsfz2w0000gn/T/ipykernel_6574/3387129174.py:9: FutureWarning:\n",
      "\n",
      "The frame.append method is deprecated and will be removed from pandas in a future version. Use pandas.concat instead.\n",
      "\n"
     ]
    }
   ],
   "source": [
    "actual =[]\n",
    "for i in test:\n",
    "    actual.append(i[0])\n",
    "output, actual = np.array(output),np.array(actual)\n",
    "testScore = math.sqrt(mean_squared_error(actual, output))\n",
    "print(\"RMSE For ARIMA model :\",testScore)\n",
    "new_row = { \"Models\": \"ARIMA\",\n",
    "            \"RMSE\": testScore}\n",
    "results = results.append(new_row,ignore_index=True)"
   ],
   "metadata": {
    "collapsed": false,
    "ExecuteTime": {
     "end_time": "2023-12-05T07:40:35.601702Z",
     "start_time": "2023-12-05T07:40:34.799825Z"
    }
   }
  },
  {
   "cell_type": "code",
   "execution_count": 191,
   "outputs": [],
   "source": [
    "df4 = dataset_510['DATE OCC'].dt.date.value_counts().sort_index().reset_index()\n",
    "df4.columns = ['ds','y']\n",
    "\n",
    "df4['ds'] = pd.to_datetime(df4['ds']) - pd.to_timedelta(7, unit='d')\n",
    "df4= df4.groupby([pd.Grouper(key='ds', freq='W')])['y'].sum()"
   ],
   "metadata": {
    "collapsed": false,
    "ExecuteTime": {
     "end_time": "2023-12-05T07:40:35.601747Z",
     "start_time": "2023-12-05T07:40:34.831364Z"
    }
   }
  },
  {
   "cell_type": "code",
   "execution_count": 192,
   "outputs": [
    {
     "name": "stdout",
     "output_type": "stream",
     "text": [
      "142\n",
      "62\n"
     ]
    }
   ],
   "source": [
    "train_size = int(len(df4) * 0.7)\n",
    "print(train_size)\n",
    "test_size = len(df4) - train_size\n",
    "print(test_size)\n",
    "train, test = df4[0:train_size], df4[train_size:len(df4)]"
   ],
   "metadata": {
    "collapsed": false,
    "ExecuteTime": {
     "end_time": "2023-12-05T07:40:35.601793Z",
     "start_time": "2023-12-05T07:40:34.843113Z"
    }
   }
  },
  {
   "cell_type": "code",
   "execution_count": 193,
   "outputs": [
    {
     "data": {
      "text/plain": "Index(['ds', 'y'], dtype='object')"
     },
     "execution_count": 193,
     "metadata": {},
     "output_type": "execute_result"
    }
   ],
   "source": [
    "prophet_df = train.reset_index()\n",
    "prophet_df .head()\n",
    "prophet_df = prophet_df.rename(columns= {'Date':'ds','Crime Count':'y'})\n",
    "prophet_df.columns"
   ],
   "metadata": {
    "collapsed": false,
    "ExecuteTime": {
     "end_time": "2023-12-05T07:40:35.601925Z",
     "start_time": "2023-12-05T07:40:34.875033Z"
    }
   }
  },
  {
   "cell_type": "code",
   "execution_count": 194,
   "outputs": [
    {
     "name": "stderr",
     "output_type": "stream",
     "text": [
      "02:40:35 - cmdstanpy - INFO - Chain [1] start processing\n",
      "02:40:35 - cmdstanpy - INFO - Chain [1] done processing\n"
     ]
    },
    {
     "data": {
      "text/plain": "          ds       trend  yhat_lower  yhat_upper  trend_lower  trend_upper  \\\n0 2022-09-18  513.961920  462.955832  562.103352   513.961920   513.961920   \n1 2022-09-25  514.929855  478.356691  574.324080   514.911012   514.942543   \n2 2022-10-02  515.897791  484.065253  582.992306   515.846813   515.933005   \n3 2022-10-09  516.865726  488.606039  584.080095   516.766765   516.947621   \n4 2022-10-16  517.833661  498.818612  593.735352   517.687158   517.973896   \n\n   additive_terms  additive_terms_lower  additive_terms_upper     yearly  \\\n0        0.515929              0.515929              0.515929   0.515929   \n1        9.889381              9.889381              9.889381   9.889381   \n2       16.075943             16.075943             16.075943  16.075943   \n3       21.435374             21.435374             21.435374  21.435374   \n4       27.780817             27.780817             27.780817  27.780817   \n\n   yearly_lower  yearly_upper  multiplicative_terms  \\\n0      0.515929      0.515929                   0.0   \n1      9.889381      9.889381                   0.0   \n2     16.075943     16.075943                   0.0   \n3     21.435374     21.435374                   0.0   \n4     27.780817     27.780817                   0.0   \n\n   multiplicative_terms_lower  multiplicative_terms_upper        yhat  \n0                         0.0                         0.0  514.477849  \n1                         0.0                         0.0  524.819236  \n2                         0.0                         0.0  531.973733  \n3                         0.0                         0.0  538.301100  \n4                         0.0                         0.0  545.614478  ",
      "text/html": "<div>\n<style scoped>\n    .dataframe tbody tr th:only-of-type {\n        vertical-align: middle;\n    }\n\n    .dataframe tbody tr th {\n        vertical-align: top;\n    }\n\n    .dataframe thead th {\n        text-align: right;\n    }\n</style>\n<table border=\"1\" class=\"dataframe\">\n  <thead>\n    <tr style=\"text-align: right;\">\n      <th></th>\n      <th>ds</th>\n      <th>trend</th>\n      <th>yhat_lower</th>\n      <th>yhat_upper</th>\n      <th>trend_lower</th>\n      <th>trend_upper</th>\n      <th>additive_terms</th>\n      <th>additive_terms_lower</th>\n      <th>additive_terms_upper</th>\n      <th>yearly</th>\n      <th>yearly_lower</th>\n      <th>yearly_upper</th>\n      <th>multiplicative_terms</th>\n      <th>multiplicative_terms_lower</th>\n      <th>multiplicative_terms_upper</th>\n      <th>yhat</th>\n    </tr>\n  </thead>\n  <tbody>\n    <tr>\n      <th>0</th>\n      <td>2022-09-18</td>\n      <td>513.961920</td>\n      <td>462.955832</td>\n      <td>562.103352</td>\n      <td>513.961920</td>\n      <td>513.961920</td>\n      <td>0.515929</td>\n      <td>0.515929</td>\n      <td>0.515929</td>\n      <td>0.515929</td>\n      <td>0.515929</td>\n      <td>0.515929</td>\n      <td>0.0</td>\n      <td>0.0</td>\n      <td>0.0</td>\n      <td>514.477849</td>\n    </tr>\n    <tr>\n      <th>1</th>\n      <td>2022-09-25</td>\n      <td>514.929855</td>\n      <td>478.356691</td>\n      <td>574.324080</td>\n      <td>514.911012</td>\n      <td>514.942543</td>\n      <td>9.889381</td>\n      <td>9.889381</td>\n      <td>9.889381</td>\n      <td>9.889381</td>\n      <td>9.889381</td>\n      <td>9.889381</td>\n      <td>0.0</td>\n      <td>0.0</td>\n      <td>0.0</td>\n      <td>524.819236</td>\n    </tr>\n    <tr>\n      <th>2</th>\n      <td>2022-10-02</td>\n      <td>515.897791</td>\n      <td>484.065253</td>\n      <td>582.992306</td>\n      <td>515.846813</td>\n      <td>515.933005</td>\n      <td>16.075943</td>\n      <td>16.075943</td>\n      <td>16.075943</td>\n      <td>16.075943</td>\n      <td>16.075943</td>\n      <td>16.075943</td>\n      <td>0.0</td>\n      <td>0.0</td>\n      <td>0.0</td>\n      <td>531.973733</td>\n    </tr>\n    <tr>\n      <th>3</th>\n      <td>2022-10-09</td>\n      <td>516.865726</td>\n      <td>488.606039</td>\n      <td>584.080095</td>\n      <td>516.766765</td>\n      <td>516.947621</td>\n      <td>21.435374</td>\n      <td>21.435374</td>\n      <td>21.435374</td>\n      <td>21.435374</td>\n      <td>21.435374</td>\n      <td>21.435374</td>\n      <td>0.0</td>\n      <td>0.0</td>\n      <td>0.0</td>\n      <td>538.301100</td>\n    </tr>\n    <tr>\n      <th>4</th>\n      <td>2022-10-16</td>\n      <td>517.833661</td>\n      <td>498.818612</td>\n      <td>593.735352</td>\n      <td>517.687158</td>\n      <td>517.973896</td>\n      <td>27.780817</td>\n      <td>27.780817</td>\n      <td>27.780817</td>\n      <td>27.780817</td>\n      <td>27.780817</td>\n      <td>27.780817</td>\n      <td>0.0</td>\n      <td>0.0</td>\n      <td>0.0</td>\n      <td>545.614478</td>\n    </tr>\n  </tbody>\n</table>\n</div>"
     },
     "execution_count": 194,
     "metadata": {},
     "output_type": "execute_result"
    }
   ],
   "source": [
    "from prophet import Prophet\n",
    "prophet_df = prophet_df.rename(columns= {'Date':'ds','Crime Count':'y'})\n",
    "m = Prophet()\n",
    "m.fit(prophet_df)\n",
    "future = m.make_future_dataframe(periods=len(test),freq='W',include_history = False)\n",
    "forecast = m.predict(future)\n",
    "forecast.head()"
   ],
   "metadata": {
    "collapsed": false,
    "ExecuteTime": {
     "end_time": "2023-12-05T07:40:35.602055Z",
     "start_time": "2023-12-05T07:40:34.929357Z"
    }
   }
  },
  {
   "cell_type": "code",
   "execution_count": 195,
   "outputs": [
    {
     "data": {
      "text/plain": "yhat    62\ndtype: int64"
     },
     "execution_count": 195,
     "metadata": {},
     "output_type": "execute_result"
    }
   ],
   "source": [
    "forecast_df = pd.DataFrame(forecast)\n",
    "forecast_df=forecast_df[['ds','yhat']]\n",
    "forecast_df=forecast_df.set_index('ds')\n",
    "forecast_df.count()"
   ],
   "metadata": {
    "collapsed": false,
    "ExecuteTime": {
     "end_time": "2023-12-05T07:40:35.602109Z",
     "start_time": "2023-12-05T07:40:35.495954Z"
    }
   }
  },
  {
   "cell_type": "code",
   "execution_count": 196,
   "outputs": [
    {
     "data": {
      "text/plain": "                  yhat\nds                    \n2022-09-18  514.477849\n2022-09-25  524.819236\n2022-10-02  531.973733\n2022-10-09  538.301100\n2022-10-16  545.614478",
      "text/html": "<div>\n<style scoped>\n    .dataframe tbody tr th:only-of-type {\n        vertical-align: middle;\n    }\n\n    .dataframe tbody tr th {\n        vertical-align: top;\n    }\n\n    .dataframe thead th {\n        text-align: right;\n    }\n</style>\n<table border=\"1\" class=\"dataframe\">\n  <thead>\n    <tr style=\"text-align: right;\">\n      <th></th>\n      <th>yhat</th>\n    </tr>\n    <tr>\n      <th>ds</th>\n      <th></th>\n    </tr>\n  </thead>\n  <tbody>\n    <tr>\n      <th>2022-09-18</th>\n      <td>514.477849</td>\n    </tr>\n    <tr>\n      <th>2022-09-25</th>\n      <td>524.819236</td>\n    </tr>\n    <tr>\n      <th>2022-10-02</th>\n      <td>531.973733</td>\n    </tr>\n    <tr>\n      <th>2022-10-09</th>\n      <td>538.301100</td>\n    </tr>\n    <tr>\n      <th>2022-10-16</th>\n      <td>545.614478</td>\n    </tr>\n  </tbody>\n</table>\n</div>"
     },
     "execution_count": 196,
     "metadata": {},
     "output_type": "execute_result"
    }
   ],
   "source": [
    "forecast_df.head()"
   ],
   "metadata": {
    "collapsed": false,
    "ExecuteTime": {
     "end_time": "2023-12-05T07:40:35.602161Z",
     "start_time": "2023-12-05T07:40:35.504254Z"
    }
   }
  },
  {
   "cell_type": "code",
   "execution_count": 197,
   "outputs": [],
   "source": [
    "df4 = df4.to_frame()"
   ],
   "metadata": {
    "collapsed": false,
    "ExecuteTime": {
     "end_time": "2023-12-05T07:40:35.602184Z",
     "start_time": "2023-12-05T07:40:35.506630Z"
    }
   }
  },
  {
   "cell_type": "code",
   "execution_count": 198,
   "outputs": [
    {
     "name": "stdout",
     "output_type": "stream",
     "text": [
      "119.25189922493561\n"
     ]
    },
    {
     "name": "stderr",
     "output_type": "stream",
     "text": [
      "/var/folders/8g/z0__2mts0rnbjh3kq8zsfz2w0000gn/T/ipykernel_6574/3201360177.py:4: FutureWarning:\n",
      "\n",
      "The frame.append method is deprecated and will be removed from pandas in a future version. Use pandas.concat instead.\n",
      "\n"
     ]
    }
   ],
   "source": [
    "RMSE = ((df4.y - forecast_df.yhat) ** 2).mean() ** .5\n",
    "new_row = { \"Models\": \"FB Prophet\",\n",
    "            \"RMSE\": RMSE}\n",
    "results = results.append(new_row,ignore_index=True)\n",
    "print(RMSE)"
   ],
   "metadata": {
    "collapsed": false,
    "ExecuteTime": {
     "end_time": "2023-12-05T07:40:35.602247Z",
     "start_time": "2023-12-05T07:40:35.515603Z"
    }
   }
  },
  {
   "cell_type": "code",
   "execution_count": 199,
   "outputs": [
    {
     "data": {
      "text/plain": "       Models        RMSE\n0        LSTM   66.452827\n1       ARIMA   78.601415\n2  FB Prophet  119.251899",
      "text/html": "<div>\n<style scoped>\n    .dataframe tbody tr th:only-of-type {\n        vertical-align: middle;\n    }\n\n    .dataframe tbody tr th {\n        vertical-align: top;\n    }\n\n    .dataframe thead th {\n        text-align: right;\n    }\n</style>\n<table border=\"1\" class=\"dataframe\">\n  <thead>\n    <tr style=\"text-align: right;\">\n      <th></th>\n      <th>Models</th>\n      <th>RMSE</th>\n    </tr>\n  </thead>\n  <tbody>\n    <tr>\n      <th>0</th>\n      <td>LSTM</td>\n      <td>66.452827</td>\n    </tr>\n    <tr>\n      <th>1</th>\n      <td>ARIMA</td>\n      <td>78.601415</td>\n    </tr>\n    <tr>\n      <th>2</th>\n      <td>FB Prophet</td>\n      <td>119.251899</td>\n    </tr>\n  </tbody>\n</table>\n</div>"
     },
     "metadata": {},
     "output_type": "display_data"
    }
   ],
   "source": [
    "display(results)"
   ],
   "metadata": {
    "collapsed": false,
    "ExecuteTime": {
     "end_time": "2023-12-05T07:40:35.602310Z",
     "start_time": "2023-12-05T07:40:35.518805Z"
    }
   }
  }
 ],
 "metadata": {
  "kernelspec": {
   "display_name": "Python 3",
   "language": "python",
   "name": "python3"
  },
  "language_info": {
   "codemirror_mode": {
    "name": "ipython",
    "version": 2
   },
   "file_extension": ".py",
   "mimetype": "text/x-python",
   "name": "python",
   "nbconvert_exporter": "python",
   "pygments_lexer": "ipython2",
   "version": "2.7.6"
  }
 },
 "nbformat": 4,
 "nbformat_minor": 0
}
