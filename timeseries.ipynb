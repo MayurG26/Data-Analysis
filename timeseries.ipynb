{
 "cells": [
  {
   "cell_type": "code",
   "execution_count": 15,
   "metadata": {
    "collapsed": true,
    "ExecuteTime": {
     "start_time": "2023-11-25T13:34:14.769616Z",
     "end_time": "2023-11-25T13:34:15.800272Z"
    }
   },
   "outputs": [
    {
     "name": "stdout",
     "output_type": "stream",
     "text": [
      "       DR_NO               Date Rptd                DATE OCC  TIME OCC  AREA  \\\n",
      "0   10304468  01/08/2020 12:00:00 AM  01/08/2020 12:00:00 AM      2230     3   \n",
      "1  190101086  01/02/2020 12:00:00 AM  01/01/2020 12:00:00 AM       330     1   \n",
      "2  201220752  09/16/2020 12:00:00 AM  09/16/2020 12:00:00 AM      1230    12   \n",
      "3  191501505  01/01/2020 12:00:00 AM  01/01/2020 12:00:00 AM      1730    15   \n",
      "4  191921269  01/01/2020 12:00:00 AM  01/01/2020 12:00:00 AM       415    19   \n",
      "\n",
      "     AREA NAME  Rpt Dist No  Part 1-2  Crm Cd  \\\n",
      "0    Southwest          377         2     624   \n",
      "1      Central          163         2     624   \n",
      "2  77th Street         1259         2     745   \n",
      "3  N Hollywood         1543         2     745   \n",
      "4      Mission         1998         2     740   \n",
      "\n",
      "                                         Crm Cd Desc  ... Status  Status Desc  \\\n",
      "0                           BATTERY - SIMPLE ASSAULT  ...     AO  Adult Other   \n",
      "1                           BATTERY - SIMPLE ASSAULT  ...     IC  Invest Cont   \n",
      "2           VANDALISM - MISDEAMEANOR ($399 OR UNDER)  ...     IC  Invest Cont   \n",
      "3           VANDALISM - MISDEAMEANOR ($399 OR UNDER)  ...     IC  Invest Cont   \n",
      "4  VANDALISM - FELONY ($400 & OVER, ALL CHURCH VA...  ...     IC  Invest Cont   \n",
      "\n",
      "  Crm Cd 1 Crm Cd 2  Crm Cd 3 Crm Cd 4  \\\n",
      "0    624.0      NaN       NaN      NaN   \n",
      "1    624.0      NaN       NaN      NaN   \n",
      "2    745.0      NaN       NaN      NaN   \n",
      "3    745.0    998.0       NaN      NaN   \n",
      "4    740.0      NaN       NaN      NaN   \n",
      "\n",
      "                                   LOCATION Cross Street      LAT       LON  \n",
      "0   1100 W  39TH                         PL          NaN  34.0141 -118.2978  \n",
      "1    700 S  HILL                         ST          NaN  34.0459 -118.2545  \n",
      "2    700 E  73RD                         ST          NaN  33.9739 -118.2630  \n",
      "3   5400    CORTEEN                      PL          NaN  34.1685 -118.4019  \n",
      "4  14400    TITUS                        ST          NaN  34.2198 -118.4468  \n",
      "\n",
      "[5 rows x 28 columns]\n",
      "Crm Cd\n",
      "510    34216\n",
      "624    25965\n",
      "740    21179\n",
      "330    20378\n",
      "310    19954\n",
      "230    19341\n",
      "626    17368\n",
      "440    17289\n",
      "420    14525\n",
      "354    12615\n",
      "Name: count, dtype: int64\n"
     ]
    },
    {
     "data": {
      "text/plain": "        DR_NO               Date Rptd                DATE OCC  TIME OCC  AREA  \\\n0    10304468  01/08/2020 12:00:00 AM  01/08/2020 12:00:00 AM      2230     3   \n1   190101086  01/02/2020 12:00:00 AM  01/01/2020 12:00:00 AM       330     1   \n4   191921269  01/01/2020 12:00:00 AM  01/01/2020 12:00:00 AM       415    19   \n10  200100509  01/04/2020 12:00:00 AM  01/04/2020 12:00:00 AM      2200     1   \n15  201811813  05/28/2020 12:00:00 AM  05/25/2020 12:00:00 AM       200    18   \n\n    AREA NAME  Rpt Dist No  Part 1-2  Crm Cd  \\\n0   Southwest          377         2     624   \n1     Central          163         2     624   \n4     Mission         1998         2     740   \n10    Central          192         1     330   \n15  Southeast         1851         1     510   \n\n                                          Crm Cd Desc  ... Status  \\\n0                            BATTERY - SIMPLE ASSAULT  ...     AO   \n1                            BATTERY - SIMPLE ASSAULT  ...     IC   \n4   VANDALISM - FELONY ($400 & OVER, ALL CHURCH VA...  ...     IC   \n10                              BURGLARY FROM VEHICLE  ...     IC   \n15                                   VEHICLE - STOLEN  ...     IC   \n\n    Status Desc Crm Cd 1 Crm Cd 2  Crm Cd 3 Crm Cd 4  \\\n0   Adult Other    624.0      NaN       NaN      NaN   \n1   Invest Cont    624.0      NaN       NaN      NaN   \n4   Invest Cont    740.0      NaN       NaN      NaN   \n10  Invest Cont    330.0      NaN       NaN      NaN   \n15  Invest Cont    510.0      NaN       NaN      NaN   \n\n                                    LOCATION                     Cross Street  \\\n0    1100 W  39TH                         PL                              NaN   \n1     700 S  HILL                         ST                              NaN   \n4   14400    TITUS                        ST                              NaN   \n10                                      15TH                            OLIVE   \n15           MENLO                        AV  130TH                        ST   \n\n        LAT       LON  \n0   34.0141 -118.2978  \n1   34.0459 -118.2545  \n4   34.2198 -118.4468  \n10  34.0359 -118.2648  \n15  33.9144 -118.2894  \n\n[5 rows x 28 columns]",
      "text/html": "<div>\n<style scoped>\n    .dataframe tbody tr th:only-of-type {\n        vertical-align: middle;\n    }\n\n    .dataframe tbody tr th {\n        vertical-align: top;\n    }\n\n    .dataframe thead th {\n        text-align: right;\n    }\n</style>\n<table border=\"1\" class=\"dataframe\">\n  <thead>\n    <tr style=\"text-align: right;\">\n      <th></th>\n      <th>DR_NO</th>\n      <th>Date Rptd</th>\n      <th>DATE OCC</th>\n      <th>TIME OCC</th>\n      <th>AREA</th>\n      <th>AREA NAME</th>\n      <th>Rpt Dist No</th>\n      <th>Part 1-2</th>\n      <th>Crm Cd</th>\n      <th>Crm Cd Desc</th>\n      <th>...</th>\n      <th>Status</th>\n      <th>Status Desc</th>\n      <th>Crm Cd 1</th>\n      <th>Crm Cd 2</th>\n      <th>Crm Cd 3</th>\n      <th>Crm Cd 4</th>\n      <th>LOCATION</th>\n      <th>Cross Street</th>\n      <th>LAT</th>\n      <th>LON</th>\n    </tr>\n  </thead>\n  <tbody>\n    <tr>\n      <th>0</th>\n      <td>10304468</td>\n      <td>01/08/2020 12:00:00 AM</td>\n      <td>01/08/2020 12:00:00 AM</td>\n      <td>2230</td>\n      <td>3</td>\n      <td>Southwest</td>\n      <td>377</td>\n      <td>2</td>\n      <td>624</td>\n      <td>BATTERY - SIMPLE ASSAULT</td>\n      <td>...</td>\n      <td>AO</td>\n      <td>Adult Other</td>\n      <td>624.0</td>\n      <td>NaN</td>\n      <td>NaN</td>\n      <td>NaN</td>\n      <td>1100 W  39TH                         PL</td>\n      <td>NaN</td>\n      <td>34.0141</td>\n      <td>-118.2978</td>\n    </tr>\n    <tr>\n      <th>1</th>\n      <td>190101086</td>\n      <td>01/02/2020 12:00:00 AM</td>\n      <td>01/01/2020 12:00:00 AM</td>\n      <td>330</td>\n      <td>1</td>\n      <td>Central</td>\n      <td>163</td>\n      <td>2</td>\n      <td>624</td>\n      <td>BATTERY - SIMPLE ASSAULT</td>\n      <td>...</td>\n      <td>IC</td>\n      <td>Invest Cont</td>\n      <td>624.0</td>\n      <td>NaN</td>\n      <td>NaN</td>\n      <td>NaN</td>\n      <td>700 S  HILL                         ST</td>\n      <td>NaN</td>\n      <td>34.0459</td>\n      <td>-118.2545</td>\n    </tr>\n    <tr>\n      <th>4</th>\n      <td>191921269</td>\n      <td>01/01/2020 12:00:00 AM</td>\n      <td>01/01/2020 12:00:00 AM</td>\n      <td>415</td>\n      <td>19</td>\n      <td>Mission</td>\n      <td>1998</td>\n      <td>2</td>\n      <td>740</td>\n      <td>VANDALISM - FELONY ($400 &amp; OVER, ALL CHURCH VA...</td>\n      <td>...</td>\n      <td>IC</td>\n      <td>Invest Cont</td>\n      <td>740.0</td>\n      <td>NaN</td>\n      <td>NaN</td>\n      <td>NaN</td>\n      <td>14400    TITUS                        ST</td>\n      <td>NaN</td>\n      <td>34.2198</td>\n      <td>-118.4468</td>\n    </tr>\n    <tr>\n      <th>10</th>\n      <td>200100509</td>\n      <td>01/04/2020 12:00:00 AM</td>\n      <td>01/04/2020 12:00:00 AM</td>\n      <td>2200</td>\n      <td>1</td>\n      <td>Central</td>\n      <td>192</td>\n      <td>1</td>\n      <td>330</td>\n      <td>BURGLARY FROM VEHICLE</td>\n      <td>...</td>\n      <td>IC</td>\n      <td>Invest Cont</td>\n      <td>330.0</td>\n      <td>NaN</td>\n      <td>NaN</td>\n      <td>NaN</td>\n      <td>15TH</td>\n      <td>OLIVE</td>\n      <td>34.0359</td>\n      <td>-118.2648</td>\n    </tr>\n    <tr>\n      <th>15</th>\n      <td>201811813</td>\n      <td>05/28/2020 12:00:00 AM</td>\n      <td>05/25/2020 12:00:00 AM</td>\n      <td>200</td>\n      <td>18</td>\n      <td>Southeast</td>\n      <td>1851</td>\n      <td>1</td>\n      <td>510</td>\n      <td>VEHICLE - STOLEN</td>\n      <td>...</td>\n      <td>IC</td>\n      <td>Invest Cont</td>\n      <td>510.0</td>\n      <td>NaN</td>\n      <td>NaN</td>\n      <td>NaN</td>\n      <td>MENLO                        AV</td>\n      <td>130TH                        ST</td>\n      <td>33.9144</td>\n      <td>-118.2894</td>\n    </tr>\n  </tbody>\n</table>\n<p>5 rows × 28 columns</p>\n</div>"
     },
     "execution_count": 15,
     "metadata": {},
     "output_type": "execute_result"
    }
   ],
   "source": [
    "import sys\n",
    "import pandas as pd\n",
    "import matplotlib.pyplot as plt\n",
    "import numpy as np\n",
    "import datetime\n",
    "\n",
    "original_crime_df = pd.read_csv(\"/Users/mayur/Desktop/ALDA Project/Crime_Data_from_2020_to_Present 2.csv\")\n",
    "print(original_crime_df.head())\n",
    "print(original_crime_df['Crm Cd'].value_counts()[:10])\n",
    "new_dataset = original_crime_df[original_crime_df[\"Crm Cd\"].isin([510,624,740,330,310,230,626,440,420,354]) ]\n",
    "new_dataset.head()"
   ]
  },
  {
   "cell_type": "code",
   "execution_count": 16,
   "outputs": [
    {
     "data": {
      "text/plain": "            DR_NO               Date Rptd                DATE OCC  TIME OCC  \\\n15      201811813  05/28/2020 12:00:00 AM  05/25/2020 12:00:00 AM       200   \n24      201713253  09/15/2020 12:00:00 AM  09/14/2020 12:00:00 AM      1305   \n27      200505212  01/29/2020 12:00:00 AM  01/26/2020 12:00:00 AM      1200   \n32      200117988  09/15/2020 12:00:00 AM  09/03/2020 12:00:00 AM      2000   \n50      201312607  06/21/2020 12:00:00 AM  06/21/2020 12:00:00 AM        30   \n...           ...                     ...                     ...       ...   \n317802  210911274  07/05/2021 12:00:00 AM  07/03/2021 12:00:00 AM      1900   \n317808  211204656  01/11/2021 12:00:00 AM  01/10/2021 12:00:00 AM      2300   \n317846  210404776  01/21/2021 12:00:00 AM  01/19/2021 12:00:00 AM      1600   \n317849  211208872  03/19/2021 12:00:00 AM  03/19/2021 12:00:00 AM      1105   \n317853  212005847  02/22/2021 12:00:00 AM  02/22/2021 12:00:00 AM      1200   \n\n        AREA    AREA NAME  Rpt Dist No  Part 1-2  Crm Cd       Crm Cd Desc  \\\n15        18    Southeast         1851         1     510  VEHICLE - STOLEN   \n24        17   Devonshire         1776         1     510  VEHICLE - STOLEN   \n27         5       Harbor          529         1     510  VEHICLE - STOLEN   \n32         1      Central          111         1     510  VEHICLE - STOLEN   \n50        13       Newton         1321         1     510  VEHICLE - STOLEN   \n...      ...          ...          ...       ...     ...               ...   \n317802     9     Van Nuys          911         1     510  VEHICLE - STOLEN   \n317808    12  77th Street         1259         1     510  VEHICLE - STOLEN   \n317846     4   Hollenbeck          497         1     510  VEHICLE - STOLEN   \n317849    12  77th Street         1218         1     510  VEHICLE - STOLEN   \n317853    20      Olympic         2034         1     510  VEHICLE - STOLEN   \n\n        ... Status  Status Desc Crm Cd 1 Crm Cd 2  Crm Cd 3 Crm Cd 4  \\\n15      ...     IC  Invest Cont    510.0      NaN       NaN      NaN   \n24      ...     IC  Invest Cont    510.0      NaN       NaN      NaN   \n27      ...     IC  Invest Cont    510.0      NaN       NaN      NaN   \n32      ...     IC  Invest Cont    510.0      NaN       NaN      NaN   \n50      ...     IC  Invest Cont    510.0      NaN       NaN      NaN   \n...     ...    ...          ...      ...      ...       ...      ...   \n317802  ...     IC  Invest Cont    510.0      NaN       NaN      NaN   \n317808  ...     IC  Invest Cont    510.0      NaN       NaN      NaN   \n317846  ...     IC  Invest Cont    510.0      NaN       NaN      NaN   \n317849  ...     IC  Invest Cont    510.0      NaN       NaN      NaN   \n317853  ...     IC  Invest Cont    510.0      NaN       NaN      NaN   \n\n                                        LOCATION  \\\n15               MENLO                        AV   \n24      16700    LABRADOR                     ST   \n27                                             E   \n32        500 N  FIGUEROA                     ST   \n50        100 E  24TH                         ST   \n...                                          ...   \n317802  15600    VANOWEN                      ST   \n317808    400 E  74TH                         ST   \n317846   1400 S  DE LA TORRE                  WY   \n317849           58TH                         ST   \n317853   3300 W  8TH                          ST   \n\n                           Cross Street      LAT       LON  \n15      130TH                        ST  33.9144 -118.2894  \n24                                  NaN  34.2493 -118.4965  \n27                                BROAD  33.7753 -118.2456  \n32                                  NaN  34.0615 -118.2470  \n50                                  NaN  34.0266 -118.2676  \n...                                 ...      ...       ...  \n317802                              NaN  34.1939 -118.4732  \n317808                              NaN  33.9730 -118.2657  \n317846                              NaN  34.0166 -118.2058  \n317849  FIGUEROA                     ST  33.9897 -118.2827  \n317853                              NaN  34.0596 -118.3022  \n\n[34216 rows x 28 columns]",
      "text/html": "<div>\n<style scoped>\n    .dataframe tbody tr th:only-of-type {\n        vertical-align: middle;\n    }\n\n    .dataframe tbody tr th {\n        vertical-align: top;\n    }\n\n    .dataframe thead th {\n        text-align: right;\n    }\n</style>\n<table border=\"1\" class=\"dataframe\">\n  <thead>\n    <tr style=\"text-align: right;\">\n      <th></th>\n      <th>DR_NO</th>\n      <th>Date Rptd</th>\n      <th>DATE OCC</th>\n      <th>TIME OCC</th>\n      <th>AREA</th>\n      <th>AREA NAME</th>\n      <th>Rpt Dist No</th>\n      <th>Part 1-2</th>\n      <th>Crm Cd</th>\n      <th>Crm Cd Desc</th>\n      <th>...</th>\n      <th>Status</th>\n      <th>Status Desc</th>\n      <th>Crm Cd 1</th>\n      <th>Crm Cd 2</th>\n      <th>Crm Cd 3</th>\n      <th>Crm Cd 4</th>\n      <th>LOCATION</th>\n      <th>Cross Street</th>\n      <th>LAT</th>\n      <th>LON</th>\n    </tr>\n  </thead>\n  <tbody>\n    <tr>\n      <th>15</th>\n      <td>201811813</td>\n      <td>05/28/2020 12:00:00 AM</td>\n      <td>05/25/2020 12:00:00 AM</td>\n      <td>200</td>\n      <td>18</td>\n      <td>Southeast</td>\n      <td>1851</td>\n      <td>1</td>\n      <td>510</td>\n      <td>VEHICLE - STOLEN</td>\n      <td>...</td>\n      <td>IC</td>\n      <td>Invest Cont</td>\n      <td>510.0</td>\n      <td>NaN</td>\n      <td>NaN</td>\n      <td>NaN</td>\n      <td>MENLO                        AV</td>\n      <td>130TH                        ST</td>\n      <td>33.9144</td>\n      <td>-118.2894</td>\n    </tr>\n    <tr>\n      <th>24</th>\n      <td>201713253</td>\n      <td>09/15/2020 12:00:00 AM</td>\n      <td>09/14/2020 12:00:00 AM</td>\n      <td>1305</td>\n      <td>17</td>\n      <td>Devonshire</td>\n      <td>1776</td>\n      <td>1</td>\n      <td>510</td>\n      <td>VEHICLE - STOLEN</td>\n      <td>...</td>\n      <td>IC</td>\n      <td>Invest Cont</td>\n      <td>510.0</td>\n      <td>NaN</td>\n      <td>NaN</td>\n      <td>NaN</td>\n      <td>16700    LABRADOR                     ST</td>\n      <td>NaN</td>\n      <td>34.2493</td>\n      <td>-118.4965</td>\n    </tr>\n    <tr>\n      <th>27</th>\n      <td>200505212</td>\n      <td>01/29/2020 12:00:00 AM</td>\n      <td>01/26/2020 12:00:00 AM</td>\n      <td>1200</td>\n      <td>5</td>\n      <td>Harbor</td>\n      <td>529</td>\n      <td>1</td>\n      <td>510</td>\n      <td>VEHICLE - STOLEN</td>\n      <td>...</td>\n      <td>IC</td>\n      <td>Invest Cont</td>\n      <td>510.0</td>\n      <td>NaN</td>\n      <td>NaN</td>\n      <td>NaN</td>\n      <td>E</td>\n      <td>BROAD</td>\n      <td>33.7753</td>\n      <td>-118.2456</td>\n    </tr>\n    <tr>\n      <th>32</th>\n      <td>200117988</td>\n      <td>09/15/2020 12:00:00 AM</td>\n      <td>09/03/2020 12:00:00 AM</td>\n      <td>2000</td>\n      <td>1</td>\n      <td>Central</td>\n      <td>111</td>\n      <td>1</td>\n      <td>510</td>\n      <td>VEHICLE - STOLEN</td>\n      <td>...</td>\n      <td>IC</td>\n      <td>Invest Cont</td>\n      <td>510.0</td>\n      <td>NaN</td>\n      <td>NaN</td>\n      <td>NaN</td>\n      <td>500 N  FIGUEROA                     ST</td>\n      <td>NaN</td>\n      <td>34.0615</td>\n      <td>-118.2470</td>\n    </tr>\n    <tr>\n      <th>50</th>\n      <td>201312607</td>\n      <td>06/21/2020 12:00:00 AM</td>\n      <td>06/21/2020 12:00:00 AM</td>\n      <td>30</td>\n      <td>13</td>\n      <td>Newton</td>\n      <td>1321</td>\n      <td>1</td>\n      <td>510</td>\n      <td>VEHICLE - STOLEN</td>\n      <td>...</td>\n      <td>IC</td>\n      <td>Invest Cont</td>\n      <td>510.0</td>\n      <td>NaN</td>\n      <td>NaN</td>\n      <td>NaN</td>\n      <td>100 E  24TH                         ST</td>\n      <td>NaN</td>\n      <td>34.0266</td>\n      <td>-118.2676</td>\n    </tr>\n    <tr>\n      <th>...</th>\n      <td>...</td>\n      <td>...</td>\n      <td>...</td>\n      <td>...</td>\n      <td>...</td>\n      <td>...</td>\n      <td>...</td>\n      <td>...</td>\n      <td>...</td>\n      <td>...</td>\n      <td>...</td>\n      <td>...</td>\n      <td>...</td>\n      <td>...</td>\n      <td>...</td>\n      <td>...</td>\n      <td>...</td>\n      <td>...</td>\n      <td>...</td>\n      <td>...</td>\n      <td>...</td>\n    </tr>\n    <tr>\n      <th>317802</th>\n      <td>210911274</td>\n      <td>07/05/2021 12:00:00 AM</td>\n      <td>07/03/2021 12:00:00 AM</td>\n      <td>1900</td>\n      <td>9</td>\n      <td>Van Nuys</td>\n      <td>911</td>\n      <td>1</td>\n      <td>510</td>\n      <td>VEHICLE - STOLEN</td>\n      <td>...</td>\n      <td>IC</td>\n      <td>Invest Cont</td>\n      <td>510.0</td>\n      <td>NaN</td>\n      <td>NaN</td>\n      <td>NaN</td>\n      <td>15600    VANOWEN                      ST</td>\n      <td>NaN</td>\n      <td>34.1939</td>\n      <td>-118.4732</td>\n    </tr>\n    <tr>\n      <th>317808</th>\n      <td>211204656</td>\n      <td>01/11/2021 12:00:00 AM</td>\n      <td>01/10/2021 12:00:00 AM</td>\n      <td>2300</td>\n      <td>12</td>\n      <td>77th Street</td>\n      <td>1259</td>\n      <td>1</td>\n      <td>510</td>\n      <td>VEHICLE - STOLEN</td>\n      <td>...</td>\n      <td>IC</td>\n      <td>Invest Cont</td>\n      <td>510.0</td>\n      <td>NaN</td>\n      <td>NaN</td>\n      <td>NaN</td>\n      <td>400 E  74TH                         ST</td>\n      <td>NaN</td>\n      <td>33.9730</td>\n      <td>-118.2657</td>\n    </tr>\n    <tr>\n      <th>317846</th>\n      <td>210404776</td>\n      <td>01/21/2021 12:00:00 AM</td>\n      <td>01/19/2021 12:00:00 AM</td>\n      <td>1600</td>\n      <td>4</td>\n      <td>Hollenbeck</td>\n      <td>497</td>\n      <td>1</td>\n      <td>510</td>\n      <td>VEHICLE - STOLEN</td>\n      <td>...</td>\n      <td>IC</td>\n      <td>Invest Cont</td>\n      <td>510.0</td>\n      <td>NaN</td>\n      <td>NaN</td>\n      <td>NaN</td>\n      <td>1400 S  DE LA TORRE                  WY</td>\n      <td>NaN</td>\n      <td>34.0166</td>\n      <td>-118.2058</td>\n    </tr>\n    <tr>\n      <th>317849</th>\n      <td>211208872</td>\n      <td>03/19/2021 12:00:00 AM</td>\n      <td>03/19/2021 12:00:00 AM</td>\n      <td>1105</td>\n      <td>12</td>\n      <td>77th Street</td>\n      <td>1218</td>\n      <td>1</td>\n      <td>510</td>\n      <td>VEHICLE - STOLEN</td>\n      <td>...</td>\n      <td>IC</td>\n      <td>Invest Cont</td>\n      <td>510.0</td>\n      <td>NaN</td>\n      <td>NaN</td>\n      <td>NaN</td>\n      <td>58TH                         ST</td>\n      <td>FIGUEROA                     ST</td>\n      <td>33.9897</td>\n      <td>-118.2827</td>\n    </tr>\n    <tr>\n      <th>317853</th>\n      <td>212005847</td>\n      <td>02/22/2021 12:00:00 AM</td>\n      <td>02/22/2021 12:00:00 AM</td>\n      <td>1200</td>\n      <td>20</td>\n      <td>Olympic</td>\n      <td>2034</td>\n      <td>1</td>\n      <td>510</td>\n      <td>VEHICLE - STOLEN</td>\n      <td>...</td>\n      <td>IC</td>\n      <td>Invest Cont</td>\n      <td>510.0</td>\n      <td>NaN</td>\n      <td>NaN</td>\n      <td>NaN</td>\n      <td>3300 W  8TH                          ST</td>\n      <td>NaN</td>\n      <td>34.0596</td>\n      <td>-118.3022</td>\n    </tr>\n  </tbody>\n</table>\n<p>34216 rows × 28 columns</p>\n</div>"
     },
     "execution_count": 16,
     "metadata": {},
     "output_type": "execute_result"
    }
   ],
   "source": [
    "dataset_510 = original_crime_df[original_crime_df[\"Crm Cd\"].isin([510]) ]\n",
    "dataset_624 = original_crime_df[original_crime_df[\"Crm Cd\"].isin([624])]\n",
    "dataset_740 = original_crime_df[original_crime_df[\"Crm Cd\"].isin([740])]\n",
    "dataset_330 = original_crime_df[original_crime_df[\"Crm Cd\"].isin([330])]\n",
    "dataset_310 = original_crime_df[original_crime_df[\"Crm Cd\"].isin([310])]\n",
    "dataset_230 = original_crime_df[original_crime_df[\"Crm Cd\"].isin([230])]\n",
    "dataset_626 = original_crime_df[original_crime_df[\"Crm Cd\"].isin([626])]\n",
    "dataset_440 = original_crime_df[original_crime_df[\"Crm Cd\"].isin([440])]\n",
    "dataset_420 = original_crime_df[original_crime_df[\"Crm Cd\"].isin([420])]\n",
    "dataset_354 = original_crime_df[original_crime_df[\"Crm Cd\"].isin([354])]\n",
    "\n",
    "\n",
    "dataset_510\n"
   ],
   "metadata": {
    "collapsed": false,
    "ExecuteTime": {
     "start_time": "2023-11-25T13:34:16.993112Z",
     "end_time": "2023-11-25T13:34:17.093020Z"
    }
   }
  },
  {
   "cell_type": "code",
   "execution_count": 17,
   "outputs": [
    {
     "name": "stderr",
     "output_type": "stream",
     "text": [
      "/var/folders/8t/cg46ygc52xq8ts0rysyjhfn40000gn/T/ipykernel_3242/4109199034.py:1: UserWarning: Could not infer format, so each element will be parsed individually, falling back to `dateutil`. To ensure parsing is consistent and as-expected, please specify a format.\n",
      "  dataset_510['Date Rptd'] = pd.to_datetime(dataset_510['Date Rptd'])\n",
      "/var/folders/8t/cg46ygc52xq8ts0rysyjhfn40000gn/T/ipykernel_3242/4109199034.py:1: SettingWithCopyWarning: \n",
      "A value is trying to be set on a copy of a slice from a DataFrame.\n",
      "Try using .loc[row_indexer,col_indexer] = value instead\n",
      "\n",
      "See the caveats in the documentation: https://pandas.pydata.org/pandas-docs/stable/user_guide/indexing.html#returning-a-view-versus-a-copy\n",
      "  dataset_510['Date Rptd'] = pd.to_datetime(dataset_510['Date Rptd'])\n",
      "/var/folders/8t/cg46ygc52xq8ts0rysyjhfn40000gn/T/ipykernel_3242/4109199034.py:2: UserWarning: Could not infer format, so each element will be parsed individually, falling back to `dateutil`. To ensure parsing is consistent and as-expected, please specify a format.\n",
      "  dataset_510['DATE OCC'] = pd.to_datetime(dataset_510['DATE OCC'])\n",
      "/var/folders/8t/cg46ygc52xq8ts0rysyjhfn40000gn/T/ipykernel_3242/4109199034.py:2: SettingWithCopyWarning: \n",
      "A value is trying to be set on a copy of a slice from a DataFrame.\n",
      "Try using .loc[row_indexer,col_indexer] = value instead\n",
      "\n",
      "See the caveats in the documentation: https://pandas.pydata.org/pandas-docs/stable/user_guide/indexing.html#returning-a-view-versus-a-copy\n",
      "  dataset_510['DATE OCC'] = pd.to_datetime(dataset_510['DATE OCC'])\n"
     ]
    },
    {
     "data": {
      "text/plain": "            DR_NO  Date Rptd   DATE OCC  TIME OCC  AREA    AREA NAME  \\\n15061   201604004 2020-01-01 2020-01-01         5    16     Foothill   \n9729    201104043 2020-01-02 2020-01-01      1830    11    Northeast   \n9728    201104038 2020-01-01 2020-01-01       800    11    Northeast   \n1434    200204057 2020-01-02 2020-01-01      2000     2      Rampart   \n1432    200204055 2020-01-02 2020-01-01      2200     2      Rampart   \n...           ...        ...        ...       ...   ...          ...   \n292740  211011359 2021-08-16 2021-08-16       705    10  West Valley   \n317434  211815272 2021-08-16 2021-08-16       400    18    Southeast   \n201876  210115282 2021-08-16 2021-08-16      1900     1      Central   \n277674  211711552 2021-08-16 2021-08-16       510    17   Devonshire   \n296769  211416655 2021-08-16 2021-08-16       130    14      Pacific   \n\n        Rpt Dist No  Part 1-2  Crm Cd       Crm Cd Desc  ... Status  \\\n15061          1601         1     510  VEHICLE - STOLEN  ...     IC   \n9729           1145         1     510  VEHICLE - STOLEN  ...     IC   \n9728           1149         1     510  VEHICLE - STOLEN  ...     IC   \n1434            204         1     510  VEHICLE - STOLEN  ...     IC   \n1432            275         1     510  VEHICLE - STOLEN  ...     IC   \n...             ...       ...     ...               ...  ...    ...   \n292740         1049         1     510  VEHICLE - STOLEN  ...     IC   \n317434         1823         1     510  VEHICLE - STOLEN  ...     IC   \n201876          138         1     510  VEHICLE - STOLEN  ...     IC   \n277674         1794         1     510  VEHICLE - STOLEN  ...     IC   \n296769         1414         1     510  VEHICLE - STOLEN  ...     IC   \n\n        Status Desc Crm Cd 1 Crm Cd 2  Crm Cd 3 Crm Cd 4  \\\n15061   Invest Cont    510.0      NaN       NaN      NaN   \n9729    Invest Cont    510.0      NaN       NaN      NaN   \n9728    Invest Cont    510.0      NaN       NaN      NaN   \n1434    Invest Cont    510.0      NaN       NaN      NaN   \n1432    Invest Cont    510.0      NaN       NaN      NaN   \n...             ...      ...      ...       ...      ...   \n292740  Invest Cont    510.0      NaN       NaN      NaN   \n317434  Invest Cont    510.0      NaN       NaN      NaN   \n201876  Invest Cont    510.0      NaN       NaN      NaN   \n277674  Invest Cont    510.0      NaN       NaN      NaN   \n296769  Invest Cont    510.0      NaN       NaN      NaN   \n\n                                        LOCATION  \\\n15061   11900    COMETA                       AV   \n9729     2500    GLENDALE                     BL   \n9728                            100 S  AVENUE 57   \n1434     3400    PLATA                        ST   \n1432                                  BURLINGTON   \n...                                          ...   \n292740   6300    BALBOA                       BL   \n317434  10100 S  SAN PEDRO                    ST   \n201876           BOYD                         ST   \n277674  18500    PARTHENIA                    ST   \n296769    700    INDIANA                      AV   \n\n                           Cross Street      LAT       LON  \n15061                               NaN  34.2866 -118.4125  \n9729                                NaN  34.1027 -118.2592  \n9728                                NaN  34.1074 -118.1978  \n1434                                NaN  34.0777 -118.2821  \n1432                       JAMES M WOOD  34.0519 -118.2755  \n...                                 ...      ...       ...  \n292740                              NaN   0.0000    0.0000  \n317434                              NaN  33.9438 -118.2695  \n201876  WALL                         ST   0.0000    0.0000  \n277674                              NaN  34.2282 -118.5367  \n296769                              NaN  33.9975 -118.4670  \n\n[34216 rows x 28 columns]",
      "text/html": "<div>\n<style scoped>\n    .dataframe tbody tr th:only-of-type {\n        vertical-align: middle;\n    }\n\n    .dataframe tbody tr th {\n        vertical-align: top;\n    }\n\n    .dataframe thead th {\n        text-align: right;\n    }\n</style>\n<table border=\"1\" class=\"dataframe\">\n  <thead>\n    <tr style=\"text-align: right;\">\n      <th></th>\n      <th>DR_NO</th>\n      <th>Date Rptd</th>\n      <th>DATE OCC</th>\n      <th>TIME OCC</th>\n      <th>AREA</th>\n      <th>AREA NAME</th>\n      <th>Rpt Dist No</th>\n      <th>Part 1-2</th>\n      <th>Crm Cd</th>\n      <th>Crm Cd Desc</th>\n      <th>...</th>\n      <th>Status</th>\n      <th>Status Desc</th>\n      <th>Crm Cd 1</th>\n      <th>Crm Cd 2</th>\n      <th>Crm Cd 3</th>\n      <th>Crm Cd 4</th>\n      <th>LOCATION</th>\n      <th>Cross Street</th>\n      <th>LAT</th>\n      <th>LON</th>\n    </tr>\n  </thead>\n  <tbody>\n    <tr>\n      <th>15061</th>\n      <td>201604004</td>\n      <td>2020-01-01</td>\n      <td>2020-01-01</td>\n      <td>5</td>\n      <td>16</td>\n      <td>Foothill</td>\n      <td>1601</td>\n      <td>1</td>\n      <td>510</td>\n      <td>VEHICLE - STOLEN</td>\n      <td>...</td>\n      <td>IC</td>\n      <td>Invest Cont</td>\n      <td>510.0</td>\n      <td>NaN</td>\n      <td>NaN</td>\n      <td>NaN</td>\n      <td>11900    COMETA                       AV</td>\n      <td>NaN</td>\n      <td>34.2866</td>\n      <td>-118.4125</td>\n    </tr>\n    <tr>\n      <th>9729</th>\n      <td>201104043</td>\n      <td>2020-01-02</td>\n      <td>2020-01-01</td>\n      <td>1830</td>\n      <td>11</td>\n      <td>Northeast</td>\n      <td>1145</td>\n      <td>1</td>\n      <td>510</td>\n      <td>VEHICLE - STOLEN</td>\n      <td>...</td>\n      <td>IC</td>\n      <td>Invest Cont</td>\n      <td>510.0</td>\n      <td>NaN</td>\n      <td>NaN</td>\n      <td>NaN</td>\n      <td>2500    GLENDALE                     BL</td>\n      <td>NaN</td>\n      <td>34.1027</td>\n      <td>-118.2592</td>\n    </tr>\n    <tr>\n      <th>9728</th>\n      <td>201104038</td>\n      <td>2020-01-01</td>\n      <td>2020-01-01</td>\n      <td>800</td>\n      <td>11</td>\n      <td>Northeast</td>\n      <td>1149</td>\n      <td>1</td>\n      <td>510</td>\n      <td>VEHICLE - STOLEN</td>\n      <td>...</td>\n      <td>IC</td>\n      <td>Invest Cont</td>\n      <td>510.0</td>\n      <td>NaN</td>\n      <td>NaN</td>\n      <td>NaN</td>\n      <td>100 S  AVENUE 57</td>\n      <td>NaN</td>\n      <td>34.1074</td>\n      <td>-118.1978</td>\n    </tr>\n    <tr>\n      <th>1434</th>\n      <td>200204057</td>\n      <td>2020-01-02</td>\n      <td>2020-01-01</td>\n      <td>2000</td>\n      <td>2</td>\n      <td>Rampart</td>\n      <td>204</td>\n      <td>1</td>\n      <td>510</td>\n      <td>VEHICLE - STOLEN</td>\n      <td>...</td>\n      <td>IC</td>\n      <td>Invest Cont</td>\n      <td>510.0</td>\n      <td>NaN</td>\n      <td>NaN</td>\n      <td>NaN</td>\n      <td>3400    PLATA                        ST</td>\n      <td>NaN</td>\n      <td>34.0777</td>\n      <td>-118.2821</td>\n    </tr>\n    <tr>\n      <th>1432</th>\n      <td>200204055</td>\n      <td>2020-01-02</td>\n      <td>2020-01-01</td>\n      <td>2200</td>\n      <td>2</td>\n      <td>Rampart</td>\n      <td>275</td>\n      <td>1</td>\n      <td>510</td>\n      <td>VEHICLE - STOLEN</td>\n      <td>...</td>\n      <td>IC</td>\n      <td>Invest Cont</td>\n      <td>510.0</td>\n      <td>NaN</td>\n      <td>NaN</td>\n      <td>NaN</td>\n      <td>BURLINGTON</td>\n      <td>JAMES M WOOD</td>\n      <td>34.0519</td>\n      <td>-118.2755</td>\n    </tr>\n    <tr>\n      <th>...</th>\n      <td>...</td>\n      <td>...</td>\n      <td>...</td>\n      <td>...</td>\n      <td>...</td>\n      <td>...</td>\n      <td>...</td>\n      <td>...</td>\n      <td>...</td>\n      <td>...</td>\n      <td>...</td>\n      <td>...</td>\n      <td>...</td>\n      <td>...</td>\n      <td>...</td>\n      <td>...</td>\n      <td>...</td>\n      <td>...</td>\n      <td>...</td>\n      <td>...</td>\n      <td>...</td>\n    </tr>\n    <tr>\n      <th>292740</th>\n      <td>211011359</td>\n      <td>2021-08-16</td>\n      <td>2021-08-16</td>\n      <td>705</td>\n      <td>10</td>\n      <td>West Valley</td>\n      <td>1049</td>\n      <td>1</td>\n      <td>510</td>\n      <td>VEHICLE - STOLEN</td>\n      <td>...</td>\n      <td>IC</td>\n      <td>Invest Cont</td>\n      <td>510.0</td>\n      <td>NaN</td>\n      <td>NaN</td>\n      <td>NaN</td>\n      <td>6300    BALBOA                       BL</td>\n      <td>NaN</td>\n      <td>0.0000</td>\n      <td>0.0000</td>\n    </tr>\n    <tr>\n      <th>317434</th>\n      <td>211815272</td>\n      <td>2021-08-16</td>\n      <td>2021-08-16</td>\n      <td>400</td>\n      <td>18</td>\n      <td>Southeast</td>\n      <td>1823</td>\n      <td>1</td>\n      <td>510</td>\n      <td>VEHICLE - STOLEN</td>\n      <td>...</td>\n      <td>IC</td>\n      <td>Invest Cont</td>\n      <td>510.0</td>\n      <td>NaN</td>\n      <td>NaN</td>\n      <td>NaN</td>\n      <td>10100 S  SAN PEDRO                    ST</td>\n      <td>NaN</td>\n      <td>33.9438</td>\n      <td>-118.2695</td>\n    </tr>\n    <tr>\n      <th>201876</th>\n      <td>210115282</td>\n      <td>2021-08-16</td>\n      <td>2021-08-16</td>\n      <td>1900</td>\n      <td>1</td>\n      <td>Central</td>\n      <td>138</td>\n      <td>1</td>\n      <td>510</td>\n      <td>VEHICLE - STOLEN</td>\n      <td>...</td>\n      <td>IC</td>\n      <td>Invest Cont</td>\n      <td>510.0</td>\n      <td>NaN</td>\n      <td>NaN</td>\n      <td>NaN</td>\n      <td>BOYD                         ST</td>\n      <td>WALL                         ST</td>\n      <td>0.0000</td>\n      <td>0.0000</td>\n    </tr>\n    <tr>\n      <th>277674</th>\n      <td>211711552</td>\n      <td>2021-08-16</td>\n      <td>2021-08-16</td>\n      <td>510</td>\n      <td>17</td>\n      <td>Devonshire</td>\n      <td>1794</td>\n      <td>1</td>\n      <td>510</td>\n      <td>VEHICLE - STOLEN</td>\n      <td>...</td>\n      <td>IC</td>\n      <td>Invest Cont</td>\n      <td>510.0</td>\n      <td>NaN</td>\n      <td>NaN</td>\n      <td>NaN</td>\n      <td>18500    PARTHENIA                    ST</td>\n      <td>NaN</td>\n      <td>34.2282</td>\n      <td>-118.5367</td>\n    </tr>\n    <tr>\n      <th>296769</th>\n      <td>211416655</td>\n      <td>2021-08-16</td>\n      <td>2021-08-16</td>\n      <td>130</td>\n      <td>14</td>\n      <td>Pacific</td>\n      <td>1414</td>\n      <td>1</td>\n      <td>510</td>\n      <td>VEHICLE - STOLEN</td>\n      <td>...</td>\n      <td>IC</td>\n      <td>Invest Cont</td>\n      <td>510.0</td>\n      <td>NaN</td>\n      <td>NaN</td>\n      <td>NaN</td>\n      <td>700    INDIANA                      AV</td>\n      <td>NaN</td>\n      <td>33.9975</td>\n      <td>-118.4670</td>\n    </tr>\n  </tbody>\n</table>\n<p>34216 rows × 28 columns</p>\n</div>"
     },
     "execution_count": 17,
     "metadata": {},
     "output_type": "execute_result"
    }
   ],
   "source": [
    "dataset_510['Date Rptd'] = pd.to_datetime(dataset_510['Date Rptd'])\n",
    "dataset_510['DATE OCC'] = pd.to_datetime(dataset_510['DATE OCC'])\n",
    "\n",
    "dataset_510.sort_values(by=\"DATE OCC\")\n"
   ],
   "metadata": {
    "collapsed": false,
    "ExecuteTime": {
     "start_time": "2023-11-25T13:34:18.561972Z",
     "end_time": "2023-11-25T13:34:18.664945Z"
    }
   }
  },
  {
   "cell_type": "code",
   "execution_count": 81,
   "outputs": [
    {
     "data": {
      "text/plain": "array([[194],\n       [344],\n       [308],\n       [317],\n       [342],\n       [312],\n       [310],\n       [306],\n       [306],\n       [322],\n       [336],\n       [307],\n       [361],\n       [412],\n       [415],\n       [412],\n       [442],\n       [394],\n       [450],\n       [413],\n       [436],\n       [400],\n       [459],\n       [468],\n       [495],\n       [514],\n       [522],\n       [431],\n       [438],\n       [438],\n       [442],\n       [414],\n       [421],\n       [382],\n       [429],\n       [384],\n       [374],\n       [388],\n       [372],\n       [387],\n       [415],\n       [382],\n       [438],\n       [411],\n       [410],\n       [409],\n       [423],\n       [397],\n       [414],\n       [403],\n       [391],\n       [385],\n       [416],\n       [400],\n       [407],\n       [442],\n       [433],\n       [484],\n       [458],\n       [466],\n       [411],\n       [435],\n       [408],\n       [391],\n       [393],\n       [408],\n       [386],\n       [398],\n       [441],\n       [460],\n       [405],\n       [405],\n       [405],\n       [433],\n       [405],\n       [422],\n       [415],\n       [412],\n       [433],\n       [410],\n       [368],\n       [390],\n       [429],\n       [367],\n       [382],\n       [ 23]])"
     },
     "execution_count": 81,
     "metadata": {},
     "output_type": "execute_result"
    }
   ],
   "source": [
    "df1 = dataset_510['DATE OCC'].dt.date.value_counts().sort_index().reset_index()\n",
    "df1.columns = ['DATE','Count']\n",
    "\n",
    "df1['DATE'] = pd.to_datetime(df1['DATE']) - pd.to_timedelta(7, unit='d')\n",
    "df1= df1.groupby([pd.Grouper(key='DATE', freq='W')])['Count'].sum()\n",
    "\n",
    "df1 = pd.DataFrame(data=df1.values, columns=['Count'])\n",
    "df1 = df1.values\n",
    "df1\n",
    "# df1 = dataset_510['DATE OCC'].dt.date.value_counts().sort_index().reset_index()\n",
    "# df1.columns = ['DATE','Count']\n",
    "# # df1.plot(x='DATE',y='Count')\n",
    "# dataset_510.groupby([pd.Grouper(key='DATE OCC', freq='W')]).count()"
   ],
   "metadata": {
    "collapsed": false,
    "ExecuteTime": {
     "start_time": "2023-11-25T16:23:14.204651Z",
     "end_time": "2023-11-25T16:23:14.224104Z"
    }
   }
  },
  {
   "cell_type": "code",
   "execution_count": 92,
   "outputs": [],
   "source": [
    "def create_dataset(dataset, look_back=1):\n",
    "    dataX, dataY = [], []\n",
    "    for i in range(len(dataset)-look_back):\n",
    "        a = dataset[i:(i+look_back),0]\n",
    "        dataX.append(a)\n",
    "        dataY.append(dataset[i + look_back,0])\n",
    "    return np.array(dataX), np.array(dataY)"
   ],
   "metadata": {
    "collapsed": false,
    "ExecuteTime": {
     "start_time": "2023-11-25T16:26:33.020571Z",
     "end_time": "2023-11-25T16:26:33.030854Z"
    }
   }
  },
  {
   "cell_type": "code",
   "execution_count": 93,
   "outputs": [
    {
     "name": "stdout",
     "output_type": "stream",
     "text": [
      "60\n",
      "26\n"
     ]
    }
   ],
   "source": [
    "# dataset_510['DATE OCC'] = pd.to_datetime(dataset_510['DATE OCC']) - pd.to_timedelta(7, unit='d')\n",
    "\n",
    "df1\n",
    "train_size = int(len(df1) * 0.7)\n",
    "print(train_size)\n",
    "test_size = len(df1) - train_size\n",
    "print(test_size)\n",
    "train, test = df1[0:train_size,:], df1[train_size:len(df1),:]\n",
    "\n",
    "# df1 = df1.drop(['DATE'], axis=1, index=None, columns=None, level=None, inplace=False, errors='raise')\\"
   ],
   "metadata": {
    "collapsed": false,
    "ExecuteTime": {
     "start_time": "2023-11-25T16:26:33.515082Z",
     "end_time": "2023-11-25T16:26:33.519757Z"
    }
   }
  },
  {
   "cell_type": "code",
   "execution_count": 94,
   "outputs": [],
   "source": [
    "# I make my dataset\n",
    "look_back = 1\n",
    "trainX, trainY = create_dataset(train, look_back)\n",
    "testX, testY = create_dataset(test, look_back)"
   ],
   "metadata": {
    "collapsed": false,
    "ExecuteTime": {
     "start_time": "2023-11-25T16:26:34.268775Z",
     "end_time": "2023-11-25T16:26:34.273814Z"
    }
   }
  },
  {
   "cell_type": "code",
   "execution_count": 95,
   "outputs": [
    {
     "data": {
      "text/plain": "((59, 1), (59,), (25, 1), (25,))"
     },
     "execution_count": 95,
     "metadata": {},
     "output_type": "execute_result"
    }
   ],
   "source": [
    "trainX.shape, trainY.shape, testX.shape, testY.shape"
   ],
   "metadata": {
    "collapsed": false,
    "ExecuteTime": {
     "start_time": "2023-11-25T16:26:35.193107Z",
     "end_time": "2023-11-25T16:26:35.208996Z"
    }
   }
  },
  {
   "cell_type": "code",
   "execution_count": 96,
   "outputs": [],
   "source": [
    "trainX = np.reshape(trainX, (trainX.shape[0],1, trainX.shape[1]))\n",
    "testX = np.reshape(testX, (testX.shape[0],1, testX.shape[1]))"
   ],
   "metadata": {
    "collapsed": false,
    "ExecuteTime": {
     "start_time": "2023-11-25T16:26:50.629845Z",
     "end_time": "2023-11-25T16:26:50.635243Z"
    }
   }
  },
  {
   "cell_type": "code",
   "execution_count": 97,
   "outputs": [
    {
     "name": "stderr",
     "output_type": "stream",
     "text": [
      "2023-11-25 16:27:47.319072: I tensorflow/core/platform/cpu_feature_guard.cc:193] This TensorFlow binary is optimized with oneAPI Deep Neural Network Library (oneDNN) to use the following CPU instructions in performance-critical operations:  SSE4.1 SSE4.2\n",
      "To enable them in other operations, rebuild TensorFlow with the appropriate compiler flags.\n",
      "2023-11-25 16:27:56.751509: E tensorflow/core/lib/monitoring/collection_registry.cc:81] Cannot register 2 metrics with the same name: /tensorflow/api/enable_tensor_equality\n"
     ]
    },
    {
     "ename": "AlreadyExistsError",
     "evalue": "Another metric with the same name already exists.",
     "output_type": "error",
     "traceback": [
      "\u001B[0;31m---------------------------------------------------------------------------\u001B[0m",
      "\u001B[0;31mAlreadyExistsError\u001B[0m                        Traceback (most recent call last)",
      "Cell \u001B[0;32mIn[97], line 1\u001B[0m\n\u001B[0;32m----> 1\u001B[0m \u001B[38;5;28;01mfrom\u001B[39;00m \u001B[38;5;21;01mkeras\u001B[39;00m\u001B[38;5;21;01m.\u001B[39;00m\u001B[38;5;21;01mmodels\u001B[39;00m \u001B[38;5;28;01mimport\u001B[39;00m Sequential\n\u001B[1;32m      2\u001B[0m \u001B[38;5;28;01mfrom\u001B[39;00m \u001B[38;5;21;01mkeras\u001B[39;00m\u001B[38;5;21;01m.\u001B[39;00m\u001B[38;5;21;01mlayers\u001B[39;00m \u001B[38;5;28;01mimport\u001B[39;00m Dense, LSTM\n\u001B[1;32m      6\u001B[0m model \u001B[38;5;241m=\u001B[39m Sequential()\n",
      "File \u001B[0;32m~/anaconda3/lib/python3.10/site-packages/keras/__init__.py:20\u001B[0m\n\u001B[1;32m      1\u001B[0m \u001B[38;5;66;03m# Copyright 2015 The TensorFlow Authors. All Rights Reserved.\u001B[39;00m\n\u001B[1;32m      2\u001B[0m \u001B[38;5;66;03m#\u001B[39;00m\n\u001B[1;32m      3\u001B[0m \u001B[38;5;66;03m# Licensed under the Apache License, Version 2.0 (the \"License\");\u001B[39;00m\n\u001B[0;32m   (...)\u001B[0m\n\u001B[1;32m     13\u001B[0m \u001B[38;5;66;03m# limitations under the License.\u001B[39;00m\n\u001B[1;32m     14\u001B[0m \u001B[38;5;66;03m# ==============================================================================\u001B[39;00m\n\u001B[1;32m     15\u001B[0m \u001B[38;5;124;03m\"\"\"Implementation of the Keras API, the high-level API of TensorFlow.\u001B[39;00m\n\u001B[1;32m     16\u001B[0m \n\u001B[1;32m     17\u001B[0m \u001B[38;5;124;03mDetailed documentation and user guides are available at\u001B[39;00m\n\u001B[1;32m     18\u001B[0m \u001B[38;5;124;03m[keras.io](https://keras.io).\u001B[39;00m\n\u001B[1;32m     19\u001B[0m \u001B[38;5;124;03m\"\"\"\u001B[39;00m\n\u001B[0;32m---> 20\u001B[0m \u001B[38;5;28;01mfrom\u001B[39;00m \u001B[38;5;21;01mkeras\u001B[39;00m \u001B[38;5;28;01mimport\u001B[39;00m distribute\n\u001B[1;32m     21\u001B[0m \u001B[38;5;28;01mfrom\u001B[39;00m \u001B[38;5;21;01mkeras\u001B[39;00m \u001B[38;5;28;01mimport\u001B[39;00m models\n\u001B[1;32m     22\u001B[0m \u001B[38;5;28;01mfrom\u001B[39;00m \u001B[38;5;21;01mkeras\u001B[39;00m\u001B[38;5;21;01m.\u001B[39;00m\u001B[38;5;21;01mengine\u001B[39;00m\u001B[38;5;21;01m.\u001B[39;00m\u001B[38;5;21;01minput_layer\u001B[39;00m \u001B[38;5;28;01mimport\u001B[39;00m Input\n",
      "File \u001B[0;32m~/anaconda3/lib/python3.10/site-packages/keras/distribute/__init__.py:18\u001B[0m\n\u001B[1;32m      1\u001B[0m \u001B[38;5;66;03m# Copyright 2019 The TensorFlow Authors. All Rights Reserved.\u001B[39;00m\n\u001B[1;32m      2\u001B[0m \u001B[38;5;66;03m#\u001B[39;00m\n\u001B[1;32m      3\u001B[0m \u001B[38;5;66;03m# Licensed under the Apache License, Version 2.0 (the \"License\");\u001B[39;00m\n\u001B[0;32m   (...)\u001B[0m\n\u001B[1;32m     13\u001B[0m \u001B[38;5;66;03m# limitations under the License.\u001B[39;00m\n\u001B[1;32m     14\u001B[0m \u001B[38;5;66;03m# ==============================================================================\u001B[39;00m\n\u001B[1;32m     15\u001B[0m \u001B[38;5;124;03m\"\"\"Keras' Distribution Strategy library.\"\"\"\u001B[39;00m\n\u001B[0;32m---> 18\u001B[0m \u001B[38;5;28;01mfrom\u001B[39;00m \u001B[38;5;21;01mkeras\u001B[39;00m\u001B[38;5;21;01m.\u001B[39;00m\u001B[38;5;21;01mdistribute\u001B[39;00m \u001B[38;5;28;01mimport\u001B[39;00m sidecar_evaluator\n",
      "File \u001B[0;32m~/anaconda3/lib/python3.10/site-packages/keras/distribute/sidecar_evaluator.py:22\u001B[0m\n\u001B[1;32m     20\u001B[0m \u001B[38;5;28;01mfrom\u001B[39;00m \u001B[38;5;21;01mtensorflow\u001B[39;00m\u001B[38;5;21;01m.\u001B[39;00m\u001B[38;5;21;01mpython\u001B[39;00m\u001B[38;5;21;01m.\u001B[39;00m\u001B[38;5;21;01mplatform\u001B[39;00m \u001B[38;5;28;01mimport\u001B[39;00m tf_logging \u001B[38;5;28;01mas\u001B[39;00m logging\n\u001B[1;32m     21\u001B[0m \u001B[38;5;28;01mfrom\u001B[39;00m \u001B[38;5;21;01mtensorflow\u001B[39;00m\u001B[38;5;21;01m.\u001B[39;00m\u001B[38;5;21;01mpython\u001B[39;00m\u001B[38;5;21;01m.\u001B[39;00m\u001B[38;5;21;01mutil\u001B[39;00m \u001B[38;5;28;01mimport\u001B[39;00m deprecation\n\u001B[0;32m---> 22\u001B[0m \u001B[38;5;28;01mfrom\u001B[39;00m \u001B[38;5;21;01mkeras\u001B[39;00m\u001B[38;5;21;01m.\u001B[39;00m\u001B[38;5;21;01moptimizers\u001B[39;00m\u001B[38;5;21;01m.\u001B[39;00m\u001B[38;5;21;01moptimizer_experimental\u001B[39;00m \u001B[38;5;28;01mimport\u001B[39;00m (\n\u001B[1;32m     23\u001B[0m     optimizer \u001B[38;5;28;01mas\u001B[39;00m optimizer_experimental,\n\u001B[1;32m     24\u001B[0m )\n\u001B[1;32m     25\u001B[0m \u001B[38;5;28;01mfrom\u001B[39;00m \u001B[38;5;21;01mtensorflow\u001B[39;00m\u001B[38;5;21;01m.\u001B[39;00m\u001B[38;5;21;01mpython\u001B[39;00m\u001B[38;5;21;01m.\u001B[39;00m\u001B[38;5;21;01mutil\u001B[39;00m\u001B[38;5;21;01m.\u001B[39;00m\u001B[38;5;21;01mtf_export\u001B[39;00m \u001B[38;5;28;01mimport\u001B[39;00m keras_export\n\u001B[1;32m     27\u001B[0m _PRINT_EVAL_STEP_EVERY_SEC \u001B[38;5;241m=\u001B[39m \u001B[38;5;241m60.0\u001B[39m\n",
      "File \u001B[0;32m~/anaconda3/lib/python3.10/site-packages/keras/optimizers/__init__.py:25\u001B[0m\n\u001B[1;32m     22\u001B[0m \u001B[38;5;28;01mimport\u001B[39;00m \u001B[38;5;21;01mtensorflow\u001B[39;00m\u001B[38;5;21;01m.\u001B[39;00m\u001B[38;5;21;01mcompat\u001B[39;00m\u001B[38;5;21;01m.\u001B[39;00m\u001B[38;5;21;01mv2\u001B[39;00m \u001B[38;5;28;01mas\u001B[39;00m \u001B[38;5;21;01mtf\u001B[39;00m\n\u001B[1;32m     24\u001B[0m \u001B[38;5;66;03m# Imports needed for deserialization.\u001B[39;00m\n\u001B[0;32m---> 25\u001B[0m \u001B[38;5;28;01mfrom\u001B[39;00m \u001B[38;5;21;01mkeras\u001B[39;00m \u001B[38;5;28;01mimport\u001B[39;00m backend\n\u001B[1;32m     26\u001B[0m \u001B[38;5;28;01mfrom\u001B[39;00m \u001B[38;5;21;01mkeras\u001B[39;00m\u001B[38;5;21;01m.\u001B[39;00m\u001B[38;5;21;01moptimizers\u001B[39;00m\u001B[38;5;21;01m.\u001B[39;00m\u001B[38;5;21;01mlegacy\u001B[39;00m \u001B[38;5;28;01mimport\u001B[39;00m adadelta \u001B[38;5;28;01mas\u001B[39;00m adadelta_legacy\n\u001B[1;32m     27\u001B[0m \u001B[38;5;28;01mfrom\u001B[39;00m \u001B[38;5;21;01mkeras\u001B[39;00m\u001B[38;5;21;01m.\u001B[39;00m\u001B[38;5;21;01moptimizers\u001B[39;00m\u001B[38;5;21;01m.\u001B[39;00m\u001B[38;5;21;01mlegacy\u001B[39;00m \u001B[38;5;28;01mimport\u001B[39;00m adagrad \u001B[38;5;28;01mas\u001B[39;00m adagrad_legacy\n",
      "File \u001B[0;32m~/anaconda3/lib/python3.10/site-packages/keras/backend/__init__.py:3\u001B[0m\n\u001B[1;32m      1\u001B[0m \u001B[38;5;124;03m\"\"\"AUTOGENERATED. DO NOT EDIT.\"\"\"\u001B[39;00m\n\u001B[0;32m----> 3\u001B[0m \u001B[38;5;28;01mfrom\u001B[39;00m \u001B[38;5;21;01mkeras\u001B[39;00m\u001B[38;5;21;01m.\u001B[39;00m\u001B[38;5;21;01mbackend\u001B[39;00m \u001B[38;5;28;01mimport\u001B[39;00m experimental\n\u001B[1;32m      4\u001B[0m \u001B[38;5;28;01mfrom\u001B[39;00m \u001B[38;5;21;01mkeras\u001B[39;00m\u001B[38;5;21;01m.\u001B[39;00m\u001B[38;5;21;01msrc\u001B[39;00m\u001B[38;5;21;01m.\u001B[39;00m\u001B[38;5;21;01mbackend\u001B[39;00m \u001B[38;5;28;01mimport\u001B[39;00m \u001B[38;5;28mabs\u001B[39m\n\u001B[1;32m      5\u001B[0m \u001B[38;5;28;01mfrom\u001B[39;00m \u001B[38;5;21;01mkeras\u001B[39;00m\u001B[38;5;21;01m.\u001B[39;00m\u001B[38;5;21;01msrc\u001B[39;00m\u001B[38;5;21;01m.\u001B[39;00m\u001B[38;5;21;01mbackend\u001B[39;00m \u001B[38;5;28;01mimport\u001B[39;00m \u001B[38;5;28mall\u001B[39m\n",
      "File \u001B[0;32m~/anaconda3/lib/python3.10/site-packages/keras/backend/experimental/__init__.py:3\u001B[0m\n\u001B[1;32m      1\u001B[0m \u001B[38;5;124;03m\"\"\"AUTOGENERATED. DO NOT EDIT.\"\"\"\u001B[39;00m\n\u001B[0;32m----> 3\u001B[0m \u001B[38;5;28;01mfrom\u001B[39;00m \u001B[38;5;21;01mkeras\u001B[39;00m\u001B[38;5;21;01m.\u001B[39;00m\u001B[38;5;21;01msrc\u001B[39;00m\u001B[38;5;21;01m.\u001B[39;00m\u001B[38;5;21;01mbackend\u001B[39;00m \u001B[38;5;28;01mimport\u001B[39;00m disable_tf_random_generator\n\u001B[1;32m      4\u001B[0m \u001B[38;5;28;01mfrom\u001B[39;00m \u001B[38;5;21;01mkeras\u001B[39;00m\u001B[38;5;21;01m.\u001B[39;00m\u001B[38;5;21;01msrc\u001B[39;00m\u001B[38;5;21;01m.\u001B[39;00m\u001B[38;5;21;01mbackend\u001B[39;00m \u001B[38;5;28;01mimport\u001B[39;00m enable_tf_random_generator\n\u001B[1;32m      5\u001B[0m \u001B[38;5;28;01mfrom\u001B[39;00m \u001B[38;5;21;01mkeras\u001B[39;00m\u001B[38;5;21;01m.\u001B[39;00m\u001B[38;5;21;01msrc\u001B[39;00m\u001B[38;5;21;01m.\u001B[39;00m\u001B[38;5;21;01mbackend\u001B[39;00m \u001B[38;5;28;01mimport\u001B[39;00m is_tf_random_generator_enabled\n",
      "File \u001B[0;32m~/anaconda3/lib/python3.10/site-packages/keras/src/__init__.py:21\u001B[0m\n\u001B[1;32m     15\u001B[0m \u001B[38;5;124;03m\"\"\"Implementation of the Keras API, the high-level API of TensorFlow.\u001B[39;00m\n\u001B[1;32m     16\u001B[0m \n\u001B[1;32m     17\u001B[0m \u001B[38;5;124;03mDetailed documentation and user guides are available at\u001B[39;00m\n\u001B[1;32m     18\u001B[0m \u001B[38;5;124;03m[keras.io](https://keras.io).\u001B[39;00m\n\u001B[1;32m     19\u001B[0m \u001B[38;5;124;03m\"\"\"\u001B[39;00m\n\u001B[1;32m     20\u001B[0m \u001B[38;5;28;01mfrom\u001B[39;00m \u001B[38;5;21;01mkeras\u001B[39;00m\u001B[38;5;21;01m.\u001B[39;00m\u001B[38;5;21;01msrc\u001B[39;00m \u001B[38;5;28;01mimport\u001B[39;00m distribute\n\u001B[0;32m---> 21\u001B[0m \u001B[38;5;28;01mfrom\u001B[39;00m \u001B[38;5;21;01mkeras\u001B[39;00m\u001B[38;5;21;01m.\u001B[39;00m\u001B[38;5;21;01msrc\u001B[39;00m \u001B[38;5;28;01mimport\u001B[39;00m models\n\u001B[1;32m     22\u001B[0m \u001B[38;5;28;01mfrom\u001B[39;00m \u001B[38;5;21;01mkeras\u001B[39;00m\u001B[38;5;21;01m.\u001B[39;00m\u001B[38;5;21;01msrc\u001B[39;00m\u001B[38;5;21;01m.\u001B[39;00m\u001B[38;5;21;01mengine\u001B[39;00m\u001B[38;5;21;01m.\u001B[39;00m\u001B[38;5;21;01minput_layer\u001B[39;00m \u001B[38;5;28;01mimport\u001B[39;00m Input\n\u001B[1;32m     23\u001B[0m \u001B[38;5;28;01mfrom\u001B[39;00m \u001B[38;5;21;01mkeras\u001B[39;00m\u001B[38;5;21;01m.\u001B[39;00m\u001B[38;5;21;01msrc\u001B[39;00m\u001B[38;5;21;01m.\u001B[39;00m\u001B[38;5;21;01mengine\u001B[39;00m\u001B[38;5;21;01m.\u001B[39;00m\u001B[38;5;21;01msequential\u001B[39;00m \u001B[38;5;28;01mimport\u001B[39;00m Sequential\n",
      "File \u001B[0;32m~/anaconda3/lib/python3.10/site-packages/keras/src/models/__init__.py:18\u001B[0m\n\u001B[1;32m      1\u001B[0m \u001B[38;5;66;03m# Copyright 2022 The TensorFlow Authors. All Rights Reserved.\u001B[39;00m\n\u001B[1;32m      2\u001B[0m \u001B[38;5;66;03m#\u001B[39;00m\n\u001B[1;32m      3\u001B[0m \u001B[38;5;66;03m# Licensed under the Apache License, Version 2.0 (the \"License\");\u001B[39;00m\n\u001B[0;32m   (...)\u001B[0m\n\u001B[1;32m     13\u001B[0m \u001B[38;5;66;03m# limitations under the License.\u001B[39;00m\n\u001B[1;32m     14\u001B[0m \u001B[38;5;66;03m# ==============================================================================\u001B[39;00m\n\u001B[1;32m     15\u001B[0m \u001B[38;5;124;03m\"\"\"Keras models API.\"\"\"\u001B[39;00m\n\u001B[0;32m---> 18\u001B[0m \u001B[38;5;28;01mfrom\u001B[39;00m \u001B[38;5;21;01mkeras\u001B[39;00m\u001B[38;5;21;01m.\u001B[39;00m\u001B[38;5;21;01msrc\u001B[39;00m\u001B[38;5;21;01m.\u001B[39;00m\u001B[38;5;21;01mengine\u001B[39;00m\u001B[38;5;21;01m.\u001B[39;00m\u001B[38;5;21;01mfunctional\u001B[39;00m \u001B[38;5;28;01mimport\u001B[39;00m Functional\n\u001B[1;32m     19\u001B[0m \u001B[38;5;28;01mfrom\u001B[39;00m \u001B[38;5;21;01mkeras\u001B[39;00m\u001B[38;5;21;01m.\u001B[39;00m\u001B[38;5;21;01msrc\u001B[39;00m\u001B[38;5;21;01m.\u001B[39;00m\u001B[38;5;21;01mengine\u001B[39;00m\u001B[38;5;21;01m.\u001B[39;00m\u001B[38;5;21;01msequential\u001B[39;00m \u001B[38;5;28;01mimport\u001B[39;00m Sequential\n\u001B[1;32m     20\u001B[0m \u001B[38;5;28;01mfrom\u001B[39;00m \u001B[38;5;21;01mkeras\u001B[39;00m\u001B[38;5;21;01m.\u001B[39;00m\u001B[38;5;21;01msrc\u001B[39;00m\u001B[38;5;21;01m.\u001B[39;00m\u001B[38;5;21;01mengine\u001B[39;00m\u001B[38;5;21;01m.\u001B[39;00m\u001B[38;5;21;01mtraining\u001B[39;00m \u001B[38;5;28;01mimport\u001B[39;00m Model\n",
      "File \u001B[0;32m~/anaconda3/lib/python3.10/site-packages/keras/src/engine/functional.py:25\u001B[0m\n\u001B[1;32m     21\u001B[0m \u001B[38;5;28;01mimport\u001B[39;00m \u001B[38;5;21;01mwarnings\u001B[39;00m\n\u001B[1;32m     23\u001B[0m \u001B[38;5;28;01mimport\u001B[39;00m \u001B[38;5;21;01mtensorflow\u001B[39;00m\u001B[38;5;21;01m.\u001B[39;00m\u001B[38;5;21;01mcompat\u001B[39;00m\u001B[38;5;21;01m.\u001B[39;00m\u001B[38;5;21;01mv2\u001B[39;00m \u001B[38;5;28;01mas\u001B[39;00m \u001B[38;5;21;01mtf\u001B[39;00m\n\u001B[0;32m---> 25\u001B[0m \u001B[38;5;28;01mfrom\u001B[39;00m \u001B[38;5;21;01mkeras\u001B[39;00m\u001B[38;5;21;01m.\u001B[39;00m\u001B[38;5;21;01msrc\u001B[39;00m \u001B[38;5;28;01mimport\u001B[39;00m backend\n\u001B[1;32m     26\u001B[0m \u001B[38;5;28;01mfrom\u001B[39;00m \u001B[38;5;21;01mkeras\u001B[39;00m\u001B[38;5;21;01m.\u001B[39;00m\u001B[38;5;21;01msrc\u001B[39;00m\u001B[38;5;21;01m.\u001B[39;00m\u001B[38;5;21;01mdtensor\u001B[39;00m \u001B[38;5;28;01mimport\u001B[39;00m layout_map \u001B[38;5;28;01mas\u001B[39;00m layout_map_lib\n\u001B[1;32m     27\u001B[0m \u001B[38;5;28;01mfrom\u001B[39;00m \u001B[38;5;21;01mkeras\u001B[39;00m\u001B[38;5;21;01m.\u001B[39;00m\u001B[38;5;21;01msrc\u001B[39;00m\u001B[38;5;21;01m.\u001B[39;00m\u001B[38;5;21;01mengine\u001B[39;00m \u001B[38;5;28;01mimport\u001B[39;00m base_layer\n",
      "File \u001B[0;32m~/anaconda3/lib/python3.10/site-packages/keras/src/backend.py:35\u001B[0m\n\u001B[1;32m     33\u001B[0m \u001B[38;5;28;01mfrom\u001B[39;00m \u001B[38;5;21;01mkeras\u001B[39;00m\u001B[38;5;21;01m.\u001B[39;00m\u001B[38;5;21;01msrc\u001B[39;00m\u001B[38;5;21;01m.\u001B[39;00m\u001B[38;5;21;01mdistribute\u001B[39;00m \u001B[38;5;28;01mimport\u001B[39;00m distribute_coordinator_utils \u001B[38;5;28;01mas\u001B[39;00m dc\n\u001B[1;32m     34\u001B[0m \u001B[38;5;28;01mfrom\u001B[39;00m \u001B[38;5;21;01mkeras\u001B[39;00m\u001B[38;5;21;01m.\u001B[39;00m\u001B[38;5;21;01msrc\u001B[39;00m\u001B[38;5;21;01m.\u001B[39;00m\u001B[38;5;21;01mdtensor\u001B[39;00m \u001B[38;5;28;01mimport\u001B[39;00m dtensor_api \u001B[38;5;28;01mas\u001B[39;00m dtensor\n\u001B[0;32m---> 35\u001B[0m \u001B[38;5;28;01mfrom\u001B[39;00m \u001B[38;5;21;01mkeras\u001B[39;00m\u001B[38;5;21;01m.\u001B[39;00m\u001B[38;5;21;01msrc\u001B[39;00m\u001B[38;5;21;01m.\u001B[39;00m\u001B[38;5;21;01mengine\u001B[39;00m \u001B[38;5;28;01mimport\u001B[39;00m keras_tensor\n\u001B[1;32m     36\u001B[0m \u001B[38;5;28;01mfrom\u001B[39;00m \u001B[38;5;21;01mkeras\u001B[39;00m\u001B[38;5;21;01m.\u001B[39;00m\u001B[38;5;21;01msrc\u001B[39;00m\u001B[38;5;21;01m.\u001B[39;00m\u001B[38;5;21;01mutils\u001B[39;00m \u001B[38;5;28;01mimport\u001B[39;00m control_flow_util\n\u001B[1;32m     37\u001B[0m \u001B[38;5;28;01mfrom\u001B[39;00m \u001B[38;5;21;01mkeras\u001B[39;00m\u001B[38;5;21;01m.\u001B[39;00m\u001B[38;5;21;01msrc\u001B[39;00m\u001B[38;5;21;01m.\u001B[39;00m\u001B[38;5;21;01mutils\u001B[39;00m \u001B[38;5;28;01mimport\u001B[39;00m object_identity\n",
      "File \u001B[0;32m~/anaconda3/lib/python3.10/site-packages/keras/src/engine/keras_tensor.py:19\u001B[0m\n\u001B[1;32m     15\u001B[0m \u001B[38;5;124;03m\"\"\"Keras Input Tensor used to track functional API Topology.\"\"\"\u001B[39;00m\n\u001B[1;32m     17\u001B[0m \u001B[38;5;28;01mimport\u001B[39;00m \u001B[38;5;21;01mtensorflow\u001B[39;00m\u001B[38;5;21;01m.\u001B[39;00m\u001B[38;5;21;01mcompat\u001B[39;00m\u001B[38;5;21;01m.\u001B[39;00m\u001B[38;5;21;01mv2\u001B[39;00m \u001B[38;5;28;01mas\u001B[39;00m \u001B[38;5;21;01mtf\u001B[39;00m\n\u001B[0;32m---> 19\u001B[0m \u001B[38;5;28;01mfrom\u001B[39;00m \u001B[38;5;21;01mkeras\u001B[39;00m\u001B[38;5;21;01m.\u001B[39;00m\u001B[38;5;21;01msrc\u001B[39;00m\u001B[38;5;21;01m.\u001B[39;00m\u001B[38;5;21;01mutils\u001B[39;00m \u001B[38;5;28;01mimport\u001B[39;00m object_identity\n\u001B[1;32m     21\u001B[0m \u001B[38;5;66;03m# isort: off\u001B[39;00m\n\u001B[1;32m     22\u001B[0m \u001B[38;5;28;01mfrom\u001B[39;00m \u001B[38;5;21;01mtensorflow\u001B[39;00m\u001B[38;5;21;01m.\u001B[39;00m\u001B[38;5;21;01mpython\u001B[39;00m\u001B[38;5;21;01m.\u001B[39;00m\u001B[38;5;21;01mdata\u001B[39;00m\u001B[38;5;21;01m.\u001B[39;00m\u001B[38;5;21;01mutil\u001B[39;00m \u001B[38;5;28;01mimport\u001B[39;00m structure\n",
      "File \u001B[0;32m~/anaconda3/lib/python3.10/site-packages/keras/src/utils/__init__.py:53\u001B[0m\n\u001B[1;32m     50\u001B[0m \u001B[38;5;28;01mfrom\u001B[39;00m \u001B[38;5;21;01mkeras\u001B[39;00m\u001B[38;5;21;01m.\u001B[39;00m\u001B[38;5;21;01msrc\u001B[39;00m\u001B[38;5;21;01m.\u001B[39;00m\u001B[38;5;21;01mutils\u001B[39;00m\u001B[38;5;21;01m.\u001B[39;00m\u001B[38;5;21;01mdata_utils\u001B[39;00m \u001B[38;5;28;01mimport\u001B[39;00m get_file\n\u001B[1;32m     52\u001B[0m \u001B[38;5;66;03m# Preprocessing utils\u001B[39;00m\n\u001B[0;32m---> 53\u001B[0m \u001B[38;5;28;01mfrom\u001B[39;00m \u001B[38;5;21;01mkeras\u001B[39;00m\u001B[38;5;21;01m.\u001B[39;00m\u001B[38;5;21;01msrc\u001B[39;00m\u001B[38;5;21;01m.\u001B[39;00m\u001B[38;5;21;01mutils\u001B[39;00m\u001B[38;5;21;01m.\u001B[39;00m\u001B[38;5;21;01mfeature_space\u001B[39;00m \u001B[38;5;28;01mimport\u001B[39;00m FeatureSpace\n\u001B[1;32m     55\u001B[0m \u001B[38;5;66;03m# Internal\u001B[39;00m\n\u001B[1;32m     56\u001B[0m \u001B[38;5;28;01mfrom\u001B[39;00m \u001B[38;5;21;01mkeras\u001B[39;00m\u001B[38;5;21;01m.\u001B[39;00m\u001B[38;5;21;01msrc\u001B[39;00m\u001B[38;5;21;01m.\u001B[39;00m\u001B[38;5;21;01mutils\u001B[39;00m\u001B[38;5;21;01m.\u001B[39;00m\u001B[38;5;21;01mlayer_utils\u001B[39;00m \u001B[38;5;28;01mimport\u001B[39;00m get_source_inputs\n",
      "File \u001B[0;32m~/anaconda3/lib/python3.10/site-packages/keras/src/utils/feature_space.py:20\u001B[0m\n\u001B[1;32m     17\u001B[0m \u001B[38;5;28;01mimport\u001B[39;00m \u001B[38;5;21;01mtensorflow\u001B[39;00m\u001B[38;5;21;01m.\u001B[39;00m\u001B[38;5;21;01mcompat\u001B[39;00m\u001B[38;5;21;01m.\u001B[39;00m\u001B[38;5;21;01mv2\u001B[39;00m \u001B[38;5;28;01mas\u001B[39;00m \u001B[38;5;21;01mtf\u001B[39;00m\n\u001B[1;32m     19\u001B[0m \u001B[38;5;28;01mfrom\u001B[39;00m \u001B[38;5;21;01mkeras\u001B[39;00m\u001B[38;5;21;01m.\u001B[39;00m\u001B[38;5;21;01msrc\u001B[39;00m \u001B[38;5;28;01mimport\u001B[39;00m backend\n\u001B[0;32m---> 20\u001B[0m \u001B[38;5;28;01mfrom\u001B[39;00m \u001B[38;5;21;01mkeras\u001B[39;00m\u001B[38;5;21;01m.\u001B[39;00m\u001B[38;5;21;01msrc\u001B[39;00m\u001B[38;5;21;01m.\u001B[39;00m\u001B[38;5;21;01mengine\u001B[39;00m \u001B[38;5;28;01mimport\u001B[39;00m base_layer\n\u001B[1;32m     21\u001B[0m \u001B[38;5;28;01mfrom\u001B[39;00m \u001B[38;5;21;01mkeras\u001B[39;00m\u001B[38;5;21;01m.\u001B[39;00m\u001B[38;5;21;01msrc\u001B[39;00m\u001B[38;5;21;01m.\u001B[39;00m\u001B[38;5;21;01msaving\u001B[39;00m \u001B[38;5;28;01mimport\u001B[39;00m saving_lib\n\u001B[1;32m     22\u001B[0m \u001B[38;5;28;01mfrom\u001B[39;00m \u001B[38;5;21;01mkeras\u001B[39;00m\u001B[38;5;21;01m.\u001B[39;00m\u001B[38;5;21;01msrc\u001B[39;00m\u001B[38;5;21;01m.\u001B[39;00m\u001B[38;5;21;01msaving\u001B[39;00m \u001B[38;5;28;01mimport\u001B[39;00m serialization_lib\n",
      "File \u001B[0;32m~/anaconda3/lib/python3.10/site-packages/keras/src/engine/base_layer.py:35\u001B[0m\n\u001B[1;32m     33\u001B[0m \u001B[38;5;28;01mfrom\u001B[39;00m \u001B[38;5;21;01mkeras\u001B[39;00m\u001B[38;5;21;01m.\u001B[39;00m\u001B[38;5;21;01msrc\u001B[39;00m \u001B[38;5;28;01mimport\u001B[39;00m initializers\n\u001B[1;32m     34\u001B[0m \u001B[38;5;28;01mfrom\u001B[39;00m \u001B[38;5;21;01mkeras\u001B[39;00m\u001B[38;5;21;01m.\u001B[39;00m\u001B[38;5;21;01msrc\u001B[39;00m \u001B[38;5;28;01mimport\u001B[39;00m regularizers\n\u001B[0;32m---> 35\u001B[0m \u001B[38;5;28;01mfrom\u001B[39;00m \u001B[38;5;21;01mkeras\u001B[39;00m\u001B[38;5;21;01m.\u001B[39;00m\u001B[38;5;21;01msrc\u001B[39;00m\u001B[38;5;21;01m.\u001B[39;00m\u001B[38;5;21;01mdtensor\u001B[39;00m \u001B[38;5;28;01mimport\u001B[39;00m lazy_variable\n\u001B[1;32m     36\u001B[0m \u001B[38;5;28;01mfrom\u001B[39;00m \u001B[38;5;21;01mkeras\u001B[39;00m\u001B[38;5;21;01m.\u001B[39;00m\u001B[38;5;21;01msrc\u001B[39;00m\u001B[38;5;21;01m.\u001B[39;00m\u001B[38;5;21;01mengine\u001B[39;00m \u001B[38;5;28;01mimport\u001B[39;00m base_layer_utils\n\u001B[1;32m     37\u001B[0m \u001B[38;5;28;01mfrom\u001B[39;00m \u001B[38;5;21;01mkeras\u001B[39;00m\u001B[38;5;21;01m.\u001B[39;00m\u001B[38;5;21;01msrc\u001B[39;00m\u001B[38;5;21;01m.\u001B[39;00m\u001B[38;5;21;01mengine\u001B[39;00m \u001B[38;5;28;01mimport\u001B[39;00m input_spec\n",
      "File \u001B[0;32m~/anaconda3/lib/python3.10/site-packages/keras/src/dtensor/lazy_variable.py:23\u001B[0m\n\u001B[1;32m     21\u001B[0m \u001B[38;5;28;01mfrom\u001B[39;00m \u001B[38;5;21;01mtensorflow\u001B[39;00m\u001B[38;5;21;01m.\u001B[39;00m\u001B[38;5;21;01mpython\u001B[39;00m\u001B[38;5;21;01m.\u001B[39;00m\u001B[38;5;21;01meager\u001B[39;00m \u001B[38;5;28;01mimport\u001B[39;00m context\n\u001B[1;32m     22\u001B[0m \u001B[38;5;28;01mfrom\u001B[39;00m \u001B[38;5;21;01mtensorflow\u001B[39;00m\u001B[38;5;21;01m.\u001B[39;00m\u001B[38;5;21;01mpython\u001B[39;00m\u001B[38;5;21;01m.\u001B[39;00m\u001B[38;5;21;01mframework\u001B[39;00m \u001B[38;5;28;01mimport\u001B[39;00m ops\n\u001B[0;32m---> 23\u001B[0m \u001B[38;5;28;01mfrom\u001B[39;00m \u001B[38;5;21;01mtensorflow\u001B[39;00m\u001B[38;5;21;01m.\u001B[39;00m\u001B[38;5;21;01mpython\u001B[39;00m\u001B[38;5;21;01m.\u001B[39;00m\u001B[38;5;21;01mframework\u001B[39;00m \u001B[38;5;28;01mimport\u001B[39;00m tensor\n\u001B[1;32m     24\u001B[0m \u001B[38;5;28;01mfrom\u001B[39;00m \u001B[38;5;21;01mtensorflow\u001B[39;00m\u001B[38;5;21;01m.\u001B[39;00m\u001B[38;5;21;01mpython\u001B[39;00m\u001B[38;5;21;01m.\u001B[39;00m\u001B[38;5;21;01mops\u001B[39;00m \u001B[38;5;28;01mimport\u001B[39;00m gen_resource_variable_ops\n\u001B[1;32m     25\u001B[0m \u001B[38;5;28;01mfrom\u001B[39;00m \u001B[38;5;21;01mtensorflow\u001B[39;00m\u001B[38;5;21;01m.\u001B[39;00m\u001B[38;5;21;01mpython\u001B[39;00m\u001B[38;5;21;01m.\u001B[39;00m\u001B[38;5;21;01mops\u001B[39;00m \u001B[38;5;28;01mimport\u001B[39;00m resource_variable_ops\n",
      "File \u001B[0;32m~/anaconda3/lib/python3.10/site-packages/tensorflow/python/framework/tensor.py:50\u001B[0m\n\u001B[1;32m     46\u001B[0m \u001B[38;5;28;01mfrom\u001B[39;00m \u001B[38;5;21;01mtensorflow\u001B[39;00m\u001B[38;5;21;01m.\u001B[39;00m\u001B[38;5;21;01mpython\u001B[39;00m\u001B[38;5;21;01m.\u001B[39;00m\u001B[38;5;21;01mutil\u001B[39;00m \u001B[38;5;28;01mimport\u001B[39;00m object_identity\n\u001B[1;32m     47\u001B[0m \u001B[38;5;28;01mfrom\u001B[39;00m \u001B[38;5;21;01mtensorflow\u001B[39;00m\u001B[38;5;21;01m.\u001B[39;00m\u001B[38;5;21;01mpython\u001B[39;00m\u001B[38;5;21;01m.\u001B[39;00m\u001B[38;5;21;01mutil\u001B[39;00m\u001B[38;5;21;01m.\u001B[39;00m\u001B[38;5;21;01mtf_export\u001B[39;00m \u001B[38;5;28;01mimport\u001B[39;00m tf_export\n\u001B[0;32m---> 50\u001B[0m _tensor_equality_api_usage_gauge \u001B[38;5;241m=\u001B[39m \u001B[43mmonitoring\u001B[49m\u001B[38;5;241;43m.\u001B[39;49m\u001B[43mBoolGauge\u001B[49m\u001B[43m(\u001B[49m\n\u001B[1;32m     51\u001B[0m \u001B[43m    \u001B[49m\u001B[38;5;124;43m\"\u001B[39;49m\u001B[38;5;124;43m/tensorflow/api/enable_tensor_equality\u001B[39;49m\u001B[38;5;124;43m\"\u001B[39;49m\u001B[43m,\u001B[49m\n\u001B[1;32m     52\u001B[0m \u001B[43m    \u001B[49m\u001B[38;5;124;43m\"\u001B[39;49m\u001B[38;5;124;43mWhether ops.enable_tensor_equality() is called.\u001B[39;49m\u001B[38;5;124;43m\"\u001B[39;49m\u001B[43m)\u001B[49m\n\u001B[1;32m     55\u001B[0m \u001B[38;5;28;01mdef\u001B[39;00m \u001B[38;5;21m_override_helper\u001B[39m(clazz_object, operator, func):\n\u001B[1;32m     56\u001B[0m   \u001B[38;5;124;03m\"\"\"Overrides (string) operator on Tensors to call func.\u001B[39;00m\n\u001B[1;32m     57\u001B[0m \n\u001B[1;32m     58\u001B[0m \u001B[38;5;124;03m  Args:\u001B[39;00m\n\u001B[0;32m   (...)\u001B[0m\n\u001B[1;32m     64\u001B[0m \u001B[38;5;124;03m    ValueError: If operator is not allowed to be overwritten.\u001B[39;00m\n\u001B[1;32m     65\u001B[0m \u001B[38;5;124;03m  \"\"\"\u001B[39;00m\n",
      "File \u001B[0;32m~/anaconda3/lib/python3.10/site-packages/tensorflow/python/eager/monitoring.py:356\u001B[0m, in \u001B[0;36mBoolGauge.__init__\u001B[0;34m(self, name, description, *labels)\u001B[0m\n\u001B[1;32m    348\u001B[0m \u001B[38;5;28;01mdef\u001B[39;00m \u001B[38;5;21m__init__\u001B[39m(\u001B[38;5;28mself\u001B[39m, name, description, \u001B[38;5;241m*\u001B[39mlabels):\n\u001B[1;32m    349\u001B[0m   \u001B[38;5;124;03m\"\"\"Creates a new BoolGauge.\u001B[39;00m\n\u001B[1;32m    350\u001B[0m \n\u001B[1;32m    351\u001B[0m \u001B[38;5;124;03m  Args:\u001B[39;00m\n\u001B[0;32m   (...)\u001B[0m\n\u001B[1;32m    354\u001B[0m \u001B[38;5;124;03m    *labels: The label list of the new metric.\u001B[39;00m\n\u001B[1;32m    355\u001B[0m \u001B[38;5;124;03m  \"\"\"\u001B[39;00m\n\u001B[0;32m--> 356\u001B[0m   \u001B[38;5;28;43msuper\u001B[39;49m\u001B[43m(\u001B[49m\u001B[43mBoolGauge\u001B[49m\u001B[43m,\u001B[49m\u001B[43m \u001B[49m\u001B[38;5;28;43mself\u001B[39;49m\u001B[43m)\u001B[49m\u001B[38;5;241;43m.\u001B[39;49m\u001B[38;5;21;43m__init__\u001B[39;49m\u001B[43m(\u001B[49m\u001B[38;5;124;43m'\u001B[39;49m\u001B[38;5;124;43mBoolGauge\u001B[39;49m\u001B[38;5;124;43m'\u001B[39;49m\u001B[43m,\u001B[49m\u001B[43m \u001B[49m\u001B[43m_bool_gauge_methods\u001B[49m\u001B[43m,\u001B[49m\n\u001B[1;32m    357\u001B[0m \u001B[43m                                  \u001B[49m\u001B[38;5;28;43mlen\u001B[39;49m\u001B[43m(\u001B[49m\u001B[43mlabels\u001B[49m\u001B[43m)\u001B[49m\u001B[43m,\u001B[49m\u001B[43m \u001B[49m\u001B[43mname\u001B[49m\u001B[43m,\u001B[49m\u001B[43m \u001B[49m\u001B[43mdescription\u001B[49m\u001B[43m,\u001B[49m\u001B[43m \u001B[49m\u001B[38;5;241;43m*\u001B[39;49m\u001B[43mlabels\u001B[49m\u001B[43m)\u001B[49m\n",
      "File \u001B[0;32m~/anaconda3/lib/python3.10/site-packages/tensorflow/python/eager/monitoring.py:131\u001B[0m, in \u001B[0;36mMetric.__init__\u001B[0;34m(self, metric_name, metric_methods, label_length, *args)\u001B[0m\n\u001B[1;32m    127\u001B[0m \u001B[38;5;28;01mif\u001B[39;00m label_length \u001B[38;5;241m>\u001B[39m\u001B[38;5;241m=\u001B[39m \u001B[38;5;28mlen\u001B[39m(\u001B[38;5;28mself\u001B[39m\u001B[38;5;241m.\u001B[39m_metric_methods):\n\u001B[1;32m    128\u001B[0m   \u001B[38;5;28;01mraise\u001B[39;00m \u001B[38;5;167;01mValueError\u001B[39;00m(\u001B[38;5;124m'\u001B[39m\u001B[38;5;124mCannot create \u001B[39m\u001B[38;5;132;01m{}\u001B[39;00m\u001B[38;5;124m metric with label >= \u001B[39m\u001B[38;5;132;01m{}\u001B[39;00m\u001B[38;5;124m'\u001B[39m\u001B[38;5;241m.\u001B[39mformat(\n\u001B[1;32m    129\u001B[0m       \u001B[38;5;28mself\u001B[39m\u001B[38;5;241m.\u001B[39m_metric_name, \u001B[38;5;28mlen\u001B[39m(\u001B[38;5;28mself\u001B[39m\u001B[38;5;241m.\u001B[39m_metric_methods)))\n\u001B[0;32m--> 131\u001B[0m \u001B[38;5;28mself\u001B[39m\u001B[38;5;241m.\u001B[39m_metric \u001B[38;5;241m=\u001B[39m \u001B[38;5;28;43mself\u001B[39;49m\u001B[38;5;241;43m.\u001B[39;49m\u001B[43m_metric_methods\u001B[49m\u001B[43m[\u001B[49m\u001B[38;5;28;43mself\u001B[39;49m\u001B[38;5;241;43m.\u001B[39;49m\u001B[43m_label_length\u001B[49m\u001B[43m]\u001B[49m\u001B[38;5;241;43m.\u001B[39;49m\u001B[43mcreate\u001B[49m\u001B[43m(\u001B[49m\u001B[38;5;241;43m*\u001B[39;49m\u001B[43margs\u001B[49m\u001B[43m)\u001B[49m\n",
      "\u001B[0;31mAlreadyExistsError\u001B[0m: Another metric with the same name already exists."
     ]
    }
   ],
   "source": [
    "\n",
    "from keras.models import Sequential\n",
    "from keras.layers import Dense, LSTM\n",
    "\n",
    "\n",
    "\n",
    "model = Sequential()\n",
    "model.add(LSTM(8,return_sequences=True, input_shape=(1,look_back)))\n",
    "model.add(LSTM(4,return_sequences=False, input_shape=(1,look_back)))\n",
    "\n",
    "model.add(Dense(1))\n",
    "model.compile(loss='mean_squared_error', optimizer='rmsprop')\n",
    "model.fit(trainX, trainY, epochs=500, batch_size=4, verbose=2)"
   ],
   "metadata": {
    "collapsed": false
   }
  },
  {
   "cell_type": "code",
   "execution_count": null,
   "outputs": [],
   "source": [],
   "metadata": {
    "collapsed": false
   }
  }
 ],
 "metadata": {
  "kernelspec": {
   "display_name": "Python 3",
   "language": "python",
   "name": "python3"
  },
  "language_info": {
   "codemirror_mode": {
    "name": "ipython",
    "version": 2
   },
   "file_extension": ".py",
   "mimetype": "text/x-python",
   "name": "python",
   "nbconvert_exporter": "python",
   "pygments_lexer": "ipython2",
   "version": "2.7.6"
  }
 },
 "nbformat": 4,
 "nbformat_minor": 0
}
