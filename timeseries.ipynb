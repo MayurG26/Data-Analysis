{
 "cells": [
  {
   "cell_type": "code",
   "execution_count": 442,
   "metadata": {
    "collapsed": true,
    "ExecuteTime": {
     "end_time": "2023-11-26T19:09:42.373369Z",
     "start_time": "2023-11-26T19:09:42.369280Z"
    }
   },
   "outputs": [],
   "source": [
    "import pandas as pd\n",
    "import numpy as np\n",
    "import plotly.graph_objects as go\n",
    "from sklearn.preprocessing import RobustScaler , MinMaxScaler\n",
    "\n",
    "from keras.models import Sequential\n",
    "from keras.layers import Dense, LSTM\n",
    "from skimage.metrics import mean_squared_error\n",
    "import math\n",
    "import plotly.graph_objects as go"
   ]
  },
  {
   "cell_type": "code",
   "execution_count": 443,
   "outputs": [
    {
     "name": "stdout",
     "output_type": "stream",
     "text": [
      "       DR_NO               Date Rptd                DATE OCC  TIME OCC  AREA  \\\n",
      "0   10304468  01/08/2020 12:00:00 AM  01/08/2020 12:00:00 AM      2230     3   \n",
      "1  190101086  01/02/2020 12:00:00 AM  01/01/2020 12:00:00 AM       330     1   \n",
      "2  201220752  09/16/2020 12:00:00 AM  09/16/2020 12:00:00 AM      1230    12   \n",
      "3  191501505  01/01/2020 12:00:00 AM  01/01/2020 12:00:00 AM      1730    15   \n",
      "4  191921269  01/01/2020 12:00:00 AM  01/01/2020 12:00:00 AM       415    19   \n",
      "\n",
      "     AREA NAME  Rpt Dist No  Part 1-2  Crm Cd  \\\n",
      "0    Southwest          377         2     624   \n",
      "1      Central          163         2     624   \n",
      "2  77th Street         1259         2     745   \n",
      "3  N Hollywood         1543         2     745   \n",
      "4      Mission         1998         2     740   \n",
      "\n",
      "                                         Crm Cd Desc  ... Status  Status Desc  \\\n",
      "0                           BATTERY - SIMPLE ASSAULT  ...     AO  Adult Other   \n",
      "1                           BATTERY - SIMPLE ASSAULT  ...     IC  Invest Cont   \n",
      "2           VANDALISM - MISDEAMEANOR ($399 OR UNDER)  ...     IC  Invest Cont   \n",
      "3           VANDALISM - MISDEAMEANOR ($399 OR UNDER)  ...     IC  Invest Cont   \n",
      "4  VANDALISM - FELONY ($400 & OVER, ALL CHURCH VA...  ...     IC  Invest Cont   \n",
      "\n",
      "  Crm Cd 1 Crm Cd 2  Crm Cd 3 Crm Cd 4  \\\n",
      "0    624.0      NaN       NaN      NaN   \n",
      "1    624.0      NaN       NaN      NaN   \n",
      "2    745.0      NaN       NaN      NaN   \n",
      "3    745.0    998.0       NaN      NaN   \n",
      "4    740.0      NaN       NaN      NaN   \n",
      "\n",
      "                                   LOCATION Cross Street      LAT       LON  \n",
      "0   1100 W  39TH                         PL          NaN  34.0141 -118.2978  \n",
      "1    700 S  HILL                         ST          NaN  34.0459 -118.2545  \n",
      "2    700 E  73RD                         ST          NaN  33.9739 -118.2630  \n",
      "3   5400    CORTEEN                      PL          NaN  34.1685 -118.4019  \n",
      "4  14400    TITUS                        ST          NaN  34.2198 -118.4468  \n",
      "\n",
      "[5 rows x 28 columns]\n",
      "510    34216\n",
      "624    25965\n",
      "740    21179\n",
      "330    20378\n",
      "310    19954\n",
      "230    19341\n",
      "626    17368\n",
      "440    17289\n",
      "420    14525\n",
      "354    12615\n",
      "Name: Crm Cd, dtype: int64\n"
     ]
    },
    {
     "data": {
      "text/plain": "        DR_NO               Date Rptd                DATE OCC  TIME OCC  AREA  \\\n0    10304468  01/08/2020 12:00:00 AM  01/08/2020 12:00:00 AM      2230     3   \n1   190101086  01/02/2020 12:00:00 AM  01/01/2020 12:00:00 AM       330     1   \n4   191921269  01/01/2020 12:00:00 AM  01/01/2020 12:00:00 AM       415    19   \n10  200100509  01/04/2020 12:00:00 AM  01/04/2020 12:00:00 AM      2200     1   \n15  201811813  05/28/2020 12:00:00 AM  05/25/2020 12:00:00 AM       200    18   \n\n    AREA NAME  Rpt Dist No  Part 1-2  Crm Cd  \\\n0   Southwest          377         2     624   \n1     Central          163         2     624   \n4     Mission         1998         2     740   \n10    Central          192         1     330   \n15  Southeast         1851         1     510   \n\n                                          Crm Cd Desc  ... Status  \\\n0                            BATTERY - SIMPLE ASSAULT  ...     AO   \n1                            BATTERY - SIMPLE ASSAULT  ...     IC   \n4   VANDALISM - FELONY ($400 & OVER, ALL CHURCH VA...  ...     IC   \n10                              BURGLARY FROM VEHICLE  ...     IC   \n15                                   VEHICLE - STOLEN  ...     IC   \n\n    Status Desc Crm Cd 1 Crm Cd 2  Crm Cd 3 Crm Cd 4  \\\n0   Adult Other    624.0      NaN       NaN      NaN   \n1   Invest Cont    624.0      NaN       NaN      NaN   \n4   Invest Cont    740.0      NaN       NaN      NaN   \n10  Invest Cont    330.0      NaN       NaN      NaN   \n15  Invest Cont    510.0      NaN       NaN      NaN   \n\n                                    LOCATION                     Cross Street  \\\n0    1100 W  39TH                         PL                              NaN   \n1     700 S  HILL                         ST                              NaN   \n4   14400    TITUS                        ST                              NaN   \n10                                      15TH                            OLIVE   \n15           MENLO                        AV  130TH                        ST   \n\n        LAT       LON  \n0   34.0141 -118.2978  \n1   34.0459 -118.2545  \n4   34.2198 -118.4468  \n10  34.0359 -118.2648  \n15  33.9144 -118.2894  \n\n[5 rows x 28 columns]",
      "text/html": "<div>\n<style scoped>\n    .dataframe tbody tr th:only-of-type {\n        vertical-align: middle;\n    }\n\n    .dataframe tbody tr th {\n        vertical-align: top;\n    }\n\n    .dataframe thead th {\n        text-align: right;\n    }\n</style>\n<table border=\"1\" class=\"dataframe\">\n  <thead>\n    <tr style=\"text-align: right;\">\n      <th></th>\n      <th>DR_NO</th>\n      <th>Date Rptd</th>\n      <th>DATE OCC</th>\n      <th>TIME OCC</th>\n      <th>AREA</th>\n      <th>AREA NAME</th>\n      <th>Rpt Dist No</th>\n      <th>Part 1-2</th>\n      <th>Crm Cd</th>\n      <th>Crm Cd Desc</th>\n      <th>...</th>\n      <th>Status</th>\n      <th>Status Desc</th>\n      <th>Crm Cd 1</th>\n      <th>Crm Cd 2</th>\n      <th>Crm Cd 3</th>\n      <th>Crm Cd 4</th>\n      <th>LOCATION</th>\n      <th>Cross Street</th>\n      <th>LAT</th>\n      <th>LON</th>\n    </tr>\n  </thead>\n  <tbody>\n    <tr>\n      <th>0</th>\n      <td>10304468</td>\n      <td>01/08/2020 12:00:00 AM</td>\n      <td>01/08/2020 12:00:00 AM</td>\n      <td>2230</td>\n      <td>3</td>\n      <td>Southwest</td>\n      <td>377</td>\n      <td>2</td>\n      <td>624</td>\n      <td>BATTERY - SIMPLE ASSAULT</td>\n      <td>...</td>\n      <td>AO</td>\n      <td>Adult Other</td>\n      <td>624.0</td>\n      <td>NaN</td>\n      <td>NaN</td>\n      <td>NaN</td>\n      <td>1100 W  39TH                         PL</td>\n      <td>NaN</td>\n      <td>34.0141</td>\n      <td>-118.2978</td>\n    </tr>\n    <tr>\n      <th>1</th>\n      <td>190101086</td>\n      <td>01/02/2020 12:00:00 AM</td>\n      <td>01/01/2020 12:00:00 AM</td>\n      <td>330</td>\n      <td>1</td>\n      <td>Central</td>\n      <td>163</td>\n      <td>2</td>\n      <td>624</td>\n      <td>BATTERY - SIMPLE ASSAULT</td>\n      <td>...</td>\n      <td>IC</td>\n      <td>Invest Cont</td>\n      <td>624.0</td>\n      <td>NaN</td>\n      <td>NaN</td>\n      <td>NaN</td>\n      <td>700 S  HILL                         ST</td>\n      <td>NaN</td>\n      <td>34.0459</td>\n      <td>-118.2545</td>\n    </tr>\n    <tr>\n      <th>4</th>\n      <td>191921269</td>\n      <td>01/01/2020 12:00:00 AM</td>\n      <td>01/01/2020 12:00:00 AM</td>\n      <td>415</td>\n      <td>19</td>\n      <td>Mission</td>\n      <td>1998</td>\n      <td>2</td>\n      <td>740</td>\n      <td>VANDALISM - FELONY ($400 &amp; OVER, ALL CHURCH VA...</td>\n      <td>...</td>\n      <td>IC</td>\n      <td>Invest Cont</td>\n      <td>740.0</td>\n      <td>NaN</td>\n      <td>NaN</td>\n      <td>NaN</td>\n      <td>14400    TITUS                        ST</td>\n      <td>NaN</td>\n      <td>34.2198</td>\n      <td>-118.4468</td>\n    </tr>\n    <tr>\n      <th>10</th>\n      <td>200100509</td>\n      <td>01/04/2020 12:00:00 AM</td>\n      <td>01/04/2020 12:00:00 AM</td>\n      <td>2200</td>\n      <td>1</td>\n      <td>Central</td>\n      <td>192</td>\n      <td>1</td>\n      <td>330</td>\n      <td>BURGLARY FROM VEHICLE</td>\n      <td>...</td>\n      <td>IC</td>\n      <td>Invest Cont</td>\n      <td>330.0</td>\n      <td>NaN</td>\n      <td>NaN</td>\n      <td>NaN</td>\n      <td>15TH</td>\n      <td>OLIVE</td>\n      <td>34.0359</td>\n      <td>-118.2648</td>\n    </tr>\n    <tr>\n      <th>15</th>\n      <td>201811813</td>\n      <td>05/28/2020 12:00:00 AM</td>\n      <td>05/25/2020 12:00:00 AM</td>\n      <td>200</td>\n      <td>18</td>\n      <td>Southeast</td>\n      <td>1851</td>\n      <td>1</td>\n      <td>510</td>\n      <td>VEHICLE - STOLEN</td>\n      <td>...</td>\n      <td>IC</td>\n      <td>Invest Cont</td>\n      <td>510.0</td>\n      <td>NaN</td>\n      <td>NaN</td>\n      <td>NaN</td>\n      <td>MENLO                        AV</td>\n      <td>130TH                        ST</td>\n      <td>33.9144</td>\n      <td>-118.2894</td>\n    </tr>\n  </tbody>\n</table>\n<p>5 rows × 28 columns</p>\n</div>"
     },
     "execution_count": 443,
     "metadata": {},
     "output_type": "execute_result"
    }
   ],
   "source": [
    "original_crime_df = pd.read_csv(\"Crime_Data_from_2020_to_Present.csv\")\n",
    "print(original_crime_df.head())\n",
    "print(original_crime_df['Crm Cd'].value_counts()[:10])\n",
    "new_dataset = original_crime_df[original_crime_df[\"Crm Cd\"].isin([510,624,740,330,310,230,626,440,420,354]) ]\n",
    "new_dataset.head()"
   ],
   "metadata": {
    "collapsed": false,
    "ExecuteTime": {
     "end_time": "2023-11-26T19:09:43.898295Z",
     "start_time": "2023-11-26T19:09:42.373994Z"
    }
   }
  },
  {
   "cell_type": "code",
   "execution_count": 444,
   "outputs": [
    {
     "data": {
      "text/plain": "            DR_NO               Date Rptd                DATE OCC  TIME OCC  \\\n15      201811813  05/28/2020 12:00:00 AM  05/25/2020 12:00:00 AM       200   \n24      201713253  09/15/2020 12:00:00 AM  09/14/2020 12:00:00 AM      1305   \n27      200505212  01/29/2020 12:00:00 AM  01/26/2020 12:00:00 AM      1200   \n32      200117988  09/15/2020 12:00:00 AM  09/03/2020 12:00:00 AM      2000   \n50      201312607  06/21/2020 12:00:00 AM  06/21/2020 12:00:00 AM        30   \n...           ...                     ...                     ...       ...   \n317802  210911274  07/05/2021 12:00:00 AM  07/03/2021 12:00:00 AM      1900   \n317808  211204656  01/11/2021 12:00:00 AM  01/10/2021 12:00:00 AM      2300   \n317846  210404776  01/21/2021 12:00:00 AM  01/19/2021 12:00:00 AM      1600   \n317849  211208872  03/19/2021 12:00:00 AM  03/19/2021 12:00:00 AM      1105   \n317853  212005847  02/22/2021 12:00:00 AM  02/22/2021 12:00:00 AM      1200   \n\n        AREA    AREA NAME  Rpt Dist No  Part 1-2  Crm Cd       Crm Cd Desc  \\\n15        18    Southeast         1851         1     510  VEHICLE - STOLEN   \n24        17   Devonshire         1776         1     510  VEHICLE - STOLEN   \n27         5       Harbor          529         1     510  VEHICLE - STOLEN   \n32         1      Central          111         1     510  VEHICLE - STOLEN   \n50        13       Newton         1321         1     510  VEHICLE - STOLEN   \n...      ...          ...          ...       ...     ...               ...   \n317802     9     Van Nuys          911         1     510  VEHICLE - STOLEN   \n317808    12  77th Street         1259         1     510  VEHICLE - STOLEN   \n317846     4   Hollenbeck          497         1     510  VEHICLE - STOLEN   \n317849    12  77th Street         1218         1     510  VEHICLE - STOLEN   \n317853    20      Olympic         2034         1     510  VEHICLE - STOLEN   \n\n        ... Status  Status Desc Crm Cd 1 Crm Cd 2  Crm Cd 3 Crm Cd 4  \\\n15      ...     IC  Invest Cont    510.0      NaN       NaN      NaN   \n24      ...     IC  Invest Cont    510.0      NaN       NaN      NaN   \n27      ...     IC  Invest Cont    510.0      NaN       NaN      NaN   \n32      ...     IC  Invest Cont    510.0      NaN       NaN      NaN   \n50      ...     IC  Invest Cont    510.0      NaN       NaN      NaN   \n...     ...    ...          ...      ...      ...       ...      ...   \n317802  ...     IC  Invest Cont    510.0      NaN       NaN      NaN   \n317808  ...     IC  Invest Cont    510.0      NaN       NaN      NaN   \n317846  ...     IC  Invest Cont    510.0      NaN       NaN      NaN   \n317849  ...     IC  Invest Cont    510.0      NaN       NaN      NaN   \n317853  ...     IC  Invest Cont    510.0      NaN       NaN      NaN   \n\n                                        LOCATION  \\\n15               MENLO                        AV   \n24      16700    LABRADOR                     ST   \n27                                             E   \n32        500 N  FIGUEROA                     ST   \n50        100 E  24TH                         ST   \n...                                          ...   \n317802  15600    VANOWEN                      ST   \n317808    400 E  74TH                         ST   \n317846   1400 S  DE LA TORRE                  WY   \n317849           58TH                         ST   \n317853   3300 W  8TH                          ST   \n\n                           Cross Street      LAT       LON  \n15      130TH                        ST  33.9144 -118.2894  \n24                                  NaN  34.2493 -118.4965  \n27                                BROAD  33.7753 -118.2456  \n32                                  NaN  34.0615 -118.2470  \n50                                  NaN  34.0266 -118.2676  \n...                                 ...      ...       ...  \n317802                              NaN  34.1939 -118.4732  \n317808                              NaN  33.9730 -118.2657  \n317846                              NaN  34.0166 -118.2058  \n317849  FIGUEROA                     ST  33.9897 -118.2827  \n317853                              NaN  34.0596 -118.3022  \n\n[34216 rows x 28 columns]",
      "text/html": "<div>\n<style scoped>\n    .dataframe tbody tr th:only-of-type {\n        vertical-align: middle;\n    }\n\n    .dataframe tbody tr th {\n        vertical-align: top;\n    }\n\n    .dataframe thead th {\n        text-align: right;\n    }\n</style>\n<table border=\"1\" class=\"dataframe\">\n  <thead>\n    <tr style=\"text-align: right;\">\n      <th></th>\n      <th>DR_NO</th>\n      <th>Date Rptd</th>\n      <th>DATE OCC</th>\n      <th>TIME OCC</th>\n      <th>AREA</th>\n      <th>AREA NAME</th>\n      <th>Rpt Dist No</th>\n      <th>Part 1-2</th>\n      <th>Crm Cd</th>\n      <th>Crm Cd Desc</th>\n      <th>...</th>\n      <th>Status</th>\n      <th>Status Desc</th>\n      <th>Crm Cd 1</th>\n      <th>Crm Cd 2</th>\n      <th>Crm Cd 3</th>\n      <th>Crm Cd 4</th>\n      <th>LOCATION</th>\n      <th>Cross Street</th>\n      <th>LAT</th>\n      <th>LON</th>\n    </tr>\n  </thead>\n  <tbody>\n    <tr>\n      <th>15</th>\n      <td>201811813</td>\n      <td>05/28/2020 12:00:00 AM</td>\n      <td>05/25/2020 12:00:00 AM</td>\n      <td>200</td>\n      <td>18</td>\n      <td>Southeast</td>\n      <td>1851</td>\n      <td>1</td>\n      <td>510</td>\n      <td>VEHICLE - STOLEN</td>\n      <td>...</td>\n      <td>IC</td>\n      <td>Invest Cont</td>\n      <td>510.0</td>\n      <td>NaN</td>\n      <td>NaN</td>\n      <td>NaN</td>\n      <td>MENLO                        AV</td>\n      <td>130TH                        ST</td>\n      <td>33.9144</td>\n      <td>-118.2894</td>\n    </tr>\n    <tr>\n      <th>24</th>\n      <td>201713253</td>\n      <td>09/15/2020 12:00:00 AM</td>\n      <td>09/14/2020 12:00:00 AM</td>\n      <td>1305</td>\n      <td>17</td>\n      <td>Devonshire</td>\n      <td>1776</td>\n      <td>1</td>\n      <td>510</td>\n      <td>VEHICLE - STOLEN</td>\n      <td>...</td>\n      <td>IC</td>\n      <td>Invest Cont</td>\n      <td>510.0</td>\n      <td>NaN</td>\n      <td>NaN</td>\n      <td>NaN</td>\n      <td>16700    LABRADOR                     ST</td>\n      <td>NaN</td>\n      <td>34.2493</td>\n      <td>-118.4965</td>\n    </tr>\n    <tr>\n      <th>27</th>\n      <td>200505212</td>\n      <td>01/29/2020 12:00:00 AM</td>\n      <td>01/26/2020 12:00:00 AM</td>\n      <td>1200</td>\n      <td>5</td>\n      <td>Harbor</td>\n      <td>529</td>\n      <td>1</td>\n      <td>510</td>\n      <td>VEHICLE - STOLEN</td>\n      <td>...</td>\n      <td>IC</td>\n      <td>Invest Cont</td>\n      <td>510.0</td>\n      <td>NaN</td>\n      <td>NaN</td>\n      <td>NaN</td>\n      <td>E</td>\n      <td>BROAD</td>\n      <td>33.7753</td>\n      <td>-118.2456</td>\n    </tr>\n    <tr>\n      <th>32</th>\n      <td>200117988</td>\n      <td>09/15/2020 12:00:00 AM</td>\n      <td>09/03/2020 12:00:00 AM</td>\n      <td>2000</td>\n      <td>1</td>\n      <td>Central</td>\n      <td>111</td>\n      <td>1</td>\n      <td>510</td>\n      <td>VEHICLE - STOLEN</td>\n      <td>...</td>\n      <td>IC</td>\n      <td>Invest Cont</td>\n      <td>510.0</td>\n      <td>NaN</td>\n      <td>NaN</td>\n      <td>NaN</td>\n      <td>500 N  FIGUEROA                     ST</td>\n      <td>NaN</td>\n      <td>34.0615</td>\n      <td>-118.2470</td>\n    </tr>\n    <tr>\n      <th>50</th>\n      <td>201312607</td>\n      <td>06/21/2020 12:00:00 AM</td>\n      <td>06/21/2020 12:00:00 AM</td>\n      <td>30</td>\n      <td>13</td>\n      <td>Newton</td>\n      <td>1321</td>\n      <td>1</td>\n      <td>510</td>\n      <td>VEHICLE - STOLEN</td>\n      <td>...</td>\n      <td>IC</td>\n      <td>Invest Cont</td>\n      <td>510.0</td>\n      <td>NaN</td>\n      <td>NaN</td>\n      <td>NaN</td>\n      <td>100 E  24TH                         ST</td>\n      <td>NaN</td>\n      <td>34.0266</td>\n      <td>-118.2676</td>\n    </tr>\n    <tr>\n      <th>...</th>\n      <td>...</td>\n      <td>...</td>\n      <td>...</td>\n      <td>...</td>\n      <td>...</td>\n      <td>...</td>\n      <td>...</td>\n      <td>...</td>\n      <td>...</td>\n      <td>...</td>\n      <td>...</td>\n      <td>...</td>\n      <td>...</td>\n      <td>...</td>\n      <td>...</td>\n      <td>...</td>\n      <td>...</td>\n      <td>...</td>\n      <td>...</td>\n      <td>...</td>\n      <td>...</td>\n    </tr>\n    <tr>\n      <th>317802</th>\n      <td>210911274</td>\n      <td>07/05/2021 12:00:00 AM</td>\n      <td>07/03/2021 12:00:00 AM</td>\n      <td>1900</td>\n      <td>9</td>\n      <td>Van Nuys</td>\n      <td>911</td>\n      <td>1</td>\n      <td>510</td>\n      <td>VEHICLE - STOLEN</td>\n      <td>...</td>\n      <td>IC</td>\n      <td>Invest Cont</td>\n      <td>510.0</td>\n      <td>NaN</td>\n      <td>NaN</td>\n      <td>NaN</td>\n      <td>15600    VANOWEN                      ST</td>\n      <td>NaN</td>\n      <td>34.1939</td>\n      <td>-118.4732</td>\n    </tr>\n    <tr>\n      <th>317808</th>\n      <td>211204656</td>\n      <td>01/11/2021 12:00:00 AM</td>\n      <td>01/10/2021 12:00:00 AM</td>\n      <td>2300</td>\n      <td>12</td>\n      <td>77th Street</td>\n      <td>1259</td>\n      <td>1</td>\n      <td>510</td>\n      <td>VEHICLE - STOLEN</td>\n      <td>...</td>\n      <td>IC</td>\n      <td>Invest Cont</td>\n      <td>510.0</td>\n      <td>NaN</td>\n      <td>NaN</td>\n      <td>NaN</td>\n      <td>400 E  74TH                         ST</td>\n      <td>NaN</td>\n      <td>33.9730</td>\n      <td>-118.2657</td>\n    </tr>\n    <tr>\n      <th>317846</th>\n      <td>210404776</td>\n      <td>01/21/2021 12:00:00 AM</td>\n      <td>01/19/2021 12:00:00 AM</td>\n      <td>1600</td>\n      <td>4</td>\n      <td>Hollenbeck</td>\n      <td>497</td>\n      <td>1</td>\n      <td>510</td>\n      <td>VEHICLE - STOLEN</td>\n      <td>...</td>\n      <td>IC</td>\n      <td>Invest Cont</td>\n      <td>510.0</td>\n      <td>NaN</td>\n      <td>NaN</td>\n      <td>NaN</td>\n      <td>1400 S  DE LA TORRE                  WY</td>\n      <td>NaN</td>\n      <td>34.0166</td>\n      <td>-118.2058</td>\n    </tr>\n    <tr>\n      <th>317849</th>\n      <td>211208872</td>\n      <td>03/19/2021 12:00:00 AM</td>\n      <td>03/19/2021 12:00:00 AM</td>\n      <td>1105</td>\n      <td>12</td>\n      <td>77th Street</td>\n      <td>1218</td>\n      <td>1</td>\n      <td>510</td>\n      <td>VEHICLE - STOLEN</td>\n      <td>...</td>\n      <td>IC</td>\n      <td>Invest Cont</td>\n      <td>510.0</td>\n      <td>NaN</td>\n      <td>NaN</td>\n      <td>NaN</td>\n      <td>58TH                         ST</td>\n      <td>FIGUEROA                     ST</td>\n      <td>33.9897</td>\n      <td>-118.2827</td>\n    </tr>\n    <tr>\n      <th>317853</th>\n      <td>212005847</td>\n      <td>02/22/2021 12:00:00 AM</td>\n      <td>02/22/2021 12:00:00 AM</td>\n      <td>1200</td>\n      <td>20</td>\n      <td>Olympic</td>\n      <td>2034</td>\n      <td>1</td>\n      <td>510</td>\n      <td>VEHICLE - STOLEN</td>\n      <td>...</td>\n      <td>IC</td>\n      <td>Invest Cont</td>\n      <td>510.0</td>\n      <td>NaN</td>\n      <td>NaN</td>\n      <td>NaN</td>\n      <td>3300 W  8TH                          ST</td>\n      <td>NaN</td>\n      <td>34.0596</td>\n      <td>-118.3022</td>\n    </tr>\n  </tbody>\n</table>\n<p>34216 rows × 28 columns</p>\n</div>"
     },
     "execution_count": 444,
     "metadata": {},
     "output_type": "execute_result"
    }
   ],
   "source": [
    "dataset_510 = original_crime_df[original_crime_df[\"Crm Cd\"].isin([510]) ]\n",
    "dataset_624 = original_crime_df[original_crime_df[\"Crm Cd\"].isin([624])]\n",
    "dataset_740 = original_crime_df[original_crime_df[\"Crm Cd\"].isin([740])]\n",
    "dataset_330 = original_crime_df[original_crime_df[\"Crm Cd\"].isin([330])]\n",
    "dataset_310 = original_crime_df[original_crime_df[\"Crm Cd\"].isin([310])]\n",
    "dataset_230 = original_crime_df[original_crime_df[\"Crm Cd\"].isin([230])]\n",
    "dataset_626 = original_crime_df[original_crime_df[\"Crm Cd\"].isin([626])]\n",
    "dataset_440 = original_crime_df[original_crime_df[\"Crm Cd\"].isin([440])]\n",
    "dataset_420 = original_crime_df[original_crime_df[\"Crm Cd\"].isin([420])]\n",
    "dataset_354 = original_crime_df[original_crime_df[\"Crm Cd\"].isin([354])]\n",
    "\n",
    "dataset_510"
   ],
   "metadata": {
    "collapsed": false,
    "ExecuteTime": {
     "end_time": "2023-11-26T19:09:44.098324Z",
     "start_time": "2023-11-26T19:09:43.897203Z"
    }
   }
  },
  {
   "cell_type": "code",
   "execution_count": 445,
   "outputs": [
    {
     "name": "stderr",
     "output_type": "stream",
     "text": [
      "/var/folders/8g/z0__2mts0rnbjh3kq8zsfz2w0000gn/T/ipykernel_6830/214316822.py:1: SettingWithCopyWarning:\n",
      "\n",
      "\n",
      "A value is trying to be set on a copy of a slice from a DataFrame.\n",
      "Try using .loc[row_indexer,col_indexer] = value instead\n",
      "\n",
      "See the caveats in the documentation: https://pandas.pydata.org/pandas-docs/stable/user_guide/indexing.html#returning-a-view-versus-a-copy\n",
      "\n",
      "/var/folders/8g/z0__2mts0rnbjh3kq8zsfz2w0000gn/T/ipykernel_6830/214316822.py:2: SettingWithCopyWarning:\n",
      "\n",
      "\n",
      "A value is trying to be set on a copy of a slice from a DataFrame.\n",
      "Try using .loc[row_indexer,col_indexer] = value instead\n",
      "\n",
      "See the caveats in the documentation: https://pandas.pydata.org/pandas-docs/stable/user_guide/indexing.html#returning-a-view-versus-a-copy\n",
      "\n"
     ]
    },
    {
     "data": {
      "text/plain": "            DR_NO  Date Rptd   DATE OCC  TIME OCC  AREA    AREA NAME  \\\n15061   201604004 2020-01-01 2020-01-01         5    16     Foothill   \n9729    201104043 2020-01-02 2020-01-01      1830    11    Northeast   \n9728    201104038 2020-01-01 2020-01-01       800    11    Northeast   \n1434    200204057 2020-01-02 2020-01-01      2000     2      Rampart   \n1432    200204055 2020-01-02 2020-01-01      2200     2      Rampart   \n...           ...        ...        ...       ...   ...          ...   \n292740  211011359 2021-08-16 2021-08-16       705    10  West Valley   \n317434  211815272 2021-08-16 2021-08-16       400    18    Southeast   \n201876  210115282 2021-08-16 2021-08-16      1900     1      Central   \n277674  211711552 2021-08-16 2021-08-16       510    17   Devonshire   \n296769  211416655 2021-08-16 2021-08-16       130    14      Pacific   \n\n        Rpt Dist No  Part 1-2  Crm Cd       Crm Cd Desc  ... Status  \\\n15061          1601         1     510  VEHICLE - STOLEN  ...     IC   \n9729           1145         1     510  VEHICLE - STOLEN  ...     IC   \n9728           1149         1     510  VEHICLE - STOLEN  ...     IC   \n1434            204         1     510  VEHICLE - STOLEN  ...     IC   \n1432            275         1     510  VEHICLE - STOLEN  ...     IC   \n...             ...       ...     ...               ...  ...    ...   \n292740         1049         1     510  VEHICLE - STOLEN  ...     IC   \n317434         1823         1     510  VEHICLE - STOLEN  ...     IC   \n201876          138         1     510  VEHICLE - STOLEN  ...     IC   \n277674         1794         1     510  VEHICLE - STOLEN  ...     IC   \n296769         1414         1     510  VEHICLE - STOLEN  ...     IC   \n\n        Status Desc Crm Cd 1 Crm Cd 2  Crm Cd 3 Crm Cd 4  \\\n15061   Invest Cont    510.0      NaN       NaN      NaN   \n9729    Invest Cont    510.0      NaN       NaN      NaN   \n9728    Invest Cont    510.0      NaN       NaN      NaN   \n1434    Invest Cont    510.0      NaN       NaN      NaN   \n1432    Invest Cont    510.0      NaN       NaN      NaN   \n...             ...      ...      ...       ...      ...   \n292740  Invest Cont    510.0      NaN       NaN      NaN   \n317434  Invest Cont    510.0      NaN       NaN      NaN   \n201876  Invest Cont    510.0      NaN       NaN      NaN   \n277674  Invest Cont    510.0      NaN       NaN      NaN   \n296769  Invest Cont    510.0      NaN       NaN      NaN   \n\n                                        LOCATION  \\\n15061   11900    COMETA                       AV   \n9729     2500    GLENDALE                     BL   \n9728                            100 S  AVENUE 57   \n1434     3400    PLATA                        ST   \n1432                                  BURLINGTON   \n...                                          ...   \n292740   6300    BALBOA                       BL   \n317434  10100 S  SAN PEDRO                    ST   \n201876           BOYD                         ST   \n277674  18500    PARTHENIA                    ST   \n296769    700    INDIANA                      AV   \n\n                           Cross Street      LAT       LON  \n15061                               NaN  34.2866 -118.4125  \n9729                                NaN  34.1027 -118.2592  \n9728                                NaN  34.1074 -118.1978  \n1434                                NaN  34.0777 -118.2821  \n1432                       JAMES M WOOD  34.0519 -118.2755  \n...                                 ...      ...       ...  \n292740                              NaN   0.0000    0.0000  \n317434                              NaN  33.9438 -118.2695  \n201876  WALL                         ST   0.0000    0.0000  \n277674                              NaN  34.2282 -118.5367  \n296769                              NaN  33.9975 -118.4670  \n\n[34216 rows x 28 columns]",
      "text/html": "<div>\n<style scoped>\n    .dataframe tbody tr th:only-of-type {\n        vertical-align: middle;\n    }\n\n    .dataframe tbody tr th {\n        vertical-align: top;\n    }\n\n    .dataframe thead th {\n        text-align: right;\n    }\n</style>\n<table border=\"1\" class=\"dataframe\">\n  <thead>\n    <tr style=\"text-align: right;\">\n      <th></th>\n      <th>DR_NO</th>\n      <th>Date Rptd</th>\n      <th>DATE OCC</th>\n      <th>TIME OCC</th>\n      <th>AREA</th>\n      <th>AREA NAME</th>\n      <th>Rpt Dist No</th>\n      <th>Part 1-2</th>\n      <th>Crm Cd</th>\n      <th>Crm Cd Desc</th>\n      <th>...</th>\n      <th>Status</th>\n      <th>Status Desc</th>\n      <th>Crm Cd 1</th>\n      <th>Crm Cd 2</th>\n      <th>Crm Cd 3</th>\n      <th>Crm Cd 4</th>\n      <th>LOCATION</th>\n      <th>Cross Street</th>\n      <th>LAT</th>\n      <th>LON</th>\n    </tr>\n  </thead>\n  <tbody>\n    <tr>\n      <th>15061</th>\n      <td>201604004</td>\n      <td>2020-01-01</td>\n      <td>2020-01-01</td>\n      <td>5</td>\n      <td>16</td>\n      <td>Foothill</td>\n      <td>1601</td>\n      <td>1</td>\n      <td>510</td>\n      <td>VEHICLE - STOLEN</td>\n      <td>...</td>\n      <td>IC</td>\n      <td>Invest Cont</td>\n      <td>510.0</td>\n      <td>NaN</td>\n      <td>NaN</td>\n      <td>NaN</td>\n      <td>11900    COMETA                       AV</td>\n      <td>NaN</td>\n      <td>34.2866</td>\n      <td>-118.4125</td>\n    </tr>\n    <tr>\n      <th>9729</th>\n      <td>201104043</td>\n      <td>2020-01-02</td>\n      <td>2020-01-01</td>\n      <td>1830</td>\n      <td>11</td>\n      <td>Northeast</td>\n      <td>1145</td>\n      <td>1</td>\n      <td>510</td>\n      <td>VEHICLE - STOLEN</td>\n      <td>...</td>\n      <td>IC</td>\n      <td>Invest Cont</td>\n      <td>510.0</td>\n      <td>NaN</td>\n      <td>NaN</td>\n      <td>NaN</td>\n      <td>2500    GLENDALE                     BL</td>\n      <td>NaN</td>\n      <td>34.1027</td>\n      <td>-118.2592</td>\n    </tr>\n    <tr>\n      <th>9728</th>\n      <td>201104038</td>\n      <td>2020-01-01</td>\n      <td>2020-01-01</td>\n      <td>800</td>\n      <td>11</td>\n      <td>Northeast</td>\n      <td>1149</td>\n      <td>1</td>\n      <td>510</td>\n      <td>VEHICLE - STOLEN</td>\n      <td>...</td>\n      <td>IC</td>\n      <td>Invest Cont</td>\n      <td>510.0</td>\n      <td>NaN</td>\n      <td>NaN</td>\n      <td>NaN</td>\n      <td>100 S  AVENUE 57</td>\n      <td>NaN</td>\n      <td>34.1074</td>\n      <td>-118.1978</td>\n    </tr>\n    <tr>\n      <th>1434</th>\n      <td>200204057</td>\n      <td>2020-01-02</td>\n      <td>2020-01-01</td>\n      <td>2000</td>\n      <td>2</td>\n      <td>Rampart</td>\n      <td>204</td>\n      <td>1</td>\n      <td>510</td>\n      <td>VEHICLE - STOLEN</td>\n      <td>...</td>\n      <td>IC</td>\n      <td>Invest Cont</td>\n      <td>510.0</td>\n      <td>NaN</td>\n      <td>NaN</td>\n      <td>NaN</td>\n      <td>3400    PLATA                        ST</td>\n      <td>NaN</td>\n      <td>34.0777</td>\n      <td>-118.2821</td>\n    </tr>\n    <tr>\n      <th>1432</th>\n      <td>200204055</td>\n      <td>2020-01-02</td>\n      <td>2020-01-01</td>\n      <td>2200</td>\n      <td>2</td>\n      <td>Rampart</td>\n      <td>275</td>\n      <td>1</td>\n      <td>510</td>\n      <td>VEHICLE - STOLEN</td>\n      <td>...</td>\n      <td>IC</td>\n      <td>Invest Cont</td>\n      <td>510.0</td>\n      <td>NaN</td>\n      <td>NaN</td>\n      <td>NaN</td>\n      <td>BURLINGTON</td>\n      <td>JAMES M WOOD</td>\n      <td>34.0519</td>\n      <td>-118.2755</td>\n    </tr>\n    <tr>\n      <th>...</th>\n      <td>...</td>\n      <td>...</td>\n      <td>...</td>\n      <td>...</td>\n      <td>...</td>\n      <td>...</td>\n      <td>...</td>\n      <td>...</td>\n      <td>...</td>\n      <td>...</td>\n      <td>...</td>\n      <td>...</td>\n      <td>...</td>\n      <td>...</td>\n      <td>...</td>\n      <td>...</td>\n      <td>...</td>\n      <td>...</td>\n      <td>...</td>\n      <td>...</td>\n      <td>...</td>\n    </tr>\n    <tr>\n      <th>292740</th>\n      <td>211011359</td>\n      <td>2021-08-16</td>\n      <td>2021-08-16</td>\n      <td>705</td>\n      <td>10</td>\n      <td>West Valley</td>\n      <td>1049</td>\n      <td>1</td>\n      <td>510</td>\n      <td>VEHICLE - STOLEN</td>\n      <td>...</td>\n      <td>IC</td>\n      <td>Invest Cont</td>\n      <td>510.0</td>\n      <td>NaN</td>\n      <td>NaN</td>\n      <td>NaN</td>\n      <td>6300    BALBOA                       BL</td>\n      <td>NaN</td>\n      <td>0.0000</td>\n      <td>0.0000</td>\n    </tr>\n    <tr>\n      <th>317434</th>\n      <td>211815272</td>\n      <td>2021-08-16</td>\n      <td>2021-08-16</td>\n      <td>400</td>\n      <td>18</td>\n      <td>Southeast</td>\n      <td>1823</td>\n      <td>1</td>\n      <td>510</td>\n      <td>VEHICLE - STOLEN</td>\n      <td>...</td>\n      <td>IC</td>\n      <td>Invest Cont</td>\n      <td>510.0</td>\n      <td>NaN</td>\n      <td>NaN</td>\n      <td>NaN</td>\n      <td>10100 S  SAN PEDRO                    ST</td>\n      <td>NaN</td>\n      <td>33.9438</td>\n      <td>-118.2695</td>\n    </tr>\n    <tr>\n      <th>201876</th>\n      <td>210115282</td>\n      <td>2021-08-16</td>\n      <td>2021-08-16</td>\n      <td>1900</td>\n      <td>1</td>\n      <td>Central</td>\n      <td>138</td>\n      <td>1</td>\n      <td>510</td>\n      <td>VEHICLE - STOLEN</td>\n      <td>...</td>\n      <td>IC</td>\n      <td>Invest Cont</td>\n      <td>510.0</td>\n      <td>NaN</td>\n      <td>NaN</td>\n      <td>NaN</td>\n      <td>BOYD                         ST</td>\n      <td>WALL                         ST</td>\n      <td>0.0000</td>\n      <td>0.0000</td>\n    </tr>\n    <tr>\n      <th>277674</th>\n      <td>211711552</td>\n      <td>2021-08-16</td>\n      <td>2021-08-16</td>\n      <td>510</td>\n      <td>17</td>\n      <td>Devonshire</td>\n      <td>1794</td>\n      <td>1</td>\n      <td>510</td>\n      <td>VEHICLE - STOLEN</td>\n      <td>...</td>\n      <td>IC</td>\n      <td>Invest Cont</td>\n      <td>510.0</td>\n      <td>NaN</td>\n      <td>NaN</td>\n      <td>NaN</td>\n      <td>18500    PARTHENIA                    ST</td>\n      <td>NaN</td>\n      <td>34.2282</td>\n      <td>-118.5367</td>\n    </tr>\n    <tr>\n      <th>296769</th>\n      <td>211416655</td>\n      <td>2021-08-16</td>\n      <td>2021-08-16</td>\n      <td>130</td>\n      <td>14</td>\n      <td>Pacific</td>\n      <td>1414</td>\n      <td>1</td>\n      <td>510</td>\n      <td>VEHICLE - STOLEN</td>\n      <td>...</td>\n      <td>IC</td>\n      <td>Invest Cont</td>\n      <td>510.0</td>\n      <td>NaN</td>\n      <td>NaN</td>\n      <td>NaN</td>\n      <td>700    INDIANA                      AV</td>\n      <td>NaN</td>\n      <td>33.9975</td>\n      <td>-118.4670</td>\n    </tr>\n  </tbody>\n</table>\n<p>34216 rows × 28 columns</p>\n</div>"
     },
     "execution_count": 445,
     "metadata": {},
     "output_type": "execute_result"
    }
   ],
   "source": [
    "dataset_510['Date Rptd'] = pd.to_datetime(dataset_510['Date Rptd'])\n",
    "dataset_510['DATE OCC'] = pd.to_datetime(dataset_510['DATE OCC'])\n",
    "\n",
    "dataset_510.sort_values(by=\"DATE OCC\")"
   ],
   "metadata": {
    "collapsed": false,
    "ExecuteTime": {
     "end_time": "2023-11-26T19:09:44.218061Z",
     "start_time": "2023-11-26T19:09:44.084228Z"
    }
   }
  },
  {
   "cell_type": "code",
   "execution_count": 446,
   "outputs": [
    {
     "data": {
      "text/plain": "array([[194],\n       [344],\n       [308],\n       [317],\n       [342],\n       [312],\n       [310],\n       [306],\n       [306],\n       [322],\n       [336],\n       [307],\n       [361],\n       [412],\n       [415],\n       [412],\n       [442],\n       [394],\n       [450],\n       [413],\n       [436],\n       [400],\n       [459],\n       [468],\n       [495],\n       [514],\n       [522],\n       [431],\n       [438],\n       [438],\n       [442],\n       [414],\n       [421],\n       [382],\n       [429],\n       [384],\n       [374],\n       [388],\n       [372],\n       [387],\n       [415],\n       [382],\n       [438],\n       [411],\n       [410],\n       [409],\n       [423],\n       [397],\n       [414],\n       [403],\n       [391],\n       [385],\n       [416],\n       [400],\n       [407],\n       [442],\n       [433],\n       [484],\n       [458],\n       [466],\n       [411],\n       [435],\n       [408],\n       [391],\n       [393],\n       [408],\n       [386],\n       [398],\n       [441],\n       [460],\n       [405],\n       [405],\n       [405],\n       [433],\n       [405],\n       [422],\n       [415],\n       [412],\n       [433],\n       [410],\n       [368],\n       [390],\n       [429],\n       [367],\n       [382],\n       [ 23]], dtype=int32)"
     },
     "execution_count": 446,
     "metadata": {},
     "output_type": "execute_result"
    }
   ],
   "source": [
    "df1 = dataset_510['DATE OCC'].dt.date.value_counts().sort_index().reset_index()\n",
    "df1.columns = ['DATE','Count']\n",
    "\n",
    "df1['DATE'] = pd.to_datetime(df1['DATE']) - pd.to_timedelta(7, unit='d')\n",
    "df1= df1.groupby([pd.Grouper(key='DATE', freq='W')])['Count'].sum()\n",
    "\n",
    "df1 = pd.DataFrame(data=df1.values, columns=['Count'])\n",
    "df1 = df1.values\n",
    "df1 = df1.astype('int32')\n",
    "df1"
   ],
   "metadata": {
    "collapsed": false,
    "ExecuteTime": {
     "end_time": "2023-11-26T19:09:44.300720Z",
     "start_time": "2023-11-26T19:09:44.230162Z"
    }
   }
  },
  {
   "cell_type": "code",
   "execution_count": 447,
   "outputs": [],
   "source": [
    "def formatNumber(n):\n",
    "    return '{:,}'.format(n).replace(\",\",\" \")\n",
    "def highlight_diag(df):\n",
    "    a = np.full(df.shape, '', dtype='<U24')\n",
    "    np.fill_diagonal(a, 'background-color: yellow')\n",
    "    return pd.DataFrame(a, index=df.index, columns=df.columns)\n",
    "def moving_average(a, n=3) :\n",
    "    ret = np.cumsum(a, dtype=float)\n",
    "    ret[n:] = ret[n:] - ret[:-n]\n",
    "    return ret[n - 1:] / n"
   ],
   "metadata": {
    "collapsed": false,
    "ExecuteTime": {
     "end_time": "2023-11-26T19:09:44.303568Z",
     "start_time": "2023-11-26T19:09:44.258971Z"
    }
   }
  },
  {
   "cell_type": "code",
   "execution_count": 448,
   "outputs": [
    {
     "data": {
      "application/vnd.plotly.v1+json": {
       "data": [
        {
         "name": "Dataset",
         "x": [
          0,
          1,
          2,
          3,
          4,
          5,
          6,
          7,
          8,
          9,
          10,
          11,
          12,
          13,
          14,
          15,
          16,
          17,
          18,
          19,
          20,
          21,
          22,
          23,
          24,
          25,
          26,
          27,
          28,
          29,
          30,
          31,
          32,
          33,
          34,
          35,
          36,
          37,
          38,
          39,
          40,
          41,
          42,
          43,
          44,
          45,
          46,
          47,
          48,
          49,
          50,
          51,
          52,
          53,
          54,
          55,
          56,
          57,
          58,
          59,
          60,
          61,
          62,
          63,
          64,
          65,
          66,
          67,
          68,
          69,
          70,
          71,
          72,
          73,
          74,
          75,
          76,
          77,
          78,
          79,
          80,
          81,
          82,
          83,
          84,
          85
         ],
         "y": [
          194,
          344,
          308,
          317,
          342,
          312,
          310,
          306,
          306,
          322,
          336,
          307,
          361,
          412,
          415,
          412,
          442,
          394,
          450,
          413,
          436,
          400,
          459,
          468,
          495,
          514,
          522,
          431,
          438,
          438,
          442,
          414,
          421,
          382,
          429,
          384,
          374,
          388,
          372,
          387,
          415,
          382,
          438,
          411,
          410,
          409,
          423,
          397,
          414,
          403,
          391,
          385,
          416,
          400,
          407,
          442,
          433,
          484,
          458,
          466,
          411,
          435,
          408,
          391,
          393,
          408,
          386,
          398,
          441,
          460,
          405,
          405,
          405,
          433,
          405,
          422,
          415,
          412,
          433,
          410,
          368,
          390,
          429,
          367,
          382,
          23
         ],
         "type": "scatter"
        },
        {
         "name": "Average",
         "x": [
          0,
          1,
          2,
          3,
          4,
          5,
          6,
          7,
          8,
          9,
          10,
          11,
          12,
          13,
          14,
          15,
          16,
          17,
          18,
          19,
          20,
          21,
          22,
          23,
          24,
          25,
          26,
          27,
          28,
          29,
          30,
          31,
          32,
          33,
          34,
          35,
          36,
          37,
          38,
          39,
          40,
          41,
          42,
          43,
          44,
          45,
          46,
          47,
          48,
          49,
          50,
          51,
          52,
          53,
          54,
          55,
          56,
          57,
          58,
          59,
          60,
          61,
          62,
          63,
          64,
          65,
          66,
          67,
          68,
          69,
          70,
          71,
          72,
          73,
          74,
          75,
          76,
          77,
          78,
          79,
          80,
          81,
          82,
          83,
          84,
          85
         ],
         "y": [
          282.0,
          323.0,
          322.3333333333333,
          323.6666666666667,
          321.3333333333333,
          309.3333333333333,
          307.3333333333333,
          311.3333333333333,
          321.3333333333333,
          321.6666666666667,
          334.6666666666667,
          360.0,
          396.0,
          413.0,
          423.0,
          416.0,
          428.6666666666667,
          419.0,
          433.0,
          416.3333333333333,
          431.6666666666667,
          442.3333333333333,
          474.0,
          492.3333333333333,
          510.3333333333333,
          489.0,
          463.6666666666667,
          435.6666666666667,
          439.3333333333333,
          431.3333333333333,
          425.6666666666667,
          405.6666666666667,
          410.6666666666667,
          398.3333333333333,
          395.6666666666667,
          382.0,
          378.0,
          382.3333333333333,
          391.3333333333333,
          394.6666666666667,
          411.6666666666667,
          410.3333333333333,
          419.6666666666667,
          410.0,
          414.0,
          409.6666666666667,
          411.3333333333333,
          404.6666666666667,
          402.6666666666667,
          393.0,
          397.3333333333333,
          400.3333333333333,
          407.6666666666667,
          416.3333333333333,
          427.3333333333333,
          453.0,
          458.3333333333333,
          469.3333333333333,
          445.0,
          437.3333333333333,
          418.0,
          411.3333333333333,
          397.3333333333333,
          397.3333333333333,
          395.6666666666667,
          397.3333333333333,
          408.3333333333333,
          433.0,
          435.3333333333333,
          423.3333333333333,
          405.0,
          414.3333333333333,
          414.3333333333333,
          420.0,
          414.0,
          416.3333333333333,
          420.0,
          418.3333333333333,
          403.6666666666667,
          389.3333333333333,
          395.6666666666667,
          395.3333333333333,
          392.6666666666667,
          257.3333333333333
         ],
         "type": "scatter"
        }
       ],
       "layout": {
        "template": {
         "data": {
          "histogram2dcontour": [
           {
            "type": "histogram2dcontour",
            "colorbar": {
             "outlinewidth": 0,
             "ticks": ""
            },
            "colorscale": [
             [
              0.0,
              "#0d0887"
             ],
             [
              0.1111111111111111,
              "#46039f"
             ],
             [
              0.2222222222222222,
              "#7201a8"
             ],
             [
              0.3333333333333333,
              "#9c179e"
             ],
             [
              0.4444444444444444,
              "#bd3786"
             ],
             [
              0.5555555555555556,
              "#d8576b"
             ],
             [
              0.6666666666666666,
              "#ed7953"
             ],
             [
              0.7777777777777778,
              "#fb9f3a"
             ],
             [
              0.8888888888888888,
              "#fdca26"
             ],
             [
              1.0,
              "#f0f921"
             ]
            ]
           }
          ],
          "choropleth": [
           {
            "type": "choropleth",
            "colorbar": {
             "outlinewidth": 0,
             "ticks": ""
            }
           }
          ],
          "histogram2d": [
           {
            "type": "histogram2d",
            "colorbar": {
             "outlinewidth": 0,
             "ticks": ""
            },
            "colorscale": [
             [
              0.0,
              "#0d0887"
             ],
             [
              0.1111111111111111,
              "#46039f"
             ],
             [
              0.2222222222222222,
              "#7201a8"
             ],
             [
              0.3333333333333333,
              "#9c179e"
             ],
             [
              0.4444444444444444,
              "#bd3786"
             ],
             [
              0.5555555555555556,
              "#d8576b"
             ],
             [
              0.6666666666666666,
              "#ed7953"
             ],
             [
              0.7777777777777778,
              "#fb9f3a"
             ],
             [
              0.8888888888888888,
              "#fdca26"
             ],
             [
              1.0,
              "#f0f921"
             ]
            ]
           }
          ],
          "heatmap": [
           {
            "type": "heatmap",
            "colorbar": {
             "outlinewidth": 0,
             "ticks": ""
            },
            "colorscale": [
             [
              0.0,
              "#0d0887"
             ],
             [
              0.1111111111111111,
              "#46039f"
             ],
             [
              0.2222222222222222,
              "#7201a8"
             ],
             [
              0.3333333333333333,
              "#9c179e"
             ],
             [
              0.4444444444444444,
              "#bd3786"
             ],
             [
              0.5555555555555556,
              "#d8576b"
             ],
             [
              0.6666666666666666,
              "#ed7953"
             ],
             [
              0.7777777777777778,
              "#fb9f3a"
             ],
             [
              0.8888888888888888,
              "#fdca26"
             ],
             [
              1.0,
              "#f0f921"
             ]
            ]
           }
          ],
          "heatmapgl": [
           {
            "type": "heatmapgl",
            "colorbar": {
             "outlinewidth": 0,
             "ticks": ""
            },
            "colorscale": [
             [
              0.0,
              "#0d0887"
             ],
             [
              0.1111111111111111,
              "#46039f"
             ],
             [
              0.2222222222222222,
              "#7201a8"
             ],
             [
              0.3333333333333333,
              "#9c179e"
             ],
             [
              0.4444444444444444,
              "#bd3786"
             ],
             [
              0.5555555555555556,
              "#d8576b"
             ],
             [
              0.6666666666666666,
              "#ed7953"
             ],
             [
              0.7777777777777778,
              "#fb9f3a"
             ],
             [
              0.8888888888888888,
              "#fdca26"
             ],
             [
              1.0,
              "#f0f921"
             ]
            ]
           }
          ],
          "contourcarpet": [
           {
            "type": "contourcarpet",
            "colorbar": {
             "outlinewidth": 0,
             "ticks": ""
            }
           }
          ],
          "contour": [
           {
            "type": "contour",
            "colorbar": {
             "outlinewidth": 0,
             "ticks": ""
            },
            "colorscale": [
             [
              0.0,
              "#0d0887"
             ],
             [
              0.1111111111111111,
              "#46039f"
             ],
             [
              0.2222222222222222,
              "#7201a8"
             ],
             [
              0.3333333333333333,
              "#9c179e"
             ],
             [
              0.4444444444444444,
              "#bd3786"
             ],
             [
              0.5555555555555556,
              "#d8576b"
             ],
             [
              0.6666666666666666,
              "#ed7953"
             ],
             [
              0.7777777777777778,
              "#fb9f3a"
             ],
             [
              0.8888888888888888,
              "#fdca26"
             ],
             [
              1.0,
              "#f0f921"
             ]
            ]
           }
          ],
          "surface": [
           {
            "type": "surface",
            "colorbar": {
             "outlinewidth": 0,
             "ticks": ""
            },
            "colorscale": [
             [
              0.0,
              "#0d0887"
             ],
             [
              0.1111111111111111,
              "#46039f"
             ],
             [
              0.2222222222222222,
              "#7201a8"
             ],
             [
              0.3333333333333333,
              "#9c179e"
             ],
             [
              0.4444444444444444,
              "#bd3786"
             ],
             [
              0.5555555555555556,
              "#d8576b"
             ],
             [
              0.6666666666666666,
              "#ed7953"
             ],
             [
              0.7777777777777778,
              "#fb9f3a"
             ],
             [
              0.8888888888888888,
              "#fdca26"
             ],
             [
              1.0,
              "#f0f921"
             ]
            ]
           }
          ],
          "mesh3d": [
           {
            "type": "mesh3d",
            "colorbar": {
             "outlinewidth": 0,
             "ticks": ""
            }
           }
          ],
          "scatter": [
           {
            "marker": {
             "line": {
              "color": "#283442"
             }
            },
            "type": "scatter"
           }
          ],
          "parcoords": [
           {
            "type": "parcoords",
            "line": {
             "colorbar": {
              "outlinewidth": 0,
              "ticks": ""
             }
            }
           }
          ],
          "scatterpolargl": [
           {
            "type": "scatterpolargl",
            "marker": {
             "colorbar": {
              "outlinewidth": 0,
              "ticks": ""
             }
            }
           }
          ],
          "bar": [
           {
            "error_x": {
             "color": "#f2f5fa"
            },
            "error_y": {
             "color": "#f2f5fa"
            },
            "marker": {
             "line": {
              "color": "rgb(17,17,17)",
              "width": 0.5
             },
             "pattern": {
              "fillmode": "overlay",
              "size": 10,
              "solidity": 0.2
             }
            },
            "type": "bar"
           }
          ],
          "scattergeo": [
           {
            "type": "scattergeo",
            "marker": {
             "colorbar": {
              "outlinewidth": 0,
              "ticks": ""
             }
            }
           }
          ],
          "scatterpolar": [
           {
            "type": "scatterpolar",
            "marker": {
             "colorbar": {
              "outlinewidth": 0,
              "ticks": ""
             }
            }
           }
          ],
          "histogram": [
           {
            "marker": {
             "pattern": {
              "fillmode": "overlay",
              "size": 10,
              "solidity": 0.2
             }
            },
            "type": "histogram"
           }
          ],
          "scattergl": [
           {
            "marker": {
             "line": {
              "color": "#283442"
             }
            },
            "type": "scattergl"
           }
          ],
          "scatter3d": [
           {
            "type": "scatter3d",
            "line": {
             "colorbar": {
              "outlinewidth": 0,
              "ticks": ""
             }
            },
            "marker": {
             "colorbar": {
              "outlinewidth": 0,
              "ticks": ""
             }
            }
           }
          ],
          "scattermapbox": [
           {
            "type": "scattermapbox",
            "marker": {
             "colorbar": {
              "outlinewidth": 0,
              "ticks": ""
             }
            }
           }
          ],
          "scatterternary": [
           {
            "type": "scatterternary",
            "marker": {
             "colorbar": {
              "outlinewidth": 0,
              "ticks": ""
             }
            }
           }
          ],
          "scattercarpet": [
           {
            "type": "scattercarpet",
            "marker": {
             "colorbar": {
              "outlinewidth": 0,
              "ticks": ""
             }
            }
           }
          ],
          "carpet": [
           {
            "aaxis": {
             "endlinecolor": "#A2B1C6",
             "gridcolor": "#506784",
             "linecolor": "#506784",
             "minorgridcolor": "#506784",
             "startlinecolor": "#A2B1C6"
            },
            "baxis": {
             "endlinecolor": "#A2B1C6",
             "gridcolor": "#506784",
             "linecolor": "#506784",
             "minorgridcolor": "#506784",
             "startlinecolor": "#A2B1C6"
            },
            "type": "carpet"
           }
          ],
          "table": [
           {
            "cells": {
             "fill": {
              "color": "#506784"
             },
             "line": {
              "color": "rgb(17,17,17)"
             }
            },
            "header": {
             "fill": {
              "color": "#2a3f5f"
             },
             "line": {
              "color": "rgb(17,17,17)"
             }
            },
            "type": "table"
           }
          ],
          "barpolar": [
           {
            "marker": {
             "line": {
              "color": "rgb(17,17,17)",
              "width": 0.5
             },
             "pattern": {
              "fillmode": "overlay",
              "size": 10,
              "solidity": 0.2
             }
            },
            "type": "barpolar"
           }
          ],
          "pie": [
           {
            "automargin": true,
            "type": "pie"
           }
          ]
         },
         "layout": {
          "autotypenumbers": "strict",
          "colorway": [
           "#636efa",
           "#EF553B",
           "#00cc96",
           "#ab63fa",
           "#FFA15A",
           "#19d3f3",
           "#FF6692",
           "#B6E880",
           "#FF97FF",
           "#FECB52"
          ],
          "font": {
           "color": "#f2f5fa"
          },
          "hovermode": "closest",
          "hoverlabel": {
           "align": "left"
          },
          "paper_bgcolor": "rgb(17,17,17)",
          "plot_bgcolor": "rgb(17,17,17)",
          "polar": {
           "bgcolor": "rgb(17,17,17)",
           "angularaxis": {
            "gridcolor": "#506784",
            "linecolor": "#506784",
            "ticks": ""
           },
           "radialaxis": {
            "gridcolor": "#506784",
            "linecolor": "#506784",
            "ticks": ""
           }
          },
          "ternary": {
           "bgcolor": "rgb(17,17,17)",
           "aaxis": {
            "gridcolor": "#506784",
            "linecolor": "#506784",
            "ticks": ""
           },
           "baxis": {
            "gridcolor": "#506784",
            "linecolor": "#506784",
            "ticks": ""
           },
           "caxis": {
            "gridcolor": "#506784",
            "linecolor": "#506784",
            "ticks": ""
           }
          },
          "coloraxis": {
           "colorbar": {
            "outlinewidth": 0,
            "ticks": ""
           }
          },
          "colorscale": {
           "sequential": [
            [
             0.0,
             "#0d0887"
            ],
            [
             0.1111111111111111,
             "#46039f"
            ],
            [
             0.2222222222222222,
             "#7201a8"
            ],
            [
             0.3333333333333333,
             "#9c179e"
            ],
            [
             0.4444444444444444,
             "#bd3786"
            ],
            [
             0.5555555555555556,
             "#d8576b"
            ],
            [
             0.6666666666666666,
             "#ed7953"
            ],
            [
             0.7777777777777778,
             "#fb9f3a"
            ],
            [
             0.8888888888888888,
             "#fdca26"
            ],
            [
             1.0,
             "#f0f921"
            ]
           ],
           "sequentialminus": [
            [
             0.0,
             "#0d0887"
            ],
            [
             0.1111111111111111,
             "#46039f"
            ],
            [
             0.2222222222222222,
             "#7201a8"
            ],
            [
             0.3333333333333333,
             "#9c179e"
            ],
            [
             0.4444444444444444,
             "#bd3786"
            ],
            [
             0.5555555555555556,
             "#d8576b"
            ],
            [
             0.6666666666666666,
             "#ed7953"
            ],
            [
             0.7777777777777778,
             "#fb9f3a"
            ],
            [
             0.8888888888888888,
             "#fdca26"
            ],
            [
             1.0,
             "#f0f921"
            ]
           ],
           "diverging": [
            [
             0,
             "#8e0152"
            ],
            [
             0.1,
             "#c51b7d"
            ],
            [
             0.2,
             "#de77ae"
            ],
            [
             0.3,
             "#f1b6da"
            ],
            [
             0.4,
             "#fde0ef"
            ],
            [
             0.5,
             "#f7f7f7"
            ],
            [
             0.6,
             "#e6f5d0"
            ],
            [
             0.7,
             "#b8e186"
            ],
            [
             0.8,
             "#7fbc41"
            ],
            [
             0.9,
             "#4d9221"
            ],
            [
             1,
             "#276419"
            ]
           ]
          },
          "xaxis": {
           "gridcolor": "#283442",
           "linecolor": "#506784",
           "ticks": "",
           "title": {
            "standoff": 15
           },
           "zerolinecolor": "#283442",
           "automargin": true,
           "zerolinewidth": 2
          },
          "yaxis": {
           "gridcolor": "#283442",
           "linecolor": "#506784",
           "ticks": "",
           "title": {
            "standoff": 15
           },
           "zerolinecolor": "#283442",
           "automargin": true,
           "zerolinewidth": 2
          },
          "scene": {
           "xaxis": {
            "backgroundcolor": "rgb(17,17,17)",
            "gridcolor": "#506784",
            "linecolor": "#506784",
            "showbackground": true,
            "ticks": "",
            "zerolinecolor": "#C8D4E3",
            "gridwidth": 2
           },
           "yaxis": {
            "backgroundcolor": "rgb(17,17,17)",
            "gridcolor": "#506784",
            "linecolor": "#506784",
            "showbackground": true,
            "ticks": "",
            "zerolinecolor": "#C8D4E3",
            "gridwidth": 2
           },
           "zaxis": {
            "backgroundcolor": "rgb(17,17,17)",
            "gridcolor": "#506784",
            "linecolor": "#506784",
            "showbackground": true,
            "ticks": "",
            "zerolinecolor": "#C8D4E3",
            "gridwidth": 2
           }
          },
          "shapedefaults": {
           "line": {
            "color": "#f2f5fa"
           }
          },
          "annotationdefaults": {
           "arrowcolor": "#f2f5fa",
           "arrowhead": 0,
           "arrowwidth": 1
          },
          "geo": {
           "bgcolor": "rgb(17,17,17)",
           "landcolor": "rgb(17,17,17)",
           "subunitcolor": "#506784",
           "showland": true,
           "showlakes": true,
           "lakecolor": "rgb(17,17,17)"
          },
          "title": {
           "x": 0.05
          },
          "updatemenudefaults": {
           "bgcolor": "#506784",
           "borderwidth": 0
          },
          "sliderdefaults": {
           "bgcolor": "#C8D4E3",
           "borderwidth": 1,
           "bordercolor": "rgb(17,17,17)",
           "tickwidth": 0
          },
          "mapbox": {
           "style": "dark"
          }
         }
        },
        "width": 1024,
        "height": 500,
        "title": {
         "text": "Dataset of crimes in "
        },
        "xaxis": {
         "title": {
          "text": "Weeks"
         }
        },
        "yaxis": {
         "title": {
          "text": "Number of crimes"
         }
        }
       },
       "config": {
        "plotlyServerURL": "https://plot.ly"
       }
      },
      "text/html": "<div>                            <div id=\"9244d86b-e6e4-4c82-bc0c-cf4200ac79b4\" class=\"plotly-graph-div\" style=\"height:500px; width:1024px;\"></div>            <script type=\"text/javascript\">                require([\"plotly\"], function(Plotly) {                    window.PLOTLYENV=window.PLOTLYENV || {};                                    if (document.getElementById(\"9244d86b-e6e4-4c82-bc0c-cf4200ac79b4\")) {                    Plotly.newPlot(                        \"9244d86b-e6e4-4c82-bc0c-cf4200ac79b4\",                        [{\"name\":\"Dataset\",\"x\":[0,1,2,3,4,5,6,7,8,9,10,11,12,13,14,15,16,17,18,19,20,21,22,23,24,25,26,27,28,29,30,31,32,33,34,35,36,37,38,39,40,41,42,43,44,45,46,47,48,49,50,51,52,53,54,55,56,57,58,59,60,61,62,63,64,65,66,67,68,69,70,71,72,73,74,75,76,77,78,79,80,81,82,83,84,85],\"y\":[194,344,308,317,342,312,310,306,306,322,336,307,361,412,415,412,442,394,450,413,436,400,459,468,495,514,522,431,438,438,442,414,421,382,429,384,374,388,372,387,415,382,438,411,410,409,423,397,414,403,391,385,416,400,407,442,433,484,458,466,411,435,408,391,393,408,386,398,441,460,405,405,405,433,405,422,415,412,433,410,368,390,429,367,382,23],\"type\":\"scatter\"},{\"name\":\"Average\",\"x\":[0,1,2,3,4,5,6,7,8,9,10,11,12,13,14,15,16,17,18,19,20,21,22,23,24,25,26,27,28,29,30,31,32,33,34,35,36,37,38,39,40,41,42,43,44,45,46,47,48,49,50,51,52,53,54,55,56,57,58,59,60,61,62,63,64,65,66,67,68,69,70,71,72,73,74,75,76,77,78,79,80,81,82,83,84,85],\"y\":[282.0,323.0,322.3333333333333,323.6666666666667,321.3333333333333,309.3333333333333,307.3333333333333,311.3333333333333,321.3333333333333,321.6666666666667,334.6666666666667,360.0,396.0,413.0,423.0,416.0,428.6666666666667,419.0,433.0,416.3333333333333,431.6666666666667,442.3333333333333,474.0,492.3333333333333,510.3333333333333,489.0,463.6666666666667,435.6666666666667,439.3333333333333,431.3333333333333,425.6666666666667,405.6666666666667,410.6666666666667,398.3333333333333,395.6666666666667,382.0,378.0,382.3333333333333,391.3333333333333,394.6666666666667,411.6666666666667,410.3333333333333,419.6666666666667,410.0,414.0,409.6666666666667,411.3333333333333,404.6666666666667,402.6666666666667,393.0,397.3333333333333,400.3333333333333,407.6666666666667,416.3333333333333,427.3333333333333,453.0,458.3333333333333,469.3333333333333,445.0,437.3333333333333,418.0,411.3333333333333,397.3333333333333,397.3333333333333,395.6666666666667,397.3333333333333,408.3333333333333,433.0,435.3333333333333,423.3333333333333,405.0,414.3333333333333,414.3333333333333,420.0,414.0,416.3333333333333,420.0,418.3333333333333,403.6666666666667,389.3333333333333,395.6666666666667,395.3333333333333,392.6666666666667,257.3333333333333],\"type\":\"scatter\"}],                        {\"template\":{\"data\":{\"histogram2dcontour\":[{\"type\":\"histogram2dcontour\",\"colorbar\":{\"outlinewidth\":0,\"ticks\":\"\"},\"colorscale\":[[0.0,\"#0d0887\"],[0.1111111111111111,\"#46039f\"],[0.2222222222222222,\"#7201a8\"],[0.3333333333333333,\"#9c179e\"],[0.4444444444444444,\"#bd3786\"],[0.5555555555555556,\"#d8576b\"],[0.6666666666666666,\"#ed7953\"],[0.7777777777777778,\"#fb9f3a\"],[0.8888888888888888,\"#fdca26\"],[1.0,\"#f0f921\"]]}],\"choropleth\":[{\"type\":\"choropleth\",\"colorbar\":{\"outlinewidth\":0,\"ticks\":\"\"}}],\"histogram2d\":[{\"type\":\"histogram2d\",\"colorbar\":{\"outlinewidth\":0,\"ticks\":\"\"},\"colorscale\":[[0.0,\"#0d0887\"],[0.1111111111111111,\"#46039f\"],[0.2222222222222222,\"#7201a8\"],[0.3333333333333333,\"#9c179e\"],[0.4444444444444444,\"#bd3786\"],[0.5555555555555556,\"#d8576b\"],[0.6666666666666666,\"#ed7953\"],[0.7777777777777778,\"#fb9f3a\"],[0.8888888888888888,\"#fdca26\"],[1.0,\"#f0f921\"]]}],\"heatmap\":[{\"type\":\"heatmap\",\"colorbar\":{\"outlinewidth\":0,\"ticks\":\"\"},\"colorscale\":[[0.0,\"#0d0887\"],[0.1111111111111111,\"#46039f\"],[0.2222222222222222,\"#7201a8\"],[0.3333333333333333,\"#9c179e\"],[0.4444444444444444,\"#bd3786\"],[0.5555555555555556,\"#d8576b\"],[0.6666666666666666,\"#ed7953\"],[0.7777777777777778,\"#fb9f3a\"],[0.8888888888888888,\"#fdca26\"],[1.0,\"#f0f921\"]]}],\"heatmapgl\":[{\"type\":\"heatmapgl\",\"colorbar\":{\"outlinewidth\":0,\"ticks\":\"\"},\"colorscale\":[[0.0,\"#0d0887\"],[0.1111111111111111,\"#46039f\"],[0.2222222222222222,\"#7201a8\"],[0.3333333333333333,\"#9c179e\"],[0.4444444444444444,\"#bd3786\"],[0.5555555555555556,\"#d8576b\"],[0.6666666666666666,\"#ed7953\"],[0.7777777777777778,\"#fb9f3a\"],[0.8888888888888888,\"#fdca26\"],[1.0,\"#f0f921\"]]}],\"contourcarpet\":[{\"type\":\"contourcarpet\",\"colorbar\":{\"outlinewidth\":0,\"ticks\":\"\"}}],\"contour\":[{\"type\":\"contour\",\"colorbar\":{\"outlinewidth\":0,\"ticks\":\"\"},\"colorscale\":[[0.0,\"#0d0887\"],[0.1111111111111111,\"#46039f\"],[0.2222222222222222,\"#7201a8\"],[0.3333333333333333,\"#9c179e\"],[0.4444444444444444,\"#bd3786\"],[0.5555555555555556,\"#d8576b\"],[0.6666666666666666,\"#ed7953\"],[0.7777777777777778,\"#fb9f3a\"],[0.8888888888888888,\"#fdca26\"],[1.0,\"#f0f921\"]]}],\"surface\":[{\"type\":\"surface\",\"colorbar\":{\"outlinewidth\":0,\"ticks\":\"\"},\"colorscale\":[[0.0,\"#0d0887\"],[0.1111111111111111,\"#46039f\"],[0.2222222222222222,\"#7201a8\"],[0.3333333333333333,\"#9c179e\"],[0.4444444444444444,\"#bd3786\"],[0.5555555555555556,\"#d8576b\"],[0.6666666666666666,\"#ed7953\"],[0.7777777777777778,\"#fb9f3a\"],[0.8888888888888888,\"#fdca26\"],[1.0,\"#f0f921\"]]}],\"mesh3d\":[{\"type\":\"mesh3d\",\"colorbar\":{\"outlinewidth\":0,\"ticks\":\"\"}}],\"scatter\":[{\"marker\":{\"line\":{\"color\":\"#283442\"}},\"type\":\"scatter\"}],\"parcoords\":[{\"type\":\"parcoords\",\"line\":{\"colorbar\":{\"outlinewidth\":0,\"ticks\":\"\"}}}],\"scatterpolargl\":[{\"type\":\"scatterpolargl\",\"marker\":{\"colorbar\":{\"outlinewidth\":0,\"ticks\":\"\"}}}],\"bar\":[{\"error_x\":{\"color\":\"#f2f5fa\"},\"error_y\":{\"color\":\"#f2f5fa\"},\"marker\":{\"line\":{\"color\":\"rgb(17,17,17)\",\"width\":0.5},\"pattern\":{\"fillmode\":\"overlay\",\"size\":10,\"solidity\":0.2}},\"type\":\"bar\"}],\"scattergeo\":[{\"type\":\"scattergeo\",\"marker\":{\"colorbar\":{\"outlinewidth\":0,\"ticks\":\"\"}}}],\"scatterpolar\":[{\"type\":\"scatterpolar\",\"marker\":{\"colorbar\":{\"outlinewidth\":0,\"ticks\":\"\"}}}],\"histogram\":[{\"marker\":{\"pattern\":{\"fillmode\":\"overlay\",\"size\":10,\"solidity\":0.2}},\"type\":\"histogram\"}],\"scattergl\":[{\"marker\":{\"line\":{\"color\":\"#283442\"}},\"type\":\"scattergl\"}],\"scatter3d\":[{\"type\":\"scatter3d\",\"line\":{\"colorbar\":{\"outlinewidth\":0,\"ticks\":\"\"}},\"marker\":{\"colorbar\":{\"outlinewidth\":0,\"ticks\":\"\"}}}],\"scattermapbox\":[{\"type\":\"scattermapbox\",\"marker\":{\"colorbar\":{\"outlinewidth\":0,\"ticks\":\"\"}}}],\"scatterternary\":[{\"type\":\"scatterternary\",\"marker\":{\"colorbar\":{\"outlinewidth\":0,\"ticks\":\"\"}}}],\"scattercarpet\":[{\"type\":\"scattercarpet\",\"marker\":{\"colorbar\":{\"outlinewidth\":0,\"ticks\":\"\"}}}],\"carpet\":[{\"aaxis\":{\"endlinecolor\":\"#A2B1C6\",\"gridcolor\":\"#506784\",\"linecolor\":\"#506784\",\"minorgridcolor\":\"#506784\",\"startlinecolor\":\"#A2B1C6\"},\"baxis\":{\"endlinecolor\":\"#A2B1C6\",\"gridcolor\":\"#506784\",\"linecolor\":\"#506784\",\"minorgridcolor\":\"#506784\",\"startlinecolor\":\"#A2B1C6\"},\"type\":\"carpet\"}],\"table\":[{\"cells\":{\"fill\":{\"color\":\"#506784\"},\"line\":{\"color\":\"rgb(17,17,17)\"}},\"header\":{\"fill\":{\"color\":\"#2a3f5f\"},\"line\":{\"color\":\"rgb(17,17,17)\"}},\"type\":\"table\"}],\"barpolar\":[{\"marker\":{\"line\":{\"color\":\"rgb(17,17,17)\",\"width\":0.5},\"pattern\":{\"fillmode\":\"overlay\",\"size\":10,\"solidity\":0.2}},\"type\":\"barpolar\"}],\"pie\":[{\"automargin\":true,\"type\":\"pie\"}]},\"layout\":{\"autotypenumbers\":\"strict\",\"colorway\":[\"#636efa\",\"#EF553B\",\"#00cc96\",\"#ab63fa\",\"#FFA15A\",\"#19d3f3\",\"#FF6692\",\"#B6E880\",\"#FF97FF\",\"#FECB52\"],\"font\":{\"color\":\"#f2f5fa\"},\"hovermode\":\"closest\",\"hoverlabel\":{\"align\":\"left\"},\"paper_bgcolor\":\"rgb(17,17,17)\",\"plot_bgcolor\":\"rgb(17,17,17)\",\"polar\":{\"bgcolor\":\"rgb(17,17,17)\",\"angularaxis\":{\"gridcolor\":\"#506784\",\"linecolor\":\"#506784\",\"ticks\":\"\"},\"radialaxis\":{\"gridcolor\":\"#506784\",\"linecolor\":\"#506784\",\"ticks\":\"\"}},\"ternary\":{\"bgcolor\":\"rgb(17,17,17)\",\"aaxis\":{\"gridcolor\":\"#506784\",\"linecolor\":\"#506784\",\"ticks\":\"\"},\"baxis\":{\"gridcolor\":\"#506784\",\"linecolor\":\"#506784\",\"ticks\":\"\"},\"caxis\":{\"gridcolor\":\"#506784\",\"linecolor\":\"#506784\",\"ticks\":\"\"}},\"coloraxis\":{\"colorbar\":{\"outlinewidth\":0,\"ticks\":\"\"}},\"colorscale\":{\"sequential\":[[0.0,\"#0d0887\"],[0.1111111111111111,\"#46039f\"],[0.2222222222222222,\"#7201a8\"],[0.3333333333333333,\"#9c179e\"],[0.4444444444444444,\"#bd3786\"],[0.5555555555555556,\"#d8576b\"],[0.6666666666666666,\"#ed7953\"],[0.7777777777777778,\"#fb9f3a\"],[0.8888888888888888,\"#fdca26\"],[1.0,\"#f0f921\"]],\"sequentialminus\":[[0.0,\"#0d0887\"],[0.1111111111111111,\"#46039f\"],[0.2222222222222222,\"#7201a8\"],[0.3333333333333333,\"#9c179e\"],[0.4444444444444444,\"#bd3786\"],[0.5555555555555556,\"#d8576b\"],[0.6666666666666666,\"#ed7953\"],[0.7777777777777778,\"#fb9f3a\"],[0.8888888888888888,\"#fdca26\"],[1.0,\"#f0f921\"]],\"diverging\":[[0,\"#8e0152\"],[0.1,\"#c51b7d\"],[0.2,\"#de77ae\"],[0.3,\"#f1b6da\"],[0.4,\"#fde0ef\"],[0.5,\"#f7f7f7\"],[0.6,\"#e6f5d0\"],[0.7,\"#b8e186\"],[0.8,\"#7fbc41\"],[0.9,\"#4d9221\"],[1,\"#276419\"]]},\"xaxis\":{\"gridcolor\":\"#283442\",\"linecolor\":\"#506784\",\"ticks\":\"\",\"title\":{\"standoff\":15},\"zerolinecolor\":\"#283442\",\"automargin\":true,\"zerolinewidth\":2},\"yaxis\":{\"gridcolor\":\"#283442\",\"linecolor\":\"#506784\",\"ticks\":\"\",\"title\":{\"standoff\":15},\"zerolinecolor\":\"#283442\",\"automargin\":true,\"zerolinewidth\":2},\"scene\":{\"xaxis\":{\"backgroundcolor\":\"rgb(17,17,17)\",\"gridcolor\":\"#506784\",\"linecolor\":\"#506784\",\"showbackground\":true,\"ticks\":\"\",\"zerolinecolor\":\"#C8D4E3\",\"gridwidth\":2},\"yaxis\":{\"backgroundcolor\":\"rgb(17,17,17)\",\"gridcolor\":\"#506784\",\"linecolor\":\"#506784\",\"showbackground\":true,\"ticks\":\"\",\"zerolinecolor\":\"#C8D4E3\",\"gridwidth\":2},\"zaxis\":{\"backgroundcolor\":\"rgb(17,17,17)\",\"gridcolor\":\"#506784\",\"linecolor\":\"#506784\",\"showbackground\":true,\"ticks\":\"\",\"zerolinecolor\":\"#C8D4E3\",\"gridwidth\":2}},\"shapedefaults\":{\"line\":{\"color\":\"#f2f5fa\"}},\"annotationdefaults\":{\"arrowcolor\":\"#f2f5fa\",\"arrowhead\":0,\"arrowwidth\":1},\"geo\":{\"bgcolor\":\"rgb(17,17,17)\",\"landcolor\":\"rgb(17,17,17)\",\"subunitcolor\":\"#506784\",\"showland\":true,\"showlakes\":true,\"lakecolor\":\"rgb(17,17,17)\"},\"title\":{\"x\":0.05},\"updatemenudefaults\":{\"bgcolor\":\"#506784\",\"borderwidth\":0},\"sliderdefaults\":{\"bgcolor\":\"#C8D4E3\",\"borderwidth\":1,\"bordercolor\":\"rgb(17,17,17)\",\"tickwidth\":0},\"mapbox\":{\"style\":\"dark\"}}},\"width\":1024,\"height\":500,\"title\":{\"text\":\"Dataset of crimes in \"},\"xaxis\":{\"title\":{\"text\":\"Weeks\"}},\"yaxis\":{\"title\":{\"text\":\"Number of crimes\"}}},                        {\"responsive\": true}                    ).then(function(){\n                            \nvar gd = document.getElementById('9244d86b-e6e4-4c82-bc0c-cf4200ac79b4');\nvar x = new MutationObserver(function (mutations, observer) {{\n        var display = window.getComputedStyle(gd).display;\n        if (!display || display === 'none') {{\n            console.log([gd, 'removed!']);\n            Plotly.purge(gd);\n            observer.disconnect();\n        }}\n}});\n\n// Listen for the removal of the full notebook cells\nvar notebookContainer = gd.closest('#notebook-container');\nif (notebookContainer) {{\n    x.observe(notebookContainer, {childList: true});\n}}\n\n// Listen for the clearing of the current output cell\nvar outputEl = gd.closest('.output');\nif (outputEl) {{\n    x.observe(outputEl, {childList: true});\n}}\n\n                        })                };                });            </script>        </div>"
     },
     "metadata": {},
     "output_type": "display_data"
    }
   ],
   "source": [
    "list_graphs = []\n",
    "graph_1 = go.Scatter(x=list(range(0,len(df1))),y=df1.flatten(),name=\"Dataset\")\n",
    "list_graphs.append(graph_1)\n",
    "average = moving_average(df1)\n",
    "graph_2 = go.Scatter(x=list(range(0,len(df1))),y=average,name=\"Average\")\n",
    "list_graphs.append(graph_2)\n",
    "fig = go.Figure(data=list_graphs)\n",
    "fig.update_layout(width=1024,height=500,title=\"Dataset of crimes in \",xaxis=dict(title='Weeks'),yaxis=dict(title='Number of crimes'))\n",
    "\n",
    "fig.show()"
   ],
   "metadata": {
    "collapsed": false,
    "ExecuteTime": {
     "end_time": "2023-11-26T19:09:44.320446Z",
     "start_time": "2023-11-26T19:09:44.278582Z"
    }
   }
  },
  {
   "cell_type": "code",
   "execution_count": 449,
   "outputs": [],
   "source": [
    "scaler = MinMaxScaler()\n",
    "df1 = scaler.fit_transform(df1)"
   ],
   "metadata": {
    "collapsed": false,
    "ExecuteTime": {
     "end_time": "2023-11-26T19:09:44.320733Z",
     "start_time": "2023-11-26T19:09:44.289499Z"
    }
   }
  },
  {
   "cell_type": "code",
   "execution_count": 450,
   "outputs": [
    {
     "name": "stdout",
     "output_type": "stream",
     "text": [
      "60\n",
      "26\n"
     ]
    }
   ],
   "source": [
    "# dataset_510['DATE OCC'] = pd.to_datetime(dataset_510['DATE OCC']) - pd.to_timedelta(7, unit='d')\n",
    "\n",
    "df1\n",
    "train_size = int(len(df1) * 0.7)\n",
    "print(train_size)\n",
    "test_size = len(df1) - train_size\n",
    "print(test_size)\n",
    "train, test = df1[0:train_size,:], df1[train_size:len(df1),:]\n",
    "\n",
    "# df1 = df1.drop(['DATE'], axis=1, index=None, columns=None, level=None, inplace=False, errors='raise')\\"
   ],
   "metadata": {
    "collapsed": false,
    "ExecuteTime": {
     "end_time": "2023-11-26T19:09:44.345419Z",
     "start_time": "2023-11-26T19:09:44.299908Z"
    }
   }
  },
  {
   "cell_type": "code",
   "execution_count": 451,
   "outputs": [],
   "source": [
    "def create_dataset(dataset, look_back=1):\n",
    "    dataX, dataY = [], []\n",
    "    for i in range(len(dataset)-look_back):\n",
    "        a = dataset[i:(i+look_back),0]\n",
    "        dataX.append(a)\n",
    "        dataY.append(dataset[i + look_back,0])\n",
    "    return np.array(dataX), np.array(dataY)"
   ],
   "metadata": {
    "collapsed": false,
    "ExecuteTime": {
     "end_time": "2023-11-26T19:09:44.346178Z",
     "start_time": "2023-11-26T19:09:44.311392Z"
    }
   }
  },
  {
   "cell_type": "code",
   "execution_count": 452,
   "outputs": [],
   "source": [
    "# I make my dataset\n",
    "look_back = 1\n",
    "trainX, trainY = create_dataset(train, look_back)\n",
    "testX, testY = create_dataset(test, look_back)"
   ],
   "metadata": {
    "collapsed": false,
    "ExecuteTime": {
     "end_time": "2023-11-26T19:09:44.346428Z",
     "start_time": "2023-11-26T19:09:44.316765Z"
    }
   }
  },
  {
   "cell_type": "code",
   "execution_count": 453,
   "outputs": [
    {
     "data": {
      "text/plain": "((59, 1), (59,), (25, 1), (25,))"
     },
     "execution_count": 453,
     "metadata": {},
     "output_type": "execute_result"
    }
   ],
   "source": [
    "trainX.shape, trainY.shape, testX.shape, testY.shape"
   ],
   "metadata": {
    "collapsed": false,
    "ExecuteTime": {
     "end_time": "2023-11-26T19:09:44.347281Z",
     "start_time": "2023-11-26T19:09:44.324306Z"
    }
   }
  },
  {
   "cell_type": "code",
   "execution_count": 454,
   "outputs": [],
   "source": [
    "trainX = np.reshape(trainX, (trainX.shape[0],1, trainX.shape[1]))\n",
    "testX = np.reshape(testX, (testX.shape[0],1, testX.shape[1]))"
   ],
   "metadata": {
    "collapsed": false,
    "ExecuteTime": {
     "end_time": "2023-11-26T19:09:44.347355Z",
     "start_time": "2023-11-26T19:09:44.330802Z"
    }
   }
  },
  {
   "cell_type": "code",
   "execution_count": 455,
   "outputs": [
    {
     "name": "stdout",
     "output_type": "stream",
     "text": [
      "Epoch 1/500\n",
      "15/15 [==============================] - 2s 2ms/step - loss: 0.5503\n",
      "Epoch 2/500\n",
      "15/15 [==============================] - 0s 1ms/step - loss: 0.4939\n",
      "Epoch 3/500\n",
      "15/15 [==============================] - 0s 1ms/step - loss: 0.4438\n",
      "Epoch 4/500\n",
      "15/15 [==============================] - 0s 2ms/step - loss: 0.3946\n",
      "Epoch 5/500\n",
      "15/15 [==============================] - 0s 1ms/step - loss: 0.3459\n",
      "Epoch 6/500\n",
      "15/15 [==============================] - 0s 1ms/step - loss: 0.2976\n",
      "Epoch 7/500\n",
      "15/15 [==============================] - 0s 1ms/step - loss: 0.2496\n",
      "Epoch 8/500\n",
      "15/15 [==============================] - 0s 1ms/step - loss: 0.2024\n",
      "Epoch 9/500\n",
      "15/15 [==============================] - 0s 1ms/step - loss: 0.1580\n",
      "Epoch 10/500\n",
      "15/15 [==============================] - 0s 1ms/step - loss: 0.1174\n",
      "Epoch 11/500\n",
      "15/15 [==============================] - 0s 1ms/step - loss: 0.0819\n",
      "Epoch 12/500\n",
      "15/15 [==============================] - 0s 1ms/step - loss: 0.0521\n",
      "Epoch 13/500\n",
      "15/15 [==============================] - 0s 1ms/step - loss: 0.0300\n",
      "Epoch 14/500\n",
      "15/15 [==============================] - 0s 1ms/step - loss: 0.0160\n",
      "Epoch 15/500\n",
      "15/15 [==============================] - 0s 1ms/step - loss: 0.0088\n",
      "Epoch 16/500\n",
      "15/15 [==============================] - 0s 1ms/step - loss: 0.0069\n",
      "Epoch 17/500\n",
      "15/15 [==============================] - 0s 1ms/step - loss: 0.0068\n",
      "Epoch 18/500\n",
      "15/15 [==============================] - 0s 1ms/step - loss: 0.0067\n",
      "Epoch 19/500\n",
      "15/15 [==============================] - 0s 1ms/step - loss: 0.0067\n",
      "Epoch 20/500\n",
      "15/15 [==============================] - 0s 1ms/step - loss: 0.0068\n",
      "Epoch 21/500\n",
      "15/15 [==============================] - 0s 1ms/step - loss: 0.0066\n",
      "Epoch 22/500\n",
      "15/15 [==============================] - 0s 1ms/step - loss: 0.0066\n",
      "Epoch 23/500\n",
      "15/15 [==============================] - 0s 1ms/step - loss: 0.0066\n",
      "Epoch 24/500\n",
      "15/15 [==============================] - 0s 1ms/step - loss: 0.0065\n",
      "Epoch 25/500\n",
      "15/15 [==============================] - 0s 1ms/step - loss: 0.0063\n",
      "Epoch 26/500\n",
      "15/15 [==============================] - 0s 1ms/step - loss: 0.0065\n",
      "Epoch 27/500\n",
      "15/15 [==============================] - 0s 1ms/step - loss: 0.0062\n",
      "Epoch 28/500\n",
      "15/15 [==============================] - 0s 1ms/step - loss: 0.0063\n",
      "Epoch 29/500\n",
      "15/15 [==============================] - 0s 1ms/step - loss: 0.0062\n",
      "Epoch 30/500\n",
      "15/15 [==============================] - 0s 1ms/step - loss: 0.0063\n",
      "Epoch 31/500\n",
      "15/15 [==============================] - 0s 1ms/step - loss: 0.0061\n",
      "Epoch 32/500\n",
      "15/15 [==============================] - 0s 1ms/step - loss: 0.0062\n",
      "Epoch 33/500\n",
      "15/15 [==============================] - 0s 1ms/step - loss: 0.0060\n",
      "Epoch 34/500\n",
      "15/15 [==============================] - 0s 1ms/step - loss: 0.0061\n",
      "Epoch 35/500\n",
      "15/15 [==============================] - 0s 1ms/step - loss: 0.0060\n",
      "Epoch 36/500\n",
      "15/15 [==============================] - 0s 1ms/step - loss: 0.0060\n",
      "Epoch 37/500\n",
      "15/15 [==============================] - 0s 1ms/step - loss: 0.0059\n",
      "Epoch 38/500\n",
      "15/15 [==============================] - 0s 1ms/step - loss: 0.0060\n",
      "Epoch 39/500\n",
      "15/15 [==============================] - 0s 1ms/step - loss: 0.0059\n",
      "Epoch 40/500\n",
      "15/15 [==============================] - 0s 1ms/step - loss: 0.0059\n",
      "Epoch 41/500\n",
      "15/15 [==============================] - 0s 1ms/step - loss: 0.0057\n",
      "Epoch 42/500\n",
      "15/15 [==============================] - 0s 1ms/step - loss: 0.0057\n",
      "Epoch 43/500\n",
      "15/15 [==============================] - 0s 1ms/step - loss: 0.0057\n",
      "Epoch 44/500\n",
      "15/15 [==============================] - 0s 1ms/step - loss: 0.0057\n",
      "Epoch 45/500\n",
      "15/15 [==============================] - 0s 1ms/step - loss: 0.0056\n",
      "Epoch 46/500\n",
      "15/15 [==============================] - 0s 1ms/step - loss: 0.0056\n",
      "Epoch 47/500\n",
      "15/15 [==============================] - 0s 1ms/step - loss: 0.0056\n",
      "Epoch 48/500\n",
      "15/15 [==============================] - 0s 1ms/step - loss: 0.0055\n",
      "Epoch 49/500\n",
      "15/15 [==============================] - 0s 1ms/step - loss: 0.0055\n",
      "Epoch 50/500\n",
      "15/15 [==============================] - 0s 1ms/step - loss: 0.0054\n",
      "Epoch 51/500\n",
      "15/15 [==============================] - 0s 1ms/step - loss: 0.0055\n",
      "Epoch 52/500\n",
      "15/15 [==============================] - 0s 1ms/step - loss: 0.0053\n",
      "Epoch 53/500\n",
      "15/15 [==============================] - 0s 1ms/step - loss: 0.0053\n",
      "Epoch 54/500\n",
      "15/15 [==============================] - 0s 2ms/step - loss: 0.0054\n",
      "Epoch 55/500\n",
      "15/15 [==============================] - 0s 1ms/step - loss: 0.0053\n",
      "Epoch 56/500\n",
      "15/15 [==============================] - 0s 2ms/step - loss: 0.0053\n",
      "Epoch 57/500\n",
      "15/15 [==============================] - 0s 2ms/step - loss: 0.0052\n",
      "Epoch 58/500\n",
      "15/15 [==============================] - 0s 2ms/step - loss: 0.0052\n",
      "Epoch 59/500\n",
      "15/15 [==============================] - 0s 1ms/step - loss: 0.0051\n",
      "Epoch 60/500\n",
      "15/15 [==============================] - 0s 2ms/step - loss: 0.0051\n",
      "Epoch 61/500\n",
      "15/15 [==============================] - 0s 2ms/step - loss: 0.0051\n",
      "Epoch 62/500\n",
      "15/15 [==============================] - 0s 1ms/step - loss: 0.0051\n",
      "Epoch 63/500\n",
      "15/15 [==============================] - 0s 1ms/step - loss: 0.0050\n",
      "Epoch 64/500\n",
      "15/15 [==============================] - 0s 2ms/step - loss: 0.0050\n",
      "Epoch 65/500\n",
      "15/15 [==============================] - 0s 2ms/step - loss: 0.0050\n",
      "Epoch 66/500\n",
      "15/15 [==============================] - 0s 2ms/step - loss: 0.0049\n",
      "Epoch 67/500\n",
      "15/15 [==============================] - 0s 1ms/step - loss: 0.0049\n",
      "Epoch 68/500\n",
      "15/15 [==============================] - 0s 2ms/step - loss: 0.0048\n",
      "Epoch 69/500\n",
      "15/15 [==============================] - 0s 3ms/step - loss: 0.0048\n",
      "Epoch 70/500\n",
      "15/15 [==============================] - 0s 3ms/step - loss: 0.0048\n",
      "Epoch 71/500\n",
      "15/15 [==============================] - 0s 3ms/step - loss: 0.0050\n",
      "Epoch 72/500\n",
      "15/15 [==============================] - 0s 2ms/step - loss: 0.0048\n",
      "Epoch 73/500\n",
      "15/15 [==============================] - 0s 2ms/step - loss: 0.0048\n",
      "Epoch 74/500\n",
      "15/15 [==============================] - 0s 2ms/step - loss: 0.0048\n",
      "Epoch 75/500\n",
      "15/15 [==============================] - 0s 2ms/step - loss: 0.0048\n",
      "Epoch 76/500\n",
      "15/15 [==============================] - 0s 2ms/step - loss: 0.0046\n",
      "Epoch 77/500\n",
      "15/15 [==============================] - 0s 2ms/step - loss: 0.0047\n",
      "Epoch 78/500\n",
      "15/15 [==============================] - 0s 2ms/step - loss: 0.0047\n",
      "Epoch 79/500\n",
      "15/15 [==============================] - 0s 2ms/step - loss: 0.0048\n",
      "Epoch 80/500\n",
      "15/15 [==============================] - 0s 2ms/step - loss: 0.0047\n",
      "Epoch 81/500\n",
      "15/15 [==============================] - 0s 1ms/step - loss: 0.0046\n",
      "Epoch 82/500\n",
      "15/15 [==============================] - 0s 1ms/step - loss: 0.0046\n",
      "Epoch 83/500\n",
      "15/15 [==============================] - 0s 1ms/step - loss: 0.0047\n",
      "Epoch 84/500\n",
      "15/15 [==============================] - 0s 1ms/step - loss: 0.0046\n",
      "Epoch 85/500\n",
      "15/15 [==============================] - 0s 1ms/step - loss: 0.0045\n",
      "Epoch 86/500\n",
      "15/15 [==============================] - 0s 1ms/step - loss: 0.0046\n",
      "Epoch 87/500\n",
      "15/15 [==============================] - 0s 1ms/step - loss: 0.0044\n",
      "Epoch 88/500\n",
      "15/15 [==============================] - 0s 1ms/step - loss: 0.0045\n",
      "Epoch 89/500\n",
      "15/15 [==============================] - 0s 1ms/step - loss: 0.0046\n",
      "Epoch 90/500\n",
      "15/15 [==============================] - 0s 1ms/step - loss: 0.0046\n",
      "Epoch 91/500\n",
      "15/15 [==============================] - 0s 1ms/step - loss: 0.0045\n",
      "Epoch 92/500\n",
      "15/15 [==============================] - 0s 1ms/step - loss: 0.0045\n",
      "Epoch 93/500\n",
      "15/15 [==============================] - 0s 1ms/step - loss: 0.0044\n",
      "Epoch 94/500\n",
      "15/15 [==============================] - 0s 1ms/step - loss: 0.0045\n",
      "Epoch 95/500\n",
      "15/15 [==============================] - 0s 1ms/step - loss: 0.0045\n",
      "Epoch 96/500\n",
      "15/15 [==============================] - 0s 1ms/step - loss: 0.0044\n",
      "Epoch 97/500\n",
      "15/15 [==============================] - 0s 1ms/step - loss: 0.0044\n",
      "Epoch 98/500\n",
      "15/15 [==============================] - 0s 1ms/step - loss: 0.0044\n",
      "Epoch 99/500\n",
      "15/15 [==============================] - 0s 1ms/step - loss: 0.0043\n",
      "Epoch 100/500\n",
      "15/15 [==============================] - 0s 1ms/step - loss: 0.0045\n",
      "Epoch 101/500\n",
      "15/15 [==============================] - 0s 1ms/step - loss: 0.0044\n",
      "Epoch 102/500\n",
      "15/15 [==============================] - 0s 1ms/step - loss: 0.0043\n",
      "Epoch 103/500\n",
      "15/15 [==============================] - 0s 1ms/step - loss: 0.0044\n",
      "Epoch 104/500\n",
      "15/15 [==============================] - 0s 1ms/step - loss: 0.0044\n",
      "Epoch 105/500\n",
      "15/15 [==============================] - 0s 1ms/step - loss: 0.0043\n",
      "Epoch 106/500\n",
      "15/15 [==============================] - 0s 1ms/step - loss: 0.0042\n",
      "Epoch 107/500\n",
      "15/15 [==============================] - 0s 1ms/step - loss: 0.0043\n",
      "Epoch 108/500\n",
      "15/15 [==============================] - 0s 1ms/step - loss: 0.0043\n",
      "Epoch 109/500\n",
      "15/15 [==============================] - 0s 1ms/step - loss: 0.0043\n",
      "Epoch 110/500\n",
      "15/15 [==============================] - 0s 1ms/step - loss: 0.0042\n",
      "Epoch 111/500\n",
      "15/15 [==============================] - 0s 1ms/step - loss: 0.0042\n",
      "Epoch 112/500\n",
      "15/15 [==============================] - 0s 1ms/step - loss: 0.0043\n",
      "Epoch 113/500\n",
      "15/15 [==============================] - 0s 1ms/step - loss: 0.0043\n",
      "Epoch 114/500\n",
      "15/15 [==============================] - 0s 1ms/step - loss: 0.0042\n",
      "Epoch 115/500\n",
      "15/15 [==============================] - 0s 1ms/step - loss: 0.0043\n",
      "Epoch 116/500\n",
      "15/15 [==============================] - 0s 1ms/step - loss: 0.0042\n",
      "Epoch 117/500\n",
      "15/15 [==============================] - 0s 1ms/step - loss: 0.0043\n",
      "Epoch 118/500\n",
      "15/15 [==============================] - 0s 1ms/step - loss: 0.0043\n",
      "Epoch 119/500\n",
      "15/15 [==============================] - 0s 1ms/step - loss: 0.0044\n",
      "Epoch 120/500\n",
      "15/15 [==============================] - 0s 1ms/step - loss: 0.0041\n",
      "Epoch 121/500\n",
      "15/15 [==============================] - 0s 1ms/step - loss: 0.0041\n",
      "Epoch 122/500\n",
      "15/15 [==============================] - 0s 1ms/step - loss: 0.0042\n",
      "Epoch 123/500\n",
      "15/15 [==============================] - 0s 1ms/step - loss: 0.0042\n",
      "Epoch 124/500\n",
      "15/15 [==============================] - 0s 1ms/step - loss: 0.0042\n",
      "Epoch 125/500\n",
      "15/15 [==============================] - 0s 1ms/step - loss: 0.0042\n",
      "Epoch 126/500\n",
      "15/15 [==============================] - 0s 1ms/step - loss: 0.0042\n",
      "Epoch 127/500\n",
      "15/15 [==============================] - 0s 1ms/step - loss: 0.0041\n",
      "Epoch 128/500\n",
      "15/15 [==============================] - 0s 1ms/step - loss: 0.0042\n",
      "Epoch 129/500\n",
      "15/15 [==============================] - 0s 1ms/step - loss: 0.0042\n",
      "Epoch 130/500\n",
      "15/15 [==============================] - 0s 1ms/step - loss: 0.0042\n",
      "Epoch 131/500\n",
      "15/15 [==============================] - 0s 1ms/step - loss: 0.0040\n",
      "Epoch 132/500\n",
      "15/15 [==============================] - 0s 1ms/step - loss: 0.0043\n",
      "Epoch 133/500\n",
      "15/15 [==============================] - 0s 1ms/step - loss: 0.0041\n",
      "Epoch 134/500\n",
      "15/15 [==============================] - 0s 1ms/step - loss: 0.0043\n",
      "Epoch 135/500\n",
      "15/15 [==============================] - 0s 1ms/step - loss: 0.0042\n",
      "Epoch 136/500\n",
      "15/15 [==============================] - 0s 1ms/step - loss: 0.0041\n",
      "Epoch 137/500\n",
      "15/15 [==============================] - 0s 1ms/step - loss: 0.0041\n",
      "Epoch 138/500\n",
      "15/15 [==============================] - 0s 1ms/step - loss: 0.0042\n",
      "Epoch 139/500\n",
      "15/15 [==============================] - 0s 1ms/step - loss: 0.0040\n",
      "Epoch 140/500\n",
      "15/15 [==============================] - 0s 1ms/step - loss: 0.0041\n",
      "Epoch 141/500\n",
      "15/15 [==============================] - 0s 1ms/step - loss: 0.0041\n",
      "Epoch 142/500\n",
      "15/15 [==============================] - 0s 1ms/step - loss: 0.0041\n",
      "Epoch 143/500\n",
      "15/15 [==============================] - 0s 1ms/step - loss: 0.0041\n",
      "Epoch 144/500\n",
      "15/15 [==============================] - 0s 1ms/step - loss: 0.0039\n",
      "Epoch 145/500\n",
      "15/15 [==============================] - 0s 1ms/step - loss: 0.0041\n",
      "Epoch 146/500\n",
      "15/15 [==============================] - 0s 1ms/step - loss: 0.0041\n",
      "Epoch 147/500\n",
      "15/15 [==============================] - 0s 1ms/step - loss: 0.0040\n",
      "Epoch 148/500\n",
      "15/15 [==============================] - 0s 1ms/step - loss: 0.0043\n",
      "Epoch 149/500\n",
      "15/15 [==============================] - 0s 1ms/step - loss: 0.0040\n",
      "Epoch 150/500\n",
      "15/15 [==============================] - 0s 1ms/step - loss: 0.0040\n",
      "Epoch 151/500\n",
      "15/15 [==============================] - 0s 1ms/step - loss: 0.0041\n",
      "Epoch 152/500\n",
      "15/15 [==============================] - 0s 1ms/step - loss: 0.0040\n",
      "Epoch 153/500\n",
      "15/15 [==============================] - 0s 1ms/step - loss: 0.0040\n",
      "Epoch 154/500\n",
      "15/15 [==============================] - 0s 1ms/step - loss: 0.0042\n",
      "Epoch 155/500\n",
      "15/15 [==============================] - 0s 1ms/step - loss: 0.0041\n",
      "Epoch 156/500\n",
      "15/15 [==============================] - 0s 1ms/step - loss: 0.0041\n",
      "Epoch 157/500\n",
      "15/15 [==============================] - 0s 1ms/step - loss: 0.0040\n",
      "Epoch 158/500\n",
      "15/15 [==============================] - 0s 1ms/step - loss: 0.0041\n",
      "Epoch 159/500\n",
      "15/15 [==============================] - 0s 1ms/step - loss: 0.0041\n",
      "Epoch 160/500\n",
      "15/15 [==============================] - 0s 1ms/step - loss: 0.0041\n",
      "Epoch 161/500\n",
      "15/15 [==============================] - 0s 1ms/step - loss: 0.0040\n",
      "Epoch 162/500\n",
      "15/15 [==============================] - 0s 1ms/step - loss: 0.0041\n",
      "Epoch 163/500\n",
      "15/15 [==============================] - 0s 1ms/step - loss: 0.0040\n",
      "Epoch 164/500\n",
      "15/15 [==============================] - 0s 1ms/step - loss: 0.0040\n",
      "Epoch 165/500\n",
      "15/15 [==============================] - 0s 1ms/step - loss: 0.0041\n",
      "Epoch 166/500\n",
      "15/15 [==============================] - 0s 1ms/step - loss: 0.0040\n",
      "Epoch 167/500\n",
      "15/15 [==============================] - 0s 1ms/step - loss: 0.0043\n",
      "Epoch 168/500\n",
      "15/15 [==============================] - 0s 1ms/step - loss: 0.0040\n",
      "Epoch 169/500\n",
      "15/15 [==============================] - 0s 1ms/step - loss: 0.0040\n",
      "Epoch 170/500\n",
      "15/15 [==============================] - 0s 1ms/step - loss: 0.0040\n",
      "Epoch 171/500\n",
      "15/15 [==============================] - 0s 1ms/step - loss: 0.0040\n",
      "Epoch 172/500\n",
      "15/15 [==============================] - 0s 1ms/step - loss: 0.0040\n",
      "Epoch 173/500\n",
      "15/15 [==============================] - 0s 1ms/step - loss: 0.0041\n",
      "Epoch 174/500\n",
      "15/15 [==============================] - 0s 1ms/step - loss: 0.0041\n",
      "Epoch 175/500\n",
      "15/15 [==============================] - 0s 1ms/step - loss: 0.0041\n",
      "Epoch 176/500\n",
      "15/15 [==============================] - 0s 1ms/step - loss: 0.0041\n",
      "Epoch 177/500\n",
      "15/15 [==============================] - 0s 1ms/step - loss: 0.0040\n",
      "Epoch 178/500\n",
      "15/15 [==============================] - 0s 1ms/step - loss: 0.0041\n",
      "Epoch 179/500\n",
      "15/15 [==============================] - 0s 1ms/step - loss: 0.0041\n",
      "Epoch 180/500\n",
      "15/15 [==============================] - 0s 1ms/step - loss: 0.0041\n",
      "Epoch 181/500\n",
      "15/15 [==============================] - 0s 1ms/step - loss: 0.0041\n",
      "Epoch 182/500\n",
      "15/15 [==============================] - 0s 1ms/step - loss: 0.0041\n",
      "Epoch 183/500\n",
      "15/15 [==============================] - 0s 1ms/step - loss: 0.0041\n",
      "Epoch 184/500\n",
      "15/15 [==============================] - 0s 1ms/step - loss: 0.0039\n",
      "Epoch 185/500\n",
      "15/15 [==============================] - 0s 1ms/step - loss: 0.0041\n",
      "Epoch 186/500\n",
      "15/15 [==============================] - 0s 1ms/step - loss: 0.0040\n",
      "Epoch 187/500\n",
      "15/15 [==============================] - 0s 1ms/step - loss: 0.0039\n",
      "Epoch 188/500\n",
      "15/15 [==============================] - 0s 1ms/step - loss: 0.0041\n",
      "Epoch 189/500\n",
      "15/15 [==============================] - 0s 1ms/step - loss: 0.0040\n",
      "Epoch 190/500\n",
      "15/15 [==============================] - 0s 1ms/step - loss: 0.0041\n",
      "Epoch 191/500\n",
      "15/15 [==============================] - 0s 1ms/step - loss: 0.0041\n",
      "Epoch 192/500\n",
      "15/15 [==============================] - 0s 1ms/step - loss: 0.0040\n",
      "Epoch 193/500\n",
      "15/15 [==============================] - 0s 1ms/step - loss: 0.0041\n",
      "Epoch 194/500\n",
      "15/15 [==============================] - 0s 1ms/step - loss: 0.0041\n",
      "Epoch 195/500\n",
      "15/15 [==============================] - 0s 1ms/step - loss: 0.0040\n",
      "Epoch 196/500\n",
      "15/15 [==============================] - 0s 1ms/step - loss: 0.0039\n",
      "Epoch 197/500\n",
      "15/15 [==============================] - 0s 1ms/step - loss: 0.0041\n",
      "Epoch 198/500\n",
      "15/15 [==============================] - 0s 1ms/step - loss: 0.0040\n",
      "Epoch 199/500\n",
      "15/15 [==============================] - 0s 1ms/step - loss: 0.0041\n",
      "Epoch 200/500\n",
      "15/15 [==============================] - 0s 1ms/step - loss: 0.0040\n",
      "Epoch 201/500\n",
      "15/15 [==============================] - 0s 1ms/step - loss: 0.0041\n",
      "Epoch 202/500\n",
      "15/15 [==============================] - 0s 1ms/step - loss: 0.0041\n",
      "Epoch 203/500\n",
      "15/15 [==============================] - 0s 1ms/step - loss: 0.0041\n",
      "Epoch 204/500\n",
      "15/15 [==============================] - 0s 1ms/step - loss: 0.0042\n",
      "Epoch 205/500\n",
      "15/15 [==============================] - 0s 1ms/step - loss: 0.0041\n",
      "Epoch 206/500\n",
      "15/15 [==============================] - 0s 1ms/step - loss: 0.0040\n",
      "Epoch 207/500\n",
      "15/15 [==============================] - 0s 1ms/step - loss: 0.0041\n",
      "Epoch 208/500\n",
      "15/15 [==============================] - 0s 1ms/step - loss: 0.0040\n",
      "Epoch 209/500\n",
      "15/15 [==============================] - 0s 1ms/step - loss: 0.0041\n",
      "Epoch 210/500\n",
      "15/15 [==============================] - 0s 1ms/step - loss: 0.0040\n",
      "Epoch 211/500\n",
      "15/15 [==============================] - 0s 1ms/step - loss: 0.0040\n",
      "Epoch 212/500\n",
      "15/15 [==============================] - 0s 1ms/step - loss: 0.0040\n",
      "Epoch 213/500\n",
      "15/15 [==============================] - 0s 1ms/step - loss: 0.0041\n",
      "Epoch 214/500\n",
      "15/15 [==============================] - 0s 1ms/step - loss: 0.0040\n",
      "Epoch 215/500\n",
      "15/15 [==============================] - 0s 1ms/step - loss: 0.0041\n",
      "Epoch 216/500\n",
      "15/15 [==============================] - 0s 1ms/step - loss: 0.0040\n",
      "Epoch 217/500\n",
      "15/15 [==============================] - 0s 1ms/step - loss: 0.0040\n",
      "Epoch 218/500\n",
      "15/15 [==============================] - 0s 1ms/step - loss: 0.0040\n",
      "Epoch 219/500\n",
      "15/15 [==============================] - 0s 1ms/step - loss: 0.0040\n",
      "Epoch 220/500\n",
      "15/15 [==============================] - 0s 1ms/step - loss: 0.0042\n",
      "Epoch 221/500\n",
      "15/15 [==============================] - 0s 1ms/step - loss: 0.0040\n",
      "Epoch 222/500\n",
      "15/15 [==============================] - 0s 1ms/step - loss: 0.0041\n",
      "Epoch 223/500\n",
      "15/15 [==============================] - 0s 1ms/step - loss: 0.0040\n",
      "Epoch 224/500\n",
      "15/15 [==============================] - 0s 1ms/step - loss: 0.0040\n",
      "Epoch 225/500\n",
      "15/15 [==============================] - 0s 1ms/step - loss: 0.0041\n",
      "Epoch 226/500\n",
      "15/15 [==============================] - 0s 1ms/step - loss: 0.0041\n",
      "Epoch 227/500\n",
      "15/15 [==============================] - 0s 1ms/step - loss: 0.0040\n",
      "Epoch 228/500\n",
      "15/15 [==============================] - 0s 1ms/step - loss: 0.0041\n",
      "Epoch 229/500\n",
      "15/15 [==============================] - 0s 1ms/step - loss: 0.0040\n",
      "Epoch 230/500\n",
      "15/15 [==============================] - 0s 1ms/step - loss: 0.0040\n",
      "Epoch 231/500\n",
      "15/15 [==============================] - 0s 1ms/step - loss: 0.0041\n",
      "Epoch 232/500\n",
      "15/15 [==============================] - 0s 1ms/step - loss: 0.0041\n",
      "Epoch 233/500\n",
      "15/15 [==============================] - 0s 1ms/step - loss: 0.0039\n",
      "Epoch 234/500\n",
      "15/15 [==============================] - 0s 1ms/step - loss: 0.0038\n",
      "Epoch 235/500\n",
      "15/15 [==============================] - 0s 1ms/step - loss: 0.0042\n",
      "Epoch 236/500\n",
      "15/15 [==============================] - 0s 1ms/step - loss: 0.0041\n",
      "Epoch 237/500\n",
      "15/15 [==============================] - 0s 1ms/step - loss: 0.0040\n",
      "Epoch 238/500\n",
      "15/15 [==============================] - 0s 1ms/step - loss: 0.0040\n",
      "Epoch 239/500\n",
      "15/15 [==============================] - 0s 1ms/step - loss: 0.0039\n",
      "Epoch 240/500\n",
      "15/15 [==============================] - 0s 1ms/step - loss: 0.0041\n",
      "Epoch 241/500\n",
      "15/15 [==============================] - 0s 2ms/step - loss: 0.0041\n",
      "Epoch 242/500\n",
      "15/15 [==============================] - 0s 1ms/step - loss: 0.0040\n",
      "Epoch 243/500\n",
      "15/15 [==============================] - 0s 1ms/step - loss: 0.0041\n",
      "Epoch 244/500\n",
      "15/15 [==============================] - 0s 1ms/step - loss: 0.0041\n",
      "Epoch 245/500\n",
      "15/15 [==============================] - 0s 1ms/step - loss: 0.0040\n",
      "Epoch 246/500\n",
      "15/15 [==============================] - 0s 1ms/step - loss: 0.0042\n",
      "Epoch 247/500\n",
      "15/15 [==============================] - 0s 1ms/step - loss: 0.0040\n",
      "Epoch 248/500\n",
      "15/15 [==============================] - 0s 1ms/step - loss: 0.0040\n",
      "Epoch 249/500\n",
      "15/15 [==============================] - 0s 1ms/step - loss: 0.0040\n",
      "Epoch 250/500\n",
      "15/15 [==============================] - 0s 1ms/step - loss: 0.0041\n",
      "Epoch 251/500\n",
      "15/15 [==============================] - 0s 1ms/step - loss: 0.0040\n",
      "Epoch 252/500\n",
      "15/15 [==============================] - 0s 1ms/step - loss: 0.0040\n",
      "Epoch 253/500\n",
      "15/15 [==============================] - 0s 1ms/step - loss: 0.0041\n",
      "Epoch 254/500\n",
      "15/15 [==============================] - 0s 1ms/step - loss: 0.0040\n",
      "Epoch 255/500\n",
      "15/15 [==============================] - 0s 1ms/step - loss: 0.0041\n",
      "Epoch 256/500\n",
      "15/15 [==============================] - 0s 1ms/step - loss: 0.0040\n",
      "Epoch 257/500\n",
      "15/15 [==============================] - 0s 1ms/step - loss: 0.0040\n",
      "Epoch 258/500\n",
      "15/15 [==============================] - 0s 1ms/step - loss: 0.0040\n",
      "Epoch 259/500\n",
      "15/15 [==============================] - 0s 1ms/step - loss: 0.0041\n",
      "Epoch 260/500\n",
      "15/15 [==============================] - 0s 1ms/step - loss: 0.0041\n",
      "Epoch 261/500\n",
      "15/15 [==============================] - 0s 1ms/step - loss: 0.0039\n",
      "Epoch 262/500\n",
      "15/15 [==============================] - 0s 1ms/step - loss: 0.0040\n",
      "Epoch 263/500\n",
      "15/15 [==============================] - 0s 1ms/step - loss: 0.0040\n",
      "Epoch 264/500\n",
      "15/15 [==============================] - 0s 1ms/step - loss: 0.0040\n",
      "Epoch 265/500\n",
      "15/15 [==============================] - 0s 1ms/step - loss: 0.0041\n",
      "Epoch 266/500\n",
      "15/15 [==============================] - 0s 1ms/step - loss: 0.0040\n",
      "Epoch 267/500\n",
      "15/15 [==============================] - 0s 1ms/step - loss: 0.0040\n",
      "Epoch 268/500\n",
      "15/15 [==============================] - 0s 1ms/step - loss: 0.0040\n",
      "Epoch 269/500\n",
      "15/15 [==============================] - 0s 1ms/step - loss: 0.0040\n",
      "Epoch 270/500\n",
      "15/15 [==============================] - 0s 1ms/step - loss: 0.0040\n",
      "Epoch 271/500\n",
      "15/15 [==============================] - 0s 2ms/step - loss: 0.0041\n",
      "Epoch 272/500\n",
      "15/15 [==============================] - 0s 1ms/step - loss: 0.0041\n",
      "Epoch 273/500\n",
      "15/15 [==============================] - 0s 1ms/step - loss: 0.0041\n",
      "Epoch 274/500\n",
      "15/15 [==============================] - 0s 1ms/step - loss: 0.0040\n",
      "Epoch 275/500\n",
      "15/15 [==============================] - 0s 1ms/step - loss: 0.0040\n",
      "Epoch 276/500\n",
      "15/15 [==============================] - 0s 1ms/step - loss: 0.0039\n",
      "Epoch 277/500\n",
      "15/15 [==============================] - 0s 1ms/step - loss: 0.0042\n",
      "Epoch 278/500\n",
      "15/15 [==============================] - 0s 1ms/step - loss: 0.0040\n",
      "Epoch 279/500\n",
      "15/15 [==============================] - 0s 1ms/step - loss: 0.0040\n",
      "Epoch 280/500\n",
      "15/15 [==============================] - 0s 1ms/step - loss: 0.0039\n",
      "Epoch 281/500\n",
      "15/15 [==============================] - 0s 1ms/step - loss: 0.0040\n",
      "Epoch 282/500\n",
      "15/15 [==============================] - 0s 1ms/step - loss: 0.0042\n",
      "Epoch 283/500\n",
      "15/15 [==============================] - 0s 1ms/step - loss: 0.0041\n",
      "Epoch 284/500\n",
      "15/15 [==============================] - 0s 1ms/step - loss: 0.0040\n",
      "Epoch 285/500\n",
      "15/15 [==============================] - 0s 1ms/step - loss: 0.0039\n",
      "Epoch 286/500\n",
      "15/15 [==============================] - 0s 1ms/step - loss: 0.0041\n",
      "Epoch 287/500\n",
      "15/15 [==============================] - 0s 1ms/step - loss: 0.0039\n",
      "Epoch 288/500\n",
      "15/15 [==============================] - 0s 1ms/step - loss: 0.0041\n",
      "Epoch 289/500\n",
      "15/15 [==============================] - 0s 1ms/step - loss: 0.0039\n",
      "Epoch 290/500\n",
      "15/15 [==============================] - 0s 1ms/step - loss: 0.0040\n",
      "Epoch 291/500\n",
      "15/15 [==============================] - 0s 1ms/step - loss: 0.0040\n",
      "Epoch 292/500\n",
      "15/15 [==============================] - 0s 1ms/step - loss: 0.0041\n",
      "Epoch 293/500\n",
      "15/15 [==============================] - 0s 1ms/step - loss: 0.0041\n",
      "Epoch 294/500\n",
      "15/15 [==============================] - 0s 1ms/step - loss: 0.0041\n",
      "Epoch 295/500\n",
      "15/15 [==============================] - 0s 1ms/step - loss: 0.0040\n",
      "Epoch 296/500\n",
      "15/15 [==============================] - 0s 1ms/step - loss: 0.0039\n",
      "Epoch 297/500\n",
      "15/15 [==============================] - 0s 1ms/step - loss: 0.0039\n",
      "Epoch 298/500\n",
      "15/15 [==============================] - 0s 1ms/step - loss: 0.0042\n",
      "Epoch 299/500\n",
      "15/15 [==============================] - 0s 1ms/step - loss: 0.0041\n",
      "Epoch 300/500\n",
      "15/15 [==============================] - 0s 1ms/step - loss: 0.0040\n",
      "Epoch 301/500\n",
      "15/15 [==============================] - 0s 1ms/step - loss: 0.0040\n",
      "Epoch 302/500\n",
      "15/15 [==============================] - 0s 1ms/step - loss: 0.0039\n",
      "Epoch 303/500\n",
      "15/15 [==============================] - 0s 1ms/step - loss: 0.0040\n",
      "Epoch 304/500\n",
      "15/15 [==============================] - 0s 1ms/step - loss: 0.0041\n",
      "Epoch 305/500\n",
      "15/15 [==============================] - 0s 1ms/step - loss: 0.0040\n",
      "Epoch 306/500\n",
      "15/15 [==============================] - 0s 1ms/step - loss: 0.0040\n",
      "Epoch 307/500\n",
      "15/15 [==============================] - 0s 1ms/step - loss: 0.0040\n",
      "Epoch 308/500\n",
      "15/15 [==============================] - 0s 1ms/step - loss: 0.0041\n",
      "Epoch 309/500\n",
      "15/15 [==============================] - 0s 1ms/step - loss: 0.0039\n",
      "Epoch 310/500\n",
      "15/15 [==============================] - 0s 1ms/step - loss: 0.0041\n",
      "Epoch 311/500\n",
      "15/15 [==============================] - 0s 1ms/step - loss: 0.0041\n",
      "Epoch 312/500\n",
      "15/15 [==============================] - 0s 1ms/step - loss: 0.0040\n",
      "Epoch 313/500\n",
      "15/15 [==============================] - 0s 1ms/step - loss: 0.0039\n",
      "Epoch 314/500\n",
      "15/15 [==============================] - 0s 1ms/step - loss: 0.0041\n",
      "Epoch 315/500\n",
      "15/15 [==============================] - 0s 1ms/step - loss: 0.0039\n",
      "Epoch 316/500\n",
      "15/15 [==============================] - 0s 1ms/step - loss: 0.0042\n",
      "Epoch 317/500\n",
      "15/15 [==============================] - 0s 1ms/step - loss: 0.0040\n",
      "Epoch 318/500\n",
      "15/15 [==============================] - 0s 1ms/step - loss: 0.0041\n",
      "Epoch 319/500\n",
      "15/15 [==============================] - 0s 1ms/step - loss: 0.0040\n",
      "Epoch 320/500\n",
      "15/15 [==============================] - 0s 1ms/step - loss: 0.0040\n",
      "Epoch 321/500\n",
      "15/15 [==============================] - 0s 1ms/step - loss: 0.0040\n",
      "Epoch 322/500\n",
      "15/15 [==============================] - 0s 1ms/step - loss: 0.0041\n",
      "Epoch 323/500\n",
      "15/15 [==============================] - 0s 1ms/step - loss: 0.0041\n",
      "Epoch 324/500\n",
      "15/15 [==============================] - 0s 1ms/step - loss: 0.0041\n",
      "Epoch 325/500\n",
      "15/15 [==============================] - 0s 1ms/step - loss: 0.0041\n",
      "Epoch 326/500\n",
      "15/15 [==============================] - 0s 1ms/step - loss: 0.0041\n",
      "Epoch 327/500\n",
      "15/15 [==============================] - 0s 1ms/step - loss: 0.0040\n",
      "Epoch 328/500\n",
      "15/15 [==============================] - 0s 1ms/step - loss: 0.0038\n",
      "Epoch 329/500\n",
      "15/15 [==============================] - 0s 1ms/step - loss: 0.0040\n",
      "Epoch 330/500\n",
      "15/15 [==============================] - 0s 1ms/step - loss: 0.0039\n",
      "Epoch 331/500\n",
      "15/15 [==============================] - 0s 1ms/step - loss: 0.0040\n",
      "Epoch 332/500\n",
      "15/15 [==============================] - 0s 1ms/step - loss: 0.0041\n",
      "Epoch 333/500\n",
      "15/15 [==============================] - 0s 1ms/step - loss: 0.0041\n",
      "Epoch 334/500\n",
      "15/15 [==============================] - 0s 2ms/step - loss: 0.0040\n",
      "Epoch 335/500\n",
      "15/15 [==============================] - 0s 2ms/step - loss: 0.0040\n",
      "Epoch 336/500\n",
      "15/15 [==============================] - 0s 2ms/step - loss: 0.0041\n",
      "Epoch 337/500\n",
      "15/15 [==============================] - 0s 2ms/step - loss: 0.0041\n",
      "Epoch 338/500\n",
      "15/15 [==============================] - 0s 2ms/step - loss: 0.0040\n",
      "Epoch 339/500\n",
      "15/15 [==============================] - 0s 2ms/step - loss: 0.0041\n",
      "Epoch 340/500\n",
      "15/15 [==============================] - 0s 2ms/step - loss: 0.0040\n",
      "Epoch 341/500\n",
      "15/15 [==============================] - 0s 1ms/step - loss: 0.0038\n",
      "Epoch 342/500\n",
      "15/15 [==============================] - 0s 2ms/step - loss: 0.0042\n",
      "Epoch 343/500\n",
      "15/15 [==============================] - 0s 1ms/step - loss: 0.0041\n",
      "Epoch 344/500\n",
      "15/15 [==============================] - 0s 1ms/step - loss: 0.0040\n",
      "Epoch 345/500\n",
      "15/15 [==============================] - 0s 3ms/step - loss: 0.0041\n",
      "Epoch 346/500\n",
      "15/15 [==============================] - 0s 3ms/step - loss: 0.0040\n",
      "Epoch 347/500\n",
      "15/15 [==============================] - 0s 3ms/step - loss: 0.0040\n",
      "Epoch 348/500\n",
      "15/15 [==============================] - 0s 2ms/step - loss: 0.0041\n",
      "Epoch 349/500\n",
      "15/15 [==============================] - 0s 2ms/step - loss: 0.0040\n",
      "Epoch 350/500\n",
      "15/15 [==============================] - 0s 1ms/step - loss: 0.0039\n",
      "Epoch 351/500\n",
      "15/15 [==============================] - 0s 2ms/step - loss: 0.0042\n",
      "Epoch 352/500\n",
      "15/15 [==============================] - 0s 2ms/step - loss: 0.0040\n",
      "Epoch 353/500\n",
      "15/15 [==============================] - 0s 2ms/step - loss: 0.0040\n",
      "Epoch 354/500\n",
      "15/15 [==============================] - 0s 1ms/step - loss: 0.0040\n",
      "Epoch 355/500\n",
      "15/15 [==============================] - 0s 1ms/step - loss: 0.0041\n",
      "Epoch 356/500\n",
      "15/15 [==============================] - 0s 1ms/step - loss: 0.0040\n",
      "Epoch 357/500\n",
      "15/15 [==============================] - 0s 1ms/step - loss: 0.0040\n",
      "Epoch 358/500\n",
      "15/15 [==============================] - 0s 1ms/step - loss: 0.0040\n",
      "Epoch 359/500\n",
      "15/15 [==============================] - 0s 1ms/step - loss: 0.0042\n",
      "Epoch 360/500\n",
      "15/15 [==============================] - 0s 1ms/step - loss: 0.0039\n",
      "Epoch 361/500\n",
      "15/15 [==============================] - 0s 1ms/step - loss: 0.0041\n",
      "Epoch 362/500\n",
      "15/15 [==============================] - 0s 1ms/step - loss: 0.0041\n",
      "Epoch 363/500\n",
      "15/15 [==============================] - 0s 1ms/step - loss: 0.0041\n",
      "Epoch 364/500\n",
      "15/15 [==============================] - 0s 1ms/step - loss: 0.0040\n",
      "Epoch 365/500\n",
      "15/15 [==============================] - 0s 1ms/step - loss: 0.0039\n",
      "Epoch 366/500\n",
      "15/15 [==============================] - 0s 1ms/step - loss: 0.0042\n",
      "Epoch 367/500\n",
      "15/15 [==============================] - 0s 1ms/step - loss: 0.0040\n",
      "Epoch 368/500\n",
      "15/15 [==============================] - 0s 1ms/step - loss: 0.0041\n",
      "Epoch 369/500\n",
      "15/15 [==============================] - 0s 1ms/step - loss: 0.0041\n",
      "Epoch 370/500\n",
      "15/15 [==============================] - 0s 1ms/step - loss: 0.0038\n",
      "Epoch 371/500\n",
      "15/15 [==============================] - 0s 1ms/step - loss: 0.0040\n",
      "Epoch 372/500\n",
      "15/15 [==============================] - 0s 1ms/step - loss: 0.0041\n",
      "Epoch 373/500\n",
      "15/15 [==============================] - 0s 1ms/step - loss: 0.0040\n",
      "Epoch 374/500\n",
      "15/15 [==============================] - 0s 1ms/step - loss: 0.0041\n",
      "Epoch 375/500\n",
      "15/15 [==============================] - 0s 1ms/step - loss: 0.0040\n",
      "Epoch 376/500\n",
      "15/15 [==============================] - 0s 1ms/step - loss: 0.0040\n",
      "Epoch 377/500\n",
      "15/15 [==============================] - 0s 1ms/step - loss: 0.0040\n",
      "Epoch 378/500\n",
      "15/15 [==============================] - 0s 1ms/step - loss: 0.0040\n",
      "Epoch 379/500\n",
      "15/15 [==============================] - 0s 1ms/step - loss: 0.0041\n",
      "Epoch 380/500\n",
      "15/15 [==============================] - 0s 1ms/step - loss: 0.0041\n",
      "Epoch 381/500\n",
      "15/15 [==============================] - 0s 1ms/step - loss: 0.0040\n",
      "Epoch 382/500\n",
      "15/15 [==============================] - 0s 1ms/step - loss: 0.0040\n",
      "Epoch 383/500\n",
      "15/15 [==============================] - 0s 1ms/step - loss: 0.0040\n",
      "Epoch 384/500\n",
      "15/15 [==============================] - 0s 1ms/step - loss: 0.0039\n",
      "Epoch 385/500\n",
      "15/15 [==============================] - 0s 1ms/step - loss: 0.0041\n",
      "Epoch 386/500\n",
      "15/15 [==============================] - 0s 1ms/step - loss: 0.0041\n",
      "Epoch 387/500\n",
      "15/15 [==============================] - 0s 1ms/step - loss: 0.0041\n",
      "Epoch 388/500\n",
      "15/15 [==============================] - 0s 1ms/step - loss: 0.0041\n",
      "Epoch 389/500\n",
      "15/15 [==============================] - 0s 1ms/step - loss: 0.0040\n",
      "Epoch 390/500\n",
      "15/15 [==============================] - 0s 1ms/step - loss: 0.0040\n",
      "Epoch 391/500\n",
      "15/15 [==============================] - 0s 1ms/step - loss: 0.0039\n",
      "Epoch 392/500\n",
      "15/15 [==============================] - 0s 1ms/step - loss: 0.0040\n",
      "Epoch 393/500\n",
      "15/15 [==============================] - 0s 1ms/step - loss: 0.0041\n",
      "Epoch 394/500\n",
      "15/15 [==============================] - 0s 1ms/step - loss: 0.0040\n",
      "Epoch 395/500\n",
      "15/15 [==============================] - 0s 1ms/step - loss: 0.0039\n",
      "Epoch 396/500\n",
      "15/15 [==============================] - 0s 1ms/step - loss: 0.0040\n",
      "Epoch 397/500\n",
      "15/15 [==============================] - 0s 1ms/step - loss: 0.0039\n",
      "Epoch 398/500\n",
      "15/15 [==============================] - 0s 1ms/step - loss: 0.0039\n",
      "Epoch 399/500\n",
      "15/15 [==============================] - 0s 1ms/step - loss: 0.0040\n",
      "Epoch 400/500\n",
      "15/15 [==============================] - 0s 1ms/step - loss: 0.0041\n",
      "Epoch 401/500\n",
      "15/15 [==============================] - 0s 1ms/step - loss: 0.0040\n",
      "Epoch 402/500\n",
      "15/15 [==============================] - 0s 1ms/step - loss: 0.0041\n",
      "Epoch 403/500\n",
      "15/15 [==============================] - 0s 1ms/step - loss: 0.0039\n",
      "Epoch 404/500\n",
      "15/15 [==============================] - 0s 1ms/step - loss: 0.0041\n",
      "Epoch 405/500\n",
      "15/15 [==============================] - 0s 1ms/step - loss: 0.0040\n",
      "Epoch 406/500\n",
      "15/15 [==============================] - 0s 1ms/step - loss: 0.0040\n",
      "Epoch 407/500\n",
      "15/15 [==============================] - 0s 1ms/step - loss: 0.0040\n",
      "Epoch 408/500\n",
      "15/15 [==============================] - 0s 1ms/step - loss: 0.0041\n",
      "Epoch 409/500\n",
      "15/15 [==============================] - 0s 1ms/step - loss: 0.0039\n",
      "Epoch 410/500\n",
      "15/15 [==============================] - 0s 1ms/step - loss: 0.0040\n",
      "Epoch 411/500\n",
      "15/15 [==============================] - 0s 1ms/step - loss: 0.0039\n",
      "Epoch 412/500\n",
      "15/15 [==============================] - 0s 1ms/step - loss: 0.0039\n",
      "Epoch 413/500\n",
      "15/15 [==============================] - 0s 1ms/step - loss: 0.0041\n",
      "Epoch 414/500\n",
      "15/15 [==============================] - 0s 1ms/step - loss: 0.0040\n",
      "Epoch 415/500\n",
      "15/15 [==============================] - 0s 1ms/step - loss: 0.0041\n",
      "Epoch 416/500\n",
      "15/15 [==============================] - 0s 1ms/step - loss: 0.0041\n",
      "Epoch 417/500\n",
      "15/15 [==============================] - 0s 1ms/step - loss: 0.0040\n",
      "Epoch 418/500\n",
      "15/15 [==============================] - 0s 1ms/step - loss: 0.0040\n",
      "Epoch 419/500\n",
      "15/15 [==============================] - 0s 1ms/step - loss: 0.0041\n",
      "Epoch 420/500\n",
      "15/15 [==============================] - 0s 1ms/step - loss: 0.0040\n",
      "Epoch 421/500\n",
      "15/15 [==============================] - 0s 1ms/step - loss: 0.0040\n",
      "Epoch 422/500\n",
      "15/15 [==============================] - 0s 1ms/step - loss: 0.0040\n",
      "Epoch 423/500\n",
      "15/15 [==============================] - 0s 1ms/step - loss: 0.0038\n",
      "Epoch 424/500\n",
      "15/15 [==============================] - 0s 1ms/step - loss: 0.0041\n",
      "Epoch 425/500\n",
      "15/15 [==============================] - 0s 1ms/step - loss: 0.0039\n",
      "Epoch 426/500\n",
      "15/15 [==============================] - 0s 1ms/step - loss: 0.0041\n",
      "Epoch 427/500\n",
      "15/15 [==============================] - 0s 1ms/step - loss: 0.0040\n",
      "Epoch 428/500\n",
      "15/15 [==============================] - 0s 1ms/step - loss: 0.0041\n",
      "Epoch 429/500\n",
      "15/15 [==============================] - 0s 1ms/step - loss: 0.0040\n",
      "Epoch 430/500\n",
      "15/15 [==============================] - 0s 1ms/step - loss: 0.0041\n",
      "Epoch 431/500\n",
      "15/15 [==============================] - 0s 1ms/step - loss: 0.0039\n",
      "Epoch 432/500\n",
      "15/15 [==============================] - 0s 1ms/step - loss: 0.0041\n",
      "Epoch 433/500\n",
      "15/15 [==============================] - 0s 1ms/step - loss: 0.0042\n",
      "Epoch 434/500\n",
      "15/15 [==============================] - 0s 1ms/step - loss: 0.0040\n",
      "Epoch 435/500\n",
      "15/15 [==============================] - 0s 1ms/step - loss: 0.0040\n",
      "Epoch 436/500\n",
      "15/15 [==============================] - 0s 1ms/step - loss: 0.0041\n",
      "Epoch 437/500\n",
      "15/15 [==============================] - 0s 1ms/step - loss: 0.0040\n",
      "Epoch 438/500\n",
      "15/15 [==============================] - 0s 1ms/step - loss: 0.0041\n",
      "Epoch 439/500\n",
      "15/15 [==============================] - 0s 1ms/step - loss: 0.0041\n",
      "Epoch 440/500\n",
      "15/15 [==============================] - 0s 1ms/step - loss: 0.0040\n",
      "Epoch 441/500\n",
      "15/15 [==============================] - 0s 1ms/step - loss: 0.0040\n",
      "Epoch 442/500\n",
      "15/15 [==============================] - 0s 1ms/step - loss: 0.0040\n",
      "Epoch 443/500\n",
      "15/15 [==============================] - 0s 1ms/step - loss: 0.0040\n",
      "Epoch 444/500\n",
      "15/15 [==============================] - 0s 1ms/step - loss: 0.0040\n",
      "Epoch 445/500\n",
      "15/15 [==============================] - 0s 1ms/step - loss: 0.0040\n",
      "Epoch 446/500\n",
      "15/15 [==============================] - 0s 1ms/step - loss: 0.0040\n",
      "Epoch 447/500\n",
      "15/15 [==============================] - 0s 1ms/step - loss: 0.0040\n",
      "Epoch 448/500\n",
      "15/15 [==============================] - 0s 1ms/step - loss: 0.0039\n",
      "Epoch 449/500\n",
      "15/15 [==============================] - 0s 1ms/step - loss: 0.0039\n",
      "Epoch 450/500\n",
      "15/15 [==============================] - 0s 1ms/step - loss: 0.0040\n",
      "Epoch 451/500\n",
      "15/15 [==============================] - 0s 1ms/step - loss: 0.0041\n",
      "Epoch 452/500\n",
      "15/15 [==============================] - 0s 1ms/step - loss: 0.0040\n",
      "Epoch 453/500\n",
      "15/15 [==============================] - 0s 1ms/step - loss: 0.0041\n",
      "Epoch 454/500\n",
      "15/15 [==============================] - 0s 1ms/step - loss: 0.0040\n",
      "Epoch 455/500\n",
      "15/15 [==============================] - 0s 1ms/step - loss: 0.0040\n",
      "Epoch 456/500\n",
      "15/15 [==============================] - 0s 1ms/step - loss: 0.0040\n",
      "Epoch 457/500\n",
      "15/15 [==============================] - 0s 1ms/step - loss: 0.0040\n",
      "Epoch 458/500\n",
      "15/15 [==============================] - 0s 1ms/step - loss: 0.0040\n",
      "Epoch 459/500\n",
      "15/15 [==============================] - 0s 1ms/step - loss: 0.0040\n",
      "Epoch 460/500\n",
      "15/15 [==============================] - 0s 1ms/step - loss: 0.0040\n",
      "Epoch 461/500\n",
      "15/15 [==============================] - 0s 1ms/step - loss: 0.0040\n",
      "Epoch 462/500\n",
      "15/15 [==============================] - 0s 1ms/step - loss: 0.0040\n",
      "Epoch 463/500\n",
      "15/15 [==============================] - 0s 1ms/step - loss: 0.0040\n",
      "Epoch 464/500\n",
      "15/15 [==============================] - 0s 1ms/step - loss: 0.0039\n",
      "Epoch 465/500\n",
      "15/15 [==============================] - 0s 1ms/step - loss: 0.0040\n",
      "Epoch 466/500\n",
      "15/15 [==============================] - 0s 1ms/step - loss: 0.0041\n",
      "Epoch 467/500\n",
      "15/15 [==============================] - 0s 1ms/step - loss: 0.0040\n",
      "Epoch 468/500\n",
      "15/15 [==============================] - 0s 1ms/step - loss: 0.0040\n",
      "Epoch 469/500\n",
      "15/15 [==============================] - 0s 1ms/step - loss: 0.0041\n",
      "Epoch 470/500\n",
      "15/15 [==============================] - 0s 1ms/step - loss: 0.0038\n",
      "Epoch 471/500\n",
      "15/15 [==============================] - 0s 1ms/step - loss: 0.0042\n",
      "Epoch 472/500\n",
      "15/15 [==============================] - 0s 1ms/step - loss: 0.0040\n",
      "Epoch 473/500\n",
      "15/15 [==============================] - 0s 2ms/step - loss: 0.0040\n",
      "Epoch 474/500\n",
      "15/15 [==============================] - 0s 1ms/step - loss: 0.0040\n",
      "Epoch 475/500\n",
      "15/15 [==============================] - 0s 1ms/step - loss: 0.0040\n",
      "Epoch 476/500\n",
      "15/15 [==============================] - 0s 1ms/step - loss: 0.0040\n",
      "Epoch 477/500\n",
      "15/15 [==============================] - 0s 1ms/step - loss: 0.0041\n",
      "Epoch 478/500\n",
      "15/15 [==============================] - 0s 1ms/step - loss: 0.0041\n",
      "Epoch 479/500\n",
      "15/15 [==============================] - 0s 1ms/step - loss: 0.0038\n",
      "Epoch 480/500\n",
      "15/15 [==============================] - 0s 1ms/step - loss: 0.0042\n",
      "Epoch 481/500\n",
      "15/15 [==============================] - 0s 1ms/step - loss: 0.0040\n",
      "Epoch 482/500\n",
      "15/15 [==============================] - 0s 1ms/step - loss: 0.0041\n",
      "Epoch 483/500\n",
      "15/15 [==============================] - 0s 1ms/step - loss: 0.0039\n",
      "Epoch 484/500\n",
      "15/15 [==============================] - 0s 1ms/step - loss: 0.0040\n",
      "Epoch 485/500\n",
      "15/15 [==============================] - 0s 1ms/step - loss: 0.0040\n",
      "Epoch 486/500\n",
      "15/15 [==============================] - 0s 1ms/step - loss: 0.0039\n",
      "Epoch 487/500\n",
      "15/15 [==============================] - 0s 1ms/step - loss: 0.0040\n",
      "Epoch 488/500\n",
      "15/15 [==============================] - 0s 1ms/step - loss: 0.0040\n",
      "Epoch 489/500\n",
      "15/15 [==============================] - 0s 1ms/step - loss: 0.0040\n",
      "Epoch 490/500\n",
      "15/15 [==============================] - 0s 1ms/step - loss: 0.0041\n",
      "Epoch 491/500\n",
      "15/15 [==============================] - 0s 1ms/step - loss: 0.0040\n",
      "Epoch 492/500\n",
      "15/15 [==============================] - 0s 1ms/step - loss: 0.0040\n",
      "Epoch 493/500\n",
      "15/15 [==============================] - 0s 2ms/step - loss: 0.0040\n",
      "Epoch 494/500\n",
      "15/15 [==============================] - 0s 1ms/step - loss: 0.0040\n",
      "Epoch 495/500\n",
      "15/15 [==============================] - 0s 1ms/step - loss: 0.0039\n",
      "Epoch 496/500\n",
      "15/15 [==============================] - 0s 1ms/step - loss: 0.0042\n",
      "Epoch 497/500\n",
      "15/15 [==============================] - 0s 1ms/step - loss: 0.0041\n",
      "Epoch 498/500\n",
      "15/15 [==============================] - 0s 1ms/step - loss: 0.0039\n",
      "Epoch 499/500\n",
      "15/15 [==============================] - 0s 1ms/step - loss: 0.0040\n",
      "Epoch 500/500\n",
      "15/15 [==============================] - 0s 1ms/step - loss: 0.0041\n"
     ]
    },
    {
     "data": {
      "text/plain": "<keras.src.callbacks.History at 0x35dec0700>"
     },
     "execution_count": 455,
     "metadata": {},
     "output_type": "execute_result"
    }
   ],
   "source": [
    "model = Sequential()\n",
    "model.add(LSTM(8,activation='tanh',return_sequences=True, input_shape=(1,look_back)))\n",
    "model.add(LSTM(4,activation='tanh',return_sequences=False, input_shape=(1,look_back)))\n",
    "model.add(Dense(1))\n",
    "model.compile(loss='mean_squared_error', optimizer='rmsprop')\n",
    "model.fit(trainX, trainY, epochs=500, batch_size=4, verbose=1)"
   ],
   "metadata": {
    "collapsed": false,
    "ExecuteTime": {
     "end_time": "2023-11-26T19:09:57.347009Z",
     "start_time": "2023-11-26T19:09:44.374472Z"
    }
   }
  },
  {
   "cell_type": "code",
   "execution_count": 456,
   "outputs": [
    {
     "name": "stdout",
     "output_type": "stream",
     "text": [
      "2/2 [==============================] - 1s 4ms/step\n",
      "1/1 [==============================] - 0s 13ms/step\n"
     ]
    }
   ],
   "source": [
    "trainPredict = model.predict(trainX)\n",
    "testPredict = model.predict(testX)"
   ],
   "metadata": {
    "collapsed": false,
    "ExecuteTime": {
     "end_time": "2023-11-26T19:09:57.997046Z",
     "start_time": "2023-11-26T19:09:57.342693Z"
    }
   }
  },
  {
   "cell_type": "code",
   "execution_count": 457,
   "outputs": [],
   "source": [
    "trainPredict.shape, trainY.shape\n",
    "trainPredict = scaler.inverse_transform(trainPredict)\n",
    "trainY = scaler.inverse_transform([trainY])\n",
    "testPredict = scaler.inverse_transform(testPredict)\n",
    "testY = scaler.inverse_transform([testY])"
   ],
   "metadata": {
    "collapsed": false,
    "ExecuteTime": {
     "end_time": "2023-11-26T19:09:57.997356Z",
     "start_time": "2023-11-26T19:09:57.989054Z"
    }
   }
  },
  {
   "cell_type": "code",
   "execution_count": 458,
   "outputs": [
    {
     "data": {
      "text/plain": "(array([344., 308., 317., 342., 312., 310., 306., 306., 322., 336., 307.,\n        361., 412., 415., 412., 442., 394., 450., 413., 436., 400., 459.,\n        468., 495., 514., 522., 431., 438., 438., 442., 414., 421., 382.,\n        429., 384., 374., 388., 372., 387., 415., 382., 438., 411., 410.,\n        409., 423., 397., 414., 403., 391., 385., 416., 400., 407., 442.,\n        433., 484., 458., 466.]),\n array([256.67755, 355.12228, 330.01862, 336.22653, 353.7098 , 332.7716 ,\n        331.3939 , 328.6458 , 328.6458 , 339.69604, 349.48404, 329.3319 ,\n        367.20013, 404.0251 , 406.21014, 404.0251 , 425.9213 , 390.94925,\n        431.7694 , 404.75327, 421.53622, 395.30038, 438.348  , 444.92303,\n        464.5963 , 478.36224, 484.1317 , 417.8834 , 422.99768, 422.99768,\n        425.9213 , 405.48163, 410.58417, 382.27405, 416.42282, 383.71716,\n        376.51385, 386.6068 , 375.07715, 385.88394, 406.21014, 382.27405,\n        422.99768, 403.297  , 402.5691 , 401.84143, 412.0432 , 393.12378,\n        405.48163, 397.47903, 388.7769 , 384.43915, 406.93878, 395.30038,\n        400.38657, 425.9213 , 419.34433, 456.59354, 437.61722],\n       dtype=float32))"
     },
     "execution_count": 458,
     "metadata": {},
     "output_type": "execute_result"
    }
   ],
   "source": [
    "trainY[0],trainPredict[:,0]"
   ],
   "metadata": {
    "collapsed": false,
    "ExecuteTime": {
     "end_time": "2023-11-26T19:09:58.001545Z",
     "start_time": "2023-11-26T19:09:57.996565Z"
    }
   }
  },
  {
   "cell_type": "code",
   "execution_count": 459,
   "outputs": [
    {
     "data": {
      "text/plain": "(array([435., 408., 391., 393., 408., 386., 398., 441., 460., 405., 405.,\n        405., 433., 405., 422., 415., 412., 433., 410., 368., 390., 429.,\n        367., 382.,  23.]),\n array([403.297  , 420.80554, 401.1139 , 388.7769 , 390.22485, 401.1139 ,\n        385.16147, 393.8491 , 425.19034, 439.07883, 398.93237, 398.93237,\n        398.93237, 419.34433, 398.93237, 411.31366, 406.21014, 404.0251 ,\n        419.34433, 402.5691 , 372.20764, 388.05325, 416.42282, 371.49115,\n        382.27405], dtype=float32))"
     },
     "execution_count": 459,
     "metadata": {},
     "output_type": "execute_result"
    }
   ],
   "source": [
    "testY[0],testPredict[:,0]"
   ],
   "metadata": {
    "collapsed": false,
    "ExecuteTime": {
     "end_time": "2023-11-26T19:09:58.007273Z",
     "start_time": "2023-11-26T19:09:58.002588Z"
    }
   }
  },
  {
   "cell_type": "code",
   "execution_count": 460,
   "outputs": [
    {
     "name": "stdout",
     "output_type": "stream",
     "text": [
      "Train Score: 32.09 RMSE\n",
      "Test Score: 75.99 RMSE\n"
     ]
    }
   ],
   "source": [
    "trainScore = math.sqrt(mean_squared_error(trainY[0], trainPredict[:,0]))\n",
    "print('Train Score: %.2f RMSE' % (trainScore))\n",
    "testScore = math.sqrt(mean_squared_error(testY[0], testPredict[:,0]))\n",
    "print('Test Score: %.2f RMSE' % (testScore))"
   ],
   "metadata": {
    "collapsed": false,
    "ExecuteTime": {
     "end_time": "2023-11-26T19:09:58.011174Z",
     "start_time": "2023-11-26T19:09:58.008787Z"
    }
   }
  },
  {
   "cell_type": "code",
   "execution_count": 461,
   "outputs": [],
   "source": [
    "trainPredictPlot = np.empty_like(df1)\n",
    "trainPredictPlot[:, :] = np.nan\n",
    "trainPredictPlot[look_back:len(trainPredict)+look_back, :] = trainPredict"
   ],
   "metadata": {
    "collapsed": false,
    "ExecuteTime": {
     "end_time": "2023-11-26T19:09:58.014856Z",
     "start_time": "2023-11-26T19:09:58.012754Z"
    }
   }
  },
  {
   "cell_type": "code",
   "execution_count": 462,
   "outputs": [],
   "source": [
    "testPredictPlot = np.empty_like(df1)\n",
    "testPredictPlot[:, :] = np.nan\n",
    "testPredictPlot[len(trainPredict)+(look_back):len(df1)-1, :] = testPredict"
   ],
   "metadata": {
    "collapsed": false,
    "ExecuteTime": {
     "end_time": "2023-11-26T19:09:58.038191Z",
     "start_time": "2023-11-26T19:09:58.016908Z"
    }
   }
  },
  {
   "cell_type": "code",
   "execution_count": 485,
   "outputs": [
    {
     "data": {
      "application/vnd.plotly.v1+json": {
       "data": [
        {
         "name": "Original dataset",
         "x": [
          0,
          1,
          2,
          3,
          4,
          5,
          6,
          7,
          8,
          9,
          10,
          11,
          12,
          13,
          14,
          15,
          16,
          17,
          18,
          19,
          20,
          21,
          22,
          23,
          24,
          25,
          26,
          27,
          28,
          29,
          30,
          31,
          32,
          33,
          34,
          35,
          36,
          37,
          38,
          39,
          40,
          41,
          42,
          43,
          44,
          45,
          46,
          47,
          48,
          49,
          50,
          51,
          52,
          53,
          54,
          55,
          56,
          57,
          58,
          59,
          60,
          61,
          62,
          63,
          64,
          65,
          66,
          67,
          68,
          69,
          70,
          71,
          72,
          73,
          74,
          75,
          76,
          77,
          78,
          79,
          80,
          81,
          82,
          83,
          84,
          85
         ],
         "y": [
          266.0,
          335.0,
          332.0,
          351.0,
          360.0,
          354.0,
          353.0,
          328.0,
          350.0,
          383.0,
          314.0,
          288.0,
          247.0,
          260.0,
          229.0,
          277.0,
          303.0,
          332.0,
          313.0,
          273.0,
          325.0,
          267.0,
          276.0,
          322.0,
          362.0,
          345.0,
          329.0,
          297.0,
          344.0,
          360.0,
          340.0,
          329.0,
          330.0,
          366.0,
          325.0,
          313.0,
          302.0,
          332.0,
          304.0,
          324.0,
          291.0,
          314.0,
          308.0,
          268.0,
          283.0,
          294.0,
          302.0,
          275.0,
          274.0,
          277.0,
          286.0,
          245.0,
          254.0,
          241.0,
          260.0,
          279.0,
          243.00000000000003,
          285.0,
          268.0,
          279.0,
          268.0,
          288.0,
          243.00000000000003,
          269.0,
          292.0,
          313.0,
          276.0,
          258.0,
          270.0,
          283.0,
          293.0,
          296.0,
          312.0,
          307.0,
          314.0,
          342.0,
          338.0,
          312.0,
          387.0,
          353.0,
          357.0,
          353.0,
          338.0,
          338.0,
          288.0,
          11.0
         ],
         "type": "scatter"
        },
        {
         "name": "Predict with Train set",
         "x": [
          0,
          1,
          2,
          3,
          4,
          5,
          6,
          7,
          8,
          9,
          10,
          11,
          12,
          13,
          14,
          15,
          16,
          17,
          18,
          19,
          20,
          21,
          22,
          23,
          24,
          25,
          26,
          27,
          28,
          29,
          30,
          31,
          32,
          33,
          34,
          35,
          36,
          37,
          38,
          39,
          40,
          41,
          42,
          43,
          44,
          45,
          46,
          47,
          48,
          49,
          50,
          51,
          52,
          53,
          54,
          55,
          56,
          57,
          58,
          59,
          60,
          61,
          62,
          63,
          64,
          65,
          66,
          67,
          68,
          69,
          70,
          71,
          72,
          73,
          74,
          75,
          76,
          77,
          78,
          79,
          80,
          81,
          82,
          83,
          84,
          85
         ],
         "y": [
          null,
          282.262451171875,
          328.6957702636719,
          326.6545715332031,
          339.5953369140625,
          345.7309875488281,
          341.6404724121094,
          340.958740234375,
          323.9346923828125,
          338.9136962890625,
          361.39849853515625,
          314.4350280761719,
          296.9128723144531,
          269.7825927734375,
          278.3023986816406,
          258.1388854980469,
          289.5638122558594,
          306.99932861328125,
          326.6545715332031,
          313.7579040527344,
          286.9029235839844,
          321.896240234375,
          282.924072265625,
          288.8979797363281,
          319.8592224121094,
          347.0944519042969,
          335.50604248046875,
          324.61444091796875,
          302.9566345214844,
          334.8246765136719,
          345.7309875488281,
          332.0998229980469,
          324.61444091796875,
          325.2943420410156,
          349.82110595703125,
          321.896240234375,
          313.7579040527344,
          306.3248596191406,
          326.6545715332031,
          307.6741027832031,
          321.217041015625,
          298.9245910644531,
          314.4350280761719,
          310.3756103515625,
          283.5861511230469,
          293.5668640136719,
          300.9391784667969,
          306.3248596191406,
          288.2325134277344,
          287.5675048828125,
          289.5638122558594,
          295.5733947753906,
          268.479736328125,
          274.3594970703125,
          265.880615234375,
          278.3023986816406,
          290.8966064453125,
          267.1790466308594,
          294.9042053222656,
          283.5861511230469,
          null,
          null,
          null,
          null,
          null,
          null,
          null,
          null,
          null,
          null,
          null,
          null,
          null,
          null,
          null,
          null,
          null,
          null,
          null,
          null,
          null,
          null,
          null,
          null,
          null,
          null
         ],
         "type": "scatter"
        },
        {
         "name": "Predict with Test set",
         "x": [
          0,
          1,
          2,
          3,
          4,
          5,
          6,
          7,
          8,
          9,
          10,
          11,
          12,
          13,
          14,
          15,
          16,
          17,
          18,
          19,
          20,
          21,
          22,
          23,
          24,
          25,
          26,
          27,
          28,
          29,
          30,
          31,
          32,
          33,
          34,
          35,
          36,
          37,
          38,
          39,
          40,
          41,
          42,
          43,
          44,
          45,
          46,
          47,
          48,
          49,
          50,
          51,
          52,
          53,
          54,
          55,
          56,
          57,
          58,
          59,
          60,
          61,
          62,
          63,
          64,
          65,
          66,
          67,
          68,
          69,
          70,
          71,
          72,
          73,
          74,
          75,
          76,
          77,
          78,
          79,
          80,
          81,
          82,
          83,
          84,
          85
         ],
         "y": [
          null,
          null,
          null,
          null,
          null,
          null,
          null,
          null,
          null,
          null,
          null,
          null,
          null,
          null,
          null,
          null,
          null,
          null,
          null,
          null,
          null,
          null,
          null,
          null,
          null,
          null,
          null,
          null,
          null,
          null,
          null,
          null,
          null,
          null,
          null,
          null,
          null,
          null,
          null,
          null,
          null,
          null,
          null,
          null,
          null,
          null,
          null,
          null,
          null,
          null,
          null,
          null,
          null,
          null,
          null,
          null,
          null,
          null,
          null,
          null,
          283.5861511230469,
          296.9128723144531,
          267.1790466308594,
          284.2486572265625,
          299.5957946777344,
          313.7579040527344,
          288.8979797363281,
          276.98614501953125,
          284.91156005859375,
          293.5668640136719,
          300.2673034667969,
          302.28387451171875,
          313.0810241699219,
          309.6998596191406,
          314.4350280761719,
          333.4621276855469,
          330.7379455566406,
          313.0810241699219,
          364.118408203125,
          340.958740234375,
          343.68572998046875,
          340.958740234375,
          330.7379455566406,
          330.7379455566406,
          296.9128723144531,
          null
         ],
         "type": "scatter"
        }
       ],
       "layout": {
        "template": {
         "data": {
          "histogram2dcontour": [
           {
            "type": "histogram2dcontour",
            "colorbar": {
             "outlinewidth": 0,
             "ticks": ""
            },
            "colorscale": [
             [
              0.0,
              "#0d0887"
             ],
             [
              0.1111111111111111,
              "#46039f"
             ],
             [
              0.2222222222222222,
              "#7201a8"
             ],
             [
              0.3333333333333333,
              "#9c179e"
             ],
             [
              0.4444444444444444,
              "#bd3786"
             ],
             [
              0.5555555555555556,
              "#d8576b"
             ],
             [
              0.6666666666666666,
              "#ed7953"
             ],
             [
              0.7777777777777778,
              "#fb9f3a"
             ],
             [
              0.8888888888888888,
              "#fdca26"
             ],
             [
              1.0,
              "#f0f921"
             ]
            ]
           }
          ],
          "choropleth": [
           {
            "type": "choropleth",
            "colorbar": {
             "outlinewidth": 0,
             "ticks": ""
            }
           }
          ],
          "histogram2d": [
           {
            "type": "histogram2d",
            "colorbar": {
             "outlinewidth": 0,
             "ticks": ""
            },
            "colorscale": [
             [
              0.0,
              "#0d0887"
             ],
             [
              0.1111111111111111,
              "#46039f"
             ],
             [
              0.2222222222222222,
              "#7201a8"
             ],
             [
              0.3333333333333333,
              "#9c179e"
             ],
             [
              0.4444444444444444,
              "#bd3786"
             ],
             [
              0.5555555555555556,
              "#d8576b"
             ],
             [
              0.6666666666666666,
              "#ed7953"
             ],
             [
              0.7777777777777778,
              "#fb9f3a"
             ],
             [
              0.8888888888888888,
              "#fdca26"
             ],
             [
              1.0,
              "#f0f921"
             ]
            ]
           }
          ],
          "heatmap": [
           {
            "type": "heatmap",
            "colorbar": {
             "outlinewidth": 0,
             "ticks": ""
            },
            "colorscale": [
             [
              0.0,
              "#0d0887"
             ],
             [
              0.1111111111111111,
              "#46039f"
             ],
             [
              0.2222222222222222,
              "#7201a8"
             ],
             [
              0.3333333333333333,
              "#9c179e"
             ],
             [
              0.4444444444444444,
              "#bd3786"
             ],
             [
              0.5555555555555556,
              "#d8576b"
             ],
             [
              0.6666666666666666,
              "#ed7953"
             ],
             [
              0.7777777777777778,
              "#fb9f3a"
             ],
             [
              0.8888888888888888,
              "#fdca26"
             ],
             [
              1.0,
              "#f0f921"
             ]
            ]
           }
          ],
          "heatmapgl": [
           {
            "type": "heatmapgl",
            "colorbar": {
             "outlinewidth": 0,
             "ticks": ""
            },
            "colorscale": [
             [
              0.0,
              "#0d0887"
             ],
             [
              0.1111111111111111,
              "#46039f"
             ],
             [
              0.2222222222222222,
              "#7201a8"
             ],
             [
              0.3333333333333333,
              "#9c179e"
             ],
             [
              0.4444444444444444,
              "#bd3786"
             ],
             [
              0.5555555555555556,
              "#d8576b"
             ],
             [
              0.6666666666666666,
              "#ed7953"
             ],
             [
              0.7777777777777778,
              "#fb9f3a"
             ],
             [
              0.8888888888888888,
              "#fdca26"
             ],
             [
              1.0,
              "#f0f921"
             ]
            ]
           }
          ],
          "contourcarpet": [
           {
            "type": "contourcarpet",
            "colorbar": {
             "outlinewidth": 0,
             "ticks": ""
            }
           }
          ],
          "contour": [
           {
            "type": "contour",
            "colorbar": {
             "outlinewidth": 0,
             "ticks": ""
            },
            "colorscale": [
             [
              0.0,
              "#0d0887"
             ],
             [
              0.1111111111111111,
              "#46039f"
             ],
             [
              0.2222222222222222,
              "#7201a8"
             ],
             [
              0.3333333333333333,
              "#9c179e"
             ],
             [
              0.4444444444444444,
              "#bd3786"
             ],
             [
              0.5555555555555556,
              "#d8576b"
             ],
             [
              0.6666666666666666,
              "#ed7953"
             ],
             [
              0.7777777777777778,
              "#fb9f3a"
             ],
             [
              0.8888888888888888,
              "#fdca26"
             ],
             [
              1.0,
              "#f0f921"
             ]
            ]
           }
          ],
          "surface": [
           {
            "type": "surface",
            "colorbar": {
             "outlinewidth": 0,
             "ticks": ""
            },
            "colorscale": [
             [
              0.0,
              "#0d0887"
             ],
             [
              0.1111111111111111,
              "#46039f"
             ],
             [
              0.2222222222222222,
              "#7201a8"
             ],
             [
              0.3333333333333333,
              "#9c179e"
             ],
             [
              0.4444444444444444,
              "#bd3786"
             ],
             [
              0.5555555555555556,
              "#d8576b"
             ],
             [
              0.6666666666666666,
              "#ed7953"
             ],
             [
              0.7777777777777778,
              "#fb9f3a"
             ],
             [
              0.8888888888888888,
              "#fdca26"
             ],
             [
              1.0,
              "#f0f921"
             ]
            ]
           }
          ],
          "mesh3d": [
           {
            "type": "mesh3d",
            "colorbar": {
             "outlinewidth": 0,
             "ticks": ""
            }
           }
          ],
          "scatter": [
           {
            "marker": {
             "line": {
              "color": "#283442"
             }
            },
            "type": "scatter"
           }
          ],
          "parcoords": [
           {
            "type": "parcoords",
            "line": {
             "colorbar": {
              "outlinewidth": 0,
              "ticks": ""
             }
            }
           }
          ],
          "scatterpolargl": [
           {
            "type": "scatterpolargl",
            "marker": {
             "colorbar": {
              "outlinewidth": 0,
              "ticks": ""
             }
            }
           }
          ],
          "bar": [
           {
            "error_x": {
             "color": "#f2f5fa"
            },
            "error_y": {
             "color": "#f2f5fa"
            },
            "marker": {
             "line": {
              "color": "rgb(17,17,17)",
              "width": 0.5
             },
             "pattern": {
              "fillmode": "overlay",
              "size": 10,
              "solidity": 0.2
             }
            },
            "type": "bar"
           }
          ],
          "scattergeo": [
           {
            "type": "scattergeo",
            "marker": {
             "colorbar": {
              "outlinewidth": 0,
              "ticks": ""
             }
            }
           }
          ],
          "scatterpolar": [
           {
            "type": "scatterpolar",
            "marker": {
             "colorbar": {
              "outlinewidth": 0,
              "ticks": ""
             }
            }
           }
          ],
          "histogram": [
           {
            "marker": {
             "pattern": {
              "fillmode": "overlay",
              "size": 10,
              "solidity": 0.2
             }
            },
            "type": "histogram"
           }
          ],
          "scattergl": [
           {
            "marker": {
             "line": {
              "color": "#283442"
             }
            },
            "type": "scattergl"
           }
          ],
          "scatter3d": [
           {
            "type": "scatter3d",
            "line": {
             "colorbar": {
              "outlinewidth": 0,
              "ticks": ""
             }
            },
            "marker": {
             "colorbar": {
              "outlinewidth": 0,
              "ticks": ""
             }
            }
           }
          ],
          "scattermapbox": [
           {
            "type": "scattermapbox",
            "marker": {
             "colorbar": {
              "outlinewidth": 0,
              "ticks": ""
             }
            }
           }
          ],
          "scatterternary": [
           {
            "type": "scatterternary",
            "marker": {
             "colorbar": {
              "outlinewidth": 0,
              "ticks": ""
             }
            }
           }
          ],
          "scattercarpet": [
           {
            "type": "scattercarpet",
            "marker": {
             "colorbar": {
              "outlinewidth": 0,
              "ticks": ""
             }
            }
           }
          ],
          "carpet": [
           {
            "aaxis": {
             "endlinecolor": "#A2B1C6",
             "gridcolor": "#506784",
             "linecolor": "#506784",
             "minorgridcolor": "#506784",
             "startlinecolor": "#A2B1C6"
            },
            "baxis": {
             "endlinecolor": "#A2B1C6",
             "gridcolor": "#506784",
             "linecolor": "#506784",
             "minorgridcolor": "#506784",
             "startlinecolor": "#A2B1C6"
            },
            "type": "carpet"
           }
          ],
          "table": [
           {
            "cells": {
             "fill": {
              "color": "#506784"
             },
             "line": {
              "color": "rgb(17,17,17)"
             }
            },
            "header": {
             "fill": {
              "color": "#2a3f5f"
             },
             "line": {
              "color": "rgb(17,17,17)"
             }
            },
            "type": "table"
           }
          ],
          "barpolar": [
           {
            "marker": {
             "line": {
              "color": "rgb(17,17,17)",
              "width": 0.5
             },
             "pattern": {
              "fillmode": "overlay",
              "size": 10,
              "solidity": 0.2
             }
            },
            "type": "barpolar"
           }
          ],
          "pie": [
           {
            "automargin": true,
            "type": "pie"
           }
          ]
         },
         "layout": {
          "autotypenumbers": "strict",
          "colorway": [
           "#636efa",
           "#EF553B",
           "#00cc96",
           "#ab63fa",
           "#FFA15A",
           "#19d3f3",
           "#FF6692",
           "#B6E880",
           "#FF97FF",
           "#FECB52"
          ],
          "font": {
           "color": "#f2f5fa"
          },
          "hovermode": "closest",
          "hoverlabel": {
           "align": "left"
          },
          "paper_bgcolor": "rgb(17,17,17)",
          "plot_bgcolor": "rgb(17,17,17)",
          "polar": {
           "bgcolor": "rgb(17,17,17)",
           "angularaxis": {
            "gridcolor": "#506784",
            "linecolor": "#506784",
            "ticks": ""
           },
           "radialaxis": {
            "gridcolor": "#506784",
            "linecolor": "#506784",
            "ticks": ""
           }
          },
          "ternary": {
           "bgcolor": "rgb(17,17,17)",
           "aaxis": {
            "gridcolor": "#506784",
            "linecolor": "#506784",
            "ticks": ""
           },
           "baxis": {
            "gridcolor": "#506784",
            "linecolor": "#506784",
            "ticks": ""
           },
           "caxis": {
            "gridcolor": "#506784",
            "linecolor": "#506784",
            "ticks": ""
           }
          },
          "coloraxis": {
           "colorbar": {
            "outlinewidth": 0,
            "ticks": ""
           }
          },
          "colorscale": {
           "sequential": [
            [
             0.0,
             "#0d0887"
            ],
            [
             0.1111111111111111,
             "#46039f"
            ],
            [
             0.2222222222222222,
             "#7201a8"
            ],
            [
             0.3333333333333333,
             "#9c179e"
            ],
            [
             0.4444444444444444,
             "#bd3786"
            ],
            [
             0.5555555555555556,
             "#d8576b"
            ],
            [
             0.6666666666666666,
             "#ed7953"
            ],
            [
             0.7777777777777778,
             "#fb9f3a"
            ],
            [
             0.8888888888888888,
             "#fdca26"
            ],
            [
             1.0,
             "#f0f921"
            ]
           ],
           "sequentialminus": [
            [
             0.0,
             "#0d0887"
            ],
            [
             0.1111111111111111,
             "#46039f"
            ],
            [
             0.2222222222222222,
             "#7201a8"
            ],
            [
             0.3333333333333333,
             "#9c179e"
            ],
            [
             0.4444444444444444,
             "#bd3786"
            ],
            [
             0.5555555555555556,
             "#d8576b"
            ],
            [
             0.6666666666666666,
             "#ed7953"
            ],
            [
             0.7777777777777778,
             "#fb9f3a"
            ],
            [
             0.8888888888888888,
             "#fdca26"
            ],
            [
             1.0,
             "#f0f921"
            ]
           ],
           "diverging": [
            [
             0,
             "#8e0152"
            ],
            [
             0.1,
             "#c51b7d"
            ],
            [
             0.2,
             "#de77ae"
            ],
            [
             0.3,
             "#f1b6da"
            ],
            [
             0.4,
             "#fde0ef"
            ],
            [
             0.5,
             "#f7f7f7"
            ],
            [
             0.6,
             "#e6f5d0"
            ],
            [
             0.7,
             "#b8e186"
            ],
            [
             0.8,
             "#7fbc41"
            ],
            [
             0.9,
             "#4d9221"
            ],
            [
             1,
             "#276419"
            ]
           ]
          },
          "xaxis": {
           "gridcolor": "#283442",
           "linecolor": "#506784",
           "ticks": "",
           "title": {
            "standoff": 15
           },
           "zerolinecolor": "#283442",
           "automargin": true,
           "zerolinewidth": 2
          },
          "yaxis": {
           "gridcolor": "#283442",
           "linecolor": "#506784",
           "ticks": "",
           "title": {
            "standoff": 15
           },
           "zerolinecolor": "#283442",
           "automargin": true,
           "zerolinewidth": 2
          },
          "scene": {
           "xaxis": {
            "backgroundcolor": "rgb(17,17,17)",
            "gridcolor": "#506784",
            "linecolor": "#506784",
            "showbackground": true,
            "ticks": "",
            "zerolinecolor": "#C8D4E3",
            "gridwidth": 2
           },
           "yaxis": {
            "backgroundcolor": "rgb(17,17,17)",
            "gridcolor": "#506784",
            "linecolor": "#506784",
            "showbackground": true,
            "ticks": "",
            "zerolinecolor": "#C8D4E3",
            "gridwidth": 2
           },
           "zaxis": {
            "backgroundcolor": "rgb(17,17,17)",
            "gridcolor": "#506784",
            "linecolor": "#506784",
            "showbackground": true,
            "ticks": "",
            "zerolinecolor": "#C8D4E3",
            "gridwidth": 2
           }
          },
          "shapedefaults": {
           "line": {
            "color": "#f2f5fa"
           }
          },
          "annotationdefaults": {
           "arrowcolor": "#f2f5fa",
           "arrowhead": 0,
           "arrowwidth": 1
          },
          "geo": {
           "bgcolor": "rgb(17,17,17)",
           "landcolor": "rgb(17,17,17)",
           "subunitcolor": "#506784",
           "showland": true,
           "showlakes": true,
           "lakecolor": "rgb(17,17,17)"
          },
          "title": {
           "x": 0.05
          },
          "updatemenudefaults": {
           "bgcolor": "#506784",
           "borderwidth": 0
          },
          "sliderdefaults": {
           "bgcolor": "#C8D4E3",
           "borderwidth": 1,
           "bordercolor": "rgb(17,17,17)",
           "tickwidth": 0
          },
          "mapbox": {
           "style": "dark"
          }
         }
        },
        "width": 1024,
        "height": 500,
        "title": {
         "text": "[LSTM] Prediction for Stolen Vehicle (Code 510)"
        },
        "xaxis": {
         "title": {
          "text": "Weeks"
         }
        },
        "yaxis": {
         "title": {
          "text": "Number of crimes"
         }
        }
       },
       "config": {
        "plotlyServerURL": "https://plot.ly"
       }
      },
      "text/html": "<div>                            <div id=\"0dc97ca8-fb13-4f18-9358-0ae8850ad534\" class=\"plotly-graph-div\" style=\"height:500px; width:1024px;\"></div>            <script type=\"text/javascript\">                require([\"plotly\"], function(Plotly) {                    window.PLOTLYENV=window.PLOTLYENV || {};                                    if (document.getElementById(\"0dc97ca8-fb13-4f18-9358-0ae8850ad534\")) {                    Plotly.newPlot(                        \"0dc97ca8-fb13-4f18-9358-0ae8850ad534\",                        [{\"name\":\"Original dataset\",\"x\":[0,1,2,3,4,5,6,7,8,9,10,11,12,13,14,15,16,17,18,19,20,21,22,23,24,25,26,27,28,29,30,31,32,33,34,35,36,37,38,39,40,41,42,43,44,45,46,47,48,49,50,51,52,53,54,55,56,57,58,59,60,61,62,63,64,65,66,67,68,69,70,71,72,73,74,75,76,77,78,79,80,81,82,83,84,85],\"y\":[266.0,335.0,332.0,351.0,360.0,354.0,353.0,328.0,350.0,383.0,314.0,288.0,247.0,260.0,229.0,277.0,303.0,332.0,313.0,273.0,325.0,267.0,276.0,322.0,362.0,345.0,329.0,297.0,344.0,360.0,340.0,329.0,330.0,366.0,325.0,313.0,302.0,332.0,304.0,324.0,291.0,314.0,308.0,268.0,283.0,294.0,302.0,275.0,274.0,277.0,286.0,245.0,254.0,241.0,260.0,279.0,243.00000000000003,285.0,268.0,279.0,268.0,288.0,243.00000000000003,269.0,292.0,313.0,276.0,258.0,270.0,283.0,293.0,296.0,312.0,307.0,314.0,342.0,338.0,312.0,387.0,353.0,357.0,353.0,338.0,338.0,288.0,11.0],\"type\":\"scatter\"},{\"name\":\"Predict with Train set\",\"x\":[0,1,2,3,4,5,6,7,8,9,10,11,12,13,14,15,16,17,18,19,20,21,22,23,24,25,26,27,28,29,30,31,32,33,34,35,36,37,38,39,40,41,42,43,44,45,46,47,48,49,50,51,52,53,54,55,56,57,58,59,60,61,62,63,64,65,66,67,68,69,70,71,72,73,74,75,76,77,78,79,80,81,82,83,84,85],\"y\":[null,282.262451171875,328.6957702636719,326.6545715332031,339.5953369140625,345.7309875488281,341.6404724121094,340.958740234375,323.9346923828125,338.9136962890625,361.39849853515625,314.4350280761719,296.9128723144531,269.7825927734375,278.3023986816406,258.1388854980469,289.5638122558594,306.99932861328125,326.6545715332031,313.7579040527344,286.9029235839844,321.896240234375,282.924072265625,288.8979797363281,319.8592224121094,347.0944519042969,335.50604248046875,324.61444091796875,302.9566345214844,334.8246765136719,345.7309875488281,332.0998229980469,324.61444091796875,325.2943420410156,349.82110595703125,321.896240234375,313.7579040527344,306.3248596191406,326.6545715332031,307.6741027832031,321.217041015625,298.9245910644531,314.4350280761719,310.3756103515625,283.5861511230469,293.5668640136719,300.9391784667969,306.3248596191406,288.2325134277344,287.5675048828125,289.5638122558594,295.5733947753906,268.479736328125,274.3594970703125,265.880615234375,278.3023986816406,290.8966064453125,267.1790466308594,294.9042053222656,283.5861511230469,null,null,null,null,null,null,null,null,null,null,null,null,null,null,null,null,null,null,null,null,null,null,null,null,null,null],\"type\":\"scatter\"},{\"name\":\"Predict with Test set\",\"x\":[0,1,2,3,4,5,6,7,8,9,10,11,12,13,14,15,16,17,18,19,20,21,22,23,24,25,26,27,28,29,30,31,32,33,34,35,36,37,38,39,40,41,42,43,44,45,46,47,48,49,50,51,52,53,54,55,56,57,58,59,60,61,62,63,64,65,66,67,68,69,70,71,72,73,74,75,76,77,78,79,80,81,82,83,84,85],\"y\":[null,null,null,null,null,null,null,null,null,null,null,null,null,null,null,null,null,null,null,null,null,null,null,null,null,null,null,null,null,null,null,null,null,null,null,null,null,null,null,null,null,null,null,null,null,null,null,null,null,null,null,null,null,null,null,null,null,null,null,null,283.5861511230469,296.9128723144531,267.1790466308594,284.2486572265625,299.5957946777344,313.7579040527344,288.8979797363281,276.98614501953125,284.91156005859375,293.5668640136719,300.2673034667969,302.28387451171875,313.0810241699219,309.6998596191406,314.4350280761719,333.4621276855469,330.7379455566406,313.0810241699219,364.118408203125,340.958740234375,343.68572998046875,340.958740234375,330.7379455566406,330.7379455566406,296.9128723144531,null],\"type\":\"scatter\"}],                        {\"template\":{\"data\":{\"histogram2dcontour\":[{\"type\":\"histogram2dcontour\",\"colorbar\":{\"outlinewidth\":0,\"ticks\":\"\"},\"colorscale\":[[0.0,\"#0d0887\"],[0.1111111111111111,\"#46039f\"],[0.2222222222222222,\"#7201a8\"],[0.3333333333333333,\"#9c179e\"],[0.4444444444444444,\"#bd3786\"],[0.5555555555555556,\"#d8576b\"],[0.6666666666666666,\"#ed7953\"],[0.7777777777777778,\"#fb9f3a\"],[0.8888888888888888,\"#fdca26\"],[1.0,\"#f0f921\"]]}],\"choropleth\":[{\"type\":\"choropleth\",\"colorbar\":{\"outlinewidth\":0,\"ticks\":\"\"}}],\"histogram2d\":[{\"type\":\"histogram2d\",\"colorbar\":{\"outlinewidth\":0,\"ticks\":\"\"},\"colorscale\":[[0.0,\"#0d0887\"],[0.1111111111111111,\"#46039f\"],[0.2222222222222222,\"#7201a8\"],[0.3333333333333333,\"#9c179e\"],[0.4444444444444444,\"#bd3786\"],[0.5555555555555556,\"#d8576b\"],[0.6666666666666666,\"#ed7953\"],[0.7777777777777778,\"#fb9f3a\"],[0.8888888888888888,\"#fdca26\"],[1.0,\"#f0f921\"]]}],\"heatmap\":[{\"type\":\"heatmap\",\"colorbar\":{\"outlinewidth\":0,\"ticks\":\"\"},\"colorscale\":[[0.0,\"#0d0887\"],[0.1111111111111111,\"#46039f\"],[0.2222222222222222,\"#7201a8\"],[0.3333333333333333,\"#9c179e\"],[0.4444444444444444,\"#bd3786\"],[0.5555555555555556,\"#d8576b\"],[0.6666666666666666,\"#ed7953\"],[0.7777777777777778,\"#fb9f3a\"],[0.8888888888888888,\"#fdca26\"],[1.0,\"#f0f921\"]]}],\"heatmapgl\":[{\"type\":\"heatmapgl\",\"colorbar\":{\"outlinewidth\":0,\"ticks\":\"\"},\"colorscale\":[[0.0,\"#0d0887\"],[0.1111111111111111,\"#46039f\"],[0.2222222222222222,\"#7201a8\"],[0.3333333333333333,\"#9c179e\"],[0.4444444444444444,\"#bd3786\"],[0.5555555555555556,\"#d8576b\"],[0.6666666666666666,\"#ed7953\"],[0.7777777777777778,\"#fb9f3a\"],[0.8888888888888888,\"#fdca26\"],[1.0,\"#f0f921\"]]}],\"contourcarpet\":[{\"type\":\"contourcarpet\",\"colorbar\":{\"outlinewidth\":0,\"ticks\":\"\"}}],\"contour\":[{\"type\":\"contour\",\"colorbar\":{\"outlinewidth\":0,\"ticks\":\"\"},\"colorscale\":[[0.0,\"#0d0887\"],[0.1111111111111111,\"#46039f\"],[0.2222222222222222,\"#7201a8\"],[0.3333333333333333,\"#9c179e\"],[0.4444444444444444,\"#bd3786\"],[0.5555555555555556,\"#d8576b\"],[0.6666666666666666,\"#ed7953\"],[0.7777777777777778,\"#fb9f3a\"],[0.8888888888888888,\"#fdca26\"],[1.0,\"#f0f921\"]]}],\"surface\":[{\"type\":\"surface\",\"colorbar\":{\"outlinewidth\":0,\"ticks\":\"\"},\"colorscale\":[[0.0,\"#0d0887\"],[0.1111111111111111,\"#46039f\"],[0.2222222222222222,\"#7201a8\"],[0.3333333333333333,\"#9c179e\"],[0.4444444444444444,\"#bd3786\"],[0.5555555555555556,\"#d8576b\"],[0.6666666666666666,\"#ed7953\"],[0.7777777777777778,\"#fb9f3a\"],[0.8888888888888888,\"#fdca26\"],[1.0,\"#f0f921\"]]}],\"mesh3d\":[{\"type\":\"mesh3d\",\"colorbar\":{\"outlinewidth\":0,\"ticks\":\"\"}}],\"scatter\":[{\"marker\":{\"line\":{\"color\":\"#283442\"}},\"type\":\"scatter\"}],\"parcoords\":[{\"type\":\"parcoords\",\"line\":{\"colorbar\":{\"outlinewidth\":0,\"ticks\":\"\"}}}],\"scatterpolargl\":[{\"type\":\"scatterpolargl\",\"marker\":{\"colorbar\":{\"outlinewidth\":0,\"ticks\":\"\"}}}],\"bar\":[{\"error_x\":{\"color\":\"#f2f5fa\"},\"error_y\":{\"color\":\"#f2f5fa\"},\"marker\":{\"line\":{\"color\":\"rgb(17,17,17)\",\"width\":0.5},\"pattern\":{\"fillmode\":\"overlay\",\"size\":10,\"solidity\":0.2}},\"type\":\"bar\"}],\"scattergeo\":[{\"type\":\"scattergeo\",\"marker\":{\"colorbar\":{\"outlinewidth\":0,\"ticks\":\"\"}}}],\"scatterpolar\":[{\"type\":\"scatterpolar\",\"marker\":{\"colorbar\":{\"outlinewidth\":0,\"ticks\":\"\"}}}],\"histogram\":[{\"marker\":{\"pattern\":{\"fillmode\":\"overlay\",\"size\":10,\"solidity\":0.2}},\"type\":\"histogram\"}],\"scattergl\":[{\"marker\":{\"line\":{\"color\":\"#283442\"}},\"type\":\"scattergl\"}],\"scatter3d\":[{\"type\":\"scatter3d\",\"line\":{\"colorbar\":{\"outlinewidth\":0,\"ticks\":\"\"}},\"marker\":{\"colorbar\":{\"outlinewidth\":0,\"ticks\":\"\"}}}],\"scattermapbox\":[{\"type\":\"scattermapbox\",\"marker\":{\"colorbar\":{\"outlinewidth\":0,\"ticks\":\"\"}}}],\"scatterternary\":[{\"type\":\"scatterternary\",\"marker\":{\"colorbar\":{\"outlinewidth\":0,\"ticks\":\"\"}}}],\"scattercarpet\":[{\"type\":\"scattercarpet\",\"marker\":{\"colorbar\":{\"outlinewidth\":0,\"ticks\":\"\"}}}],\"carpet\":[{\"aaxis\":{\"endlinecolor\":\"#A2B1C6\",\"gridcolor\":\"#506784\",\"linecolor\":\"#506784\",\"minorgridcolor\":\"#506784\",\"startlinecolor\":\"#A2B1C6\"},\"baxis\":{\"endlinecolor\":\"#A2B1C6\",\"gridcolor\":\"#506784\",\"linecolor\":\"#506784\",\"minorgridcolor\":\"#506784\",\"startlinecolor\":\"#A2B1C6\"},\"type\":\"carpet\"}],\"table\":[{\"cells\":{\"fill\":{\"color\":\"#506784\"},\"line\":{\"color\":\"rgb(17,17,17)\"}},\"header\":{\"fill\":{\"color\":\"#2a3f5f\"},\"line\":{\"color\":\"rgb(17,17,17)\"}},\"type\":\"table\"}],\"barpolar\":[{\"marker\":{\"line\":{\"color\":\"rgb(17,17,17)\",\"width\":0.5},\"pattern\":{\"fillmode\":\"overlay\",\"size\":10,\"solidity\":0.2}},\"type\":\"barpolar\"}],\"pie\":[{\"automargin\":true,\"type\":\"pie\"}]},\"layout\":{\"autotypenumbers\":\"strict\",\"colorway\":[\"#636efa\",\"#EF553B\",\"#00cc96\",\"#ab63fa\",\"#FFA15A\",\"#19d3f3\",\"#FF6692\",\"#B6E880\",\"#FF97FF\",\"#FECB52\"],\"font\":{\"color\":\"#f2f5fa\"},\"hovermode\":\"closest\",\"hoverlabel\":{\"align\":\"left\"},\"paper_bgcolor\":\"rgb(17,17,17)\",\"plot_bgcolor\":\"rgb(17,17,17)\",\"polar\":{\"bgcolor\":\"rgb(17,17,17)\",\"angularaxis\":{\"gridcolor\":\"#506784\",\"linecolor\":\"#506784\",\"ticks\":\"\"},\"radialaxis\":{\"gridcolor\":\"#506784\",\"linecolor\":\"#506784\",\"ticks\":\"\"}},\"ternary\":{\"bgcolor\":\"rgb(17,17,17)\",\"aaxis\":{\"gridcolor\":\"#506784\",\"linecolor\":\"#506784\",\"ticks\":\"\"},\"baxis\":{\"gridcolor\":\"#506784\",\"linecolor\":\"#506784\",\"ticks\":\"\"},\"caxis\":{\"gridcolor\":\"#506784\",\"linecolor\":\"#506784\",\"ticks\":\"\"}},\"coloraxis\":{\"colorbar\":{\"outlinewidth\":0,\"ticks\":\"\"}},\"colorscale\":{\"sequential\":[[0.0,\"#0d0887\"],[0.1111111111111111,\"#46039f\"],[0.2222222222222222,\"#7201a8\"],[0.3333333333333333,\"#9c179e\"],[0.4444444444444444,\"#bd3786\"],[0.5555555555555556,\"#d8576b\"],[0.6666666666666666,\"#ed7953\"],[0.7777777777777778,\"#fb9f3a\"],[0.8888888888888888,\"#fdca26\"],[1.0,\"#f0f921\"]],\"sequentialminus\":[[0.0,\"#0d0887\"],[0.1111111111111111,\"#46039f\"],[0.2222222222222222,\"#7201a8\"],[0.3333333333333333,\"#9c179e\"],[0.4444444444444444,\"#bd3786\"],[0.5555555555555556,\"#d8576b\"],[0.6666666666666666,\"#ed7953\"],[0.7777777777777778,\"#fb9f3a\"],[0.8888888888888888,\"#fdca26\"],[1.0,\"#f0f921\"]],\"diverging\":[[0,\"#8e0152\"],[0.1,\"#c51b7d\"],[0.2,\"#de77ae\"],[0.3,\"#f1b6da\"],[0.4,\"#fde0ef\"],[0.5,\"#f7f7f7\"],[0.6,\"#e6f5d0\"],[0.7,\"#b8e186\"],[0.8,\"#7fbc41\"],[0.9,\"#4d9221\"],[1,\"#276419\"]]},\"xaxis\":{\"gridcolor\":\"#283442\",\"linecolor\":\"#506784\",\"ticks\":\"\",\"title\":{\"standoff\":15},\"zerolinecolor\":\"#283442\",\"automargin\":true,\"zerolinewidth\":2},\"yaxis\":{\"gridcolor\":\"#283442\",\"linecolor\":\"#506784\",\"ticks\":\"\",\"title\":{\"standoff\":15},\"zerolinecolor\":\"#283442\",\"automargin\":true,\"zerolinewidth\":2},\"scene\":{\"xaxis\":{\"backgroundcolor\":\"rgb(17,17,17)\",\"gridcolor\":\"#506784\",\"linecolor\":\"#506784\",\"showbackground\":true,\"ticks\":\"\",\"zerolinecolor\":\"#C8D4E3\",\"gridwidth\":2},\"yaxis\":{\"backgroundcolor\":\"rgb(17,17,17)\",\"gridcolor\":\"#506784\",\"linecolor\":\"#506784\",\"showbackground\":true,\"ticks\":\"\",\"zerolinecolor\":\"#C8D4E3\",\"gridwidth\":2},\"zaxis\":{\"backgroundcolor\":\"rgb(17,17,17)\",\"gridcolor\":\"#506784\",\"linecolor\":\"#506784\",\"showbackground\":true,\"ticks\":\"\",\"zerolinecolor\":\"#C8D4E3\",\"gridwidth\":2}},\"shapedefaults\":{\"line\":{\"color\":\"#f2f5fa\"}},\"annotationdefaults\":{\"arrowcolor\":\"#f2f5fa\",\"arrowhead\":0,\"arrowwidth\":1},\"geo\":{\"bgcolor\":\"rgb(17,17,17)\",\"landcolor\":\"rgb(17,17,17)\",\"subunitcolor\":\"#506784\",\"showland\":true,\"showlakes\":true,\"lakecolor\":\"rgb(17,17,17)\"},\"title\":{\"x\":0.05},\"updatemenudefaults\":{\"bgcolor\":\"#506784\",\"borderwidth\":0},\"sliderdefaults\":{\"bgcolor\":\"#C8D4E3\",\"borderwidth\":1,\"bordercolor\":\"rgb(17,17,17)\",\"tickwidth\":0},\"mapbox\":{\"style\":\"dark\"}}},\"width\":1024,\"height\":500,\"title\":{\"text\":\"[LSTM] Prediction for Stolen Vehicle (Code 510)\"},\"xaxis\":{\"title\":{\"text\":\"Weeks\"}},\"yaxis\":{\"title\":{\"text\":\"Number of crimes\"}}},                        {\"responsive\": true}                    ).then(function(){\n                            \nvar gd = document.getElementById('0dc97ca8-fb13-4f18-9358-0ae8850ad534');\nvar x = new MutationObserver(function (mutations, observer) {{\n        var display = window.getComputedStyle(gd).display;\n        if (!display || display === 'none') {{\n            console.log([gd, 'removed!']);\n            Plotly.purge(gd);\n            observer.disconnect();\n        }}\n}});\n\n// Listen for the removal of the full notebook cells\nvar notebookContainer = gd.closest('#notebook-container');\nif (notebookContainer) {{\n    x.observe(notebookContainer, {childList: true});\n}}\n\n// Listen for the clearing of the current output cell\nvar outputEl = gd.closest('.output');\nif (outputEl) {{\n    x.observe(outputEl, {childList: true});\n}}\n\n                        })                };                });            </script>        </div>"
     },
     "metadata": {},
     "output_type": "display_data"
    }
   ],
   "source": [
    "listGraph = []\n",
    "listGraph.append(go.Scatter(x=list(range(0,len(df1))),y=scaler.inverse_transform(df1).flatten(),name=\"Original dataset\"))\n",
    "listGraph.append(go.Scatter(x=list(range(0,len(trainPredictPlot))),y=trainPredictPlot.flatten(),name=\"Predict with Train set\"))\n",
    "listGraph.append(go.Scatter(x=list(range(0,len(testPredictPlot))),y=testPredictPlot.flatten(),name=\"Predict with Test set\"))\n",
    "\n",
    "fig = go.Figure(data=listGraph)\n",
    "fig.update_layout(width=1024,height=500,title=\"[LSTM] Prediction for Stolen Vehicle (Code 510)\",xaxis=dict(title='Weeks'),yaxis=dict(title='Number of crimes'))\n",
    "\n",
    "fig.show()"
   ],
   "metadata": {
    "collapsed": false,
    "ExecuteTime": {
     "end_time": "2023-11-26T19:53:50.190145Z",
     "start_time": "2023-11-26T19:53:49.967892Z"
    }
   }
  },
  {
   "cell_type": "code",
   "execution_count": 464,
   "outputs": [
    {
     "data": {
      "text/plain": "            DR_NO               Date Rptd                DATE OCC  TIME OCC  \\\n0        10304468  01/08/2020 12:00:00 AM  01/08/2020 12:00:00 AM      2230   \n1       190101086  01/02/2020 12:00:00 AM  01/01/2020 12:00:00 AM       330   \n16      201707577  03/20/2020 12:00:00 AM  03/20/2020 12:00:00 AM      1320   \n68      200104054  01/02/2020 12:00:00 AM  01/01/2020 12:00:00 AM      2330   \n70      200104058  01/02/2020 12:00:00 AM  01/01/2020 12:00:00 AM      1940   \n...           ...                     ...                     ...       ...   \n317819  210407038  03/25/2021 12:00:00 AM  03/25/2021 12:00:00 AM      1015   \n317838  210206530  03/05/2021 12:00:00 AM  03/05/2021 12:00:00 AM       915   \n317842  210610209  05/25/2021 12:00:00 AM  05/25/2021 12:00:00 AM       813   \n317848  212110947  07/04/2021 12:00:00 AM  07/04/2021 12:00:00 AM      2135   \n317851  211710505  07/09/2021 12:00:00 AM  07/09/2021 12:00:00 AM      1050   \n\n        AREA   AREA NAME  Rpt Dist No  Part 1-2  Crm Cd  \\\n0          3   Southwest          377         2     624   \n1          1     Central          163         2     624   \n16        17  Devonshire         1752         2     624   \n68         1     Central          135         2     624   \n70         1     Central          135         2     624   \n...      ...         ...          ...       ...     ...   \n317819     4  Hollenbeck          497         2     624   \n317838     2     Rampart          246         2     624   \n317842     6   Hollywood          645         2     624   \n317848    21     Topanga         2143         2     624   \n317851    17  Devonshire         1798         2     624   \n\n                     Crm Cd Desc  ... Status  Status Desc Crm Cd 1 Crm Cd 2  \\\n0       BATTERY - SIMPLE ASSAULT  ...     AO  Adult Other    624.0      NaN   \n1       BATTERY - SIMPLE ASSAULT  ...     IC  Invest Cont    624.0      NaN   \n16      BATTERY - SIMPLE ASSAULT  ...     IC  Invest Cont    624.0      NaN   \n68      BATTERY - SIMPLE ASSAULT  ...     IC  Invest Cont    624.0      NaN   \n70      BATTERY - SIMPLE ASSAULT  ...     IC  Invest Cont    624.0      NaN   \n...                          ...  ...    ...          ...      ...      ...   \n317819  BATTERY - SIMPLE ASSAULT  ...     IC  Invest Cont    624.0      NaN   \n317838  BATTERY - SIMPLE ASSAULT  ...     IC  Invest Cont    624.0      NaN   \n317842  BATTERY - SIMPLE ASSAULT  ...     IC  Invest Cont    624.0      NaN   \n317848  BATTERY - SIMPLE ASSAULT  ...     IC  Invest Cont    624.0      NaN   \n317851  BATTERY - SIMPLE ASSAULT  ...     IC  Invest Cont    624.0      NaN   \n\n        Crm Cd 3 Crm Cd 4                                  LOCATION  \\\n0            NaN      NaN   1100 W  39TH                         PL   \n1            NaN      NaN    700 S  HILL                         ST   \n16           NaN      NaN  20900    DEVONSHIRE                   ST   \n68           NaN      NaN                                      WALL   \n70           NaN      NaN           LOS ANGELES                  ST   \n...          ...      ...                                       ...   \n317819       NaN      NaN   3400    EMERY                        ST   \n317838       NaN      NaN    600 S  ALVARADO                     ST   \n317842       NaN      NaN   6800    HOLLYWOOD                    BL   \n317848       NaN      NaN  23100    FRIAR                        ST   \n317851       NaN      NaN   8800    DEMPSEY                      AV   \n\n                           Cross Street      LAT       LON  \n0                                   NaN  34.0141 -118.2978  \n1                                   NaN  34.0459 -118.2545  \n16                                  NaN  34.2572 -118.5885  \n68      5TH                          ST  34.0495 -118.2458  \n70      2ND                          ST  34.0485 -118.2447  \n...                                 ...      ...       ...  \n317819                              NaN  34.0153 -118.2061  \n317838                              NaN  34.0593 -118.2750  \n317842                              NaN  34.1016 -118.3391  \n317848                              NaN  34.1855 -118.6296  \n317851                              NaN  34.2302 -118.4775  \n\n[25965 rows x 28 columns]",
      "text/html": "<div>\n<style scoped>\n    .dataframe tbody tr th:only-of-type {\n        vertical-align: middle;\n    }\n\n    .dataframe tbody tr th {\n        vertical-align: top;\n    }\n\n    .dataframe thead th {\n        text-align: right;\n    }\n</style>\n<table border=\"1\" class=\"dataframe\">\n  <thead>\n    <tr style=\"text-align: right;\">\n      <th></th>\n      <th>DR_NO</th>\n      <th>Date Rptd</th>\n      <th>DATE OCC</th>\n      <th>TIME OCC</th>\n      <th>AREA</th>\n      <th>AREA NAME</th>\n      <th>Rpt Dist No</th>\n      <th>Part 1-2</th>\n      <th>Crm Cd</th>\n      <th>Crm Cd Desc</th>\n      <th>...</th>\n      <th>Status</th>\n      <th>Status Desc</th>\n      <th>Crm Cd 1</th>\n      <th>Crm Cd 2</th>\n      <th>Crm Cd 3</th>\n      <th>Crm Cd 4</th>\n      <th>LOCATION</th>\n      <th>Cross Street</th>\n      <th>LAT</th>\n      <th>LON</th>\n    </tr>\n  </thead>\n  <tbody>\n    <tr>\n      <th>0</th>\n      <td>10304468</td>\n      <td>01/08/2020 12:00:00 AM</td>\n      <td>01/08/2020 12:00:00 AM</td>\n      <td>2230</td>\n      <td>3</td>\n      <td>Southwest</td>\n      <td>377</td>\n      <td>2</td>\n      <td>624</td>\n      <td>BATTERY - SIMPLE ASSAULT</td>\n      <td>...</td>\n      <td>AO</td>\n      <td>Adult Other</td>\n      <td>624.0</td>\n      <td>NaN</td>\n      <td>NaN</td>\n      <td>NaN</td>\n      <td>1100 W  39TH                         PL</td>\n      <td>NaN</td>\n      <td>34.0141</td>\n      <td>-118.2978</td>\n    </tr>\n    <tr>\n      <th>1</th>\n      <td>190101086</td>\n      <td>01/02/2020 12:00:00 AM</td>\n      <td>01/01/2020 12:00:00 AM</td>\n      <td>330</td>\n      <td>1</td>\n      <td>Central</td>\n      <td>163</td>\n      <td>2</td>\n      <td>624</td>\n      <td>BATTERY - SIMPLE ASSAULT</td>\n      <td>...</td>\n      <td>IC</td>\n      <td>Invest Cont</td>\n      <td>624.0</td>\n      <td>NaN</td>\n      <td>NaN</td>\n      <td>NaN</td>\n      <td>700 S  HILL                         ST</td>\n      <td>NaN</td>\n      <td>34.0459</td>\n      <td>-118.2545</td>\n    </tr>\n    <tr>\n      <th>16</th>\n      <td>201707577</td>\n      <td>03/20/2020 12:00:00 AM</td>\n      <td>03/20/2020 12:00:00 AM</td>\n      <td>1320</td>\n      <td>17</td>\n      <td>Devonshire</td>\n      <td>1752</td>\n      <td>2</td>\n      <td>624</td>\n      <td>BATTERY - SIMPLE ASSAULT</td>\n      <td>...</td>\n      <td>IC</td>\n      <td>Invest Cont</td>\n      <td>624.0</td>\n      <td>NaN</td>\n      <td>NaN</td>\n      <td>NaN</td>\n      <td>20900    DEVONSHIRE                   ST</td>\n      <td>NaN</td>\n      <td>34.2572</td>\n      <td>-118.5885</td>\n    </tr>\n    <tr>\n      <th>68</th>\n      <td>200104054</td>\n      <td>01/02/2020 12:00:00 AM</td>\n      <td>01/01/2020 12:00:00 AM</td>\n      <td>2330</td>\n      <td>1</td>\n      <td>Central</td>\n      <td>135</td>\n      <td>2</td>\n      <td>624</td>\n      <td>BATTERY - SIMPLE ASSAULT</td>\n      <td>...</td>\n      <td>IC</td>\n      <td>Invest Cont</td>\n      <td>624.0</td>\n      <td>NaN</td>\n      <td>NaN</td>\n      <td>NaN</td>\n      <td>WALL</td>\n      <td>5TH                          ST</td>\n      <td>34.0495</td>\n      <td>-118.2458</td>\n    </tr>\n    <tr>\n      <th>70</th>\n      <td>200104058</td>\n      <td>01/02/2020 12:00:00 AM</td>\n      <td>01/01/2020 12:00:00 AM</td>\n      <td>1940</td>\n      <td>1</td>\n      <td>Central</td>\n      <td>135</td>\n      <td>2</td>\n      <td>624</td>\n      <td>BATTERY - SIMPLE ASSAULT</td>\n      <td>...</td>\n      <td>IC</td>\n      <td>Invest Cont</td>\n      <td>624.0</td>\n      <td>NaN</td>\n      <td>NaN</td>\n      <td>NaN</td>\n      <td>LOS ANGELES                  ST</td>\n      <td>2ND                          ST</td>\n      <td>34.0485</td>\n      <td>-118.2447</td>\n    </tr>\n    <tr>\n      <th>...</th>\n      <td>...</td>\n      <td>...</td>\n      <td>...</td>\n      <td>...</td>\n      <td>...</td>\n      <td>...</td>\n      <td>...</td>\n      <td>...</td>\n      <td>...</td>\n      <td>...</td>\n      <td>...</td>\n      <td>...</td>\n      <td>...</td>\n      <td>...</td>\n      <td>...</td>\n      <td>...</td>\n      <td>...</td>\n      <td>...</td>\n      <td>...</td>\n      <td>...</td>\n      <td>...</td>\n    </tr>\n    <tr>\n      <th>317819</th>\n      <td>210407038</td>\n      <td>03/25/2021 12:00:00 AM</td>\n      <td>03/25/2021 12:00:00 AM</td>\n      <td>1015</td>\n      <td>4</td>\n      <td>Hollenbeck</td>\n      <td>497</td>\n      <td>2</td>\n      <td>624</td>\n      <td>BATTERY - SIMPLE ASSAULT</td>\n      <td>...</td>\n      <td>IC</td>\n      <td>Invest Cont</td>\n      <td>624.0</td>\n      <td>NaN</td>\n      <td>NaN</td>\n      <td>NaN</td>\n      <td>3400    EMERY                        ST</td>\n      <td>NaN</td>\n      <td>34.0153</td>\n      <td>-118.2061</td>\n    </tr>\n    <tr>\n      <th>317838</th>\n      <td>210206530</td>\n      <td>03/05/2021 12:00:00 AM</td>\n      <td>03/05/2021 12:00:00 AM</td>\n      <td>915</td>\n      <td>2</td>\n      <td>Rampart</td>\n      <td>246</td>\n      <td>2</td>\n      <td>624</td>\n      <td>BATTERY - SIMPLE ASSAULT</td>\n      <td>...</td>\n      <td>IC</td>\n      <td>Invest Cont</td>\n      <td>624.0</td>\n      <td>NaN</td>\n      <td>NaN</td>\n      <td>NaN</td>\n      <td>600 S  ALVARADO                     ST</td>\n      <td>NaN</td>\n      <td>34.0593</td>\n      <td>-118.2750</td>\n    </tr>\n    <tr>\n      <th>317842</th>\n      <td>210610209</td>\n      <td>05/25/2021 12:00:00 AM</td>\n      <td>05/25/2021 12:00:00 AM</td>\n      <td>813</td>\n      <td>6</td>\n      <td>Hollywood</td>\n      <td>645</td>\n      <td>2</td>\n      <td>624</td>\n      <td>BATTERY - SIMPLE ASSAULT</td>\n      <td>...</td>\n      <td>IC</td>\n      <td>Invest Cont</td>\n      <td>624.0</td>\n      <td>NaN</td>\n      <td>NaN</td>\n      <td>NaN</td>\n      <td>6800    HOLLYWOOD                    BL</td>\n      <td>NaN</td>\n      <td>34.1016</td>\n      <td>-118.3391</td>\n    </tr>\n    <tr>\n      <th>317848</th>\n      <td>212110947</td>\n      <td>07/04/2021 12:00:00 AM</td>\n      <td>07/04/2021 12:00:00 AM</td>\n      <td>2135</td>\n      <td>21</td>\n      <td>Topanga</td>\n      <td>2143</td>\n      <td>2</td>\n      <td>624</td>\n      <td>BATTERY - SIMPLE ASSAULT</td>\n      <td>...</td>\n      <td>IC</td>\n      <td>Invest Cont</td>\n      <td>624.0</td>\n      <td>NaN</td>\n      <td>NaN</td>\n      <td>NaN</td>\n      <td>23100    FRIAR                        ST</td>\n      <td>NaN</td>\n      <td>34.1855</td>\n      <td>-118.6296</td>\n    </tr>\n    <tr>\n      <th>317851</th>\n      <td>211710505</td>\n      <td>07/09/2021 12:00:00 AM</td>\n      <td>07/09/2021 12:00:00 AM</td>\n      <td>1050</td>\n      <td>17</td>\n      <td>Devonshire</td>\n      <td>1798</td>\n      <td>2</td>\n      <td>624</td>\n      <td>BATTERY - SIMPLE ASSAULT</td>\n      <td>...</td>\n      <td>IC</td>\n      <td>Invest Cont</td>\n      <td>624.0</td>\n      <td>NaN</td>\n      <td>NaN</td>\n      <td>NaN</td>\n      <td>8800    DEMPSEY                      AV</td>\n      <td>NaN</td>\n      <td>34.2302</td>\n      <td>-118.4775</td>\n    </tr>\n  </tbody>\n</table>\n<p>25965 rows × 28 columns</p>\n</div>"
     },
     "execution_count": 464,
     "metadata": {},
     "output_type": "execute_result"
    }
   ],
   "source": [
    "dataset_624"
   ],
   "metadata": {
    "collapsed": false,
    "ExecuteTime": {
     "end_time": "2023-11-26T19:09:58.117860Z",
     "start_time": "2023-11-26T19:09:58.048704Z"
    }
   }
  },
  {
   "cell_type": "code",
   "execution_count": 465,
   "outputs": [
    {
     "name": "stderr",
     "output_type": "stream",
     "text": [
      "/var/folders/8g/z0__2mts0rnbjh3kq8zsfz2w0000gn/T/ipykernel_6830/2874154411.py:1: SettingWithCopyWarning:\n",
      "\n",
      "\n",
      "A value is trying to be set on a copy of a slice from a DataFrame.\n",
      "Try using .loc[row_indexer,col_indexer] = value instead\n",
      "\n",
      "See the caveats in the documentation: https://pandas.pydata.org/pandas-docs/stable/user_guide/indexing.html#returning-a-view-versus-a-copy\n",
      "\n",
      "/var/folders/8g/z0__2mts0rnbjh3kq8zsfz2w0000gn/T/ipykernel_6830/2874154411.py:2: SettingWithCopyWarning:\n",
      "\n",
      "\n",
      "A value is trying to be set on a copy of a slice from a DataFrame.\n",
      "Try using .loc[row_indexer,col_indexer] = value instead\n",
      "\n",
      "See the caveats in the documentation: https://pandas.pydata.org/pandas-docs/stable/user_guide/indexing.html#returning-a-view-versus-a-copy\n",
      "\n"
     ]
    },
    {
     "data": {
      "text/plain": "            DR_NO  Date Rptd   DATE OCC  TIME OCC  AREA    AREA NAME  \\\n4310    200504040 2020-01-01 2020-01-01      1250     5       Harbor   \n13022   201404017 2020-01-01 2020-01-01       330    14      Pacific   \n13021   201404016 2020-01-01 2020-01-01       330    14      Pacific   \n12831   201305897 2020-02-03 2020-01-01       700    13       Newton   \n179578  201104029 2020-01-01 2020-01-01       930    11    Northeast   \n...           ...        ...        ...       ...   ...          ...   \n230438  210614359 2021-08-16 2021-08-16       900     6    Hollywood   \n276600  211416681 2021-08-16 2021-08-16       935    14      Pacific   \n226343  211513215 2021-08-16 2021-08-16      1534    15  N Hollywood   \n201090  210115277 2021-08-16 2021-08-16      1110     1      Central   \n296880  212112693 2021-08-16 2021-08-16      1420    21      Topanga   \n\n        Rpt Dist No  Part 1-2  Crm Cd               Crm Cd Desc  ... Status  \\\n4310            589         2     624  BATTERY - SIMPLE ASSAULT  ...     IC   \n13022          1436         2     624  BATTERY - SIMPLE ASSAULT  ...     IC   \n13021          1436         2     624  BATTERY - SIMPLE ASSAULT  ...     IC   \n12831          1367         2     624  BATTERY - SIMPLE ASSAULT  ...     IC   \n179578         1102         2     624  BATTERY - SIMPLE ASSAULT  ...     AA   \n...             ...       ...     ...                       ...  ...    ...   \n230438          646         2     624  BATTERY - SIMPLE ASSAULT  ...     IC   \n276600         1402         2     624  BATTERY - SIMPLE ASSAULT  ...     IC   \n226343         1566         2     624  BATTERY - SIMPLE ASSAULT  ...     IC   \n201090          166         2     624  BATTERY - SIMPLE ASSAULT  ...     IC   \n296880         2156         2     624  BATTERY - SIMPLE ASSAULT  ...     IC   \n\n         Status Desc Crm Cd 1 Crm Cd 2  Crm Cd 3 Crm Cd 4  \\\n4310     Invest Cont    624.0      NaN       NaN      NaN   \n13022    Invest Cont    624.0      NaN       NaN      NaN   \n13021    Invest Cont    624.0      NaN       NaN      NaN   \n12831    Invest Cont    624.0      NaN       NaN      NaN   \n179578  Adult Arrest    624.0      NaN       NaN      NaN   \n...              ...      ...      ...       ...      ...   \n230438   Invest Cont    624.0      NaN       NaN      NaN   \n276600   Invest Cont    624.0      NaN       NaN      NaN   \n226343   Invest Cont    624.0      NaN       NaN      NaN   \n201090   Invest Cont    624.0      NaN       NaN      NaN   \n296880   Invest Cont    624.0      NaN       NaN      NaN   \n\n                                        LOCATION  \\\n4310     3700    STEPHEN M WHITE              DR   \n13022   11200    WESTMINSTER                  AV   \n13021   11200    WESTMINSTER                  AV   \n12831    5100    HOLMES                       AV   \n179578   4000    PERLITA                      AV   \n...                                          ...   \n230438                                     SELMA   \n276600           SAWTELLE                     BL   \n226343   4400    LANKERSHIM                   BL   \n201090    400 E  7TH                          ST   \n296880   6600    TOPANGA CANYON               BL   \n\n                           Cross Street      LAT       LON  \n4310                                NaN  33.7105 -118.2860  \n13022                               NaN  34.0172 -118.4230  \n13021                               NaN  34.0172 -118.4230  \n12831                               NaN  33.9962 -118.2411  \n179578                              NaN  34.1254 -118.2648  \n...                                 ...      ...       ...  \n230438                           CASSIL  34.0998 -118.3338  \n276600  NATIONAL                     BL  34.0266 -118.4317  \n226343                              NaN   0.0000    0.0000  \n201090                              NaN   0.0000    0.0000  \n296880                              NaN   0.0000    0.0000  \n\n[25965 rows x 28 columns]",
      "text/html": "<div>\n<style scoped>\n    .dataframe tbody tr th:only-of-type {\n        vertical-align: middle;\n    }\n\n    .dataframe tbody tr th {\n        vertical-align: top;\n    }\n\n    .dataframe thead th {\n        text-align: right;\n    }\n</style>\n<table border=\"1\" class=\"dataframe\">\n  <thead>\n    <tr style=\"text-align: right;\">\n      <th></th>\n      <th>DR_NO</th>\n      <th>Date Rptd</th>\n      <th>DATE OCC</th>\n      <th>TIME OCC</th>\n      <th>AREA</th>\n      <th>AREA NAME</th>\n      <th>Rpt Dist No</th>\n      <th>Part 1-2</th>\n      <th>Crm Cd</th>\n      <th>Crm Cd Desc</th>\n      <th>...</th>\n      <th>Status</th>\n      <th>Status Desc</th>\n      <th>Crm Cd 1</th>\n      <th>Crm Cd 2</th>\n      <th>Crm Cd 3</th>\n      <th>Crm Cd 4</th>\n      <th>LOCATION</th>\n      <th>Cross Street</th>\n      <th>LAT</th>\n      <th>LON</th>\n    </tr>\n  </thead>\n  <tbody>\n    <tr>\n      <th>4310</th>\n      <td>200504040</td>\n      <td>2020-01-01</td>\n      <td>2020-01-01</td>\n      <td>1250</td>\n      <td>5</td>\n      <td>Harbor</td>\n      <td>589</td>\n      <td>2</td>\n      <td>624</td>\n      <td>BATTERY - SIMPLE ASSAULT</td>\n      <td>...</td>\n      <td>IC</td>\n      <td>Invest Cont</td>\n      <td>624.0</td>\n      <td>NaN</td>\n      <td>NaN</td>\n      <td>NaN</td>\n      <td>3700    STEPHEN M WHITE              DR</td>\n      <td>NaN</td>\n      <td>33.7105</td>\n      <td>-118.2860</td>\n    </tr>\n    <tr>\n      <th>13022</th>\n      <td>201404017</td>\n      <td>2020-01-01</td>\n      <td>2020-01-01</td>\n      <td>330</td>\n      <td>14</td>\n      <td>Pacific</td>\n      <td>1436</td>\n      <td>2</td>\n      <td>624</td>\n      <td>BATTERY - SIMPLE ASSAULT</td>\n      <td>...</td>\n      <td>IC</td>\n      <td>Invest Cont</td>\n      <td>624.0</td>\n      <td>NaN</td>\n      <td>NaN</td>\n      <td>NaN</td>\n      <td>11200    WESTMINSTER                  AV</td>\n      <td>NaN</td>\n      <td>34.0172</td>\n      <td>-118.4230</td>\n    </tr>\n    <tr>\n      <th>13021</th>\n      <td>201404016</td>\n      <td>2020-01-01</td>\n      <td>2020-01-01</td>\n      <td>330</td>\n      <td>14</td>\n      <td>Pacific</td>\n      <td>1436</td>\n      <td>2</td>\n      <td>624</td>\n      <td>BATTERY - SIMPLE ASSAULT</td>\n      <td>...</td>\n      <td>IC</td>\n      <td>Invest Cont</td>\n      <td>624.0</td>\n      <td>NaN</td>\n      <td>NaN</td>\n      <td>NaN</td>\n      <td>11200    WESTMINSTER                  AV</td>\n      <td>NaN</td>\n      <td>34.0172</td>\n      <td>-118.4230</td>\n    </tr>\n    <tr>\n      <th>12831</th>\n      <td>201305897</td>\n      <td>2020-02-03</td>\n      <td>2020-01-01</td>\n      <td>700</td>\n      <td>13</td>\n      <td>Newton</td>\n      <td>1367</td>\n      <td>2</td>\n      <td>624</td>\n      <td>BATTERY - SIMPLE ASSAULT</td>\n      <td>...</td>\n      <td>IC</td>\n      <td>Invest Cont</td>\n      <td>624.0</td>\n      <td>NaN</td>\n      <td>NaN</td>\n      <td>NaN</td>\n      <td>5100    HOLMES                       AV</td>\n      <td>NaN</td>\n      <td>33.9962</td>\n      <td>-118.2411</td>\n    </tr>\n    <tr>\n      <th>179578</th>\n      <td>201104029</td>\n      <td>2020-01-01</td>\n      <td>2020-01-01</td>\n      <td>930</td>\n      <td>11</td>\n      <td>Northeast</td>\n      <td>1102</td>\n      <td>2</td>\n      <td>624</td>\n      <td>BATTERY - SIMPLE ASSAULT</td>\n      <td>...</td>\n      <td>AA</td>\n      <td>Adult Arrest</td>\n      <td>624.0</td>\n      <td>NaN</td>\n      <td>NaN</td>\n      <td>NaN</td>\n      <td>4000    PERLITA                      AV</td>\n      <td>NaN</td>\n      <td>34.1254</td>\n      <td>-118.2648</td>\n    </tr>\n    <tr>\n      <th>...</th>\n      <td>...</td>\n      <td>...</td>\n      <td>...</td>\n      <td>...</td>\n      <td>...</td>\n      <td>...</td>\n      <td>...</td>\n      <td>...</td>\n      <td>...</td>\n      <td>...</td>\n      <td>...</td>\n      <td>...</td>\n      <td>...</td>\n      <td>...</td>\n      <td>...</td>\n      <td>...</td>\n      <td>...</td>\n      <td>...</td>\n      <td>...</td>\n      <td>...</td>\n      <td>...</td>\n    </tr>\n    <tr>\n      <th>230438</th>\n      <td>210614359</td>\n      <td>2021-08-16</td>\n      <td>2021-08-16</td>\n      <td>900</td>\n      <td>6</td>\n      <td>Hollywood</td>\n      <td>646</td>\n      <td>2</td>\n      <td>624</td>\n      <td>BATTERY - SIMPLE ASSAULT</td>\n      <td>...</td>\n      <td>IC</td>\n      <td>Invest Cont</td>\n      <td>624.0</td>\n      <td>NaN</td>\n      <td>NaN</td>\n      <td>NaN</td>\n      <td>SELMA</td>\n      <td>CASSIL</td>\n      <td>34.0998</td>\n      <td>-118.3338</td>\n    </tr>\n    <tr>\n      <th>276600</th>\n      <td>211416681</td>\n      <td>2021-08-16</td>\n      <td>2021-08-16</td>\n      <td>935</td>\n      <td>14</td>\n      <td>Pacific</td>\n      <td>1402</td>\n      <td>2</td>\n      <td>624</td>\n      <td>BATTERY - SIMPLE ASSAULT</td>\n      <td>...</td>\n      <td>IC</td>\n      <td>Invest Cont</td>\n      <td>624.0</td>\n      <td>NaN</td>\n      <td>NaN</td>\n      <td>NaN</td>\n      <td>SAWTELLE                     BL</td>\n      <td>NATIONAL                     BL</td>\n      <td>34.0266</td>\n      <td>-118.4317</td>\n    </tr>\n    <tr>\n      <th>226343</th>\n      <td>211513215</td>\n      <td>2021-08-16</td>\n      <td>2021-08-16</td>\n      <td>1534</td>\n      <td>15</td>\n      <td>N Hollywood</td>\n      <td>1566</td>\n      <td>2</td>\n      <td>624</td>\n      <td>BATTERY - SIMPLE ASSAULT</td>\n      <td>...</td>\n      <td>IC</td>\n      <td>Invest Cont</td>\n      <td>624.0</td>\n      <td>NaN</td>\n      <td>NaN</td>\n      <td>NaN</td>\n      <td>4400    LANKERSHIM                   BL</td>\n      <td>NaN</td>\n      <td>0.0000</td>\n      <td>0.0000</td>\n    </tr>\n    <tr>\n      <th>201090</th>\n      <td>210115277</td>\n      <td>2021-08-16</td>\n      <td>2021-08-16</td>\n      <td>1110</td>\n      <td>1</td>\n      <td>Central</td>\n      <td>166</td>\n      <td>2</td>\n      <td>624</td>\n      <td>BATTERY - SIMPLE ASSAULT</td>\n      <td>...</td>\n      <td>IC</td>\n      <td>Invest Cont</td>\n      <td>624.0</td>\n      <td>NaN</td>\n      <td>NaN</td>\n      <td>NaN</td>\n      <td>400 E  7TH                          ST</td>\n      <td>NaN</td>\n      <td>0.0000</td>\n      <td>0.0000</td>\n    </tr>\n    <tr>\n      <th>296880</th>\n      <td>212112693</td>\n      <td>2021-08-16</td>\n      <td>2021-08-16</td>\n      <td>1420</td>\n      <td>21</td>\n      <td>Topanga</td>\n      <td>2156</td>\n      <td>2</td>\n      <td>624</td>\n      <td>BATTERY - SIMPLE ASSAULT</td>\n      <td>...</td>\n      <td>IC</td>\n      <td>Invest Cont</td>\n      <td>624.0</td>\n      <td>NaN</td>\n      <td>NaN</td>\n      <td>NaN</td>\n      <td>6600    TOPANGA CANYON               BL</td>\n      <td>NaN</td>\n      <td>0.0000</td>\n      <td>0.0000</td>\n    </tr>\n  </tbody>\n</table>\n<p>25965 rows × 28 columns</p>\n</div>"
     },
     "execution_count": 465,
     "metadata": {},
     "output_type": "execute_result"
    }
   ],
   "source": [
    "dataset_624['Date Rptd'] = pd.to_datetime(dataset_624['Date Rptd'])\n",
    "dataset_624['DATE OCC'] = pd.to_datetime(dataset_624['DATE OCC'])\n",
    "\n",
    "dataset_624.sort_values(by=\"DATE OCC\")"
   ],
   "metadata": {
    "collapsed": false,
    "ExecuteTime": {
     "end_time": "2023-11-26T19:09:58.386739Z",
     "start_time": "2023-11-26T19:09:58.124006Z"
    }
   }
  },
  {
   "cell_type": "code",
   "execution_count": 466,
   "outputs": [
    {
     "data": {
      "text/plain": "array([[266],\n       [335],\n       [332],\n       [351],\n       [360],\n       [354],\n       [353],\n       [328],\n       [350],\n       [383],\n       [314],\n       [288],\n       [247],\n       [260],\n       [229],\n       [277],\n       [303],\n       [332],\n       [313],\n       [273],\n       [325],\n       [267],\n       [276],\n       [322],\n       [362],\n       [345],\n       [329],\n       [297],\n       [344],\n       [360],\n       [340],\n       [329],\n       [330],\n       [366],\n       [325],\n       [313],\n       [302],\n       [332],\n       [304],\n       [324],\n       [291],\n       [314],\n       [308],\n       [268],\n       [283],\n       [294],\n       [302],\n       [275],\n       [274],\n       [277],\n       [286],\n       [245],\n       [254],\n       [241],\n       [260],\n       [279],\n       [243],\n       [285],\n       [268],\n       [279],\n       [268],\n       [288],\n       [243],\n       [269],\n       [292],\n       [313],\n       [276],\n       [258],\n       [270],\n       [283],\n       [293],\n       [296],\n       [312],\n       [307],\n       [314],\n       [342],\n       [338],\n       [312],\n       [387],\n       [353],\n       [357],\n       [353],\n       [338],\n       [338],\n       [288],\n       [ 11]], dtype=int32)"
     },
     "execution_count": 466,
     "metadata": {},
     "output_type": "execute_result"
    }
   ],
   "source": [
    "df1 = dataset_624['DATE OCC'].dt.date.value_counts().sort_index().reset_index()\n",
    "df1.columns = ['DATE','Count']\n",
    "\n",
    "df1['DATE'] = pd.to_datetime(df1['DATE']) - pd.to_timedelta(7, unit='d')\n",
    "df1= df1.groupby([pd.Grouper(key='DATE', freq='W')])['Count'].sum()\n",
    "\n",
    "df1 = pd.DataFrame(data=df1.values, columns=['Count'])\n",
    "df1 = df1.values\n",
    "df1 = df1.astype('int32')\n",
    "df1\n",
    "# df1 = dataset_510['DATE OCC'].dt.date.value_counts().sort_index().reset_index()\n",
    "# df1.columns = ['DATE','Count']\n",
    "# # df1.plot(x='DATE',y='Count')\n",
    "# dataset_510.groupby([pd.Grouper(key='DATE OCC', freq='W')]).count()"
   ],
   "metadata": {
    "collapsed": false,
    "ExecuteTime": {
     "end_time": "2023-11-26T19:09:58.402471Z",
     "start_time": "2023-11-26T19:09:58.345984Z"
    }
   }
  },
  {
   "cell_type": "code",
   "execution_count": 467,
   "outputs": [
    {
     "data": {
      "application/vnd.plotly.v1+json": {
       "data": [
        {
         "name": "Dataset",
         "x": [
          0,
          1,
          2,
          3,
          4,
          5,
          6,
          7,
          8,
          9,
          10,
          11,
          12,
          13,
          14,
          15,
          16,
          17,
          18,
          19,
          20,
          21,
          22,
          23,
          24,
          25,
          26,
          27,
          28,
          29,
          30,
          31,
          32,
          33,
          34,
          35,
          36,
          37,
          38,
          39,
          40,
          41,
          42,
          43,
          44,
          45,
          46,
          47,
          48,
          49,
          50,
          51,
          52,
          53,
          54,
          55,
          56,
          57,
          58,
          59,
          60,
          61,
          62,
          63,
          64,
          65,
          66,
          67,
          68,
          69,
          70,
          71,
          72,
          73,
          74,
          75,
          76,
          77,
          78,
          79,
          80,
          81,
          82,
          83,
          84,
          85
         ],
         "y": [
          266,
          335,
          332,
          351,
          360,
          354,
          353,
          328,
          350,
          383,
          314,
          288,
          247,
          260,
          229,
          277,
          303,
          332,
          313,
          273,
          325,
          267,
          276,
          322,
          362,
          345,
          329,
          297,
          344,
          360,
          340,
          329,
          330,
          366,
          325,
          313,
          302,
          332,
          304,
          324,
          291,
          314,
          308,
          268,
          283,
          294,
          302,
          275,
          274,
          277,
          286,
          245,
          254,
          241,
          260,
          279,
          243,
          285,
          268,
          279,
          268,
          288,
          243,
          269,
          292,
          313,
          276,
          258,
          270,
          283,
          293,
          296,
          312,
          307,
          314,
          342,
          338,
          312,
          387,
          353,
          357,
          353,
          338,
          338,
          288,
          11
         ],
         "type": "scatter"
        },
        {
         "name": "Average",
         "x": [
          0,
          1,
          2,
          3,
          4,
          5,
          6,
          7,
          8,
          9,
          10,
          11,
          12,
          13,
          14,
          15,
          16,
          17,
          18,
          19,
          20,
          21,
          22,
          23,
          24,
          25,
          26,
          27,
          28,
          29,
          30,
          31,
          32,
          33,
          34,
          35,
          36,
          37,
          38,
          39,
          40,
          41,
          42,
          43,
          44,
          45,
          46,
          47,
          48,
          49,
          50,
          51,
          52,
          53,
          54,
          55,
          56,
          57,
          58,
          59,
          60,
          61,
          62,
          63,
          64,
          65,
          66,
          67,
          68,
          69,
          70,
          71,
          72,
          73,
          74,
          75,
          76,
          77,
          78,
          79,
          80,
          81,
          82,
          83,
          84,
          85
         ],
         "y": [
          311.0,
          339.3333333333333,
          347.6666666666667,
          355.0,
          355.6666666666667,
          345.0,
          343.6666666666667,
          353.6666666666667,
          349.0,
          328.3333333333333,
          283.0,
          265.0,
          245.33333333333334,
          255.33333333333334,
          269.6666666666667,
          304.0,
          316.0,
          306.0,
          303.6666666666667,
          288.3333333333333,
          289.3333333333333,
          288.3333333333333,
          320.0,
          343.0,
          345.3333333333333,
          323.6666666666667,
          323.3333333333333,
          333.6666666666667,
          348.0,
          343.0,
          333.0,
          341.6666666666667,
          340.3333333333333,
          334.6666666666667,
          313.3333333333333,
          315.6666666666667,
          312.6666666666667,
          320.0,
          306.3333333333333,
          309.6666666666667,
          304.3333333333333,
          296.6666666666667,
          286.3333333333333,
          281.6666666666667,
          293.0,
          290.3333333333333,
          283.6666666666667,
          275.3333333333333,
          279.0,
          269.3333333333333,
          261.6666666666667,
          246.66666666666666,
          251.66666666666666,
          260.0,
          260.6666666666667,
          269.0,
          265.3333333333333,
          277.3333333333333,
          271.6666666666667,
          278.3333333333333,
          266.3333333333333,
          266.6666666666667,
          268.0,
          291.3333333333333,
          293.6666666666667,
          282.3333333333333,
          268.0,
          270.3333333333333,
          282.0,
          290.6666666666667,
          300.3333333333333,
          305.0,
          311.0,
          321.0,
          331.3333333333333,
          330.6666666666667,
          345.6666666666667,
          350.6666666666667,
          365.6666666666667,
          354.3333333333333,
          349.3333333333333,
          343.0,
          321.3333333333333,
          212.33333333333334
         ],
         "type": "scatter"
        }
       ],
       "layout": {
        "template": {
         "data": {
          "histogram2dcontour": [
           {
            "type": "histogram2dcontour",
            "colorbar": {
             "outlinewidth": 0,
             "ticks": ""
            },
            "colorscale": [
             [
              0.0,
              "#0d0887"
             ],
             [
              0.1111111111111111,
              "#46039f"
             ],
             [
              0.2222222222222222,
              "#7201a8"
             ],
             [
              0.3333333333333333,
              "#9c179e"
             ],
             [
              0.4444444444444444,
              "#bd3786"
             ],
             [
              0.5555555555555556,
              "#d8576b"
             ],
             [
              0.6666666666666666,
              "#ed7953"
             ],
             [
              0.7777777777777778,
              "#fb9f3a"
             ],
             [
              0.8888888888888888,
              "#fdca26"
             ],
             [
              1.0,
              "#f0f921"
             ]
            ]
           }
          ],
          "choropleth": [
           {
            "type": "choropleth",
            "colorbar": {
             "outlinewidth": 0,
             "ticks": ""
            }
           }
          ],
          "histogram2d": [
           {
            "type": "histogram2d",
            "colorbar": {
             "outlinewidth": 0,
             "ticks": ""
            },
            "colorscale": [
             [
              0.0,
              "#0d0887"
             ],
             [
              0.1111111111111111,
              "#46039f"
             ],
             [
              0.2222222222222222,
              "#7201a8"
             ],
             [
              0.3333333333333333,
              "#9c179e"
             ],
             [
              0.4444444444444444,
              "#bd3786"
             ],
             [
              0.5555555555555556,
              "#d8576b"
             ],
             [
              0.6666666666666666,
              "#ed7953"
             ],
             [
              0.7777777777777778,
              "#fb9f3a"
             ],
             [
              0.8888888888888888,
              "#fdca26"
             ],
             [
              1.0,
              "#f0f921"
             ]
            ]
           }
          ],
          "heatmap": [
           {
            "type": "heatmap",
            "colorbar": {
             "outlinewidth": 0,
             "ticks": ""
            },
            "colorscale": [
             [
              0.0,
              "#0d0887"
             ],
             [
              0.1111111111111111,
              "#46039f"
             ],
             [
              0.2222222222222222,
              "#7201a8"
             ],
             [
              0.3333333333333333,
              "#9c179e"
             ],
             [
              0.4444444444444444,
              "#bd3786"
             ],
             [
              0.5555555555555556,
              "#d8576b"
             ],
             [
              0.6666666666666666,
              "#ed7953"
             ],
             [
              0.7777777777777778,
              "#fb9f3a"
             ],
             [
              0.8888888888888888,
              "#fdca26"
             ],
             [
              1.0,
              "#f0f921"
             ]
            ]
           }
          ],
          "heatmapgl": [
           {
            "type": "heatmapgl",
            "colorbar": {
             "outlinewidth": 0,
             "ticks": ""
            },
            "colorscale": [
             [
              0.0,
              "#0d0887"
             ],
             [
              0.1111111111111111,
              "#46039f"
             ],
             [
              0.2222222222222222,
              "#7201a8"
             ],
             [
              0.3333333333333333,
              "#9c179e"
             ],
             [
              0.4444444444444444,
              "#bd3786"
             ],
             [
              0.5555555555555556,
              "#d8576b"
             ],
             [
              0.6666666666666666,
              "#ed7953"
             ],
             [
              0.7777777777777778,
              "#fb9f3a"
             ],
             [
              0.8888888888888888,
              "#fdca26"
             ],
             [
              1.0,
              "#f0f921"
             ]
            ]
           }
          ],
          "contourcarpet": [
           {
            "type": "contourcarpet",
            "colorbar": {
             "outlinewidth": 0,
             "ticks": ""
            }
           }
          ],
          "contour": [
           {
            "type": "contour",
            "colorbar": {
             "outlinewidth": 0,
             "ticks": ""
            },
            "colorscale": [
             [
              0.0,
              "#0d0887"
             ],
             [
              0.1111111111111111,
              "#46039f"
             ],
             [
              0.2222222222222222,
              "#7201a8"
             ],
             [
              0.3333333333333333,
              "#9c179e"
             ],
             [
              0.4444444444444444,
              "#bd3786"
             ],
             [
              0.5555555555555556,
              "#d8576b"
             ],
             [
              0.6666666666666666,
              "#ed7953"
             ],
             [
              0.7777777777777778,
              "#fb9f3a"
             ],
             [
              0.8888888888888888,
              "#fdca26"
             ],
             [
              1.0,
              "#f0f921"
             ]
            ]
           }
          ],
          "surface": [
           {
            "type": "surface",
            "colorbar": {
             "outlinewidth": 0,
             "ticks": ""
            },
            "colorscale": [
             [
              0.0,
              "#0d0887"
             ],
             [
              0.1111111111111111,
              "#46039f"
             ],
             [
              0.2222222222222222,
              "#7201a8"
             ],
             [
              0.3333333333333333,
              "#9c179e"
             ],
             [
              0.4444444444444444,
              "#bd3786"
             ],
             [
              0.5555555555555556,
              "#d8576b"
             ],
             [
              0.6666666666666666,
              "#ed7953"
             ],
             [
              0.7777777777777778,
              "#fb9f3a"
             ],
             [
              0.8888888888888888,
              "#fdca26"
             ],
             [
              1.0,
              "#f0f921"
             ]
            ]
           }
          ],
          "mesh3d": [
           {
            "type": "mesh3d",
            "colorbar": {
             "outlinewidth": 0,
             "ticks": ""
            }
           }
          ],
          "scatter": [
           {
            "marker": {
             "line": {
              "color": "#283442"
             }
            },
            "type": "scatter"
           }
          ],
          "parcoords": [
           {
            "type": "parcoords",
            "line": {
             "colorbar": {
              "outlinewidth": 0,
              "ticks": ""
             }
            }
           }
          ],
          "scatterpolargl": [
           {
            "type": "scatterpolargl",
            "marker": {
             "colorbar": {
              "outlinewidth": 0,
              "ticks": ""
             }
            }
           }
          ],
          "bar": [
           {
            "error_x": {
             "color": "#f2f5fa"
            },
            "error_y": {
             "color": "#f2f5fa"
            },
            "marker": {
             "line": {
              "color": "rgb(17,17,17)",
              "width": 0.5
             },
             "pattern": {
              "fillmode": "overlay",
              "size": 10,
              "solidity": 0.2
             }
            },
            "type": "bar"
           }
          ],
          "scattergeo": [
           {
            "type": "scattergeo",
            "marker": {
             "colorbar": {
              "outlinewidth": 0,
              "ticks": ""
             }
            }
           }
          ],
          "scatterpolar": [
           {
            "type": "scatterpolar",
            "marker": {
             "colorbar": {
              "outlinewidth": 0,
              "ticks": ""
             }
            }
           }
          ],
          "histogram": [
           {
            "marker": {
             "pattern": {
              "fillmode": "overlay",
              "size": 10,
              "solidity": 0.2
             }
            },
            "type": "histogram"
           }
          ],
          "scattergl": [
           {
            "marker": {
             "line": {
              "color": "#283442"
             }
            },
            "type": "scattergl"
           }
          ],
          "scatter3d": [
           {
            "type": "scatter3d",
            "line": {
             "colorbar": {
              "outlinewidth": 0,
              "ticks": ""
             }
            },
            "marker": {
             "colorbar": {
              "outlinewidth": 0,
              "ticks": ""
             }
            }
           }
          ],
          "scattermapbox": [
           {
            "type": "scattermapbox",
            "marker": {
             "colorbar": {
              "outlinewidth": 0,
              "ticks": ""
             }
            }
           }
          ],
          "scatterternary": [
           {
            "type": "scatterternary",
            "marker": {
             "colorbar": {
              "outlinewidth": 0,
              "ticks": ""
             }
            }
           }
          ],
          "scattercarpet": [
           {
            "type": "scattercarpet",
            "marker": {
             "colorbar": {
              "outlinewidth": 0,
              "ticks": ""
             }
            }
           }
          ],
          "carpet": [
           {
            "aaxis": {
             "endlinecolor": "#A2B1C6",
             "gridcolor": "#506784",
             "linecolor": "#506784",
             "minorgridcolor": "#506784",
             "startlinecolor": "#A2B1C6"
            },
            "baxis": {
             "endlinecolor": "#A2B1C6",
             "gridcolor": "#506784",
             "linecolor": "#506784",
             "minorgridcolor": "#506784",
             "startlinecolor": "#A2B1C6"
            },
            "type": "carpet"
           }
          ],
          "table": [
           {
            "cells": {
             "fill": {
              "color": "#506784"
             },
             "line": {
              "color": "rgb(17,17,17)"
             }
            },
            "header": {
             "fill": {
              "color": "#2a3f5f"
             },
             "line": {
              "color": "rgb(17,17,17)"
             }
            },
            "type": "table"
           }
          ],
          "barpolar": [
           {
            "marker": {
             "line": {
              "color": "rgb(17,17,17)",
              "width": 0.5
             },
             "pattern": {
              "fillmode": "overlay",
              "size": 10,
              "solidity": 0.2
             }
            },
            "type": "barpolar"
           }
          ],
          "pie": [
           {
            "automargin": true,
            "type": "pie"
           }
          ]
         },
         "layout": {
          "autotypenumbers": "strict",
          "colorway": [
           "#636efa",
           "#EF553B",
           "#00cc96",
           "#ab63fa",
           "#FFA15A",
           "#19d3f3",
           "#FF6692",
           "#B6E880",
           "#FF97FF",
           "#FECB52"
          ],
          "font": {
           "color": "#f2f5fa"
          },
          "hovermode": "closest",
          "hoverlabel": {
           "align": "left"
          },
          "paper_bgcolor": "rgb(17,17,17)",
          "plot_bgcolor": "rgb(17,17,17)",
          "polar": {
           "bgcolor": "rgb(17,17,17)",
           "angularaxis": {
            "gridcolor": "#506784",
            "linecolor": "#506784",
            "ticks": ""
           },
           "radialaxis": {
            "gridcolor": "#506784",
            "linecolor": "#506784",
            "ticks": ""
           }
          },
          "ternary": {
           "bgcolor": "rgb(17,17,17)",
           "aaxis": {
            "gridcolor": "#506784",
            "linecolor": "#506784",
            "ticks": ""
           },
           "baxis": {
            "gridcolor": "#506784",
            "linecolor": "#506784",
            "ticks": ""
           },
           "caxis": {
            "gridcolor": "#506784",
            "linecolor": "#506784",
            "ticks": ""
           }
          },
          "coloraxis": {
           "colorbar": {
            "outlinewidth": 0,
            "ticks": ""
           }
          },
          "colorscale": {
           "sequential": [
            [
             0.0,
             "#0d0887"
            ],
            [
             0.1111111111111111,
             "#46039f"
            ],
            [
             0.2222222222222222,
             "#7201a8"
            ],
            [
             0.3333333333333333,
             "#9c179e"
            ],
            [
             0.4444444444444444,
             "#bd3786"
            ],
            [
             0.5555555555555556,
             "#d8576b"
            ],
            [
             0.6666666666666666,
             "#ed7953"
            ],
            [
             0.7777777777777778,
             "#fb9f3a"
            ],
            [
             0.8888888888888888,
             "#fdca26"
            ],
            [
             1.0,
             "#f0f921"
            ]
           ],
           "sequentialminus": [
            [
             0.0,
             "#0d0887"
            ],
            [
             0.1111111111111111,
             "#46039f"
            ],
            [
             0.2222222222222222,
             "#7201a8"
            ],
            [
             0.3333333333333333,
             "#9c179e"
            ],
            [
             0.4444444444444444,
             "#bd3786"
            ],
            [
             0.5555555555555556,
             "#d8576b"
            ],
            [
             0.6666666666666666,
             "#ed7953"
            ],
            [
             0.7777777777777778,
             "#fb9f3a"
            ],
            [
             0.8888888888888888,
             "#fdca26"
            ],
            [
             1.0,
             "#f0f921"
            ]
           ],
           "diverging": [
            [
             0,
             "#8e0152"
            ],
            [
             0.1,
             "#c51b7d"
            ],
            [
             0.2,
             "#de77ae"
            ],
            [
             0.3,
             "#f1b6da"
            ],
            [
             0.4,
             "#fde0ef"
            ],
            [
             0.5,
             "#f7f7f7"
            ],
            [
             0.6,
             "#e6f5d0"
            ],
            [
             0.7,
             "#b8e186"
            ],
            [
             0.8,
             "#7fbc41"
            ],
            [
             0.9,
             "#4d9221"
            ],
            [
             1,
             "#276419"
            ]
           ]
          },
          "xaxis": {
           "gridcolor": "#283442",
           "linecolor": "#506784",
           "ticks": "",
           "title": {
            "standoff": 15
           },
           "zerolinecolor": "#283442",
           "automargin": true,
           "zerolinewidth": 2
          },
          "yaxis": {
           "gridcolor": "#283442",
           "linecolor": "#506784",
           "ticks": "",
           "title": {
            "standoff": 15
           },
           "zerolinecolor": "#283442",
           "automargin": true,
           "zerolinewidth": 2
          },
          "scene": {
           "xaxis": {
            "backgroundcolor": "rgb(17,17,17)",
            "gridcolor": "#506784",
            "linecolor": "#506784",
            "showbackground": true,
            "ticks": "",
            "zerolinecolor": "#C8D4E3",
            "gridwidth": 2
           },
           "yaxis": {
            "backgroundcolor": "rgb(17,17,17)",
            "gridcolor": "#506784",
            "linecolor": "#506784",
            "showbackground": true,
            "ticks": "",
            "zerolinecolor": "#C8D4E3",
            "gridwidth": 2
           },
           "zaxis": {
            "backgroundcolor": "rgb(17,17,17)",
            "gridcolor": "#506784",
            "linecolor": "#506784",
            "showbackground": true,
            "ticks": "",
            "zerolinecolor": "#C8D4E3",
            "gridwidth": 2
           }
          },
          "shapedefaults": {
           "line": {
            "color": "#f2f5fa"
           }
          },
          "annotationdefaults": {
           "arrowcolor": "#f2f5fa",
           "arrowhead": 0,
           "arrowwidth": 1
          },
          "geo": {
           "bgcolor": "rgb(17,17,17)",
           "landcolor": "rgb(17,17,17)",
           "subunitcolor": "#506784",
           "showland": true,
           "showlakes": true,
           "lakecolor": "rgb(17,17,17)"
          },
          "title": {
           "x": 0.05
          },
          "updatemenudefaults": {
           "bgcolor": "#506784",
           "borderwidth": 0
          },
          "sliderdefaults": {
           "bgcolor": "#C8D4E3",
           "borderwidth": 1,
           "bordercolor": "rgb(17,17,17)",
           "tickwidth": 0
          },
          "mapbox": {
           "style": "dark"
          }
         }
        },
        "width": 1024,
        "height": 500,
        "title": {
         "text": "Dataset of crimes in "
        },
        "xaxis": {
         "title": {
          "text": "Weeks"
         }
        },
        "yaxis": {
         "title": {
          "text": "Number of crimes"
         }
        }
       },
       "config": {
        "plotlyServerURL": "https://plot.ly"
       }
      },
      "text/html": "<div>                            <div id=\"e4234e83-e8c5-4e1d-83a2-16bb50d540f4\" class=\"plotly-graph-div\" style=\"height:500px; width:1024px;\"></div>            <script type=\"text/javascript\">                require([\"plotly\"], function(Plotly) {                    window.PLOTLYENV=window.PLOTLYENV || {};                                    if (document.getElementById(\"e4234e83-e8c5-4e1d-83a2-16bb50d540f4\")) {                    Plotly.newPlot(                        \"e4234e83-e8c5-4e1d-83a2-16bb50d540f4\",                        [{\"name\":\"Dataset\",\"x\":[0,1,2,3,4,5,6,7,8,9,10,11,12,13,14,15,16,17,18,19,20,21,22,23,24,25,26,27,28,29,30,31,32,33,34,35,36,37,38,39,40,41,42,43,44,45,46,47,48,49,50,51,52,53,54,55,56,57,58,59,60,61,62,63,64,65,66,67,68,69,70,71,72,73,74,75,76,77,78,79,80,81,82,83,84,85],\"y\":[266,335,332,351,360,354,353,328,350,383,314,288,247,260,229,277,303,332,313,273,325,267,276,322,362,345,329,297,344,360,340,329,330,366,325,313,302,332,304,324,291,314,308,268,283,294,302,275,274,277,286,245,254,241,260,279,243,285,268,279,268,288,243,269,292,313,276,258,270,283,293,296,312,307,314,342,338,312,387,353,357,353,338,338,288,11],\"type\":\"scatter\"},{\"name\":\"Average\",\"x\":[0,1,2,3,4,5,6,7,8,9,10,11,12,13,14,15,16,17,18,19,20,21,22,23,24,25,26,27,28,29,30,31,32,33,34,35,36,37,38,39,40,41,42,43,44,45,46,47,48,49,50,51,52,53,54,55,56,57,58,59,60,61,62,63,64,65,66,67,68,69,70,71,72,73,74,75,76,77,78,79,80,81,82,83,84,85],\"y\":[311.0,339.3333333333333,347.6666666666667,355.0,355.6666666666667,345.0,343.6666666666667,353.6666666666667,349.0,328.3333333333333,283.0,265.0,245.33333333333334,255.33333333333334,269.6666666666667,304.0,316.0,306.0,303.6666666666667,288.3333333333333,289.3333333333333,288.3333333333333,320.0,343.0,345.3333333333333,323.6666666666667,323.3333333333333,333.6666666666667,348.0,343.0,333.0,341.6666666666667,340.3333333333333,334.6666666666667,313.3333333333333,315.6666666666667,312.6666666666667,320.0,306.3333333333333,309.6666666666667,304.3333333333333,296.6666666666667,286.3333333333333,281.6666666666667,293.0,290.3333333333333,283.6666666666667,275.3333333333333,279.0,269.3333333333333,261.6666666666667,246.66666666666666,251.66666666666666,260.0,260.6666666666667,269.0,265.3333333333333,277.3333333333333,271.6666666666667,278.3333333333333,266.3333333333333,266.6666666666667,268.0,291.3333333333333,293.6666666666667,282.3333333333333,268.0,270.3333333333333,282.0,290.6666666666667,300.3333333333333,305.0,311.0,321.0,331.3333333333333,330.6666666666667,345.6666666666667,350.6666666666667,365.6666666666667,354.3333333333333,349.3333333333333,343.0,321.3333333333333,212.33333333333334],\"type\":\"scatter\"}],                        {\"template\":{\"data\":{\"histogram2dcontour\":[{\"type\":\"histogram2dcontour\",\"colorbar\":{\"outlinewidth\":0,\"ticks\":\"\"},\"colorscale\":[[0.0,\"#0d0887\"],[0.1111111111111111,\"#46039f\"],[0.2222222222222222,\"#7201a8\"],[0.3333333333333333,\"#9c179e\"],[0.4444444444444444,\"#bd3786\"],[0.5555555555555556,\"#d8576b\"],[0.6666666666666666,\"#ed7953\"],[0.7777777777777778,\"#fb9f3a\"],[0.8888888888888888,\"#fdca26\"],[1.0,\"#f0f921\"]]}],\"choropleth\":[{\"type\":\"choropleth\",\"colorbar\":{\"outlinewidth\":0,\"ticks\":\"\"}}],\"histogram2d\":[{\"type\":\"histogram2d\",\"colorbar\":{\"outlinewidth\":0,\"ticks\":\"\"},\"colorscale\":[[0.0,\"#0d0887\"],[0.1111111111111111,\"#46039f\"],[0.2222222222222222,\"#7201a8\"],[0.3333333333333333,\"#9c179e\"],[0.4444444444444444,\"#bd3786\"],[0.5555555555555556,\"#d8576b\"],[0.6666666666666666,\"#ed7953\"],[0.7777777777777778,\"#fb9f3a\"],[0.8888888888888888,\"#fdca26\"],[1.0,\"#f0f921\"]]}],\"heatmap\":[{\"type\":\"heatmap\",\"colorbar\":{\"outlinewidth\":0,\"ticks\":\"\"},\"colorscale\":[[0.0,\"#0d0887\"],[0.1111111111111111,\"#46039f\"],[0.2222222222222222,\"#7201a8\"],[0.3333333333333333,\"#9c179e\"],[0.4444444444444444,\"#bd3786\"],[0.5555555555555556,\"#d8576b\"],[0.6666666666666666,\"#ed7953\"],[0.7777777777777778,\"#fb9f3a\"],[0.8888888888888888,\"#fdca26\"],[1.0,\"#f0f921\"]]}],\"heatmapgl\":[{\"type\":\"heatmapgl\",\"colorbar\":{\"outlinewidth\":0,\"ticks\":\"\"},\"colorscale\":[[0.0,\"#0d0887\"],[0.1111111111111111,\"#46039f\"],[0.2222222222222222,\"#7201a8\"],[0.3333333333333333,\"#9c179e\"],[0.4444444444444444,\"#bd3786\"],[0.5555555555555556,\"#d8576b\"],[0.6666666666666666,\"#ed7953\"],[0.7777777777777778,\"#fb9f3a\"],[0.8888888888888888,\"#fdca26\"],[1.0,\"#f0f921\"]]}],\"contourcarpet\":[{\"type\":\"contourcarpet\",\"colorbar\":{\"outlinewidth\":0,\"ticks\":\"\"}}],\"contour\":[{\"type\":\"contour\",\"colorbar\":{\"outlinewidth\":0,\"ticks\":\"\"},\"colorscale\":[[0.0,\"#0d0887\"],[0.1111111111111111,\"#46039f\"],[0.2222222222222222,\"#7201a8\"],[0.3333333333333333,\"#9c179e\"],[0.4444444444444444,\"#bd3786\"],[0.5555555555555556,\"#d8576b\"],[0.6666666666666666,\"#ed7953\"],[0.7777777777777778,\"#fb9f3a\"],[0.8888888888888888,\"#fdca26\"],[1.0,\"#f0f921\"]]}],\"surface\":[{\"type\":\"surface\",\"colorbar\":{\"outlinewidth\":0,\"ticks\":\"\"},\"colorscale\":[[0.0,\"#0d0887\"],[0.1111111111111111,\"#46039f\"],[0.2222222222222222,\"#7201a8\"],[0.3333333333333333,\"#9c179e\"],[0.4444444444444444,\"#bd3786\"],[0.5555555555555556,\"#d8576b\"],[0.6666666666666666,\"#ed7953\"],[0.7777777777777778,\"#fb9f3a\"],[0.8888888888888888,\"#fdca26\"],[1.0,\"#f0f921\"]]}],\"mesh3d\":[{\"type\":\"mesh3d\",\"colorbar\":{\"outlinewidth\":0,\"ticks\":\"\"}}],\"scatter\":[{\"marker\":{\"line\":{\"color\":\"#283442\"}},\"type\":\"scatter\"}],\"parcoords\":[{\"type\":\"parcoords\",\"line\":{\"colorbar\":{\"outlinewidth\":0,\"ticks\":\"\"}}}],\"scatterpolargl\":[{\"type\":\"scatterpolargl\",\"marker\":{\"colorbar\":{\"outlinewidth\":0,\"ticks\":\"\"}}}],\"bar\":[{\"error_x\":{\"color\":\"#f2f5fa\"},\"error_y\":{\"color\":\"#f2f5fa\"},\"marker\":{\"line\":{\"color\":\"rgb(17,17,17)\",\"width\":0.5},\"pattern\":{\"fillmode\":\"overlay\",\"size\":10,\"solidity\":0.2}},\"type\":\"bar\"}],\"scattergeo\":[{\"type\":\"scattergeo\",\"marker\":{\"colorbar\":{\"outlinewidth\":0,\"ticks\":\"\"}}}],\"scatterpolar\":[{\"type\":\"scatterpolar\",\"marker\":{\"colorbar\":{\"outlinewidth\":0,\"ticks\":\"\"}}}],\"histogram\":[{\"marker\":{\"pattern\":{\"fillmode\":\"overlay\",\"size\":10,\"solidity\":0.2}},\"type\":\"histogram\"}],\"scattergl\":[{\"marker\":{\"line\":{\"color\":\"#283442\"}},\"type\":\"scattergl\"}],\"scatter3d\":[{\"type\":\"scatter3d\",\"line\":{\"colorbar\":{\"outlinewidth\":0,\"ticks\":\"\"}},\"marker\":{\"colorbar\":{\"outlinewidth\":0,\"ticks\":\"\"}}}],\"scattermapbox\":[{\"type\":\"scattermapbox\",\"marker\":{\"colorbar\":{\"outlinewidth\":0,\"ticks\":\"\"}}}],\"scatterternary\":[{\"type\":\"scatterternary\",\"marker\":{\"colorbar\":{\"outlinewidth\":0,\"ticks\":\"\"}}}],\"scattercarpet\":[{\"type\":\"scattercarpet\",\"marker\":{\"colorbar\":{\"outlinewidth\":0,\"ticks\":\"\"}}}],\"carpet\":[{\"aaxis\":{\"endlinecolor\":\"#A2B1C6\",\"gridcolor\":\"#506784\",\"linecolor\":\"#506784\",\"minorgridcolor\":\"#506784\",\"startlinecolor\":\"#A2B1C6\"},\"baxis\":{\"endlinecolor\":\"#A2B1C6\",\"gridcolor\":\"#506784\",\"linecolor\":\"#506784\",\"minorgridcolor\":\"#506784\",\"startlinecolor\":\"#A2B1C6\"},\"type\":\"carpet\"}],\"table\":[{\"cells\":{\"fill\":{\"color\":\"#506784\"},\"line\":{\"color\":\"rgb(17,17,17)\"}},\"header\":{\"fill\":{\"color\":\"#2a3f5f\"},\"line\":{\"color\":\"rgb(17,17,17)\"}},\"type\":\"table\"}],\"barpolar\":[{\"marker\":{\"line\":{\"color\":\"rgb(17,17,17)\",\"width\":0.5},\"pattern\":{\"fillmode\":\"overlay\",\"size\":10,\"solidity\":0.2}},\"type\":\"barpolar\"}],\"pie\":[{\"automargin\":true,\"type\":\"pie\"}]},\"layout\":{\"autotypenumbers\":\"strict\",\"colorway\":[\"#636efa\",\"#EF553B\",\"#00cc96\",\"#ab63fa\",\"#FFA15A\",\"#19d3f3\",\"#FF6692\",\"#B6E880\",\"#FF97FF\",\"#FECB52\"],\"font\":{\"color\":\"#f2f5fa\"},\"hovermode\":\"closest\",\"hoverlabel\":{\"align\":\"left\"},\"paper_bgcolor\":\"rgb(17,17,17)\",\"plot_bgcolor\":\"rgb(17,17,17)\",\"polar\":{\"bgcolor\":\"rgb(17,17,17)\",\"angularaxis\":{\"gridcolor\":\"#506784\",\"linecolor\":\"#506784\",\"ticks\":\"\"},\"radialaxis\":{\"gridcolor\":\"#506784\",\"linecolor\":\"#506784\",\"ticks\":\"\"}},\"ternary\":{\"bgcolor\":\"rgb(17,17,17)\",\"aaxis\":{\"gridcolor\":\"#506784\",\"linecolor\":\"#506784\",\"ticks\":\"\"},\"baxis\":{\"gridcolor\":\"#506784\",\"linecolor\":\"#506784\",\"ticks\":\"\"},\"caxis\":{\"gridcolor\":\"#506784\",\"linecolor\":\"#506784\",\"ticks\":\"\"}},\"coloraxis\":{\"colorbar\":{\"outlinewidth\":0,\"ticks\":\"\"}},\"colorscale\":{\"sequential\":[[0.0,\"#0d0887\"],[0.1111111111111111,\"#46039f\"],[0.2222222222222222,\"#7201a8\"],[0.3333333333333333,\"#9c179e\"],[0.4444444444444444,\"#bd3786\"],[0.5555555555555556,\"#d8576b\"],[0.6666666666666666,\"#ed7953\"],[0.7777777777777778,\"#fb9f3a\"],[0.8888888888888888,\"#fdca26\"],[1.0,\"#f0f921\"]],\"sequentialminus\":[[0.0,\"#0d0887\"],[0.1111111111111111,\"#46039f\"],[0.2222222222222222,\"#7201a8\"],[0.3333333333333333,\"#9c179e\"],[0.4444444444444444,\"#bd3786\"],[0.5555555555555556,\"#d8576b\"],[0.6666666666666666,\"#ed7953\"],[0.7777777777777778,\"#fb9f3a\"],[0.8888888888888888,\"#fdca26\"],[1.0,\"#f0f921\"]],\"diverging\":[[0,\"#8e0152\"],[0.1,\"#c51b7d\"],[0.2,\"#de77ae\"],[0.3,\"#f1b6da\"],[0.4,\"#fde0ef\"],[0.5,\"#f7f7f7\"],[0.6,\"#e6f5d0\"],[0.7,\"#b8e186\"],[0.8,\"#7fbc41\"],[0.9,\"#4d9221\"],[1,\"#276419\"]]},\"xaxis\":{\"gridcolor\":\"#283442\",\"linecolor\":\"#506784\",\"ticks\":\"\",\"title\":{\"standoff\":15},\"zerolinecolor\":\"#283442\",\"automargin\":true,\"zerolinewidth\":2},\"yaxis\":{\"gridcolor\":\"#283442\",\"linecolor\":\"#506784\",\"ticks\":\"\",\"title\":{\"standoff\":15},\"zerolinecolor\":\"#283442\",\"automargin\":true,\"zerolinewidth\":2},\"scene\":{\"xaxis\":{\"backgroundcolor\":\"rgb(17,17,17)\",\"gridcolor\":\"#506784\",\"linecolor\":\"#506784\",\"showbackground\":true,\"ticks\":\"\",\"zerolinecolor\":\"#C8D4E3\",\"gridwidth\":2},\"yaxis\":{\"backgroundcolor\":\"rgb(17,17,17)\",\"gridcolor\":\"#506784\",\"linecolor\":\"#506784\",\"showbackground\":true,\"ticks\":\"\",\"zerolinecolor\":\"#C8D4E3\",\"gridwidth\":2},\"zaxis\":{\"backgroundcolor\":\"rgb(17,17,17)\",\"gridcolor\":\"#506784\",\"linecolor\":\"#506784\",\"showbackground\":true,\"ticks\":\"\",\"zerolinecolor\":\"#C8D4E3\",\"gridwidth\":2}},\"shapedefaults\":{\"line\":{\"color\":\"#f2f5fa\"}},\"annotationdefaults\":{\"arrowcolor\":\"#f2f5fa\",\"arrowhead\":0,\"arrowwidth\":1},\"geo\":{\"bgcolor\":\"rgb(17,17,17)\",\"landcolor\":\"rgb(17,17,17)\",\"subunitcolor\":\"#506784\",\"showland\":true,\"showlakes\":true,\"lakecolor\":\"rgb(17,17,17)\"},\"title\":{\"x\":0.05},\"updatemenudefaults\":{\"bgcolor\":\"#506784\",\"borderwidth\":0},\"sliderdefaults\":{\"bgcolor\":\"#C8D4E3\",\"borderwidth\":1,\"bordercolor\":\"rgb(17,17,17)\",\"tickwidth\":0},\"mapbox\":{\"style\":\"dark\"}}},\"width\":1024,\"height\":500,\"title\":{\"text\":\"Dataset of crimes in \"},\"xaxis\":{\"title\":{\"text\":\"Weeks\"}},\"yaxis\":{\"title\":{\"text\":\"Number of crimes\"}}},                        {\"responsive\": true}                    ).then(function(){\n                            \nvar gd = document.getElementById('e4234e83-e8c5-4e1d-83a2-16bb50d540f4');\nvar x = new MutationObserver(function (mutations, observer) {{\n        var display = window.getComputedStyle(gd).display;\n        if (!display || display === 'none') {{\n            console.log([gd, 'removed!']);\n            Plotly.purge(gd);\n            observer.disconnect();\n        }}\n}});\n\n// Listen for the removal of the full notebook cells\nvar notebookContainer = gd.closest('#notebook-container');\nif (notebookContainer) {{\n    x.observe(notebookContainer, {childList: true});\n}}\n\n// Listen for the clearing of the current output cell\nvar outputEl = gd.closest('.output');\nif (outputEl) {{\n    x.observe(outputEl, {childList: true});\n}}\n\n                        })                };                });            </script>        </div>"
     },
     "metadata": {},
     "output_type": "display_data"
    }
   ],
   "source": [
    "list_graphs = []\n",
    "graph_1 = go.Scatter(x=list(range(0,len(df1))),y=df1.flatten(),name=\"Dataset\")\n",
    "list_graphs.append(graph_1)\n",
    "average = moving_average(df1)\n",
    "graph_2 = go.Scatter(x=list(range(0,len(df1))),y=average,name=\"Average\")\n",
    "list_graphs.append(graph_2)\n",
    "fig = go.Figure(data=list_graphs)\n",
    "fig.update_layout(width=1024,height=500,title=\"Dataset of crimes in \",xaxis=dict(title='Weeks'),yaxis=dict(title='Number of crimes'))\n",
    "\n",
    "fig.show()"
   ],
   "metadata": {
    "collapsed": false,
    "ExecuteTime": {
     "end_time": "2023-11-26T19:09:58.405811Z",
     "start_time": "2023-11-26T19:09:58.389225Z"
    }
   }
  },
  {
   "cell_type": "code",
   "execution_count": 468,
   "outputs": [],
   "source": [
    "\n",
    "scaler = MinMaxScaler()\n",
    "df1 = scaler.fit_transform(df1)"
   ],
   "metadata": {
    "collapsed": false,
    "ExecuteTime": {
     "end_time": "2023-11-26T19:09:58.405945Z",
     "start_time": "2023-11-26T19:09:58.396415Z"
    }
   }
  },
  {
   "cell_type": "code",
   "execution_count": 469,
   "outputs": [
    {
     "name": "stdout",
     "output_type": "stream",
     "text": [
      "60\n",
      "26\n"
     ]
    }
   ],
   "source": [
    "# dataset_510['DATE OCC'] = pd.to_datetime(dataset_510['DATE OCC']) - pd.to_timedelta(7, unit='d')\n",
    "\n",
    "df1\n",
    "train_size = int(len(df1) * 0.7)\n",
    "print(train_size)\n",
    "test_size = len(df1) - train_size\n",
    "print(test_size)\n",
    "train, test = df1[0:train_size,:], df1[train_size:len(df1),:]\n",
    "\n",
    "# df1 = df1.drop(['DATE'], axis=1, index=None, columns=None, level=None, inplace=False, errors='raise')\\"
   ],
   "metadata": {
    "collapsed": false,
    "ExecuteTime": {
     "end_time": "2023-11-26T19:09:58.442256Z",
     "start_time": "2023-11-26T19:09:58.405037Z"
    }
   }
  },
  {
   "cell_type": "code",
   "execution_count": 470,
   "outputs": [],
   "source": [
    "# dataset_510['DATE OCC'] = pd.to_datetime(dataset_510['DATE OCC']) - pd.to_timedelta(7, unit='d')\n",
    "look_back = 1\n",
    "trainX, trainY = create_dataset(train, look_back)\n",
    "testX, testY = create_dataset(test, look_back)\n",
    "\n",
    "# df1 = df1.drop(['DATE'], axis=1, index=None, columns=None, level=None, inplace=False, errors='raise')\\"
   ],
   "metadata": {
    "collapsed": false,
    "ExecuteTime": {
     "end_time": "2023-11-26T19:09:58.442585Z",
     "start_time": "2023-11-26T19:09:58.409737Z"
    }
   }
  },
  {
   "cell_type": "code",
   "execution_count": 471,
   "outputs": [
    {
     "data": {
      "text/plain": "((59, 1), (59,), (25, 1), (25,))"
     },
     "execution_count": 471,
     "metadata": {},
     "output_type": "execute_result"
    }
   ],
   "source": [
    "trainX.shape, trainY.shape, testX.shape, testY.shape"
   ],
   "metadata": {
    "collapsed": false,
    "ExecuteTime": {
     "end_time": "2023-11-26T19:09:58.442806Z",
     "start_time": "2023-11-26T19:09:58.414536Z"
    }
   }
  },
  {
   "cell_type": "code",
   "execution_count": 472,
   "outputs": [],
   "source": [
    "trainX = np.reshape(trainX, (trainX.shape[0],1, trainX.shape[1]))\n",
    "testX = np.reshape(testX, (testX.shape[0],1, testX.shape[1]))\n",
    "# trainX.shape"
   ],
   "metadata": {
    "collapsed": false,
    "ExecuteTime": {
     "end_time": "2023-11-26T19:09:58.443209Z",
     "start_time": "2023-11-26T19:09:58.423363Z"
    }
   }
  },
  {
   "cell_type": "code",
   "execution_count": 473,
   "outputs": [
    {
     "name": "stdout",
     "output_type": "stream",
     "text": [
      "Epoch 1/500\n",
      "15/15 [==============================] - 4s 4ms/step - loss: 0.5863\n",
      "Epoch 2/500\n",
      "15/15 [==============================] - 0s 3ms/step - loss: 0.5231\n",
      "Epoch 3/500\n",
      "15/15 [==============================] - 0s 2ms/step - loss: 0.4680\n",
      "Epoch 4/500\n",
      "15/15 [==============================] - 0s 2ms/step - loss: 0.4125\n",
      "Epoch 5/500\n",
      "15/15 [==============================] - 0s 2ms/step - loss: 0.3564\n",
      "Epoch 6/500\n",
      "15/15 [==============================] - 0s 2ms/step - loss: 0.2999\n",
      "Epoch 7/500\n",
      "15/15 [==============================] - 0s 4ms/step - loss: 0.2442\n",
      "Epoch 8/500\n",
      "15/15 [==============================] - 0s 7ms/step - loss: 0.1901\n",
      "Epoch 9/500\n",
      "15/15 [==============================] - 0s 4ms/step - loss: 0.1393\n",
      "Epoch 10/500\n",
      "15/15 [==============================] - 0s 2ms/step - loss: 0.0943\n",
      "Epoch 11/500\n",
      "15/15 [==============================] - 0s 3ms/step - loss: 0.0567\n",
      "Epoch 12/500\n",
      "15/15 [==============================] - 0s 3ms/step - loss: 0.0300\n",
      "Epoch 13/500\n",
      "15/15 [==============================] - 0s 3ms/step - loss: 0.0144\n",
      "Epoch 14/500\n",
      "15/15 [==============================] - 0s 3ms/step - loss: 0.0082\n",
      "Epoch 15/500\n",
      "15/15 [==============================] - 0s 3ms/step - loss: 0.0068\n",
      "Epoch 16/500\n",
      "15/15 [==============================] - 0s 2ms/step - loss: 0.0067\n",
      "Epoch 17/500\n",
      "15/15 [==============================] - 0s 3ms/step - loss: 0.0065\n",
      "Epoch 18/500\n",
      "15/15 [==============================] - 0s 2ms/step - loss: 0.0067\n",
      "Epoch 19/500\n",
      "15/15 [==============================] - 0s 3ms/step - loss: 0.0067\n",
      "Epoch 20/500\n",
      "15/15 [==============================] - 0s 3ms/step - loss: 0.0065\n",
      "Epoch 21/500\n",
      "15/15 [==============================] - 0s 3ms/step - loss: 0.0065\n",
      "Epoch 22/500\n",
      "15/15 [==============================] - 0s 3ms/step - loss: 0.0067\n",
      "Epoch 23/500\n",
      "15/15 [==============================] - 0s 3ms/step - loss: 0.0065\n",
      "Epoch 24/500\n",
      "15/15 [==============================] - 0s 3ms/step - loss: 0.0066\n",
      "Epoch 25/500\n",
      "15/15 [==============================] - 0s 2ms/step - loss: 0.0066\n",
      "Epoch 26/500\n",
      "15/15 [==============================] - 0s 6ms/step - loss: 0.0067\n",
      "Epoch 27/500\n",
      "15/15 [==============================] - 0s 4ms/step - loss: 0.0065\n",
      "Epoch 28/500\n",
      "15/15 [==============================] - 0s 3ms/step - loss: 0.0066\n",
      "Epoch 29/500\n",
      "15/15 [==============================] - 0s 3ms/step - loss: 0.0067\n",
      "Epoch 30/500\n",
      "15/15 [==============================] - 0s 4ms/step - loss: 0.0065\n",
      "Epoch 31/500\n",
      "15/15 [==============================] - 0s 3ms/step - loss: 0.0064\n",
      "Epoch 32/500\n",
      "15/15 [==============================] - 0s 5ms/step - loss: 0.0064\n",
      "Epoch 33/500\n",
      "15/15 [==============================] - 0s 4ms/step - loss: 0.0064\n",
      "Epoch 34/500\n",
      "15/15 [==============================] - 0s 3ms/step - loss: 0.0063\n",
      "Epoch 35/500\n",
      "15/15 [==============================] - 0s 2ms/step - loss: 0.0064\n",
      "Epoch 36/500\n",
      "15/15 [==============================] - 0s 2ms/step - loss: 0.0064\n",
      "Epoch 37/500\n",
      "15/15 [==============================] - 0s 2ms/step - loss: 0.0064\n",
      "Epoch 38/500\n",
      "15/15 [==============================] - 0s 2ms/step - loss: 0.0063\n",
      "Epoch 39/500\n",
      "15/15 [==============================] - 0s 2ms/step - loss: 0.0064\n",
      "Epoch 40/500\n",
      "15/15 [==============================] - 0s 2ms/step - loss: 0.0063\n",
      "Epoch 41/500\n",
      "15/15 [==============================] - 0s 2ms/step - loss: 0.0062\n",
      "Epoch 42/500\n",
      "15/15 [==============================] - 0s 2ms/step - loss: 0.0063\n",
      "Epoch 43/500\n",
      "15/15 [==============================] - 0s 2ms/step - loss: 0.0063\n",
      "Epoch 44/500\n",
      "15/15 [==============================] - 0s 2ms/step - loss: 0.0062\n",
      "Epoch 45/500\n",
      "15/15 [==============================] - 0s 2ms/step - loss: 0.0061\n",
      "Epoch 46/500\n",
      "15/15 [==============================] - 0s 2ms/step - loss: 0.0062\n",
      "Epoch 47/500\n",
      "15/15 [==============================] - 0s 2ms/step - loss: 0.0062\n",
      "Epoch 48/500\n",
      "15/15 [==============================] - 0s 2ms/step - loss: 0.0061\n",
      "Epoch 49/500\n",
      "15/15 [==============================] - 0s 2ms/step - loss: 0.0062\n",
      "Epoch 50/500\n",
      "15/15 [==============================] - 0s 2ms/step - loss: 0.0061\n",
      "Epoch 51/500\n",
      "15/15 [==============================] - 0s 2ms/step - loss: 0.0061\n",
      "Epoch 52/500\n",
      "15/15 [==============================] - 0s 2ms/step - loss: 0.0062\n",
      "Epoch 53/500\n",
      "15/15 [==============================] - 0s 4ms/step - loss: 0.0061\n",
      "Epoch 54/500\n",
      "15/15 [==============================] - 0s 3ms/step - loss: 0.0061\n",
      "Epoch 55/500\n",
      "15/15 [==============================] - 0s 2ms/step - loss: 0.0062\n",
      "Epoch 56/500\n",
      "15/15 [==============================] - 0s 2ms/step - loss: 0.0060\n",
      "Epoch 57/500\n",
      "15/15 [==============================] - 0s 2ms/step - loss: 0.0060\n",
      "Epoch 58/500\n",
      "15/15 [==============================] - 0s 2ms/step - loss: 0.0062\n",
      "Epoch 59/500\n",
      "15/15 [==============================] - 0s 2ms/step - loss: 0.0061\n",
      "Epoch 60/500\n",
      "15/15 [==============================] - 0s 2ms/step - loss: 0.0060\n",
      "Epoch 61/500\n",
      "15/15 [==============================] - 0s 2ms/step - loss: 0.0060\n",
      "Epoch 62/500\n",
      "15/15 [==============================] - 0s 2ms/step - loss: 0.0060\n",
      "Epoch 63/500\n",
      "15/15 [==============================] - 0s 3ms/step - loss: 0.0061\n",
      "Epoch 64/500\n",
      "15/15 [==============================] - 0s 2ms/step - loss: 0.0060\n",
      "Epoch 65/500\n",
      "15/15 [==============================] - 0s 2ms/step - loss: 0.0061\n",
      "Epoch 66/500\n",
      "15/15 [==============================] - 0s 2ms/step - loss: 0.0060\n",
      "Epoch 67/500\n",
      "15/15 [==============================] - 0s 2ms/step - loss: 0.0059\n",
      "Epoch 68/500\n",
      "15/15 [==============================] - 0s 2ms/step - loss: 0.0059\n",
      "Epoch 69/500\n",
      "15/15 [==============================] - 0s 2ms/step - loss: 0.0059\n",
      "Epoch 70/500\n",
      "15/15 [==============================] - 0s 3ms/step - loss: 0.0057\n",
      "Epoch 71/500\n",
      "15/15 [==============================] - 0s 3ms/step - loss: 0.0059\n",
      "Epoch 72/500\n",
      "15/15 [==============================] - 0s 2ms/step - loss: 0.0059\n",
      "Epoch 73/500\n",
      "15/15 [==============================] - 0s 2ms/step - loss: 0.0059\n",
      "Epoch 74/500\n",
      "15/15 [==============================] - 0s 2ms/step - loss: 0.0058\n",
      "Epoch 75/500\n",
      "15/15 [==============================] - 0s 2ms/step - loss: 0.0060\n",
      "Epoch 76/500\n",
      "15/15 [==============================] - 0s 2ms/step - loss: 0.0058\n",
      "Epoch 77/500\n",
      "15/15 [==============================] - 0s 2ms/step - loss: 0.0060\n",
      "Epoch 78/500\n",
      "15/15 [==============================] - 0s 2ms/step - loss: 0.0058\n",
      "Epoch 79/500\n",
      "15/15 [==============================] - 0s 2ms/step - loss: 0.0060\n",
      "Epoch 80/500\n",
      "15/15 [==============================] - 0s 3ms/step - loss: 0.0057\n",
      "Epoch 81/500\n",
      "15/15 [==============================] - 0s 2ms/step - loss: 0.0058\n",
      "Epoch 82/500\n",
      "15/15 [==============================] - 0s 2ms/step - loss: 0.0057\n",
      "Epoch 83/500\n",
      "15/15 [==============================] - 0s 2ms/step - loss: 0.0058\n",
      "Epoch 84/500\n",
      "15/15 [==============================] - 0s 2ms/step - loss: 0.0058\n",
      "Epoch 85/500\n",
      "15/15 [==============================] - 0s 2ms/step - loss: 0.0058\n",
      "Epoch 86/500\n",
      "15/15 [==============================] - 0s 2ms/step - loss: 0.0056\n",
      "Epoch 87/500\n",
      "15/15 [==============================] - 0s 2ms/step - loss: 0.0058\n",
      "Epoch 88/500\n",
      "15/15 [==============================] - 0s 2ms/step - loss: 0.0056\n",
      "Epoch 89/500\n",
      "15/15 [==============================] - 0s 2ms/step - loss: 0.0058\n",
      "Epoch 90/500\n",
      "15/15 [==============================] - 0s 2ms/step - loss: 0.0056\n",
      "Epoch 91/500\n",
      "15/15 [==============================] - 0s 2ms/step - loss: 0.0056\n",
      "Epoch 92/500\n",
      "15/15 [==============================] - 0s 2ms/step - loss: 0.0060\n",
      "Epoch 93/500\n",
      "15/15 [==============================] - 0s 2ms/step - loss: 0.0057\n",
      "Epoch 94/500\n",
      "15/15 [==============================] - 0s 2ms/step - loss: 0.0056\n",
      "Epoch 95/500\n",
      "15/15 [==============================] - 0s 2ms/step - loss: 0.0055\n",
      "Epoch 96/500\n",
      "15/15 [==============================] - 0s 2ms/step - loss: 0.0059\n",
      "Epoch 97/500\n",
      "15/15 [==============================] - 0s 2ms/step - loss: 0.0057\n",
      "Epoch 98/500\n",
      "15/15 [==============================] - 0s 2ms/step - loss: 0.0057\n",
      "Epoch 99/500\n",
      "15/15 [==============================] - 0s 2ms/step - loss: 0.0057\n",
      "Epoch 100/500\n",
      "15/15 [==============================] - 0s 2ms/step - loss: 0.0056\n",
      "Epoch 101/500\n",
      "15/15 [==============================] - 0s 2ms/step - loss: 0.0058\n",
      "Epoch 102/500\n",
      "15/15 [==============================] - 0s 2ms/step - loss: 0.0057\n",
      "Epoch 103/500\n",
      "15/15 [==============================] - 0s 2ms/step - loss: 0.0055\n",
      "Epoch 104/500\n",
      "15/15 [==============================] - 0s 2ms/step - loss: 0.0056\n",
      "Epoch 105/500\n",
      "15/15 [==============================] - 0s 2ms/step - loss: 0.0057\n",
      "Epoch 106/500\n",
      "15/15 [==============================] - 0s 2ms/step - loss: 0.0055\n",
      "Epoch 107/500\n",
      "15/15 [==============================] - 0s 2ms/step - loss: 0.0057\n",
      "Epoch 108/500\n",
      "15/15 [==============================] - 0s 2ms/step - loss: 0.0057\n",
      "Epoch 109/500\n",
      "15/15 [==============================] - 0s 2ms/step - loss: 0.0055\n",
      "Epoch 110/500\n",
      "15/15 [==============================] - 0s 3ms/step - loss: 0.0056\n",
      "Epoch 111/500\n",
      "15/15 [==============================] - 0s 3ms/step - loss: 0.0055\n",
      "Epoch 112/500\n",
      "15/15 [==============================] - 0s 3ms/step - loss: 0.0058\n",
      "Epoch 113/500\n",
      "15/15 [==============================] - 0s 2ms/step - loss: 0.0055\n",
      "Epoch 114/500\n",
      "15/15 [==============================] - 0s 2ms/step - loss: 0.0057\n",
      "Epoch 115/500\n",
      "15/15 [==============================] - 0s 2ms/step - loss: 0.0054\n",
      "Epoch 116/500\n",
      "15/15 [==============================] - 0s 2ms/step - loss: 0.0057\n",
      "Epoch 117/500\n",
      "15/15 [==============================] - 0s 2ms/step - loss: 0.0057\n",
      "Epoch 118/500\n",
      "15/15 [==============================] - 0s 3ms/step - loss: 0.0055\n",
      "Epoch 119/500\n",
      "15/15 [==============================] - 0s 5ms/step - loss: 0.0057\n",
      "Epoch 120/500\n",
      "15/15 [==============================] - 0s 5ms/step - loss: 0.0056\n",
      "Epoch 121/500\n",
      "15/15 [==============================] - 0s 2ms/step - loss: 0.0056\n",
      "Epoch 122/500\n",
      "15/15 [==============================] - 0s 2ms/step - loss: 0.0057\n",
      "Epoch 123/500\n",
      "15/15 [==============================] - 0s 3ms/step - loss: 0.0055\n",
      "Epoch 124/500\n",
      "15/15 [==============================] - 0s 5ms/step - loss: 0.0057\n",
      "Epoch 125/500\n",
      "15/15 [==============================] - 0s 3ms/step - loss: 0.0055\n",
      "Epoch 126/500\n",
      "15/15 [==============================] - 0s 5ms/step - loss: 0.0057\n",
      "Epoch 127/500\n",
      "15/15 [==============================] - 0s 6ms/step - loss: 0.0056\n",
      "Epoch 128/500\n",
      "15/15 [==============================] - 0s 3ms/step - loss: 0.0056\n",
      "Epoch 129/500\n",
      "15/15 [==============================] - 0s 2ms/step - loss: 0.0055\n",
      "Epoch 130/500\n",
      "15/15 [==============================] - 0s 2ms/step - loss: 0.0055\n",
      "Epoch 131/500\n",
      "15/15 [==============================] - 0s 2ms/step - loss: 0.0055\n",
      "Epoch 132/500\n",
      "15/15 [==============================] - 0s 2ms/step - loss: 0.0056\n",
      "Epoch 133/500\n",
      "15/15 [==============================] - 0s 2ms/step - loss: 0.0055\n",
      "Epoch 134/500\n",
      "15/15 [==============================] - 0s 2ms/step - loss: 0.0055\n",
      "Epoch 135/500\n",
      "15/15 [==============================] - 0s 2ms/step - loss: 0.0056\n",
      "Epoch 136/500\n",
      "15/15 [==============================] - 0s 4ms/step - loss: 0.0055\n",
      "Epoch 137/500\n",
      "15/15 [==============================] - 0s 3ms/step - loss: 0.0052\n",
      "Epoch 138/500\n",
      "15/15 [==============================] - 0s 2ms/step - loss: 0.0057\n",
      "Epoch 139/500\n",
      "15/15 [==============================] - 0s 2ms/step - loss: 0.0054\n",
      "Epoch 140/500\n",
      "15/15 [==============================] - 0s 2ms/step - loss: 0.0051\n",
      "Epoch 141/500\n",
      "15/15 [==============================] - 0s 2ms/step - loss: 0.0057\n",
      "Epoch 142/500\n",
      "15/15 [==============================] - 0s 2ms/step - loss: 0.0055\n",
      "Epoch 143/500\n",
      "15/15 [==============================] - 0s 2ms/step - loss: 0.0056\n",
      "Epoch 144/500\n",
      "15/15 [==============================] - 0s 2ms/step - loss: 0.0055\n",
      "Epoch 145/500\n",
      "15/15 [==============================] - 0s 2ms/step - loss: 0.0055\n",
      "Epoch 146/500\n",
      "15/15 [==============================] - 0s 2ms/step - loss: 0.0054\n",
      "Epoch 147/500\n",
      "15/15 [==============================] - 0s 2ms/step - loss: 0.0053\n",
      "Epoch 148/500\n",
      "15/15 [==============================] - 0s 2ms/step - loss: 0.0057\n",
      "Epoch 149/500\n",
      "15/15 [==============================] - 0s 2ms/step - loss: 0.0055\n",
      "Epoch 150/500\n",
      "15/15 [==============================] - 0s 2ms/step - loss: 0.0054\n",
      "Epoch 151/500\n",
      "15/15 [==============================] - 0s 3ms/step - loss: 0.0056\n",
      "Epoch 152/500\n",
      "15/15 [==============================] - 0s 2ms/step - loss: 0.0055\n",
      "Epoch 153/500\n",
      "15/15 [==============================] - 0s 3ms/step - loss: 0.0054\n",
      "Epoch 154/500\n",
      "15/15 [==============================] - 0s 2ms/step - loss: 0.0054\n",
      "Epoch 155/500\n",
      "15/15 [==============================] - 0s 2ms/step - loss: 0.0056\n",
      "Epoch 156/500\n",
      "15/15 [==============================] - 0s 2ms/step - loss: 0.0056\n",
      "Epoch 157/500\n",
      "15/15 [==============================] - 0s 2ms/step - loss: 0.0056\n",
      "Epoch 158/500\n",
      "15/15 [==============================] - 0s 2ms/step - loss: 0.0055\n",
      "Epoch 159/500\n",
      "15/15 [==============================] - 0s 2ms/step - loss: 0.0054\n",
      "Epoch 160/500\n",
      "15/15 [==============================] - 0s 2ms/step - loss: 0.0055\n",
      "Epoch 161/500\n",
      "15/15 [==============================] - 0s 2ms/step - loss: 0.0055\n",
      "Epoch 162/500\n",
      "15/15 [==============================] - 0s 2ms/step - loss: 0.0056\n",
      "Epoch 163/500\n",
      "15/15 [==============================] - 0s 2ms/step - loss: 0.0056\n",
      "Epoch 164/500\n",
      "15/15 [==============================] - 0s 2ms/step - loss: 0.0055\n",
      "Epoch 165/500\n",
      "15/15 [==============================] - 0s 2ms/step - loss: 0.0055\n",
      "Epoch 166/500\n",
      "15/15 [==============================] - 0s 2ms/step - loss: 0.0055\n",
      "Epoch 167/500\n",
      "15/15 [==============================] - 0s 2ms/step - loss: 0.0054\n",
      "Epoch 168/500\n",
      "15/15 [==============================] - 0s 2ms/step - loss: 0.0056\n",
      "Epoch 169/500\n",
      "15/15 [==============================] - 0s 2ms/step - loss: 0.0055\n",
      "Epoch 170/500\n",
      "15/15 [==============================] - 0s 2ms/step - loss: 0.0054\n",
      "Epoch 171/500\n",
      "15/15 [==============================] - 0s 2ms/step - loss: 0.0055\n",
      "Epoch 172/500\n",
      "15/15 [==============================] - 0s 2ms/step - loss: 0.0053\n",
      "Epoch 173/500\n",
      "15/15 [==============================] - 0s 2ms/step - loss: 0.0054\n",
      "Epoch 174/500\n",
      "15/15 [==============================] - 0s 2ms/step - loss: 0.0053\n",
      "Epoch 175/500\n",
      "15/15 [==============================] - 0s 2ms/step - loss: 0.0056\n",
      "Epoch 176/500\n",
      "15/15 [==============================] - 0s 2ms/step - loss: 0.0055\n",
      "Epoch 177/500\n",
      "15/15 [==============================] - 0s 2ms/step - loss: 0.0054\n",
      "Epoch 178/500\n",
      "15/15 [==============================] - 0s 2ms/step - loss: 0.0054\n",
      "Epoch 179/500\n",
      "15/15 [==============================] - 0s 2ms/step - loss: 0.0055\n",
      "Epoch 180/500\n",
      "15/15 [==============================] - 0s 2ms/step - loss: 0.0054\n",
      "Epoch 181/500\n",
      "15/15 [==============================] - 0s 2ms/step - loss: 0.0055\n",
      "Epoch 182/500\n",
      "15/15 [==============================] - 0s 2ms/step - loss: 0.0054\n",
      "Epoch 183/500\n",
      "15/15 [==============================] - 0s 2ms/step - loss: 0.0054\n",
      "Epoch 184/500\n",
      "15/15 [==============================] - 0s 2ms/step - loss: 0.0055\n",
      "Epoch 185/500\n",
      "15/15 [==============================] - 0s 2ms/step - loss: 0.0054\n",
      "Epoch 186/500\n",
      "15/15 [==============================] - 0s 2ms/step - loss: 0.0055\n",
      "Epoch 187/500\n",
      "15/15 [==============================] - 0s 2ms/step - loss: 0.0055\n",
      "Epoch 188/500\n",
      "15/15 [==============================] - 0s 2ms/step - loss: 0.0056\n",
      "Epoch 189/500\n",
      "15/15 [==============================] - 0s 2ms/step - loss: 0.0054\n",
      "Epoch 190/500\n",
      "15/15 [==============================] - 0s 2ms/step - loss: 0.0055\n",
      "Epoch 191/500\n",
      "15/15 [==============================] - 0s 2ms/step - loss: 0.0053\n",
      "Epoch 192/500\n",
      "15/15 [==============================] - 0s 2ms/step - loss: 0.0054\n",
      "Epoch 193/500\n",
      "15/15 [==============================] - 0s 2ms/step - loss: 0.0056\n",
      "Epoch 194/500\n",
      "15/15 [==============================] - 0s 2ms/step - loss: 0.0053\n",
      "Epoch 195/500\n",
      "15/15 [==============================] - 0s 2ms/step - loss: 0.0054\n",
      "Epoch 196/500\n",
      "15/15 [==============================] - 0s 2ms/step - loss: 0.0054\n",
      "Epoch 197/500\n",
      "15/15 [==============================] - 0s 2ms/step - loss: 0.0055\n",
      "Epoch 198/500\n",
      "15/15 [==============================] - 0s 2ms/step - loss: 0.0054\n",
      "Epoch 199/500\n",
      "15/15 [==============================] - 0s 2ms/step - loss: 0.0055\n",
      "Epoch 200/500\n",
      "15/15 [==============================] - 0s 2ms/step - loss: 0.0053\n",
      "Epoch 201/500\n",
      "15/15 [==============================] - 0s 2ms/step - loss: 0.0055\n",
      "Epoch 202/500\n",
      "15/15 [==============================] - 0s 2ms/step - loss: 0.0055\n",
      "Epoch 203/500\n",
      "15/15 [==============================] - 0s 2ms/step - loss: 0.0054\n",
      "Epoch 204/500\n",
      "15/15 [==============================] - 0s 2ms/step - loss: 0.0054\n",
      "Epoch 205/500\n",
      "15/15 [==============================] - 0s 2ms/step - loss: 0.0055\n",
      "Epoch 206/500\n",
      "15/15 [==============================] - 0s 2ms/step - loss: 0.0054\n",
      "Epoch 207/500\n",
      "15/15 [==============================] - 0s 2ms/step - loss: 0.0054\n",
      "Epoch 208/500\n",
      "15/15 [==============================] - 0s 2ms/step - loss: 0.0054\n",
      "Epoch 209/500\n",
      "15/15 [==============================] - 0s 2ms/step - loss: 0.0055\n",
      "Epoch 210/500\n",
      "15/15 [==============================] - 0s 2ms/step - loss: 0.0055\n",
      "Epoch 211/500\n",
      "15/15 [==============================] - 0s 2ms/step - loss: 0.0054\n",
      "Epoch 212/500\n",
      "15/15 [==============================] - 0s 2ms/step - loss: 0.0054\n",
      "Epoch 213/500\n",
      "15/15 [==============================] - 0s 2ms/step - loss: 0.0055\n",
      "Epoch 214/500\n",
      "15/15 [==============================] - 0s 2ms/step - loss: 0.0054\n",
      "Epoch 215/500\n",
      "15/15 [==============================] - 0s 2ms/step - loss: 0.0054\n",
      "Epoch 216/500\n",
      "15/15 [==============================] - 0s 2ms/step - loss: 0.0054\n",
      "Epoch 217/500\n",
      "15/15 [==============================] - 0s 2ms/step - loss: 0.0054\n",
      "Epoch 218/500\n",
      "15/15 [==============================] - 0s 2ms/step - loss: 0.0053\n",
      "Epoch 219/500\n",
      "15/15 [==============================] - 0s 3ms/step - loss: 0.0055\n",
      "Epoch 220/500\n",
      "15/15 [==============================] - 0s 3ms/step - loss: 0.0055\n",
      "Epoch 221/500\n",
      "15/15 [==============================] - 0s 2ms/step - loss: 0.0056\n",
      "Epoch 222/500\n",
      "15/15 [==============================] - 0s 2ms/step - loss: 0.0054\n",
      "Epoch 223/500\n",
      "15/15 [==============================] - 0s 2ms/step - loss: 0.0054\n",
      "Epoch 224/500\n",
      "15/15 [==============================] - 0s 2ms/step - loss: 0.0052\n",
      "Epoch 225/500\n",
      "15/15 [==============================] - 0s 2ms/step - loss: 0.0053\n",
      "Epoch 226/500\n",
      "15/15 [==============================] - 0s 2ms/step - loss: 0.0055\n",
      "Epoch 227/500\n",
      "15/15 [==============================] - 0s 2ms/step - loss: 0.0054\n",
      "Epoch 228/500\n",
      "15/15 [==============================] - 0s 2ms/step - loss: 0.0053\n",
      "Epoch 229/500\n",
      "15/15 [==============================] - 0s 2ms/step - loss: 0.0054\n",
      "Epoch 230/500\n",
      "15/15 [==============================] - 0s 2ms/step - loss: 0.0054\n",
      "Epoch 231/500\n",
      "15/15 [==============================] - 0s 2ms/step - loss: 0.0054\n",
      "Epoch 232/500\n",
      "15/15 [==============================] - 0s 2ms/step - loss: 0.0054\n",
      "Epoch 233/500\n",
      "15/15 [==============================] - 0s 3ms/step - loss: 0.0055\n",
      "Epoch 234/500\n",
      "15/15 [==============================] - 0s 2ms/step - loss: 0.0053\n",
      "Epoch 235/500\n",
      "15/15 [==============================] - 0s 2ms/step - loss: 0.0054\n",
      "Epoch 236/500\n",
      "15/15 [==============================] - 0s 2ms/step - loss: 0.0054\n",
      "Epoch 237/500\n",
      "15/15 [==============================] - 0s 2ms/step - loss: 0.0053\n",
      "Epoch 238/500\n",
      "15/15 [==============================] - 0s 2ms/step - loss: 0.0054\n",
      "Epoch 239/500\n",
      "15/15 [==============================] - 0s 2ms/step - loss: 0.0053\n",
      "Epoch 240/500\n",
      "15/15 [==============================] - 0s 2ms/step - loss: 0.0056\n",
      "Epoch 241/500\n",
      "15/15 [==============================] - 0s 2ms/step - loss: 0.0054\n",
      "Epoch 242/500\n",
      "15/15 [==============================] - 0s 2ms/step - loss: 0.0056\n",
      "Epoch 243/500\n",
      "15/15 [==============================] - 0s 2ms/step - loss: 0.0054\n",
      "Epoch 244/500\n",
      "15/15 [==============================] - 0s 2ms/step - loss: 0.0054\n",
      "Epoch 245/500\n",
      "15/15 [==============================] - 0s 2ms/step - loss: 0.0053\n",
      "Epoch 246/500\n",
      "15/15 [==============================] - 0s 2ms/step - loss: 0.0053\n",
      "Epoch 247/500\n",
      "15/15 [==============================] - 0s 2ms/step - loss: 0.0053\n",
      "Epoch 248/500\n",
      "15/15 [==============================] - 0s 2ms/step - loss: 0.0054\n",
      "Epoch 249/500\n",
      "15/15 [==============================] - 0s 2ms/step - loss: 0.0054\n",
      "Epoch 250/500\n",
      "15/15 [==============================] - 0s 2ms/step - loss: 0.0055\n",
      "Epoch 251/500\n",
      "15/15 [==============================] - 0s 2ms/step - loss: 0.0053\n",
      "Epoch 252/500\n",
      "15/15 [==============================] - 0s 2ms/step - loss: 0.0055\n",
      "Epoch 253/500\n",
      "15/15 [==============================] - 0s 2ms/step - loss: 0.0054\n",
      "Epoch 254/500\n",
      "15/15 [==============================] - 0s 2ms/step - loss: 0.0054\n",
      "Epoch 255/500\n",
      "15/15 [==============================] - 0s 2ms/step - loss: 0.0054\n",
      "Epoch 256/500\n",
      "15/15 [==============================] - 0s 2ms/step - loss: 0.0053\n",
      "Epoch 257/500\n",
      "15/15 [==============================] - 0s 2ms/step - loss: 0.0054\n",
      "Epoch 258/500\n",
      "15/15 [==============================] - 0s 2ms/step - loss: 0.0054\n",
      "Epoch 259/500\n",
      "15/15 [==============================] - 0s 2ms/step - loss: 0.0055\n",
      "Epoch 260/500\n",
      "15/15 [==============================] - 0s 2ms/step - loss: 0.0054\n",
      "Epoch 261/500\n",
      "15/15 [==============================] - 0s 2ms/step - loss: 0.0054\n",
      "Epoch 262/500\n",
      "15/15 [==============================] - 0s 2ms/step - loss: 0.0053\n",
      "Epoch 263/500\n",
      "15/15 [==============================] - 0s 2ms/step - loss: 0.0053\n",
      "Epoch 264/500\n",
      "15/15 [==============================] - 0s 2ms/step - loss: 0.0055\n",
      "Epoch 265/500\n",
      "15/15 [==============================] - 0s 2ms/step - loss: 0.0054\n",
      "Epoch 266/500\n",
      "15/15 [==============================] - 0s 2ms/step - loss: 0.0054\n",
      "Epoch 267/500\n",
      "15/15 [==============================] - 0s 2ms/step - loss: 0.0054\n",
      "Epoch 268/500\n",
      "15/15 [==============================] - 0s 2ms/step - loss: 0.0055\n",
      "Epoch 269/500\n",
      "15/15 [==============================] - 0s 2ms/step - loss: 0.0053\n",
      "Epoch 270/500\n",
      "15/15 [==============================] - 0s 2ms/step - loss: 0.0055\n",
      "Epoch 271/500\n",
      "15/15 [==============================] - 0s 2ms/step - loss: 0.0056\n",
      "Epoch 272/500\n",
      "15/15 [==============================] - 0s 2ms/step - loss: 0.0054\n",
      "Epoch 273/500\n",
      "15/15 [==============================] - 0s 2ms/step - loss: 0.0054\n",
      "Epoch 274/500\n",
      "15/15 [==============================] - 0s 2ms/step - loss: 0.0053\n",
      "Epoch 275/500\n",
      "15/15 [==============================] - 0s 2ms/step - loss: 0.0055\n",
      "Epoch 276/500\n",
      "15/15 [==============================] - 0s 2ms/step - loss: 0.0054\n",
      "Epoch 277/500\n",
      "15/15 [==============================] - 0s 2ms/step - loss: 0.0054\n",
      "Epoch 278/500\n",
      "15/15 [==============================] - 0s 2ms/step - loss: 0.0056\n",
      "Epoch 279/500\n",
      "15/15 [==============================] - 0s 2ms/step - loss: 0.0054\n",
      "Epoch 280/500\n",
      "15/15 [==============================] - 0s 2ms/step - loss: 0.0054\n",
      "Epoch 281/500\n",
      "15/15 [==============================] - 0s 5ms/step - loss: 0.0054\n",
      "Epoch 282/500\n",
      "15/15 [==============================] - 0s 2ms/step - loss: 0.0054\n",
      "Epoch 283/500\n",
      "15/15 [==============================] - 0s 2ms/step - loss: 0.0056\n",
      "Epoch 284/500\n",
      "15/15 [==============================] - 0s 3ms/step - loss: 0.0054\n",
      "Epoch 285/500\n",
      "15/15 [==============================] - 0s 2ms/step - loss: 0.0054\n",
      "Epoch 286/500\n",
      "15/15 [==============================] - 0s 3ms/step - loss: 0.0054\n",
      "Epoch 287/500\n",
      "15/15 [==============================] - 0s 2ms/step - loss: 0.0053\n",
      "Epoch 288/500\n",
      "15/15 [==============================] - 0s 3ms/step - loss: 0.0054\n",
      "Epoch 289/500\n",
      "15/15 [==============================] - 0s 3ms/step - loss: 0.0053\n",
      "Epoch 290/500\n",
      "15/15 [==============================] - 0s 5ms/step - loss: 0.0054\n",
      "Epoch 291/500\n",
      "15/15 [==============================] - 0s 3ms/step - loss: 0.0053\n",
      "Epoch 292/500\n",
      "15/15 [==============================] - 0s 5ms/step - loss: 0.0053\n",
      "Epoch 293/500\n",
      "15/15 [==============================] - 0s 7ms/step - loss: 0.0055\n",
      "Epoch 294/500\n",
      "15/15 [==============================] - 0s 6ms/step - loss: 0.0054\n",
      "Epoch 295/500\n",
      "15/15 [==============================] - 0s 2ms/step - loss: 0.0053\n",
      "Epoch 296/500\n",
      "15/15 [==============================] - 0s 2ms/step - loss: 0.0056\n",
      "Epoch 297/500\n",
      "15/15 [==============================] - 0s 2ms/step - loss: 0.0053\n",
      "Epoch 298/500\n",
      "15/15 [==============================] - 0s 2ms/step - loss: 0.0055\n",
      "Epoch 299/500\n",
      "15/15 [==============================] - 0s 2ms/step - loss: 0.0053\n",
      "Epoch 300/500\n",
      "15/15 [==============================] - 0s 2ms/step - loss: 0.0055\n",
      "Epoch 301/500\n",
      "15/15 [==============================] - 0s 4ms/step - loss: 0.0054\n",
      "Epoch 302/500\n",
      "15/15 [==============================] - 0s 3ms/step - loss: 0.0054\n",
      "Epoch 303/500\n",
      "15/15 [==============================] - 0s 2ms/step - loss: 0.0054\n",
      "Epoch 304/500\n",
      "15/15 [==============================] - 0s 2ms/step - loss: 0.0054\n",
      "Epoch 305/500\n",
      "15/15 [==============================] - 0s 2ms/step - loss: 0.0054\n",
      "Epoch 306/500\n",
      "15/15 [==============================] - 0s 2ms/step - loss: 0.0053\n",
      "Epoch 307/500\n",
      "15/15 [==============================] - 0s 2ms/step - loss: 0.0054\n",
      "Epoch 308/500\n",
      "15/15 [==============================] - 0s 2ms/step - loss: 0.0054\n",
      "Epoch 309/500\n",
      "15/15 [==============================] - 0s 2ms/step - loss: 0.0054\n",
      "Epoch 310/500\n",
      "15/15 [==============================] - 0s 2ms/step - loss: 0.0050\n",
      "Epoch 311/500\n",
      "15/15 [==============================] - 0s 2ms/step - loss: 0.0054\n",
      "Epoch 312/500\n",
      "15/15 [==============================] - 0s 2ms/step - loss: 0.0053\n",
      "Epoch 313/500\n",
      "15/15 [==============================] - 0s 2ms/step - loss: 0.0055\n",
      "Epoch 314/500\n",
      "15/15 [==============================] - 0s 2ms/step - loss: 0.0054\n",
      "Epoch 315/500\n",
      "15/15 [==============================] - 0s 2ms/step - loss: 0.0052\n",
      "Epoch 316/500\n",
      "15/15 [==============================] - 0s 2ms/step - loss: 0.0055\n",
      "Epoch 317/500\n",
      "15/15 [==============================] - 0s 2ms/step - loss: 0.0053\n",
      "Epoch 318/500\n",
      "15/15 [==============================] - 0s 2ms/step - loss: 0.0053\n",
      "Epoch 319/500\n",
      "15/15 [==============================] - 0s 2ms/step - loss: 0.0056\n",
      "Epoch 320/500\n",
      "15/15 [==============================] - 0s 2ms/step - loss: 0.0053\n",
      "Epoch 321/500\n",
      "15/15 [==============================] - 0s 2ms/step - loss: 0.0053\n",
      "Epoch 322/500\n",
      "15/15 [==============================] - 0s 2ms/step - loss: 0.0055\n",
      "Epoch 323/500\n",
      "15/15 [==============================] - 0s 2ms/step - loss: 0.0055\n",
      "Epoch 324/500\n",
      "15/15 [==============================] - 0s 2ms/step - loss: 0.0054\n",
      "Epoch 325/500\n",
      "15/15 [==============================] - 0s 2ms/step - loss: 0.0055\n",
      "Epoch 326/500\n",
      "15/15 [==============================] - 0s 2ms/step - loss: 0.0054\n",
      "Epoch 327/500\n",
      "15/15 [==============================] - 0s 2ms/step - loss: 0.0054\n",
      "Epoch 328/500\n",
      "15/15 [==============================] - 0s 3ms/step - loss: 0.0054\n",
      "Epoch 329/500\n",
      "15/15 [==============================] - 0s 2ms/step - loss: 0.0054\n",
      "Epoch 330/500\n",
      "15/15 [==============================] - 0s 2ms/step - loss: 0.0055\n",
      "Epoch 331/500\n",
      "15/15 [==============================] - 0s 2ms/step - loss: 0.0054\n",
      "Epoch 332/500\n",
      "15/15 [==============================] - 0s 2ms/step - loss: 0.0054\n",
      "Epoch 333/500\n",
      "15/15 [==============================] - 0s 2ms/step - loss: 0.0054\n",
      "Epoch 334/500\n",
      "15/15 [==============================] - 0s 2ms/step - loss: 0.0054\n",
      "Epoch 335/500\n",
      "15/15 [==============================] - 0s 2ms/step - loss: 0.0054\n",
      "Epoch 336/500\n",
      "15/15 [==============================] - 0s 2ms/step - loss: 0.0053\n",
      "Epoch 337/500\n",
      "15/15 [==============================] - 0s 3ms/step - loss: 0.0053\n",
      "Epoch 338/500\n",
      "15/15 [==============================] - 0s 2ms/step - loss: 0.0055\n",
      "Epoch 339/500\n",
      "15/15 [==============================] - 0s 3ms/step - loss: 0.0054\n",
      "Epoch 340/500\n",
      "15/15 [==============================] - 0s 2ms/step - loss: 0.0054\n",
      "Epoch 341/500\n",
      "15/15 [==============================] - 0s 3ms/step - loss: 0.0055\n",
      "Epoch 342/500\n",
      "15/15 [==============================] - 0s 2ms/step - loss: 0.0055\n",
      "Epoch 343/500\n",
      "15/15 [==============================] - 0s 3ms/step - loss: 0.0053\n",
      "Epoch 344/500\n",
      "15/15 [==============================] - 0s 2ms/step - loss: 0.0055\n",
      "Epoch 345/500\n",
      "15/15 [==============================] - 0s 2ms/step - loss: 0.0054\n",
      "Epoch 346/500\n",
      "15/15 [==============================] - 0s 2ms/step - loss: 0.0053\n",
      "Epoch 347/500\n",
      "15/15 [==============================] - 0s 3ms/step - loss: 0.0055\n",
      "Epoch 348/500\n",
      "15/15 [==============================] - 0s 2ms/step - loss: 0.0055\n",
      "Epoch 349/500\n",
      "15/15 [==============================] - 0s 2ms/step - loss: 0.0054\n",
      "Epoch 350/500\n",
      "15/15 [==============================] - 0s 2ms/step - loss: 0.0053\n",
      "Epoch 351/500\n",
      "15/15 [==============================] - 0s 2ms/step - loss: 0.0056\n",
      "Epoch 352/500\n",
      "15/15 [==============================] - 0s 3ms/step - loss: 0.0053\n",
      "Epoch 353/500\n",
      "15/15 [==============================] - 0s 2ms/step - loss: 0.0055\n",
      "Epoch 354/500\n",
      "15/15 [==============================] - 0s 2ms/step - loss: 0.0055\n",
      "Epoch 355/500\n",
      "15/15 [==============================] - 0s 2ms/step - loss: 0.0055\n",
      "Epoch 356/500\n",
      "15/15 [==============================] - 0s 2ms/step - loss: 0.0055\n",
      "Epoch 357/500\n",
      "15/15 [==============================] - 0s 2ms/step - loss: 0.0055\n",
      "Epoch 358/500\n",
      "15/15 [==============================] - 0s 2ms/step - loss: 0.0053\n",
      "Epoch 359/500\n",
      "15/15 [==============================] - 0s 2ms/step - loss: 0.0053\n",
      "Epoch 360/500\n",
      "15/15 [==============================] - 0s 3ms/step - loss: 0.0050\n",
      "Epoch 361/500\n",
      "15/15 [==============================] - 0s 2ms/step - loss: 0.0053\n",
      "Epoch 362/500\n",
      "15/15 [==============================] - 0s 2ms/step - loss: 0.0053\n",
      "Epoch 363/500\n",
      "15/15 [==============================] - 0s 2ms/step - loss: 0.0051\n",
      "Epoch 364/500\n",
      "15/15 [==============================] - 0s 2ms/step - loss: 0.0057\n",
      "Epoch 365/500\n",
      "15/15 [==============================] - 0s 2ms/step - loss: 0.0054\n",
      "Epoch 366/500\n",
      "15/15 [==============================] - 0s 2ms/step - loss: 0.0055\n",
      "Epoch 367/500\n",
      "15/15 [==============================] - 0s 2ms/step - loss: 0.0052\n",
      "Epoch 368/500\n",
      "15/15 [==============================] - 0s 2ms/step - loss: 0.0054\n",
      "Epoch 369/500\n",
      "15/15 [==============================] - 0s 2ms/step - loss: 0.0055\n",
      "Epoch 370/500\n",
      "15/15 [==============================] - 0s 2ms/step - loss: 0.0054\n",
      "Epoch 371/500\n",
      "15/15 [==============================] - 0s 2ms/step - loss: 0.0054\n",
      "Epoch 372/500\n",
      "15/15 [==============================] - 0s 2ms/step - loss: 0.0055\n",
      "Epoch 373/500\n",
      "15/15 [==============================] - 0s 2ms/step - loss: 0.0055\n",
      "Epoch 374/500\n",
      "15/15 [==============================] - 0s 3ms/step - loss: 0.0054\n",
      "Epoch 375/500\n",
      "15/15 [==============================] - 0s 2ms/step - loss: 0.0054\n",
      "Epoch 376/500\n",
      "15/15 [==============================] - 0s 3ms/step - loss: 0.0054\n",
      "Epoch 377/500\n",
      "15/15 [==============================] - 0s 2ms/step - loss: 0.0053\n",
      "Epoch 378/500\n",
      "15/15 [==============================] - 0s 2ms/step - loss: 0.0056\n",
      "Epoch 379/500\n",
      "15/15 [==============================] - 0s 3ms/step - loss: 0.0053\n",
      "Epoch 380/500\n",
      "15/15 [==============================] - 0s 2ms/step - loss: 0.0054\n",
      "Epoch 381/500\n",
      "15/15 [==============================] - 0s 2ms/step - loss: 0.0055\n",
      "Epoch 382/500\n",
      "15/15 [==============================] - 0s 2ms/step - loss: 0.0054\n",
      "Epoch 383/500\n",
      "15/15 [==============================] - 0s 2ms/step - loss: 0.0054\n",
      "Epoch 384/500\n",
      "15/15 [==============================] - 0s 2ms/step - loss: 0.0054\n",
      "Epoch 385/500\n",
      "15/15 [==============================] - 0s 2ms/step - loss: 0.0054\n",
      "Epoch 386/500\n",
      "15/15 [==============================] - 0s 2ms/step - loss: 0.0054\n",
      "Epoch 387/500\n",
      "15/15 [==============================] - 0s 2ms/step - loss: 0.0053\n",
      "Epoch 388/500\n",
      "15/15 [==============================] - 0s 2ms/step - loss: 0.0054\n",
      "Epoch 389/500\n",
      "15/15 [==============================] - 0s 3ms/step - loss: 0.0056\n",
      "Epoch 390/500\n",
      "15/15 [==============================] - 0s 3ms/step - loss: 0.0053\n",
      "Epoch 391/500\n",
      "15/15 [==============================] - 0s 3ms/step - loss: 0.0053\n",
      "Epoch 392/500\n",
      "15/15 [==============================] - 0s 3ms/step - loss: 0.0056\n",
      "Epoch 393/500\n",
      "15/15 [==============================] - 0s 3ms/step - loss: 0.0052\n",
      "Epoch 394/500\n",
      "15/15 [==============================] - 0s 3ms/step - loss: 0.0056\n",
      "Epoch 395/500\n",
      "15/15 [==============================] - 0s 3ms/step - loss: 0.0054\n",
      "Epoch 396/500\n",
      "15/15 [==============================] - 0s 3ms/step - loss: 0.0054\n",
      "Epoch 397/500\n",
      "15/15 [==============================] - 0s 2ms/step - loss: 0.0053\n",
      "Epoch 398/500\n",
      "15/15 [==============================] - 0s 2ms/step - loss: 0.0055\n",
      "Epoch 399/500\n",
      "15/15 [==============================] - 0s 2ms/step - loss: 0.0054\n",
      "Epoch 400/500\n",
      "15/15 [==============================] - 0s 2ms/step - loss: 0.0054\n",
      "Epoch 401/500\n",
      "15/15 [==============================] - 0s 2ms/step - loss: 0.0054\n",
      "Epoch 402/500\n",
      "15/15 [==============================] - 0s 2ms/step - loss: 0.0054\n",
      "Epoch 403/500\n",
      "15/15 [==============================] - 0s 2ms/step - loss: 0.0054\n",
      "Epoch 404/500\n",
      "15/15 [==============================] - 0s 2ms/step - loss: 0.0055\n",
      "Epoch 405/500\n",
      "15/15 [==============================] - 0s 2ms/step - loss: 0.0055\n",
      "Epoch 406/500\n",
      "15/15 [==============================] - 0s 2ms/step - loss: 0.0053\n",
      "Epoch 407/500\n",
      "15/15 [==============================] - 0s 2ms/step - loss: 0.0054\n",
      "Epoch 408/500\n",
      "15/15 [==============================] - 0s 2ms/step - loss: 0.0055\n",
      "Epoch 409/500\n",
      "15/15 [==============================] - 0s 2ms/step - loss: 0.0055\n",
      "Epoch 410/500\n",
      "15/15 [==============================] - 0s 2ms/step - loss: 0.0053\n",
      "Epoch 411/500\n",
      "15/15 [==============================] - 0s 2ms/step - loss: 0.0055\n",
      "Epoch 412/500\n",
      "15/15 [==============================] - 0s 3ms/step - loss: 0.0053\n",
      "Epoch 413/500\n",
      "15/15 [==============================] - 0s 2ms/step - loss: 0.0054\n",
      "Epoch 414/500\n",
      "15/15 [==============================] - 0s 2ms/step - loss: 0.0055\n",
      "Epoch 415/500\n",
      "15/15 [==============================] - 0s 3ms/step - loss: 0.0051\n",
      "Epoch 416/500\n",
      "15/15 [==============================] - 0s 2ms/step - loss: 0.0055\n",
      "Epoch 417/500\n",
      "15/15 [==============================] - 0s 3ms/step - loss: 0.0055\n",
      "Epoch 418/500\n",
      "15/15 [==============================] - 0s 3ms/step - loss: 0.0054\n",
      "Epoch 419/500\n",
      "15/15 [==============================] - 0s 3ms/step - loss: 0.0054\n",
      "Epoch 420/500\n",
      "15/15 [==============================] - 0s 5ms/step - loss: 0.0053\n",
      "Epoch 421/500\n",
      "15/15 [==============================] - 0s 3ms/step - loss: 0.0053\n",
      "Epoch 422/500\n",
      "15/15 [==============================] - 0s 2ms/step - loss: 0.0055\n",
      "Epoch 423/500\n",
      "15/15 [==============================] - 0s 2ms/step - loss: 0.0054\n",
      "Epoch 424/500\n",
      "15/15 [==============================] - 0s 4ms/step - loss: 0.0054\n",
      "Epoch 425/500\n",
      "15/15 [==============================] - 0s 5ms/step - loss: 0.0053\n",
      "Epoch 426/500\n",
      "15/15 [==============================] - 0s 5ms/step - loss: 0.0054\n",
      "Epoch 427/500\n",
      "15/15 [==============================] - 0s 2ms/step - loss: 0.0054\n",
      "Epoch 428/500\n",
      "15/15 [==============================] - 0s 2ms/step - loss: 0.0054\n",
      "Epoch 429/500\n",
      "15/15 [==============================] - 0s 2ms/step - loss: 0.0053\n",
      "Epoch 430/500\n",
      "15/15 [==============================] - 0s 2ms/step - loss: 0.0056\n",
      "Epoch 431/500\n",
      "15/15 [==============================] - 0s 2ms/step - loss: 0.0052\n",
      "Epoch 432/500\n",
      "15/15 [==============================] - 0s 2ms/step - loss: 0.0054\n",
      "Epoch 433/500\n",
      "15/15 [==============================] - 0s 2ms/step - loss: 0.0054\n",
      "Epoch 434/500\n",
      "15/15 [==============================] - 0s 3ms/step - loss: 0.0054\n",
      "Epoch 435/500\n",
      "15/15 [==============================] - 0s 3ms/step - loss: 0.0055\n",
      "Epoch 436/500\n",
      "15/15 [==============================] - 0s 2ms/step - loss: 0.0053\n",
      "Epoch 437/500\n",
      "15/15 [==============================] - 0s 2ms/step - loss: 0.0054\n",
      "Epoch 438/500\n",
      "15/15 [==============================] - 0s 2ms/step - loss: 0.0053\n",
      "Epoch 439/500\n",
      "15/15 [==============================] - 0s 2ms/step - loss: 0.0053\n",
      "Epoch 440/500\n",
      "15/15 [==============================] - 0s 2ms/step - loss: 0.0054\n",
      "Epoch 441/500\n",
      "15/15 [==============================] - 0s 2ms/step - loss: 0.0055\n",
      "Epoch 442/500\n",
      "15/15 [==============================] - 0s 2ms/step - loss: 0.0054\n",
      "Epoch 443/500\n",
      "15/15 [==============================] - 0s 2ms/step - loss: 0.0053\n",
      "Epoch 444/500\n",
      "15/15 [==============================] - 0s 2ms/step - loss: 0.0055\n",
      "Epoch 445/500\n",
      "15/15 [==============================] - 0s 2ms/step - loss: 0.0053\n",
      "Epoch 446/500\n",
      "15/15 [==============================] - 0s 2ms/step - loss: 0.0054\n",
      "Epoch 447/500\n",
      "15/15 [==============================] - 0s 2ms/step - loss: 0.0054\n",
      "Epoch 448/500\n",
      "15/15 [==============================] - 0s 2ms/step - loss: 0.0053\n",
      "Epoch 449/500\n",
      "15/15 [==============================] - 0s 2ms/step - loss: 0.0054\n",
      "Epoch 450/500\n",
      "15/15 [==============================] - 0s 2ms/step - loss: 0.0052\n",
      "Epoch 451/500\n",
      "15/15 [==============================] - 0s 3ms/step - loss: 0.0055\n",
      "Epoch 452/500\n",
      "15/15 [==============================] - 0s 2ms/step - loss: 0.0055\n",
      "Epoch 453/500\n",
      "15/15 [==============================] - 0s 3ms/step - loss: 0.0053\n",
      "Epoch 454/500\n",
      "15/15 [==============================] - 0s 2ms/step - loss: 0.0055\n",
      "Epoch 455/500\n",
      "15/15 [==============================] - 0s 2ms/step - loss: 0.0053\n",
      "Epoch 456/500\n",
      "15/15 [==============================] - 0s 2ms/step - loss: 0.0054\n",
      "Epoch 457/500\n",
      "15/15 [==============================] - 0s 2ms/step - loss: 0.0053\n",
      "Epoch 458/500\n",
      "15/15 [==============================] - 0s 2ms/step - loss: 0.0055\n",
      "Epoch 459/500\n",
      "15/15 [==============================] - 0s 2ms/step - loss: 0.0055\n",
      "Epoch 460/500\n",
      "15/15 [==============================] - 0s 2ms/step - loss: 0.0053\n",
      "Epoch 461/500\n",
      "15/15 [==============================] - 0s 2ms/step - loss: 0.0053\n",
      "Epoch 462/500\n",
      "15/15 [==============================] - 0s 2ms/step - loss: 0.0054\n",
      "Epoch 463/500\n",
      "15/15 [==============================] - 0s 2ms/step - loss: 0.0054\n",
      "Epoch 464/500\n",
      "15/15 [==============================] - 0s 2ms/step - loss: 0.0055\n",
      "Epoch 465/500\n",
      "15/15 [==============================] - 0s 2ms/step - loss: 0.0055\n",
      "Epoch 466/500\n",
      "15/15 [==============================] - 0s 2ms/step - loss: 0.0055\n",
      "Epoch 467/500\n",
      "15/15 [==============================] - 0s 2ms/step - loss: 0.0052\n",
      "Epoch 468/500\n",
      "15/15 [==============================] - 0s 2ms/step - loss: 0.0055\n",
      "Epoch 469/500\n",
      "15/15 [==============================] - 0s 2ms/step - loss: 0.0054\n",
      "Epoch 470/500\n",
      "15/15 [==============================] - 0s 2ms/step - loss: 0.0053\n",
      "Epoch 471/500\n",
      "15/15 [==============================] - 0s 2ms/step - loss: 0.0053\n",
      "Epoch 472/500\n",
      "15/15 [==============================] - 0s 2ms/step - loss: 0.0053\n",
      "Epoch 473/500\n",
      "15/15 [==============================] - 0s 2ms/step - loss: 0.0054\n",
      "Epoch 474/500\n",
      "15/15 [==============================] - 0s 2ms/step - loss: 0.0055\n",
      "Epoch 475/500\n",
      "15/15 [==============================] - 0s 2ms/step - loss: 0.0055\n",
      "Epoch 476/500\n",
      "15/15 [==============================] - 0s 2ms/step - loss: 0.0055\n",
      "Epoch 477/500\n",
      "15/15 [==============================] - 0s 2ms/step - loss: 0.0054\n",
      "Epoch 478/500\n",
      "15/15 [==============================] - 0s 2ms/step - loss: 0.0054\n",
      "Epoch 479/500\n",
      "15/15 [==============================] - 0s 2ms/step - loss: 0.0054\n",
      "Epoch 480/500\n",
      "15/15 [==============================] - 0s 2ms/step - loss: 0.0053\n",
      "Epoch 481/500\n",
      "15/15 [==============================] - 0s 2ms/step - loss: 0.0054\n",
      "Epoch 482/500\n",
      "15/15 [==============================] - 0s 2ms/step - loss: 0.0056\n",
      "Epoch 483/500\n",
      "15/15 [==============================] - 0s 2ms/step - loss: 0.0053\n",
      "Epoch 484/500\n",
      "15/15 [==============================] - 0s 2ms/step - loss: 0.0053\n",
      "Epoch 485/500\n",
      "15/15 [==============================] - 0s 2ms/step - loss: 0.0053\n",
      "Epoch 486/500\n",
      "15/15 [==============================] - 0s 2ms/step - loss: 0.0053\n",
      "Epoch 487/500\n",
      "15/15 [==============================] - 0s 2ms/step - loss: 0.0054\n",
      "Epoch 488/500\n",
      "15/15 [==============================] - 0s 2ms/step - loss: 0.0055\n",
      "Epoch 489/500\n",
      "15/15 [==============================] - 0s 2ms/step - loss: 0.0055\n",
      "Epoch 490/500\n",
      "15/15 [==============================] - 0s 2ms/step - loss: 0.0054\n",
      "Epoch 491/500\n",
      "15/15 [==============================] - 0s 2ms/step - loss: 0.0054\n",
      "Epoch 492/500\n",
      "15/15 [==============================] - 0s 2ms/step - loss: 0.0055\n",
      "Epoch 493/500\n",
      "15/15 [==============================] - 0s 2ms/step - loss: 0.0056\n",
      "Epoch 494/500\n",
      "15/15 [==============================] - 0s 2ms/step - loss: 0.0053\n",
      "Epoch 495/500\n",
      "15/15 [==============================] - 0s 2ms/step - loss: 0.0052\n",
      "Epoch 496/500\n",
      "15/15 [==============================] - 0s 2ms/step - loss: 0.0053\n",
      "Epoch 497/500\n",
      "15/15 [==============================] - 0s 2ms/step - loss: 0.0054\n",
      "Epoch 498/500\n",
      "15/15 [==============================] - 0s 2ms/step - loss: 0.0054\n",
      "Epoch 499/500\n",
      "15/15 [==============================] - 0s 2ms/step - loss: 0.0054\n",
      "Epoch 500/500\n",
      "15/15 [==============================] - 0s 2ms/step - loss: 0.0054\n"
     ]
    },
    {
     "data": {
      "text/plain": "<keras.src.callbacks.History at 0x36736f4c0>"
     },
     "execution_count": 473,
     "metadata": {},
     "output_type": "execute_result"
    }
   ],
   "source": [
    "\n",
    "from keras.models import Sequential\n",
    "from keras.layers import Dense, LSTM\n",
    "\n",
    "\n",
    "\n",
    "model = Sequential()\n",
    "model.add(LSTM(8,activation='tanh',return_sequences=True, input_shape=(1,look_back)))\n",
    "model.add(LSTM(4,activation='tanh',return_sequences=False, input_shape=(1,look_back)))\n",
    "model.add(Dense(1))\n",
    "model.compile(loss='mean_squared_error', optimizer='rmsprop')\n",
    "model.fit(trainX, trainY, epochs=500, batch_size=4, verbose=1)"
   ],
   "metadata": {
    "collapsed": false,
    "ExecuteTime": {
     "end_time": "2023-11-26T19:10:20.855081Z",
     "start_time": "2023-11-26T19:09:58.435138Z"
    }
   }
  },
  {
   "cell_type": "code",
   "execution_count": 474,
   "outputs": [
    {
     "name": "stdout",
     "output_type": "stream",
     "text": [
      "2/2 [==============================] - 1s 5ms/step\n",
      "1/1 [==============================] - 0s 13ms/step\n"
     ]
    }
   ],
   "source": [
    "trainPredict = model.predict(trainX)\n",
    "testPredict = model.predict(testX)"
   ],
   "metadata": {
    "collapsed": false,
    "ExecuteTime": {
     "end_time": "2023-11-26T19:10:21.733269Z",
     "start_time": "2023-11-26T19:10:20.854213Z"
    }
   }
  },
  {
   "cell_type": "code",
   "execution_count": 475,
   "outputs": [],
   "source": [
    "trainPredict.shape, trainY.shape\n",
    "# trainPredict\n",
    "trainPredict = scaler.inverse_transform(trainPredict)\n",
    "trainY = scaler.inverse_transform([trainY])\n",
    "testPredict = scaler.inverse_transform(testPredict)\n",
    "testY = scaler.inverse_transform([testY])"
   ],
   "metadata": {
    "collapsed": false,
    "ExecuteTime": {
     "end_time": "2023-11-26T19:10:21.736812Z",
     "start_time": "2023-11-26T19:10:21.734099Z"
    }
   }
  },
  {
   "cell_type": "code",
   "execution_count": 476,
   "outputs": [
    {
     "data": {
      "text/plain": "(array([335., 332., 351., 360., 354., 353., 328., 350., 383., 314., 288.,\n        247., 260., 229., 277., 303., 332., 313., 273., 325., 267., 276.,\n        322., 362., 345., 329., 297., 344., 360., 340., 329., 330., 366.,\n        325., 313., 302., 332., 304., 324., 291., 314., 308., 268., 283.,\n        294., 302., 275., 274., 277., 286., 245., 254., 241., 260., 279.,\n        243., 285., 268., 279.]),\n array([282.26245, 328.69577, 326.65457, 339.59534, 345.731  , 341.64047,\n        340.95874, 323.9347 , 338.9137 , 361.3985 , 314.43503, 296.91287,\n        269.7826 , 278.3024 , 258.1389 , 289.5638 , 306.99933, 326.65457,\n        313.7579 , 286.90292, 321.89624, 282.92407, 288.89798, 319.85922,\n        347.09445, 335.50604, 324.61444, 302.95663, 334.82468, 345.731  ,\n        332.09982, 324.61444, 325.29434, 349.8211 , 321.89624, 313.7579 ,\n        306.32486, 326.65457, 307.6741 , 321.21704, 298.9246 , 314.43503,\n        310.3756 , 283.58615, 293.56686, 300.93918, 306.32486, 288.2325 ,\n        287.5675 , 289.5638 , 295.5734 , 268.47974, 274.3595 , 265.8806 ,\n        278.3024 , 290.8966 , 267.17905, 294.9042 , 283.58615],\n       dtype=float32))"
     },
     "execution_count": 476,
     "metadata": {},
     "output_type": "execute_result"
    }
   ],
   "source": [
    "trainY[0],trainPredict[:,0]"
   ],
   "metadata": {
    "collapsed": false,
    "ExecuteTime": {
     "end_time": "2023-11-26T19:10:21.742170Z",
     "start_time": "2023-11-26T19:10:21.736507Z"
    }
   }
  },
  {
   "cell_type": "code",
   "execution_count": 477,
   "outputs": [
    {
     "data": {
      "text/plain": "(array([288., 243., 269., 292., 313., 276., 258., 270., 283., 293., 296.,\n        312., 307., 314., 342., 338., 312., 387., 353., 357., 353., 338.,\n        338., 288.,  11.]),\n array([283.58615, 296.91287, 267.17905, 284.24866, 299.5958 , 313.7579 ,\n        288.89798, 276.98615, 284.91156, 293.56686, 300.2673 , 302.28387,\n        313.08102, 309.69986, 314.43503, 333.46213, 330.73795, 313.08102,\n        364.1184 , 340.95874, 343.68573, 340.95874, 330.73795, 330.73795,\n        296.91287], dtype=float32))"
     },
     "execution_count": 477,
     "metadata": {},
     "output_type": "execute_result"
    }
   ],
   "source": [
    "testY[0],testPredict[:,0]"
   ],
   "metadata": {
    "collapsed": false,
    "ExecuteTime": {
     "end_time": "2023-11-26T19:10:21.748826Z",
     "start_time": "2023-11-26T19:10:21.744613Z"
    }
   }
  },
  {
   "cell_type": "code",
   "execution_count": 478,
   "outputs": [
    {
     "name": "stdout",
     "output_type": "stream",
     "text": [
      "Train Score: 27.26 RMSE\n",
      "Test Score: 62.12 RMSE\n"
     ]
    }
   ],
   "source": [
    "trainScore = math.sqrt(mean_squared_error(trainY[0], trainPredict[:,0]))\n",
    "print('Train Score: %.2f RMSE' % (trainScore))\n",
    "testScore = math.sqrt(mean_squared_error(testY[0], testPredict[:,0]))\n",
    "print('Test Score: %.2f RMSE' % (testScore))"
   ],
   "metadata": {
    "collapsed": false,
    "ExecuteTime": {
     "end_time": "2023-11-26T19:10:21.838468Z",
     "start_time": "2023-11-26T19:10:21.764553Z"
    }
   }
  },
  {
   "cell_type": "code",
   "execution_count": 479,
   "outputs": [],
   "source": [
    "trainPredictPlot = np.empty_like(df1)\n",
    "trainPredictPlot[:, :] = np.nan\n",
    "trainPredictPlot[look_back:len(trainPredict)+look_back, :] = trainPredict"
   ],
   "metadata": {
    "collapsed": false,
    "ExecuteTime": {
     "end_time": "2023-11-26T19:10:21.838930Z",
     "start_time": "2023-11-26T19:10:21.782752Z"
    }
   }
  },
  {
   "cell_type": "code",
   "execution_count": 480,
   "outputs": [],
   "source": [
    "testPredictPlot = np.empty_like(df1)\n",
    "testPredictPlot[:, :] = np.nan\n",
    "testPredictPlot[len(trainPredict)+(look_back):len(df1)-1, :] = testPredict"
   ],
   "metadata": {
    "collapsed": false,
    "ExecuteTime": {
     "end_time": "2023-11-26T19:10:21.839282Z",
     "start_time": "2023-11-26T19:10:21.789890Z"
    }
   }
  },
  {
   "cell_type": "code",
   "execution_count": 486,
   "outputs": [
    {
     "data": {
      "application/vnd.plotly.v1+json": {
       "data": [
        {
         "name": "Original dataset",
         "x": [
          0,
          1,
          2,
          3,
          4,
          5,
          6,
          7,
          8,
          9,
          10,
          11,
          12,
          13,
          14,
          15,
          16,
          17,
          18,
          19,
          20,
          21,
          22,
          23,
          24,
          25,
          26,
          27,
          28,
          29,
          30,
          31,
          32,
          33,
          34,
          35,
          36,
          37,
          38,
          39,
          40,
          41,
          42,
          43,
          44,
          45,
          46,
          47,
          48,
          49,
          50,
          51,
          52,
          53,
          54,
          55,
          56,
          57,
          58,
          59,
          60,
          61,
          62,
          63,
          64,
          65,
          66,
          67,
          68,
          69,
          70,
          71,
          72,
          73,
          74,
          75,
          76,
          77,
          78,
          79,
          80,
          81,
          82,
          83,
          84,
          85
         ],
         "y": [
          266.0,
          335.0,
          332.0,
          351.0,
          360.0,
          354.0,
          353.0,
          328.0,
          350.0,
          383.0,
          314.0,
          288.0,
          247.0,
          260.0,
          229.0,
          277.0,
          303.0,
          332.0,
          313.0,
          273.0,
          325.0,
          267.0,
          276.0,
          322.0,
          362.0,
          345.0,
          329.0,
          297.0,
          344.0,
          360.0,
          340.0,
          329.0,
          330.0,
          366.0,
          325.0,
          313.0,
          302.0,
          332.0,
          304.0,
          324.0,
          291.0,
          314.0,
          308.0,
          268.0,
          283.0,
          294.0,
          302.0,
          275.0,
          274.0,
          277.0,
          286.0,
          245.0,
          254.0,
          241.0,
          260.0,
          279.0,
          243.00000000000003,
          285.0,
          268.0,
          279.0,
          268.0,
          288.0,
          243.00000000000003,
          269.0,
          292.0,
          313.0,
          276.0,
          258.0,
          270.0,
          283.0,
          293.0,
          296.0,
          312.0,
          307.0,
          314.0,
          342.0,
          338.0,
          312.0,
          387.0,
          353.0,
          357.0,
          353.0,
          338.0,
          338.0,
          288.0,
          11.0
         ],
         "type": "scatter"
        },
        {
         "name": "Predict with Train set",
         "x": [
          0,
          1,
          2,
          3,
          4,
          5,
          6,
          7,
          8,
          9,
          10,
          11,
          12,
          13,
          14,
          15,
          16,
          17,
          18,
          19,
          20,
          21,
          22,
          23,
          24,
          25,
          26,
          27,
          28,
          29,
          30,
          31,
          32,
          33,
          34,
          35,
          36,
          37,
          38,
          39,
          40,
          41,
          42,
          43,
          44,
          45,
          46,
          47,
          48,
          49,
          50,
          51,
          52,
          53,
          54,
          55,
          56,
          57,
          58,
          59,
          60,
          61,
          62,
          63,
          64,
          65,
          66,
          67,
          68,
          69,
          70,
          71,
          72,
          73,
          74,
          75,
          76,
          77,
          78,
          79,
          80,
          81,
          82,
          83,
          84,
          85
         ],
         "y": [
          null,
          282.262451171875,
          328.6957702636719,
          326.6545715332031,
          339.5953369140625,
          345.7309875488281,
          341.6404724121094,
          340.958740234375,
          323.9346923828125,
          338.9136962890625,
          361.39849853515625,
          314.4350280761719,
          296.9128723144531,
          269.7825927734375,
          278.3023986816406,
          258.1388854980469,
          289.5638122558594,
          306.99932861328125,
          326.6545715332031,
          313.7579040527344,
          286.9029235839844,
          321.896240234375,
          282.924072265625,
          288.8979797363281,
          319.8592224121094,
          347.0944519042969,
          335.50604248046875,
          324.61444091796875,
          302.9566345214844,
          334.8246765136719,
          345.7309875488281,
          332.0998229980469,
          324.61444091796875,
          325.2943420410156,
          349.82110595703125,
          321.896240234375,
          313.7579040527344,
          306.3248596191406,
          326.6545715332031,
          307.6741027832031,
          321.217041015625,
          298.9245910644531,
          314.4350280761719,
          310.3756103515625,
          283.5861511230469,
          293.5668640136719,
          300.9391784667969,
          306.3248596191406,
          288.2325134277344,
          287.5675048828125,
          289.5638122558594,
          295.5733947753906,
          268.479736328125,
          274.3594970703125,
          265.880615234375,
          278.3023986816406,
          290.8966064453125,
          267.1790466308594,
          294.9042053222656,
          283.5861511230469,
          null,
          null,
          null,
          null,
          null,
          null,
          null,
          null,
          null,
          null,
          null,
          null,
          null,
          null,
          null,
          null,
          null,
          null,
          null,
          null,
          null,
          null,
          null,
          null,
          null,
          null
         ],
         "type": "scatter"
        },
        {
         "name": "Predict with Test set",
         "x": [
          0,
          1,
          2,
          3,
          4,
          5,
          6,
          7,
          8,
          9,
          10,
          11,
          12,
          13,
          14,
          15,
          16,
          17,
          18,
          19,
          20,
          21,
          22,
          23,
          24,
          25,
          26,
          27,
          28,
          29,
          30,
          31,
          32,
          33,
          34,
          35,
          36,
          37,
          38,
          39,
          40,
          41,
          42,
          43,
          44,
          45,
          46,
          47,
          48,
          49,
          50,
          51,
          52,
          53,
          54,
          55,
          56,
          57,
          58,
          59,
          60,
          61,
          62,
          63,
          64,
          65,
          66,
          67,
          68,
          69,
          70,
          71,
          72,
          73,
          74,
          75,
          76,
          77,
          78,
          79,
          80,
          81,
          82,
          83,
          84,
          85
         ],
         "y": [
          null,
          null,
          null,
          null,
          null,
          null,
          null,
          null,
          null,
          null,
          null,
          null,
          null,
          null,
          null,
          null,
          null,
          null,
          null,
          null,
          null,
          null,
          null,
          null,
          null,
          null,
          null,
          null,
          null,
          null,
          null,
          null,
          null,
          null,
          null,
          null,
          null,
          null,
          null,
          null,
          null,
          null,
          null,
          null,
          null,
          null,
          null,
          null,
          null,
          null,
          null,
          null,
          null,
          null,
          null,
          null,
          null,
          null,
          null,
          null,
          283.5861511230469,
          296.9128723144531,
          267.1790466308594,
          284.2486572265625,
          299.5957946777344,
          313.7579040527344,
          288.8979797363281,
          276.98614501953125,
          284.91156005859375,
          293.5668640136719,
          300.2673034667969,
          302.28387451171875,
          313.0810241699219,
          309.6998596191406,
          314.4350280761719,
          333.4621276855469,
          330.7379455566406,
          313.0810241699219,
          364.118408203125,
          340.958740234375,
          343.68572998046875,
          340.958740234375,
          330.7379455566406,
          330.7379455566406,
          296.9128723144531,
          null
         ],
         "type": "scatter"
        }
       ],
       "layout": {
        "template": {
         "data": {
          "histogram2dcontour": [
           {
            "type": "histogram2dcontour",
            "colorbar": {
             "outlinewidth": 0,
             "ticks": ""
            },
            "colorscale": [
             [
              0.0,
              "#0d0887"
             ],
             [
              0.1111111111111111,
              "#46039f"
             ],
             [
              0.2222222222222222,
              "#7201a8"
             ],
             [
              0.3333333333333333,
              "#9c179e"
             ],
             [
              0.4444444444444444,
              "#bd3786"
             ],
             [
              0.5555555555555556,
              "#d8576b"
             ],
             [
              0.6666666666666666,
              "#ed7953"
             ],
             [
              0.7777777777777778,
              "#fb9f3a"
             ],
             [
              0.8888888888888888,
              "#fdca26"
             ],
             [
              1.0,
              "#f0f921"
             ]
            ]
           }
          ],
          "choropleth": [
           {
            "type": "choropleth",
            "colorbar": {
             "outlinewidth": 0,
             "ticks": ""
            }
           }
          ],
          "histogram2d": [
           {
            "type": "histogram2d",
            "colorbar": {
             "outlinewidth": 0,
             "ticks": ""
            },
            "colorscale": [
             [
              0.0,
              "#0d0887"
             ],
             [
              0.1111111111111111,
              "#46039f"
             ],
             [
              0.2222222222222222,
              "#7201a8"
             ],
             [
              0.3333333333333333,
              "#9c179e"
             ],
             [
              0.4444444444444444,
              "#bd3786"
             ],
             [
              0.5555555555555556,
              "#d8576b"
             ],
             [
              0.6666666666666666,
              "#ed7953"
             ],
             [
              0.7777777777777778,
              "#fb9f3a"
             ],
             [
              0.8888888888888888,
              "#fdca26"
             ],
             [
              1.0,
              "#f0f921"
             ]
            ]
           }
          ],
          "heatmap": [
           {
            "type": "heatmap",
            "colorbar": {
             "outlinewidth": 0,
             "ticks": ""
            },
            "colorscale": [
             [
              0.0,
              "#0d0887"
             ],
             [
              0.1111111111111111,
              "#46039f"
             ],
             [
              0.2222222222222222,
              "#7201a8"
             ],
             [
              0.3333333333333333,
              "#9c179e"
             ],
             [
              0.4444444444444444,
              "#bd3786"
             ],
             [
              0.5555555555555556,
              "#d8576b"
             ],
             [
              0.6666666666666666,
              "#ed7953"
             ],
             [
              0.7777777777777778,
              "#fb9f3a"
             ],
             [
              0.8888888888888888,
              "#fdca26"
             ],
             [
              1.0,
              "#f0f921"
             ]
            ]
           }
          ],
          "heatmapgl": [
           {
            "type": "heatmapgl",
            "colorbar": {
             "outlinewidth": 0,
             "ticks": ""
            },
            "colorscale": [
             [
              0.0,
              "#0d0887"
             ],
             [
              0.1111111111111111,
              "#46039f"
             ],
             [
              0.2222222222222222,
              "#7201a8"
             ],
             [
              0.3333333333333333,
              "#9c179e"
             ],
             [
              0.4444444444444444,
              "#bd3786"
             ],
             [
              0.5555555555555556,
              "#d8576b"
             ],
             [
              0.6666666666666666,
              "#ed7953"
             ],
             [
              0.7777777777777778,
              "#fb9f3a"
             ],
             [
              0.8888888888888888,
              "#fdca26"
             ],
             [
              1.0,
              "#f0f921"
             ]
            ]
           }
          ],
          "contourcarpet": [
           {
            "type": "contourcarpet",
            "colorbar": {
             "outlinewidth": 0,
             "ticks": ""
            }
           }
          ],
          "contour": [
           {
            "type": "contour",
            "colorbar": {
             "outlinewidth": 0,
             "ticks": ""
            },
            "colorscale": [
             [
              0.0,
              "#0d0887"
             ],
             [
              0.1111111111111111,
              "#46039f"
             ],
             [
              0.2222222222222222,
              "#7201a8"
             ],
             [
              0.3333333333333333,
              "#9c179e"
             ],
             [
              0.4444444444444444,
              "#bd3786"
             ],
             [
              0.5555555555555556,
              "#d8576b"
             ],
             [
              0.6666666666666666,
              "#ed7953"
             ],
             [
              0.7777777777777778,
              "#fb9f3a"
             ],
             [
              0.8888888888888888,
              "#fdca26"
             ],
             [
              1.0,
              "#f0f921"
             ]
            ]
           }
          ],
          "surface": [
           {
            "type": "surface",
            "colorbar": {
             "outlinewidth": 0,
             "ticks": ""
            },
            "colorscale": [
             [
              0.0,
              "#0d0887"
             ],
             [
              0.1111111111111111,
              "#46039f"
             ],
             [
              0.2222222222222222,
              "#7201a8"
             ],
             [
              0.3333333333333333,
              "#9c179e"
             ],
             [
              0.4444444444444444,
              "#bd3786"
             ],
             [
              0.5555555555555556,
              "#d8576b"
             ],
             [
              0.6666666666666666,
              "#ed7953"
             ],
             [
              0.7777777777777778,
              "#fb9f3a"
             ],
             [
              0.8888888888888888,
              "#fdca26"
             ],
             [
              1.0,
              "#f0f921"
             ]
            ]
           }
          ],
          "mesh3d": [
           {
            "type": "mesh3d",
            "colorbar": {
             "outlinewidth": 0,
             "ticks": ""
            }
           }
          ],
          "scatter": [
           {
            "marker": {
             "line": {
              "color": "#283442"
             }
            },
            "type": "scatter"
           }
          ],
          "parcoords": [
           {
            "type": "parcoords",
            "line": {
             "colorbar": {
              "outlinewidth": 0,
              "ticks": ""
             }
            }
           }
          ],
          "scatterpolargl": [
           {
            "type": "scatterpolargl",
            "marker": {
             "colorbar": {
              "outlinewidth": 0,
              "ticks": ""
             }
            }
           }
          ],
          "bar": [
           {
            "error_x": {
             "color": "#f2f5fa"
            },
            "error_y": {
             "color": "#f2f5fa"
            },
            "marker": {
             "line": {
              "color": "rgb(17,17,17)",
              "width": 0.5
             },
             "pattern": {
              "fillmode": "overlay",
              "size": 10,
              "solidity": 0.2
             }
            },
            "type": "bar"
           }
          ],
          "scattergeo": [
           {
            "type": "scattergeo",
            "marker": {
             "colorbar": {
              "outlinewidth": 0,
              "ticks": ""
             }
            }
           }
          ],
          "scatterpolar": [
           {
            "type": "scatterpolar",
            "marker": {
             "colorbar": {
              "outlinewidth": 0,
              "ticks": ""
             }
            }
           }
          ],
          "histogram": [
           {
            "marker": {
             "pattern": {
              "fillmode": "overlay",
              "size": 10,
              "solidity": 0.2
             }
            },
            "type": "histogram"
           }
          ],
          "scattergl": [
           {
            "marker": {
             "line": {
              "color": "#283442"
             }
            },
            "type": "scattergl"
           }
          ],
          "scatter3d": [
           {
            "type": "scatter3d",
            "line": {
             "colorbar": {
              "outlinewidth": 0,
              "ticks": ""
             }
            },
            "marker": {
             "colorbar": {
              "outlinewidth": 0,
              "ticks": ""
             }
            }
           }
          ],
          "scattermapbox": [
           {
            "type": "scattermapbox",
            "marker": {
             "colorbar": {
              "outlinewidth": 0,
              "ticks": ""
             }
            }
           }
          ],
          "scatterternary": [
           {
            "type": "scatterternary",
            "marker": {
             "colorbar": {
              "outlinewidth": 0,
              "ticks": ""
             }
            }
           }
          ],
          "scattercarpet": [
           {
            "type": "scattercarpet",
            "marker": {
             "colorbar": {
              "outlinewidth": 0,
              "ticks": ""
             }
            }
           }
          ],
          "carpet": [
           {
            "aaxis": {
             "endlinecolor": "#A2B1C6",
             "gridcolor": "#506784",
             "linecolor": "#506784",
             "minorgridcolor": "#506784",
             "startlinecolor": "#A2B1C6"
            },
            "baxis": {
             "endlinecolor": "#A2B1C6",
             "gridcolor": "#506784",
             "linecolor": "#506784",
             "minorgridcolor": "#506784",
             "startlinecolor": "#A2B1C6"
            },
            "type": "carpet"
           }
          ],
          "table": [
           {
            "cells": {
             "fill": {
              "color": "#506784"
             },
             "line": {
              "color": "rgb(17,17,17)"
             }
            },
            "header": {
             "fill": {
              "color": "#2a3f5f"
             },
             "line": {
              "color": "rgb(17,17,17)"
             }
            },
            "type": "table"
           }
          ],
          "barpolar": [
           {
            "marker": {
             "line": {
              "color": "rgb(17,17,17)",
              "width": 0.5
             },
             "pattern": {
              "fillmode": "overlay",
              "size": 10,
              "solidity": 0.2
             }
            },
            "type": "barpolar"
           }
          ],
          "pie": [
           {
            "automargin": true,
            "type": "pie"
           }
          ]
         },
         "layout": {
          "autotypenumbers": "strict",
          "colorway": [
           "#636efa",
           "#EF553B",
           "#00cc96",
           "#ab63fa",
           "#FFA15A",
           "#19d3f3",
           "#FF6692",
           "#B6E880",
           "#FF97FF",
           "#FECB52"
          ],
          "font": {
           "color": "#f2f5fa"
          },
          "hovermode": "closest",
          "hoverlabel": {
           "align": "left"
          },
          "paper_bgcolor": "rgb(17,17,17)",
          "plot_bgcolor": "rgb(17,17,17)",
          "polar": {
           "bgcolor": "rgb(17,17,17)",
           "angularaxis": {
            "gridcolor": "#506784",
            "linecolor": "#506784",
            "ticks": ""
           },
           "radialaxis": {
            "gridcolor": "#506784",
            "linecolor": "#506784",
            "ticks": ""
           }
          },
          "ternary": {
           "bgcolor": "rgb(17,17,17)",
           "aaxis": {
            "gridcolor": "#506784",
            "linecolor": "#506784",
            "ticks": ""
           },
           "baxis": {
            "gridcolor": "#506784",
            "linecolor": "#506784",
            "ticks": ""
           },
           "caxis": {
            "gridcolor": "#506784",
            "linecolor": "#506784",
            "ticks": ""
           }
          },
          "coloraxis": {
           "colorbar": {
            "outlinewidth": 0,
            "ticks": ""
           }
          },
          "colorscale": {
           "sequential": [
            [
             0.0,
             "#0d0887"
            ],
            [
             0.1111111111111111,
             "#46039f"
            ],
            [
             0.2222222222222222,
             "#7201a8"
            ],
            [
             0.3333333333333333,
             "#9c179e"
            ],
            [
             0.4444444444444444,
             "#bd3786"
            ],
            [
             0.5555555555555556,
             "#d8576b"
            ],
            [
             0.6666666666666666,
             "#ed7953"
            ],
            [
             0.7777777777777778,
             "#fb9f3a"
            ],
            [
             0.8888888888888888,
             "#fdca26"
            ],
            [
             1.0,
             "#f0f921"
            ]
           ],
           "sequentialminus": [
            [
             0.0,
             "#0d0887"
            ],
            [
             0.1111111111111111,
             "#46039f"
            ],
            [
             0.2222222222222222,
             "#7201a8"
            ],
            [
             0.3333333333333333,
             "#9c179e"
            ],
            [
             0.4444444444444444,
             "#bd3786"
            ],
            [
             0.5555555555555556,
             "#d8576b"
            ],
            [
             0.6666666666666666,
             "#ed7953"
            ],
            [
             0.7777777777777778,
             "#fb9f3a"
            ],
            [
             0.8888888888888888,
             "#fdca26"
            ],
            [
             1.0,
             "#f0f921"
            ]
           ],
           "diverging": [
            [
             0,
             "#8e0152"
            ],
            [
             0.1,
             "#c51b7d"
            ],
            [
             0.2,
             "#de77ae"
            ],
            [
             0.3,
             "#f1b6da"
            ],
            [
             0.4,
             "#fde0ef"
            ],
            [
             0.5,
             "#f7f7f7"
            ],
            [
             0.6,
             "#e6f5d0"
            ],
            [
             0.7,
             "#b8e186"
            ],
            [
             0.8,
             "#7fbc41"
            ],
            [
             0.9,
             "#4d9221"
            ],
            [
             1,
             "#276419"
            ]
           ]
          },
          "xaxis": {
           "gridcolor": "#283442",
           "linecolor": "#506784",
           "ticks": "",
           "title": {
            "standoff": 15
           },
           "zerolinecolor": "#283442",
           "automargin": true,
           "zerolinewidth": 2
          },
          "yaxis": {
           "gridcolor": "#283442",
           "linecolor": "#506784",
           "ticks": "",
           "title": {
            "standoff": 15
           },
           "zerolinecolor": "#283442",
           "automargin": true,
           "zerolinewidth": 2
          },
          "scene": {
           "xaxis": {
            "backgroundcolor": "rgb(17,17,17)",
            "gridcolor": "#506784",
            "linecolor": "#506784",
            "showbackground": true,
            "ticks": "",
            "zerolinecolor": "#C8D4E3",
            "gridwidth": 2
           },
           "yaxis": {
            "backgroundcolor": "rgb(17,17,17)",
            "gridcolor": "#506784",
            "linecolor": "#506784",
            "showbackground": true,
            "ticks": "",
            "zerolinecolor": "#C8D4E3",
            "gridwidth": 2
           },
           "zaxis": {
            "backgroundcolor": "rgb(17,17,17)",
            "gridcolor": "#506784",
            "linecolor": "#506784",
            "showbackground": true,
            "ticks": "",
            "zerolinecolor": "#C8D4E3",
            "gridwidth": 2
           }
          },
          "shapedefaults": {
           "line": {
            "color": "#f2f5fa"
           }
          },
          "annotationdefaults": {
           "arrowcolor": "#f2f5fa",
           "arrowhead": 0,
           "arrowwidth": 1
          },
          "geo": {
           "bgcolor": "rgb(17,17,17)",
           "landcolor": "rgb(17,17,17)",
           "subunitcolor": "#506784",
           "showland": true,
           "showlakes": true,
           "lakecolor": "rgb(17,17,17)"
          },
          "title": {
           "x": 0.05
          },
          "updatemenudefaults": {
           "bgcolor": "#506784",
           "borderwidth": 0
          },
          "sliderdefaults": {
           "bgcolor": "#C8D4E3",
           "borderwidth": 1,
           "bordercolor": "rgb(17,17,17)",
           "tickwidth": 0
          },
          "mapbox": {
           "style": "dark"
          }
         }
        },
        "width": 1024,
        "height": 500,
        "title": {
         "text": "[LSTM] Prediction for Battery - Simple Assault (Code 624)"
        },
        "xaxis": {
         "title": {
          "text": "Weeks"
         }
        },
        "yaxis": {
         "title": {
          "text": "Number of crimes"
         }
        }
       },
       "config": {
        "plotlyServerURL": "https://plot.ly"
       }
      },
      "text/html": "<div>                            <div id=\"79e823e3-ea39-4ce1-8ae6-136c402c9aa0\" class=\"plotly-graph-div\" style=\"height:500px; width:1024px;\"></div>            <script type=\"text/javascript\">                require([\"plotly\"], function(Plotly) {                    window.PLOTLYENV=window.PLOTLYENV || {};                                    if (document.getElementById(\"79e823e3-ea39-4ce1-8ae6-136c402c9aa0\")) {                    Plotly.newPlot(                        \"79e823e3-ea39-4ce1-8ae6-136c402c9aa0\",                        [{\"name\":\"Original dataset\",\"x\":[0,1,2,3,4,5,6,7,8,9,10,11,12,13,14,15,16,17,18,19,20,21,22,23,24,25,26,27,28,29,30,31,32,33,34,35,36,37,38,39,40,41,42,43,44,45,46,47,48,49,50,51,52,53,54,55,56,57,58,59,60,61,62,63,64,65,66,67,68,69,70,71,72,73,74,75,76,77,78,79,80,81,82,83,84,85],\"y\":[266.0,335.0,332.0,351.0,360.0,354.0,353.0,328.0,350.0,383.0,314.0,288.0,247.0,260.0,229.0,277.0,303.0,332.0,313.0,273.0,325.0,267.0,276.0,322.0,362.0,345.0,329.0,297.0,344.0,360.0,340.0,329.0,330.0,366.0,325.0,313.0,302.0,332.0,304.0,324.0,291.0,314.0,308.0,268.0,283.0,294.0,302.0,275.0,274.0,277.0,286.0,245.0,254.0,241.0,260.0,279.0,243.00000000000003,285.0,268.0,279.0,268.0,288.0,243.00000000000003,269.0,292.0,313.0,276.0,258.0,270.0,283.0,293.0,296.0,312.0,307.0,314.0,342.0,338.0,312.0,387.0,353.0,357.0,353.0,338.0,338.0,288.0,11.0],\"type\":\"scatter\"},{\"name\":\"Predict with Train set\",\"x\":[0,1,2,3,4,5,6,7,8,9,10,11,12,13,14,15,16,17,18,19,20,21,22,23,24,25,26,27,28,29,30,31,32,33,34,35,36,37,38,39,40,41,42,43,44,45,46,47,48,49,50,51,52,53,54,55,56,57,58,59,60,61,62,63,64,65,66,67,68,69,70,71,72,73,74,75,76,77,78,79,80,81,82,83,84,85],\"y\":[null,282.262451171875,328.6957702636719,326.6545715332031,339.5953369140625,345.7309875488281,341.6404724121094,340.958740234375,323.9346923828125,338.9136962890625,361.39849853515625,314.4350280761719,296.9128723144531,269.7825927734375,278.3023986816406,258.1388854980469,289.5638122558594,306.99932861328125,326.6545715332031,313.7579040527344,286.9029235839844,321.896240234375,282.924072265625,288.8979797363281,319.8592224121094,347.0944519042969,335.50604248046875,324.61444091796875,302.9566345214844,334.8246765136719,345.7309875488281,332.0998229980469,324.61444091796875,325.2943420410156,349.82110595703125,321.896240234375,313.7579040527344,306.3248596191406,326.6545715332031,307.6741027832031,321.217041015625,298.9245910644531,314.4350280761719,310.3756103515625,283.5861511230469,293.5668640136719,300.9391784667969,306.3248596191406,288.2325134277344,287.5675048828125,289.5638122558594,295.5733947753906,268.479736328125,274.3594970703125,265.880615234375,278.3023986816406,290.8966064453125,267.1790466308594,294.9042053222656,283.5861511230469,null,null,null,null,null,null,null,null,null,null,null,null,null,null,null,null,null,null,null,null,null,null,null,null,null,null],\"type\":\"scatter\"},{\"name\":\"Predict with Test set\",\"x\":[0,1,2,3,4,5,6,7,8,9,10,11,12,13,14,15,16,17,18,19,20,21,22,23,24,25,26,27,28,29,30,31,32,33,34,35,36,37,38,39,40,41,42,43,44,45,46,47,48,49,50,51,52,53,54,55,56,57,58,59,60,61,62,63,64,65,66,67,68,69,70,71,72,73,74,75,76,77,78,79,80,81,82,83,84,85],\"y\":[null,null,null,null,null,null,null,null,null,null,null,null,null,null,null,null,null,null,null,null,null,null,null,null,null,null,null,null,null,null,null,null,null,null,null,null,null,null,null,null,null,null,null,null,null,null,null,null,null,null,null,null,null,null,null,null,null,null,null,null,283.5861511230469,296.9128723144531,267.1790466308594,284.2486572265625,299.5957946777344,313.7579040527344,288.8979797363281,276.98614501953125,284.91156005859375,293.5668640136719,300.2673034667969,302.28387451171875,313.0810241699219,309.6998596191406,314.4350280761719,333.4621276855469,330.7379455566406,313.0810241699219,364.118408203125,340.958740234375,343.68572998046875,340.958740234375,330.7379455566406,330.7379455566406,296.9128723144531,null],\"type\":\"scatter\"}],                        {\"template\":{\"data\":{\"histogram2dcontour\":[{\"type\":\"histogram2dcontour\",\"colorbar\":{\"outlinewidth\":0,\"ticks\":\"\"},\"colorscale\":[[0.0,\"#0d0887\"],[0.1111111111111111,\"#46039f\"],[0.2222222222222222,\"#7201a8\"],[0.3333333333333333,\"#9c179e\"],[0.4444444444444444,\"#bd3786\"],[0.5555555555555556,\"#d8576b\"],[0.6666666666666666,\"#ed7953\"],[0.7777777777777778,\"#fb9f3a\"],[0.8888888888888888,\"#fdca26\"],[1.0,\"#f0f921\"]]}],\"choropleth\":[{\"type\":\"choropleth\",\"colorbar\":{\"outlinewidth\":0,\"ticks\":\"\"}}],\"histogram2d\":[{\"type\":\"histogram2d\",\"colorbar\":{\"outlinewidth\":0,\"ticks\":\"\"},\"colorscale\":[[0.0,\"#0d0887\"],[0.1111111111111111,\"#46039f\"],[0.2222222222222222,\"#7201a8\"],[0.3333333333333333,\"#9c179e\"],[0.4444444444444444,\"#bd3786\"],[0.5555555555555556,\"#d8576b\"],[0.6666666666666666,\"#ed7953\"],[0.7777777777777778,\"#fb9f3a\"],[0.8888888888888888,\"#fdca26\"],[1.0,\"#f0f921\"]]}],\"heatmap\":[{\"type\":\"heatmap\",\"colorbar\":{\"outlinewidth\":0,\"ticks\":\"\"},\"colorscale\":[[0.0,\"#0d0887\"],[0.1111111111111111,\"#46039f\"],[0.2222222222222222,\"#7201a8\"],[0.3333333333333333,\"#9c179e\"],[0.4444444444444444,\"#bd3786\"],[0.5555555555555556,\"#d8576b\"],[0.6666666666666666,\"#ed7953\"],[0.7777777777777778,\"#fb9f3a\"],[0.8888888888888888,\"#fdca26\"],[1.0,\"#f0f921\"]]}],\"heatmapgl\":[{\"type\":\"heatmapgl\",\"colorbar\":{\"outlinewidth\":0,\"ticks\":\"\"},\"colorscale\":[[0.0,\"#0d0887\"],[0.1111111111111111,\"#46039f\"],[0.2222222222222222,\"#7201a8\"],[0.3333333333333333,\"#9c179e\"],[0.4444444444444444,\"#bd3786\"],[0.5555555555555556,\"#d8576b\"],[0.6666666666666666,\"#ed7953\"],[0.7777777777777778,\"#fb9f3a\"],[0.8888888888888888,\"#fdca26\"],[1.0,\"#f0f921\"]]}],\"contourcarpet\":[{\"type\":\"contourcarpet\",\"colorbar\":{\"outlinewidth\":0,\"ticks\":\"\"}}],\"contour\":[{\"type\":\"contour\",\"colorbar\":{\"outlinewidth\":0,\"ticks\":\"\"},\"colorscale\":[[0.0,\"#0d0887\"],[0.1111111111111111,\"#46039f\"],[0.2222222222222222,\"#7201a8\"],[0.3333333333333333,\"#9c179e\"],[0.4444444444444444,\"#bd3786\"],[0.5555555555555556,\"#d8576b\"],[0.6666666666666666,\"#ed7953\"],[0.7777777777777778,\"#fb9f3a\"],[0.8888888888888888,\"#fdca26\"],[1.0,\"#f0f921\"]]}],\"surface\":[{\"type\":\"surface\",\"colorbar\":{\"outlinewidth\":0,\"ticks\":\"\"},\"colorscale\":[[0.0,\"#0d0887\"],[0.1111111111111111,\"#46039f\"],[0.2222222222222222,\"#7201a8\"],[0.3333333333333333,\"#9c179e\"],[0.4444444444444444,\"#bd3786\"],[0.5555555555555556,\"#d8576b\"],[0.6666666666666666,\"#ed7953\"],[0.7777777777777778,\"#fb9f3a\"],[0.8888888888888888,\"#fdca26\"],[1.0,\"#f0f921\"]]}],\"mesh3d\":[{\"type\":\"mesh3d\",\"colorbar\":{\"outlinewidth\":0,\"ticks\":\"\"}}],\"scatter\":[{\"marker\":{\"line\":{\"color\":\"#283442\"}},\"type\":\"scatter\"}],\"parcoords\":[{\"type\":\"parcoords\",\"line\":{\"colorbar\":{\"outlinewidth\":0,\"ticks\":\"\"}}}],\"scatterpolargl\":[{\"type\":\"scatterpolargl\",\"marker\":{\"colorbar\":{\"outlinewidth\":0,\"ticks\":\"\"}}}],\"bar\":[{\"error_x\":{\"color\":\"#f2f5fa\"},\"error_y\":{\"color\":\"#f2f5fa\"},\"marker\":{\"line\":{\"color\":\"rgb(17,17,17)\",\"width\":0.5},\"pattern\":{\"fillmode\":\"overlay\",\"size\":10,\"solidity\":0.2}},\"type\":\"bar\"}],\"scattergeo\":[{\"type\":\"scattergeo\",\"marker\":{\"colorbar\":{\"outlinewidth\":0,\"ticks\":\"\"}}}],\"scatterpolar\":[{\"type\":\"scatterpolar\",\"marker\":{\"colorbar\":{\"outlinewidth\":0,\"ticks\":\"\"}}}],\"histogram\":[{\"marker\":{\"pattern\":{\"fillmode\":\"overlay\",\"size\":10,\"solidity\":0.2}},\"type\":\"histogram\"}],\"scattergl\":[{\"marker\":{\"line\":{\"color\":\"#283442\"}},\"type\":\"scattergl\"}],\"scatter3d\":[{\"type\":\"scatter3d\",\"line\":{\"colorbar\":{\"outlinewidth\":0,\"ticks\":\"\"}},\"marker\":{\"colorbar\":{\"outlinewidth\":0,\"ticks\":\"\"}}}],\"scattermapbox\":[{\"type\":\"scattermapbox\",\"marker\":{\"colorbar\":{\"outlinewidth\":0,\"ticks\":\"\"}}}],\"scatterternary\":[{\"type\":\"scatterternary\",\"marker\":{\"colorbar\":{\"outlinewidth\":0,\"ticks\":\"\"}}}],\"scattercarpet\":[{\"type\":\"scattercarpet\",\"marker\":{\"colorbar\":{\"outlinewidth\":0,\"ticks\":\"\"}}}],\"carpet\":[{\"aaxis\":{\"endlinecolor\":\"#A2B1C6\",\"gridcolor\":\"#506784\",\"linecolor\":\"#506784\",\"minorgridcolor\":\"#506784\",\"startlinecolor\":\"#A2B1C6\"},\"baxis\":{\"endlinecolor\":\"#A2B1C6\",\"gridcolor\":\"#506784\",\"linecolor\":\"#506784\",\"minorgridcolor\":\"#506784\",\"startlinecolor\":\"#A2B1C6\"},\"type\":\"carpet\"}],\"table\":[{\"cells\":{\"fill\":{\"color\":\"#506784\"},\"line\":{\"color\":\"rgb(17,17,17)\"}},\"header\":{\"fill\":{\"color\":\"#2a3f5f\"},\"line\":{\"color\":\"rgb(17,17,17)\"}},\"type\":\"table\"}],\"barpolar\":[{\"marker\":{\"line\":{\"color\":\"rgb(17,17,17)\",\"width\":0.5},\"pattern\":{\"fillmode\":\"overlay\",\"size\":10,\"solidity\":0.2}},\"type\":\"barpolar\"}],\"pie\":[{\"automargin\":true,\"type\":\"pie\"}]},\"layout\":{\"autotypenumbers\":\"strict\",\"colorway\":[\"#636efa\",\"#EF553B\",\"#00cc96\",\"#ab63fa\",\"#FFA15A\",\"#19d3f3\",\"#FF6692\",\"#B6E880\",\"#FF97FF\",\"#FECB52\"],\"font\":{\"color\":\"#f2f5fa\"},\"hovermode\":\"closest\",\"hoverlabel\":{\"align\":\"left\"},\"paper_bgcolor\":\"rgb(17,17,17)\",\"plot_bgcolor\":\"rgb(17,17,17)\",\"polar\":{\"bgcolor\":\"rgb(17,17,17)\",\"angularaxis\":{\"gridcolor\":\"#506784\",\"linecolor\":\"#506784\",\"ticks\":\"\"},\"radialaxis\":{\"gridcolor\":\"#506784\",\"linecolor\":\"#506784\",\"ticks\":\"\"}},\"ternary\":{\"bgcolor\":\"rgb(17,17,17)\",\"aaxis\":{\"gridcolor\":\"#506784\",\"linecolor\":\"#506784\",\"ticks\":\"\"},\"baxis\":{\"gridcolor\":\"#506784\",\"linecolor\":\"#506784\",\"ticks\":\"\"},\"caxis\":{\"gridcolor\":\"#506784\",\"linecolor\":\"#506784\",\"ticks\":\"\"}},\"coloraxis\":{\"colorbar\":{\"outlinewidth\":0,\"ticks\":\"\"}},\"colorscale\":{\"sequential\":[[0.0,\"#0d0887\"],[0.1111111111111111,\"#46039f\"],[0.2222222222222222,\"#7201a8\"],[0.3333333333333333,\"#9c179e\"],[0.4444444444444444,\"#bd3786\"],[0.5555555555555556,\"#d8576b\"],[0.6666666666666666,\"#ed7953\"],[0.7777777777777778,\"#fb9f3a\"],[0.8888888888888888,\"#fdca26\"],[1.0,\"#f0f921\"]],\"sequentialminus\":[[0.0,\"#0d0887\"],[0.1111111111111111,\"#46039f\"],[0.2222222222222222,\"#7201a8\"],[0.3333333333333333,\"#9c179e\"],[0.4444444444444444,\"#bd3786\"],[0.5555555555555556,\"#d8576b\"],[0.6666666666666666,\"#ed7953\"],[0.7777777777777778,\"#fb9f3a\"],[0.8888888888888888,\"#fdca26\"],[1.0,\"#f0f921\"]],\"diverging\":[[0,\"#8e0152\"],[0.1,\"#c51b7d\"],[0.2,\"#de77ae\"],[0.3,\"#f1b6da\"],[0.4,\"#fde0ef\"],[0.5,\"#f7f7f7\"],[0.6,\"#e6f5d0\"],[0.7,\"#b8e186\"],[0.8,\"#7fbc41\"],[0.9,\"#4d9221\"],[1,\"#276419\"]]},\"xaxis\":{\"gridcolor\":\"#283442\",\"linecolor\":\"#506784\",\"ticks\":\"\",\"title\":{\"standoff\":15},\"zerolinecolor\":\"#283442\",\"automargin\":true,\"zerolinewidth\":2},\"yaxis\":{\"gridcolor\":\"#283442\",\"linecolor\":\"#506784\",\"ticks\":\"\",\"title\":{\"standoff\":15},\"zerolinecolor\":\"#283442\",\"automargin\":true,\"zerolinewidth\":2},\"scene\":{\"xaxis\":{\"backgroundcolor\":\"rgb(17,17,17)\",\"gridcolor\":\"#506784\",\"linecolor\":\"#506784\",\"showbackground\":true,\"ticks\":\"\",\"zerolinecolor\":\"#C8D4E3\",\"gridwidth\":2},\"yaxis\":{\"backgroundcolor\":\"rgb(17,17,17)\",\"gridcolor\":\"#506784\",\"linecolor\":\"#506784\",\"showbackground\":true,\"ticks\":\"\",\"zerolinecolor\":\"#C8D4E3\",\"gridwidth\":2},\"zaxis\":{\"backgroundcolor\":\"rgb(17,17,17)\",\"gridcolor\":\"#506784\",\"linecolor\":\"#506784\",\"showbackground\":true,\"ticks\":\"\",\"zerolinecolor\":\"#C8D4E3\",\"gridwidth\":2}},\"shapedefaults\":{\"line\":{\"color\":\"#f2f5fa\"}},\"annotationdefaults\":{\"arrowcolor\":\"#f2f5fa\",\"arrowhead\":0,\"arrowwidth\":1},\"geo\":{\"bgcolor\":\"rgb(17,17,17)\",\"landcolor\":\"rgb(17,17,17)\",\"subunitcolor\":\"#506784\",\"showland\":true,\"showlakes\":true,\"lakecolor\":\"rgb(17,17,17)\"},\"title\":{\"x\":0.05},\"updatemenudefaults\":{\"bgcolor\":\"#506784\",\"borderwidth\":0},\"sliderdefaults\":{\"bgcolor\":\"#C8D4E3\",\"borderwidth\":1,\"bordercolor\":\"rgb(17,17,17)\",\"tickwidth\":0},\"mapbox\":{\"style\":\"dark\"}}},\"width\":1024,\"height\":500,\"title\":{\"text\":\"[LSTM] Prediction for Battery - Simple Assault (Code 624)\"},\"xaxis\":{\"title\":{\"text\":\"Weeks\"}},\"yaxis\":{\"title\":{\"text\":\"Number of crimes\"}}},                        {\"responsive\": true}                    ).then(function(){\n                            \nvar gd = document.getElementById('79e823e3-ea39-4ce1-8ae6-136c402c9aa0');\nvar x = new MutationObserver(function (mutations, observer) {{\n        var display = window.getComputedStyle(gd).display;\n        if (!display || display === 'none') {{\n            console.log([gd, 'removed!']);\n            Plotly.purge(gd);\n            observer.disconnect();\n        }}\n}});\n\n// Listen for the removal of the full notebook cells\nvar notebookContainer = gd.closest('#notebook-container');\nif (notebookContainer) {{\n    x.observe(notebookContainer, {childList: true});\n}}\n\n// Listen for the clearing of the current output cell\nvar outputEl = gd.closest('.output');\nif (outputEl) {{\n    x.observe(outputEl, {childList: true});\n}}\n\n                        })                };                });            </script>        </div>"
     },
     "metadata": {},
     "output_type": "display_data"
    }
   ],
   "source": [
    "listGraph = []\n",
    "listGraph.append(go.Scatter(x=list(range(0,len(df1))),y=scaler.inverse_transform(df1).flatten(),name=\"Original dataset\"))\n",
    "listGraph.append(go.Scatter(x=list(range(0,len(trainPredictPlot))),y=trainPredictPlot.flatten(),name=\"Predict with Train set\"))\n",
    "listGraph.append(go.Scatter(x=list(range(0,len(testPredictPlot))),y=testPredictPlot.flatten(),name=\"Predict with Test set\"))\n",
    "\n",
    "fig = go.Figure(data=listGraph)\n",
    "fig.update_layout(width=1024,height=500,title=\"[LSTM] Prediction for Battery - Simple Assault (Code 624)\",xaxis=dict(title='Weeks'),yaxis=dict(title='Number of crimes'))\n",
    "\n",
    "fig.show()"
   ],
   "metadata": {
    "collapsed": false,
    "ExecuteTime": {
     "end_time": "2023-11-26T19:55:04.823063Z",
     "start_time": "2023-11-26T19:55:04.694219Z"
    }
   }
  },
  {
   "cell_type": "code",
   "execution_count": null,
   "outputs": [],
   "source": [],
   "metadata": {
    "collapsed": false
   }
  }
 ],
 "metadata": {
  "kernelspec": {
   "display_name": "Python 3",
   "language": "python",
   "name": "python3"
  },
  "language_info": {
   "codemirror_mode": {
    "name": "ipython",
    "version": 2
   },
   "file_extension": ".py",
   "mimetype": "text/x-python",
   "name": "python",
   "nbconvert_exporter": "python",
   "pygments_lexer": "ipython2",
   "version": "2.7.6"
  }
 },
 "nbformat": 4,
 "nbformat_minor": 0
}
