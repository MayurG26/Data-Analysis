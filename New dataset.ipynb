{
 "cells": [
  {
   "cell_type": "code",
   "execution_count": 5,
   "metadata": {
    "collapsed": true,
    "ExecuteTime": {
     "start_time": "2023-11-24T22:55:33.911256Z",
     "end_time": "2023-11-24T22:55:35.170822Z"
    }
   },
   "outputs": [
    {
     "name": "stdout",
     "output_type": "stream",
     "text": [
      "       DR_NO               Date Rptd                DATE OCC  TIME OCC  AREA  \\\n",
      "0   10304468  01/08/2020 12:00:00 AM  01/08/2020 12:00:00 AM      2230     3   \n",
      "1  190101086  01/02/2020 12:00:00 AM  01/01/2020 12:00:00 AM       330     1   \n",
      "2  201220752  09/16/2020 12:00:00 AM  09/16/2020 12:00:00 AM      1230    12   \n",
      "3  191501505  01/01/2020 12:00:00 AM  01/01/2020 12:00:00 AM      1730    15   \n",
      "4  191921269  01/01/2020 12:00:00 AM  01/01/2020 12:00:00 AM       415    19   \n",
      "\n",
      "     AREA NAME  Rpt Dist No  Part 1-2  Crm Cd  \\\n",
      "0    Southwest          377         2     624   \n",
      "1      Central          163         2     624   \n",
      "2  77th Street         1259         2     745   \n",
      "3  N Hollywood         1543         2     745   \n",
      "4      Mission         1998         2     740   \n",
      "\n",
      "                                         Crm Cd Desc  ... Status  Status Desc  \\\n",
      "0                           BATTERY - SIMPLE ASSAULT  ...     AO  Adult Other   \n",
      "1                           BATTERY - SIMPLE ASSAULT  ...     IC  Invest Cont   \n",
      "2           VANDALISM - MISDEAMEANOR ($399 OR UNDER)  ...     IC  Invest Cont   \n",
      "3           VANDALISM - MISDEAMEANOR ($399 OR UNDER)  ...     IC  Invest Cont   \n",
      "4  VANDALISM - FELONY ($400 & OVER, ALL CHURCH VA...  ...     IC  Invest Cont   \n",
      "\n",
      "  Crm Cd 1 Crm Cd 2  Crm Cd 3 Crm Cd 4  \\\n",
      "0    624.0      NaN       NaN      NaN   \n",
      "1    624.0      NaN       NaN      NaN   \n",
      "2    745.0      NaN       NaN      NaN   \n",
      "3    745.0    998.0       NaN      NaN   \n",
      "4    740.0      NaN       NaN      NaN   \n",
      "\n",
      "                                   LOCATION Cross Street      LAT       LON  \n",
      "0   1100 W  39TH                         PL          NaN  34.0141 -118.2978  \n",
      "1    700 S  HILL                         ST          NaN  34.0459 -118.2545  \n",
      "2    700 E  73RD                         ST          NaN  33.9739 -118.2630  \n",
      "3   5400    CORTEEN                      PL          NaN  34.1685 -118.4019  \n",
      "4  14400    TITUS                        ST          NaN  34.2198 -118.4468  \n",
      "\n",
      "[5 rows x 28 columns]\n",
      "Crm Cd\n",
      "510    34216\n",
      "624    25965\n",
      "740    21179\n",
      "330    20378\n",
      "310    19954\n",
      "230    19341\n",
      "626    17368\n",
      "440    17289\n",
      "420    14525\n",
      "354    12615\n",
      "Name: count, dtype: int64\n"
     ]
    },
    {
     "data": {
      "text/plain": "            DR_NO               Date Rptd                DATE OCC  TIME OCC  \\\n0        10304468  01/08/2020 12:00:00 AM  01/08/2020 12:00:00 AM      2230   \n1       190101086  01/02/2020 12:00:00 AM  01/01/2020 12:00:00 AM       330   \n4       191921269  01/01/2020 12:00:00 AM  01/01/2020 12:00:00 AM       415   \n10      200100509  01/04/2020 12:00:00 AM  01/04/2020 12:00:00 AM      2200   \n15      201811813  05/28/2020 12:00:00 AM  05/25/2020 12:00:00 AM       200   \n...           ...                     ...                     ...       ...   \n317846  210404776  01/21/2021 12:00:00 AM  01/19/2021 12:00:00 AM      1600   \n317848  212110947  07/04/2021 12:00:00 AM  07/04/2021 12:00:00 AM      2135   \n317849  211208872  03/19/2021 12:00:00 AM  03/19/2021 12:00:00 AM      1105   \n317851  211710505  07/09/2021 12:00:00 AM  07/09/2021 12:00:00 AM      1050   \n317853  212005847  02/22/2021 12:00:00 AM  02/22/2021 12:00:00 AM      1200   \n\n        AREA    AREA NAME  Rpt Dist No  Part 1-2  Crm Cd  \\\n0          3    Southwest          377         2     624   \n1          1      Central          163         2     624   \n4         19      Mission         1998         2     740   \n10         1      Central          192         1     330   \n15        18    Southeast         1851         1     510   \n...      ...          ...          ...       ...     ...   \n317846     4   Hollenbeck          497         1     510   \n317848    21      Topanga         2143         2     624   \n317849    12  77th Street         1218         1     510   \n317851    17   Devonshire         1798         2     624   \n317853    20      Olympic         2034         1     510   \n\n                                              Crm Cd Desc  ... Status  \\\n0                                BATTERY - SIMPLE ASSAULT  ...     AO   \n1                                BATTERY - SIMPLE ASSAULT  ...     IC   \n4       VANDALISM - FELONY ($400 & OVER, ALL CHURCH VA...  ...     IC   \n10                                  BURGLARY FROM VEHICLE  ...     IC   \n15                                       VEHICLE - STOLEN  ...     IC   \n...                                                   ...  ...    ...   \n317846                                   VEHICLE - STOLEN  ...     IC   \n317848                           BATTERY - SIMPLE ASSAULT  ...     IC   \n317849                                   VEHICLE - STOLEN  ...     IC   \n317851                           BATTERY - SIMPLE ASSAULT  ...     IC   \n317853                                   VEHICLE - STOLEN  ...     IC   \n\n        Status Desc Crm Cd 1 Crm Cd 2  Crm Cd 3 Crm Cd 4  \\\n0       Adult Other    624.0      NaN       NaN      NaN   \n1       Invest Cont    624.0      NaN       NaN      NaN   \n4       Invest Cont    740.0      NaN       NaN      NaN   \n10      Invest Cont    330.0      NaN       NaN      NaN   \n15      Invest Cont    510.0      NaN       NaN      NaN   \n...             ...      ...      ...       ...      ...   \n317846  Invest Cont    510.0      NaN       NaN      NaN   \n317848  Invest Cont    624.0      NaN       NaN      NaN   \n317849  Invest Cont    510.0      NaN       NaN      NaN   \n317851  Invest Cont    624.0      NaN       NaN      NaN   \n317853  Invest Cont    510.0      NaN       NaN      NaN   \n\n                                        LOCATION  \\\n0        1100 W  39TH                         PL   \n1         700 S  HILL                         ST   \n4       14400    TITUS                        ST   \n10                                          15TH   \n15               MENLO                        AV   \n...                                          ...   \n317846   1400 S  DE LA TORRE                  WY   \n317848  23100    FRIAR                        ST   \n317849           58TH                         ST   \n317851   8800    DEMPSEY                      AV   \n317853   3300 W  8TH                          ST   \n\n                           Cross Street      LAT       LON  \n0                                   NaN  34.0141 -118.2978  \n1                                   NaN  34.0459 -118.2545  \n4                                   NaN  34.2198 -118.4468  \n10                                OLIVE  34.0359 -118.2648  \n15      130TH                        ST  33.9144 -118.2894  \n...                                 ...      ...       ...  \n317846                              NaN  34.0166 -118.2058  \n317848                              NaN  34.1855 -118.6296  \n317849  FIGUEROA                     ST  33.9897 -118.2827  \n317851                              NaN  34.2302 -118.4775  \n317853                              NaN  34.0596 -118.3022  \n\n[202830 rows x 28 columns]",
      "text/html": "<div>\n<style scoped>\n    .dataframe tbody tr th:only-of-type {\n        vertical-align: middle;\n    }\n\n    .dataframe tbody tr th {\n        vertical-align: top;\n    }\n\n    .dataframe thead th {\n        text-align: right;\n    }\n</style>\n<table border=\"1\" class=\"dataframe\">\n  <thead>\n    <tr style=\"text-align: right;\">\n      <th></th>\n      <th>DR_NO</th>\n      <th>Date Rptd</th>\n      <th>DATE OCC</th>\n      <th>TIME OCC</th>\n      <th>AREA</th>\n      <th>AREA NAME</th>\n      <th>Rpt Dist No</th>\n      <th>Part 1-2</th>\n      <th>Crm Cd</th>\n      <th>Crm Cd Desc</th>\n      <th>...</th>\n      <th>Status</th>\n      <th>Status Desc</th>\n      <th>Crm Cd 1</th>\n      <th>Crm Cd 2</th>\n      <th>Crm Cd 3</th>\n      <th>Crm Cd 4</th>\n      <th>LOCATION</th>\n      <th>Cross Street</th>\n      <th>LAT</th>\n      <th>LON</th>\n    </tr>\n  </thead>\n  <tbody>\n    <tr>\n      <th>0</th>\n      <td>10304468</td>\n      <td>01/08/2020 12:00:00 AM</td>\n      <td>01/08/2020 12:00:00 AM</td>\n      <td>2230</td>\n      <td>3</td>\n      <td>Southwest</td>\n      <td>377</td>\n      <td>2</td>\n      <td>624</td>\n      <td>BATTERY - SIMPLE ASSAULT</td>\n      <td>...</td>\n      <td>AO</td>\n      <td>Adult Other</td>\n      <td>624.0</td>\n      <td>NaN</td>\n      <td>NaN</td>\n      <td>NaN</td>\n      <td>1100 W  39TH                         PL</td>\n      <td>NaN</td>\n      <td>34.0141</td>\n      <td>-118.2978</td>\n    </tr>\n    <tr>\n      <th>1</th>\n      <td>190101086</td>\n      <td>01/02/2020 12:00:00 AM</td>\n      <td>01/01/2020 12:00:00 AM</td>\n      <td>330</td>\n      <td>1</td>\n      <td>Central</td>\n      <td>163</td>\n      <td>2</td>\n      <td>624</td>\n      <td>BATTERY - SIMPLE ASSAULT</td>\n      <td>...</td>\n      <td>IC</td>\n      <td>Invest Cont</td>\n      <td>624.0</td>\n      <td>NaN</td>\n      <td>NaN</td>\n      <td>NaN</td>\n      <td>700 S  HILL                         ST</td>\n      <td>NaN</td>\n      <td>34.0459</td>\n      <td>-118.2545</td>\n    </tr>\n    <tr>\n      <th>4</th>\n      <td>191921269</td>\n      <td>01/01/2020 12:00:00 AM</td>\n      <td>01/01/2020 12:00:00 AM</td>\n      <td>415</td>\n      <td>19</td>\n      <td>Mission</td>\n      <td>1998</td>\n      <td>2</td>\n      <td>740</td>\n      <td>VANDALISM - FELONY ($400 &amp; OVER, ALL CHURCH VA...</td>\n      <td>...</td>\n      <td>IC</td>\n      <td>Invest Cont</td>\n      <td>740.0</td>\n      <td>NaN</td>\n      <td>NaN</td>\n      <td>NaN</td>\n      <td>14400    TITUS                        ST</td>\n      <td>NaN</td>\n      <td>34.2198</td>\n      <td>-118.4468</td>\n    </tr>\n    <tr>\n      <th>10</th>\n      <td>200100509</td>\n      <td>01/04/2020 12:00:00 AM</td>\n      <td>01/04/2020 12:00:00 AM</td>\n      <td>2200</td>\n      <td>1</td>\n      <td>Central</td>\n      <td>192</td>\n      <td>1</td>\n      <td>330</td>\n      <td>BURGLARY FROM VEHICLE</td>\n      <td>...</td>\n      <td>IC</td>\n      <td>Invest Cont</td>\n      <td>330.0</td>\n      <td>NaN</td>\n      <td>NaN</td>\n      <td>NaN</td>\n      <td>15TH</td>\n      <td>OLIVE</td>\n      <td>34.0359</td>\n      <td>-118.2648</td>\n    </tr>\n    <tr>\n      <th>15</th>\n      <td>201811813</td>\n      <td>05/28/2020 12:00:00 AM</td>\n      <td>05/25/2020 12:00:00 AM</td>\n      <td>200</td>\n      <td>18</td>\n      <td>Southeast</td>\n      <td>1851</td>\n      <td>1</td>\n      <td>510</td>\n      <td>VEHICLE - STOLEN</td>\n      <td>...</td>\n      <td>IC</td>\n      <td>Invest Cont</td>\n      <td>510.0</td>\n      <td>NaN</td>\n      <td>NaN</td>\n      <td>NaN</td>\n      <td>MENLO                        AV</td>\n      <td>130TH                        ST</td>\n      <td>33.9144</td>\n      <td>-118.2894</td>\n    </tr>\n    <tr>\n      <th>...</th>\n      <td>...</td>\n      <td>...</td>\n      <td>...</td>\n      <td>...</td>\n      <td>...</td>\n      <td>...</td>\n      <td>...</td>\n      <td>...</td>\n      <td>...</td>\n      <td>...</td>\n      <td>...</td>\n      <td>...</td>\n      <td>...</td>\n      <td>...</td>\n      <td>...</td>\n      <td>...</td>\n      <td>...</td>\n      <td>...</td>\n      <td>...</td>\n      <td>...</td>\n      <td>...</td>\n    </tr>\n    <tr>\n      <th>317846</th>\n      <td>210404776</td>\n      <td>01/21/2021 12:00:00 AM</td>\n      <td>01/19/2021 12:00:00 AM</td>\n      <td>1600</td>\n      <td>4</td>\n      <td>Hollenbeck</td>\n      <td>497</td>\n      <td>1</td>\n      <td>510</td>\n      <td>VEHICLE - STOLEN</td>\n      <td>...</td>\n      <td>IC</td>\n      <td>Invest Cont</td>\n      <td>510.0</td>\n      <td>NaN</td>\n      <td>NaN</td>\n      <td>NaN</td>\n      <td>1400 S  DE LA TORRE                  WY</td>\n      <td>NaN</td>\n      <td>34.0166</td>\n      <td>-118.2058</td>\n    </tr>\n    <tr>\n      <th>317848</th>\n      <td>212110947</td>\n      <td>07/04/2021 12:00:00 AM</td>\n      <td>07/04/2021 12:00:00 AM</td>\n      <td>2135</td>\n      <td>21</td>\n      <td>Topanga</td>\n      <td>2143</td>\n      <td>2</td>\n      <td>624</td>\n      <td>BATTERY - SIMPLE ASSAULT</td>\n      <td>...</td>\n      <td>IC</td>\n      <td>Invest Cont</td>\n      <td>624.0</td>\n      <td>NaN</td>\n      <td>NaN</td>\n      <td>NaN</td>\n      <td>23100    FRIAR                        ST</td>\n      <td>NaN</td>\n      <td>34.1855</td>\n      <td>-118.6296</td>\n    </tr>\n    <tr>\n      <th>317849</th>\n      <td>211208872</td>\n      <td>03/19/2021 12:00:00 AM</td>\n      <td>03/19/2021 12:00:00 AM</td>\n      <td>1105</td>\n      <td>12</td>\n      <td>77th Street</td>\n      <td>1218</td>\n      <td>1</td>\n      <td>510</td>\n      <td>VEHICLE - STOLEN</td>\n      <td>...</td>\n      <td>IC</td>\n      <td>Invest Cont</td>\n      <td>510.0</td>\n      <td>NaN</td>\n      <td>NaN</td>\n      <td>NaN</td>\n      <td>58TH                         ST</td>\n      <td>FIGUEROA                     ST</td>\n      <td>33.9897</td>\n      <td>-118.2827</td>\n    </tr>\n    <tr>\n      <th>317851</th>\n      <td>211710505</td>\n      <td>07/09/2021 12:00:00 AM</td>\n      <td>07/09/2021 12:00:00 AM</td>\n      <td>1050</td>\n      <td>17</td>\n      <td>Devonshire</td>\n      <td>1798</td>\n      <td>2</td>\n      <td>624</td>\n      <td>BATTERY - SIMPLE ASSAULT</td>\n      <td>...</td>\n      <td>IC</td>\n      <td>Invest Cont</td>\n      <td>624.0</td>\n      <td>NaN</td>\n      <td>NaN</td>\n      <td>NaN</td>\n      <td>8800    DEMPSEY                      AV</td>\n      <td>NaN</td>\n      <td>34.2302</td>\n      <td>-118.4775</td>\n    </tr>\n    <tr>\n      <th>317853</th>\n      <td>212005847</td>\n      <td>02/22/2021 12:00:00 AM</td>\n      <td>02/22/2021 12:00:00 AM</td>\n      <td>1200</td>\n      <td>20</td>\n      <td>Olympic</td>\n      <td>2034</td>\n      <td>1</td>\n      <td>510</td>\n      <td>VEHICLE - STOLEN</td>\n      <td>...</td>\n      <td>IC</td>\n      <td>Invest Cont</td>\n      <td>510.0</td>\n      <td>NaN</td>\n      <td>NaN</td>\n      <td>NaN</td>\n      <td>3300 W  8TH                          ST</td>\n      <td>NaN</td>\n      <td>34.0596</td>\n      <td>-118.3022</td>\n    </tr>\n  </tbody>\n</table>\n<p>202830 rows × 28 columns</p>\n</div>"
     },
     "execution_count": 5,
     "metadata": {},
     "output_type": "execute_result"
    }
   ],
   "source": [
    "import sys\n",
    "import pandas as pd\n",
    "import matplotlib.pyplot as plt\n",
    "import numpy as np\n",
    "import datetime\n",
    "\n",
    "original_crime_df = pd.read_csv(\"/Users/mayur/Desktop/ALDA Project/Crime_Data_from_2020_to_Present 2.csv\")\n",
    "print(original_crime_df.head())\n",
    "print(original_crime_df['Crm Cd'].value_counts()[:10])\n",
    "new_dataset = original_crime_df[original_crime_df[\"Crm Cd\"].isin([510,624,740,330,310,230,626,440,420,354]) ]\n",
    "new_dataset"
   ]
  },
  {
   "cell_type": "code",
   "execution_count": 4,
   "outputs": [
    {
     "name": "stderr",
     "output_type": "stream",
     "text": [
      "/var/folders/8t/cg46ygc52xq8ts0rysyjhfn40000gn/T/ipykernel_2094/1813428587.py:1: UserWarning: Could not infer format, so each element will be parsed individually, falling back to `dateutil`. To ensure parsing is consistent and as-expected, please specify a format.\n",
      "  new_dataset['Date Rptd'] = pd.to_datetime(original_crime_df['Date Rptd'])\n",
      "/var/folders/8t/cg46ygc52xq8ts0rysyjhfn40000gn/T/ipykernel_2094/1813428587.py:1: SettingWithCopyWarning: \n",
      "A value is trying to be set on a copy of a slice from a DataFrame.\n",
      "Try using .loc[row_indexer,col_indexer] = value instead\n",
      "\n",
      "See the caveats in the documentation: https://pandas.pydata.org/pandas-docs/stable/user_guide/indexing.html#returning-a-view-versus-a-copy\n",
      "  new_dataset['Date Rptd'] = pd.to_datetime(original_crime_df['Date Rptd'])\n",
      "/var/folders/8t/cg46ygc52xq8ts0rysyjhfn40000gn/T/ipykernel_2094/1813428587.py:2: UserWarning: Could not infer format, so each element will be parsed individually, falling back to `dateutil`. To ensure parsing is consistent and as-expected, please specify a format.\n",
      "  new_dataset['DATE OCC'] = pd.to_datetime(original_crime_df['DATE OCC'])\n",
      "/var/folders/8t/cg46ygc52xq8ts0rysyjhfn40000gn/T/ipykernel_2094/1813428587.py:2: SettingWithCopyWarning: \n",
      "A value is trying to be set on a copy of a slice from a DataFrame.\n",
      "Try using .loc[row_indexer,col_indexer] = value instead\n",
      "\n",
      "See the caveats in the documentation: https://pandas.pydata.org/pandas-docs/stable/user_guide/indexing.html#returning-a-view-versus-a-copy\n",
      "  new_dataset['DATE OCC'] = pd.to_datetime(original_crime_df['DATE OCC'])\n"
     ]
    },
    {
     "ename": "KeyError",
     "evalue": "'DATE OCC'",
     "output_type": "error",
     "traceback": [
      "\u001B[0;31m---------------------------------------------------------------------------\u001B[0m",
      "\u001B[0;31mKeyError\u001B[0m                                  Traceback (most recent call last)",
      "File \u001B[0;32m~/anaconda3/lib/python3.10/site-packages/pandas/core/indexes/base.py:3790\u001B[0m, in \u001B[0;36mIndex.get_loc\u001B[0;34m(self, key)\u001B[0m\n\u001B[1;32m   3789\u001B[0m \u001B[38;5;28;01mtry\u001B[39;00m:\n\u001B[0;32m-> 3790\u001B[0m     \u001B[38;5;28;01mreturn\u001B[39;00m \u001B[38;5;28;43mself\u001B[39;49m\u001B[38;5;241;43m.\u001B[39;49m\u001B[43m_engine\u001B[49m\u001B[38;5;241;43m.\u001B[39;49m\u001B[43mget_loc\u001B[49m\u001B[43m(\u001B[49m\u001B[43mcasted_key\u001B[49m\u001B[43m)\u001B[49m\n\u001B[1;32m   3791\u001B[0m \u001B[38;5;28;01mexcept\u001B[39;00m \u001B[38;5;167;01mKeyError\u001B[39;00m \u001B[38;5;28;01mas\u001B[39;00m err:\n",
      "File \u001B[0;32mindex.pyx:152\u001B[0m, in \u001B[0;36mpandas._libs.index.IndexEngine.get_loc\u001B[0;34m()\u001B[0m\n",
      "File \u001B[0;32mindex.pyx:160\u001B[0m, in \u001B[0;36mpandas._libs.index.IndexEngine.get_loc\u001B[0;34m()\u001B[0m\n",
      "File \u001B[0;32mpandas/_libs/index_class_helper.pxi:70\u001B[0m, in \u001B[0;36mpandas._libs.index.Int64Engine._check_type\u001B[0;34m()\u001B[0m\n",
      "\u001B[0;31mKeyError\u001B[0m: 'DATE OCC'",
      "\nThe above exception was the direct cause of the following exception:\n",
      "\u001B[0;31mKeyError\u001B[0m                                  Traceback (most recent call last)",
      "Cell \u001B[0;32mIn[4], line 6\u001B[0m\n\u001B[1;32m      2\u001B[0m new_dataset[\u001B[38;5;124m'\u001B[39m\u001B[38;5;124mDATE OCC\u001B[39m\u001B[38;5;124m'\u001B[39m] \u001B[38;5;241m=\u001B[39m pd\u001B[38;5;241m.\u001B[39mto_datetime(original_crime_df[\u001B[38;5;124m'\u001B[39m\u001B[38;5;124mDATE OCC\u001B[39m\u001B[38;5;124m'\u001B[39m])\n\u001B[1;32m      5\u001B[0m new_dataset\u001B[38;5;241m=\u001B[39mnew_dataset\u001B[38;5;241m.\u001B[39mgroupby(\u001B[38;5;124m'\u001B[39m\u001B[38;5;124mCrm Cd\u001B[39m\u001B[38;5;124m'\u001B[39m)[\u001B[38;5;124m'\u001B[39m\u001B[38;5;124mCrm Cd\u001B[39m\u001B[38;5;124m'\u001B[39m]\u001B[38;5;241m.\u001B[39mnunique()\n\u001B[0;32m----> 6\u001B[0m \u001B[43mnew_dataset\u001B[49m\u001B[43m[\u001B[49m\u001B[38;5;124;43m'\u001B[39;49m\u001B[38;5;124;43mDATE OCC\u001B[39;49m\u001B[38;5;124;43m'\u001B[39;49m\u001B[43m]\u001B[49m\u001B[38;5;241m.\u001B[39munique()\n",
      "File \u001B[0;32m~/anaconda3/lib/python3.10/site-packages/pandas/core/series.py:1040\u001B[0m, in \u001B[0;36mSeries.__getitem__\u001B[0;34m(self, key)\u001B[0m\n\u001B[1;32m   1037\u001B[0m     \u001B[38;5;28;01mreturn\u001B[39;00m \u001B[38;5;28mself\u001B[39m\u001B[38;5;241m.\u001B[39m_values[key]\n\u001B[1;32m   1039\u001B[0m \u001B[38;5;28;01melif\u001B[39;00m key_is_scalar:\n\u001B[0;32m-> 1040\u001B[0m     \u001B[38;5;28;01mreturn\u001B[39;00m \u001B[38;5;28;43mself\u001B[39;49m\u001B[38;5;241;43m.\u001B[39;49m\u001B[43m_get_value\u001B[49m\u001B[43m(\u001B[49m\u001B[43mkey\u001B[49m\u001B[43m)\u001B[49m\n\u001B[1;32m   1042\u001B[0m \u001B[38;5;66;03m# Convert generator to list before going through hashable part\u001B[39;00m\n\u001B[1;32m   1043\u001B[0m \u001B[38;5;66;03m# (We will iterate through the generator there to check for slices)\u001B[39;00m\n\u001B[1;32m   1044\u001B[0m \u001B[38;5;28;01mif\u001B[39;00m is_iterator(key):\n",
      "File \u001B[0;32m~/anaconda3/lib/python3.10/site-packages/pandas/core/series.py:1156\u001B[0m, in \u001B[0;36mSeries._get_value\u001B[0;34m(self, label, takeable)\u001B[0m\n\u001B[1;32m   1153\u001B[0m     \u001B[38;5;28;01mreturn\u001B[39;00m \u001B[38;5;28mself\u001B[39m\u001B[38;5;241m.\u001B[39m_values[label]\n\u001B[1;32m   1155\u001B[0m \u001B[38;5;66;03m# Similar to Index.get_value, but we do not fall back to positional\u001B[39;00m\n\u001B[0;32m-> 1156\u001B[0m loc \u001B[38;5;241m=\u001B[39m \u001B[38;5;28;43mself\u001B[39;49m\u001B[38;5;241;43m.\u001B[39;49m\u001B[43mindex\u001B[49m\u001B[38;5;241;43m.\u001B[39;49m\u001B[43mget_loc\u001B[49m\u001B[43m(\u001B[49m\u001B[43mlabel\u001B[49m\u001B[43m)\u001B[49m\n\u001B[1;32m   1158\u001B[0m \u001B[38;5;28;01mif\u001B[39;00m is_integer(loc):\n\u001B[1;32m   1159\u001B[0m     \u001B[38;5;28;01mreturn\u001B[39;00m \u001B[38;5;28mself\u001B[39m\u001B[38;5;241m.\u001B[39m_values[loc]\n",
      "File \u001B[0;32m~/anaconda3/lib/python3.10/site-packages/pandas/core/indexes/base.py:3797\u001B[0m, in \u001B[0;36mIndex.get_loc\u001B[0;34m(self, key)\u001B[0m\n\u001B[1;32m   3792\u001B[0m     \u001B[38;5;28;01mif\u001B[39;00m \u001B[38;5;28misinstance\u001B[39m(casted_key, \u001B[38;5;28mslice\u001B[39m) \u001B[38;5;129;01mor\u001B[39;00m (\n\u001B[1;32m   3793\u001B[0m         \u001B[38;5;28misinstance\u001B[39m(casted_key, abc\u001B[38;5;241m.\u001B[39mIterable)\n\u001B[1;32m   3794\u001B[0m         \u001B[38;5;129;01mand\u001B[39;00m \u001B[38;5;28many\u001B[39m(\u001B[38;5;28misinstance\u001B[39m(x, \u001B[38;5;28mslice\u001B[39m) \u001B[38;5;28;01mfor\u001B[39;00m x \u001B[38;5;129;01min\u001B[39;00m casted_key)\n\u001B[1;32m   3795\u001B[0m     ):\n\u001B[1;32m   3796\u001B[0m         \u001B[38;5;28;01mraise\u001B[39;00m InvalidIndexError(key)\n\u001B[0;32m-> 3797\u001B[0m     \u001B[38;5;28;01mraise\u001B[39;00m \u001B[38;5;167;01mKeyError\u001B[39;00m(key) \u001B[38;5;28;01mfrom\u001B[39;00m \u001B[38;5;21;01merr\u001B[39;00m\n\u001B[1;32m   3798\u001B[0m \u001B[38;5;28;01mexcept\u001B[39;00m \u001B[38;5;167;01mTypeError\u001B[39;00m:\n\u001B[1;32m   3799\u001B[0m     \u001B[38;5;66;03m# If we have a listlike key, _check_indexing_error will raise\u001B[39;00m\n\u001B[1;32m   3800\u001B[0m     \u001B[38;5;66;03m#  InvalidIndexError. Otherwise we fall through and re-raise\u001B[39;00m\n\u001B[1;32m   3801\u001B[0m     \u001B[38;5;66;03m#  the TypeError.\u001B[39;00m\n\u001B[1;32m   3802\u001B[0m     \u001B[38;5;28mself\u001B[39m\u001B[38;5;241m.\u001B[39m_check_indexing_error(key)\n",
      "\u001B[0;31mKeyError\u001B[0m: 'DATE OCC'"
     ]
    }
   ],
   "source": [
    "new_dataset['Date Rptd'] = pd.to_datetime(original_crime_df['Date Rptd'])\n",
    "new_dataset['DATE OCC'] = pd.to_datetime(original_crime_df['DATE OCC'])\n",
    "\n",
    "\n",
    "new_dataset=new_dataset.groupby('Crm Cd')['Crm Cd'].nunique()\n",
    "new_dataset['DATE OCC'].unique()"
   ],
   "metadata": {
    "collapsed": false,
    "ExecuteTime": {
     "start_time": "2023-10-18T15:28:39.038809Z",
     "end_time": "2023-10-18T15:28:39.164446Z"
    }
   }
  },
  {
   "cell_type": "code",
   "execution_count": 4,
   "outputs": [],
   "source": [],
   "metadata": {
    "collapsed": false,
    "ExecuteTime": {
     "start_time": "2023-11-24T22:55:12.391320Z",
     "end_time": "2023-11-24T22:55:12.398810Z"
    }
   }
  },
  {
   "cell_type": "code",
   "execution_count": 2,
   "outputs": [
    {
     "name": "stderr",
     "output_type": "stream",
     "text": [
      "/var/folders/8t/cg46ygc52xq8ts0rysyjhfn40000gn/T/ipykernel_2094/559986222.py:1: UserWarning: Could not infer format, so each element will be parsed individually, falling back to `dateutil`. To ensure parsing is consistent and as-expected, please specify a format.\n",
      "  new_dataset['DATE OCC'] = pd.to_datetime(new_dataset['DATE OCC']) - pd.to_timedelta(7, unit='d')\n",
      "/var/folders/8t/cg46ygc52xq8ts0rysyjhfn40000gn/T/ipykernel_2094/559986222.py:1: SettingWithCopyWarning: \n",
      "A value is trying to be set on a copy of a slice from a DataFrame.\n",
      "Try using .loc[row_indexer,col_indexer] = value instead\n",
      "\n",
      "See the caveats in the documentation: https://pandas.pydata.org/pandas-docs/stable/user_guide/indexing.html#returning-a-view-versus-a-copy\n",
      "  new_dataset['DATE OCC'] = pd.to_datetime(new_dataset['DATE OCC']) - pd.to_timedelta(7, unit='d')\n"
     ]
    }
   ],
   "source": [
    "new_dataset['DATE OCC'] = pd.to_datetime(new_dataset['DATE OCC']) - pd.to_timedelta(7, unit='d')\n",
    "\n",
    "#calculate sum of values, grouped by week\n",
    "latest = new_dataset.groupby([pd.Grouper(key='DATE OCC', freq='W')])['Crm Cd'].value_counts()\n"
   ],
   "metadata": {
    "collapsed": false,
    "ExecuteTime": {
     "start_time": "2023-11-24T22:55:04.532171Z",
     "end_time": "2023-11-24T22:55:04.794146Z"
    }
   }
  },
  {
   "cell_type": "code",
   "execution_count": null,
   "outputs": [],
   "source": [],
   "metadata": {
    "collapsed": false
   }
  }
 ],
 "metadata": {
  "kernelspec": {
   "display_name": "Python 3",
   "language": "python",
   "name": "python3"
  },
  "language_info": {
   "codemirror_mode": {
    "name": "ipython",
    "version": 2
   },
   "file_extension": ".py",
   "mimetype": "text/x-python",
   "name": "python",
   "nbconvert_exporter": "python",
   "pygments_lexer": "ipython2",
   "version": "2.7.6"
  }
 },
 "nbformat": 4,
 "nbformat_minor": 0
}
